{
 "cells": [
  {
   "cell_type": "markdown",
   "metadata": {
    "slideshow": {
     "slide_type": "slide"
    }
   },
   "source": [
    "![Qiskit](https://github.com/Qiskit/qiskit-tutorials/raw/115c78962dda85bac29d679063b7d0d0ab1d1ab4/images/qiskit-heading.gif)"
   ]
  },
  {
   "cell_type": "markdown",
   "metadata": {
    "slideshow": {
     "slide_type": "-"
    }
   },
   "source": [
    "# Qiskit Bootcamp Parts III & IV: Aqua, Optimization, Machine Learning, and Chemistry\n",
    "\n",
    "donny@ibm.com"
   ]
  },
  {
   "cell_type": "markdown",
   "metadata": {
    "slideshow": {
     "slide_type": "slide"
    }
   },
   "source": [
    "# Gameplan\n",
    "\n",
    "* Overview and basics\n",
    "  * What is Aqua?\n",
    "  * Structural Elements\n",
    "  * Control flow\n",
    "  * Interfaces\n",
    "* Detailed component overview\n",
    "* Tips and Tricks\n",
    "* Learning more"
   ]
  },
  {
   "cell_type": "markdown",
   "metadata": {
    "slideshow": {
     "slide_type": "slide"
    }
   },
   "source": [
    "But first, install Aqua:"
   ]
  },
  {
   "cell_type": "code",
   "execution_count": 1,
   "metadata": {
    "slideshow": {
     "slide_type": "fragment"
    }
   },
   "outputs": [],
   "source": [
    "#!pip install qiskit-aqua"
   ]
  },
  {
   "cell_type": "code",
   "execution_count": 2,
   "metadata": {},
   "outputs": [],
   "source": [
    "import warnings\n",
    "warnings.filterwarnings(action='once')"
   ]
  },
  {
   "cell_type": "markdown",
   "metadata": {
    "slideshow": {
     "slide_type": "slide"
    }
   },
   "source": [
    "# Part III: Constructing and Executing Quantum Algorithms with Aqua"
   ]
  },
  {
   "cell_type": "markdown",
   "metadata": {
    "slideshow": {
     "slide_type": "slide"
    }
   },
   "source": [
    "# What is Aqua?\n",
    "\n",
    "Aqua is:\n",
    "* An easy to use library for running many different quantum algorithms\n",
    "* A collection of reusable components which can be mixed and matched in different algorithms\n",
    "\n",
    "Aqua is very practically driven\n",
    "* We have real chemists and clients who are trying to get things done\n",
    "* It is exactly what you’d expect to spring out of rapid practical need… it is very function-driven and evolves rapidly\n",
    "* The guts are not so inviting in some places because it is engineered and optimized to the nines\n",
    "* If you need to do something, there is a good chance someone already put it in Aqua or should\n",
    "  * **Please submit feature requests!**\n",
    "\n",
    "Aqua is built to be highly extensible and have a diversity of available interfaces:\n",
    "* Declarative: Creating a QuantumAlgorithm object in python with a config dict and calling run()\n",
    "* Objective: Constructing QuantumAlgorithm and component objects manually\n",
    "* Aqua GUI\n",
    "* Command line interface\n"
   ]
  },
  {
   "cell_type": "markdown",
   "metadata": {
    "slideshow": {
     "slide_type": "slide"
    }
   },
   "source": [
    "# Plug and play components, not a circuit library\n",
    "\n",
    "Keep in mind:\n",
    "\n",
    "Aqua organizes reusable components into buckets, elements of which can be substituted for one another:\n",
    "* Algorithms\n",
    "* Variational forms\n",
    "* Optimizers\n",
    "* Other smaller buckets (translators, QFTs, oracles, feature maps)\n",
    "\n",
    "It is not so much an “I give you parameters, you give me back a circuit” library, because in nearly all cases, running an algorithm is much more than executing a single circuit (e.g. VQE, q-kernel SVM, etc.)\n",
    "\n",
    "It’s not even so much about “give me x component,” it’s more “execute this algorithm, with this set of components,” allowing you to mix and match or add your own components\n",
    "\n",
    "There are many tests, which give good examples of execution modes and components, as well as tutorials in the qiskit-tutorials repo\n",
    "\n",
    "Get an IDE (Pycharm is good!) and step through the code!\n"
   ]
  },
  {
   "cell_type": "markdown",
   "metadata": {
    "slideshow": {
     "slide_type": "slide"
    }
   },
   "source": [
    "# Structural Elements\n",
    "\n",
    "It is easy to see Aqua as being composed of roughly four high-level elements:\n",
    "* Algorithms - the control flow and logic in generally well contained inside the algorithm class file. \n",
    "* Interfaces - Aqua is meant to be highly accessible, so it has a lot of infrascructure to allow the graphical or JSON interfaces to be almost equally accessible as coding against the library directly (no small feat!)\n",
    "   * JSON definitions and declarative interfaces are dispersed throughout\n",
    "   * The UI and CLI are in the top level Aqua directory\n",
    "* Components - These are objects which are shared by several algorithms, as mentioned above.\n",
    "* Utilities - Aqua has many useful modules and helper classes that an algorithm and application developer might want. Examples include the [operator class](https://github.com/Qiskit/aqua/blob/master/qiskit_aqua/operator.py), [random matrix generator](https://github.com/Qiskit/aqua/blob/master/qiskit_aqua/utils/random_matrix_generator.py), [cnx](https://github.com/Qiskit/aqua/blob/master/qiskit_aqua/utils/cnx.py), [run_circutis.py](https://github.com/Qiskit/aqua/blob/master/qiskit_aqua/utils/run_circuits.py), and much more."
   ]
  },
  {
   "cell_type": "markdown",
   "metadata": {
    "slideshow": {
     "slide_type": "slide"
    }
   },
   "source": [
    "# The Maxcut problem\n",
    "\n",
    "Today, we're going to focus on a combinatorial optimization problem called **Maxcut**, which is solved by dividing the nodes of a weighted graph into two groups such that the egdes between the two groups carry the most possible weight. There's an [excellent notebook](https://github.com/Qiskit/qiskit-tutorial/blob/master/qiskit/aqua/optimization/maxcut_and_tsp.ipynb) 📒 by Mezzacapo et al that goes into the problem in more detail, which I highly recommend. For our purposes, reviewing solution paths is a more important use of our time, and we will not be spending much time on the translation between the graph problem and the qubit operator."
   ]
  },
  {
   "cell_type": "markdown",
   "metadata": {
    "slideshow": {
     "slide_type": "fragment"
    }
   },
   "source": [
    "Our solution path starts like this - we represent each node on the graph by a qubit, and the 0 or 1 state of the qubit represents which of the two groups each node occupies in a possible solution. Binary strings are possible solutions, describing how to divide the nodes into |0> group and |1> group. We can take the weights of the graph and turn them into a cost matrix on the vector space of these strings, such that this cost matrix represents an Ising hamiltonian whose minimum eignestate is our optimal solution."
   ]
  },
  {
   "cell_type": "markdown",
   "metadata": {
    "slideshow": {
     "slide_type": "slide"
    }
   },
   "source": [
    "Let's begin with a weight matrix w, representing the weights between edges of the graph. To make it easier to follow along with the above mentioned notebook, we'll use the same cost matrix."
   ]
  },
  {
   "cell_type": "code",
   "execution_count": 5,
   "metadata": {
    "slideshow": {
     "slide_type": "fragment"
    }
   },
   "outputs": [],
   "source": [
    "import numpy as np\n",
    "from qiskit.tools.visualization import plot_histogram\n",
    "from qiskit.aqua import Operator, run_algorithm\n",
    "from qiskit.aqua.translators.ising import maxcut\n",
    "from qiskit.aqua.input import EnergyInput\n",
    "\n",
    "# setup aqua logging\n",
    "import logging\n",
    "from qiskit.aqua._logging import set_logging_config, build_logging_config"
   ]
  },
  {
   "cell_type": "code",
   "execution_count": 6,
   "metadata": {
    "slideshow": {
     "slide_type": "fragment"
    }
   },
   "outputs": [],
   "source": [
    "w = np.array([[0., 1., 1., 1.,],\n",
    " [1., 0., 1., 0.,],\n",
    " [1., 1., 0., 1.,],\n",
    " [1., 0., 1., 0.,]])\n",
    "\n",
    "qubitOp, offset = maxcut.get_maxcut_qubitops(w)\n",
    "algo_input = EnergyInput(qubitOp)"
   ]
  },
  {
   "cell_type": "code",
   "execution_count": 7,
   "metadata": {
    "slideshow": {
     "slide_type": "fragment"
    }
   },
   "outputs": [
    {
     "name": "stdout",
     "output_type": "stream",
     "text": [
      "[[0.5, Pauli(z=[True, True, False, False], x=[False, False, False, False])], [0.5, Pauli(z=[True, False, True, False], x=[False, False, False, False])], [0.5, Pauli(z=[False, True, True, False], x=[False, False, False, False])], [0.5, Pauli(z=[True, False, False, True], x=[False, False, False, False])], [0.5, Pauli(z=[False, False, True, True], x=[False, False, False, False])]]\n"
     ]
    }
   ],
   "source": [
    "print(qubitOp.paulis)"
   ]
  },
  {
   "cell_type": "code",
   "execution_count": 8,
   "metadata": {},
   "outputs": [
    {
     "name": "stdout",
     "output_type": "stream",
     "text": [
      "[ 2.5 -0.5  0.5 -0.5 -0.5 -1.5 -0.5  0.5  0.5 -0.5 -1.5 -0.5 -0.5  0.5\n",
      " -0.5  2.5]\n"
     ]
    }
   ],
   "source": [
    "qubitOp.to_matrix()\n",
    "print(qubitOp.matrix)\n",
    "# Note, these are the diagonal elements"
   ]
  },
  {
   "cell_type": "markdown",
   "metadata": {},
   "source": [
    "For simplicity, we'll be using the declarative interface to Aqua today, which is accessed via a configuration dictionary."
   ]
  },
  {
   "cell_type": "code",
   "execution_count": 10,
   "metadata": {
    "slideshow": {
     "slide_type": "slide"
    }
   },
   "outputs": [
    {
     "name": "stdout",
     "output_type": "stream",
     "text": [
      "energy: -1.4999726515373513\n",
      "time: 5.688199758529663\n",
      "maxcut objective: -3.9999726515373513\n",
      "solution: [1. 0. 1. 0.]\n",
      "solution objective: 4.0\n"
     ]
    },
    {
     "data": {
      "text/plain": [
       "array([1., 0., 1., 0.])"
      ]
     },
     "execution_count": 10,
     "metadata": {},
     "output_type": "execute_result"
    }
   ],
   "source": [
    "aqua_dict = {\n",
    "    'problem': {'name': 'ising', 'random_seed': 10598},\n",
    "    'algorithm': {'name': 'VQE','operator_mode': 'matrix'},\n",
    "    'optimizer': {'name': 'SPSA','max_trials': 300},\n",
    "    'variational_form': {'name': 'RY','depth': 5,'entanglement': 'linear'},\n",
    "    'backend': {'name': 'statevector_simulator'}\n",
    "}\n",
    "\n",
    "result = run_algorithm(aqua_dict, algo_input)\n",
    "\n",
    "x = maxcut.sample_most_likely(result['eigvecs'][0])\n",
    "print('energy:', result['energy'])\n",
    "print('time:', result['eval_time'])\n",
    "print('maxcut objective:', result['energy'] + offset)\n",
    "print('solution:', maxcut.get_graph_solution(x))\n",
    "print('solution objective:', maxcut.maxcut_value(x, w))\n",
    "\n",
    "sol = maxcut.get_graph_solution(x)\n",
    "sol"
   ]
  },
  {
   "cell_type": "markdown",
   "metadata": {
    "slideshow": {
     "slide_type": "slide"
    }
   },
   "source": [
    "Now, let's try a new optimizer. This is a big part of the power of Aqua. The Aqua team spends time making the components broadly compatable, so experimentation is cheap and easy."
   ]
  },
  {
   "cell_type": "code",
   "execution_count": 11,
   "metadata": {
    "slideshow": {
     "slide_type": "fragment"
    }
   },
   "outputs": [
    {
     "name": "stdout",
     "output_type": "stream",
     "text": [
      "energy: -1.49999997646803\n",
      "time: 2.791951894760132\n",
      "maxcut objective: -3.99999997646803\n",
      "solution: [1. 0. 1. 0.]\n",
      "solution objective: 4.0\n"
     ]
    },
    {
     "data": {
      "text/plain": [
       "array([1., 0., 1., 0.])"
      ]
     },
     "execution_count": 11,
     "metadata": {},
     "output_type": "execute_result"
    }
   ],
   "source": [
    "aqua_dict = {\n",
    "    'problem': {'name': 'ising', 'random_seed': 10598},\n",
    "    'algorithm': {'name': 'VQE','operator_mode': 'matrix'},\n",
    "    'optimizer': {'name': 'SLSQP'},\n",
    "    'variational_form': {'name': 'RY','depth': 5,'entanglement': 'linear'},\n",
    "    'backend': {'name': 'statevector_simulator'}\n",
    "}\n",
    "\n",
    "result = run_algorithm(aqua_dict, algo_input)\n",
    "\n",
    "x = maxcut.sample_most_likely(result['eigvecs'][0])\n",
    "print('energy:', result['energy'])\n",
    "print('time:', result['eval_time'])\n",
    "print('maxcut objective:', result['energy'] + offset)\n",
    "print('solution:', maxcut.get_graph_solution(x))\n",
    "print('solution objective:', maxcut.maxcut_value(x, w))\n",
    "\n",
    "sol = maxcut.get_graph_solution(x)\n",
    "sol"
   ]
  },
  {
   "cell_type": "markdown",
   "metadata": {
    "slideshow": {
     "slide_type": "fragment"
    }
   },
   "source": [
    "Empirical notes on optimizers:\n",
    "* COBYLA is a generally good global optimizer, especially in situations when you do not have a good starting point\n",
    "* SLSQP is very good when you have a good starting point, and the error surface can be approximated in small cavities by quadratic functions\n",
    "* SPSA is generally resilient to noise, so almost always the first choise for running on the hardware or noisy simulations"
   ]
  },
  {
   "cell_type": "markdown",
   "metadata": {
    "slideshow": {
     "slide_type": "slide"
    }
   },
   "source": [
    "Now let's try a new variational form:"
   ]
  },
  {
   "cell_type": "code",
   "execution_count": 12,
   "metadata": {
    "slideshow": {
     "slide_type": "fragment"
    }
   },
   "outputs": [
    {
     "name": "stdout",
     "output_type": "stream",
     "text": [
      "energy: -1.4999952980825784\n",
      "time: 22.096724033355713\n",
      "maxcut objective: -3.9999952980825784\n",
      "solution: [1. 0. 1. 0.]\n",
      "solution objective: 4.0\n"
     ]
    },
    {
     "data": {
      "text/plain": [
       "array([1., 0., 1., 0.])"
      ]
     },
     "execution_count": 12,
     "metadata": {},
     "output_type": "execute_result"
    }
   ],
   "source": [
    "aqua_dict = {\n",
    "    'problem': {'name': 'ising', 'random_seed': 10598},\n",
    "    'algorithm': {'name': 'VQE','operator_mode': 'matrix'},\n",
    "    'optimizer': {'name': 'SLSQP'},\n",
    "    'variational_form': {'name': 'RYRZ','depth': 5,'entanglement': 'linear'},\n",
    "    'backend': {'name': 'statevector_simulator'}\n",
    "}\n",
    "\n",
    "result = run_algorithm(aqua_dict, algo_input)\n",
    "\n",
    "x = maxcut.sample_most_likely(result['eigvecs'][0])\n",
    "print('energy:', result['energy'])\n",
    "print('time:', result['eval_time'])\n",
    "print('maxcut objective:', result['energy'] + offset)\n",
    "print('solution:', maxcut.get_graph_solution(x))\n",
    "print('solution objective:', maxcut.maxcut_value(x, w))\n",
    "\n",
    "sol = maxcut.get_graph_solution(x)\n",
    "sol"
   ]
  },
  {
   "cell_type": "markdown",
   "metadata": {
    "slideshow": {
     "slide_type": "slide"
    }
   },
   "source": [
    "That seemed to work worse. We can also increase variational form depth:"
   ]
  },
  {
   "cell_type": "code",
   "execution_count": 13,
   "metadata": {
    "slideshow": {
     "slide_type": "fragment"
    }
   },
   "outputs": [
    {
     "name": "stdout",
     "output_type": "stream",
     "text": [
      "energy: -1.4999999013985974\n",
      "time: 5.321591138839722\n",
      "maxcut objective: -3.9999999013985974\n",
      "solution: [1. 0. 1. 0.]\n",
      "solution objective: 4.0\n"
     ]
    },
    {
     "data": {
      "text/plain": [
       "array([1., 0., 1., 0.])"
      ]
     },
     "execution_count": 13,
     "metadata": {},
     "output_type": "execute_result"
    }
   ],
   "source": [
    "aqua_dict = {\n",
    "    'problem': {'name': 'ising', 'random_seed': 10598},\n",
    "    'algorithm': {'name': 'VQE','operator_mode': 'matrix'},\n",
    "    'optimizer': {'name': 'SLSQP'},\n",
    "    'variational_form': {'name': 'RY','depth': 8,'entanglement': 'linear'},\n",
    "    'backend': {'name': 'statevector_simulator'}\n",
    "}\n",
    "\n",
    "result = run_algorithm(aqua_dict, algo_input)\n",
    "\n",
    "x = maxcut.sample_most_likely(result['eigvecs'][0])\n",
    "print('energy:', result['energy'])\n",
    "print('time:', result['eval_time'])\n",
    "print('maxcut objective:', result['energy'] + offset)\n",
    "print('solution:', maxcut.get_graph_solution(x))\n",
    "print('solution objective:', maxcut.maxcut_value(x, w))\n",
    "\n",
    "sol = maxcut.get_graph_solution(x)\n",
    "sol"
   ]
  },
  {
   "cell_type": "markdown",
   "metadata": {
    "slideshow": {
     "slide_type": "slide"
    }
   },
   "source": [
    "In many cases we can even swap out the **algorithm**:"
   ]
  },
  {
   "cell_type": "code",
   "execution_count": 15,
   "metadata": {
    "slideshow": {
     "slide_type": "fragment"
    }
   },
   "outputs": [
    {
     "name": "stdout",
     "output_type": "stream",
     "text": [
      "energy: -0.7244926451189756\n",
      "time: 67.38786005973816\n",
      "maxcut objective: -3.2244926451189757\n",
      "solution: [0. 1. 0. 1.]\n",
      "solution objective: 4.0\n"
     ]
    },
    {
     "data": {
      "text/plain": [
       "array([0., 1., 0., 1.])"
      ]
     },
     "execution_count": 15,
     "metadata": {},
     "output_type": "execute_result"
    }
   ],
   "source": [
    "aqua_dict = {\n",
    "    'problem': {'name': 'ising', 'random_seed': 10598},\n",
    "    'algorithm': {'name': 'QAOA.Variational','operator_mode': 'matrix', 'p':2},\n",
    "    'optimizer': {'name': 'COBYLA'},\n",
    "    'backend': {'name': 'statevector_simulator'}\n",
    "}\n",
    "\n",
    "result = run_algorithm(aqua_dict, algo_input)\n",
    "\n",
    "x = maxcut.sample_most_likely(result['eigvecs'][0])\n",
    "print('energy:', result['energy'])\n",
    "print('time:', result['eval_time'])\n",
    "print('maxcut objective:', result['energy'] + offset)\n",
    "print('solution:', maxcut.get_graph_solution(x))\n",
    "print('solution objective:', maxcut.maxcut_value(x, w))\n",
    "\n",
    "sol = maxcut.get_graph_solution(x)\n",
    "sol"
   ]
  },
  {
   "cell_type": "markdown",
   "metadata": {
    "slideshow": {
     "slide_type": "slide"
    }
   },
   "source": [
    "# Interfaces: Dictionary vs. Declaration\n",
    "\n",
    "The form above relies on a dictionary to construct the Aqua components, and is convenient for many use cases. The dictionary allows you to experiment with low-risk changes to the algorithm in a cheap and straightforward way. \n",
    "\n",
    "In addition, objects can be constructed explicitly via imports and constructors. This allows you to reuse or modify components more daringly, and most algorithms developers eventully take this route for many parts of their work."
   ]
  },
  {
   "cell_type": "markdown",
   "metadata": {
    "slideshow": {
     "slide_type": "slide"
    }
   },
   "source": [
    "# Quick Demo: Aqua UI\n",
    "\n",
    "_Note: The following shell command can only be run locally_"
   ]
  },
  {
   "cell_type": "code",
   "execution_count": 16,
   "metadata": {},
   "outputs": [
    {
     "name": "stdout",
     "output_type": "stream",
     "text": [
      "Traceback (most recent call last):\n",
      "  File \"/Users/donny.greenberg@ibm.com/Code/bin/qiskit_aqua_ui\", line 11, in <module>\n",
      "    load_entry_point('qiskit-aqua', 'gui_scripts', 'qiskit_aqua_ui')()\n",
      "  File \"/Users/donny.greenberg@ibm.com/Code/lib/python3.6/site-packages/pkg_resources/__init__.py\", line 487, in load_entry_point\n",
      "    return get_distribution(dist).load_entry_point(group, name)\n",
      "  File \"/Users/donny.greenberg@ibm.com/Code/lib/python3.6/site-packages/pkg_resources/__init__.py\", line 2727, in load_entry_point\n",
      "    raise ImportError(\"Entry point %r not found\" % ((group, name),))\n",
      "ImportError: Entry point ('gui_scripts', 'qiskit_aqua_ui') not found\n"
     ]
    }
   ],
   "source": [
    "!qiskit_aqua_ui"
   ]
  },
  {
   "cell_type": "markdown",
   "metadata": {
    "slideshow": {
     "slide_type": "slide"
    }
   },
   "source": [
    "# Other Neat Stuff\n",
    "\n",
    "Aqua has many core algorithms, including:\n",
    "* VQE\n",
    "* QAOA\n",
    "* QPE/iterativeQPE\n",
    "* Hamiltonian Evolution\n",
    "* Quantum-Kernel SVM\n",
    "* Variational SVM\n",
    "* Grover’s"
   ]
  },
  {
   "cell_type": "markdown",
   "metadata": {
    "slideshow": {
     "slide_type": "slide"
    }
   },
   "source": [
    "# Example: Quantum ML with Support Vector Machines\n",
    "\n",
    "Q-Kernel SVM: We use a standard classical SVM with a “quantum kernel.” The kernel is an nxn matrix (n is the number of training samples), where matrix element m, p is generated by running short variational circuits of the form ⟨variational _form(m)|variational_form(p)⟩ for every point m, p in the training set. Note that a single point m is a list of features. This kernel extends the reach of the feature space beyond what we believe is possible classically.\n",
    "\n",
    "Q-Variational SVM: To train, we input a sample as the initial state of a short variational circuit, with parameters, and read the result (mod 2) to find the circuit’s classification. We optimize the parameters of the variational circuit classically to improve the model’s classification accuracy.\n",
    "Warning: the variational svm can be very slow to converge.\n",
    "\n",
    "Task below: attempt to fit a very nonlinear function, f(x,y) = x*y\n"
   ]
  },
  {
   "cell_type": "code",
   "execution_count": 14,
   "metadata": {
    "slideshow": {
     "slide_type": "fragment"
    }
   },
   "outputs": [],
   "source": [
    "from qiskit.aqua.utils import split_dataset_to_data_and_labels, map_label_to_class_name\n",
    "from qiskit.aqua.input import SVMInput\n",
    "import time\n",
    "from sklearn import svm\n",
    "\n",
    "import matplotlib as mpl\n",
    "from mpl_toolkits.mplot3d import Axes3D\n",
    "import matplotlib.pyplot as plt\n",
    "from matplotlib import cm\n",
    "from matplotlib.ticker import MaxNLocator"
   ]
  },
  {
   "cell_type": "markdown",
   "metadata": {
    "slideshow": {
     "slide_type": "slide"
    }
   },
   "source": [
    "Let's start by creating and visalizing our sample data."
   ]
  },
  {
   "cell_type": "code",
   "execution_count": 7,
   "metadata": {
    "slideshow": {
     "slide_type": "fragment"
    }
   },
   "outputs": [
    {
     "name": "stdout",
     "output_type": "stream",
     "text": [
      "{'greater': [[-0.9338678711407751, -0.7307947401161514], [-0.5598688103411122, -0.6515678639282179], [0.5501583529295941, 0.8456940104358661], [0.9132835912018911, 0.4983351979253705], [-0.4467893968427088, -0.31400309515418035], [0.8746047956045457, 0.18985673426624872], [0.46416119444943416, 0.06601278806585054], [-0.5850504056907522, -0.8723349394821716], [-0.06926433317136849, -0.4020370937964146], [0.22112187540741535, 0.38312838749286793], [-0.45821848529414155, -0.01628247565523755], [-0.3717097133074052, -0.29027819270087307], [-0.4317864177790003, -0.008707556116296589], [0.9898707231157553, 0.3183189596930309], [0.5836259696209378, 0.38399233617875295], [-0.7347983193048226, -0.35272926907810676], [0.9328102821016746, 0.3780163224492814], [0.8715497212116923, 0.14568569489718586], [0.24352718443454546, 0.06823079646061303], [0.45482885996367206, 0.9905845867303416], [-0.04712911076546611, -0.292851406468952], [0.9892364760422405, 0.29399661814326805], [0.21944685338922088, 0.2999967733607589]], 'less': [[-0.8100576479920669, 0.7566667836265106], [-0.3560777764372911, 0.5639954407596235], [-0.5197084878735023, 0.629064240692865], [-0.7088405167904563, 0.795050555768654], [0.4529172282719489, -0.5973359872488411], [0.49276450218696155, -0.1134407962278321], [0.6807121894780166, -0.9573754191349817], [0.017213982043290832, -0.5686017454758032], [-0.03583255446660005, 0.6370771700196407], [0.6749675002357822, -0.03177216030922736], [0.5922542301740907, -0.6544782112650673], [0.8547015837838401, -0.08154706474674489], [0.16448553620222572, -0.993600136759565], [0.7715912153548339, -0.06862100281836359], [-0.4586345427511358, 0.22139512271278616], [0.49885558406234476, -0.3300076719255933], [-0.4385024551154513, 0.3167034512053495], [-0.9196256325370835, 0.32552267507777044], [-0.3033431993007556, 0.4002478675803587], [0.8919336500835846, -0.8717776195378548], [0.5793791641055372, -0.3377216782615744], [0.16061176357169704, -0.3556552154144861], [-0.6983062640692623, 0.3893441491589158], [-0.1804192674479843, 0.1159798316060423], [0.934025764896687, -0.43413511384445536], [-0.4380231362685236, 0.44793675633945007], [-0.7195209714862778, 0.8974417771960694]]}\n",
      "{'greater': [[0.46213382146332127, 0.5326493392448743], [0.2186978435009801, 0.19609418979506632], [-0.42942587968531565, -0.4920118425009632], [-0.4266098423202218, -0.5880211248365013], [0.6508011341935369, 0.012212605554671851], [-0.38249869724373053, -0.9621825054102342], [0.0015010375204433934, 0.45513886166203776], [0.12012462155408543, 0.6726366656647946], [0.027197523603550433, 0.8776753245880042], [0.9193081149244327, 0.4401335011633889], [-0.25788378229519604, -0.8186434488002574], [0.41737430468564063, 0.5349353402802786]], 'less': [[-0.22713224051267322, 0.6434101460922168], [0.9631564320386197, -0.8565114863079129], [0.4262644132427946, -0.7396067898019236], [-0.5815934965966689, 0.5607043584695828], [0.7595596185864049, -0.10810546232980944], [0.7954711462793751, -0.48320919430019416], [0.3198655718303134, -0.34455150640564214], [0.5977821807890997, -0.7797707783286367]]}\n"
     ]
    }
   ],
   "source": [
    "train_size = 50\n",
    "test_size = 20\n",
    "\n",
    "x_trn = (np.random.random(train_size)*2)-1\n",
    "y_trn = (np.random.random(train_size)*2)-1\n",
    "greater = [[x,y] for x,y in zip(x_trn,y_trn) if x*y >=0]\n",
    "less = [[x,y] for x,y in zip(x_trn,y_trn) if x*y < 0]\n",
    "training_data = {\"greater\": greater, \"less\":less}\n",
    "print(training_data)\n",
    "\n",
    "x_tst = (np.random.random(test_size)*2)-1\n",
    "y_tst = (np.random.random(test_size)*2)-1\n",
    "greater = [[x,y] for x,y in zip(x_tst,y_tst) if x*y >=0]\n",
    "less = [[x,y] for x,y in zip(x_tst,y_tst) if x*y < 0]\n",
    "test_data = {\"greater\": greater, \"less\":less}\n",
    "print(test_data)"
   ]
  },
  {
   "cell_type": "code",
   "execution_count": 9,
   "metadata": {
    "slideshow": {
     "slide_type": "slide"
    }
   },
   "outputs": [
    {
     "data": {
      "image/png": "[encoded data removed]",
      "text/plain": [
       "<Figure size 432x288 with 2 Axes>"
      ]
     },
     "metadata": {
      "needs_background": "light"
     },
     "output_type": "display_data"
    }
   ],
   "source": [
    "mpl.rcParams['legend.fontsize'] = 10\n",
    "fig = plt.figure()\n",
    "ax = fig.gca(projection='3d')\n",
    "\n",
    "ax = fig.add_subplot(111, projection='3d')\n",
    "surf = ax.plot_trisurf(x_trn, y_trn, x_trn*y_trn, cmap=cm.jet, linewidth=0) #Jet4Ever\n",
    "ax.xaxis.set_major_locator(MaxNLocator(5))\n",
    "ax.yaxis.set_major_locator(MaxNLocator(6))\n",
    "ax.zaxis.set_major_locator(MaxNLocator(5))\n",
    "\n",
    "fig.tight_layout()\n",
    "\n",
    "ax.legend()\n",
    "plt.show()"
   ]
  },
  {
   "cell_type": "markdown",
   "metadata": {
    "slideshow": {
     "slide_type": "slide"
    }
   },
   "source": [
    "Let's define a function to fit the data with the quantum kernel svm, and test it. This will take a while, maybe 20-30 minutes. It scales with O(n^2)."
   ]
  },
  {
   "cell_type": "code",
   "execution_count": 17,
   "metadata": {
    "slideshow": {
     "slide_type": "fragment"
    }
   },
   "outputs": [],
   "source": [
    "def aqua_qksvm_score(tr_input, te_input, shots=100):\n",
    "    aqua_params = {\n",
    "        'problem': {'name': 'svm_classification'},\n",
    "        'backend': {'name': 'qasm_simulator', 'shots': shots},\n",
    "        'algorithm': {'name': 'QSVM.Kernel'}\n",
    "    }\n",
    "    algo_input = SVMInput(training_dataset=tr_input, test_dataset=te_input)\n",
    "    t0 = time.process_time()\n",
    "    result = run_algorithm(aqua_params, algo_input)\n",
    "    t1 = time.process_time()\n",
    "    return result, (t1 - t0)/60"
   ]
  },
  {
   "cell_type": "code",
   "execution_count": 13,
   "metadata": {
    "slideshow": {
     "slide_type": "fragment"
    }
   },
   "outputs": [
    {
     "name": "stdout",
     "output_type": "stream",
     "text": [
      "85.0%\n",
      "Process time: 70.91417206666667 mins\n"
     ]
    }
   ],
   "source": [
    "result, proc_time = aqua_qksvm_score(training_data, test_data, shots=100)\n",
    "print(\"{}%\".format(result['test_success_ratio']*100))\n",
    "print(\"Process time: {} mins\".format(proc_time))"
   ]
  },
  {
   "cell_type": "markdown",
   "metadata": {
    "slideshow": {
     "slide_type": "slide"
    }
   },
   "source": [
    "Now let's try swapping it out for the Variational SVM. This will probably take closer to 10 minutes."
   ]
  },
  {
   "cell_type": "code",
   "execution_count": 14,
   "metadata": {
    "slideshow": {
     "slide_type": "fragment"
    }
   },
   "outputs": [],
   "source": [
    "def aqua_variational_svm_score(tr_input, te_input, shots=10):\n",
    "    aqua_params = {\n",
    "        'problem': {'name': 'svm_classification'},\n",
    "        'backend': {'name': 'qasm_simulator', 'shots': shots},\n",
    "        'algorithm': {'name': 'QSVM.Variational'},\n",
    "        'optimizer': {'name': 'SPSA'},\n",
    "        'variational_form': {'name': 'RYRZ', 'depth': 2}\n",
    "    }\n",
    "    algo_input = get_input_instance('SVMInput')\n",
    "    algo_input.training_dataset = tr_input\n",
    "    algo_input.test_dataset = te_input\n",
    "    t0 = time.process_time()\n",
    "    result = run_algorithm(aqua_params, algo_input)\n",
    "    t1 = time.process_time()\n",
    "    return result, (t1 - t0)/60"
   ]
  },
  {
   "cell_type": "code",
   "execution_count": 15,
   "metadata": {
    "slideshow": {
     "slide_type": "fragment"
    }
   },
   "outputs": [
    {
     "name": "stdout",
     "output_type": "stream",
     "text": [
      "75.0%\n",
      "Process time: 188.68027673333333 mins\n"
     ]
    }
   ],
   "source": [
    "result, proc_time = aqua_variational_svm_score(training_data, test_data, shots=100)\n",
    "print(\"{}%\".format(result['test_success_ratio']*100))\n",
    "print(\"Process time: {} mins\".format(proc_time))"
   ]
  },
  {
   "cell_type": "markdown",
   "metadata": {
    "slideshow": {
     "slide_type": "slide"
    }
   },
   "source": [
    "And for good measure, let's score these against a popular set of classical SVM kernels:"
   ]
  },
  {
   "cell_type": "code",
   "execution_count": 22,
   "metadata": {
    "slideshow": {
     "slide_type": "fragment"
    }
   },
   "outputs": [],
   "source": [
    "def classical_svm_score(samples_tr, labels_tr, samples_te, labels_te, kernel='linear'):\n",
    "    model = svm.SVC(kernel=kernel, gamma='auto')\n",
    "    model.fit(samples_tr, labels_tr)\n",
    "    return model.score(samples_te, labels_te)"
   ]
  },
  {
   "cell_type": "code",
   "execution_count": 23,
   "metadata": {
    "slideshow": {
     "slide_type": "fragment"
    }
   },
   "outputs": [
    {
     "name": "stdout",
     "output_type": "stream",
     "text": [
      "{'rbf': 0.8, 'linear': 0.45, 'poly': 0.4, 'sigmoid': 0.4}\n"
     ]
    }
   ],
   "source": [
    "samples_train = list(zip(x_trn, y_trn))\n",
    "samples_test = list(zip(x_tst, y_tst))\n",
    "labels_train = [x*y>=0 for [x,y] in samples_train]\n",
    "labels_test = [x*y>0 for [x,y] in samples_test]\n",
    "\n",
    "perf = {'rbf':[], 'linear':[], 'poly':[], 'sigmoid':[]}\n",
    "for key in perf:\n",
    "    perf[key] = classical_svm_score(samples_train, \n",
    "                                        labels_train, \n",
    "                                        samples_test, \n",
    "                                        labels_test, \n",
    "                                        kernel=key)\n",
    "print(perf)"
   ]
  },
  {
   "cell_type": "markdown",
   "metadata": {
    "slideshow": {
     "slide_type": "slide"
    }
   },
   "source": [
    "# Tips and tricks (Basically the same as Terra...)\n",
    "\n",
    "* Put many circuits into a single execution!\n",
    "  * Simulators will (generally) execute these in parallel\n",
    "  * Quantum Hardware does a lot of calibration for each new job, so if you send 100 jobs it will generally take 100x as long as one job with 100 circuits, even if the circuits are completely different!\n",
    "* The “qasm_simulator” (cpp) backend fails gracefully over to the “qasm_simulator_py,” which is ~5x slower!\n",
    "  * (ctrl-f for 'failing gracefully')\n",
    "* Consider commenting out Qobj validation if you need more speed in an iterative algo, but don’t tell anyone who told you so!\n",
    "* Use an IDE!! A lot of people at IBM use Pycharm. Being able to step through the code is critical!\n",
    "* Look at the debug log messages. There is a ton of important info in there.\n",
    "  * Even better, save them to a file."
   ]
  },
  {
   "cell_type": "code",
   "execution_count": 24,
   "metadata": {
    "slideshow": {
     "slide_type": "fragment"
    }
   },
   "outputs": [],
   "source": [
    "import logging\n",
    "logging.getLogger('qiskit').setLevel(logging.DEBUG)"
   ]
  },
  {
   "cell_type": "markdown",
   "metadata": {
    "slideshow": {
     "slide_type": "fragment"
    }
   },
   "source": [
    "Redirecting logs to a file:\n",
    "\n",
    "```\n",
    "# Redirecting debug logs to a file (can't be done in colab):\n",
    "    loggerc = logging.getLogger('qiskit_chemistry')\n",
    "    loggerc.setLevel(logging.DEBUG)\n",
    "    loggera = logging.getLogger('qiskit_aqua')\n",
    "    loggera.setLevel(logging.DEBUG)\n",
    "    loggerq = logging.getLogger('qiskit')\n",
    "    loggerq.setLevel(logging.DEBUG)\n",
    "    formatter = logging.Formatter(fmt='%(asctime)s %(levelname)-8s %(message)s', datefmt='%Y-%m-%d %H:%M:%S')\n",
    "    hdlr = logging.FileHandler(outdir + log_file_name, mode='w')\n",
    "    hdlr.setFormatter(formatter)\n",
    "    loggerc.addHandler(hdlr)\n",
    "    loggera.addHandler(hdlr)\n",
    "    loggerq.addHandler(hdlr)\n",
    "    print('\\nlog file: {}'.format(outdir + log_file_name))\n",
    "# <build, execute, etc.>\n",
    "# close up handlers\n",
    "    loggerc.removeHandler(hdlr)\n",
    "    loggera.removeHandler(hdlr)\n",
    "    loggerq.removeHandler(hdlr)\n",
    "    hdlr.close()\n",
    "```"
   ]
  },
  {
   "cell_type": "markdown",
   "metadata": {
    "slideshow": {
     "slide_type": "slide"
    }
   },
   "source": [
    "# Part IV: Qiskit Chemistry"
   ]
  },
  {
   "cell_type": "markdown",
   "metadata": {
    "slideshow": {
     "slide_type": "slide"
    }
   },
   "source": [
    "# Qiskit Chemistry is a Convenient Wrapper Around Aqua and Popular Chemistry Drivers\n",
    "\n",
    "* Qiskit Chemistry is an even more practitioner-centric tool, specifically for Chemists\n",
    "* It includes two other component buckets that are not in Aqua: Chemistry drivers, and mappings (Jordan-Wigner, Bravyi-Kitaev, parity, etc.)\n",
    "* The interfaces look very similar to Aqua - instantiation with a dictionary, or a standalone UI, etc.\n",
    "* The core service of Qiskit Chemistry is to prepare all of the required calculations for the hamiltonian and other important observables before attempting to do Chemistry simulation or eigendecomposition in Aqua\n"
   ]
  },
  {
   "cell_type": "code",
   "execution_count": null,
   "metadata": {
    "slideshow": {
     "slide_type": "fragment"
    }
   },
   "outputs": [],
   "source": [
    "!pip install qiskit-chemistry\n",
    "!pip install pyscf"
   ]
  },
  {
   "cell_type": "code",
   "execution_count": 26,
   "metadata": {
    "slideshow": {
     "slide_type": "fragment"
    }
   },
   "outputs": [],
   "source": [
    "import numpy as np\n",
    "import pylab\n",
    "from qiskit.chemistry import QiskitChemistry"
   ]
  },
  {
   "cell_type": "markdown",
   "metadata": {
    "slideshow": {
     "slide_type": "slide"
    }
   },
   "source": [
    "# Most Important Thing to Grasp - the Execution Flow:\n",
    "\n",
    "* Qiskit Chemistry discovers components and reads config dictionaries\n",
    "* Most fancy Chemistry package features are allowed, like orbital removal, qubit tapering, core freezing, etc.\n",
    "* Calls Chemistry Drivers to calculate single and double excitation integrals\n",
    "* Uses mapping to create a hamiltonian circuit out of operators for each excitation\n",
    "* Calls VQE in Aqua to find eigenstates of the hamiltonian (e.g. ground state energy)\n",
    "  * Also passes aux_ops (auxiliary operators) for Aqua to calculate at the end: spin, particle number, dipole moment, etc.\n",
    "* Aqua creates an “evaluate_energy” function which: \n",
    "  * Takes in a scalar parameter list, creates a variational form (UCCSD, RyRz, Swap-Rz, your own, etc.) parameterized by the list\n",
    "  * Executes the variational circuit + the hamiltonian circuit (or does math in the background to simulate the result quickly without sending the full circuit to the simulator)\n",
    "  * Returns the resulting energy of the system\n",
    "* Aqua instantiates an optimizer, and passes the energy function as the cost function to minimize\n",
    "  * Use COBYLA if running on statevector simulator, SPSA if running on shot-based (qasm) because it performs well in the presence of noise\n",
    "* The optimizer minimizes the energy, and returns the optimal parameters when complete\n",
    "* Aqua re-creates the ground state with the optimal params, and calculates and returns the ground state energy and auxiliary operators"
   ]
  },
  {
   "cell_type": "markdown",
   "metadata": {
    "slideshow": {
     "slide_type": "slide"
    }
   },
   "source": [
    "Let's start with a simple example, NaH:"
   ]
  },
  {
   "cell_type": "code",
   "execution_count": null,
   "metadata": {
    "slideshow": {
     "slide_type": "fragment"
    }
   },
   "outputs": [],
   "source": [
    "qiskit_chemistry_dict = {\n",
    "    'driver': {'name': 'PYSCF'},\n",
    "    'PYSCF': {'atom': 'H .0 .0 .0; Na .0 .0 1.1', 'basis': 'sto3g'},\n",
    "    'operator': {'name': 'hamiltonian', 'qubit_mapping': 'parity',\n",
    "                 'two_qubit_reduction': True, 'freeze_core': True, 'orbital_reduction': [-3, -2]},\n",
    "    'algorithm': {'name': 'VQE'},\n",
    "    'optimizer': {'name': 'COBYLA', 'maxiter': 10000 },\n",
    "    'variational_form': {'name': 'RYRZ'},\n",
    "    'initial_state': {'name': 'HartreeFock'},\n",
    "    'backend': {'name': 'statevector_simulator'}\n",
    "}\n",
    "\n",
    "solver = QiskitChemistry()\n",
    "result = solver.run(qiskit_chemistry_dict)"
   ]
  },
  {
   "cell_type": "code",
   "execution_count": 22,
   "metadata": {
    "slideshow": {
     "slide_type": "fragment"
    }
   },
   "outputs": [
    {
     "name": "stdout",
     "output_type": "stream",
     "text": [
      "=== GROUND STATE ENERGY ===\n",
      " \n",
      "* Electronic ground state energy (Hartree): -165.447505593877\n",
      "  - computed part:      -0.865174133601\n",
      "  - frozen energy part: -164.582331460276\n",
      "  - particle hole part: 0.0\n",
      "~ Nuclear repulsion energy (Hartree): 5.2917721092\n",
      "> Total ground state energy (Hartree): -160.155733484677\n",
      "  Measured:: Num particles: 2.000, S: 0.000, M: -0.00000\n",
      " \n",
      "=== DIPOLE MOMENT ===\n",
      " \n",
      "* Electronic dipole moment (a.u.): [0.0  0.0  21.48240175]\n",
      "  - computed part:      [0.0  0.0  0.7359935]\n",
      "  - frozen energy part: [0.0  0.0  20.74640824]\n",
      "  - particle hole part: [0.0  0.0  0.0]\n",
      "~ Nuclear dipole moment (a.u.): [0.0  0.0  22.86568611]\n",
      "> Dipole moment (a.u.): [0.0  0.0  1.38328436]  Total: 1.38328436\n",
      "               (debye): [0.0  0.0  3.51595782]  Total: 3.51595782\n"
     ]
    }
   ],
   "source": [
    "for line in result['printable']:\n",
    "    print(line)"
   ]
  },
  {
   "cell_type": "markdown",
   "metadata": {
    "slideshow": {
     "slide_type": "slide"
    }
   },
   "source": [
    "Now, let's plot the full dissociation profile for LiH (this will take a while - maybe over 20 minutes). Notice, on line 43, that we reuse the optimal parameters from a given point as the initial parameters when we begin the following point. This gives us adiabatic-ish effects without having to run at extremely small distance steps.\n",
    "\n",
    "Based on [this notebook](https://github.com/Qiskit/qiskit-tutorial/blob/master/qiskit/aqua/chemistry/dissociation_profile_of_molecule.ipynb) 📒 by Mezzacapo et al."
   ]
  },
  {
   "cell_type": "code",
   "execution_count": null,
   "metadata": {},
   "outputs": [],
   "source": [
    "import numpy as np\n",
    "import pylab\n",
    "from qiskit.chemistry import QiskitChemistry\n",
    "\n",
    "# Input dictionary to configure Qiskit Chemistry for the chemistry problem.\n",
    "qiskit_chemistry_dict = {\n",
    "    'driver': {'name': 'PYSCF'},\n",
    "    'PYSCF': {'atom': '', 'basis': 'sto3g'},\n",
    "    'operator': {'name': 'hamiltonian', 'qubit_mapping': 'parity',\n",
    "                 'two_qubit_reduction': True, 'freeze_core': True, 'orbital_reduction': [-3, -2]},\n",
    "    'algorithm': {'name': ''},\n",
    "    'optimizer': {'name': 'COBYLA', 'maxiter': 10000 },\n",
    "    'variational_form': {'name': 'RYRZ'},\n",
    "    'initial_state': {'name': 'HartreeFock'},\n",
    "    'backend': {'name': 'statevector_simulator'}\n",
    "}\n",
    "molecule = 'H .0 .0 -{0}; Li .0 .0 {0}'\n",
    "algorithms = [{'name': 'VQE'},\n",
    "              {'name': 'ExactEigensolver'}]\n",
    "\n",
    "pts = np.around(np.arange(.8, 2.2, .1), decimals = 2)\n",
    "energies = np.empty([len(algorithms), len(pts)])\n",
    "hf_energies = np.empty(len(pts))\n",
    "distances = np.empty(len(pts))\n",
    "eval_counts = np.zeros([len(algorithms), len(pts)], dtype=np.intp)\n",
    "\n",
    "print('Processing step __', end='')\n",
    "for i, d in enumerate(pts):\n",
    "    print('\\b\\b{:2d}'.format(i), end='', flush=True)\n",
    "    qiskit_chemistry_dict['PYSCF']['atom'] = molecule.format(d/2) \n",
    "    for j in range(len(algorithms)):\n",
    "        qiskit_chemistry_dict['algorithm'] = algorithms[j] \n",
    "        solver = QiskitChemistry()\n",
    "        result = solver.run(qiskit_chemistry_dict)\n",
    "        energies[j][i] = result['energy']\n",
    "        hf_energies[i] = result['hf_energy']\n",
    "        if algorithms[j]['name'] == 'VQE':\n",
    "            eval_counts[j][i] = result['algorithm_retvals']['eval_count']\n",
    "            if j == 1:\n",
    "                algorithms[j]['initial_point'] = result['algorithm_retvals']['opt_params']\n",
    "    distances[i] = d\n",
    "print(' --- complete')"
   ]
  },
  {
   "cell_type": "code",
   "execution_count": 23,
   "metadata": {
    "slideshow": {
     "slide_type": "slide"
    }
   },
   "outputs": [
    {
     "name": "stdout",
     "output_type": "stream",
     "text": [
      "Processing step 13 --- complete\n",
      "Distances:  [0.8 0.9 1.  1.1 1.2 1.3 1.4 1.5 1.6 1.7 1.8 1.9 2.  2.1]\n",
      "Energies: [[-7.63040117 -7.72079684 -7.76898319 -7.82352056 -7.83561579 -7.86654234\n",
      "  -7.87685108 -7.86636898 -7.88071149 -7.87729704 -7.87320771 -7.86558452\n",
      "  -7.86004946 -7.85243824]\n",
      " [-7.63097825 -7.72081241 -7.7822424  -7.82359928 -7.85069838 -7.86756329\n",
      "  -7.87700149 -7.88101572 -7.88107204 -7.87826817 -7.87344029 -7.86723396\n",
      "  -7.86015321 -7.85259583]]\n",
      "Hartree-Fock energies: [-7.61577016 -7.70575334 -7.76736214 -7.80874318 -7.83561583 -7.85195386\n",
      " -7.86053866 -7.86335762 -7.86186477 -7.85714496 -7.8500187  -7.84111204\n",
      " -7.83090558 -7.81977026]\n",
      "VQE num evaluations: [[10000  8708 10000 10000  2646 10000 10000 10000 10000 10000 10000 10000\n",
      "  10000 10000]\n",
      " [    0     0     0     0     0     0     0     0     0     0     0     0\n",
      "      0     0]]\n"
     ]
    }
   ],
   "source": [
    "print('Distances: ', distances)\n",
    "print('Energies:', energies)\n",
    "print('Hartree-Fock energies:', hf_energies)\n",
    "print('VQE num evaluations:', eval_counts)"
   ]
  },
  {
   "cell_type": "markdown",
   "metadata": {
    "slideshow": {
     "slide_type": "fragment"
    }
   },
   "source": [
    "# Tips!\n",
    "\n",
    "* The examples above are somewhat naive, there are techniques to improve them by several orders of magnitude\n",
    "* $|\\text{Spin orbitals}| \\approx |\\text{qubits}|$ - if you increase the size of the molecule or basis, your classical execution time increases exponentially\n",
    "* You don’t need to use VQE to find eigenstates! You can use QPE, QAOA, or whatever else\n",
    "* Your initial point matters a lot. The way you move along a dissociation curve can dictate the fate of your resutlts.\n",
    "* UCCSD is nice but it will not be runnable on Quantum hardware for a long time.\n",
    "* Optimization over non-convex high-dimensional error surfaces is hard. I am sorry about that."
   ]
  },
  {
   "cell_type": "code",
   "execution_count": null,
   "metadata": {},
   "outputs": [],
   "source": []
  }
 ],
 "metadata": {
  "celltoolbar": "Slideshow",
  "kernelspec": {
   "display_name": "code",
   "language": "python",
   "name": "code"
  },
  "language_info": {
   "codemirror_mode": {
    "name": "ipython",
    "version": 3
   },
   "file_extension": ".py",
   "mimetype": "text/x-python",
   "name": "python",
   "nbconvert_exporter": "python",
   "pygments_lexer": "ipython3",
   "version": "3.6.5"
  }
 },
 "nbformat": 4,
 "nbformat_minor": 2
}
