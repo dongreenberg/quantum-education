{
 "cells": [
  {
   "cell_type": "markdown",
   "metadata": {
    "slideshow": {
     "slide_type": "slide"
    }
   },
   "source": [
    "![Qiskit](https://github.com/Qiskit/qiskit-tutorials/raw/115c78962dda85bac29d679063b7d0d0ab1d1ab4/images/qiskit-heading.gif)"
   ]
  },
  {
   "cell_type": "markdown",
   "metadata": {
    "slideshow": {
     "slide_type": "-"
    }
   },
   "source": [
    "# Qiskit Bootcamp Parts III & IV: Aqua, Optimization, Machine Learning, and Chemistry\n",
    "\n",
    "donny@ibm.com <br>_25-Oct-19_"
   ]
  },
  {
   "cell_type": "markdown",
   "metadata": {
    "slideshow": {
     "slide_type": "slide"
    }
   },
   "source": [
    "# Gameplan\n",
    "\n",
    "* Overview and basics\n",
    "  * What is Aqua?\n",
    "  * Structural Elements\n",
    "  * Control flow\n",
    "  * Interfaces\n",
    "* Detailed component overview\n",
    "* Tips and Tricks\n",
    "* Learning more"
   ]
  },
  {
   "cell_type": "markdown",
   "metadata": {
    "slideshow": {
     "slide_type": "slide"
    }
   },
   "source": [
    "But first, install Qiskit:"
   ]
  },
  {
   "cell_type": "code",
   "execution_count": 2,
   "metadata": {
    "ExecuteTime": {
     "end_time": "2019-10-24T17:59:45.009350Z",
     "start_time": "2019-10-24T17:59:45.006979Z"
    },
    "slideshow": {
     "slide_type": "fragment"
    }
   },
   "outputs": [],
   "source": [
    "#!pip install qiskit"
   ]
  },
  {
   "cell_type": "code",
   "execution_count": 1,
   "metadata": {
    "ExecuteTime": {
     "end_time": "2019-10-24T18:22:02.580079Z",
     "start_time": "2019-10-24T18:22:02.577154Z"
    }
   },
   "outputs": [],
   "source": [
    "import warnings\n",
    "warnings.filterwarnings(action='ignore')"
   ]
  },
  {
   "cell_type": "markdown",
   "metadata": {
    "slideshow": {
     "slide_type": "slide"
    }
   },
   "source": [
    "# Part III: Constructing and Executing Quantum Algorithms with Aqua"
   ]
  },
  {
   "cell_type": "markdown",
   "metadata": {
    "slideshow": {
     "slide_type": "slide"
    }
   },
   "source": [
    "# What is Aqua?\n",
    "\n",
    "Aqua is:\n",
    "* An easy to use library for running many different quantum algorithms\n",
    "* A collection of reusable components which can be mixed and matched in different algorithms\n",
    "\n",
    "Aqua is very practically driven\n",
    "* We have real chemists and clients who are trying to get things done\n",
    "* It is exactly what you’d expect to spring out of rapid practical need… it is very function-driven and evolves rapidly\n",
    "* The guts are not so inviting in some places because it is engineered and optimized to the nines\n",
    "* If you need to do something, there is a good chance someone already put it in Aqua or should\n",
    "  * **Please submit feature requests!**"
   ]
  },
  {
   "cell_type": "markdown",
   "metadata": {
    "slideshow": {
     "slide_type": "slide"
    }
   },
   "source": [
    "# Plug and play components, not a circuit library\n",
    "\n",
    "Keep in mind:\n",
    "\n",
    "Aqua organizes reusable components into buckets, elements of which can be substituted for one another:\n",
    "* Algorithms\n",
    "* Variational forms\n",
    "* Optimizers\n",
    "* Other smaller buckets (translators, QFTs, oracles, feature maps)\n",
    "\n",
    "It is not so much an “I give you parameters, you give me back a circuit” library, because in nearly all cases, running an algorithm is much more than executing a single circuit (e.g. VQE, QkernelSVM, etc.)\n",
    "\n",
    "It’s not even so much about “give me x component,” it’s more “execute this algorithm, with this set of components,” allowing you to mix and match or add your own components\n",
    "\n",
    "There are many tests, which give good examples of execution modes and components, as well as tutorials in the qiskit-tutorials repo\n",
    "\n",
    "Get an IDE (Pycharm is good!) and step through the code!\n"
   ]
  },
  {
   "cell_type": "markdown",
   "metadata": {
    "slideshow": {
     "slide_type": "slide"
    }
   },
   "source": [
    "# Structural Elements\n",
    "\n",
    "It is easy to see Aqua as being composed of roughly four high-level elements:\n",
    "* Algorithms - the control flow and logic in generally well contained inside the algorithm class file. \n",
    "* Interfaces - Aqua is meant to be highly accessible, so it has a lot of infrascructure to allow the graphical or JSON interfaces to be almost equally accessible as coding against the library directly (no small feat!)\n",
    "   * JSON definitions and declarative interfaces are dispersed throughout\n",
    "   * The UI and CLI are in the top level Aqua directory\n",
    "* Components - These are objects which are shared by several algorithms, as mentioned above.\n",
    "* Utilities - Aqua has many useful modules and helper classes that an algorithm and application developer might want. Examples include the operator classes, random matrix generator, mct, run_circutis.py, and much more."
   ]
  },
  {
   "cell_type": "markdown",
   "metadata": {
    "slideshow": {
     "slide_type": "slide"
    }
   },
   "source": [
    "# Applications Domains\n",
    "\n",
    "Aqua also includes separate folders for domain specific applications and logic (work in progress). \n",
    "* Chemistry\n",
    "* Optimization\n",
    "* Finance\n",
    "* AI\n",
    "\n",
    "Previously, this logic was mostly integrated throughout Aqua, other than Chemistry. This is a new change, and the stacks within each area are still being organized."
   ]
  },
  {
   "cell_type": "markdown",
   "metadata": {
    "slideshow": {
     "slide_type": "slide"
    }
   },
   "source": [
    "# The Maxcut problem\n",
    "\n",
    "Today, we're going to focus on a combinatorial optimization problem called **Maxcut**, which is solved by dividing the nodes of a weighted graph into two groups such that the egdes between the two groups carry the most possible weight. There's an [excellent notebook](https://github.com/Qiskit/qiskit-iqx-tutorials/blob/master/qiskit/advanced/aqua/optimization/max_cut_and_tsp.ipynb) 📒 by Mezzacapo et al that goes into the problem in more detail, which I highly recommend. For our purposes, reviewing solution paths is a more important use of our time, and we will not be spending much time on the translation between the graph problem and the qubit operator."
   ]
  },
  {
   "cell_type": "markdown",
   "metadata": {
    "slideshow": {
     "slide_type": "fragment"
    }
   },
   "source": [
    "Our solution path starts like this - we represent each node on the graph by a qubit, and the 0 or 1 state of the qubit represents which of the two groups each node occupies in a possible solution. Binary strings are possible solutions, describing how to divide the nodes into |0> group and |1> group. We can take the weights of the graph and turn them into a cost matrix on the vector space of these strings, such that this cost matrix represents an Ising hamiltonian whose minimum eignestate is our optimal solution."
   ]
  },
  {
   "cell_type": "markdown",
   "metadata": {
    "slideshow": {
     "slide_type": "slide"
    }
   },
   "source": [
    "Let's begin with a weight matrix w, representing the weights between edges of the graph. To make it easier to follow along with the above mentioned notebook, we'll use the same cost matrix."
   ]
  },
  {
   "cell_type": "code",
   "execution_count": 67,
   "metadata": {
    "ExecuteTime": {
     "end_time": "2019-10-24T20:12:45.084634Z",
     "start_time": "2019-10-24T20:12:45.066977Z"
    },
    "slideshow": {
     "slide_type": "fragment"
    }
   },
   "outputs": [],
   "source": [
    "import matplotlib.pyplot as plt\n",
    "import matplotlib.axes as axes\n",
    "%matplotlib inline\n",
    "import numpy as np\n",
    "import networkx as nx\n",
    "\n",
    "from qiskit import BasicAer\n",
    "from qiskit.tools.visualization import plot_histogram\n",
    "from qiskit.aqua import Operator, run_algorithm\n",
    "from qiskit.aqua.translators.ising import max_cut\n",
    "from qiskit.aqua.algorithms import VQE, ExactEigensolver, QAOA\n",
    "from qiskit.aqua.components.optimizers import SPSA, SLSQP, COBYLA\n",
    "from qiskit.aqua.components.variational_forms import RY, RYRZ\n",
    "from qiskit.aqua import QuantumInstance\n",
    "seed = 50"
   ]
  },
  {
   "cell_type": "code",
   "execution_count": null,
   "metadata": {},
   "outputs": [],
   "source": [
    "# setup aqua logging\n",
    "import logging\n",
    "from qiskit.aqua._logging import set_qiskit_aqua_logging\n",
    "set_qiskit_aqua_logging(logging.INFO)"
   ]
  },
  {
   "cell_type": "markdown",
   "metadata": {},
   "source": [
    "# Our graph:"
   ]
  },
  {
   "cell_type": "code",
   "execution_count": 40,
   "metadata": {
    "ExecuteTime": {
     "end_time": "2019-10-24T19:47:24.981869Z",
     "start_time": "2019-10-24T19:47:24.800760Z"
    }
   },
   "outputs": [
    {
     "data": {
      "image/png": "[encoded data removed]",
      "text/plain": [
       "<Figure size 432x288 with 1 Axes>"
      ]
     },
     "metadata": {
      "needs_background": "light"
     },
     "output_type": "display_data"
    }
   ],
   "source": [
    "n=4 # Number of nodes in graph\n",
    "G=nx.Graph()\n",
    "G.add_nodes_from(np.arange(0,n,1))\n",
    "elist=[(0,1,1.0),(0,2,1.0),(0,3,1.0),(1,2,1.0),(2,3,1.0)]\n",
    "# tuple is (i,j,weight) where (i,j) is the edge\n",
    "G.add_weighted_edges_from(elist)\n",
    "\n",
    "colors = ['r' for node in G.nodes()]\n",
    "pos = nx.spring_layout(G)\n",
    "default_axes = plt.axes(frameon=True)\n",
    "nx.draw_networkx(G, node_color=colors, node_size=600, alpha=.8, ax=default_axes, pos=pos)"
   ]
  },
  {
   "cell_type": "code",
   "execution_count": 41,
   "metadata": {
    "ExecuteTime": {
     "end_time": "2019-10-24T19:47:25.538323Z",
     "start_time": "2019-10-24T19:47:25.532958Z"
    }
   },
   "outputs": [
    {
     "name": "stdout",
     "output_type": "stream",
     "text": [
      "[[0. 1. 1. 1.]\n",
      " [1. 0. 1. 0.]\n",
      " [1. 1. 0. 1.]\n",
      " [1. 0. 1. 0.]]\n"
     ]
    }
   ],
   "source": [
    "# Computing the weight matrix from the random graph\n",
    "w = np.zeros([n,n])\n",
    "for i in range(n):\n",
    "    for j in range(n):\n",
    "        temp = G.get_edge_data(i,j,default=0)\n",
    "        if temp != 0:\n",
    "            w[i,j] = temp['weight'] \n",
    "print(w)"
   ]
  },
  {
   "cell_type": "code",
   "execution_count": 42,
   "metadata": {
    "ExecuteTime": {
     "end_time": "2019-10-24T19:47:32.161970Z",
     "start_time": "2019-10-24T19:47:32.157415Z"
    },
    "scrolled": false,
    "slideshow": {
     "slide_type": "fragment"
    }
   },
   "outputs": [],
   "source": [
    "qubitOp, offset = max_cut.get_max_cut_qubitops(w)"
   ]
  },
  {
   "cell_type": "code",
   "execution_count": 43,
   "metadata": {
    "ExecuteTime": {
     "end_time": "2019-10-24T19:47:33.247748Z",
     "start_time": "2019-10-24T19:47:33.244151Z"
    },
    "slideshow": {
     "slide_type": "fragment"
    }
   },
   "outputs": [
    {
     "name": "stdout",
     "output_type": "stream",
     "text": [
      "[[(0.5+0j), Pauli(z=[True, True, False, False], x=[False, False, False, False])], [(0.5+0j), Pauli(z=[True, False, True, False], x=[False, False, False, False])], [(0.5+0j), Pauli(z=[False, True, True, False], x=[False, False, False, False])], [(0.5+0j), Pauli(z=[True, False, False, True], x=[False, False, False, False])], [(0.5+0j), Pauli(z=[False, False, True, True], x=[False, False, False, False])]]\n"
     ]
    }
   ],
   "source": [
    "print(qubitOp.paulis)"
   ]
  },
  {
   "cell_type": "code",
   "execution_count": 44,
   "metadata": {
    "ExecuteTime": {
     "end_time": "2019-10-24T19:47:33.880687Z",
     "start_time": "2019-10-24T19:47:33.870661Z"
    }
   },
   "outputs": [
    {
     "name": "stdout",
     "output_type": "stream",
     "text": [
      "[ 2.5+0.j -0.5+0.j  0.5+0.j -0.5+0.j -0.5+0.j -1.5+0.j -0.5+0.j  0.5+0.j\n",
      "  0.5+0.j -0.5+0.j -1.5+0.j -0.5+0.j -0.5+0.j  0.5+0.j -0.5+0.j  2.5+0.j]\n"
     ]
    }
   ],
   "source": [
    "from qiskit.aqua.operators.op_converter import to_matrix_operator\n",
    "mat_op = to_matrix_operator(qubitOp)\n",
    "print(mat_op.matrix)\n",
    "# Note, these are the diagonal elements"
   ]
  },
  {
   "cell_type": "markdown",
   "metadata": {
    "slideshow": {
     "slide_type": "slide"
    }
   },
   "source": [
    "# First, Let's try Solving Exactly Using Exact Diagonalization"
   ]
  },
  {
   "cell_type": "code",
   "execution_count": 47,
   "metadata": {
    "ExecuteTime": {
     "end_time": "2019-10-24T19:48:04.646663Z",
     "start_time": "2019-10-24T19:48:04.447463Z"
    }
   },
   "outputs": [
    {
     "name": "stdout",
     "output_type": "stream",
     "text": [
      "energy: -1.5\n",
      "max-cut objective: -4.0\n",
      "solution: [0. 1. 0. 1.]\n",
      "solution objective: 4.0\n"
     ]
    },
    {
     "data": {
      "image/png": "[encoded data removed]",
      "text/plain": [
       "<Figure size 432x288 with 1 Axes>"
      ]
     },
     "metadata": {
      "needs_background": "light"
     },
     "output_type": "display_data"
    }
   ],
   "source": [
    "ee = ExactEigensolver(qubitOp, k=1)\n",
    "result = ee.run()\n",
    "\n",
    "x = max_cut.sample_most_likely(result['eigvecs'][0])\n",
    "print('energy:', result['energy'])\n",
    "print('max-cut objective:', result['energy'] + offset)\n",
    "print('solution:', max_cut.get_graph_solution(x))\n",
    "print('solution objective:', max_cut.max_cut_value(x, w))\n",
    "\n",
    "colors = ['r' if max_cut.get_graph_solution(x)[i] == 0 else 'b' for i in range(n)]\n",
    "nx.draw_networkx(G, node_color=colors, node_size=600, alpha = .8, pos=pos)"
   ]
  },
  {
   "cell_type": "markdown",
   "metadata": {
    "slideshow": {
     "slide_type": "slide"
    }
   },
   "source": [
    "# Now, let's run VQE\n",
    "\n",
    "## 🚨NOTE: YOU SHOULD SET `seed_transpiler` BECAUSE THE TRANSPILER IS STOCHASTIC"
   ]
  },
  {
   "cell_type": "code",
   "execution_count": 49,
   "metadata": {
    "ExecuteTime": {
     "end_time": "2019-10-24T19:50:12.828025Z",
     "start_time": "2019-10-24T19:49:19.360294Z"
    },
    "slideshow": {
     "slide_type": "-"
    }
   },
   "outputs": [
    {
     "name": "stderr",
     "output_type": "stream",
     "text": [
      "2019-10-25 04:49:19,370:qiskit.aqua.algorithms.adaptive.vqe.vqe:INFO: \n",
      "==================== Setting of VQE ============================\n",
      "Algorithm: VQE\n",
      "-- quantum_instance: None\n",
      "-- var_form: <qiskit.aqua.components.variational_forms.ry.RY object at 0x11bbc7c18>\n",
      "-- optimizer: <qiskit.aqua.components.optimizers.spsa.SPSA object at 0x11bbc7be0>\n",
      "-- cost_fn: <bound method VQE._energy_evaluation of <qiskit.aqua.algorithms.adaptive.vqe.vqe.VQE object at 0x11bbc7240>>\n",
      "-- initial_point: Random seed\n",
      "-- callback: None\n",
      "-- operator: Representation: paulis, qubits: 4, size: 5\n",
      "-- eval_count: 0\n",
      "-- aux_operators: []\n",
      "-- auto_conversion: True\n",
      "===============================================================\n",
      "Variational Form: RY\n",
      "-- num_parameters: 24\n",
      "-- num_qubits: 4\n",
      "-- bounds: [(-3.141592653589793, 3.141592653589793), (-3.141592653589793, 3.141592653589793), (-3.141592653589793, 3.141592653589793), (-3.141592653589793, 3.141592653589793), (-3.141592653589793, 3.141592653589793), (-3.141592653589793, 3.141592653589793), (-3.141592653589793, 3.141592653589793), (-3.141592653589793, 3.141592653589793), (-3.141592653589793, 3.141592653589793), (-3.141592653589793, 3.141592653589793), (-3.141592653589793, 3.141592653589793), (-3.141592653589793, 3.141592653589793), (-3.141592653589793, 3.141592653589793), (-3.141592653589793, 3.141592653589793), (-3.141592653589793, 3.141592653589793), (-3.141592653589793, 3.141592653589793), (-3.141592653589793, 3.141592653589793), (-3.141592653589793, 3.141592653589793), (-3.141592653589793, 3.141592653589793), (-3.141592653589793, 3.141592653589793), (-3.141592653589793, 3.141592653589793), (-3.141592653589793, 3.141592653589793), (-3.141592653589793, 3.141592653589793), (-3.141592653589793, 3.141592653589793)]\n",
      "-- depth: 5\n",
      "-- entanglement: linear\n",
      "-- entangler_map: [[0, 1], [1, 2], [2, 3]]\n",
      "-- entangled_qubits: [0, 1, 2, 3]\n",
      "-- initial_state: None\n",
      "-- entanglement_gate: cz\n",
      "-- skip_unentangled_qubits: False\n",
      "-- skip_final_ry: False\n",
      "===============================================================\n",
      "Optimizer: SPSA\n",
      "-- gradient_support_level: 1\n",
      "-- bounds_support_level: 1\n",
      "-- initial_point_support_level: 3\n",
      "-- options: {'last_avg': 1, 'save_steps': 1}\n",
      "-- max_evals_grouped: 1\n",
      "-- max_trials: 300\n",
      "-- parameters: [0.62831853 0.1        0.602      0.101      0.        ]\n",
      "-- skip_calibration: False\n",
      "===============================================================\n",
      "\n",
      "2019-10-25 04:49:19,371:qiskit.aqua.quantum_instance:INFO: statevector backend only works with shot=1, change shots from 1024 to 1.\n",
      "2019-10-25 04:49:19,372:qiskit.aqua.quantum_instance:INFO: \n",
      "Qiskit Terra version: 0.10.0\n",
      "Backend: 'statevector_simulator (BasicAer)', with following setting:\n",
      "{'basis_gates': ['u1', 'u2', 'u3', 'cx', 'id', 'unitary'], 'coupling_map': None}\n",
      "{'pass_manager': None, 'initial_layout': None, 'seed_transpiler': 50, 'optimization_level': None}\n",
      "RunConfig(max_credits=10, seed_simulator=50, shots=1)\n",
      "{'timeout': None}\n",
      "{}\n",
      "{}\n",
      "Measurement mitigation: None\n",
      "2019-10-25 04:49:19,373:qiskit.aqua.algorithms.adaptive.vqe.vqe:INFO: When running with non-Aer statevector simulator, represent operator as a matrix could achieve the better performance. We convert the operator to matrix.\n",
      "2019-10-25 04:49:19,380:qiskit.aqua.algorithms.adaptive.vq_algorithm:INFO: Starting optimizer.\n",
      "bounds=[(-3.141592653589793, 3.141592653589793), (-3.141592653589793, 3.141592653589793), (-3.141592653589793, 3.141592653589793), (-3.141592653589793, 3.141592653589793), (-3.141592653589793, 3.141592653589793), (-3.141592653589793, 3.141592653589793), (-3.141592653589793, 3.141592653589793), (-3.141592653589793, 3.141592653589793), (-3.141592653589793, 3.141592653589793), (-3.141592653589793, 3.141592653589793), (-3.141592653589793, 3.141592653589793), (-3.141592653589793, 3.141592653589793), (-3.141592653589793, 3.141592653589793), (-3.141592653589793, 3.141592653589793), (-3.141592653589793, 3.141592653589793), (-3.141592653589793, 3.141592653589793), (-3.141592653589793, 3.141592653589793), (-3.141592653589793, 3.141592653589793), (-3.141592653589793, 3.141592653589793), (-3.141592653589793, 3.141592653589793), (-3.141592653589793, 3.141592653589793), (-3.141592653589793, 3.141592653589793), (-3.141592653589793, 3.141592653589793), (-3.141592653589793, 3.141592653589793)]\n",
      "initial point=[-1.87865818  0.68928702  1.32959434 -2.92617641  2.0841704  -3.06024521\n",
      " -2.31954393 -0.60344423  0.51027028  2.27854444 -0.88811941 -1.65680639\n",
      " -0.47666464 -1.38808826  1.87868607  2.91933118 -1.12379618  0.62839234\n",
      " -0.00797787  1.86517546  0.15289052  0.99532202  1.61006354  0.68360335]\n",
      "2019-10-25 04:49:19,463:qiskit.aqua.algorithms.adaptive.vqe.vqe:INFO: Energy evaluation 1 returned 0.6990763756885281\n",
      "2019-10-25 04:49:19,544:qiskit.aqua.algorithms.adaptive.vqe.vqe:INFO: Energy evaluation 2 returned 0.5948818616249489\n",
      "2019-10-25 04:49:19,627:qiskit.aqua.algorithms.adaptive.vqe.vqe:INFO: Energy evaluation 3 returned 0.6135537422334599\n",
      "2019-10-25 04:49:19,700:qiskit.aqua.algorithms.adaptive.vqe.vqe:INFO: Energy evaluation 4 returned 0.6303115478626442\n",
      "2019-10-25 04:49:19,775:qiskit.aqua.algorithms.adaptive.vqe.vqe:INFO: Energy evaluation 5 returned 0.5012768611973508\n",
      "2019-10-25 04:49:19,848:qiskit.aqua.algorithms.adaptive.vqe.vqe:INFO: Energy evaluation 6 returned 0.8163851598493933\n",
      "2019-10-25 04:49:20,066:qiskit.aqua.algorithms.adaptive.vqe.vqe:INFO: Energy evaluation 7 returned 0.7294364344990669\n",
      "2019-10-25 04:49:20,137:qiskit.aqua.algorithms.adaptive.vqe.vqe:INFO: Energy evaluation 8 returned 0.5580222186533661\n",
      "2019-10-25 04:49:20,210:qiskit.aqua.algorithms.adaptive.vqe.vqe:INFO: Energy evaluation 9 returned 0.5645990654099728\n",
      "2019-10-25 04:49:20,283:qiskit.aqua.algorithms.adaptive.vqe.vqe:INFO: Energy evaluation 10 returned 0.6716270269881383\n",
      "2019-10-25 04:49:20,357:qiskit.aqua.algorithms.adaptive.vqe.vqe:INFO: Energy evaluation 11 returned 1.0626757624338936\n",
      "2019-10-25 04:49:20,433:qiskit.aqua.algorithms.adaptive.vqe.vqe:INFO: Energy evaluation 12 returned 0.30792230070071347\n",
      "2019-10-25 04:49:20,507:qiskit.aqua.algorithms.adaptive.vqe.vqe:INFO: Energy evaluation 13 returned 0.7213441589519858\n",
      "2019-10-25 04:49:20,580:qiskit.aqua.algorithms.adaptive.vqe.vqe:INFO: Energy evaluation 14 returned 0.4826619175502117\n",
      "2019-10-25 04:49:20,656:qiskit.aqua.algorithms.adaptive.vqe.vqe:INFO: Energy evaluation 15 returned 0.538955335432287\n",
      "2019-10-25 04:49:20,737:qiskit.aqua.algorithms.adaptive.vqe.vqe:INFO: Energy evaluation 16 returned 0.7497211293430159\n",
      "2019-10-25 04:49:20,818:qiskit.aqua.algorithms.adaptive.vqe.vqe:INFO: Energy evaluation 17 returned 0.8899090945101743\n",
      "2019-10-25 04:49:20,898:qiskit.aqua.algorithms.adaptive.vqe.vqe:INFO: Energy evaluation 18 returned 0.4125064739622466\n",
      "2019-10-25 04:49:20,978:qiskit.aqua.algorithms.adaptive.vqe.vqe:INFO: Energy evaluation 19 returned 0.3928631269825069\n",
      "2019-10-25 04:49:21,057:qiskit.aqua.algorithms.adaptive.vqe.vqe:INFO: Energy evaluation 20 returned 0.9655661401081239\n",
      "2019-10-25 04:49:21,134:qiskit.aqua.algorithms.adaptive.vqe.vqe:INFO: Energy evaluation 21 returned 0.8257642826845262\n",
      "2019-10-25 04:49:21,211:qiskit.aqua.algorithms.adaptive.vqe.vqe:INFO: Energy evaluation 22 returned 0.5008966606862794\n",
      "2019-10-25 04:49:21,292:qiskit.aqua.algorithms.adaptive.vqe.vqe:INFO: Energy evaluation 23 returned 0.6411656867550959\n",
      "2019-10-25 04:49:21,374:qiskit.aqua.algorithms.adaptive.vqe.vqe:INFO: Energy evaluation 24 returned 0.5648887926913821\n",
      "2019-10-25 04:49:21,450:qiskit.aqua.algorithms.adaptive.vqe.vqe:INFO: Energy evaluation 25 returned 0.8476911686690888\n",
      "2019-10-25 04:49:21,531:qiskit.aqua.algorithms.adaptive.vqe.vqe:INFO: Energy evaluation 26 returned 0.3285834111374933\n",
      "2019-10-25 04:49:21,614:qiskit.aqua.algorithms.adaptive.vqe.vqe:INFO: Energy evaluation 27 returned 0.49658531382503635\n",
      "2019-10-25 04:49:21,689:qiskit.aqua.algorithms.adaptive.vqe.vqe:INFO: Energy evaluation 28 returned 0.9034467283648848\n",
      "2019-10-25 04:49:21,764:qiskit.aqua.algorithms.adaptive.vqe.vqe:INFO: Energy evaluation 29 returned 0.46753543632638156\n",
      "2019-10-25 04:49:21,838:qiskit.aqua.algorithms.adaptive.vqe.vqe:INFO: Energy evaluation 30 returned 0.8056242062322122\n",
      "2019-10-25 04:49:21,913:qiskit.aqua.algorithms.adaptive.vqe.vqe:INFO: Energy evaluation 31 returned 0.449044573423847\n"
     ]
    },
    {
     "name": "stderr",
     "output_type": "stream",
     "text": [
      "2019-10-25 04:49:21,994:qiskit.aqua.algorithms.adaptive.vqe.vqe:INFO: Energy evaluation 32 returned 0.7922132217750304\n",
      "2019-10-25 04:49:22,074:qiskit.aqua.algorithms.adaptive.vqe.vqe:INFO: Energy evaluation 33 returned 0.5415898703183495\n",
      "2019-10-25 04:49:22,148:qiskit.aqua.algorithms.adaptive.vqe.vqe:INFO: Energy evaluation 34 returned 0.7854836789376654\n",
      "2019-10-25 04:49:22,222:qiskit.aqua.algorithms.adaptive.vqe.vqe:INFO: Energy evaluation 35 returned 0.5157863628805479\n",
      "2019-10-25 04:49:22,295:qiskit.aqua.algorithms.adaptive.vqe.vqe:INFO: Energy evaluation 36 returned 0.7368155399342534\n",
      "2019-10-25 04:49:22,528:qiskit.aqua.algorithms.adaptive.vqe.vqe:INFO: Energy evaluation 37 returned 0.6220339153951889\n",
      "2019-10-25 04:49:22,605:qiskit.aqua.algorithms.adaptive.vqe.vqe:INFO: Energy evaluation 38 returned 0.6898328857273588\n",
      "2019-10-25 04:49:22,681:qiskit.aqua.algorithms.adaptive.vqe.vqe:INFO: Energy evaluation 39 returned 0.4521986106681771\n",
      "2019-10-25 04:49:22,754:qiskit.aqua.algorithms.adaptive.vqe.vqe:INFO: Energy evaluation 40 returned 0.9987514603932954\n",
      "2019-10-25 04:49:22,829:qiskit.aqua.algorithms.adaptive.vqe.vqe:INFO: Energy evaluation 41 returned 0.5412792061433942\n",
      "2019-10-25 04:49:22,906:qiskit.aqua.algorithms.adaptive.vqe.vqe:INFO: Energy evaluation 42 returned 0.7859987743153914\n",
      "2019-10-25 04:49:22,981:qiskit.aqua.algorithms.adaptive.vqe.vqe:INFO: Energy evaluation 43 returned 0.7779437045835146\n",
      "2019-10-25 04:49:23,053:qiskit.aqua.algorithms.adaptive.vqe.vqe:INFO: Energy evaluation 44 returned 0.5585282665814476\n",
      "2019-10-25 04:49:23,126:qiskit.aqua.algorithms.adaptive.vqe.vqe:INFO: Energy evaluation 45 returned 0.47305031219483606\n",
      "2019-10-25 04:49:23,202:qiskit.aqua.algorithms.adaptive.vqe.vqe:INFO: Energy evaluation 46 returned 0.8125059537172473\n",
      "2019-10-25 04:49:23,277:qiskit.aqua.algorithms.adaptive.vqe.vqe:INFO: Energy evaluation 47 returned 0.7704947614623141\n",
      "2019-10-25 04:49:23,350:qiskit.aqua.algorithms.adaptive.vqe.vqe:INFO: Energy evaluation 48 returned 0.5389969740804845\n",
      "2019-10-25 04:49:23,428:qiskit.aqua.algorithms.adaptive.vqe.vqe:INFO: Energy evaluation 49 returned 0.6275207071288483\n",
      "2019-10-25 04:49:23,505:qiskit.aqua.algorithms.adaptive.vqe.vqe:INFO: Energy evaluation 50 returned 0.6403481564142235\n",
      "2019-10-25 04:49:23,580:qiskit.aqua.algorithms.adaptive.vqe.vqe:INFO: Energy evaluation 51 returned 0.5007001650423376\n",
      "2019-10-25 04:49:23,655:qiskit.aqua.algorithms.adaptive.vqe.vqe:INFO: Energy evaluation 52 returned 0.9159423645743846\n",
      "2019-10-25 04:49:23,729:qiskit.aqua.algorithms.adaptive.vqe.vqe:INFO: Energy evaluation 53 returned 0.8709468189237692\n",
      "2019-10-25 04:49:23,802:qiskit.aqua.algorithms.adaptive.vqe.vqe:INFO: Energy evaluation 54 returned 0.8417516550058148\n",
      "2019-10-25 04:49:23,878:qiskit.aqua.algorithms.adaptive.vqe.vqe:INFO: Energy evaluation 55 returned 0.9664670949578636\n",
      "2019-10-25 04:49:23,953:qiskit.aqua.algorithms.adaptive.vqe.vqe:INFO: Energy evaluation 56 returned 0.7371893846263098\n",
      "2019-10-25 04:49:24,030:qiskit.aqua.algorithms.adaptive.vqe.vqe:INFO: Energy evaluation 57 returned 0.3896511736061557\n",
      "2019-10-25 04:49:24,107:qiskit.aqua.algorithms.adaptive.vqe.vqe:INFO: Energy evaluation 58 returned -0.008133085245078182\n",
      "2019-10-25 04:49:24,182:qiskit.aqua.algorithms.adaptive.vqe.vqe:INFO: Energy evaluation 59 returned -0.5062322184375058\n",
      "2019-10-25 04:49:24,255:qiskit.aqua.algorithms.adaptive.vqe.vqe:INFO: Energy evaluation 60 returned -0.5494347297110822\n",
      "2019-10-25 04:49:24,328:qiskit.aqua.algorithms.adaptive.vqe.vqe:INFO: Energy evaluation 61 returned -0.5269440642332044\n",
      "2019-10-25 04:49:24,403:qiskit.aqua.algorithms.adaptive.vqe.vqe:INFO: Energy evaluation 62 returned -0.5768645887175543\n",
      "2019-10-25 04:49:24,475:qiskit.aqua.algorithms.adaptive.vqe.vqe:INFO: Energy evaluation 63 returned -0.4161282246209995\n",
      "2019-10-25 04:49:24,551:qiskit.aqua.algorithms.adaptive.vqe.vqe:INFO: Energy evaluation 64 returned -0.6933089802299169\n",
      "2019-10-25 04:49:24,623:qiskit.aqua.algorithms.adaptive.vqe.vqe:INFO: Energy evaluation 65 returned -0.7609545002460372\n",
      "2019-10-25 04:49:24,696:qiskit.aqua.algorithms.adaptive.vqe.vqe:INFO: Energy evaluation 66 returned -0.8484959819076159\n",
      "2019-10-25 04:49:24,920:qiskit.aqua.algorithms.adaptive.vqe.vqe:INFO: Energy evaluation 67 returned -0.9336702964030996\n",
      "2019-10-25 04:49:24,991:qiskit.aqua.algorithms.adaptive.vqe.vqe:INFO: Energy evaluation 68 returned -0.7417730908410708\n",
      "2019-10-25 04:49:25,066:qiskit.aqua.algorithms.adaptive.vqe.vqe:INFO: Energy evaluation 69 returned -1.0508664381431563\n",
      "2019-10-25 04:49:25,139:qiskit.aqua.algorithms.adaptive.vqe.vqe:INFO: Energy evaluation 70 returned -0.8677604234102478\n",
      "2019-10-25 04:49:25,214:qiskit.aqua.algorithms.adaptive.vqe.vqe:INFO: Energy evaluation 71 returned -0.9846491664748163\n",
      "2019-10-25 04:49:25,286:qiskit.aqua.algorithms.adaptive.vqe.vqe:INFO: Energy evaluation 72 returned -1.0455578710339717\n",
      "2019-10-25 04:49:25,369:qiskit.aqua.algorithms.adaptive.vqe.vqe:INFO: Energy evaluation 73 returned -1.1127511151591525\n",
      "2019-10-25 04:49:25,457:qiskit.aqua.algorithms.adaptive.vqe.vqe:INFO: Energy evaluation 74 returned -0.8655263864421323\n",
      "2019-10-25 04:49:25,545:qiskit.aqua.algorithms.adaptive.vqe.vqe:INFO: Energy evaluation 75 returned -1.0320565539386792\n",
      "2019-10-25 04:49:25,637:qiskit.aqua.algorithms.adaptive.vqe.vqe:INFO: Energy evaluation 76 returned -0.941345697981482\n",
      "2019-10-25 04:49:25,732:qiskit.aqua.algorithms.adaptive.vqe.vqe:INFO: Energy evaluation 77 returned -1.0015122905953873\n",
      "2019-10-25 04:49:25,820:qiskit.aqua.algorithms.adaptive.vqe.vqe:INFO: Energy evaluation 78 returned -1.0668752898694709\n",
      "2019-10-25 04:49:25,910:qiskit.aqua.algorithms.adaptive.vqe.vqe:INFO: Energy evaluation 79 returned -1.002033833360011\n",
      "2019-10-25 04:49:25,992:qiskit.aqua.algorithms.adaptive.vqe.vqe:INFO: Energy evaluation 80 returned -1.0192211012358197\n",
      "2019-10-25 04:49:26,076:qiskit.aqua.algorithms.adaptive.vqe.vqe:INFO: Energy evaluation 81 returned -0.9776974211510844\n",
      "2019-10-25 04:49:26,172:qiskit.aqua.algorithms.adaptive.vqe.vqe:INFO: Energy evaluation 82 returned -1.1009715604518773\n",
      "2019-10-25 04:49:26,248:qiskit.aqua.algorithms.adaptive.vqe.vqe:INFO: Energy evaluation 83 returned -1.1419072418699152\n",
      "2019-10-25 04:49:26,329:qiskit.aqua.algorithms.adaptive.vqe.vqe:INFO: Energy evaluation 84 returned -1.0042373465936667\n",
      "2019-10-25 04:49:26,407:qiskit.aqua.algorithms.adaptive.vqe.vqe:INFO: Energy evaluation 85 returned -1.1508346166646404\n",
      "2019-10-25 04:49:26,486:qiskit.aqua.algorithms.adaptive.vqe.vqe:INFO: Energy evaluation 86 returned -0.9440227247065831\n",
      "2019-10-25 04:49:26,563:qiskit.aqua.algorithms.adaptive.vqe.vqe:INFO: Energy evaluation 87 returned -1.1677029462427517\n",
      "2019-10-25 04:49:26,641:qiskit.aqua.algorithms.adaptive.vqe.vqe:INFO: Energy evaluation 88 returned -0.9450468741321292\n",
      "2019-10-25 04:49:26,715:qiskit.aqua.algorithms.adaptive.vqe.vqe:INFO: Energy evaluation 89 returned -1.251960451281282\n",
      "2019-10-25 04:49:26,791:qiskit.aqua.algorithms.adaptive.vqe.vqe:INFO: Energy evaluation 90 returned -1.058157469736364\n",
      "2019-10-25 04:49:26,866:qiskit.aqua.algorithms.adaptive.vqe.vqe:INFO: Energy evaluation 91 returned -1.233244128757418\n",
      "2019-10-25 04:49:26,943:qiskit.aqua.algorithms.adaptive.vqe.vqe:INFO: Energy evaluation 92 returned -1.2540224082333093\n",
      "2019-10-25 04:49:27,020:qiskit.aqua.algorithms.adaptive.vqe.vqe:INFO: Energy evaluation 93 returned -1.2560716497825775\n",
      "2019-10-25 04:49:27,102:qiskit.aqua.algorithms.adaptive.vqe.vqe:INFO: Energy evaluation 94 returned -1.2193927007466003\n",
      "2019-10-25 04:49:27,188:qiskit.aqua.algorithms.adaptive.vqe.vqe:INFO: Energy evaluation 95 returned -1.2842235348760527\n",
      "2019-10-25 04:49:27,268:qiskit.aqua.algorithms.adaptive.vqe.vqe:INFO: Energy evaluation 96 returned -1.19773434848853\n",
      "2019-10-25 04:49:27,487:qiskit.aqua.algorithms.adaptive.vqe.vqe:INFO: Energy evaluation 97 returned -1.2025577829450886\n",
      "2019-10-25 04:49:27,570:qiskit.aqua.algorithms.adaptive.vqe.vqe:INFO: Energy evaluation 98 returned -1.308168862056823\n",
      "2019-10-25 04:49:27,653:qiskit.aqua.algorithms.adaptive.vqe.vqe:INFO: Energy evaluation 99 returned -1.3282009254296308\n",
      "2019-10-25 04:49:27,738:qiskit.aqua.algorithms.adaptive.vqe.vqe:INFO: Energy evaluation 100 returned -1.2395961307798116\n"
     ]
    },
    {
     "name": "stderr",
     "output_type": "stream",
     "text": [
      "2019-10-25 04:49:27,824:qiskit.aqua.algorithms.adaptive.vqe.vqe:INFO: Energy evaluation 101 returned -1.3480666258615197\n",
      "2019-10-25 04:49:27,911:qiskit.aqua.algorithms.adaptive.vqe.vqe:INFO: Energy evaluation 102 returned -1.2543607126050536\n",
      "2019-10-25 04:49:27,992:qiskit.aqua.algorithms.adaptive.vqe.vqe:INFO: Energy evaluation 103 returned -1.3262720196092381\n",
      "2019-10-25 04:49:28,078:qiskit.aqua.algorithms.adaptive.vqe.vqe:INFO: Energy evaluation 104 returned -1.322693344354066\n",
      "2019-10-25 04:49:28,161:qiskit.aqua.algorithms.adaptive.vqe.vqe:INFO: Energy evaluation 105 returned -1.305357099589374\n",
      "2019-10-25 04:49:28,250:qiskit.aqua.algorithms.adaptive.vqe.vqe:INFO: Energy evaluation 106 returned -1.3328447319571082\n",
      "2019-10-25 04:49:28,333:qiskit.aqua.algorithms.adaptive.vqe.vqe:INFO: Energy evaluation 107 returned -1.363269009949721\n",
      "2019-10-25 04:49:28,414:qiskit.aqua.algorithms.adaptive.vqe.vqe:INFO: Energy evaluation 108 returned -1.2759549556046585\n",
      "2019-10-25 04:49:28,493:qiskit.aqua.algorithms.adaptive.vqe.vqe:INFO: Energy evaluation 109 returned -1.273255046825605\n",
      "2019-10-25 04:49:28,572:qiskit.aqua.algorithms.adaptive.vqe.vqe:INFO: Energy evaluation 110 returned -1.358160828131425\n",
      "2019-10-25 04:49:28,650:qiskit.aqua.algorithms.adaptive.vqe.vqe:INFO: Energy evaluation 111 returned -1.3831940357374917\n",
      "2019-10-25 04:49:28,729:qiskit.aqua.algorithms.adaptive.vqe.vqe:INFO: Energy evaluation 112 returned -1.3221794035358432\n",
      "2019-10-25 04:49:28,809:qiskit.aqua.algorithms.adaptive.vqe.vqe:INFO: Energy evaluation 113 returned -1.3296977118358768\n",
      "2019-10-25 04:49:28,891:qiskit.aqua.algorithms.adaptive.vqe.vqe:INFO: Energy evaluation 114 returned -1.3746249001172053\n",
      "2019-10-25 04:49:28,971:qiskit.aqua.algorithms.adaptive.vqe.vqe:INFO: Energy evaluation 115 returned -1.345503781051667\n",
      "2019-10-25 04:49:29,050:qiskit.aqua.algorithms.adaptive.vqe.vqe:INFO: Energy evaluation 116 returned -1.3620957869181995\n",
      "2019-10-25 04:49:29,130:qiskit.aqua.algorithms.adaptive.vqe.vqe:INFO: Energy evaluation 117 returned -1.3444188491374578\n",
      "2019-10-25 04:49:29,213:qiskit.aqua.algorithms.adaptive.vqe.vqe:INFO: Energy evaluation 118 returned -1.328751998831953\n",
      "2019-10-25 04:49:29,299:qiskit.aqua.algorithms.adaptive.vqe.vqe:INFO: Energy evaluation 119 returned -1.324177217387554\n",
      "2019-10-25 04:49:29,382:qiskit.aqua.algorithms.adaptive.vqe.vqe:INFO: Energy evaluation 120 returned -1.3917718217795318\n",
      "2019-10-25 04:49:29,464:qiskit.aqua.algorithms.adaptive.vqe.vqe:INFO: Energy evaluation 121 returned -1.3796855486397845\n",
      "2019-10-25 04:49:29,553:qiskit.aqua.algorithms.adaptive.vqe.vqe:INFO: Energy evaluation 122 returned -1.260332205735035\n",
      "2019-10-25 04:49:29,635:qiskit.aqua.algorithms.adaptive.vqe.vqe:INFO: Energy evaluation 123 returned -1.3483176011836795\n",
      "2019-10-25 04:49:29,719:qiskit.aqua.algorithms.adaptive.vqe.vqe:INFO: Energy evaluation 124 returned -1.3674850344028822\n",
      "2019-10-25 04:49:29,803:qiskit.aqua.algorithms.adaptive.vqe.vqe:INFO: Energy evaluation 125 returned -1.409710351962548\n",
      "2019-10-25 04:49:29,892:qiskit.aqua.algorithms.adaptive.vqe.vqe:INFO: Energy evaluation 126 returned -1.322462733619835\n",
      "2019-10-25 04:49:30,094:qiskit.aqua.algorithms.adaptive.vqe.vqe:INFO: Energy evaluation 127 returned -1.379457324320741\n",
      "2019-10-25 04:49:30,173:qiskit.aqua.algorithms.adaptive.vqe.vqe:INFO: Energy evaluation 128 returned -1.421004358174037\n",
      "2019-10-25 04:49:30,250:qiskit.aqua.algorithms.adaptive.vqe.vqe:INFO: Energy evaluation 129 returned -1.402013700293049\n",
      "2019-10-25 04:49:30,327:qiskit.aqua.algorithms.adaptive.vqe.vqe:INFO: Energy evaluation 130 returned -1.3788592224208551\n",
      "2019-10-25 04:49:30,408:qiskit.aqua.algorithms.adaptive.vqe.vqe:INFO: Energy evaluation 131 returned -1.4048483924554873\n",
      "2019-10-25 04:49:30,486:qiskit.aqua.algorithms.adaptive.vqe.vqe:INFO: Energy evaluation 132 returned -1.354970036279692\n",
      "2019-10-25 04:49:30,564:qiskit.aqua.algorithms.adaptive.vqe.vqe:INFO: Energy evaluation 133 returned -1.400788168067466\n",
      "2019-10-25 04:49:30,643:qiskit.aqua.algorithms.adaptive.vqe.vqe:INFO: Energy evaluation 134 returned -1.4035243042292658\n",
      "2019-10-25 04:49:30,721:qiskit.aqua.algorithms.adaptive.vqe.vqe:INFO: Energy evaluation 135 returned -1.3394177726169312\n",
      "2019-10-25 04:49:30,798:qiskit.aqua.algorithms.adaptive.vqe.vqe:INFO: Energy evaluation 136 returned -1.4188076813742148\n",
      "2019-10-25 04:49:30,880:qiskit.aqua.algorithms.adaptive.vqe.vqe:INFO: Energy evaluation 137 returned -1.394316649373406\n",
      "2019-10-25 04:49:30,959:qiskit.aqua.algorithms.adaptive.vqe.vqe:INFO: Energy evaluation 138 returned -1.3601488083543505\n",
      "2019-10-25 04:49:31,037:qiskit.aqua.algorithms.adaptive.vqe.vqe:INFO: Energy evaluation 139 returned -1.4255333075320649\n",
      "2019-10-25 04:49:31,114:qiskit.aqua.algorithms.adaptive.vqe.vqe:INFO: Energy evaluation 140 returned -1.3759404655825638\n",
      "2019-10-25 04:49:31,194:qiskit.aqua.algorithms.adaptive.vqe.vqe:INFO: Energy evaluation 141 returned -1.3374837662488765\n",
      "2019-10-25 04:49:31,279:qiskit.aqua.algorithms.adaptive.vqe.vqe:INFO: Energy evaluation 142 returned -1.419017869709707\n",
      "2019-10-25 04:49:31,367:qiskit.aqua.algorithms.adaptive.vqe.vqe:INFO: Energy evaluation 143 returned -1.4292916472572175\n",
      "2019-10-25 04:49:31,454:qiskit.aqua.algorithms.adaptive.vqe.vqe:INFO: Energy evaluation 144 returned -1.4290951502304463\n",
      "2019-10-25 04:49:31,536:qiskit.aqua.algorithms.adaptive.vqe.vqe:INFO: Energy evaluation 145 returned -1.4092121011480863\n",
      "2019-10-25 04:49:31,620:qiskit.aqua.algorithms.adaptive.vqe.vqe:INFO: Energy evaluation 146 returned -1.4106852694231165\n",
      "2019-10-25 04:49:31,697:qiskit.aqua.algorithms.adaptive.vqe.vqe:INFO: Energy evaluation 147 returned -1.4088333250840035\n",
      "2019-10-25 04:49:31,780:qiskit.aqua.algorithms.adaptive.vqe.vqe:INFO: Energy evaluation 148 returned -1.4235681333425831\n",
      "2019-10-25 04:49:31,863:qiskit.aqua.algorithms.adaptive.vqe.vqe:INFO: Energy evaluation 149 returned -1.4334116692486025\n",
      "2019-10-25 04:49:31,942:qiskit.aqua.algorithms.adaptive.vqe.vqe:INFO: Energy evaluation 150 returned -1.4425121575786235\n",
      "2019-10-25 04:49:32,021:qiskit.aqua.algorithms.adaptive.vqe.vqe:INFO: Energy evaluation 151 returned -1.3679047082930553\n",
      "2019-10-25 04:49:32,104:qiskit.aqua.algorithms.adaptive.vqe.vqe:INFO: Energy evaluation 152 returned -1.4202054629820229\n",
      "2019-10-25 04:49:32,183:qiskit.aqua.algorithms.adaptive.vqe.vqe:INFO: Energy evaluation 153 returned -1.4067255923586672\n",
      "2019-10-25 04:49:32,259:qiskit.aqua.algorithms.adaptive.vqe.vqe:INFO: Energy evaluation 154 returned -1.4010227718193031\n",
      "2019-10-25 04:49:32,348:qiskit.aqua.algorithms.adaptive.vqe.vqe:INFO: Energy evaluation 155 returned -1.4094382413799214\n",
      "2019-10-25 04:49:32,436:qiskit.aqua.algorithms.adaptive.vqe.vqe:INFO: Energy evaluation 156 returned -1.4309555594280228\n",
      "2019-10-25 04:49:32,667:qiskit.aqua.algorithms.adaptive.vqe.vqe:INFO: Energy evaluation 157 returned -1.4016813955653173\n",
      "2019-10-25 04:49:32,745:qiskit.aqua.algorithms.adaptive.vqe.vqe:INFO: Energy evaluation 158 returned -1.3646653299977312\n",
      "2019-10-25 04:49:32,820:qiskit.aqua.algorithms.adaptive.vqe.vqe:INFO: Energy evaluation 159 returned -1.3994377396054836\n",
      "2019-10-25 04:49:32,902:qiskit.aqua.algorithms.adaptive.vqe.vqe:INFO: Energy evaluation 160 returned -1.4358629343572558\n",
      "2019-10-25 04:49:32,980:qiskit.aqua.algorithms.adaptive.vqe.vqe:INFO: Energy evaluation 161 returned -1.4437388244293947\n",
      "2019-10-25 04:49:33,058:qiskit.aqua.algorithms.adaptive.vqe.vqe:INFO: Energy evaluation 162 returned -1.4330664334220402\n",
      "2019-10-25 04:49:33,135:qiskit.aqua.algorithms.adaptive.vqe.vqe:INFO: Energy evaluation 163 returned -1.4262803635095276\n",
      "2019-10-25 04:49:33,211:qiskit.aqua.algorithms.adaptive.vqe.vqe:INFO: Energy evaluation 164 returned -1.4436784343314737\n",
      "2019-10-25 04:49:33,287:qiskit.aqua.algorithms.adaptive.vqe.vqe:INFO: Energy evaluation 165 returned -1.4475846804321546\n",
      "2019-10-25 04:49:33,362:qiskit.aqua.algorithms.adaptive.vqe.vqe:INFO: Energy evaluation 166 returned -1.4037090560015244\n",
      "2019-10-25 04:49:33,434:qiskit.aqua.algorithms.adaptive.vqe.vqe:INFO: Energy evaluation 167 returned -1.4187249826391897\n",
      "2019-10-25 04:49:33,507:qiskit.aqua.algorithms.adaptive.vqe.vqe:INFO: Energy evaluation 168 returned -1.3958221466226706\n"
     ]
    },
    {
     "name": "stderr",
     "output_type": "stream",
     "text": [
      "2019-10-25 04:49:33,580:qiskit.aqua.algorithms.adaptive.vqe.vqe:INFO: Energy evaluation 169 returned -1.387392031124335\n",
      "2019-10-25 04:49:33,653:qiskit.aqua.algorithms.adaptive.vqe.vqe:INFO: Energy evaluation 170 returned -1.4236313406005274\n",
      "2019-10-25 04:49:33,729:qiskit.aqua.algorithms.adaptive.vqe.vqe:INFO: Energy evaluation 171 returned -1.4654150475507697\n",
      "2019-10-25 04:49:33,803:qiskit.aqua.algorithms.adaptive.vqe.vqe:INFO: Energy evaluation 172 returned -1.4298404915227538\n",
      "2019-10-25 04:49:33,888:qiskit.aqua.algorithms.adaptive.vqe.vqe:INFO: Energy evaluation 173 returned -1.430517577176551\n",
      "2019-10-25 04:49:33,978:qiskit.aqua.algorithms.adaptive.vqe.vqe:INFO: Energy evaluation 174 returned -1.4531359570542866\n",
      "2019-10-25 04:49:34,060:qiskit.aqua.algorithms.adaptive.vqe.vqe:INFO: Energy evaluation 175 returned -1.4267411714650844\n",
      "2019-10-25 04:49:34,137:qiskit.aqua.algorithms.adaptive.vqe.vqe:INFO: Energy evaluation 176 returned -1.4457053582698263\n",
      "2019-10-25 04:49:34,212:qiskit.aqua.algorithms.adaptive.vqe.vqe:INFO: Energy evaluation 177 returned -1.44234073146137\n",
      "2019-10-25 04:49:34,307:qiskit.aqua.algorithms.adaptive.vqe.vqe:INFO: Energy evaluation 178 returned -1.4459639860734652\n",
      "2019-10-25 04:49:34,402:qiskit.aqua.algorithms.adaptive.vqe.vqe:INFO: Energy evaluation 179 returned -1.4155473685165743\n",
      "2019-10-25 04:49:34,475:qiskit.aqua.algorithms.adaptive.vqe.vqe:INFO: Energy evaluation 180 returned -1.4206662483879073\n",
      "2019-10-25 04:49:34,552:qiskit.aqua.algorithms.adaptive.vqe.vqe:INFO: Energy evaluation 181 returned -1.4718866497741683\n",
      "2019-10-25 04:49:34,630:qiskit.aqua.algorithms.adaptive.vqe.vqe:INFO: Energy evaluation 182 returned -1.4126730310059703\n",
      "2019-10-25 04:49:34,707:qiskit.aqua.algorithms.adaptive.vqe.vqe:INFO: Energy evaluation 183 returned -1.4609697262420283\n",
      "2019-10-25 04:49:34,786:qiskit.aqua.algorithms.adaptive.vqe.vqe:INFO: Energy evaluation 184 returned -1.442090744905562\n",
      "2019-10-25 04:49:34,863:qiskit.aqua.algorithms.adaptive.vqe.vqe:INFO: Energy evaluation 185 returned -1.4324789707647614\n",
      "2019-10-25 04:49:34,937:qiskit.aqua.algorithms.adaptive.vqe.vqe:INFO: Energy evaluation 186 returned -1.4310324138613655\n",
      "2019-10-25 04:49:35,158:qiskit.aqua.algorithms.adaptive.vqe.vqe:INFO: Energy evaluation 187 returned -1.4449931565947012\n",
      "2019-10-25 04:49:35,233:qiskit.aqua.algorithms.adaptive.vqe.vqe:INFO: Energy evaluation 188 returned -1.4393745273624325\n",
      "2019-10-25 04:49:35,308:qiskit.aqua.algorithms.adaptive.vqe.vqe:INFO: Energy evaluation 189 returned -1.4510865129223636\n",
      "2019-10-25 04:49:35,384:qiskit.aqua.algorithms.adaptive.vqe.vqe:INFO: Energy evaluation 190 returned -1.4500587192856957\n",
      "2019-10-25 04:49:35,464:qiskit.aqua.algorithms.adaptive.vqe.vqe:INFO: Energy evaluation 191 returned -1.4673489654383165\n",
      "2019-10-25 04:49:35,539:qiskit.aqua.algorithms.adaptive.vqe.vqe:INFO: Energy evaluation 192 returned -1.445777536688537\n",
      "2019-10-25 04:49:35,615:qiskit.aqua.algorithms.adaptive.vqe.vqe:INFO: Energy evaluation 193 returned -1.419504427636941\n",
      "2019-10-25 04:49:35,690:qiskit.aqua.algorithms.adaptive.vqe.vqe:INFO: Energy evaluation 194 returned -1.4135384648004017\n",
      "2019-10-25 04:49:35,769:qiskit.aqua.algorithms.adaptive.vqe.vqe:INFO: Energy evaluation 195 returned -1.4634531155964792\n",
      "2019-10-25 04:49:35,851:qiskit.aqua.algorithms.adaptive.vqe.vqe:INFO: Energy evaluation 196 returned -1.4211946087674059\n",
      "2019-10-25 04:49:35,933:qiskit.aqua.algorithms.adaptive.vqe.vqe:INFO: Energy evaluation 197 returned -1.449747496633478\n",
      "2019-10-25 04:49:36,011:qiskit.aqua.algorithms.adaptive.vqe.vqe:INFO: Energy evaluation 198 returned -1.4609780032876034\n",
      "2019-10-25 04:49:36,095:qiskit.aqua.algorithms.adaptive.vqe.vqe:INFO: Energy evaluation 199 returned -1.4402881798286895\n",
      "2019-10-25 04:49:36,174:qiskit.aqua.algorithms.adaptive.vqe.vqe:INFO: Energy evaluation 200 returned -1.4596550357679785\n",
      "2019-10-25 04:49:36,248:qiskit.aqua.algorithms.adaptive.vqe.vqe:INFO: Energy evaluation 201 returned -1.442659931525262\n",
      "2019-10-25 04:49:36,325:qiskit.aqua.algorithms.adaptive.vqe.vqe:INFO: Energy evaluation 202 returned -1.4409939563824001\n",
      "2019-10-25 04:49:36,406:qiskit.aqua.algorithms.adaptive.vqe.vqe:INFO: Energy evaluation 203 returned -1.4517506410222283\n",
      "2019-10-25 04:49:36,485:qiskit.aqua.algorithms.adaptive.vqe.vqe:INFO: Energy evaluation 204 returned -1.4559512722494852\n",
      "2019-10-25 04:49:36,560:qiskit.aqua.algorithms.adaptive.vqe.vqe:INFO: Energy evaluation 205 returned -1.428124152844427\n",
      "2019-10-25 04:49:36,636:qiskit.aqua.algorithms.adaptive.vqe.vqe:INFO: Energy evaluation 206 returned -1.4519640416984998\n",
      "2019-10-25 04:49:36,710:qiskit.aqua.algorithms.adaptive.vqe.vqe:INFO: Energy evaluation 207 returned -1.4763338242495163\n",
      "2019-10-25 04:49:36,783:qiskit.aqua.algorithms.adaptive.vqe.vqe:INFO: Energy evaluation 208 returned -1.4307291173441121\n",
      "2019-10-25 04:49:36,858:qiskit.aqua.algorithms.adaptive.vqe.vqe:INFO: Energy evaluation 209 returned -1.4767597992355415\n",
      "2019-10-25 04:49:36,933:qiskit.aqua.algorithms.adaptive.vqe.vqe:INFO: Energy evaluation 210 returned -1.440999032832976\n",
      "2019-10-25 04:49:37,005:qiskit.aqua.algorithms.adaptive.vqe.vqe:INFO: Energy evaluation 211 returned -1.4441945155948834\n",
      "2019-10-25 04:49:37,081:qiskit.aqua.algorithms.adaptive.vqe.vqe:INFO: Energy evaluation 212 returned -1.4296578438095933\n",
      "2019-10-25 04:49:37,167:qiskit.aqua.algorithms.adaptive.vqe.vqe:INFO: Energy evaluation 213 returned -1.4323626889872363\n",
      "2019-10-25 04:49:37,243:qiskit.aqua.algorithms.adaptive.vqe.vqe:INFO: Energy evaluation 214 returned -1.4679787890785558\n",
      "2019-10-25 04:49:37,320:qiskit.aqua.algorithms.adaptive.vqe.vqe:INFO: Energy evaluation 215 returned -1.4816861063844182\n",
      "2019-10-25 04:49:37,420:qiskit.aqua.algorithms.adaptive.vqe.vqe:INFO: Energy evaluation 216 returned -1.4469463713487918\n",
      "2019-10-25 04:49:37,645:qiskit.aqua.algorithms.adaptive.vqe.vqe:INFO: Energy evaluation 217 returned -1.469026196884696\n",
      "2019-10-25 04:49:37,717:qiskit.aqua.algorithms.adaptive.vqe.vqe:INFO: Energy evaluation 218 returned -1.4576396551174904\n",
      "2019-10-25 04:49:37,794:qiskit.aqua.algorithms.adaptive.vqe.vqe:INFO: Energy evaluation 219 returned -1.4724362645885396\n",
      "2019-10-25 04:49:37,875:qiskit.aqua.algorithms.adaptive.vqe.vqe:INFO: Energy evaluation 220 returned -1.4468965192419787\n",
      "2019-10-25 04:49:37,949:qiskit.aqua.algorithms.adaptive.vqe.vqe:INFO: Energy evaluation 221 returned -1.449440050695753\n",
      "2019-10-25 04:49:38,023:qiskit.aqua.algorithms.adaptive.vqe.vqe:INFO: Energy evaluation 222 returned -1.4393455353714333\n",
      "2019-10-25 04:49:38,096:qiskit.aqua.algorithms.adaptive.vqe.vqe:INFO: Energy evaluation 223 returned -1.4729628729107425\n",
      "2019-10-25 04:49:38,171:qiskit.aqua.algorithms.adaptive.vqe.vqe:INFO: Energy evaluation 224 returned -1.4841055109387495\n",
      "2019-10-25 04:49:38,245:qiskit.aqua.algorithms.adaptive.vqe.vqe:INFO: Energy evaluation 225 returned -1.45953316156359\n",
      "2019-10-25 04:49:38,322:qiskit.aqua.algorithms.adaptive.vqe.vqe:INFO: Energy evaluation 226 returned -1.4667450782584541\n",
      "2019-10-25 04:49:38,396:qiskit.aqua.algorithms.adaptive.vqe.vqe:INFO: Energy evaluation 227 returned -1.4727609323193873\n",
      "2019-10-25 04:49:38,470:qiskit.aqua.algorithms.adaptive.vqe.vqe:INFO: Energy evaluation 228 returned -1.449530982284313\n",
      "2019-10-25 04:49:38,549:qiskit.aqua.algorithms.adaptive.vqe.vqe:INFO: Energy evaluation 229 returned -1.477668560354204\n",
      "2019-10-25 04:49:38,628:qiskit.aqua.algorithms.adaptive.vqe.vqe:INFO: Energy evaluation 230 returned -1.459400300971195\n",
      "2019-10-25 04:49:38,704:qiskit.aqua.algorithms.adaptive.vqe.vqe:INFO: Energy evaluation 231 returned -1.4674085452954158\n",
      "2019-10-25 04:49:38,779:qiskit.aqua.algorithms.adaptive.vqe.vqe:INFO: Energy evaluation 232 returned -1.4722901671968105\n",
      "2019-10-25 04:49:38,854:qiskit.aqua.algorithms.adaptive.vqe.vqe:INFO: Energy evaluation 233 returned -1.4518868689880287\n",
      "2019-10-25 04:49:38,929:qiskit.aqua.algorithms.adaptive.vqe.vqe:INFO: Energy evaluation 234 returned -1.4709255281532527\n",
      "2019-10-25 04:49:39,003:qiskit.aqua.algorithms.adaptive.vqe.vqe:INFO: Energy evaluation 235 returned -1.462438909641321\n",
      "2019-10-25 04:49:39,077:qiskit.aqua.algorithms.adaptive.vqe.vqe:INFO: Energy evaluation 236 returned -1.468429113924202\n"
     ]
    },
    {
     "name": "stderr",
     "output_type": "stream",
     "text": [
      "2019-10-25 04:49:39,150:qiskit.aqua.algorithms.adaptive.vqe.vqe:INFO: Energy evaluation 237 returned -1.4723505509633754\n",
      "2019-10-25 04:49:39,223:qiskit.aqua.algorithms.adaptive.vqe.vqe:INFO: Energy evaluation 238 returned -1.474141881074867\n",
      "2019-10-25 04:49:39,295:qiskit.aqua.algorithms.adaptive.vqe.vqe:INFO: Energy evaluation 239 returned -1.481380068509725\n",
      "2019-10-25 04:49:39,371:qiskit.aqua.algorithms.adaptive.vqe.vqe:INFO: Energy evaluation 240 returned -1.4708286922187908\n",
      "2019-10-25 04:49:39,443:qiskit.aqua.algorithms.adaptive.vqe.vqe:INFO: Energy evaluation 241 returned -1.43731047027727\n",
      "2019-10-25 04:49:39,516:qiskit.aqua.algorithms.adaptive.vqe.vqe:INFO: Energy evaluation 242 returned -1.4341351169179677\n",
      "2019-10-25 04:49:39,590:qiskit.aqua.algorithms.adaptive.vqe.vqe:INFO: Energy evaluation 243 returned -1.451230831412729\n",
      "2019-10-25 04:49:39,662:qiskit.aqua.algorithms.adaptive.vqe.vqe:INFO: Energy evaluation 244 returned -1.430859651709851\n",
      "2019-10-25 04:49:39,733:qiskit.aqua.algorithms.adaptive.vqe.vqe:INFO: Energy evaluation 245 returned -1.454884514915015\n",
      "2019-10-25 04:49:39,812:qiskit.aqua.algorithms.adaptive.vqe.vqe:INFO: Energy evaluation 246 returned -1.458115074179661\n",
      "2019-10-25 04:49:39,891:qiskit.aqua.algorithms.adaptive.vqe.vqe:INFO: Energy evaluation 247 returned -1.4453250509307518\n",
      "2019-10-25 04:49:40,108:qiskit.aqua.algorithms.adaptive.vqe.vqe:INFO: Energy evaluation 248 returned -1.4429445235586045\n",
      "2019-10-25 04:49:40,186:qiskit.aqua.algorithms.adaptive.vqe.vqe:INFO: Energy evaluation 249 returned -1.472718863736406\n",
      "2019-10-25 04:49:40,260:qiskit.aqua.algorithms.adaptive.vqe.vqe:INFO: Energy evaluation 250 returned -1.4844700411649223\n",
      "2019-10-25 04:49:40,334:qiskit.aqua.algorithms.adaptive.vqe.vqe:INFO: Energy evaluation 251 returned -1.4654721243057784\n",
      "2019-10-25 04:49:40,408:qiskit.aqua.algorithms.adaptive.vqe.vqe:INFO: Energy evaluation 252 returned -1.4583468431319153\n",
      "2019-10-25 04:49:40,484:qiskit.aqua.algorithms.adaptive.vqe.vqe:INFO: Energy evaluation 253 returned -1.451094031608493\n",
      "2019-10-25 04:49:40,558:qiskit.aqua.algorithms.adaptive.vqe.vqe:INFO: Energy evaluation 254 returned -1.4859036115057251\n",
      "2019-10-25 04:49:40,637:qiskit.aqua.algorithms.adaptive.vqe.vqe:INFO: Energy evaluation 255 returned -1.46512917152362\n",
      "2019-10-25 04:49:40,718:qiskit.aqua.algorithms.adaptive.vqe.vqe:INFO: Energy evaluation 256 returned -1.4376428379798978\n",
      "2019-10-25 04:49:40,796:qiskit.aqua.algorithms.adaptive.vqe.vqe:INFO: Energy evaluation 257 returned -1.47857037961521\n",
      "2019-10-25 04:49:40,870:qiskit.aqua.algorithms.adaptive.vqe.vqe:INFO: Energy evaluation 258 returned -1.4819149749719143\n",
      "2019-10-25 04:49:40,945:qiskit.aqua.algorithms.adaptive.vqe.vqe:INFO: Energy evaluation 259 returned -1.4687144827652414\n",
      "2019-10-25 04:49:41,021:qiskit.aqua.algorithms.adaptive.vqe.vqe:INFO: Energy evaluation 260 returned -1.472324437178364\n",
      "2019-10-25 04:49:41,094:qiskit.aqua.algorithms.adaptive.vqe.vqe:INFO: Energy evaluation 261 returned -1.4663988660330327\n",
      "2019-10-25 04:49:41,171:qiskit.aqua.algorithms.adaptive.vqe.vqe:INFO: Energy evaluation 262 returned -1.4553157430223516\n",
      "2019-10-25 04:49:41,253:qiskit.aqua.algorithms.adaptive.vqe.vqe:INFO: Energy evaluation 263 returned -1.4889763359388766\n",
      "2019-10-25 04:49:41,327:qiskit.aqua.algorithms.adaptive.vqe.vqe:INFO: Energy evaluation 264 returned -1.4835383533704627\n",
      "2019-10-25 04:49:41,402:qiskit.aqua.algorithms.adaptive.vqe.vqe:INFO: Energy evaluation 265 returned -1.4659569837564574\n",
      "2019-10-25 04:49:41,477:qiskit.aqua.algorithms.adaptive.vqe.vqe:INFO: Energy evaluation 266 returned -1.464723362778846\n",
      "2019-10-25 04:49:41,551:qiskit.aqua.algorithms.adaptive.vqe.vqe:INFO: Energy evaluation 267 returned -1.4253212997830145\n",
      "2019-10-25 04:49:41,624:qiskit.aqua.algorithms.adaptive.vqe.vqe:INFO: Energy evaluation 268 returned -1.449842235518019\n",
      "2019-10-25 04:49:41,702:qiskit.aqua.algorithms.adaptive.vqe.vqe:INFO: Energy evaluation 269 returned -1.4471756471785566\n",
      "2019-10-25 04:49:41,779:qiskit.aqua.algorithms.adaptive.vqe.vqe:INFO: Energy evaluation 270 returned -1.441507572101363\n",
      "2019-10-25 04:49:41,854:qiskit.aqua.algorithms.adaptive.vqe.vqe:INFO: Energy evaluation 271 returned -1.4683105310726248\n",
      "2019-10-25 04:49:41,927:qiskit.aqua.algorithms.adaptive.vqe.vqe:INFO: Energy evaluation 272 returned -1.455916519143279\n",
      "2019-10-25 04:49:42,007:qiskit.aqua.algorithms.adaptive.vqe.vqe:INFO: Energy evaluation 273 returned -1.4653692424097253\n",
      "2019-10-25 04:49:42,084:qiskit.aqua.algorithms.adaptive.vqe.vqe:INFO: Energy evaluation 274 returned -1.480035542124998\n",
      "2019-10-25 04:49:42,158:qiskit.aqua.algorithms.adaptive.vqe.vqe:INFO: Energy evaluation 275 returned -1.4527786045753908\n",
      "2019-10-25 04:49:42,235:qiskit.aqua.algorithms.adaptive.vqe.vqe:INFO: Energy evaluation 276 returned -1.4710640829582466\n",
      "2019-10-25 04:49:42,466:qiskit.aqua.algorithms.adaptive.vqe.vqe:INFO: Energy evaluation 277 returned -1.4408046643136596\n",
      "2019-10-25 04:49:42,539:qiskit.aqua.algorithms.adaptive.vqe.vqe:INFO: Energy evaluation 278 returned -1.4533243161383507\n",
      "2019-10-25 04:49:42,614:qiskit.aqua.algorithms.adaptive.vqe.vqe:INFO: Energy evaluation 279 returned -1.430352922934821\n",
      "2019-10-25 04:49:42,692:qiskit.aqua.algorithms.adaptive.vqe.vqe:INFO: Energy evaluation 280 returned -1.424023255880265\n",
      "2019-10-25 04:49:42,764:qiskit.aqua.algorithms.adaptive.vqe.vqe:INFO: Energy evaluation 281 returned -1.4584178194694128\n",
      "2019-10-25 04:49:42,842:qiskit.aqua.algorithms.adaptive.vqe.vqe:INFO: Energy evaluation 282 returned -1.4695787674396381\n",
      "2019-10-25 04:49:42,930:qiskit.aqua.algorithms.adaptive.vqe.vqe:INFO: Energy evaluation 283 returned -1.4813156775497769\n",
      "2019-10-25 04:49:43,003:qiskit.aqua.algorithms.adaptive.vqe.vqe:INFO: Energy evaluation 284 returned -1.4605449042191445\n",
      "2019-10-25 04:49:43,077:qiskit.aqua.algorithms.adaptive.vqe.vqe:INFO: Energy evaluation 285 returned -1.482580391407222\n",
      "2019-10-25 04:49:43,155:qiskit.aqua.algorithms.adaptive.vqe.vqe:INFO: Energy evaluation 286 returned -1.4804427539248006\n",
      "2019-10-25 04:49:43,233:qiskit.aqua.algorithms.adaptive.vqe.vqe:INFO: Energy evaluation 287 returned -1.4688473060026668\n",
      "2019-10-25 04:49:43,315:qiskit.aqua.algorithms.adaptive.vqe.vqe:INFO: Energy evaluation 288 returned -1.463045431117155\n",
      "2019-10-25 04:49:43,391:qiskit.aqua.algorithms.adaptive.vqe.vqe:INFO: Energy evaluation 289 returned -1.4460512160342873\n",
      "2019-10-25 04:49:43,464:qiskit.aqua.algorithms.adaptive.vqe.vqe:INFO: Energy evaluation 290 returned -1.4488923470742132\n",
      "2019-10-25 04:49:43,542:qiskit.aqua.algorithms.adaptive.vqe.vqe:INFO: Energy evaluation 291 returned -1.441582887125666\n",
      "2019-10-25 04:49:43,617:qiskit.aqua.algorithms.adaptive.vqe.vqe:INFO: Energy evaluation 292 returned -1.4415966859665323\n",
      "2019-10-25 04:49:43,691:qiskit.aqua.algorithms.adaptive.vqe.vqe:INFO: Energy evaluation 293 returned -1.4688750450314387\n",
      "2019-10-25 04:49:43,764:qiskit.aqua.algorithms.adaptive.vqe.vqe:INFO: Energy evaluation 294 returned -1.4619289704740237\n",
      "2019-10-25 04:49:43,841:qiskit.aqua.algorithms.adaptive.vqe.vqe:INFO: Energy evaluation 295 returned -1.4717591564024173\n",
      "2019-10-25 04:49:43,916:qiskit.aqua.algorithms.adaptive.vqe.vqe:INFO: Energy evaluation 296 returned -1.4846809943974832\n",
      "2019-10-25 04:49:43,989:qiskit.aqua.algorithms.adaptive.vqe.vqe:INFO: Energy evaluation 297 returned -1.4811756030514382\n",
      "2019-10-25 04:49:44,062:qiskit.aqua.algorithms.adaptive.vqe.vqe:INFO: Energy evaluation 298 returned -1.4831765898161586\n",
      "2019-10-25 04:49:44,135:qiskit.aqua.algorithms.adaptive.vqe.vqe:INFO: Energy evaluation 299 returned -1.4913105947242151\n",
      "2019-10-25 04:49:44,208:qiskit.aqua.algorithms.adaptive.vqe.vqe:INFO: Energy evaluation 300 returned -1.4895916327257932\n",
      "2019-10-25 04:49:44,283:qiskit.aqua.algorithms.adaptive.vqe.vqe:INFO: Energy evaluation 301 returned -1.4855874069167978\n",
      "2019-10-25 04:49:44,359:qiskit.aqua.algorithms.adaptive.vqe.vqe:INFO: Energy evaluation 302 returned -1.476376845949587\n",
      "2019-10-25 04:49:44,436:qiskit.aqua.algorithms.adaptive.vqe.vqe:INFO: Energy evaluation 303 returned -1.4683068912710393\n",
      "2019-10-25 04:49:44,513:qiskit.aqua.algorithms.adaptive.vqe.vqe:INFO: Energy evaluation 304 returned -1.472432280970083\n"
     ]
    },
    {
     "name": "stderr",
     "output_type": "stream",
     "text": [
      "2019-10-25 04:49:44,585:qiskit.aqua.algorithms.adaptive.vqe.vqe:INFO: Energy evaluation 305 returned -1.4715259733199975\n",
      "2019-10-25 04:49:44,658:qiskit.aqua.algorithms.adaptive.vqe.vqe:INFO: Energy evaluation 306 returned -1.471168282958916\n",
      "2019-10-25 04:49:44,879:qiskit.aqua.algorithms.adaptive.vqe.vqe:INFO: Energy evaluation 307 returned -1.4205023093840672\n",
      "2019-10-25 04:49:44,959:qiskit.aqua.algorithms.adaptive.vqe.vqe:INFO: Energy evaluation 308 returned -1.4346108787531227\n",
      "2019-10-25 04:49:45,033:qiskit.aqua.algorithms.adaptive.vqe.vqe:INFO: Energy evaluation 309 returned -1.4732033245861103\n",
      "2019-10-25 04:49:45,106:qiskit.aqua.algorithms.adaptive.vqe.vqe:INFO: Energy evaluation 310 returned -1.4839287820844198\n",
      "2019-10-25 04:49:45,178:qiskit.aqua.algorithms.adaptive.vqe.vqe:INFO: Energy evaluation 311 returned -1.48147390725843\n",
      "2019-10-25 04:49:45,252:qiskit.aqua.algorithms.adaptive.vqe.vqe:INFO: Energy evaluation 312 returned -1.4815490110679663\n",
      "2019-10-25 04:49:45,327:qiskit.aqua.algorithms.adaptive.vqe.vqe:INFO: Energy evaluation 313 returned -1.4637199370501728\n",
      "2019-10-25 04:49:45,401:qiskit.aqua.algorithms.adaptive.vqe.vqe:INFO: Energy evaluation 314 returned -1.4794615707550214\n",
      "2019-10-25 04:49:45,476:qiskit.aqua.algorithms.adaptive.vqe.vqe:INFO: Energy evaluation 315 returned -1.4709409025857614\n",
      "2019-10-25 04:49:45,551:qiskit.aqua.algorithms.adaptive.vqe.vqe:INFO: Energy evaluation 316 returned -1.45659189218343\n",
      "2019-10-25 04:49:45,628:qiskit.aqua.algorithms.adaptive.vqe.vqe:INFO: Energy evaluation 317 returned -1.4830793047771065\n",
      "2019-10-25 04:49:45,707:qiskit.aqua.algorithms.adaptive.vqe.vqe:INFO: Energy evaluation 318 returned -1.4868472366914351\n",
      "2019-10-25 04:49:45,780:qiskit.aqua.algorithms.adaptive.vqe.vqe:INFO: Energy evaluation 319 returned -1.4802466193396389\n",
      "2019-10-25 04:49:45,855:qiskit.aqua.algorithms.adaptive.vqe.vqe:INFO: Energy evaluation 320 returned -1.4799521455355613\n",
      "2019-10-25 04:49:45,930:qiskit.aqua.algorithms.adaptive.vqe.vqe:INFO: Energy evaluation 321 returned -1.4355027858332743\n",
      "2019-10-25 04:49:46,004:qiskit.aqua.algorithms.adaptive.vqe.vqe:INFO: Energy evaluation 322 returned -1.4360147087306148\n",
      "2019-10-25 04:49:46,079:qiskit.aqua.algorithms.adaptive.vqe.vqe:INFO: Energy evaluation 323 returned -1.476314185552534\n",
      "2019-10-25 04:49:46,154:qiskit.aqua.algorithms.adaptive.vqe.vqe:INFO: Energy evaluation 324 returned -1.4689601973759456\n",
      "2019-10-25 04:49:46,228:qiskit.aqua.algorithms.adaptive.vqe.vqe:INFO: Energy evaluation 325 returned -1.4845640756537823\n",
      "2019-10-25 04:49:46,301:qiskit.aqua.algorithms.adaptive.vqe.vqe:INFO: Energy evaluation 326 returned -1.4776427310653801\n",
      "2019-10-25 04:49:46,375:qiskit.aqua.algorithms.adaptive.vqe.vqe:INFO: Energy evaluation 327 returned -1.4674374515661492\n",
      "2019-10-25 04:49:46,448:qiskit.aqua.algorithms.adaptive.vqe.vqe:INFO: Energy evaluation 328 returned -1.4580383763575735\n",
      "2019-10-25 04:49:46,521:qiskit.aqua.algorithms.adaptive.vqe.vqe:INFO: Energy evaluation 329 returned -1.4404072557732654\n",
      "2019-10-25 04:49:46,596:qiskit.aqua.algorithms.adaptive.vqe.vqe:INFO: Energy evaluation 330 returned -1.436704550404323\n",
      "2019-10-25 04:49:46,672:qiskit.aqua.algorithms.adaptive.vqe.vqe:INFO: Energy evaluation 331 returned -1.4617834128979919\n",
      "2019-10-25 04:49:46,749:qiskit.aqua.algorithms.adaptive.vqe.vqe:INFO: Energy evaluation 332 returned -1.4520651856551765\n",
      "2019-10-25 04:49:46,823:qiskit.aqua.algorithms.adaptive.vqe.vqe:INFO: Energy evaluation 333 returned -1.4752560972143343\n",
      "2019-10-25 04:49:46,901:qiskit.aqua.algorithms.adaptive.vqe.vqe:INFO: Energy evaluation 334 returned -1.4714357203865291\n",
      "2019-10-25 04:49:46,977:qiskit.aqua.algorithms.adaptive.vqe.vqe:INFO: Energy evaluation 335 returned -1.4811840718427285\n",
      "2019-10-25 04:49:47,049:qiskit.aqua.algorithms.adaptive.vqe.vqe:INFO: Energy evaluation 336 returned -1.4814296616389389\n",
      "2019-10-25 04:49:47,124:qiskit.aqua.algorithms.adaptive.vqe.vqe:INFO: Energy evaluation 337 returned -1.475574612580992\n",
      "2019-10-25 04:49:47,346:qiskit.aqua.algorithms.adaptive.vqe.vqe:INFO: Energy evaluation 338 returned -1.4820189039886447\n",
      "2019-10-25 04:49:47,419:qiskit.aqua.algorithms.adaptive.vqe.vqe:INFO: Energy evaluation 339 returned -1.4883910534062599\n",
      "2019-10-25 04:49:47,495:qiskit.aqua.algorithms.adaptive.vqe.vqe:INFO: Energy evaluation 340 returned -1.4861836301064242\n",
      "2019-10-25 04:49:47,569:qiskit.aqua.algorithms.adaptive.vqe.vqe:INFO: Energy evaluation 341 returned -1.4586407695427257\n",
      "2019-10-25 04:49:47,643:qiskit.aqua.algorithms.adaptive.vqe.vqe:INFO: Energy evaluation 342 returned -1.465131689703473\n",
      "2019-10-25 04:49:47,717:qiskit.aqua.algorithms.adaptive.vqe.vqe:INFO: Energy evaluation 343 returned -1.4411896298957465\n",
      "2019-10-25 04:49:47,790:qiskit.aqua.algorithms.adaptive.vqe.vqe:INFO: Energy evaluation 344 returned -1.4433360777707571\n",
      "2019-10-25 04:49:47,898:qiskit.aqua.algorithms.adaptive.vqe.vqe:INFO: Energy evaluation 345 returned -1.4540160107053648\n",
      "2019-10-25 04:49:47,974:qiskit.aqua.algorithms.adaptive.vqe.vqe:INFO: Energy evaluation 346 returned -1.4640975717557503\n",
      "2019-10-25 04:49:48,047:qiskit.aqua.algorithms.adaptive.vqe.vqe:INFO: Energy evaluation 347 returned -1.4601023329512532\n",
      "2019-10-25 04:49:48,123:qiskit.aqua.algorithms.adaptive.vqe.vqe:INFO: Energy evaluation 348 returned -1.4629498865620958\n",
      "2019-10-25 04:49:48,196:qiskit.aqua.algorithms.adaptive.vqe.vqe:INFO: Energy evaluation 349 returned -1.473539236703249\n",
      "2019-10-25 04:49:48,269:qiskit.aqua.algorithms.adaptive.vqe.vqe:INFO: Energy evaluation 350 returned -1.4654939522905333\n",
      "2019-10-25 04:49:48,344:qiskit.aqua.algorithms.adaptive.vqe.vqe:INFO: Energy evaluation 351 returned -1.4813626347871145\n",
      "2019-10-25 04:49:48,418:qiskit.aqua.algorithms.adaptive.vqe.vqe:INFO: Energy evaluation 352 returned -1.47622808867873\n",
      "2019-10-25 04:49:48,494:qiskit.aqua.algorithms.adaptive.vqe.vqe:INFO: Energy evaluation 353 returned -1.462531154753452\n",
      "2019-10-25 04:49:48,569:qiskit.aqua.algorithms.adaptive.vqe.vqe:INFO: Energy evaluation 354 returned -1.4653925779210866\n",
      "2019-10-25 04:49:48,643:qiskit.aqua.algorithms.adaptive.vqe.vqe:INFO: Energy evaluation 355 returned -1.4792924825205167\n",
      "2019-10-25 04:49:48,718:qiskit.aqua.algorithms.adaptive.vqe.vqe:INFO: Energy evaluation 356 returned -1.4754754520180848\n",
      "2019-10-25 04:49:48,791:qiskit.aqua.algorithms.adaptive.vqe.vqe:INFO: Energy evaluation 357 returned -1.4719578731056644\n",
      "2019-10-25 04:49:48,865:qiskit.aqua.algorithms.adaptive.vqe.vqe:INFO: Energy evaluation 358 returned -1.4701518679800674\n",
      "2019-10-25 04:49:48,939:qiskit.aqua.algorithms.adaptive.vqe.vqe:INFO: Energy evaluation 359 returned -1.453587894862863\n",
      "2019-10-25 04:49:49,015:qiskit.aqua.algorithms.adaptive.vqe.vqe:INFO: Energy evaluation 360 returned -1.448396493759995\n",
      "2019-10-25 04:49:49,089:qiskit.aqua.algorithms.adaptive.vqe.vqe:INFO: Energy evaluation 361 returned -1.457511608834968\n",
      "2019-10-25 04:49:49,162:qiskit.aqua.algorithms.adaptive.vqe.vqe:INFO: Energy evaluation 362 returned -1.4511994860816635\n",
      "2019-10-25 04:49:49,236:qiskit.aqua.algorithms.adaptive.vqe.vqe:INFO: Energy evaluation 363 returned -1.4523047512930913\n",
      "2019-10-25 04:49:49,308:qiskit.aqua.algorithms.adaptive.vqe.vqe:INFO: Energy evaluation 364 returned -1.4566676910978134\n",
      "2019-10-25 04:49:49,382:qiskit.aqua.algorithms.adaptive.vqe.vqe:INFO: Energy evaluation 365 returned -1.4931688141212398\n",
      "2019-10-25 04:49:49,457:qiskit.aqua.algorithms.adaptive.vqe.vqe:INFO: Energy evaluation 366 returned -1.4910081525644194\n",
      "2019-10-25 04:49:49,531:qiskit.aqua.algorithms.adaptive.vqe.vqe:INFO: Energy evaluation 367 returned -1.4919028523828957\n",
      "2019-10-25 04:49:49,754:qiskit.aqua.algorithms.adaptive.vqe.vqe:INFO: Energy evaluation 368 returned -1.490632496868892\n",
      "2019-10-25 04:49:49,829:qiskit.aqua.algorithms.adaptive.vqe.vqe:INFO: Energy evaluation 369 returned -1.4395226245203587\n",
      "2019-10-25 04:49:49,903:qiskit.aqua.algorithms.adaptive.vqe.vqe:INFO: Energy evaluation 370 returned -1.4349653202114336\n",
      "2019-10-25 04:49:49,977:qiskit.aqua.algorithms.adaptive.vqe.vqe:INFO: Energy evaluation 371 returned -1.4230500243472526\n",
      "2019-10-25 04:49:50,050:qiskit.aqua.algorithms.adaptive.vqe.vqe:INFO: Energy evaluation 372 returned -1.4287978560702697\n"
     ]
    },
    {
     "name": "stderr",
     "output_type": "stream",
     "text": [
      "2019-10-25 04:49:50,122:qiskit.aqua.algorithms.adaptive.vqe.vqe:INFO: Energy evaluation 373 returned -1.4775358590260488\n",
      "2019-10-25 04:49:50,197:qiskit.aqua.algorithms.adaptive.vqe.vqe:INFO: Energy evaluation 374 returned -1.473142567264147\n",
      "2019-10-25 04:49:50,272:qiskit.aqua.algorithms.adaptive.vqe.vqe:INFO: Energy evaluation 375 returned -1.4885470898272524\n",
      "2019-10-25 04:49:50,345:qiskit.aqua.algorithms.adaptive.vqe.vqe:INFO: Energy evaluation 376 returned -1.4782027204204213\n",
      "2019-10-25 04:49:50,424:qiskit.aqua.algorithms.adaptive.vqe.vqe:INFO: Energy evaluation 377 returned -1.4785890033092204\n",
      "2019-10-25 04:49:50,503:qiskit.aqua.algorithms.adaptive.vqe.vqe:INFO: Energy evaluation 378 returned -1.4759179858172362\n",
      "2019-10-25 04:49:50,579:qiskit.aqua.algorithms.adaptive.vqe.vqe:INFO: Energy evaluation 379 returned -1.4815156964043237\n",
      "2019-10-25 04:49:50,653:qiskit.aqua.algorithms.adaptive.vqe.vqe:INFO: Energy evaluation 380 returned -1.4827012933199508\n",
      "2019-10-25 04:49:50,727:qiskit.aqua.algorithms.adaptive.vqe.vqe:INFO: Energy evaluation 381 returned -1.4617655526611248\n",
      "2019-10-25 04:49:50,804:qiskit.aqua.algorithms.adaptive.vqe.vqe:INFO: Energy evaluation 382 returned -1.4647722224370257\n",
      "2019-10-25 04:49:50,881:qiskit.aqua.algorithms.adaptive.vqe.vqe:INFO: Energy evaluation 383 returned -1.4845093948548558\n",
      "2019-10-25 04:49:50,955:qiskit.aqua.algorithms.adaptive.vqe.vqe:INFO: Energy evaluation 384 returned -1.4813924523325879\n",
      "2019-10-25 04:49:51,030:qiskit.aqua.algorithms.adaptive.vqe.vqe:INFO: Energy evaluation 385 returned -1.4815167894806442\n",
      "2019-10-25 04:49:51,106:qiskit.aqua.algorithms.adaptive.vqe.vqe:INFO: Energy evaluation 386 returned -1.4812997953633236\n",
      "2019-10-25 04:49:51,184:qiskit.aqua.algorithms.adaptive.vqe.vqe:INFO: Energy evaluation 387 returned -1.4336808805140746\n",
      "2019-10-25 04:49:51,267:qiskit.aqua.algorithms.adaptive.vqe.vqe:INFO: Energy evaluation 388 returned -1.4291566898947456\n",
      "2019-10-25 04:49:51,341:qiskit.aqua.algorithms.adaptive.vqe.vqe:INFO: Energy evaluation 389 returned -1.4874875714646032\n",
      "2019-10-25 04:49:51,414:qiskit.aqua.algorithms.adaptive.vqe.vqe:INFO: Energy evaluation 390 returned -1.4906224681055695\n",
      "2019-10-25 04:49:51,491:qiskit.aqua.algorithms.adaptive.vqe.vqe:INFO: Energy evaluation 391 returned -1.4904275560335356\n",
      "2019-10-25 04:49:51,570:qiskit.aqua.algorithms.adaptive.vqe.vqe:INFO: Energy evaluation 392 returned -1.4856822861039634\n",
      "2019-10-25 04:49:51,643:qiskit.aqua.algorithms.adaptive.vqe.vqe:INFO: Energy evaluation 393 returned -1.488983214063035\n",
      "2019-10-25 04:49:51,717:qiskit.aqua.algorithms.adaptive.vqe.vqe:INFO: Energy evaluation 394 returned -1.4889952244745535\n",
      "2019-10-25 04:49:51,793:qiskit.aqua.algorithms.adaptive.vqe.vqe:INFO: Energy evaluation 395 returned -1.4538509750813657\n",
      "2019-10-25 04:49:51,866:qiskit.aqua.algorithms.adaptive.vqe.vqe:INFO: Energy evaluation 396 returned -1.452011055659984\n",
      "2019-10-25 04:49:51,939:qiskit.aqua.algorithms.adaptive.vqe.vqe:INFO: Energy evaluation 397 returned -1.4742378664076106\n",
      "2019-10-25 04:49:52,164:qiskit.aqua.algorithms.adaptive.vqe.vqe:INFO: Energy evaluation 398 returned -1.4738655981118751\n",
      "2019-10-25 04:49:52,238:qiskit.aqua.algorithms.adaptive.vqe.vqe:INFO: Energy evaluation 399 returned -1.4760378692476943\n",
      "2019-10-25 04:49:52,311:qiskit.aqua.algorithms.adaptive.vqe.vqe:INFO: Energy evaluation 400 returned -1.4778335734345616\n",
      "2019-10-25 04:49:52,385:qiskit.aqua.algorithms.adaptive.vqe.vqe:INFO: Energy evaluation 401 returned -1.48368517780737\n",
      "2019-10-25 04:49:52,458:qiskit.aqua.algorithms.adaptive.vqe.vqe:INFO: Energy evaluation 402 returned -1.4835688057744734\n",
      "2019-10-25 04:49:52,532:qiskit.aqua.algorithms.adaptive.vqe.vqe:INFO: Energy evaluation 403 returned -1.473916967457567\n",
      "2019-10-25 04:49:52,606:qiskit.aqua.algorithms.adaptive.vqe.vqe:INFO: Energy evaluation 404 returned -1.4724853665725515\n",
      "2019-10-25 04:49:52,683:qiskit.aqua.algorithms.adaptive.vqe.vqe:INFO: Energy evaluation 405 returned -1.4594361114005945\n",
      "2019-10-25 04:49:52,759:qiskit.aqua.algorithms.adaptive.vqe.vqe:INFO: Energy evaluation 406 returned -1.461660427797597\n",
      "2019-10-25 04:49:52,834:qiskit.aqua.algorithms.adaptive.vqe.vqe:INFO: Energy evaluation 407 returned -1.4863699743001497\n",
      "2019-10-25 04:49:52,930:qiskit.aqua.algorithms.adaptive.vqe.vqe:INFO: Energy evaluation 408 returned -1.4901675291833318\n",
      "2019-10-25 04:49:53,013:qiskit.aqua.algorithms.adaptive.vqe.vqe:INFO: Energy evaluation 409 returned -1.4714978782131054\n",
      "2019-10-25 04:49:53,093:qiskit.aqua.algorithms.adaptive.vqe.vqe:INFO: Energy evaluation 410 returned -1.4743516914491652\n",
      "2019-10-25 04:49:53,176:qiskit.aqua.algorithms.adaptive.vqe.vqe:INFO: Energy evaluation 411 returned -1.4755598195913282\n",
      "2019-10-25 04:49:53,257:qiskit.aqua.algorithms.adaptive.vqe.vqe:INFO: Energy evaluation 412 returned -1.4830935100931044\n",
      "2019-10-25 04:49:53,337:qiskit.aqua.algorithms.adaptive.vqe.vqe:INFO: Energy evaluation 413 returned -1.4538515924606943\n",
      "2019-10-25 04:49:53,412:qiskit.aqua.algorithms.adaptive.vqe.vqe:INFO: Energy evaluation 414 returned -1.4599718906309294\n",
      "2019-10-25 04:49:53,492:qiskit.aqua.algorithms.adaptive.vqe.vqe:INFO: Energy evaluation 415 returned -1.489184898565707\n",
      "2019-10-25 04:49:53,568:qiskit.aqua.algorithms.adaptive.vqe.vqe:INFO: Energy evaluation 416 returned -1.490866892551029\n",
      "2019-10-25 04:49:53,641:qiskit.aqua.algorithms.adaptive.vqe.vqe:INFO: Energy evaluation 417 returned -1.487196570067897\n",
      "2019-10-25 04:49:53,723:qiskit.aqua.algorithms.adaptive.vqe.vqe:INFO: Energy evaluation 418 returned -1.4909757268162798\n",
      "2019-10-25 04:49:53,801:qiskit.aqua.algorithms.adaptive.vqe.vqe:INFO: Energy evaluation 419 returned -1.4728538365706383\n",
      "2019-10-25 04:49:53,876:qiskit.aqua.algorithms.adaptive.vqe.vqe:INFO: Energy evaluation 420 returned -1.4749252127902037\n",
      "2019-10-25 04:49:53,950:qiskit.aqua.algorithms.adaptive.vqe.vqe:INFO: Energy evaluation 421 returned -1.4792423454036188\n",
      "2019-10-25 04:49:54,026:qiskit.aqua.algorithms.adaptive.vqe.vqe:INFO: Energy evaluation 422 returned -1.4833894580909677\n",
      "2019-10-25 04:49:54,103:qiskit.aqua.algorithms.adaptive.vqe.vqe:INFO: Energy evaluation 423 returned -1.4807938758665642\n",
      "2019-10-25 04:49:54,177:qiskit.aqua.algorithms.adaptive.vqe.vqe:INFO: Energy evaluation 424 returned -1.4841612023561443\n",
      "2019-10-25 04:49:54,251:qiskit.aqua.algorithms.adaptive.vqe.vqe:INFO: Energy evaluation 425 returned -1.476184348845263\n",
      "2019-10-25 04:49:54,330:qiskit.aqua.algorithms.adaptive.vqe.vqe:INFO: Energy evaluation 426 returned -1.4753139874159849\n",
      "2019-10-25 04:49:54,406:qiskit.aqua.algorithms.adaptive.vqe.vqe:INFO: Energy evaluation 427 returned -1.459155235043637\n",
      "2019-10-25 04:49:54,640:qiskit.aqua.algorithms.adaptive.vqe.vqe:INFO: Energy evaluation 428 returned -1.460953162388045\n",
      "2019-10-25 04:49:54,714:qiskit.aqua.algorithms.adaptive.vqe.vqe:INFO: Energy evaluation 429 returned -1.4917671252312625\n",
      "2019-10-25 04:49:54,790:qiskit.aqua.algorithms.adaptive.vqe.vqe:INFO: Energy evaluation 430 returned -1.4896400382820247\n",
      "2019-10-25 04:49:54,863:qiskit.aqua.algorithms.adaptive.vqe.vqe:INFO: Energy evaluation 431 returned -1.4673754414821463\n",
      "2019-10-25 04:49:54,938:qiskit.aqua.algorithms.adaptive.vqe.vqe:INFO: Energy evaluation 432 returned -1.467011521997923\n",
      "2019-10-25 04:49:55,012:qiskit.aqua.algorithms.adaptive.vqe.vqe:INFO: Energy evaluation 433 returned -1.4766280157979121\n",
      "2019-10-25 04:49:55,089:qiskit.aqua.algorithms.adaptive.vqe.vqe:INFO: Energy evaluation 434 returned -1.4706019827860204\n",
      "2019-10-25 04:49:55,166:qiskit.aqua.algorithms.adaptive.vqe.vqe:INFO: Energy evaluation 435 returned -1.4807868695224446\n",
      "2019-10-25 04:49:55,239:qiskit.aqua.algorithms.adaptive.vqe.vqe:INFO: Energy evaluation 436 returned -1.4833582448588976\n",
      "2019-10-25 04:49:55,316:qiskit.aqua.algorithms.adaptive.vqe.vqe:INFO: Energy evaluation 437 returned -1.4931427935777668\n",
      "2019-10-25 04:49:55,391:qiskit.aqua.algorithms.adaptive.vqe.vqe:INFO: Energy evaluation 438 returned -1.4930925393696248\n",
      "2019-10-25 04:49:55,464:qiskit.aqua.algorithms.adaptive.vqe.vqe:INFO: Energy evaluation 439 returned -1.4536972173033629\n",
      "2019-10-25 04:49:55,539:qiskit.aqua.algorithms.adaptive.vqe.vqe:INFO: Energy evaluation 440 returned -1.4587270001023023\n"
     ]
    },
    {
     "name": "stderr",
     "output_type": "stream",
     "text": [
      "2019-10-25 04:49:55,613:qiskit.aqua.algorithms.adaptive.vqe.vqe:INFO: Energy evaluation 441 returned -1.481495536369997\n",
      "2019-10-25 04:49:55,687:qiskit.aqua.algorithms.adaptive.vqe.vqe:INFO: Energy evaluation 442 returned -1.479929829128443\n",
      "2019-10-25 04:49:55,760:qiskit.aqua.algorithms.adaptive.vqe.vqe:INFO: Energy evaluation 443 returned -1.4820298929443139\n",
      "2019-10-25 04:49:55,838:qiskit.aqua.algorithms.adaptive.vqe.vqe:INFO: Energy evaluation 444 returned -1.4753841746662577\n",
      "2019-10-25 04:49:55,914:qiskit.aqua.algorithms.adaptive.vqe.vqe:INFO: Energy evaluation 445 returned -1.4638695682700793\n",
      "2019-10-25 04:49:55,988:qiskit.aqua.algorithms.adaptive.vqe.vqe:INFO: Energy evaluation 446 returned -1.4583413956163402\n",
      "2019-10-25 04:49:56,061:qiskit.aqua.algorithms.adaptive.vqe.vqe:INFO: Energy evaluation 447 returned -1.485844896334936\n",
      "2019-10-25 04:49:56,135:qiskit.aqua.algorithms.adaptive.vqe.vqe:INFO: Energy evaluation 448 returned -1.480984693376945\n",
      "2019-10-25 04:49:56,209:qiskit.aqua.algorithms.adaptive.vqe.vqe:INFO: Energy evaluation 449 returned -1.4899690023892465\n",
      "2019-10-25 04:49:56,284:qiskit.aqua.algorithms.adaptive.vqe.vqe:INFO: Energy evaluation 450 returned -1.4956682200869047\n",
      "2019-10-25 04:49:56,359:qiskit.aqua.algorithms.adaptive.vqe.vqe:INFO: Energy evaluation 451 returned -1.4892270876045373\n",
      "2019-10-25 04:49:56,437:qiskit.aqua.algorithms.adaptive.vqe.vqe:INFO: Energy evaluation 452 returned -1.488588687367843\n",
      "2019-10-25 04:49:56,517:qiskit.aqua.algorithms.adaptive.vqe.vqe:INFO: Energy evaluation 453 returned -1.4846094996341497\n",
      "2019-10-25 04:49:56,595:qiskit.aqua.algorithms.adaptive.vqe.vqe:INFO: Energy evaluation 454 returned -1.4875880739654264\n",
      "2019-10-25 04:49:56,669:qiskit.aqua.algorithms.adaptive.vqe.vqe:INFO: Energy evaluation 455 returned -1.4814536567361207\n",
      "2019-10-25 04:49:56,740:qiskit.aqua.algorithms.adaptive.vqe.vqe:INFO: Energy evaluation 456 returned -1.4734839396809327\n",
      "2019-10-25 04:49:56,813:qiskit.aqua.algorithms.adaptive.vqe.vqe:INFO: Energy evaluation 457 returned -1.487589416428575\n",
      "2019-10-25 04:49:57,046:qiskit.aqua.algorithms.adaptive.vqe.vqe:INFO: Energy evaluation 458 returned -1.4867482961982539\n",
      "2019-10-25 04:49:57,131:qiskit.aqua.algorithms.adaptive.vqe.vqe:INFO: Energy evaluation 459 returned -1.4613689968665826\n",
      "2019-10-25 04:49:57,215:qiskit.aqua.algorithms.adaptive.vqe.vqe:INFO: Energy evaluation 460 returned -1.464397916990237\n",
      "2019-10-25 04:49:57,307:qiskit.aqua.algorithms.adaptive.vqe.vqe:INFO: Energy evaluation 461 returned -1.4788352713692\n",
      "2019-10-25 04:49:57,391:qiskit.aqua.algorithms.adaptive.vqe.vqe:INFO: Energy evaluation 462 returned -1.4778458755404376\n",
      "2019-10-25 04:49:57,470:qiskit.aqua.algorithms.adaptive.vqe.vqe:INFO: Energy evaluation 463 returned -1.4854117669649654\n",
      "2019-10-25 04:49:57,553:qiskit.aqua.algorithms.adaptive.vqe.vqe:INFO: Energy evaluation 464 returned -1.4896558612427804\n",
      "2019-10-25 04:49:57,631:qiskit.aqua.algorithms.adaptive.vqe.vqe:INFO: Energy evaluation 465 returned -1.4539807831644886\n",
      "2019-10-25 04:49:57,709:qiskit.aqua.algorithms.adaptive.vqe.vqe:INFO: Energy evaluation 466 returned -1.4565770122475479\n",
      "2019-10-25 04:49:57,789:qiskit.aqua.algorithms.adaptive.vqe.vqe:INFO: Energy evaluation 467 returned -1.4696001487704302\n",
      "2019-10-25 04:49:57,867:qiskit.aqua.algorithms.adaptive.vqe.vqe:INFO: Energy evaluation 468 returned -1.469714475946018\n",
      "2019-10-25 04:49:57,950:qiskit.aqua.algorithms.adaptive.vqe.vqe:INFO: Energy evaluation 469 returned -1.4488519900698809\n",
      "2019-10-25 04:49:58,029:qiskit.aqua.algorithms.adaptive.vqe.vqe:INFO: Energy evaluation 470 returned -1.4491285980601216\n",
      "2019-10-25 04:49:58,104:qiskit.aqua.algorithms.adaptive.vqe.vqe:INFO: Energy evaluation 471 returned -1.4763366192081064\n",
      "2019-10-25 04:49:58,182:qiskit.aqua.algorithms.adaptive.vqe.vqe:INFO: Energy evaluation 472 returned -1.475829425899704\n",
      "2019-10-25 04:49:58,257:qiskit.aqua.algorithms.adaptive.vqe.vqe:INFO: Energy evaluation 473 returned -1.4718338971426819\n",
      "2019-10-25 04:49:58,330:qiskit.aqua.algorithms.adaptive.vqe.vqe:INFO: Energy evaluation 474 returned -1.4698579221223775\n",
      "2019-10-25 04:49:58,408:qiskit.aqua.algorithms.adaptive.vqe.vqe:INFO: Energy evaluation 475 returned -1.4923986937306473\n",
      "2019-10-25 04:49:58,482:qiskit.aqua.algorithms.adaptive.vqe.vqe:INFO: Energy evaluation 476 returned -1.4910035123814307\n",
      "2019-10-25 04:49:58,557:qiskit.aqua.algorithms.adaptive.vqe.vqe:INFO: Energy evaluation 477 returned -1.4772912129376856\n",
      "2019-10-25 04:49:58,635:qiskit.aqua.algorithms.adaptive.vqe.vqe:INFO: Energy evaluation 478 returned -1.4751350657117375\n",
      "2019-10-25 04:49:58,711:qiskit.aqua.algorithms.adaptive.vqe.vqe:INFO: Energy evaluation 479 returned -1.4901487662327986\n",
      "2019-10-25 04:49:58,787:qiskit.aqua.algorithms.adaptive.vqe.vqe:INFO: Energy evaluation 480 returned -1.4856884802829409\n",
      "2019-10-25 04:49:58,865:qiskit.aqua.algorithms.adaptive.vqe.vqe:INFO: Energy evaluation 481 returned -1.4600222034638828\n",
      "2019-10-25 04:49:58,938:qiskit.aqua.algorithms.adaptive.vqe.vqe:INFO: Energy evaluation 482 returned -1.4591364924583392\n",
      "2019-10-25 04:49:59,013:qiskit.aqua.algorithms.adaptive.vqe.vqe:INFO: Energy evaluation 483 returned -1.4852421558074878\n",
      "2019-10-25 04:49:59,088:qiskit.aqua.algorithms.adaptive.vqe.vqe:INFO: Energy evaluation 484 returned -1.4861501256708638\n",
      "2019-10-25 04:49:59,163:qiskit.aqua.algorithms.adaptive.vqe.vqe:INFO: Energy evaluation 485 returned -1.478693581528034\n",
      "2019-10-25 04:49:59,237:qiskit.aqua.algorithms.adaptive.vqe.vqe:INFO: Energy evaluation 486 returned -1.4782406153675178\n",
      "2019-10-25 04:49:59,317:qiskit.aqua.algorithms.adaptive.vqe.vqe:INFO: Energy evaluation 487 returned -1.4664124490603452\n",
      "2019-10-25 04:49:59,392:qiskit.aqua.algorithms.adaptive.vqe.vqe:INFO: Energy evaluation 488 returned -1.4655478855524868\n",
      "2019-10-25 04:49:59,624:qiskit.aqua.algorithms.adaptive.vqe.vqe:INFO: Energy evaluation 489 returned -1.4740823666398435\n",
      "2019-10-25 04:49:59,699:qiskit.aqua.algorithms.adaptive.vqe.vqe:INFO: Energy evaluation 490 returned -1.4736293310596844\n",
      "2019-10-25 04:49:59,773:qiskit.aqua.algorithms.adaptive.vqe.vqe:INFO: Energy evaluation 491 returned -1.4727935705153896\n",
      "2019-10-25 04:49:59,848:qiskit.aqua.algorithms.adaptive.vqe.vqe:INFO: Energy evaluation 492 returned -1.4749642939452334\n",
      "2019-10-25 04:49:59,923:qiskit.aqua.algorithms.adaptive.vqe.vqe:INFO: Energy evaluation 493 returned -1.4938404081627152\n",
      "2019-10-25 04:49:59,997:qiskit.aqua.algorithms.adaptive.vqe.vqe:INFO: Energy evaluation 494 returned -1.495013882532642\n",
      "2019-10-25 04:50:00,073:qiskit.aqua.algorithms.adaptive.vqe.vqe:INFO: Energy evaluation 495 returned -1.4869137368659735\n",
      "2019-10-25 04:50:00,147:qiskit.aqua.algorithms.adaptive.vqe.vqe:INFO: Energy evaluation 496 returned -1.4898978623910053\n",
      "2019-10-25 04:50:00,223:qiskit.aqua.algorithms.adaptive.vqe.vqe:INFO: Energy evaluation 497 returned -1.4724299743612124\n",
      "2019-10-25 04:50:00,298:qiskit.aqua.algorithms.adaptive.vqe.vqe:INFO: Energy evaluation 498 returned -1.4743501213645922\n",
      "2019-10-25 04:50:00,374:qiskit.aqua.algorithms.adaptive.vqe.vqe:INFO: Energy evaluation 499 returned -1.487501051980661\n",
      "2019-10-25 04:50:00,448:qiskit.aqua.algorithms.adaptive.vqe.vqe:INFO: Energy evaluation 500 returned -1.4872546877635533\n",
      "2019-10-25 04:50:00,524:qiskit.aqua.algorithms.adaptive.vqe.vqe:INFO: Energy evaluation 501 returned -1.4755235350363791\n",
      "2019-10-25 04:50:00,599:qiskit.aqua.algorithms.adaptive.vqe.vqe:INFO: Energy evaluation 502 returned -1.4651166819808157\n",
      "2019-10-25 04:50:00,675:qiskit.aqua.algorithms.adaptive.vqe.vqe:INFO: Energy evaluation 503 returned -1.4750136206306148\n",
      "2019-10-25 04:50:00,749:qiskit.aqua.algorithms.adaptive.vqe.vqe:INFO: Energy evaluation 504 returned -1.479916559137151\n",
      "2019-10-25 04:50:00,823:qiskit.aqua.algorithms.adaptive.vqe.vqe:INFO: Energy evaluation 505 returned -1.4857958106395248\n",
      "2019-10-25 04:50:00,899:qiskit.aqua.algorithms.adaptive.vqe.vqe:INFO: Energy evaluation 506 returned -1.4833219891171596\n",
      "2019-10-25 04:50:00,973:qiskit.aqua.algorithms.adaptive.vqe.vqe:INFO: Energy evaluation 507 returned -1.4857274147167585\n",
      "2019-10-25 04:50:01,048:qiskit.aqua.algorithms.adaptive.vqe.vqe:INFO: Energy evaluation 508 returned -1.473834622503154\n"
     ]
    },
    {
     "name": "stderr",
     "output_type": "stream",
     "text": [
      "2019-10-25 04:50:01,126:qiskit.aqua.algorithms.adaptive.vqe.vqe:INFO: Energy evaluation 509 returned -1.4844384891813547\n",
      "2019-10-25 04:50:01,199:qiskit.aqua.algorithms.adaptive.vqe.vqe:INFO: Energy evaluation 510 returned -1.4881824615501922\n",
      "2019-10-25 04:50:01,272:qiskit.aqua.algorithms.adaptive.vqe.vqe:INFO: Energy evaluation 511 returned -1.4863159635003407\n",
      "2019-10-25 04:50:01,346:qiskit.aqua.algorithms.adaptive.vqe.vqe:INFO: Energy evaluation 512 returned -1.4872777414130205\n",
      "2019-10-25 04:50:01,422:qiskit.aqua.algorithms.adaptive.vqe.vqe:INFO: Energy evaluation 513 returned -1.4518971899665\n",
      "2019-10-25 04:50:01,496:qiskit.aqua.algorithms.adaptive.vqe.vqe:INFO: Energy evaluation 514 returned -1.4479741671794961\n",
      "2019-10-25 04:50:01,573:qiskit.aqua.algorithms.adaptive.vqe.vqe:INFO: Energy evaluation 515 returned -1.4803812808097065\n",
      "2019-10-25 04:50:01,647:qiskit.aqua.algorithms.adaptive.vqe.vqe:INFO: Energy evaluation 516 returned -1.4781823899566315\n",
      "2019-10-25 04:50:01,721:qiskit.aqua.algorithms.adaptive.vqe.vqe:INFO: Energy evaluation 517 returned -1.4692341311709802\n",
      "2019-10-25 04:50:01,794:qiskit.aqua.algorithms.adaptive.vqe.vqe:INFO: Energy evaluation 518 returned -1.474844739967448\n",
      "2019-10-25 04:50:01,987:qiskit.aqua.algorithms.adaptive.vqe.vqe:INFO: Energy evaluation 519 returned -1.4792532118543387\n",
      "2019-10-25 04:50:02,066:qiskit.aqua.algorithms.adaptive.vqe.vqe:INFO: Energy evaluation 520 returned -1.4831886712832791\n",
      "2019-10-25 04:50:02,141:qiskit.aqua.algorithms.adaptive.vqe.vqe:INFO: Energy evaluation 521 returned -1.4621710098625134\n",
      "2019-10-25 04:50:02,217:qiskit.aqua.algorithms.adaptive.vqe.vqe:INFO: Energy evaluation 522 returned -1.4647352631248904\n",
      "2019-10-25 04:50:02,292:qiskit.aqua.algorithms.adaptive.vqe.vqe:INFO: Energy evaluation 523 returned -1.4781412464238324\n",
      "2019-10-25 04:50:02,368:qiskit.aqua.algorithms.adaptive.vqe.vqe:INFO: Energy evaluation 524 returned -1.4764733935441854\n",
      "2019-10-25 04:50:02,442:qiskit.aqua.algorithms.adaptive.vqe.vqe:INFO: Energy evaluation 525 returned -1.4724032309880946\n",
      "2019-10-25 04:50:02,519:qiskit.aqua.algorithms.adaptive.vqe.vqe:INFO: Energy evaluation 526 returned -1.4734916192269107\n",
      "2019-10-25 04:50:02,594:qiskit.aqua.algorithms.adaptive.vqe.vqe:INFO: Energy evaluation 527 returned -1.4767065590306674\n",
      "2019-10-25 04:50:02,670:qiskit.aqua.algorithms.adaptive.vqe.vqe:INFO: Energy evaluation 528 returned -1.473155264837827\n",
      "2019-10-25 04:50:02,744:qiskit.aqua.algorithms.adaptive.vqe.vqe:INFO: Energy evaluation 529 returned -1.4956994311023109\n",
      "2019-10-25 04:50:02,820:qiskit.aqua.algorithms.adaptive.vqe.vqe:INFO: Energy evaluation 530 returned -1.4963108306601562\n",
      "2019-10-25 04:50:02,899:qiskit.aqua.algorithms.adaptive.vqe.vqe:INFO: Energy evaluation 531 returned -1.4545462042879653\n",
      "2019-10-25 04:50:02,975:qiskit.aqua.algorithms.adaptive.vqe.vqe:INFO: Energy evaluation 532 returned -1.453531244018946\n",
      "2019-10-25 04:50:03,049:qiskit.aqua.algorithms.adaptive.vqe.vqe:INFO: Energy evaluation 533 returned -1.4877458610951038\n",
      "2019-10-25 04:50:03,124:qiskit.aqua.algorithms.adaptive.vqe.vqe:INFO: Energy evaluation 534 returned -1.484731827966192\n",
      "2019-10-25 04:50:03,198:qiskit.aqua.algorithms.adaptive.vqe.vqe:INFO: Energy evaluation 535 returned -1.482227109203622\n",
      "2019-10-25 04:50:03,273:qiskit.aqua.algorithms.adaptive.vqe.vqe:INFO: Energy evaluation 536 returned -1.479635651730294\n",
      "2019-10-25 04:50:03,348:qiskit.aqua.algorithms.adaptive.vqe.vqe:INFO: Energy evaluation 537 returned -1.4835464439338928\n",
      "2019-10-25 04:50:03,421:qiskit.aqua.algorithms.adaptive.vqe.vqe:INFO: Energy evaluation 538 returned -1.4824256833066358\n",
      "2019-10-25 04:50:03,495:qiskit.aqua.algorithms.adaptive.vqe.vqe:INFO: Energy evaluation 539 returned -1.4808172169556242\n",
      "2019-10-25 04:50:03,572:qiskit.aqua.algorithms.adaptive.vqe.vqe:INFO: Energy evaluation 540 returned -1.4800979815068493\n",
      "2019-10-25 04:50:03,645:qiskit.aqua.algorithms.adaptive.vqe.vqe:INFO: Energy evaluation 541 returned -1.4457027768587172\n",
      "2019-10-25 04:50:03,719:qiskit.aqua.algorithms.adaptive.vqe.vqe:INFO: Energy evaluation 542 returned -1.4455606074795821\n",
      "2019-10-25 04:50:03,802:qiskit.aqua.algorithms.adaptive.vqe.vqe:INFO: Energy evaluation 543 returned -1.48033930803474\n",
      "2019-10-25 04:50:03,877:qiskit.aqua.algorithms.adaptive.vqe.vqe:INFO: Energy evaluation 544 returned -1.4825956270955705\n",
      "2019-10-25 04:50:03,953:qiskit.aqua.algorithms.adaptive.vqe.vqe:INFO: Energy evaluation 545 returned -1.4821807054364609\n",
      "2019-10-25 04:50:04,027:qiskit.aqua.algorithms.adaptive.vqe.vqe:INFO: Energy evaluation 546 returned -1.4860087325710487\n",
      "2019-10-25 04:50:04,104:qiskit.aqua.algorithms.adaptive.vqe.vqe:INFO: Energy evaluation 547 returned -1.4835016886331789\n",
      "2019-10-25 04:50:04,179:qiskit.aqua.algorithms.adaptive.vqe.vqe:INFO: Energy evaluation 548 returned -1.483145748635013\n",
      "2019-10-25 04:50:04,256:qiskit.aqua.algorithms.adaptive.vqe.vqe:INFO: Energy evaluation 549 returned -1.4847564501613493\n",
      "2019-10-25 04:50:04,487:qiskit.aqua.algorithms.adaptive.vqe.vqe:INFO: Energy evaluation 550 returned -1.4824138928327113\n",
      "2019-10-25 04:50:04,560:qiskit.aqua.algorithms.adaptive.vqe.vqe:INFO: Energy evaluation 551 returned -1.456844366189825\n",
      "2019-10-25 04:50:04,636:qiskit.aqua.algorithms.adaptive.vqe.vqe:INFO: Energy evaluation 552 returned -1.459799365373621\n",
      "2019-10-25 04:50:04,710:qiskit.aqua.algorithms.adaptive.vqe.vqe:INFO: Energy evaluation 553 returned -1.488992725791892\n",
      "2019-10-25 04:50:04,786:qiskit.aqua.algorithms.adaptive.vqe.vqe:INFO: Energy evaluation 554 returned -1.4885738101856676\n",
      "2019-10-25 04:50:04,862:qiskit.aqua.algorithms.adaptive.vqe.vqe:INFO: Energy evaluation 555 returned -1.469304410599189\n",
      "2019-10-25 04:50:04,939:qiskit.aqua.algorithms.adaptive.vqe.vqe:INFO: Energy evaluation 556 returned -1.4692339170465372\n",
      "2019-10-25 04:50:05,013:qiskit.aqua.algorithms.adaptive.vqe.vqe:INFO: Energy evaluation 557 returned -1.45268828839746\n",
      "2019-10-25 04:50:05,090:qiskit.aqua.algorithms.adaptive.vqe.vqe:INFO: Energy evaluation 558 returned -1.456013855140845\n",
      "2019-10-25 04:50:05,167:qiskit.aqua.algorithms.adaptive.vqe.vqe:INFO: Energy evaluation 559 returned -1.4684846043881805\n",
      "2019-10-25 04:50:05,242:qiskit.aqua.algorithms.adaptive.vqe.vqe:INFO: Energy evaluation 560 returned -1.4657556873475213\n",
      "2019-10-25 04:50:05,318:qiskit.aqua.algorithms.adaptive.vqe.vqe:INFO: Energy evaluation 561 returned -1.4735098759522627\n",
      "2019-10-25 04:50:05,393:qiskit.aqua.algorithms.adaptive.vqe.vqe:INFO: Energy evaluation 562 returned -1.4725613213648256\n",
      "2019-10-25 04:50:05,469:qiskit.aqua.algorithms.adaptive.vqe.vqe:INFO: Energy evaluation 563 returned -1.4603183031591649\n",
      "2019-10-25 04:50:05,543:qiskit.aqua.algorithms.adaptive.vqe.vqe:INFO: Energy evaluation 564 returned -1.4587450326684546\n",
      "2019-10-25 04:50:05,617:qiskit.aqua.algorithms.adaptive.vqe.vqe:INFO: Energy evaluation 565 returned -1.4662009050508693\n",
      "2019-10-25 04:50:05,692:qiskit.aqua.algorithms.adaptive.vqe.vqe:INFO: Energy evaluation 566 returned -1.4645975215335971\n",
      "2019-10-25 04:50:05,767:qiskit.aqua.algorithms.adaptive.vqe.vqe:INFO: Energy evaluation 567 returned -1.4271221096768656\n",
      "2019-10-25 04:50:05,839:qiskit.aqua.algorithms.adaptive.vqe.vqe:INFO: Energy evaluation 568 returned -1.4209195599558198\n",
      "2019-10-25 04:50:05,914:qiskit.aqua.algorithms.adaptive.vqe.vqe:INFO: Energy evaluation 569 returned -1.4913716800694337\n",
      "2019-10-25 04:50:05,995:qiskit.aqua.algorithms.adaptive.vqe.vqe:INFO: Energy evaluation 570 returned -1.4915799620582548\n",
      "2019-10-25 04:50:06,074:qiskit.aqua.algorithms.adaptive.vqe.vqe:INFO: Energy evaluation 571 returned -1.477042352420124\n",
      "2019-10-25 04:50:06,151:qiskit.aqua.algorithms.adaptive.vqe.vqe:INFO: Energy evaluation 572 returned -1.4782421400762717\n",
      "2019-10-25 04:50:06,226:qiskit.aqua.algorithms.adaptive.vqe.vqe:INFO: Energy evaluation 573 returned -1.4715094450799122\n",
      "2019-10-25 04:50:06,304:qiskit.aqua.algorithms.adaptive.vqe.vqe:INFO: Energy evaluation 574 returned -1.4695264743735623\n",
      "2019-10-25 04:50:06,379:qiskit.aqua.algorithms.adaptive.vqe.vqe:INFO: Energy evaluation 575 returned -1.4938236245290057\n",
      "2019-10-25 04:50:06,453:qiskit.aqua.algorithms.adaptive.vqe.vqe:INFO: Energy evaluation 576 returned -1.4942792697346334\n"
     ]
    },
    {
     "name": "stderr",
     "output_type": "stream",
     "text": [
      "2019-10-25 04:50:06,527:qiskit.aqua.algorithms.adaptive.vqe.vqe:INFO: Energy evaluation 577 returned -1.482878461301834\n",
      "2019-10-25 04:50:06,602:qiskit.aqua.algorithms.adaptive.vqe.vqe:INFO: Energy evaluation 578 returned -1.4818221309470696\n",
      "2019-10-25 04:50:06,678:qiskit.aqua.algorithms.adaptive.vqe.vqe:INFO: Energy evaluation 579 returned -1.4723884144803923\n",
      "2019-10-25 04:50:06,909:qiskit.aqua.algorithms.adaptive.vqe.vqe:INFO: Energy evaluation 580 returned -1.4701628866886778\n",
      "2019-10-25 04:50:06,985:qiskit.aqua.algorithms.adaptive.vqe.vqe:INFO: Energy evaluation 581 returned -1.4750878559630975\n",
      "2019-10-25 04:50:07,058:qiskit.aqua.algorithms.adaptive.vqe.vqe:INFO: Energy evaluation 582 returned -1.4755118937882006\n",
      "2019-10-25 04:50:07,134:qiskit.aqua.algorithms.adaptive.vqe.vqe:INFO: Energy evaluation 583 returned -1.4794430871490027\n",
      "2019-10-25 04:50:07,212:qiskit.aqua.algorithms.adaptive.vqe.vqe:INFO: Energy evaluation 584 returned -1.480556042424469\n",
      "2019-10-25 04:50:07,288:qiskit.aqua.algorithms.adaptive.vqe.vqe:INFO: Energy evaluation 585 returned -1.4769495242303257\n",
      "2019-10-25 04:50:07,365:qiskit.aqua.algorithms.adaptive.vqe.vqe:INFO: Energy evaluation 586 returned -1.4759164047993758\n",
      "2019-10-25 04:50:07,439:qiskit.aqua.algorithms.adaptive.vqe.vqe:INFO: Energy evaluation 587 returned -1.489213225546299\n",
      "2019-10-25 04:50:07,519:qiskit.aqua.algorithms.adaptive.vqe.vqe:INFO: Energy evaluation 588 returned -1.4863395432554412\n",
      "2019-10-25 04:50:07,594:qiskit.aqua.algorithms.adaptive.vqe.vqe:INFO: Energy evaluation 589 returned -1.4831647638570422\n",
      "2019-10-25 04:50:07,668:qiskit.aqua.algorithms.adaptive.vqe.vqe:INFO: Energy evaluation 590 returned -1.4820134276586168\n",
      "2019-10-25 04:50:07,743:qiskit.aqua.algorithms.adaptive.vqe.vqe:INFO: Energy evaluation 591 returned -1.4881770147485576\n",
      "2019-10-25 04:50:07,820:qiskit.aqua.algorithms.adaptive.vqe.vqe:INFO: Energy evaluation 592 returned -1.4885343122993975\n",
      "2019-10-25 04:50:07,904:qiskit.aqua.algorithms.adaptive.vqe.vqe:INFO: Energy evaluation 593 returned -1.4933312177794735\n",
      "2019-10-25 04:50:07,978:qiskit.aqua.algorithms.adaptive.vqe.vqe:INFO: Energy evaluation 594 returned -1.4964674371026403\n",
      "2019-10-25 04:50:08,061:qiskit.aqua.algorithms.adaptive.vqe.vqe:INFO: Energy evaluation 595 returned -1.4529859889490666\n",
      "2019-10-25 04:50:08,140:qiskit.aqua.algorithms.adaptive.vqe.vqe:INFO: Energy evaluation 596 returned -1.456296560050936\n",
      "2019-10-25 04:50:08,219:qiskit.aqua.algorithms.adaptive.vqe.vqe:INFO: Energy evaluation 597 returned -1.4563404030150804\n",
      "2019-10-25 04:50:08,294:qiskit.aqua.algorithms.adaptive.vqe.vqe:INFO: Energy evaluation 598 returned -1.453213513058519\n",
      "2019-10-25 04:50:08,368:qiskit.aqua.algorithms.adaptive.vqe.vqe:INFO: Energy evaluation 599 returned -1.4813857219024031\n",
      "2019-10-25 04:50:08,447:qiskit.aqua.algorithms.adaptive.vqe.vqe:INFO: Energy evaluation 600 returned -1.4815330402361595\n",
      "2019-10-25 04:50:08,528:qiskit.aqua.algorithms.adaptive.vqe.vqe:INFO: Energy evaluation 601 returned -1.474356209662003\n",
      "2019-10-25 04:50:08,608:qiskit.aqua.algorithms.adaptive.vqe.vqe:INFO: Energy evaluation 602 returned -1.4735709789789737\n",
      "2019-10-25 04:50:08,682:qiskit.aqua.algorithms.adaptive.vqe.vqe:INFO: Energy evaluation 603 returned -1.4886672097227294\n",
      "2019-10-25 04:50:08,759:qiskit.aqua.algorithms.adaptive.vqe.vqe:INFO: Energy evaluation 604 returned -1.4846719474412984\n",
      "2019-10-25 04:50:08,836:qiskit.aqua.algorithms.adaptive.vqe.vqe:INFO: Energy evaluation 605 returned -1.472355193598744\n",
      "2019-10-25 04:50:08,910:qiskit.aqua.algorithms.adaptive.vqe.vqe:INFO: Energy evaluation 606 returned -1.4757970249410226\n",
      "2019-10-25 04:50:08,985:qiskit.aqua.algorithms.adaptive.vqe.vqe:INFO: Energy evaluation 607 returned -1.4524182790724252\n",
      "2019-10-25 04:50:09,062:qiskit.aqua.algorithms.adaptive.vqe.vqe:INFO: Energy evaluation 608 returned -1.4531430811057953\n",
      "2019-10-25 04:50:09,141:qiskit.aqua.algorithms.adaptive.vqe.vqe:INFO: Energy evaluation 609 returned -1.4810318042373507\n",
      "2019-10-25 04:50:09,217:qiskit.aqua.algorithms.adaptive.vqe.vqe:INFO: Energy evaluation 610 returned -1.4816810842285695\n",
      "2019-10-25 04:50:09,444:qiskit.aqua.algorithms.adaptive.vqe.vqe:INFO: Energy evaluation 611 returned -1.4839157711076472\n",
      "2019-10-25 04:50:09,519:qiskit.aqua.algorithms.adaptive.vqe.vqe:INFO: Energy evaluation 612 returned -1.4841053845130072\n",
      "2019-10-25 04:50:09,593:qiskit.aqua.algorithms.adaptive.vqe.vqe:INFO: Energy evaluation 613 returned -1.4712946889016765\n",
      "2019-10-25 04:50:09,669:qiskit.aqua.algorithms.adaptive.vqe.vqe:INFO: Energy evaluation 614 returned -1.4716644838266562\n",
      "2019-10-25 04:50:09,741:qiskit.aqua.algorithms.adaptive.vqe.vqe:INFO: Energy evaluation 615 returned -1.473947907279585\n",
      "2019-10-25 04:50:09,815:qiskit.aqua.algorithms.adaptive.vqe.vqe:INFO: Energy evaluation 616 returned -1.4722462302009676\n",
      "2019-10-25 04:50:09,890:qiskit.aqua.algorithms.adaptive.vqe.vqe:INFO: Energy evaluation 617 returned -1.481566754250292\n",
      "2019-10-25 04:50:09,971:qiskit.aqua.algorithms.adaptive.vqe.vqe:INFO: Energy evaluation 618 returned -1.4799660538437378\n",
      "2019-10-25 04:50:10,046:qiskit.aqua.algorithms.adaptive.vqe.vqe:INFO: Energy evaluation 619 returned -1.4799735055599839\n",
      "2019-10-25 04:50:10,123:qiskit.aqua.algorithms.adaptive.vqe.vqe:INFO: Energy evaluation 620 returned -1.479449710874212\n",
      "2019-10-25 04:50:10,196:qiskit.aqua.algorithms.adaptive.vqe.vqe:INFO: Energy evaluation 621 returned -1.4847471581650267\n",
      "2019-10-25 04:50:10,270:qiskit.aqua.algorithms.adaptive.vqe.vqe:INFO: Energy evaluation 622 returned -1.4843485159333236\n",
      "2019-10-25 04:50:10,350:qiskit.aqua.algorithms.adaptive.vqe.vqe:INFO: Energy evaluation 623 returned -1.4799024023024268\n",
      "2019-10-25 04:50:10,427:qiskit.aqua.algorithms.adaptive.vqe.vqe:INFO: Energy evaluation 624 returned -1.4803708344612614\n",
      "2019-10-25 04:50:10,503:qiskit.aqua.algorithms.adaptive.vqe.vqe:INFO: Energy evaluation 625 returned -1.4871286574795834\n",
      "2019-10-25 04:50:10,577:qiskit.aqua.algorithms.adaptive.vqe.vqe:INFO: Energy evaluation 626 returned -1.4890151269710432\n",
      "2019-10-25 04:50:10,653:qiskit.aqua.algorithms.adaptive.vqe.vqe:INFO: Energy evaluation 627 returned -1.4726724416855992\n",
      "2019-10-25 04:50:10,729:qiskit.aqua.algorithms.adaptive.vqe.vqe:INFO: Energy evaluation 628 returned -1.4721753136588966\n",
      "2019-10-25 04:50:10,803:qiskit.aqua.algorithms.adaptive.vqe.vqe:INFO: Energy evaluation 629 returned -1.481655367211263\n",
      "2019-10-25 04:50:10,878:qiskit.aqua.algorithms.adaptive.vqe.vqe:INFO: Energy evaluation 630 returned -1.4820703189066071\n",
      "2019-10-25 04:50:10,954:qiskit.aqua.algorithms.adaptive.vqe.vqe:INFO: Energy evaluation 631 returned -1.4881588137400934\n",
      "2019-10-25 04:50:11,031:qiskit.aqua.algorithms.adaptive.vqe.vqe:INFO: Energy evaluation 632 returned -1.4868842708373384\n",
      "2019-10-25 04:50:11,108:qiskit.aqua.algorithms.adaptive.vqe.vqe:INFO: Energy evaluation 633 returned -1.4840095071537363\n",
      "2019-10-25 04:50:11,183:qiskit.aqua.algorithms.adaptive.vqe.vqe:INFO: Energy evaluation 634 returned -1.4847950429224894\n",
      "2019-10-25 04:50:11,259:qiskit.aqua.algorithms.adaptive.vqe.vqe:INFO: Energy evaluation 635 returned -1.464556253219626\n",
      "2019-10-25 04:50:11,332:qiskit.aqua.algorithms.adaptive.vqe.vqe:INFO: Energy evaluation 636 returned -1.463624026549704\n",
      "2019-10-25 04:50:11,406:qiskit.aqua.algorithms.adaptive.vqe.vqe:INFO: Energy evaluation 637 returned -1.4761626056324215\n",
      "2019-10-25 04:50:11,486:qiskit.aqua.algorithms.adaptive.vqe.vqe:INFO: Energy evaluation 638 returned -1.4756630080532864\n",
      "2019-10-25 04:50:11,569:qiskit.aqua.algorithms.adaptive.vqe.vqe:INFO: Energy evaluation 639 returned -1.4873782811850724\n",
      "2019-10-25 04:50:11,644:qiskit.aqua.algorithms.adaptive.vqe.vqe:INFO: Energy evaluation 640 returned -1.4863183266165592\n",
      "2019-10-25 04:50:11,831:qiskit.aqua.algorithms.adaptive.vqe.vqe:INFO: Energy evaluation 641 returned -1.4877415975837025\n",
      "2019-10-25 04:50:11,905:qiskit.aqua.algorithms.adaptive.vqe.vqe:INFO: Energy evaluation 642 returned -1.4875509388878432\n",
      "2019-10-25 04:50:11,980:qiskit.aqua.algorithms.adaptive.vqe.vqe:INFO: Energy evaluation 643 returned -1.4678174837615805\n",
      "2019-10-25 04:50:12,052:qiskit.aqua.algorithms.adaptive.vqe.vqe:INFO: Energy evaluation 644 returned -1.466610823296793\n"
     ]
    },
    {
     "name": "stderr",
     "output_type": "stream",
     "text": [
      "2019-10-25 04:50:12,126:qiskit.aqua.algorithms.adaptive.vqe.vqe:INFO: Energy evaluation 645 returned -1.4817029607533445\n",
      "2019-10-25 04:50:12,202:qiskit.aqua.algorithms.adaptive.vqe.vqe:INFO: Energy evaluation 646 returned -1.4809350918471877\n",
      "2019-10-25 04:50:12,277:qiskit.aqua.algorithms.adaptive.vqe.vqe:INFO: Energy evaluation 647 returned -1.461829316601896\n",
      "2019-10-25 04:50:12,351:qiskit.aqua.algorithms.adaptive.vqe.vqe:INFO: Energy evaluation 648 returned -1.4649735716445245\n",
      "2019-10-25 04:50:12,423:qiskit.aqua.algorithms.adaptive.vqe.vqe:INFO: Energy evaluation 649 returned -1.4795311574686263\n",
      "2019-10-25 04:50:12,497:qiskit.aqua.algorithms.adaptive.vqe.vqe:INFO: Energy evaluation 650 returned -1.4795968789070844\n",
      "2019-10-25 04:50:12,569:qiskit.aqua.algorithms.adaptive.vqe.vqe:INFO: Energy evaluation 651 returned -1.499782025082306\n",
      "2019-10-25 04:50:12,571:qiskit.aqua.algorithms.adaptive.vqe.vqe:INFO: Optimization complete in 53.19194293022156 seconds.\n",
      "Found opt_params [-0.44892622  0.85256428  0.456024   -3.01625795  1.90175823 -3.58530649\n",
      " -1.30534782  1.37610115 -0.08960939  3.82598787 -0.14525816 -0.89247686\n",
      " -2.28673671 -2.89756074  2.19595993  1.69574037 -0.38625935  0.02234555\n",
      "  0.87560381  0.96337775  0.44767679  2.51684357  0.58883756  1.40508411] in 651 evals\n"
     ]
    },
    {
     "name": "stdout",
     "output_type": "stream",
     "text": [
      "energy: -1.499782025082306\n",
      "time: 53.19194293022156\n",
      "max-cut objective: -3.9997820250823057\n",
      "solution: [0. 1. 0. 1.]\n",
      "solution objective: 4.0\n"
     ]
    },
    {
     "data": {
      "image/png": "[encoded data removed]",
      "text/plain": [
       "<Figure size 432x288 with 1 Axes>"
      ]
     },
     "metadata": {
      "needs_background": "light"
     },
     "output_type": "display_data"
    }
   ],
   "source": [
    "spsa = SPSA(max_trials=300)\n",
    "ry = RY(qubitOp.num_qubits, depth=5, entanglement='linear')\n",
    "vqe = VQE(qubitOp, ry, spsa)\n",
    "\n",
    "backend = BasicAer.get_backend('statevector_simulator')\n",
    "quantum_instance = QuantumInstance(backend, seed_simulator=seed, seed_transpiler=seed)\n",
    "\n",
    "result = vqe.run(quantum_instance)\n",
    "\n",
    "x = max_cut.sample_most_likely(result['eigvecs'][0])\n",
    "print('energy:', result['energy'])\n",
    "print('time:', result['eval_time'])\n",
    "print('max-cut objective:', result['energy'] + offset)\n",
    "print('solution:', max_cut.get_graph_solution(x))\n",
    "print('solution objective:', max_cut.max_cut_value(x, w))\n",
    "\n",
    "colors = ['r' if max_cut.get_graph_solution(x)[i] == 0 else 'b' for i in range(n)]\n",
    "nx.draw_networkx(G, node_color=colors, node_size=600, alpha = .8, pos=pos)"
   ]
  },
  {
   "cell_type": "markdown",
   "metadata": {
    "slideshow": {
     "slide_type": "slide"
    }
   },
   "source": [
    "# The logging is very verbose, but really helps.\n",
    "\n",
    "You can turn it off with the following code for now to keep the notebook clean. I recommend always keeping it on."
   ]
  },
  {
   "cell_type": "code",
   "execution_count": 62,
   "metadata": {
    "ExecuteTime": {
     "end_time": "2019-10-24T20:05:43.846614Z",
     "start_time": "2019-10-24T20:05:43.843081Z"
    }
   },
   "outputs": [],
   "source": [
    "# set_qiskit_aqua_logging(logging.WARNING)"
   ]
  },
  {
   "cell_type": "markdown",
   "metadata": {
    "slideshow": {
     "slide_type": "slide"
    }
   },
   "source": [
    "Now, let's try a new optimizer. This is a big part of the power of Aqua. The Aqua team spends time making the components broadly compatable, so experimentation is cheap and easy."
   ]
  },
  {
   "cell_type": "code",
   "execution_count": 58,
   "metadata": {
    "ExecuteTime": {
     "end_time": "2019-10-24T20:05:11.705115Z",
     "start_time": "2019-10-24T20:04:43.994672Z"
    },
    "slideshow": {
     "slide_type": "fragment"
    }
   },
   "outputs": [
    {
     "name": "stdout",
     "output_type": "stream",
     "text": [
      "energy: -1.4999999816380292\n",
      "time: 27.44013285636902\n",
      "max-cut objective: -3.9999999816380294\n",
      "solution: [0. 1. 0. 1.]\n",
      "solution objective: 4.0\n"
     ]
    },
    {
     "data": {
      "image/png": "[encoded data removed]",
      "text/plain": [
       "<Figure size 432x288 with 1 Axes>"
      ]
     },
     "metadata": {
      "needs_background": "light"
     },
     "output_type": "display_data"
    }
   ],
   "source": [
    "vqe = VQE(qubitOp, ry, SLSQP())\n",
    "result = vqe.run(quantum_instance)\n",
    "\n",
    "x = max_cut.sample_most_likely(result['eigvecs'][0])\n",
    "print('energy:', result['energy'])\n",
    "print('time:', result['eval_time'])\n",
    "print('max-cut objective:', result['energy'] + offset)\n",
    "print('solution:', max_cut.get_graph_solution(x))\n",
    "print('solution objective:', max_cut.max_cut_value(x, w))\n",
    "\n",
    "colors = ['r' if max_cut.get_graph_solution(x)[i] == 0 else 'b' for i in range(n)]\n",
    "nx.draw_networkx(G, node_color=colors, node_size=600, alpha = .8, pos=pos)"
   ]
  },
  {
   "cell_type": "markdown",
   "metadata": {
    "slideshow": {
     "slide_type": "fragment"
    }
   },
   "source": [
    "Empirical notes on optimizers:\n",
    "* COBYLA is a generally good global optimizer, especially in situations when you do not have a good starting point\n",
    "* SLSQP is very good when you have a good starting point, and the error surface can be approximated in small cavities by quadratic functions\n",
    "* SPSA is generally resilient to noise, so almost always the first choise for running on the hardware or noisy simulations\n",
    "\n",
    "Know your optimizer! Understanding the high-level behavior goes a long way."
   ]
  },
  {
   "cell_type": "markdown",
   "metadata": {
    "slideshow": {
     "slide_type": "slide"
    }
   },
   "source": [
    "Now let's try a new variational form:"
   ]
  },
  {
   "cell_type": "code",
   "execution_count": 63,
   "metadata": {
    "ExecuteTime": {
     "end_time": "2019-10-24T20:09:01.746219Z",
     "start_time": "2019-10-24T20:05:55.037360Z"
    },
    "slideshow": {
     "slide_type": "fragment"
    }
   },
   "outputs": [
    {
     "name": "stdout",
     "output_type": "stream",
     "text": [
      "energy: -1.4999968807436779\n",
      "time: 186.41802167892456\n",
      "max-cut objective: -3.999996880743678\n",
      "solution: [0. 1. 0. 1.]\n",
      "solution objective: 4.0\n"
     ]
    },
    {
     "data": {
      "image/png": "[encoded data removed]",
      "text/plain": [
       "<Figure size 432x288 with 1 Axes>"
      ]
     },
     "metadata": {
      "needs_background": "light"
     },
     "output_type": "display_data"
    }
   ],
   "source": [
    "ryrz = RYRZ(qubitOp.num_qubits, depth=5, entanglement='linear')\n",
    "vqe = VQE(qubitOp, ryrz, SLSQP())\n",
    "result = vqe.run(quantum_instance)\n",
    "\n",
    "x = max_cut.sample_most_likely(result['eigvecs'][0])\n",
    "print('energy:', result['energy'])\n",
    "print('time:', result['eval_time'])\n",
    "print('max-cut objective:', result['energy'] + offset)\n",
    "print('solution:', max_cut.get_graph_solution(x))\n",
    "print('solution objective:', max_cut.max_cut_value(x, w))\n",
    "\n",
    "colors = ['r' if max_cut.get_graph_solution(x)[i] == 0 else 'b' for i in range(n)]\n",
    "nx.draw_networkx(G, node_color=colors, node_size=600, alpha = .8, pos=pos)"
   ]
  },
  {
   "cell_type": "markdown",
   "metadata": {
    "slideshow": {
     "slide_type": "slide"
    }
   },
   "source": [
    "That seemed to work worse. We can also increase variational form depth and change the connectivity:"
   ]
  },
  {
   "cell_type": "code",
   "execution_count": 64,
   "metadata": {
    "ExecuteTime": {
     "end_time": "2019-10-24T20:12:02.998061Z",
     "start_time": "2019-10-24T20:10:12.358927Z"
    },
    "scrolled": true,
    "slideshow": {
     "slide_type": "fragment"
    }
   },
   "outputs": [
    {
     "name": "stdout",
     "output_type": "stream",
     "text": [
      "energy: -1.4999994562397423\n",
      "time: 110.27336883544922\n",
      "max-cut objective: -3.9999994562397423\n",
      "solution: [0. 1. 0. 1.]\n",
      "solution objective: 4.0\n"
     ]
    },
    {
     "data": {
      "image/png": "[encoded data removed]",
      "text/plain": [
       "<Figure size 432x288 with 1 Axes>"
      ]
     },
     "metadata": {
      "needs_background": "light"
     },
     "output_type": "display_data"
    }
   ],
   "source": [
    "ry = RY(qubitOp.num_qubits, depth=8, entanglement='full')\n",
    "vqe = VQE(qubitOp, ry, SLSQP())\n",
    "result = vqe.run(quantum_instance)\n",
    "\n",
    "x = max_cut.sample_most_likely(result['eigvecs'][0])\n",
    "print('energy:', result['energy'])\n",
    "print('time:', result['eval_time'])\n",
    "print('max-cut objective:', result['energy'] + offset)\n",
    "print('solution:', max_cut.get_graph_solution(x))\n",
    "print('solution objective:', max_cut.max_cut_value(x, w))\n",
    "\n",
    "colors = ['r' if max_cut.get_graph_solution(x)[i] == 0 else 'b' for i in range(n)]\n",
    "nx.draw_networkx(G, node_color=colors, node_size=600, alpha = .8, pos=pos)"
   ]
  },
  {
   "cell_type": "markdown",
   "metadata": {
    "slideshow": {
     "slide_type": "slide"
    }
   },
   "source": [
    "In many cases we can even swap out the **algorithm**:"
   ]
  },
  {
   "cell_type": "code",
   "execution_count": 70,
   "metadata": {
    "ExecuteTime": {
     "end_time": "2019-10-24T20:15:34.909212Z",
     "start_time": "2019-10-24T20:13:34.479604Z"
    },
    "scrolled": true,
    "slideshow": {
     "slide_type": "fragment"
    }
   },
   "outputs": [
    {
     "name": "stderr",
     "output_type": "stream",
     "text": [
      "2019-10-25 05:13:34,488:qiskit.aqua.algorithms.adaptive.vqe.vqe:INFO: \n",
      "==================== Setting of QAOA.Variational ============================\n",
      "Algorithm: QAOA.Variational\n",
      "-- quantum_instance: None\n",
      "-- var_form: <qiskit.aqua.algorithms.adaptive.qaoa.var_form.QAOAVarForm object at 0x119b01f28>\n",
      "-- optimizer: <qiskit.aqua.components.optimizers.cobyla.COBYLA object at 0x119b8fd68>\n",
      "-- cost_fn: <bound method VQE._energy_evaluation of <qiskit.aqua.algorithms.adaptive.qaoa.qaoa.QAOA object at 0x11bc578d0>>\n",
      "-- initial_point: [0, 0, 0, 0, 0, 0, 0, 0]\n",
      "-- callback: None\n",
      "-- operator: Representation: paulis, qubits: 4, size: 5\n",
      "-- eval_count: 0\n",
      "-- aux_operators: []\n",
      "-- auto_conversion: True\n",
      "===============================================================\n",
      "Variational Form: QAOAVarForm\n",
      "-- cost_operator: Representation: paulis, qubits: 4, size: 5\n",
      "-- p: 4\n",
      "-- initial_state: None\n",
      "-- mixer_operator: Representation: paulis, qubits: 4, size: 4\n",
      "===============================================================\n",
      "Optimizer: COBYLA\n",
      "-- gradient_support_level: 1\n",
      "-- bounds_support_level: 1\n",
      "-- initial_point_support_level: 3\n",
      "-- options: {'rhobeg': 1.0, 'disp': False, 'maxiter': 1000}\n",
      "-- max_evals_grouped: 1\n",
      "-- tol: None\n",
      "===============================================================\n",
      "\n",
      "2019-10-25 05:13:34,489:qiskit.aqua.algorithms.adaptive.vqe.vqe:INFO: When running with non-Aer statevector simulator, represent operator as a matrix could achieve the better performance. We convert the operator to matrix.\n",
      "2019-10-25 05:13:34,492:qiskit.aqua.algorithms.adaptive.vq_algorithm:INFO: Starting optimizer.\n",
      "bounds=[(0, 3.141592653589793), (0, 3.141592653589793), (0, 3.141592653589793), (0, 3.141592653589793), (0, 6.283185307179586), (0, 6.283185307179586), (0, 6.283185307179586), (0, 6.283185307179586)]\n",
      "initial point=[0, 0, 0, 0, 0, 0, 0, 0]\n",
      "2019-10-25 05:13:34,573:qiskit.aqua.algorithms.adaptive.vqe.vqe:INFO: Energy evaluation 1 returned -1.3877787807814457e-17\n",
      "2019-10-25 05:13:34,651:qiskit.aqua.algorithms.adaptive.vqe.vqe:INFO: Energy evaluation 2 returned -6.245004513516506e-17\n",
      "2019-10-25 05:13:34,734:qiskit.aqua.algorithms.adaptive.vqe.vqe:INFO: Energy evaluation 3 returned 1.5222198501696482e-16\n",
      "2019-10-25 05:13:34,811:qiskit.aqua.algorithms.adaptive.vqe.vqe:INFO: Energy evaluation 4 returned 1.5222198501696482e-16\n",
      "2019-10-25 05:13:34,886:qiskit.aqua.algorithms.adaptive.vqe.vqe:INFO: Energy evaluation 5 returned 1.5222198501696482e-16\n",
      "2019-10-25 05:13:34,963:qiskit.aqua.algorithms.adaptive.vqe.vqe:INFO: Energy evaluation 6 returned 0.18060961206175263\n",
      "2019-10-25 05:13:35,040:qiskit.aqua.algorithms.adaptive.vqe.vqe:INFO: Energy evaluation 7 returned -1.942890293094024e-16\n",
      "2019-10-25 05:13:35,278:qiskit.aqua.algorithms.adaptive.vqe.vqe:INFO: Energy evaluation 8 returned -1.942890293094024e-16\n",
      "2019-10-25 05:13:35,364:qiskit.aqua.algorithms.adaptive.vqe.vqe:INFO: Energy evaluation 9 returned -1.942890293094024e-16\n",
      "2019-10-25 05:13:35,459:qiskit.aqua.algorithms.adaptive.vqe.vqe:INFO: Energy evaluation 10 returned 1.4264886601125717\n",
      "2019-10-25 05:13:35,554:qiskit.aqua.algorithms.adaptive.vqe.vqe:INFO: Energy evaluation 11 returned -0.25764379044152946\n",
      "2019-10-25 05:13:35,650:qiskit.aqua.algorithms.adaptive.vqe.vqe:INFO: Energy evaluation 12 returned 0.1806096120617508\n",
      "2019-10-25 05:13:35,750:qiskit.aqua.algorithms.adaptive.vqe.vqe:INFO: Energy evaluation 13 returned -0.7266531495174364\n",
      "2019-10-25 05:13:35,854:qiskit.aqua.algorithms.adaptive.vqe.vqe:INFO: Energy evaluation 14 returned 0.7133191234210776\n",
      "2019-10-25 05:13:35,954:qiskit.aqua.algorithms.adaptive.vqe.vqe:INFO: Energy evaluation 15 returned -0.8825064701848554\n",
      "2019-10-25 05:13:36,054:qiskit.aqua.algorithms.adaptive.vqe.vqe:INFO: Energy evaluation 16 returned -0.7433982842860418\n",
      "2019-10-25 05:13:36,169:qiskit.aqua.algorithms.adaptive.vqe.vqe:INFO: Energy evaluation 17 returned -0.3271779579066349\n",
      "2019-10-25 05:13:36,276:qiskit.aqua.algorithms.adaptive.vqe.vqe:INFO: Energy evaluation 18 returned -0.6553545743092417\n",
      "2019-10-25 05:13:36,384:qiskit.aqua.algorithms.adaptive.vqe.vqe:INFO: Energy evaluation 19 returned -0.32717795790663434\n",
      "2019-10-25 05:13:36,495:qiskit.aqua.algorithms.adaptive.vqe.vqe:INFO: Energy evaluation 20 returned -0.8507710947149834\n",
      "2019-10-25 05:13:36,604:qiskit.aqua.algorithms.adaptive.vqe.vqe:INFO: Energy evaluation 21 returned -0.8825064701848557\n",
      "2019-10-25 05:13:36,711:qiskit.aqua.algorithms.adaptive.vqe.vqe:INFO: Energy evaluation 22 returned -0.40024687516152074\n",
      "2019-10-25 05:13:36,819:qiskit.aqua.algorithms.adaptive.vqe.vqe:INFO: Energy evaluation 23 returned -0.6310762273898328\n",
      "2019-10-25 05:13:36,935:qiskit.aqua.algorithms.adaptive.vqe.vqe:INFO: Energy evaluation 24 returned -0.4553503572431275\n",
      "2019-10-25 05:13:37,051:qiskit.aqua.algorithms.adaptive.vqe.vqe:INFO: Energy evaluation 25 returned -0.840536236265905\n",
      "2019-10-25 05:13:37,167:qiskit.aqua.algorithms.adaptive.vqe.vqe:INFO: Energy evaluation 26 returned -0.9201036058133916\n",
      "2019-10-25 05:13:37,275:qiskit.aqua.algorithms.adaptive.vqe.vqe:INFO: Energy evaluation 27 returned -0.6610758668823808\n",
      "2019-10-25 05:13:37,387:qiskit.aqua.algorithms.adaptive.vqe.vqe:INFO: Energy evaluation 28 returned -0.8637615740066971\n",
      "2019-10-25 05:13:37,497:qiskit.aqua.algorithms.adaptive.vqe.vqe:INFO: Energy evaluation 29 returned -0.4280714523179308\n",
      "2019-10-25 05:13:37,609:qiskit.aqua.algorithms.adaptive.vqe.vqe:INFO: Energy evaluation 30 returned -0.9083249059035974\n",
      "2019-10-25 05:13:37,718:qiskit.aqua.algorithms.adaptive.vqe.vqe:INFO: Energy evaluation 31 returned -0.39333144036268497\n",
      "2019-10-25 05:13:37,977:qiskit.aqua.algorithms.adaptive.vqe.vqe:INFO: Energy evaluation 32 returned -0.9509974886824943\n",
      "2019-10-25 05:13:38,083:qiskit.aqua.algorithms.adaptive.vqe.vqe:INFO: Energy evaluation 33 returned -0.931122938416216\n",
      "2019-10-25 05:13:38,195:qiskit.aqua.algorithms.adaptive.vqe.vqe:INFO: Energy evaluation 34 returned -0.9072568321075141\n",
      "2019-10-25 05:13:38,304:qiskit.aqua.algorithms.adaptive.vqe.vqe:INFO: Energy evaluation 35 returned -0.9226576784961379\n",
      "2019-10-25 05:13:38,416:qiskit.aqua.algorithms.adaptive.vqe.vqe:INFO: Energy evaluation 36 returned -0.8583674618811936\n",
      "2019-10-25 05:13:38,528:qiskit.aqua.algorithms.adaptive.vqe.vqe:INFO: Energy evaluation 37 returned -0.887230700497385\n",
      "2019-10-25 05:13:38,639:qiskit.aqua.algorithms.adaptive.vqe.vqe:INFO: Energy evaluation 38 returned -0.9521427389788442\n",
      "2019-10-25 05:13:38,757:qiskit.aqua.algorithms.adaptive.vqe.vqe:INFO: Energy evaluation 39 returned -0.9509896795720959\n",
      "2019-10-25 05:13:38,879:qiskit.aqua.algorithms.adaptive.vqe.vqe:INFO: Energy evaluation 40 returned -0.9325905930816777\n",
      "2019-10-25 05:13:38,998:qiskit.aqua.algorithms.adaptive.vqe.vqe:INFO: Energy evaluation 41 returned -0.877813784235095\n",
      "2019-10-25 05:13:39,115:qiskit.aqua.algorithms.adaptive.vqe.vqe:INFO: Energy evaluation 42 returned -0.9615472327069742\n",
      "2019-10-25 05:13:39,229:qiskit.aqua.algorithms.adaptive.vqe.vqe:INFO: Energy evaluation 43 returned -0.9416818945084964\n",
      "2019-10-25 05:13:39,344:qiskit.aqua.algorithms.adaptive.vqe.vqe:INFO: Energy evaluation 44 returned -0.9690455280298009\n",
      "2019-10-25 05:13:39,466:qiskit.aqua.algorithms.adaptive.vqe.vqe:INFO: Energy evaluation 45 returned -0.9573814326205081\n",
      "2019-10-25 05:13:39,580:qiskit.aqua.algorithms.adaptive.vqe.vqe:INFO: Energy evaluation 46 returned -0.9561866433958843\n",
      "2019-10-25 05:13:39,699:qiskit.aqua.algorithms.adaptive.vqe.vqe:INFO: Energy evaluation 47 returned -0.9695447213666959\n",
      "2019-10-25 05:13:39,815:qiskit.aqua.algorithms.adaptive.vqe.vqe:INFO: Energy evaluation 48 returned -0.9790414248247132\n",
      "2019-10-25 05:13:39,924:qiskit.aqua.algorithms.adaptive.vqe.vqe:INFO: Energy evaluation 49 returned -0.9685870937276393\n",
      "2019-10-25 05:13:40,039:qiskit.aqua.algorithms.adaptive.vqe.vqe:INFO: Energy evaluation 50 returned -0.9780960175846645\n",
      "2019-10-25 05:13:40,156:qiskit.aqua.algorithms.adaptive.vqe.vqe:INFO: Energy evaluation 51 returned -0.9725230345635895\n",
      "2019-10-25 05:13:40,269:qiskit.aqua.algorithms.adaptive.vqe.vqe:INFO: Energy evaluation 52 returned -0.9706325640264108\n",
      "2019-10-25 05:13:40,382:qiskit.aqua.algorithms.adaptive.vqe.vqe:INFO: Energy evaluation 53 returned -0.9691709745386088\n"
     ]
    },
    {
     "name": "stderr",
     "output_type": "stream",
     "text": [
      "2019-10-25 05:13:40,668:qiskit.aqua.algorithms.adaptive.vqe.vqe:INFO: Energy evaluation 54 returned -0.9840603971375299\n",
      "2019-10-25 05:13:40,783:qiskit.aqua.algorithms.adaptive.vqe.vqe:INFO: Energy evaluation 55 returned -0.9892310163898511\n",
      "2019-10-25 05:13:40,899:qiskit.aqua.algorithms.adaptive.vqe.vqe:INFO: Energy evaluation 56 returned -0.9937584682957503\n",
      "2019-10-25 05:13:41,015:qiskit.aqua.algorithms.adaptive.vqe.vqe:INFO: Energy evaluation 57 returned -0.9919804583701997\n",
      "2019-10-25 05:13:41,136:qiskit.aqua.algorithms.adaptive.vqe.vqe:INFO: Energy evaluation 58 returned -0.964517628116563\n",
      "2019-10-25 05:13:41,251:qiskit.aqua.algorithms.adaptive.vqe.vqe:INFO: Energy evaluation 59 returned -0.9937833050820558\n",
      "2019-10-25 05:13:41,366:qiskit.aqua.algorithms.adaptive.vqe.vqe:INFO: Energy evaluation 60 returned -0.9953528666102494\n",
      "2019-10-25 05:13:41,479:qiskit.aqua.algorithms.adaptive.vqe.vqe:INFO: Energy evaluation 61 returned -0.993272620358737\n",
      "2019-10-25 05:13:41,603:qiskit.aqua.algorithms.adaptive.vqe.vqe:INFO: Energy evaluation 62 returned -1.0012613190985236\n",
      "2019-10-25 05:13:41,716:qiskit.aqua.algorithms.adaptive.vqe.vqe:INFO: Energy evaluation 63 returned -0.9786008782701249\n",
      "2019-10-25 05:13:41,829:qiskit.aqua.algorithms.adaptive.vqe.vqe:INFO: Energy evaluation 64 returned -1.0061343782787393\n",
      "2019-10-25 05:13:41,943:qiskit.aqua.algorithms.adaptive.vqe.vqe:INFO: Energy evaluation 65 returned -1.012389927776476\n",
      "2019-10-25 05:13:42,060:qiskit.aqua.algorithms.adaptive.vqe.vqe:INFO: Energy evaluation 66 returned -1.021146775037372\n",
      "2019-10-25 05:13:42,175:qiskit.aqua.algorithms.adaptive.vqe.vqe:INFO: Energy evaluation 67 returned -1.024274919810522\n",
      "2019-10-25 05:13:42,293:qiskit.aqua.algorithms.adaptive.vqe.vqe:INFO: Energy evaluation 68 returned -1.022961345796827\n",
      "2019-10-25 05:13:42,407:qiskit.aqua.algorithms.adaptive.vqe.vqe:INFO: Energy evaluation 69 returned -1.0246337430207415\n",
      "2019-10-25 05:13:42,524:qiskit.aqua.algorithms.adaptive.vqe.vqe:INFO: Energy evaluation 70 returned -1.0347816365545812\n",
      "2019-10-25 05:13:42,638:qiskit.aqua.algorithms.adaptive.vqe.vqe:INFO: Energy evaluation 71 returned -1.0364316451556346\n",
      "2019-10-25 05:13:42,745:qiskit.aqua.algorithms.adaptive.vqe.vqe:INFO: Energy evaluation 72 returned -1.0334967055300148\n",
      "2019-10-25 05:13:42,857:qiskit.aqua.algorithms.adaptive.vqe.vqe:INFO: Energy evaluation 73 returned -1.0442168764851583\n",
      "2019-10-25 05:13:42,978:qiskit.aqua.algorithms.adaptive.vqe.vqe:INFO: Energy evaluation 74 returned -1.0492301643314423\n",
      "2019-10-25 05:13:43,097:qiskit.aqua.algorithms.adaptive.vqe.vqe:INFO: Energy evaluation 75 returned -1.0280095890505807\n",
      "2019-10-25 05:13:43,365:qiskit.aqua.algorithms.adaptive.vqe.vqe:INFO: Energy evaluation 76 returned -1.0476351238575976\n",
      "2019-10-25 05:13:43,479:qiskit.aqua.algorithms.adaptive.vqe.vqe:INFO: Energy evaluation 77 returned -1.0539109735673708\n",
      "2019-10-25 05:13:43,585:qiskit.aqua.algorithms.adaptive.vqe.vqe:INFO: Energy evaluation 78 returned -1.0525926812652737\n",
      "2019-10-25 05:13:43,703:qiskit.aqua.algorithms.adaptive.vqe.vqe:INFO: Energy evaluation 79 returned -1.050859901963436\n",
      "2019-10-25 05:13:43,821:qiskit.aqua.algorithms.adaptive.vqe.vqe:INFO: Energy evaluation 80 returned -1.052319991490133\n",
      "2019-10-25 05:13:43,939:qiskit.aqua.algorithms.adaptive.vqe.vqe:INFO: Energy evaluation 81 returned -1.0569170009998883\n",
      "2019-10-25 05:13:44,053:qiskit.aqua.algorithms.adaptive.vqe.vqe:INFO: Energy evaluation 82 returned -1.0390307632873557\n",
      "2019-10-25 05:13:44,168:qiskit.aqua.algorithms.adaptive.vqe.vqe:INFO: Energy evaluation 83 returned -1.0664980133604791\n",
      "2019-10-25 05:13:44,284:qiskit.aqua.algorithms.adaptive.vqe.vqe:INFO: Energy evaluation 84 returned -1.060074090819406\n",
      "2019-10-25 05:13:44,403:qiskit.aqua.algorithms.adaptive.vqe.vqe:INFO: Energy evaluation 85 returned -1.081220119490204\n",
      "2019-10-25 05:13:44,519:qiskit.aqua.algorithms.adaptive.vqe.vqe:INFO: Energy evaluation 86 returned -1.0968591596243442\n",
      "2019-10-25 05:13:44,635:qiskit.aqua.algorithms.adaptive.vqe.vqe:INFO: Energy evaluation 87 returned -1.1073721712716134\n",
      "2019-10-25 05:13:44,754:qiskit.aqua.algorithms.adaptive.vqe.vqe:INFO: Energy evaluation 88 returned -1.1216569178422304\n",
      "2019-10-25 05:13:44,870:qiskit.aqua.algorithms.adaptive.vqe.vqe:INFO: Energy evaluation 89 returned -1.1369578279550683\n",
      "2019-10-25 05:13:44,979:qiskit.aqua.algorithms.adaptive.vqe.vqe:INFO: Energy evaluation 90 returned -1.1543057835926405\n",
      "2019-10-25 05:13:45,088:qiskit.aqua.algorithms.adaptive.vqe.vqe:INFO: Energy evaluation 91 returned -1.1681730287878835\n",
      "2019-10-25 05:13:45,204:qiskit.aqua.algorithms.adaptive.vqe.vqe:INFO: Energy evaluation 92 returned -1.1819148898028997\n",
      "2019-10-25 05:13:45,317:qiskit.aqua.algorithms.adaptive.vqe.vqe:INFO: Energy evaluation 93 returned -1.197931748967679\n",
      "2019-10-25 05:13:45,437:qiskit.aqua.algorithms.adaptive.vqe.vqe:INFO: Energy evaluation 94 returned -1.211326775989681\n",
      "2019-10-25 05:13:45,558:qiskit.aqua.algorithms.adaptive.vqe.vqe:INFO: Energy evaluation 95 returned -1.22461781131194\n",
      "2019-10-25 05:13:45,675:qiskit.aqua.algorithms.adaptive.vqe.vqe:INFO: Energy evaluation 96 returned -1.2279676294553545\n",
      "2019-10-25 05:13:45,791:qiskit.aqua.algorithms.adaptive.vqe.vqe:INFO: Energy evaluation 97 returned -1.2370276272532257\n",
      "2019-10-25 05:13:46,068:qiskit.aqua.algorithms.adaptive.vqe.vqe:INFO: Energy evaluation 98 returned -1.2470460314185146\n",
      "2019-10-25 05:13:46,194:qiskit.aqua.algorithms.adaptive.vqe.vqe:INFO: Energy evaluation 99 returned -1.2387940872639582\n",
      "2019-10-25 05:13:46,312:qiskit.aqua.algorithms.adaptive.vqe.vqe:INFO: Energy evaluation 100 returned -1.2360577468714542\n",
      "2019-10-25 05:13:46,427:qiskit.aqua.algorithms.adaptive.vqe.vqe:INFO: Energy evaluation 101 returned -1.266124922913522\n",
      "2019-10-25 05:13:46,539:qiskit.aqua.algorithms.adaptive.vqe.vqe:INFO: Energy evaluation 102 returned -1.2845013167540598\n",
      "2019-10-25 05:13:46,650:qiskit.aqua.algorithms.adaptive.vqe.vqe:INFO: Energy evaluation 103 returned -1.3071282482356636\n",
      "2019-10-25 05:13:46,763:qiskit.aqua.algorithms.adaptive.vqe.vqe:INFO: Energy evaluation 104 returned -1.3266069233851816\n",
      "2019-10-25 05:13:46,888:qiskit.aqua.algorithms.adaptive.vqe.vqe:INFO: Energy evaluation 105 returned -1.3299020497660943\n",
      "2019-10-25 05:13:47,010:qiskit.aqua.algorithms.adaptive.vqe.vqe:INFO: Energy evaluation 106 returned -1.3286211368172027\n",
      "2019-10-25 05:13:47,134:qiskit.aqua.algorithms.adaptive.vqe.vqe:INFO: Energy evaluation 107 returned -1.3206016392809736\n",
      "2019-10-25 05:13:47,256:qiskit.aqua.algorithms.adaptive.vqe.vqe:INFO: Energy evaluation 108 returned -1.33084339239898\n",
      "2019-10-25 05:13:47,372:qiskit.aqua.algorithms.adaptive.vqe.vqe:INFO: Energy evaluation 109 returned -1.3381144994643372\n",
      "2019-10-25 05:13:47,489:qiskit.aqua.algorithms.adaptive.vqe.vqe:INFO: Energy evaluation 110 returned -1.3488471849745953\n",
      "2019-10-25 05:13:47,609:qiskit.aqua.algorithms.adaptive.vqe.vqe:INFO: Energy evaluation 111 returned -1.338917013082025\n",
      "2019-10-25 05:13:47,729:qiskit.aqua.algorithms.adaptive.vqe.vqe:INFO: Energy evaluation 112 returned -1.3442740247375033\n",
      "2019-10-25 05:13:47,840:qiskit.aqua.algorithms.adaptive.vqe.vqe:INFO: Energy evaluation 113 returned -1.3500370244243347\n",
      "2019-10-25 05:13:47,952:qiskit.aqua.algorithms.adaptive.vqe.vqe:INFO: Energy evaluation 114 returned -1.3580857921735872\n",
      "2019-10-25 05:13:48,079:qiskit.aqua.algorithms.adaptive.vqe.vqe:INFO: Energy evaluation 115 returned -1.3715550963126153\n",
      "2019-10-25 05:13:48,207:qiskit.aqua.algorithms.adaptive.vqe.vqe:INFO: Energy evaluation 116 returned -1.3668438357555868\n",
      "2019-10-25 05:13:48,319:qiskit.aqua.algorithms.adaptive.vqe.vqe:INFO: Energy evaluation 117 returned -1.3671843042435068\n",
      "2019-10-25 05:13:48,430:qiskit.aqua.algorithms.adaptive.vqe.vqe:INFO: Energy evaluation 118 returned -1.3712550674823532\n",
      "2019-10-25 05:13:48,538:qiskit.aqua.algorithms.adaptive.vqe.vqe:INFO: Energy evaluation 119 returned -1.3699270156759038\n",
      "2019-10-25 05:13:48,784:qiskit.aqua.algorithms.adaptive.vqe.vqe:INFO: Energy evaluation 120 returned -1.3780705668177275\n",
      "2019-10-25 05:13:48,907:qiskit.aqua.algorithms.adaptive.vqe.vqe:INFO: Energy evaluation 121 returned -1.3728174742085875\n",
      "2019-10-25 05:13:49,019:qiskit.aqua.algorithms.adaptive.vqe.vqe:INFO: Energy evaluation 122 returned -1.381128322616756\n"
     ]
    },
    {
     "name": "stderr",
     "output_type": "stream",
     "text": [
      "2019-10-25 05:13:49,135:qiskit.aqua.algorithms.adaptive.vqe.vqe:INFO: Energy evaluation 123 returned -1.374926461205041\n",
      "2019-10-25 05:13:49,253:qiskit.aqua.algorithms.adaptive.vqe.vqe:INFO: Energy evaluation 124 returned -1.3795231395096201\n",
      "2019-10-25 05:13:49,372:qiskit.aqua.algorithms.adaptive.vqe.vqe:INFO: Energy evaluation 125 returned -1.3743033539477079\n",
      "2019-10-25 05:13:49,492:qiskit.aqua.algorithms.adaptive.vqe.vqe:INFO: Energy evaluation 126 returned -1.3814323774706185\n",
      "2019-10-25 05:13:49,613:qiskit.aqua.algorithms.adaptive.vqe.vqe:INFO: Energy evaluation 127 returned -1.380386374322545\n",
      "2019-10-25 05:13:49,730:qiskit.aqua.algorithms.adaptive.vqe.vqe:INFO: Energy evaluation 128 returned -1.3816921699703812\n",
      "2019-10-25 05:13:49,848:qiskit.aqua.algorithms.adaptive.vqe.vqe:INFO: Energy evaluation 129 returned -1.3786092775846945\n",
      "2019-10-25 05:13:49,970:qiskit.aqua.algorithms.adaptive.vqe.vqe:INFO: Energy evaluation 130 returned -1.38174279371938\n",
      "2019-10-25 05:13:50,098:qiskit.aqua.algorithms.adaptive.vqe.vqe:INFO: Energy evaluation 131 returned -1.3803666367513627\n",
      "2019-10-25 05:13:50,218:qiskit.aqua.algorithms.adaptive.vqe.vqe:INFO: Energy evaluation 132 returned -1.3873850145946327\n",
      "2019-10-25 05:13:50,328:qiskit.aqua.algorithms.adaptive.vqe.vqe:INFO: Energy evaluation 133 returned -1.390744439149353\n",
      "2019-10-25 05:13:50,435:qiskit.aqua.algorithms.adaptive.vqe.vqe:INFO: Energy evaluation 134 returned -1.3908264037789533\n",
      "2019-10-25 05:13:50,545:qiskit.aqua.algorithms.adaptive.vqe.vqe:INFO: Energy evaluation 135 returned -1.391034510965263\n",
      "2019-10-25 05:13:50,666:qiskit.aqua.algorithms.adaptive.vqe.vqe:INFO: Energy evaluation 136 returned -1.3928316637955844\n",
      "2019-10-25 05:13:50,785:qiskit.aqua.algorithms.adaptive.vqe.vqe:INFO: Energy evaluation 137 returned -1.3940576922829249\n",
      "2019-10-25 05:13:50,893:qiskit.aqua.algorithms.adaptive.vqe.vqe:INFO: Energy evaluation 138 returned -1.3960896644432228\n",
      "2019-10-25 05:13:50,999:qiskit.aqua.algorithms.adaptive.vqe.vqe:INFO: Energy evaluation 139 returned -1.3942578474217118\n",
      "2019-10-25 05:13:51,109:qiskit.aqua.algorithms.adaptive.vqe.vqe:INFO: Energy evaluation 140 returned -1.3968458195093338\n",
      "2019-10-25 05:13:51,216:qiskit.aqua.algorithms.adaptive.vqe.vqe:INFO: Energy evaluation 141 returned -1.396428461904507\n",
      "2019-10-25 05:13:51,484:qiskit.aqua.algorithms.adaptive.vqe.vqe:INFO: Energy evaluation 142 returned -1.3964502042392486\n",
      "2019-10-25 05:13:51,597:qiskit.aqua.algorithms.adaptive.vqe.vqe:INFO: Energy evaluation 143 returned -1.3972139157388725\n",
      "2019-10-25 05:13:51,707:qiskit.aqua.algorithms.adaptive.vqe.vqe:INFO: Energy evaluation 144 returned -1.3978747950816144\n",
      "2019-10-25 05:13:51,815:qiskit.aqua.algorithms.adaptive.vqe.vqe:INFO: Energy evaluation 145 returned -1.3979267636655555\n",
      "2019-10-25 05:13:51,926:qiskit.aqua.algorithms.adaptive.vqe.vqe:INFO: Energy evaluation 146 returned -1.397379718202057\n",
      "2019-10-25 05:13:52,033:qiskit.aqua.algorithms.adaptive.vqe.vqe:INFO: Energy evaluation 147 returned -1.3969893716402202\n",
      "2019-10-25 05:13:52,143:qiskit.aqua.algorithms.adaptive.vqe.vqe:INFO: Energy evaluation 148 returned -1.397016799111644\n",
      "2019-10-25 05:13:52,261:qiskit.aqua.algorithms.adaptive.vqe.vqe:INFO: Energy evaluation 149 returned -1.3999129236941847\n",
      "2019-10-25 05:13:52,380:qiskit.aqua.algorithms.adaptive.vqe.vqe:INFO: Energy evaluation 150 returned -1.4008164465611197\n",
      "2019-10-25 05:13:52,490:qiskit.aqua.algorithms.adaptive.vqe.vqe:INFO: Energy evaluation 151 returned -1.4009793094200962\n",
      "2019-10-25 05:13:52,600:qiskit.aqua.algorithms.adaptive.vqe.vqe:INFO: Energy evaluation 152 returned -1.401077359390262\n",
      "2019-10-25 05:13:52,720:qiskit.aqua.algorithms.adaptive.vqe.vqe:INFO: Energy evaluation 153 returned -1.4007846396088708\n",
      "2019-10-25 05:13:52,842:qiskit.aqua.algorithms.adaptive.vqe.vqe:INFO: Energy evaluation 154 returned -1.40130560773082\n",
      "2019-10-25 05:13:52,962:qiskit.aqua.algorithms.adaptive.vqe.vqe:INFO: Energy evaluation 155 returned -1.4023974562601134\n",
      "2019-10-25 05:13:53,070:qiskit.aqua.algorithms.adaptive.vqe.vqe:INFO: Energy evaluation 156 returned -1.4022218439722016\n",
      "2019-10-25 05:13:53,179:qiskit.aqua.algorithms.adaptive.vqe.vqe:INFO: Energy evaluation 157 returned -1.4023979172556735\n",
      "2019-10-25 05:13:53,289:qiskit.aqua.algorithms.adaptive.vqe.vqe:INFO: Energy evaluation 158 returned -1.402755914677869\n",
      "2019-10-25 05:13:53,396:qiskit.aqua.algorithms.adaptive.vqe.vqe:INFO: Energy evaluation 159 returned -1.4022620405295487\n",
      "2019-10-25 05:13:53,509:qiskit.aqua.algorithms.adaptive.vqe.vqe:INFO: Energy evaluation 160 returned -1.4033214673261485\n",
      "2019-10-25 05:13:53,622:qiskit.aqua.algorithms.adaptive.vqe.vqe:INFO: Energy evaluation 161 returned -1.4037472256747063\n",
      "2019-10-25 05:13:53,734:qiskit.aqua.algorithms.adaptive.vqe.vqe:INFO: Energy evaluation 162 returned -1.4040518600202267\n",
      "2019-10-25 05:13:53,841:qiskit.aqua.algorithms.adaptive.vqe.vqe:INFO: Energy evaluation 163 returned -1.404248052418858\n",
      "2019-10-25 05:13:53,948:qiskit.aqua.algorithms.adaptive.vqe.vqe:INFO: Energy evaluation 164 returned -1.4035895035482442\n",
      "2019-10-25 05:13:54,201:qiskit.aqua.algorithms.adaptive.vqe.vqe:INFO: Energy evaluation 165 returned -1.4048036711609841\n",
      "2019-10-25 05:13:54,316:qiskit.aqua.algorithms.adaptive.vqe.vqe:INFO: Energy evaluation 166 returned -1.4051217713557074\n",
      "2019-10-25 05:13:54,428:qiskit.aqua.algorithms.adaptive.vqe.vqe:INFO: Energy evaluation 167 returned -1.405291925795694\n",
      "2019-10-25 05:13:54,536:qiskit.aqua.algorithms.adaptive.vqe.vqe:INFO: Energy evaluation 168 returned -1.4036558204491043\n",
      "2019-10-25 05:13:54,642:qiskit.aqua.algorithms.adaptive.vqe.vqe:INFO: Energy evaluation 169 returned -1.405025894358959\n",
      "2019-10-25 05:13:54,752:qiskit.aqua.algorithms.adaptive.vqe.vqe:INFO: Energy evaluation 170 returned -1.406696291290487\n",
      "2019-10-25 05:13:54,861:qiskit.aqua.algorithms.adaptive.vqe.vqe:INFO: Energy evaluation 171 returned -1.4068276393333623\n",
      "2019-10-25 05:13:54,970:qiskit.aqua.algorithms.adaptive.vqe.vqe:INFO: Energy evaluation 172 returned -1.407183676334081\n",
      "2019-10-25 05:13:55,077:qiskit.aqua.algorithms.adaptive.vqe.vqe:INFO: Energy evaluation 173 returned -1.4077743070342006\n",
      "2019-10-25 05:13:55,187:qiskit.aqua.algorithms.adaptive.vqe.vqe:INFO: Energy evaluation 174 returned -1.4069452890196263\n",
      "2019-10-25 05:13:55,299:qiskit.aqua.algorithms.adaptive.vqe.vqe:INFO: Energy evaluation 175 returned -1.4078952279591603\n",
      "2019-10-25 05:13:55,407:qiskit.aqua.algorithms.adaptive.vqe.vqe:INFO: Energy evaluation 176 returned -1.408303828389572\n",
      "2019-10-25 05:13:55,513:qiskit.aqua.algorithms.adaptive.vqe.vqe:INFO: Energy evaluation 177 returned -1.4090464525028323\n",
      "2019-10-25 05:13:55,621:qiskit.aqua.algorithms.adaptive.vqe.vqe:INFO: Energy evaluation 178 returned -1.4087725701658798\n",
      "2019-10-25 05:13:55,729:qiskit.aqua.algorithms.adaptive.vqe.vqe:INFO: Energy evaluation 179 returned -1.4092750636188827\n",
      "2019-10-25 05:13:55,836:qiskit.aqua.algorithms.adaptive.vqe.vqe:INFO: Energy evaluation 180 returned -1.4097914054505836\n",
      "2019-10-25 05:13:55,944:qiskit.aqua.algorithms.adaptive.vqe.vqe:INFO: Energy evaluation 181 returned -1.4099073965264624\n",
      "2019-10-25 05:13:56,052:qiskit.aqua.algorithms.adaptive.vqe.vqe:INFO: Energy evaluation 182 returned -1.4102698232651898\n",
      "2019-10-25 05:13:56,159:qiskit.aqua.algorithms.adaptive.vqe.vqe:INFO: Energy evaluation 183 returned -1.4106505866700627\n",
      "2019-10-25 05:13:56,267:qiskit.aqua.algorithms.adaptive.vqe.vqe:INFO: Energy evaluation 184 returned -1.4109605467384263\n",
      "2019-10-25 05:13:56,375:qiskit.aqua.algorithms.adaptive.vqe.vqe:INFO: Energy evaluation 185 returned -1.410930995048575\n",
      "2019-10-25 05:13:56,487:qiskit.aqua.algorithms.adaptive.vqe.vqe:INFO: Energy evaluation 186 returned -1.4103775329688477\n",
      "2019-10-25 05:13:56,751:qiskit.aqua.algorithms.adaptive.vqe.vqe:INFO: Energy evaluation 187 returned -1.411619948714222\n",
      "2019-10-25 05:13:56,858:qiskit.aqua.algorithms.adaptive.vqe.vqe:INFO: Energy evaluation 188 returned -1.4115805337270286\n",
      "2019-10-25 05:13:56,964:qiskit.aqua.algorithms.adaptive.vqe.vqe:INFO: Energy evaluation 189 returned -1.4117635607806576\n",
      "2019-10-25 05:13:57,070:qiskit.aqua.algorithms.adaptive.vqe.vqe:INFO: Energy evaluation 190 returned -1.4119300111886228\n"
     ]
    },
    {
     "name": "stderr",
     "output_type": "stream",
     "text": [
      "2019-10-25 05:13:57,177:qiskit.aqua.algorithms.adaptive.vqe.vqe:INFO: Energy evaluation 191 returned -1.4121475171750002\n",
      "2019-10-25 05:13:57,284:qiskit.aqua.algorithms.adaptive.vqe.vqe:INFO: Energy evaluation 192 returned -1.4115820837309248\n",
      "2019-10-25 05:13:57,391:qiskit.aqua.algorithms.adaptive.vqe.vqe:INFO: Energy evaluation 193 returned -1.4122763675966743\n",
      "2019-10-25 05:13:57,498:qiskit.aqua.algorithms.adaptive.vqe.vqe:INFO: Energy evaluation 194 returned -1.412688030014785\n",
      "2019-10-25 05:13:57,608:qiskit.aqua.algorithms.adaptive.vqe.vqe:INFO: Energy evaluation 195 returned -1.412907201404012\n",
      "2019-10-25 05:13:57,726:qiskit.aqua.algorithms.adaptive.vqe.vqe:INFO: Energy evaluation 196 returned -1.4133716250353492\n",
      "2019-10-25 05:13:57,835:qiskit.aqua.algorithms.adaptive.vqe.vqe:INFO: Energy evaluation 197 returned -1.4138037476994563\n",
      "2019-10-25 05:13:57,947:qiskit.aqua.algorithms.adaptive.vqe.vqe:INFO: Energy evaluation 198 returned -1.414128197224344\n",
      "2019-10-25 05:13:58,068:qiskit.aqua.algorithms.adaptive.vqe.vqe:INFO: Energy evaluation 199 returned -1.4140656815951858\n",
      "2019-10-25 05:13:58,191:qiskit.aqua.algorithms.adaptive.vqe.vqe:INFO: Energy evaluation 200 returned -1.4139546669770444\n",
      "2019-10-25 05:13:58,311:qiskit.aqua.algorithms.adaptive.vqe.vqe:INFO: Energy evaluation 201 returned -1.4144441576222486\n",
      "2019-10-25 05:13:58,425:qiskit.aqua.algorithms.adaptive.vqe.vqe:INFO: Energy evaluation 202 returned -1.414355534569597\n",
      "2019-10-25 05:13:58,541:qiskit.aqua.algorithms.adaptive.vqe.vqe:INFO: Energy evaluation 203 returned -1.4144530554973453\n",
      "2019-10-25 05:13:58,655:qiskit.aqua.algorithms.adaptive.vqe.vqe:INFO: Energy evaluation 204 returned -1.4148366970456667\n",
      "2019-10-25 05:13:58,767:qiskit.aqua.algorithms.adaptive.vqe.vqe:INFO: Energy evaluation 205 returned -1.4149842688159868\n",
      "2019-10-25 05:13:58,883:qiskit.aqua.algorithms.adaptive.vqe.vqe:INFO: Energy evaluation 206 returned -1.415138816679613\n",
      "2019-10-25 05:13:59,001:qiskit.aqua.algorithms.adaptive.vqe.vqe:INFO: Energy evaluation 207 returned -1.4150597559652907\n",
      "2019-10-25 05:13:59,120:qiskit.aqua.algorithms.adaptive.vqe.vqe:INFO: Energy evaluation 208 returned -1.4149673928799886\n",
      "2019-10-25 05:13:59,395:qiskit.aqua.algorithms.adaptive.vqe.vqe:INFO: Energy evaluation 209 returned -1.4153454307290954\n",
      "2019-10-25 05:13:59,510:qiskit.aqua.algorithms.adaptive.vqe.vqe:INFO: Energy evaluation 210 returned -1.4154383709066671\n",
      "2019-10-25 05:13:59,632:qiskit.aqua.algorithms.adaptive.vqe.vqe:INFO: Energy evaluation 211 returned -1.4154134719761933\n",
      "2019-10-25 05:13:59,766:qiskit.aqua.algorithms.adaptive.vqe.vqe:INFO: Energy evaluation 212 returned -1.4158111090892473\n",
      "2019-10-25 05:13:59,901:qiskit.aqua.algorithms.adaptive.vqe.vqe:INFO: Energy evaluation 213 returned -1.4163360041792838\n",
      "2019-10-25 05:14:00,028:qiskit.aqua.algorithms.adaptive.vqe.vqe:INFO: Energy evaluation 214 returned -1.416505684694857\n",
      "2019-10-25 05:14:00,151:qiskit.aqua.algorithms.adaptive.vqe.vqe:INFO: Energy evaluation 215 returned -1.4163860796906038\n",
      "2019-10-25 05:14:00,274:qiskit.aqua.algorithms.adaptive.vqe.vqe:INFO: Energy evaluation 216 returned -1.416329098560095\n",
      "2019-10-25 05:14:00,391:qiskit.aqua.algorithms.adaptive.vqe.vqe:INFO: Energy evaluation 217 returned -1.4167591195201887\n",
      "2019-10-25 05:14:00,504:qiskit.aqua.algorithms.adaptive.vqe.vqe:INFO: Energy evaluation 218 returned -1.4166175021370648\n",
      "2019-10-25 05:14:00,615:qiskit.aqua.algorithms.adaptive.vqe.vqe:INFO: Energy evaluation 219 returned -1.4166446203103442\n",
      "2019-10-25 05:14:00,726:qiskit.aqua.algorithms.adaptive.vqe.vqe:INFO: Energy evaluation 220 returned -1.4164713169194294\n",
      "2019-10-25 05:14:00,842:qiskit.aqua.algorithms.adaptive.vqe.vqe:INFO: Energy evaluation 221 returned -1.4168853008994207\n",
      "2019-10-25 05:14:00,963:qiskit.aqua.algorithms.adaptive.vqe.vqe:INFO: Energy evaluation 222 returned -1.417444803060116\n",
      "2019-10-25 05:14:01,081:qiskit.aqua.algorithms.adaptive.vqe.vqe:INFO: Energy evaluation 223 returned -1.4175615963755772\n",
      "2019-10-25 05:14:01,198:qiskit.aqua.algorithms.adaptive.vqe.vqe:INFO: Energy evaluation 224 returned -1.4178761284943033\n",
      "2019-10-25 05:14:01,333:qiskit.aqua.algorithms.adaptive.vqe.vqe:INFO: Energy evaluation 225 returned -1.4183668721704317\n",
      "2019-10-25 05:14:01,455:qiskit.aqua.algorithms.adaptive.vqe.vqe:INFO: Energy evaluation 226 returned -1.4188139102450192\n",
      "2019-10-25 05:14:01,578:qiskit.aqua.algorithms.adaptive.vqe.vqe:INFO: Energy evaluation 227 returned -1.4190884311604215\n",
      "2019-10-25 05:14:01,700:qiskit.aqua.algorithms.adaptive.vqe.vqe:INFO: Energy evaluation 228 returned -1.4193598122401616\n",
      "2019-10-25 05:14:01,817:qiskit.aqua.algorithms.adaptive.vqe.vqe:INFO: Energy evaluation 229 returned -1.4195001732986754\n",
      "2019-10-25 05:14:01,932:qiskit.aqua.algorithms.adaptive.vqe.vqe:INFO: Energy evaluation 230 returned -1.4195340064645423\n",
      "2019-10-25 05:14:02,055:qiskit.aqua.algorithms.adaptive.vqe.vqe:INFO: Energy evaluation 231 returned -1.41954924844158\n",
      "2019-10-25 05:14:02,331:qiskit.aqua.algorithms.adaptive.vqe.vqe:INFO: Energy evaluation 232 returned -1.4202034030841815\n",
      "2019-10-25 05:14:02,448:qiskit.aqua.algorithms.adaptive.vqe.vqe:INFO: Energy evaluation 233 returned -1.420744542608241\n",
      "2019-10-25 05:14:02,568:qiskit.aqua.algorithms.adaptive.vqe.vqe:INFO: Energy evaluation 234 returned -1.4213002021253716\n",
      "2019-10-25 05:14:02,682:qiskit.aqua.algorithms.adaptive.vqe.vqe:INFO: Energy evaluation 235 returned -1.4218032460059553\n",
      "2019-10-25 05:14:02,791:qiskit.aqua.algorithms.adaptive.vqe.vqe:INFO: Energy evaluation 236 returned -1.4223038358843776\n",
      "2019-10-25 05:14:02,899:qiskit.aqua.algorithms.adaptive.vqe.vqe:INFO: Energy evaluation 237 returned -1.422552823242154\n",
      "2019-10-25 05:14:03,012:qiskit.aqua.algorithms.adaptive.vqe.vqe:INFO: Energy evaluation 238 returned -1.4228965417481247\n",
      "2019-10-25 05:14:03,128:qiskit.aqua.algorithms.adaptive.vqe.vqe:INFO: Energy evaluation 239 returned -1.4230716488382074\n",
      "2019-10-25 05:14:03,244:qiskit.aqua.algorithms.adaptive.vqe.vqe:INFO: Energy evaluation 240 returned -1.4231864919582902\n",
      "2019-10-25 05:14:03,359:qiskit.aqua.algorithms.adaptive.vqe.vqe:INFO: Energy evaluation 241 returned -1.4230545678874806\n",
      "2019-10-25 05:14:03,474:qiskit.aqua.algorithms.adaptive.vqe.vqe:INFO: Energy evaluation 242 returned -1.4236424625684898\n",
      "2019-10-25 05:14:03,600:qiskit.aqua.algorithms.adaptive.vqe.vqe:INFO: Energy evaluation 243 returned -1.424229195930037\n",
      "2019-10-25 05:14:03,717:qiskit.aqua.algorithms.adaptive.vqe.vqe:INFO: Energy evaluation 244 returned -1.4246967855662591\n",
      "2019-10-25 05:14:03,826:qiskit.aqua.algorithms.adaptive.vqe.vqe:INFO: Energy evaluation 245 returned -1.4248468602359146\n",
      "2019-10-25 05:14:03,938:qiskit.aqua.algorithms.adaptive.vqe.vqe:INFO: Energy evaluation 246 returned -1.4255773508102672\n",
      "2019-10-25 05:14:04,051:qiskit.aqua.algorithms.adaptive.vqe.vqe:INFO: Energy evaluation 247 returned -1.4261173361730373\n",
      "2019-10-25 05:14:04,169:qiskit.aqua.algorithms.adaptive.vqe.vqe:INFO: Energy evaluation 248 returned -1.4262271211803723\n",
      "2019-10-25 05:14:04,312:qiskit.aqua.algorithms.adaptive.vqe.vqe:INFO: Energy evaluation 249 returned -1.4262438689670898\n",
      "2019-10-25 05:14:04,451:qiskit.aqua.algorithms.adaptive.vqe.vqe:INFO: Energy evaluation 250 returned -1.4262931027880075\n",
      "2019-10-25 05:14:04,565:qiskit.aqua.algorithms.adaptive.vqe.vqe:INFO: Energy evaluation 251 returned -1.4263700661714167\n",
      "2019-10-25 05:14:04,674:qiskit.aqua.algorithms.adaptive.vqe.vqe:INFO: Energy evaluation 252 returned -1.4267903087831462\n",
      "2019-10-25 05:14:04,788:qiskit.aqua.algorithms.adaptive.vqe.vqe:INFO: Energy evaluation 253 returned -1.426214479998348\n",
      "2019-10-25 05:14:05,060:qiskit.aqua.algorithms.adaptive.vqe.vqe:INFO: Energy evaluation 254 returned -1.4269796268798507\n",
      "2019-10-25 05:14:05,184:qiskit.aqua.algorithms.adaptive.vqe.vqe:INFO: Energy evaluation 255 returned -1.4275811563340364\n",
      "2019-10-25 05:14:05,302:qiskit.aqua.algorithms.adaptive.vqe.vqe:INFO: Energy evaluation 256 returned -1.427955119829416\n",
      "2019-10-25 05:14:05,412:qiskit.aqua.algorithms.adaptive.vqe.vqe:INFO: Energy evaluation 257 returned -1.4284432939327059\n",
      "2019-10-25 05:14:05,523:qiskit.aqua.algorithms.adaptive.vqe.vqe:INFO: Energy evaluation 258 returned -1.4287925753852764\n"
     ]
    },
    {
     "name": "stderr",
     "output_type": "stream",
     "text": [
      "2019-10-25 05:14:05,632:qiskit.aqua.algorithms.adaptive.vqe.vqe:INFO: Energy evaluation 259 returned -1.4287593191062695\n",
      "2019-10-25 05:14:05,752:qiskit.aqua.algorithms.adaptive.vqe.vqe:INFO: Energy evaluation 260 returned -1.4289454036518148\n",
      "2019-10-25 05:14:05,874:qiskit.aqua.algorithms.adaptive.vqe.vqe:INFO: Energy evaluation 261 returned -1.4292787482686506\n",
      "2019-10-25 05:14:05,993:qiskit.aqua.algorithms.adaptive.vqe.vqe:INFO: Energy evaluation 262 returned -1.4295281531113972\n",
      "2019-10-25 05:14:06,111:qiskit.aqua.algorithms.adaptive.vqe.vqe:INFO: Energy evaluation 263 returned -1.4296180213986671\n",
      "2019-10-25 05:14:06,225:qiskit.aqua.algorithms.adaptive.vqe.vqe:INFO: Energy evaluation 264 returned -1.4293983298043844\n",
      "2019-10-25 05:14:06,334:qiskit.aqua.algorithms.adaptive.vqe.vqe:INFO: Energy evaluation 265 returned -1.4301265750472647\n",
      "2019-10-25 05:14:06,447:qiskit.aqua.algorithms.adaptive.vqe.vqe:INFO: Energy evaluation 266 returned -1.430368886710706\n",
      "2019-10-25 05:14:06,559:qiskit.aqua.algorithms.adaptive.vqe.vqe:INFO: Energy evaluation 267 returned -1.4300551572093991\n",
      "2019-10-25 05:14:06,675:qiskit.aqua.algorithms.adaptive.vqe.vqe:INFO: Energy evaluation 268 returned -1.430015909076689\n",
      "2019-10-25 05:14:06,794:qiskit.aqua.algorithms.adaptive.vqe.vqe:INFO: Energy evaluation 269 returned -1.4308169170576046\n",
      "2019-10-25 05:14:06,912:qiskit.aqua.algorithms.adaptive.vqe.vqe:INFO: Energy evaluation 270 returned -1.4311881575576582\n",
      "2019-10-25 05:14:07,031:qiskit.aqua.algorithms.adaptive.vqe.vqe:INFO: Energy evaluation 271 returned -1.4313480638421139\n",
      "2019-10-25 05:14:07,146:qiskit.aqua.algorithms.adaptive.vqe.vqe:INFO: Energy evaluation 272 returned -1.4313055693843237\n",
      "2019-10-25 05:14:07,260:qiskit.aqua.algorithms.adaptive.vqe.vqe:INFO: Energy evaluation 273 returned -1.4318025829028738\n",
      "2019-10-25 05:14:07,373:qiskit.aqua.algorithms.adaptive.vqe.vqe:INFO: Energy evaluation 274 returned -1.4320839318715293\n",
      "2019-10-25 05:14:07,487:qiskit.aqua.algorithms.adaptive.vqe.vqe:INFO: Energy evaluation 275 returned -1.4325970453004266\n",
      "2019-10-25 05:14:07,772:qiskit.aqua.algorithms.adaptive.vqe.vqe:INFO: Energy evaluation 276 returned -1.4331614715505627\n",
      "2019-10-25 05:14:07,886:qiskit.aqua.algorithms.adaptive.vqe.vqe:INFO: Energy evaluation 277 returned -1.433663022463822\n",
      "2019-10-25 05:14:07,996:qiskit.aqua.algorithms.adaptive.vqe.vqe:INFO: Energy evaluation 278 returned -1.43405338900489\n",
      "2019-10-25 05:14:08,106:qiskit.aqua.algorithms.adaptive.vqe.vqe:INFO: Energy evaluation 279 returned -1.4337375647491633\n",
      "2019-10-25 05:14:08,216:qiskit.aqua.algorithms.adaptive.vqe.vqe:INFO: Energy evaluation 280 returned -1.433987257759887\n",
      "2019-10-25 05:14:08,328:qiskit.aqua.algorithms.adaptive.vqe.vqe:INFO: Energy evaluation 281 returned -1.434726714768039\n",
      "2019-10-25 05:14:08,443:qiskit.aqua.algorithms.adaptive.vqe.vqe:INFO: Energy evaluation 282 returned -1.4348435960867438\n",
      "2019-10-25 05:14:08,553:qiskit.aqua.algorithms.adaptive.vqe.vqe:INFO: Energy evaluation 283 returned -1.4347400972362192\n",
      "2019-10-25 05:14:08,663:qiskit.aqua.algorithms.adaptive.vqe.vqe:INFO: Energy evaluation 284 returned -1.4352445410048529\n",
      "2019-10-25 05:14:08,773:qiskit.aqua.algorithms.adaptive.vqe.vqe:INFO: Energy evaluation 285 returned -1.4358999359481235\n",
      "2019-10-25 05:14:08,886:qiskit.aqua.algorithms.adaptive.vqe.vqe:INFO: Energy evaluation 286 returned -1.4363053387198332\n",
      "2019-10-25 05:14:08,997:qiskit.aqua.algorithms.adaptive.vqe.vqe:INFO: Energy evaluation 287 returned -1.436222994318568\n",
      "2019-10-25 05:14:09,107:qiskit.aqua.algorithms.adaptive.vqe.vqe:INFO: Energy evaluation 288 returned -1.4363618713282391\n",
      "2019-10-25 05:14:09,216:qiskit.aqua.algorithms.adaptive.vqe.vqe:INFO: Energy evaluation 289 returned -1.4368825805288667\n",
      "2019-10-25 05:14:09,324:qiskit.aqua.algorithms.adaptive.vqe.vqe:INFO: Energy evaluation 290 returned -1.437358589527209\n",
      "2019-10-25 05:14:09,435:qiskit.aqua.algorithms.adaptive.vqe.vqe:INFO: Energy evaluation 291 returned -1.4374484020369833\n",
      "2019-10-25 05:14:09,546:qiskit.aqua.algorithms.adaptive.vqe.vqe:INFO: Energy evaluation 292 returned -1.4375537586965483\n",
      "2019-10-25 05:14:09,662:qiskit.aqua.algorithms.adaptive.vqe.vqe:INFO: Energy evaluation 293 returned -1.4376763953114573\n",
      "2019-10-25 05:14:09,779:qiskit.aqua.algorithms.adaptive.vqe.vqe:INFO: Energy evaluation 294 returned -1.4377198944694205\n",
      "2019-10-25 05:14:09,896:qiskit.aqua.algorithms.adaptive.vqe.vqe:INFO: Energy evaluation 295 returned -1.4382300030118225\n",
      "2019-10-25 05:14:10,005:qiskit.aqua.algorithms.adaptive.vqe.vqe:INFO: Energy evaluation 296 returned -1.438571131953671\n",
      "2019-10-25 05:14:10,119:qiskit.aqua.algorithms.adaptive.vqe.vqe:INFO: Energy evaluation 297 returned -1.438775683565182\n",
      "2019-10-25 05:14:10,227:qiskit.aqua.algorithms.adaptive.vqe.vqe:INFO: Energy evaluation 298 returned -1.4389009966800443\n",
      "2019-10-25 05:14:10,484:qiskit.aqua.algorithms.adaptive.vqe.vqe:INFO: Energy evaluation 299 returned -1.439228361100329\n",
      "2019-10-25 05:14:10,593:qiskit.aqua.algorithms.adaptive.vqe.vqe:INFO: Energy evaluation 300 returned -1.4400437886380266\n",
      "2019-10-25 05:14:10,699:qiskit.aqua.algorithms.adaptive.vqe.vqe:INFO: Energy evaluation 301 returned -1.4406697841973646\n",
      "2019-10-25 05:14:10,810:qiskit.aqua.algorithms.adaptive.vqe.vqe:INFO: Energy evaluation 302 returned -1.440945443004491\n",
      "2019-10-25 05:14:10,926:qiskit.aqua.algorithms.adaptive.vqe.vqe:INFO: Energy evaluation 303 returned -1.4410450786208564\n",
      "2019-10-25 05:14:11,045:qiskit.aqua.algorithms.adaptive.vqe.vqe:INFO: Energy evaluation 304 returned -1.441279413521563\n",
      "2019-10-25 05:14:11,154:qiskit.aqua.algorithms.adaptive.vqe.vqe:INFO: Energy evaluation 305 returned -1.4412968138318034\n",
      "2019-10-25 05:14:11,261:qiskit.aqua.algorithms.adaptive.vqe.vqe:INFO: Energy evaluation 306 returned -1.4411047843199576\n",
      "2019-10-25 05:14:11,368:qiskit.aqua.algorithms.adaptive.vqe.vqe:INFO: Energy evaluation 307 returned -1.4407871749717005\n",
      "2019-10-25 05:14:11,481:qiskit.aqua.algorithms.adaptive.vqe.vqe:INFO: Energy evaluation 308 returned -1.441270619986466\n",
      "2019-10-25 05:14:11,598:qiskit.aqua.algorithms.adaptive.vqe.vqe:INFO: Energy evaluation 309 returned -1.442079279926213\n",
      "2019-10-25 05:14:11,711:qiskit.aqua.algorithms.adaptive.vqe.vqe:INFO: Energy evaluation 310 returned -1.4427155553713773\n",
      "2019-10-25 05:14:11,826:qiskit.aqua.algorithms.adaptive.vqe.vqe:INFO: Energy evaluation 311 returned -1.4428444740268545\n",
      "2019-10-25 05:14:11,940:qiskit.aqua.algorithms.adaptive.vqe.vqe:INFO: Energy evaluation 312 returned -1.4427174507161213\n",
      "2019-10-25 05:14:12,049:qiskit.aqua.algorithms.adaptive.vqe.vqe:INFO: Energy evaluation 313 returned -1.442794683427603\n",
      "2019-10-25 05:14:12,163:qiskit.aqua.algorithms.adaptive.vqe.vqe:INFO: Energy evaluation 314 returned -1.4436023806355598\n",
      "2019-10-25 05:14:12,279:qiskit.aqua.algorithms.adaptive.vqe.vqe:INFO: Energy evaluation 315 returned -1.4440965819183331\n",
      "2019-10-25 05:14:12,389:qiskit.aqua.algorithms.adaptive.vqe.vqe:INFO: Energy evaluation 316 returned -1.444616021923786\n",
      "2019-10-25 05:14:12,499:qiskit.aqua.algorithms.adaptive.vqe.vqe:INFO: Energy evaluation 317 returned -1.445255092272244\n",
      "2019-10-25 05:14:12,610:qiskit.aqua.algorithms.adaptive.vqe.vqe:INFO: Energy evaluation 318 returned -1.4456829773893587\n",
      "2019-10-25 05:14:12,720:qiskit.aqua.algorithms.adaptive.vqe.vqe:INFO: Energy evaluation 319 returned -1.4464016259041217\n",
      "2019-10-25 05:14:12,838:qiskit.aqua.algorithms.adaptive.vqe.vqe:INFO: Energy evaluation 320 returned -1.4469674118479312\n",
      "2019-10-25 05:14:12,954:qiskit.aqua.algorithms.adaptive.vqe.vqe:INFO: Energy evaluation 321 returned -1.4475869009596072\n",
      "2019-10-25 05:14:13,214:qiskit.aqua.algorithms.adaptive.vqe.vqe:INFO: Energy evaluation 322 returned -1.4476498424305897\n",
      "2019-10-25 05:14:13,321:qiskit.aqua.algorithms.adaptive.vqe.vqe:INFO: Energy evaluation 323 returned -1.4478397394409632\n",
      "2019-10-25 05:14:13,431:qiskit.aqua.algorithms.adaptive.vqe.vqe:INFO: Energy evaluation 324 returned -1.448523839659066\n",
      "2019-10-25 05:14:13,539:qiskit.aqua.algorithms.adaptive.vqe.vqe:INFO: Energy evaluation 325 returned -1.4487393605923098\n",
      "2019-10-25 05:14:13,652:qiskit.aqua.algorithms.adaptive.vqe.vqe:INFO: Energy evaluation 326 returned -1.4492241653420737\n"
     ]
    },
    {
     "name": "stderr",
     "output_type": "stream",
     "text": [
      "2019-10-25 05:14:13,766:qiskit.aqua.algorithms.adaptive.vqe.vqe:INFO: Energy evaluation 327 returned -1.4492034360146973\n",
      "2019-10-25 05:14:13,873:qiskit.aqua.algorithms.adaptive.vqe.vqe:INFO: Energy evaluation 328 returned -1.4494304604243071\n",
      "2019-10-25 05:14:13,984:qiskit.aqua.algorithms.adaptive.vqe.vqe:INFO: Energy evaluation 329 returned -1.450090828937191\n",
      "2019-10-25 05:14:14,092:qiskit.aqua.algorithms.adaptive.vqe.vqe:INFO: Energy evaluation 330 returned -1.4505979287291875\n",
      "2019-10-25 05:14:14,206:qiskit.aqua.algorithms.adaptive.vqe.vqe:INFO: Energy evaluation 331 returned -1.4509814133642833\n",
      "2019-10-25 05:14:14,334:qiskit.aqua.algorithms.adaptive.vqe.vqe:INFO: Energy evaluation 332 returned -1.451520330997349\n",
      "2019-10-25 05:14:14,444:qiskit.aqua.algorithms.adaptive.vqe.vqe:INFO: Energy evaluation 333 returned -1.4511367937873132\n",
      "2019-10-25 05:14:14,554:qiskit.aqua.algorithms.adaptive.vqe.vqe:INFO: Energy evaluation 334 returned -1.4515823191036883\n",
      "2019-10-25 05:14:14,661:qiskit.aqua.algorithms.adaptive.vqe.vqe:INFO: Energy evaluation 335 returned -1.452206576781011\n",
      "2019-10-25 05:14:14,776:qiskit.aqua.algorithms.adaptive.vqe.vqe:INFO: Energy evaluation 336 returned -1.4526622014110528\n",
      "2019-10-25 05:14:14,885:qiskit.aqua.algorithms.adaptive.vqe.vqe:INFO: Energy evaluation 337 returned -1.4528258205077358\n",
      "2019-10-25 05:14:14,995:qiskit.aqua.algorithms.adaptive.vqe.vqe:INFO: Energy evaluation 338 returned -1.4529774741121027\n",
      "2019-10-25 05:14:15,101:qiskit.aqua.algorithms.adaptive.vqe.vqe:INFO: Energy evaluation 339 returned -1.4534342234392794\n",
      "2019-10-25 05:14:15,211:qiskit.aqua.algorithms.adaptive.vqe.vqe:INFO: Energy evaluation 340 returned -1.4534328950031141\n",
      "2019-10-25 05:14:15,327:qiskit.aqua.algorithms.adaptive.vqe.vqe:INFO: Energy evaluation 341 returned -1.4532408014161247\n",
      "2019-10-25 05:14:15,447:qiskit.aqua.algorithms.adaptive.vqe.vqe:INFO: Energy evaluation 342 returned -1.4542128588879097\n",
      "2019-10-25 05:14:15,705:qiskit.aqua.algorithms.adaptive.vqe.vqe:INFO: Energy evaluation 343 returned -1.4546855531858296\n",
      "2019-10-25 05:14:15,816:qiskit.aqua.algorithms.adaptive.vqe.vqe:INFO: Energy evaluation 344 returned -1.4553499694359129\n",
      "2019-10-25 05:14:15,930:qiskit.aqua.algorithms.adaptive.vqe.vqe:INFO: Energy evaluation 345 returned -1.45582470692447\n",
      "2019-10-25 05:14:16,038:qiskit.aqua.algorithms.adaptive.vqe.vqe:INFO: Energy evaluation 346 returned -1.4562803493973524\n",
      "2019-10-25 05:14:16,152:qiskit.aqua.algorithms.adaptive.vqe.vqe:INFO: Energy evaluation 347 returned -1.4568046699771804\n",
      "2019-10-25 05:14:16,267:qiskit.aqua.algorithms.adaptive.vqe.vqe:INFO: Energy evaluation 348 returned -1.456910024506015\n",
      "2019-10-25 05:14:16,384:qiskit.aqua.algorithms.adaptive.vqe.vqe:INFO: Energy evaluation 349 returned -1.4570430970815487\n",
      "2019-10-25 05:14:16,504:qiskit.aqua.algorithms.adaptive.vqe.vqe:INFO: Energy evaluation 350 returned -1.4572658808510843\n",
      "2019-10-25 05:14:16,621:qiskit.aqua.algorithms.adaptive.vqe.vqe:INFO: Energy evaluation 351 returned -1.4581498128864854\n",
      "2019-10-25 05:14:16,738:qiskit.aqua.algorithms.adaptive.vqe.vqe:INFO: Energy evaluation 352 returned -1.4588374264925896\n",
      "2019-10-25 05:14:16,850:qiskit.aqua.algorithms.adaptive.vqe.vqe:INFO: Energy evaluation 353 returned -1.459395283778619\n",
      "2019-10-25 05:14:16,961:qiskit.aqua.algorithms.adaptive.vqe.vqe:INFO: Energy evaluation 354 returned -1.4596278303483359\n",
      "2019-10-25 05:14:17,071:qiskit.aqua.algorithms.adaptive.vqe.vqe:INFO: Energy evaluation 355 returned -1.4594482589626911\n",
      "2019-10-25 05:14:17,187:qiskit.aqua.algorithms.adaptive.vqe.vqe:INFO: Energy evaluation 356 returned -1.4596129455596198\n",
      "2019-10-25 05:14:17,301:qiskit.aqua.algorithms.adaptive.vqe.vqe:INFO: Energy evaluation 357 returned -1.4597743725412922\n",
      "2019-10-25 05:14:17,413:qiskit.aqua.algorithms.adaptive.vqe.vqe:INFO: Energy evaluation 358 returned -1.460020304609114\n",
      "2019-10-25 05:14:17,527:qiskit.aqua.algorithms.adaptive.vqe.vqe:INFO: Energy evaluation 359 returned -1.4597870652891467\n",
      "2019-10-25 05:14:17,652:qiskit.aqua.algorithms.adaptive.vqe.vqe:INFO: Energy evaluation 360 returned -1.460216847982408\n",
      "2019-10-25 05:14:17,777:qiskit.aqua.algorithms.adaptive.vqe.vqe:INFO: Energy evaluation 361 returned -1.4609550201454082\n",
      "2019-10-25 05:14:17,904:qiskit.aqua.algorithms.adaptive.vqe.vqe:INFO: Energy evaluation 362 returned -1.46152461576747\n",
      "2019-10-25 05:14:18,029:qiskit.aqua.algorithms.adaptive.vqe.vqe:INFO: Energy evaluation 363 returned -1.462118933451039\n",
      "2019-10-25 05:14:18,159:qiskit.aqua.algorithms.adaptive.vqe.vqe:INFO: Energy evaluation 364 returned -1.4624089348868814\n",
      "2019-10-25 05:14:18,287:qiskit.aqua.algorithms.adaptive.vqe.vqe:INFO: Energy evaluation 365 returned -1.4629279003791837\n",
      "2019-10-25 05:14:18,564:qiskit.aqua.algorithms.adaptive.vqe.vqe:INFO: Energy evaluation 366 returned -1.463194924307083\n",
      "2019-10-25 05:14:18,673:qiskit.aqua.algorithms.adaptive.vqe.vqe:INFO: Energy evaluation 367 returned -1.4637124217970878\n",
      "2019-10-25 05:14:18,784:qiskit.aqua.algorithms.adaptive.vqe.vqe:INFO: Energy evaluation 368 returned -1.4642876151604813\n",
      "2019-10-25 05:14:18,893:qiskit.aqua.algorithms.adaptive.vqe.vqe:INFO: Energy evaluation 369 returned -1.4648061602864586\n",
      "2019-10-25 05:14:19,004:qiskit.aqua.algorithms.adaptive.vqe.vqe:INFO: Energy evaluation 370 returned -1.4655202051969318\n",
      "2019-10-25 05:14:19,118:qiskit.aqua.algorithms.adaptive.vqe.vqe:INFO: Energy evaluation 371 returned -1.4662248439799335\n",
      "2019-10-25 05:14:19,239:qiskit.aqua.algorithms.adaptive.vqe.vqe:INFO: Energy evaluation 372 returned -1.4669154967240483\n",
      "2019-10-25 05:14:19,373:qiskit.aqua.algorithms.adaptive.vqe.vqe:INFO: Energy evaluation 373 returned -1.4675802895345897\n",
      "2019-10-25 05:14:19,486:qiskit.aqua.algorithms.adaptive.vqe.vqe:INFO: Energy evaluation 374 returned -1.4682524189039396\n",
      "2019-10-25 05:14:19,597:qiskit.aqua.algorithms.adaptive.vqe.vqe:INFO: Energy evaluation 375 returned -1.46876934114933\n",
      "2019-10-25 05:14:19,709:qiskit.aqua.algorithms.adaptive.vqe.vqe:INFO: Energy evaluation 376 returned -1.4693265204209838\n",
      "2019-10-25 05:14:19,820:qiskit.aqua.algorithms.adaptive.vqe.vqe:INFO: Energy evaluation 377 returned -1.4699812722240722\n",
      "2019-10-25 05:14:19,935:qiskit.aqua.algorithms.adaptive.vqe.vqe:INFO: Energy evaluation 378 returned -1.4704702828177665\n",
      "2019-10-25 05:14:20,047:qiskit.aqua.algorithms.adaptive.vqe.vqe:INFO: Energy evaluation 379 returned -1.4706010755786223\n",
      "2019-10-25 05:14:20,160:qiskit.aqua.algorithms.adaptive.vqe.vqe:INFO: Energy evaluation 380 returned -1.4705071203265632\n",
      "2019-10-25 05:14:20,269:qiskit.aqua.algorithms.adaptive.vqe.vqe:INFO: Energy evaluation 381 returned -1.471296328808338\n",
      "2019-10-25 05:14:20,377:qiskit.aqua.algorithms.adaptive.vqe.vqe:INFO: Energy evaluation 382 returned -1.4719725166996722\n",
      "2019-10-25 05:14:20,487:qiskit.aqua.algorithms.adaptive.vqe.vqe:INFO: Energy evaluation 383 returned -1.4725625965329074\n",
      "2019-10-25 05:14:20,595:qiskit.aqua.algorithms.adaptive.vqe.vqe:INFO: Energy evaluation 384 returned -1.4730140097083735\n",
      "2019-10-25 05:14:20,705:qiskit.aqua.algorithms.adaptive.vqe.vqe:INFO: Energy evaluation 385 returned -1.4735131072276915\n",
      "2019-10-25 05:14:20,825:qiskit.aqua.algorithms.adaptive.vqe.vqe:INFO: Energy evaluation 386 returned -1.4737683734911706\n",
      "2019-10-25 05:14:20,950:qiskit.aqua.algorithms.adaptive.vqe.vqe:INFO: Energy evaluation 387 returned -1.474062155698722\n",
      "2019-10-25 05:14:21,222:qiskit.aqua.algorithms.adaptive.vqe.vqe:INFO: Energy evaluation 388 returned -1.474187778937718\n",
      "2019-10-25 05:14:21,341:qiskit.aqua.algorithms.adaptive.vqe.vqe:INFO: Energy evaluation 389 returned -1.4742544724136053\n",
      "2019-10-25 05:14:21,460:qiskit.aqua.algorithms.adaptive.vqe.vqe:INFO: Energy evaluation 390 returned -1.4745084978181269\n",
      "2019-10-25 05:14:21,582:qiskit.aqua.algorithms.adaptive.vqe.vqe:INFO: Energy evaluation 391 returned -1.475301260370006\n",
      "2019-10-25 05:14:21,696:qiskit.aqua.algorithms.adaptive.vqe.vqe:INFO: Energy evaluation 392 returned -1.4759783600162573\n",
      "2019-10-25 05:14:21,822:qiskit.aqua.algorithms.adaptive.vqe.vqe:INFO: Energy evaluation 393 returned -1.4765771893651867\n",
      "2019-10-25 05:14:21,946:qiskit.aqua.algorithms.adaptive.vqe.vqe:INFO: Energy evaluation 394 returned -1.4771814198160498\n"
     ]
    },
    {
     "name": "stderr",
     "output_type": "stream",
     "text": [
      "2019-10-25 05:14:22,058:qiskit.aqua.algorithms.adaptive.vqe.vqe:INFO: Energy evaluation 395 returned -1.4777277913504279\n",
      "2019-10-25 05:14:22,168:qiskit.aqua.algorithms.adaptive.vqe.vqe:INFO: Energy evaluation 396 returned -1.478302492425568\n",
      "2019-10-25 05:14:22,282:qiskit.aqua.algorithms.adaptive.vqe.vqe:INFO: Energy evaluation 397 returned -1.4787736417585764\n",
      "2019-10-25 05:14:22,393:qiskit.aqua.algorithms.adaptive.vqe.vqe:INFO: Energy evaluation 398 returned -1.4792197526751851\n",
      "2019-10-25 05:14:22,507:qiskit.aqua.algorithms.adaptive.vqe.vqe:INFO: Energy evaluation 399 returned -1.479200761493612\n",
      "2019-10-25 05:14:22,623:qiskit.aqua.algorithms.adaptive.vqe.vqe:INFO: Energy evaluation 400 returned -1.4792256984860817\n",
      "2019-10-25 05:14:22,741:qiskit.aqua.algorithms.adaptive.vqe.vqe:INFO: Energy evaluation 401 returned -1.4796545154271814\n",
      "2019-10-25 05:14:22,867:qiskit.aqua.algorithms.adaptive.vqe.vqe:INFO: Energy evaluation 402 returned -1.4801458663209126\n",
      "2019-10-25 05:14:22,979:qiskit.aqua.algorithms.adaptive.vqe.vqe:INFO: Energy evaluation 403 returned -1.480483839176471\n",
      "2019-10-25 05:14:23,093:qiskit.aqua.algorithms.adaptive.vqe.vqe:INFO: Energy evaluation 404 returned -1.4807193410612713\n",
      "2019-10-25 05:14:23,216:qiskit.aqua.algorithms.adaptive.vqe.vqe:INFO: Energy evaluation 405 returned -1.4811332928076797\n",
      "2019-10-25 05:14:23,334:qiskit.aqua.algorithms.adaptive.vqe.vqe:INFO: Energy evaluation 406 returned -1.4811697024542037\n",
      "2019-10-25 05:14:23,450:qiskit.aqua.algorithms.adaptive.vqe.vqe:INFO: Energy evaluation 407 returned -1.4808905509865458\n",
      "2019-10-25 05:14:23,567:qiskit.aqua.algorithms.adaptive.vqe.vqe:INFO: Energy evaluation 408 returned -1.4818850718910823\n",
      "2019-10-25 05:14:23,686:qiskit.aqua.algorithms.adaptive.vqe.vqe:INFO: Energy evaluation 409 returned -1.4822260682577078\n",
      "2019-10-25 05:14:23,959:qiskit.aqua.algorithms.adaptive.vqe.vqe:INFO: Energy evaluation 410 returned -1.4823653988062044\n",
      "2019-10-25 05:14:24,067:qiskit.aqua.algorithms.adaptive.vqe.vqe:INFO: Energy evaluation 411 returned -1.4828208324733918\n",
      "2019-10-25 05:14:24,176:qiskit.aqua.algorithms.adaptive.vqe.vqe:INFO: Energy evaluation 412 returned -1.4826837819531207\n",
      "2019-10-25 05:14:24,293:qiskit.aqua.algorithms.adaptive.vqe.vqe:INFO: Energy evaluation 413 returned -1.4827505400368617\n",
      "2019-10-25 05:14:24,412:qiskit.aqua.algorithms.adaptive.vqe.vqe:INFO: Energy evaluation 414 returned -1.482958883630987\n",
      "2019-10-25 05:14:24,528:qiskit.aqua.algorithms.adaptive.vqe.vqe:INFO: Energy evaluation 415 returned -1.4829336115930123\n",
      "2019-10-25 05:14:24,644:qiskit.aqua.algorithms.adaptive.vqe.vqe:INFO: Energy evaluation 416 returned -1.4832073394222665\n",
      "2019-10-25 05:14:24,760:qiskit.aqua.algorithms.adaptive.vqe.vqe:INFO: Energy evaluation 417 returned -1.4836481742733996\n",
      "2019-10-25 05:14:24,877:qiskit.aqua.algorithms.adaptive.vqe.vqe:INFO: Energy evaluation 418 returned -1.4837599316022112\n",
      "2019-10-25 05:14:24,997:qiskit.aqua.algorithms.adaptive.vqe.vqe:INFO: Energy evaluation 419 returned -1.483349306334044\n",
      "2019-10-25 05:14:25,107:qiskit.aqua.algorithms.adaptive.vqe.vqe:INFO: Energy evaluation 420 returned -1.4835978451565945\n",
      "2019-10-25 05:14:25,215:qiskit.aqua.algorithms.adaptive.vqe.vqe:INFO: Energy evaluation 421 returned -1.4841324788997654\n",
      "2019-10-25 05:14:25,327:qiskit.aqua.algorithms.adaptive.vqe.vqe:INFO: Energy evaluation 422 returned -1.4840639775726172\n",
      "2019-10-25 05:14:25,452:qiskit.aqua.algorithms.adaptive.vqe.vqe:INFO: Energy evaluation 423 returned -1.484152917597186\n",
      "2019-10-25 05:14:25,572:qiskit.aqua.algorithms.adaptive.vqe.vqe:INFO: Energy evaluation 424 returned -1.4842403221844407\n",
      "2019-10-25 05:14:25,680:qiskit.aqua.algorithms.adaptive.vqe.vqe:INFO: Energy evaluation 425 returned -1.484469243874299\n",
      "2019-10-25 05:14:25,787:qiskit.aqua.algorithms.adaptive.vqe.vqe:INFO: Energy evaluation 426 returned -1.4847178436740838\n",
      "2019-10-25 05:14:25,898:qiskit.aqua.algorithms.adaptive.vqe.vqe:INFO: Energy evaluation 427 returned -1.48520476897928\n",
      "2019-10-25 05:14:26,005:qiskit.aqua.algorithms.adaptive.vqe.vqe:INFO: Energy evaluation 428 returned -1.4856173473921381\n",
      "2019-10-25 05:14:26,115:qiskit.aqua.algorithms.adaptive.vqe.vqe:INFO: Energy evaluation 429 returned -1.4859917359822634\n",
      "2019-10-25 05:14:26,226:qiskit.aqua.algorithms.adaptive.vqe.vqe:INFO: Energy evaluation 430 returned -1.486258174741848\n",
      "2019-10-25 05:14:26,346:qiskit.aqua.algorithms.adaptive.vqe.vqe:INFO: Energy evaluation 431 returned -1.486610832762664\n",
      "2019-10-25 05:14:26,610:qiskit.aqua.algorithms.adaptive.vqe.vqe:INFO: Energy evaluation 432 returned -1.4868866812825812\n",
      "2019-10-25 05:14:26,728:qiskit.aqua.algorithms.adaptive.vqe.vqe:INFO: Energy evaluation 433 returned -1.4869377165861835\n",
      "2019-10-25 05:14:26,840:qiskit.aqua.algorithms.adaptive.vqe.vqe:INFO: Energy evaluation 434 returned -1.4867291985130187\n",
      "2019-10-25 05:14:26,958:qiskit.aqua.algorithms.adaptive.vqe.vqe:INFO: Energy evaluation 435 returned -1.4872788007988715\n",
      "2019-10-25 05:14:27,075:qiskit.aqua.algorithms.adaptive.vqe.vqe:INFO: Energy evaluation 436 returned -1.4876836276458238\n",
      "2019-10-25 05:14:27,194:qiskit.aqua.algorithms.adaptive.vqe.vqe:INFO: Energy evaluation 437 returned -1.487960236788175\n",
      "2019-10-25 05:14:27,307:qiskit.aqua.algorithms.adaptive.vqe.vqe:INFO: Energy evaluation 438 returned -1.488184452137451\n",
      "2019-10-25 05:14:27,417:qiskit.aqua.algorithms.adaptive.vqe.vqe:INFO: Energy evaluation 439 returned -1.4881512732925275\n",
      "2019-10-25 05:14:27,536:qiskit.aqua.algorithms.adaptive.vqe.vqe:INFO: Energy evaluation 440 returned -1.4881708757753171\n",
      "2019-10-25 05:14:27,658:qiskit.aqua.algorithms.adaptive.vqe.vqe:INFO: Energy evaluation 441 returned -1.488242150998313\n",
      "2019-10-25 05:14:27,778:qiskit.aqua.algorithms.adaptive.vqe.vqe:INFO: Energy evaluation 442 returned -1.4883014110264707\n",
      "2019-10-25 05:14:27,887:qiskit.aqua.algorithms.adaptive.vqe.vqe:INFO: Energy evaluation 443 returned -1.4887043310840382\n",
      "2019-10-25 05:14:27,996:qiskit.aqua.algorithms.adaptive.vqe.vqe:INFO: Energy evaluation 444 returned -1.4890350727538104\n",
      "2019-10-25 05:14:28,109:qiskit.aqua.algorithms.adaptive.vqe.vqe:INFO: Energy evaluation 445 returned -1.489331059078607\n",
      "2019-10-25 05:14:28,219:qiskit.aqua.algorithms.adaptive.vqe.vqe:INFO: Energy evaluation 446 returned -1.4895778063844847\n",
      "2019-10-25 05:14:28,338:qiskit.aqua.algorithms.adaptive.vqe.vqe:INFO: Energy evaluation 447 returned -1.489464840651382\n",
      "2019-10-25 05:14:28,459:qiskit.aqua.algorithms.adaptive.vqe.vqe:INFO: Energy evaluation 448 returned -1.4895110381211674\n",
      "2019-10-25 05:14:28,575:qiskit.aqua.algorithms.adaptive.vqe.vqe:INFO: Energy evaluation 449 returned -1.4897637613283372\n",
      "2019-10-25 05:14:28,683:qiskit.aqua.algorithms.adaptive.vqe.vqe:INFO: Energy evaluation 450 returned -1.4898687601788339\n",
      "2019-10-25 05:14:28,794:qiskit.aqua.algorithms.adaptive.vqe.vqe:INFO: Energy evaluation 451 returned -1.4897604419271795\n",
      "2019-10-25 05:14:28,916:qiskit.aqua.algorithms.adaptive.vqe.vqe:INFO: Energy evaluation 452 returned -1.489846444575917\n",
      "2019-10-25 05:14:29,034:qiskit.aqua.algorithms.adaptive.vqe.vqe:INFO: Energy evaluation 453 returned -1.4900953255729583\n",
      "2019-10-25 05:14:29,144:qiskit.aqua.algorithms.adaptive.vqe.vqe:INFO: Energy evaluation 454 returned -1.4900921874709743\n",
      "2019-10-25 05:14:29,403:qiskit.aqua.algorithms.adaptive.vqe.vqe:INFO: Energy evaluation 455 returned -1.4898714603374859\n",
      "2019-10-25 05:14:29,522:qiskit.aqua.algorithms.adaptive.vqe.vqe:INFO: Energy evaluation 456 returned -1.4904271387037094\n",
      "2019-10-25 05:14:29,633:qiskit.aqua.algorithms.adaptive.vqe.vqe:INFO: Energy evaluation 457 returned -1.4904728809770222\n",
      "2019-10-25 05:14:29,744:qiskit.aqua.algorithms.adaptive.vqe.vqe:INFO: Energy evaluation 458 returned -1.4904526150682333\n",
      "2019-10-25 05:14:29,860:qiskit.aqua.algorithms.adaptive.vqe.vqe:INFO: Energy evaluation 459 returned -1.4907344873920971\n",
      "2019-10-25 05:14:29,976:qiskit.aqua.algorithms.adaptive.vqe.vqe:INFO: Energy evaluation 460 returned -1.4909272534317943\n",
      "2019-10-25 05:14:30,090:qiskit.aqua.algorithms.adaptive.vqe.vqe:INFO: Energy evaluation 461 returned -1.4908442563883149\n",
      "2019-10-25 05:14:30,207:qiskit.aqua.algorithms.adaptive.vqe.vqe:INFO: Energy evaluation 462 returned -1.4907454665276918\n"
     ]
    },
    {
     "name": "stderr",
     "output_type": "stream",
     "text": [
      "2019-10-25 05:14:30,323:qiskit.aqua.algorithms.adaptive.vqe.vqe:INFO: Energy evaluation 463 returned -1.4912736471201935\n",
      "2019-10-25 05:14:30,434:qiskit.aqua.algorithms.adaptive.vqe.vqe:INFO: Energy evaluation 464 returned -1.4913146826004244\n",
      "2019-10-25 05:14:30,544:qiskit.aqua.algorithms.adaptive.vqe.vqe:INFO: Energy evaluation 465 returned -1.491321088772343\n",
      "2019-10-25 05:14:30,657:qiskit.aqua.algorithms.adaptive.vqe.vqe:INFO: Energy evaluation 466 returned -1.491408999727861\n",
      "2019-10-25 05:14:30,778:qiskit.aqua.algorithms.adaptive.vqe.vqe:INFO: Energy evaluation 467 returned -1.4913251372792784\n",
      "2019-10-25 05:14:30,892:qiskit.aqua.algorithms.adaptive.vqe.vqe:INFO: Energy evaluation 468 returned -1.4915024049093528\n",
      "2019-10-25 05:14:31,000:qiskit.aqua.algorithms.adaptive.vqe.vqe:INFO: Energy evaluation 469 returned -1.4915088687465303\n",
      "2019-10-25 05:14:31,107:qiskit.aqua.algorithms.adaptive.vqe.vqe:INFO: Energy evaluation 470 returned -1.4914681326934618\n",
      "2019-10-25 05:14:31,218:qiskit.aqua.algorithms.adaptive.vqe.vqe:INFO: Energy evaluation 471 returned -1.4918163138944422\n",
      "2019-10-25 05:14:31,329:qiskit.aqua.algorithms.adaptive.vqe.vqe:INFO: Energy evaluation 472 returned -1.491752220609067\n",
      "2019-10-25 05:14:31,444:qiskit.aqua.algorithms.adaptive.vqe.vqe:INFO: Energy evaluation 473 returned -1.491852933348972\n",
      "2019-10-25 05:14:31,555:qiskit.aqua.algorithms.adaptive.vqe.vqe:INFO: Energy evaluation 474 returned -1.4919542201356166\n",
      "2019-10-25 05:14:31,666:qiskit.aqua.algorithms.adaptive.vqe.vqe:INFO: Energy evaluation 475 returned -1.491977017396671\n",
      "2019-10-25 05:14:31,779:qiskit.aqua.algorithms.adaptive.vqe.vqe:INFO: Energy evaluation 476 returned -1.491966821909132\n",
      "2019-10-25 05:14:31,900:qiskit.aqua.algorithms.adaptive.vqe.vqe:INFO: Energy evaluation 477 returned -1.4919019560080526\n",
      "2019-10-25 05:14:32,178:qiskit.aqua.algorithms.adaptive.vqe.vqe:INFO: Energy evaluation 478 returned -1.49196344448017\n",
      "2019-10-25 05:14:32,299:qiskit.aqua.algorithms.adaptive.vqe.vqe:INFO: Energy evaluation 479 returned -1.4919669434753515\n",
      "2019-10-25 05:14:32,414:qiskit.aqua.algorithms.adaptive.vqe.vqe:INFO: Energy evaluation 480 returned -1.4919515419933975\n",
      "2019-10-25 05:14:32,532:qiskit.aqua.algorithms.adaptive.vqe.vqe:INFO: Energy evaluation 481 returned -1.4918475624948875\n",
      "2019-10-25 05:14:32,648:qiskit.aqua.algorithms.adaptive.vqe.vqe:INFO: Energy evaluation 482 returned -1.4920636149180715\n",
      "2019-10-25 05:14:32,763:qiskit.aqua.algorithms.adaptive.vqe.vqe:INFO: Energy evaluation 483 returned -1.4921984665458403\n",
      "2019-10-25 05:14:32,878:qiskit.aqua.algorithms.adaptive.vqe.vqe:INFO: Energy evaluation 484 returned -1.4923001861277705\n",
      "2019-10-25 05:14:32,988:qiskit.aqua.algorithms.adaptive.vqe.vqe:INFO: Energy evaluation 485 returned -1.4922974552219292\n",
      "2019-10-25 05:14:33,104:qiskit.aqua.algorithms.adaptive.vqe.vqe:INFO: Energy evaluation 486 returned -1.4923304062239784\n",
      "2019-10-25 05:14:33,223:qiskit.aqua.algorithms.adaptive.vqe.vqe:INFO: Energy evaluation 487 returned -1.4924363671330068\n",
      "2019-10-25 05:14:33,343:qiskit.aqua.algorithms.adaptive.vqe.vqe:INFO: Energy evaluation 488 returned -1.4924848532831307\n",
      "2019-10-25 05:14:33,472:qiskit.aqua.algorithms.adaptive.vqe.vqe:INFO: Energy evaluation 489 returned -1.492403543125475\n",
      "2019-10-25 05:14:33,598:qiskit.aqua.algorithms.adaptive.vqe.vqe:INFO: Energy evaluation 490 returned -1.4924934697708947\n",
      "2019-10-25 05:14:33,723:qiskit.aqua.algorithms.adaptive.vqe.vqe:INFO: Energy evaluation 491 returned -1.492543215583074\n",
      "2019-10-25 05:14:33,853:qiskit.aqua.algorithms.adaptive.vqe.vqe:INFO: Energy evaluation 492 returned -1.4926922926191855\n",
      "2019-10-25 05:14:33,980:qiskit.aqua.algorithms.adaptive.vqe.vqe:INFO: Energy evaluation 493 returned -1.4927848567172508\n",
      "2019-10-25 05:14:34,113:qiskit.aqua.algorithms.adaptive.vqe.vqe:INFO: Energy evaluation 494 returned -1.4928876719153839\n",
      "2019-10-25 05:14:34,244:qiskit.aqua.algorithms.adaptive.vqe.vqe:INFO: Energy evaluation 495 returned -1.492989872633512\n",
      "2019-10-25 05:14:34,385:qiskit.aqua.algorithms.adaptive.vqe.vqe:INFO: Energy evaluation 496 returned -1.4930512471658743\n",
      "2019-10-25 05:14:34,510:qiskit.aqua.algorithms.adaptive.vqe.vqe:INFO: Energy evaluation 497 returned -1.493077321217394\n",
      "2019-10-25 05:14:34,630:qiskit.aqua.algorithms.adaptive.vqe.vqe:INFO: Energy evaluation 498 returned -1.4930429881418035\n",
      "2019-10-25 05:14:34,754:qiskit.aqua.algorithms.adaptive.vqe.vqe:INFO: Energy evaluation 499 returned -1.4931433956113247\n",
      "2019-10-25 05:14:35,053:qiskit.aqua.algorithms.adaptive.vqe.vqe:INFO: Energy evaluation 500 returned -1.4930629137125333\n",
      "2019-10-25 05:14:35,169:qiskit.aqua.algorithms.adaptive.vqe.vqe:INFO: Energy evaluation 501 returned -1.4931295245109502\n",
      "2019-10-25 05:14:35,286:qiskit.aqua.algorithms.adaptive.vqe.vqe:INFO: Energy evaluation 502 returned -1.4932565154525381\n",
      "2019-10-25 05:14:35,405:qiskit.aqua.algorithms.adaptive.vqe.vqe:INFO: Energy evaluation 503 returned -1.4932323172845856\n",
      "2019-10-25 05:14:35,548:qiskit.aqua.algorithms.adaptive.vqe.vqe:INFO: Energy evaluation 504 returned -1.4932694696313642\n",
      "2019-10-25 05:14:35,672:qiskit.aqua.algorithms.adaptive.vqe.vqe:INFO: Energy evaluation 505 returned -1.4932618085215679\n",
      "2019-10-25 05:14:35,789:qiskit.aqua.algorithms.adaptive.vqe.vqe:INFO: Energy evaluation 506 returned -1.4932936194526576\n",
      "2019-10-25 05:14:35,905:qiskit.aqua.algorithms.adaptive.vqe.vqe:INFO: Energy evaluation 507 returned -1.4932821046371805\n",
      "2019-10-25 05:14:36,026:qiskit.aqua.algorithms.adaptive.vqe.vqe:INFO: Energy evaluation 508 returned -1.4933056792057278\n",
      "2019-10-25 05:14:36,147:qiskit.aqua.algorithms.adaptive.vqe.vqe:INFO: Energy evaluation 509 returned -1.4933524060791856\n",
      "2019-10-25 05:14:36,263:qiskit.aqua.algorithms.adaptive.vqe.vqe:INFO: Energy evaluation 510 returned -1.4933627287559927\n",
      "2019-10-25 05:14:36,390:qiskit.aqua.algorithms.adaptive.vqe.vqe:INFO: Energy evaluation 511 returned -1.4933414783987824\n",
      "2019-10-25 05:14:36,510:qiskit.aqua.algorithms.adaptive.vqe.vqe:INFO: Energy evaluation 512 returned -1.493418292419994\n",
      "2019-10-25 05:14:36,622:qiskit.aqua.algorithms.adaptive.vqe.vqe:INFO: Energy evaluation 513 returned -1.4934637217197269\n",
      "2019-10-25 05:14:36,741:qiskit.aqua.algorithms.adaptive.vqe.vqe:INFO: Energy evaluation 514 returned -1.4935137344200564\n",
      "2019-10-25 05:14:36,865:qiskit.aqua.algorithms.adaptive.vqe.vqe:INFO: Energy evaluation 515 returned -1.493562018563015\n",
      "2019-10-25 05:14:36,980:qiskit.aqua.algorithms.adaptive.vqe.vqe:INFO: Energy evaluation 516 returned -1.4935961393501633\n",
      "2019-10-25 05:14:37,091:qiskit.aqua.algorithms.adaptive.vqe.vqe:INFO: Energy evaluation 517 returned -1.4936212491155807\n",
      "2019-10-25 05:14:37,201:qiskit.aqua.algorithms.adaptive.vqe.vqe:INFO: Energy evaluation 518 returned -1.4936450408508934\n",
      "2019-10-25 05:14:37,308:qiskit.aqua.algorithms.adaptive.vqe.vqe:INFO: Energy evaluation 519 returned -1.493672740959222\n",
      "2019-10-25 05:14:37,415:qiskit.aqua.algorithms.adaptive.vqe.vqe:INFO: Energy evaluation 520 returned -1.4936629604006477\n",
      "2019-10-25 05:14:37,528:qiskit.aqua.algorithms.adaptive.vqe.vqe:INFO: Energy evaluation 521 returned -1.4936749930364084\n",
      "2019-10-25 05:14:37,788:qiskit.aqua.algorithms.adaptive.vqe.vqe:INFO: Energy evaluation 522 returned -1.4937115986652358\n",
      "2019-10-25 05:14:37,897:qiskit.aqua.algorithms.adaptive.vqe.vqe:INFO: Energy evaluation 523 returned -1.493756344002533\n",
      "2019-10-25 05:14:38,010:qiskit.aqua.algorithms.adaptive.vqe.vqe:INFO: Energy evaluation 524 returned -1.4937925343574052\n",
      "2019-10-25 05:14:38,128:qiskit.aqua.algorithms.adaptive.vqe.vqe:INFO: Energy evaluation 525 returned -1.4938127237217151\n",
      "2019-10-25 05:14:38,242:qiskit.aqua.algorithms.adaptive.vqe.vqe:INFO: Energy evaluation 526 returned -1.4938348778422674\n",
      "2019-10-25 05:14:38,348:qiskit.aqua.algorithms.adaptive.vqe.vqe:INFO: Energy evaluation 527 returned -1.4938398718217454\n",
      "2019-10-25 05:14:38,459:qiskit.aqua.algorithms.adaptive.vqe.vqe:INFO: Energy evaluation 528 returned -1.4938381499660685\n",
      "2019-10-25 05:14:38,575:qiskit.aqua.algorithms.adaptive.vqe.vqe:INFO: Energy evaluation 529 returned -1.493838258632333\n",
      "2019-10-25 05:14:38,689:qiskit.aqua.algorithms.adaptive.vqe.vqe:INFO: Energy evaluation 530 returned -1.4938139080247206\n"
     ]
    },
    {
     "name": "stderr",
     "output_type": "stream",
     "text": [
      "2019-10-25 05:14:38,796:qiskit.aqua.algorithms.adaptive.vqe.vqe:INFO: Energy evaluation 531 returned -1.4938814750968068\n",
      "2019-10-25 05:14:38,907:qiskit.aqua.algorithms.adaptive.vqe.vqe:INFO: Energy evaluation 532 returned -1.4939259586012221\n",
      "2019-10-25 05:14:39,023:qiskit.aqua.algorithms.adaptive.vqe.vqe:INFO: Energy evaluation 533 returned -1.4939514422557205\n",
      "2019-10-25 05:14:39,146:qiskit.aqua.algorithms.adaptive.vqe.vqe:INFO: Energy evaluation 534 returned -1.4939608431385822\n",
      "2019-10-25 05:14:39,258:qiskit.aqua.algorithms.adaptive.vqe.vqe:INFO: Energy evaluation 535 returned -1.493956128563991\n",
      "2019-10-25 05:14:39,368:qiskit.aqua.algorithms.adaptive.vqe.vqe:INFO: Energy evaluation 536 returned -1.4939871368179531\n",
      "2019-10-25 05:14:39,483:qiskit.aqua.algorithms.adaptive.vqe.vqe:INFO: Energy evaluation 537 returned -1.4939962066655705\n",
      "2019-10-25 05:14:39,601:qiskit.aqua.algorithms.adaptive.vqe.vqe:INFO: Energy evaluation 538 returned -1.4940001334799757\n",
      "2019-10-25 05:14:39,718:qiskit.aqua.algorithms.adaptive.vqe.vqe:INFO: Energy evaluation 539 returned -1.4939761484489593\n",
      "2019-10-25 05:14:39,830:qiskit.aqua.algorithms.adaptive.vqe.vqe:INFO: Energy evaluation 540 returned -1.4940074501080123\n",
      "2019-10-25 05:14:39,940:qiskit.aqua.algorithms.adaptive.vqe.vqe:INFO: Energy evaluation 541 returned -1.4940150354005493\n",
      "2019-10-25 05:14:40,057:qiskit.aqua.algorithms.adaptive.vqe.vqe:INFO: Energy evaluation 542 returned -1.4940656558824412\n",
      "2019-10-25 05:14:40,184:qiskit.aqua.algorithms.adaptive.vqe.vqe:INFO: Energy evaluation 543 returned -1.4941027544220415\n",
      "2019-10-25 05:14:40,300:qiskit.aqua.algorithms.adaptive.vqe.vqe:INFO: Energy evaluation 544 returned -1.4941400366850077\n",
      "2019-10-25 05:14:40,559:qiskit.aqua.algorithms.adaptive.vqe.vqe:INFO: Energy evaluation 545 returned -1.4941709502950589\n",
      "2019-10-25 05:14:40,670:qiskit.aqua.algorithms.adaptive.vqe.vqe:INFO: Energy evaluation 546 returned -1.4942021408674329\n",
      "2019-10-25 05:14:40,784:qiskit.aqua.algorithms.adaptive.vqe.vqe:INFO: Energy evaluation 547 returned -1.4942163344489034\n",
      "2019-10-25 05:14:40,897:qiskit.aqua.algorithms.adaptive.vqe.vqe:INFO: Energy evaluation 548 returned -1.4942425812298923\n",
      "2019-10-25 05:14:41,006:qiskit.aqua.algorithms.adaptive.vqe.vqe:INFO: Energy evaluation 549 returned -1.4942654658858265\n",
      "2019-10-25 05:14:41,115:qiskit.aqua.algorithms.adaptive.vqe.vqe:INFO: Energy evaluation 550 returned -1.4942944161719562\n",
      "2019-10-25 05:14:41,227:qiskit.aqua.algorithms.adaptive.vqe.vqe:INFO: Energy evaluation 551 returned -1.4943057031662592\n",
      "2019-10-25 05:14:41,338:qiskit.aqua.algorithms.adaptive.vqe.vqe:INFO: Energy evaluation 552 returned -1.4943044688087215\n",
      "2019-10-25 05:14:41,445:qiskit.aqua.algorithms.adaptive.vqe.vqe:INFO: Energy evaluation 553 returned -1.4942998360138955\n",
      "2019-10-25 05:14:41,553:qiskit.aqua.algorithms.adaptive.vqe.vqe:INFO: Energy evaluation 554 returned -1.4943393236013485\n",
      "2019-10-25 05:14:41,673:qiskit.aqua.algorithms.adaptive.vqe.vqe:INFO: Energy evaluation 555 returned -1.4943620425469415\n",
      "2019-10-25 05:14:41,780:qiskit.aqua.algorithms.adaptive.vqe.vqe:INFO: Energy evaluation 556 returned -1.494383483098742\n",
      "2019-10-25 05:14:41,889:qiskit.aqua.algorithms.adaptive.vqe.vqe:INFO: Energy evaluation 557 returned -1.4943729332178695\n",
      "2019-10-25 05:14:41,996:qiskit.aqua.algorithms.adaptive.vqe.vqe:INFO: Energy evaluation 558 returned -1.4943834201850312\n",
      "2019-10-25 05:14:42,104:qiskit.aqua.algorithms.adaptive.vqe.vqe:INFO: Energy evaluation 559 returned -1.4944123582268458\n",
      "2019-10-25 05:14:42,214:qiskit.aqua.algorithms.adaptive.vqe.vqe:INFO: Energy evaluation 560 returned -1.494421798700416\n",
      "2019-10-25 05:14:42,324:qiskit.aqua.algorithms.adaptive.vqe.vqe:INFO: Energy evaluation 561 returned -1.494422240415647\n",
      "2019-10-25 05:14:42,432:qiskit.aqua.algorithms.adaptive.vqe.vqe:INFO: Energy evaluation 562 returned -1.4944204075272243\n",
      "2019-10-25 05:14:42,539:qiskit.aqua.algorithms.adaptive.vqe.vqe:INFO: Energy evaluation 563 returned -1.4944424459063534\n",
      "2019-10-25 05:14:42,647:qiskit.aqua.algorithms.adaptive.vqe.vqe:INFO: Energy evaluation 564 returned -1.4944183078670603\n",
      "2019-10-25 05:14:42,754:qiskit.aqua.algorithms.adaptive.vqe.vqe:INFO: Energy evaluation 565 returned -1.4944332896751296\n",
      "2019-10-25 05:14:42,863:qiskit.aqua.algorithms.adaptive.vqe.vqe:INFO: Energy evaluation 566 returned -1.4944458748013354\n",
      "2019-10-25 05:14:43,115:qiskit.aqua.algorithms.adaptive.vqe.vqe:INFO: Energy evaluation 567 returned -1.49442805621102\n",
      "2019-10-25 05:14:43,220:qiskit.aqua.algorithms.adaptive.vqe.vqe:INFO: Energy evaluation 568 returned -1.4944850703434218\n",
      "2019-10-25 05:14:43,325:qiskit.aqua.algorithms.adaptive.vqe.vqe:INFO: Energy evaluation 569 returned -1.494510962882425\n",
      "2019-10-25 05:14:43,431:qiskit.aqua.algorithms.adaptive.vqe.vqe:INFO: Energy evaluation 570 returned -1.4945133464054603\n",
      "2019-10-25 05:14:43,536:qiskit.aqua.algorithms.adaptive.vqe.vqe:INFO: Energy evaluation 571 returned -1.4945167175521226\n",
      "2019-10-25 05:14:43,644:qiskit.aqua.algorithms.adaptive.vqe.vqe:INFO: Energy evaluation 572 returned -1.4945056337684113\n",
      "2019-10-25 05:14:43,758:qiskit.aqua.algorithms.adaptive.vqe.vqe:INFO: Energy evaluation 573 returned -1.4945069154677886\n",
      "2019-10-25 05:14:43,877:qiskit.aqua.algorithms.adaptive.vqe.vqe:INFO: Energy evaluation 574 returned -1.4945061806629516\n",
      "2019-10-25 05:14:43,995:qiskit.aqua.algorithms.adaptive.vqe.vqe:INFO: Energy evaluation 575 returned -1.4945175514211395\n",
      "2019-10-25 05:14:44,113:qiskit.aqua.algorithms.adaptive.vqe.vqe:INFO: Energy evaluation 576 returned -1.494540490002997\n",
      "2019-10-25 05:14:44,226:qiskit.aqua.algorithms.adaptive.vqe.vqe:INFO: Energy evaluation 577 returned -1.4945664028504426\n",
      "2019-10-25 05:14:44,338:qiskit.aqua.algorithms.adaptive.vqe.vqe:INFO: Energy evaluation 578 returned -1.4945754828006437\n",
      "2019-10-25 05:14:44,451:qiskit.aqua.algorithms.adaptive.vqe.vqe:INFO: Energy evaluation 579 returned -1.4945897789518257\n",
      "2019-10-25 05:14:44,564:qiskit.aqua.algorithms.adaptive.vqe.vqe:INFO: Energy evaluation 580 returned -1.4946065047343642\n",
      "2019-10-25 05:14:44,679:qiskit.aqua.algorithms.adaptive.vqe.vqe:INFO: Energy evaluation 581 returned -1.4946203088334502\n",
      "2019-10-25 05:14:44,794:qiskit.aqua.algorithms.adaptive.vqe.vqe:INFO: Energy evaluation 582 returned -1.4946378779656293\n",
      "2019-10-25 05:14:44,907:qiskit.aqua.algorithms.adaptive.vqe.vqe:INFO: Energy evaluation 583 returned -1.4946436937216894\n",
      "2019-10-25 05:14:45,018:qiskit.aqua.algorithms.adaptive.vqe.vqe:INFO: Energy evaluation 584 returned -1.4946439080557248\n",
      "2019-10-25 05:14:45,134:qiskit.aqua.algorithms.adaptive.vqe.vqe:INFO: Energy evaluation 585 returned -1.4946560221432434\n",
      "2019-10-25 05:14:45,250:qiskit.aqua.algorithms.adaptive.vqe.vqe:INFO: Energy evaluation 586 returned -1.4946745338076073\n",
      "2019-10-25 05:14:45,363:qiskit.aqua.algorithms.adaptive.vqe.vqe:INFO: Energy evaluation 587 returned -1.4946748905497271\n",
      "2019-10-25 05:14:45,469:qiskit.aqua.algorithms.adaptive.vqe.vqe:INFO: Energy evaluation 588 returned -1.4946553844932962\n",
      "2019-10-25 05:14:45,727:qiskit.aqua.algorithms.adaptive.vqe.vqe:INFO: Energy evaluation 589 returned -1.4947026558081535\n",
      "2019-10-25 05:14:45,837:qiskit.aqua.algorithms.adaptive.vqe.vqe:INFO: Energy evaluation 590 returned -1.494716191740396\n",
      "2019-10-25 05:14:45,958:qiskit.aqua.algorithms.adaptive.vqe.vqe:INFO: Energy evaluation 591 returned -1.4947125053869161\n",
      "2019-10-25 05:14:46,071:qiskit.aqua.algorithms.adaptive.vqe.vqe:INFO: Energy evaluation 592 returned -1.4947137897699971\n",
      "2019-10-25 05:14:46,178:qiskit.aqua.algorithms.adaptive.vqe.vqe:INFO: Energy evaluation 593 returned -1.494716886258324\n",
      "2019-10-25 05:14:46,286:qiskit.aqua.algorithms.adaptive.vqe.vqe:INFO: Energy evaluation 594 returned -1.494720802757401\n",
      "2019-10-25 05:14:46,396:qiskit.aqua.algorithms.adaptive.vqe.vqe:INFO: Energy evaluation 595 returned -1.4947180353057483\n",
      "2019-10-25 05:14:46,512:qiskit.aqua.algorithms.adaptive.vqe.vqe:INFO: Energy evaluation 596 returned -1.4947305762816394\n",
      "2019-10-25 05:14:46,622:qiskit.aqua.algorithms.adaptive.vqe.vqe:INFO: Energy evaluation 597 returned -1.4947428508004206\n",
      "2019-10-25 05:14:46,733:qiskit.aqua.algorithms.adaptive.vqe.vqe:INFO: Energy evaluation 598 returned -1.4947550944699248\n"
     ]
    },
    {
     "name": "stderr",
     "output_type": "stream",
     "text": [
      "2019-10-25 05:14:46,852:qiskit.aqua.algorithms.adaptive.vqe.vqe:INFO: Energy evaluation 599 returned -1.4947439001898415\n",
      "2019-10-25 05:14:46,971:qiskit.aqua.algorithms.adaptive.vqe.vqe:INFO: Energy evaluation 600 returned -1.4947488767162644\n",
      "2019-10-25 05:14:47,089:qiskit.aqua.algorithms.adaptive.vqe.vqe:INFO: Energy evaluation 601 returned -1.4947618170499286\n",
      "2019-10-25 05:14:47,207:qiskit.aqua.algorithms.adaptive.vqe.vqe:INFO: Energy evaluation 602 returned -1.4947643275009797\n",
      "2019-10-25 05:14:47,319:qiskit.aqua.algorithms.adaptive.vqe.vqe:INFO: Energy evaluation 603 returned -1.4947661455788146\n",
      "2019-10-25 05:14:47,433:qiskit.aqua.algorithms.adaptive.vqe.vqe:INFO: Energy evaluation 604 returned -1.4947692576496445\n",
      "2019-10-25 05:14:47,550:qiskit.aqua.algorithms.adaptive.vqe.vqe:INFO: Energy evaluation 605 returned -1.4947540201643532\n",
      "2019-10-25 05:14:47,672:qiskit.aqua.algorithms.adaptive.vqe.vqe:INFO: Energy evaluation 606 returned -1.4947667813427568\n",
      "2019-10-25 05:14:47,786:qiskit.aqua.algorithms.adaptive.vqe.vqe:INFO: Energy evaluation 607 returned -1.4947646010999156\n",
      "2019-10-25 05:14:47,901:qiskit.aqua.algorithms.adaptive.vqe.vqe:INFO: Energy evaluation 608 returned -1.4947637650353531\n",
      "2019-10-25 05:14:48,011:qiskit.aqua.algorithms.adaptive.vqe.vqe:INFO: Energy evaluation 609 returned -1.4947751248906103\n",
      "2019-10-25 05:14:48,123:qiskit.aqua.algorithms.adaptive.vqe.vqe:INFO: Energy evaluation 610 returned -1.49478365311717\n",
      "2019-10-25 05:14:48,234:qiskit.aqua.algorithms.adaptive.vqe.vqe:INFO: Energy evaluation 611 returned -1.494784006245116\n",
      "2019-10-25 05:14:48,500:qiskit.aqua.algorithms.adaptive.vqe.vqe:INFO: Energy evaluation 612 returned -1.4947860120400887\n",
      "2019-10-25 05:14:48,612:qiskit.aqua.algorithms.adaptive.vqe.vqe:INFO: Energy evaluation 613 returned -1.4947947656607503\n",
      "2019-10-25 05:14:48,725:qiskit.aqua.algorithms.adaptive.vqe.vqe:INFO: Energy evaluation 614 returned -1.4947972926416488\n",
      "2019-10-25 05:14:48,839:qiskit.aqua.algorithms.adaptive.vqe.vqe:INFO: Energy evaluation 615 returned -1.494797588412117\n",
      "2019-10-25 05:14:48,958:qiskit.aqua.algorithms.adaptive.vqe.vqe:INFO: Energy evaluation 616 returned -1.4948007841752815\n",
      "2019-10-25 05:14:49,076:qiskit.aqua.algorithms.adaptive.vqe.vqe:INFO: Energy evaluation 617 returned -1.4947988553683547\n",
      "2019-10-25 05:14:49,192:qiskit.aqua.algorithms.adaptive.vqe.vqe:INFO: Energy evaluation 618 returned -1.4947982509677549\n",
      "2019-10-25 05:14:49,308:qiskit.aqua.algorithms.adaptive.vqe.vqe:INFO: Energy evaluation 619 returned -1.4948099567281647\n",
      "2019-10-25 05:14:49,430:qiskit.aqua.algorithms.adaptive.vqe.vqe:INFO: Energy evaluation 620 returned -1.4948162944783316\n",
      "2019-10-25 05:14:49,553:qiskit.aqua.algorithms.adaptive.vqe.vqe:INFO: Energy evaluation 621 returned -1.4948227952572601\n",
      "2019-10-25 05:14:49,677:qiskit.aqua.algorithms.adaptive.vqe.vqe:INFO: Energy evaluation 622 returned -1.494824198848475\n",
      "2019-10-25 05:14:49,797:qiskit.aqua.algorithms.adaptive.vqe.vqe:INFO: Energy evaluation 623 returned -1.4948257701483385\n",
      "2019-10-25 05:14:49,916:qiskit.aqua.algorithms.adaptive.vqe.vqe:INFO: Energy evaluation 624 returned -1.4948271261704922\n",
      "2019-10-25 05:14:50,036:qiskit.aqua.algorithms.adaptive.vqe.vqe:INFO: Energy evaluation 625 returned -1.4948271681380363\n",
      "2019-10-25 05:14:50,157:qiskit.aqua.algorithms.adaptive.vqe.vqe:INFO: Energy evaluation 626 returned -1.4948318158020648\n",
      "2019-10-25 05:14:50,277:qiskit.aqua.algorithms.adaptive.vqe.vqe:INFO: Energy evaluation 627 returned -1.4948339971676852\n",
      "2019-10-25 05:14:50,393:qiskit.aqua.algorithms.adaptive.vqe.vqe:INFO: Energy evaluation 628 returned -1.4948427068948098\n",
      "2019-10-25 05:14:50,507:qiskit.aqua.algorithms.adaptive.vqe.vqe:INFO: Energy evaluation 629 returned -1.4948491856081805\n",
      "2019-10-25 05:14:50,621:qiskit.aqua.algorithms.adaptive.vqe.vqe:INFO: Energy evaluation 630 returned -1.4948551739208797\n",
      "2019-10-25 05:14:50,734:qiskit.aqua.algorithms.adaptive.vqe.vqe:INFO: Energy evaluation 631 returned -1.4948603710133757\n",
      "2019-10-25 05:14:50,843:qiskit.aqua.algorithms.adaptive.vqe.vqe:INFO: Energy evaluation 632 returned -1.4948645340671685\n",
      "2019-10-25 05:14:50,954:qiskit.aqua.algorithms.adaptive.vqe.vqe:INFO: Energy evaluation 633 returned -1.4948675264338478\n",
      "2019-10-25 05:14:51,210:qiskit.aqua.algorithms.adaptive.vqe.vqe:INFO: Energy evaluation 634 returned -1.4948690024203062\n",
      "2019-10-25 05:14:51,337:qiskit.aqua.algorithms.adaptive.vqe.vqe:INFO: Energy evaluation 635 returned -1.494869173270707\n",
      "2019-10-25 05:14:51,455:qiskit.aqua.algorithms.adaptive.vqe.vqe:INFO: Energy evaluation 636 returned -1.494867763070956\n",
      "2019-10-25 05:14:51,571:qiskit.aqua.algorithms.adaptive.vqe.vqe:INFO: Energy evaluation 637 returned -1.4948749508718324\n",
      "2019-10-25 05:14:51,695:qiskit.aqua.algorithms.adaptive.vqe.vqe:INFO: Energy evaluation 638 returned -1.4948808031517675\n",
      "2019-10-25 05:14:51,810:qiskit.aqua.algorithms.adaptive.vqe.vqe:INFO: Energy evaluation 639 returned -1.4948844508895691\n",
      "2019-10-25 05:14:51,925:qiskit.aqua.algorithms.adaptive.vqe.vqe:INFO: Energy evaluation 640 returned -1.4948851686641191\n",
      "2019-10-25 05:14:52,041:qiskit.aqua.algorithms.adaptive.vqe.vqe:INFO: Energy evaluation 641 returned -1.4948847608158644\n",
      "2019-10-25 05:14:52,159:qiskit.aqua.algorithms.adaptive.vqe.vqe:INFO: Energy evaluation 642 returned -1.4948909676934063\n",
      "2019-10-25 05:14:52,276:qiskit.aqua.algorithms.adaptive.vqe.vqe:INFO: Energy evaluation 643 returned -1.4948968720900138\n",
      "2019-10-25 05:14:52,397:qiskit.aqua.algorithms.adaptive.vqe.vqe:INFO: Energy evaluation 644 returned -1.4949007073488256\n",
      "2019-10-25 05:14:52,517:qiskit.aqua.algorithms.adaptive.vqe.vqe:INFO: Energy evaluation 645 returned -1.4949046455007062\n",
      "2019-10-25 05:14:52,637:qiskit.aqua.algorithms.adaptive.vqe.vqe:INFO: Energy evaluation 646 returned -1.4949066942014229\n",
      "2019-10-25 05:14:52,759:qiskit.aqua.algorithms.adaptive.vqe.vqe:INFO: Energy evaluation 647 returned -1.4949090299086356\n",
      "2019-10-25 05:14:52,874:qiskit.aqua.algorithms.adaptive.vqe.vqe:INFO: Energy evaluation 648 returned -1.4949030036821525\n",
      "2019-10-25 05:14:52,986:qiskit.aqua.algorithms.adaptive.vqe.vqe:INFO: Energy evaluation 649 returned -1.4949112445818862\n",
      "2019-10-25 05:14:53,094:qiskit.aqua.algorithms.adaptive.vqe.vqe:INFO: Energy evaluation 650 returned -1.4949111134845958\n",
      "2019-10-25 05:14:53,203:qiskit.aqua.algorithms.adaptive.vqe.vqe:INFO: Energy evaluation 651 returned -1.4949088627062719\n",
      "2019-10-25 05:14:53,315:qiskit.aqua.algorithms.adaptive.vqe.vqe:INFO: Energy evaluation 652 returned -1.4949171443391234\n",
      "2019-10-25 05:14:53,431:qiskit.aqua.algorithms.adaptive.vqe.vqe:INFO: Energy evaluation 653 returned -1.4949184569640128\n",
      "2019-10-25 05:14:53,545:qiskit.aqua.algorithms.adaptive.vqe.vqe:INFO: Energy evaluation 654 returned -1.4949182625442405\n",
      "2019-10-25 05:14:53,654:qiskit.aqua.algorithms.adaptive.vqe.vqe:INFO: Energy evaluation 655 returned -1.4949186978185955\n",
      "2019-10-25 05:14:53,764:qiskit.aqua.algorithms.adaptive.vqe.vqe:INFO: Energy evaluation 656 returned -1.4949214130134274\n",
      "2019-10-25 05:14:54,021:qiskit.aqua.algorithms.adaptive.vqe.vqe:INFO: Energy evaluation 657 returned -1.4949234737997505\n",
      "2019-10-25 05:14:54,134:qiskit.aqua.algorithms.adaptive.vqe.vqe:INFO: Energy evaluation 658 returned -1.4949300879119838\n",
      "2019-10-25 05:14:54,251:qiskit.aqua.algorithms.adaptive.vqe.vqe:INFO: Energy evaluation 659 returned -1.4949322336614952\n",
      "2019-10-25 05:14:54,365:qiskit.aqua.algorithms.adaptive.vqe.vqe:INFO: Energy evaluation 660 returned -1.4949339862494588\n",
      "2019-10-25 05:14:54,482:qiskit.aqua.algorithms.adaptive.vqe.vqe:INFO: Energy evaluation 661 returned -1.4949328311994448\n",
      "2019-10-25 05:14:54,595:qiskit.aqua.algorithms.adaptive.vqe.vqe:INFO: Energy evaluation 662 returned -1.4949334075251204\n",
      "2019-10-25 05:14:54,705:qiskit.aqua.algorithms.adaptive.vqe.vqe:INFO: Energy evaluation 663 returned -1.4949319859271577\n",
      "2019-10-25 05:14:54,813:qiskit.aqua.algorithms.adaptive.vqe.vqe:INFO: Energy evaluation 664 returned -1.4949344475180748\n",
      "2019-10-25 05:14:54,927:qiskit.aqua.algorithms.adaptive.vqe.vqe:INFO: Energy evaluation 665 returned -1.4949363980746373\n",
      "2019-10-25 05:14:55,044:qiskit.aqua.algorithms.adaptive.vqe.vqe:INFO: Energy evaluation 666 returned -1.4949293700715631\n"
     ]
    },
    {
     "name": "stderr",
     "output_type": "stream",
     "text": [
      "2019-10-25 05:14:55,159:qiskit.aqua.algorithms.adaptive.vqe.vqe:INFO: Energy evaluation 667 returned -1.4949387214501997\n",
      "2019-10-25 05:14:55,274:qiskit.aqua.algorithms.adaptive.vqe.vqe:INFO: Energy evaluation 668 returned -1.494935836139824\n",
      "2019-10-25 05:14:55,384:qiskit.aqua.algorithms.adaptive.vqe.vqe:INFO: Energy evaluation 669 returned -1.4949401542437388\n",
      "2019-10-25 05:14:55,492:qiskit.aqua.algorithms.adaptive.vqe.vqe:INFO: Energy evaluation 670 returned -1.494937811027691\n",
      "2019-10-25 05:14:55,605:qiskit.aqua.algorithms.adaptive.vqe.vqe:INFO: Energy evaluation 671 returned -1.4949425587630794\n",
      "2019-10-25 05:14:55,727:qiskit.aqua.algorithms.adaptive.vqe.vqe:INFO: Energy evaluation 672 returned -1.4949464286796692\n",
      "2019-10-25 05:14:55,850:qiskit.aqua.algorithms.adaptive.vqe.vqe:INFO: Energy evaluation 673 returned -1.4949463268212777\n",
      "2019-10-25 05:14:55,963:qiskit.aqua.algorithms.adaptive.vqe.vqe:INFO: Energy evaluation 674 returned -1.4949461909674866\n",
      "2019-10-25 05:14:56,074:qiskit.aqua.algorithms.adaptive.vqe.vqe:INFO: Energy evaluation 675 returned -1.4949485674756242\n",
      "2019-10-25 05:14:56,181:qiskit.aqua.algorithms.adaptive.vqe.vqe:INFO: Energy evaluation 676 returned -1.49495143726124\n",
      "2019-10-25 05:14:56,290:qiskit.aqua.algorithms.adaptive.vqe.vqe:INFO: Energy evaluation 677 returned -1.494953971072308\n",
      "2019-10-25 05:14:56,399:qiskit.aqua.algorithms.adaptive.vqe.vqe:INFO: Energy evaluation 678 returned -1.494953943433025\n",
      "2019-10-25 05:14:56,678:qiskit.aqua.algorithms.adaptive.vqe.vqe:INFO: Energy evaluation 679 returned -1.4949544890229316\n",
      "2019-10-25 05:14:56,794:qiskit.aqua.algorithms.adaptive.vqe.vqe:INFO: Energy evaluation 680 returned -1.4949562338629812\n",
      "2019-10-25 05:14:56,905:qiskit.aqua.algorithms.adaptive.vqe.vqe:INFO: Energy evaluation 681 returned -1.494959588181859\n",
      "2019-10-25 05:14:57,011:qiskit.aqua.algorithms.adaptive.vqe.vqe:INFO: Energy evaluation 682 returned -1.494961359407829\n",
      "2019-10-25 05:14:57,119:qiskit.aqua.algorithms.adaptive.vqe.vqe:INFO: Energy evaluation 683 returned -1.4949636391621728\n",
      "2019-10-25 05:14:57,227:qiskit.aqua.algorithms.adaptive.vqe.vqe:INFO: Energy evaluation 684 returned -1.4949645734419217\n",
      "2019-10-25 05:14:57,333:qiskit.aqua.algorithms.adaptive.vqe.vqe:INFO: Energy evaluation 685 returned -1.49496209357931\n",
      "2019-10-25 05:14:57,440:qiskit.aqua.algorithms.adaptive.vqe.vqe:INFO: Energy evaluation 686 returned -1.4949662319888275\n",
      "2019-10-25 05:14:57,549:qiskit.aqua.algorithms.adaptive.vqe.vqe:INFO: Energy evaluation 687 returned -1.4949662485474704\n",
      "2019-10-25 05:14:57,656:qiskit.aqua.algorithms.adaptive.vqe.vqe:INFO: Energy evaluation 688 returned -1.494966965958834\n",
      "2019-10-25 05:14:57,763:qiskit.aqua.algorithms.adaptive.vqe.vqe:INFO: Energy evaluation 689 returned -1.494967206869792\n",
      "2019-10-25 05:14:57,877:qiskit.aqua.algorithms.adaptive.vqe.vqe:INFO: Energy evaluation 690 returned -1.4949705948755958\n",
      "2019-10-25 05:14:57,987:qiskit.aqua.algorithms.adaptive.vqe.vqe:INFO: Energy evaluation 691 returned -1.494967158314314\n",
      "2019-10-25 05:14:58,097:qiskit.aqua.algorithms.adaptive.vqe.vqe:INFO: Energy evaluation 692 returned -1.4949711111380424\n",
      "2019-10-25 05:14:58,206:qiskit.aqua.algorithms.adaptive.vqe.vqe:INFO: Energy evaluation 693 returned -1.4949751020528343\n",
      "2019-10-25 05:14:58,314:qiskit.aqua.algorithms.adaptive.vqe.vqe:INFO: Energy evaluation 694 returned -1.4949743072994057\n",
      "2019-10-25 05:14:58,420:qiskit.aqua.algorithms.adaptive.vqe.vqe:INFO: Energy evaluation 695 returned -1.4949737962898997\n",
      "2019-10-25 05:14:58,529:qiskit.aqua.algorithms.adaptive.vqe.vqe:INFO: Energy evaluation 696 returned -1.4949781245123952\n",
      "2019-10-25 05:14:58,638:qiskit.aqua.algorithms.adaptive.vqe.vqe:INFO: Energy evaluation 697 returned -1.4949765575784308\n",
      "2019-10-25 05:14:58,745:qiskit.aqua.algorithms.adaptive.vqe.vqe:INFO: Energy evaluation 698 returned -1.4949770305534549\n",
      "2019-10-25 05:14:58,854:qiskit.aqua.algorithms.adaptive.vqe.vqe:INFO: Energy evaluation 699 returned -1.4949777147163836\n",
      "2019-10-25 05:14:58,963:qiskit.aqua.algorithms.adaptive.vqe.vqe:INFO: Energy evaluation 700 returned -1.4949752450676348\n",
      "2019-10-25 05:14:59,077:qiskit.aqua.algorithms.adaptive.vqe.vqe:INFO: Energy evaluation 701 returned -1.4949817245649433\n",
      "2019-10-25 05:14:59,301:qiskit.aqua.algorithms.adaptive.vqe.vqe:INFO: Energy evaluation 702 returned -1.4949817929888485\n",
      "2019-10-25 05:14:59,407:qiskit.aqua.algorithms.adaptive.vqe.vqe:INFO: Energy evaluation 703 returned -1.494980993908873\n",
      "2019-10-25 05:14:59,518:qiskit.aqua.algorithms.adaptive.vqe.vqe:INFO: Energy evaluation 704 returned -1.4949855996390948\n",
      "2019-10-25 05:14:59,627:qiskit.aqua.algorithms.adaptive.vqe.vqe:INFO: Energy evaluation 705 returned -1.49498141734044\n",
      "2019-10-25 05:14:59,735:qiskit.aqua.algorithms.adaptive.vqe.vqe:INFO: Energy evaluation 706 returned -1.4949835473043271\n",
      "2019-10-25 05:14:59,846:qiskit.aqua.algorithms.adaptive.vqe.vqe:INFO: Energy evaluation 707 returned -1.4949886452835075\n",
      "2019-10-25 05:14:59,960:qiskit.aqua.algorithms.adaptive.vqe.vqe:INFO: Energy evaluation 708 returned -1.4949869281128076\n",
      "2019-10-25 05:15:00,067:qiskit.aqua.algorithms.adaptive.vqe.vqe:INFO: Energy evaluation 709 returned -1.4949875709864515\n",
      "2019-10-25 05:15:00,184:qiskit.aqua.algorithms.adaptive.vqe.vqe:INFO: Energy evaluation 710 returned -1.4949903453498463\n",
      "2019-10-25 05:15:00,296:qiskit.aqua.algorithms.adaptive.vqe.vqe:INFO: Energy evaluation 711 returned -1.49498946958629\n",
      "2019-10-25 05:15:00,407:qiskit.aqua.algorithms.adaptive.vqe.vqe:INFO: Energy evaluation 712 returned -1.4949837197237739\n",
      "2019-10-25 05:15:00,523:qiskit.aqua.algorithms.adaptive.vqe.vqe:INFO: Energy evaluation 713 returned -1.4949936942085826\n",
      "2019-10-25 05:15:00,632:qiskit.aqua.algorithms.adaptive.vqe.vqe:INFO: Energy evaluation 714 returned -1.4949929421869887\n",
      "2019-10-25 05:15:00,738:qiskit.aqua.algorithms.adaptive.vqe.vqe:INFO: Energy evaluation 715 returned -1.4949946773007234\n",
      "2019-10-25 05:15:00,846:qiskit.aqua.algorithms.adaptive.vqe.vqe:INFO: Energy evaluation 716 returned -1.494994685156871\n",
      "2019-10-25 05:15:00,956:qiskit.aqua.algorithms.adaptive.vqe.vqe:INFO: Energy evaluation 717 returned -1.494991523712974\n",
      "2019-10-25 05:15:01,062:qiskit.aqua.algorithms.adaptive.vqe.vqe:INFO: Energy evaluation 718 returned -1.4949940522340026\n",
      "2019-10-25 05:15:01,171:qiskit.aqua.algorithms.adaptive.vqe.vqe:INFO: Energy evaluation 719 returned -1.49499775297605\n",
      "2019-10-25 05:15:01,280:qiskit.aqua.algorithms.adaptive.vqe.vqe:INFO: Energy evaluation 720 returned -1.4949987752039182\n",
      "2019-10-25 05:15:01,386:qiskit.aqua.algorithms.adaptive.vqe.vqe:INFO: Energy evaluation 721 returned -1.4949987481888596\n",
      "2019-10-25 05:15:01,499:qiskit.aqua.algorithms.adaptive.vqe.vqe:INFO: Energy evaluation 722 returned -1.4949983844305101\n",
      "2019-10-25 05:15:01,611:qiskit.aqua.algorithms.adaptive.vqe.vqe:INFO: Energy evaluation 723 returned -1.4950000603801674\n",
      "2019-10-25 05:15:01,863:qiskit.aqua.algorithms.adaptive.vqe.vqe:INFO: Energy evaluation 724 returned -1.494999730278331\n",
      "2019-10-25 05:15:01,984:qiskit.aqua.algorithms.adaptive.vqe.vqe:INFO: Energy evaluation 725 returned -1.4950004012494473\n",
      "2019-10-25 05:15:02,104:qiskit.aqua.algorithms.adaptive.vqe.vqe:INFO: Energy evaluation 726 returned -1.495002404619813\n",
      "2019-10-25 05:15:02,218:qiskit.aqua.algorithms.adaptive.vqe.vqe:INFO: Energy evaluation 727 returned -1.4950024578543657\n",
      "2019-10-25 05:15:02,328:qiskit.aqua.algorithms.adaptive.vqe.vqe:INFO: Energy evaluation 728 returned -1.4950026624583324\n",
      "2019-10-25 05:15:02,435:qiskit.aqua.algorithms.adaptive.vqe.vqe:INFO: Energy evaluation 729 returned -1.4950046624777893\n",
      "2019-10-25 05:15:02,547:qiskit.aqua.algorithms.adaptive.vqe.vqe:INFO: Energy evaluation 730 returned -1.495006373264256\n",
      "2019-10-25 05:15:02,701:qiskit.aqua.algorithms.adaptive.vqe.vqe:INFO: Energy evaluation 731 returned -1.4950068532602256\n",
      "2019-10-25 05:15:02,841:qiskit.aqua.algorithms.adaptive.vqe.vqe:INFO: Energy evaluation 732 returned -1.4950075760191663\n",
      "2019-10-25 05:15:02,974:qiskit.aqua.algorithms.adaptive.vqe.vqe:INFO: Energy evaluation 733 returned -1.495009149122776\n",
      "2019-10-25 05:15:03,100:qiskit.aqua.algorithms.adaptive.vqe.vqe:INFO: Energy evaluation 734 returned -1.4950103062997142\n"
     ]
    },
    {
     "name": "stderr",
     "output_type": "stream",
     "text": [
      "2019-10-25 05:15:03,225:qiskit.aqua.algorithms.adaptive.vqe.vqe:INFO: Energy evaluation 735 returned -1.495009203657651\n",
      "2019-10-25 05:15:03,346:qiskit.aqua.algorithms.adaptive.vqe.vqe:INFO: Energy evaluation 736 returned -1.4950109485771592\n",
      "2019-10-25 05:15:03,465:qiskit.aqua.algorithms.adaptive.vqe.vqe:INFO: Energy evaluation 737 returned -1.4950126436764446\n",
      "2019-10-25 05:15:03,581:qiskit.aqua.algorithms.adaptive.vqe.vqe:INFO: Energy evaluation 738 returned -1.495013978420682\n",
      "2019-10-25 05:15:03,688:qiskit.aqua.algorithms.adaptive.vqe.vqe:INFO: Energy evaluation 739 returned -1.495014381440198\n",
      "2019-10-25 05:15:03,801:qiskit.aqua.algorithms.adaptive.vqe.vqe:INFO: Energy evaluation 740 returned -1.4950158530736744\n",
      "2019-10-25 05:15:03,911:qiskit.aqua.algorithms.adaptive.vqe.vqe:INFO: Energy evaluation 741 returned -1.4950152652300535\n",
      "2019-10-25 05:15:04,019:qiskit.aqua.algorithms.adaptive.vqe.vqe:INFO: Energy evaluation 742 returned -1.495016170873252\n",
      "2019-10-25 05:15:04,131:qiskit.aqua.algorithms.adaptive.vqe.vqe:INFO: Energy evaluation 743 returned -1.495016957618823\n",
      "2019-10-25 05:15:04,246:qiskit.aqua.algorithms.adaptive.vqe.vqe:INFO: Energy evaluation 744 returned -1.495018271924288\n",
      "2019-10-25 05:15:04,375:qiskit.aqua.algorithms.adaptive.vqe.vqe:INFO: Energy evaluation 745 returned -1.4950198919846067\n",
      "2019-10-25 05:15:04,507:qiskit.aqua.algorithms.adaptive.vqe.vqe:INFO: Energy evaluation 746 returned -1.495021151449195\n",
      "2019-10-25 05:15:04,762:qiskit.aqua.algorithms.adaptive.vqe.vqe:INFO: Energy evaluation 747 returned -1.4950214997053144\n",
      "2019-10-25 05:15:04,876:qiskit.aqua.algorithms.adaptive.vqe.vqe:INFO: Energy evaluation 748 returned -1.4950232406179853\n",
      "2019-10-25 05:15:04,984:qiskit.aqua.algorithms.adaptive.vqe.vqe:INFO: Energy evaluation 749 returned -1.4950244964890989\n",
      "2019-10-25 05:15:05,095:qiskit.aqua.algorithms.adaptive.vqe.vqe:INFO: Energy evaluation 750 returned -1.4950253874688029\n",
      "2019-10-25 05:15:05,204:qiskit.aqua.algorithms.adaptive.vqe.vqe:INFO: Energy evaluation 751 returned -1.4950256050625415\n",
      "2019-10-25 05:15:05,314:qiskit.aqua.algorithms.adaptive.vqe.vqe:INFO: Energy evaluation 752 returned -1.4950261318697613\n",
      "2019-10-25 05:15:05,423:qiskit.aqua.algorithms.adaptive.vqe.vqe:INFO: Energy evaluation 753 returned -1.4950262564387065\n",
      "2019-10-25 05:15:05,531:qiskit.aqua.algorithms.adaptive.vqe.vqe:INFO: Energy evaluation 754 returned -1.4950270031118311\n",
      "2019-10-25 05:15:05,645:qiskit.aqua.algorithms.adaptive.vqe.vqe:INFO: Energy evaluation 755 returned -1.4950284624370846\n",
      "2019-10-25 05:15:05,755:qiskit.aqua.algorithms.adaptive.vqe.vqe:INFO: Energy evaluation 756 returned -1.4950297651663642\n",
      "2019-10-25 05:15:05,865:qiskit.aqua.algorithms.adaptive.vqe.vqe:INFO: Energy evaluation 757 returned -1.4950286904605656\n",
      "2019-10-25 05:15:05,973:qiskit.aqua.algorithms.adaptive.vqe.vqe:INFO: Energy evaluation 758 returned -1.4950293287460752\n",
      "2019-10-25 05:15:06,082:qiskit.aqua.algorithms.adaptive.vqe.vqe:INFO: Energy evaluation 759 returned -1.4950303173973676\n",
      "2019-10-25 05:15:06,190:qiskit.aqua.algorithms.adaptive.vqe.vqe:INFO: Energy evaluation 760 returned -1.4950315143031003\n",
      "2019-10-25 05:15:06,298:qiskit.aqua.algorithms.adaptive.vqe.vqe:INFO: Energy evaluation 761 returned -1.495031541326682\n",
      "2019-10-25 05:15:06,406:qiskit.aqua.algorithms.adaptive.vqe.vqe:INFO: Energy evaluation 762 returned -1.495032300302309\n",
      "2019-10-25 05:15:06,514:qiskit.aqua.algorithms.adaptive.vqe.vqe:INFO: Energy evaluation 763 returned -1.4950331983091476\n",
      "2019-10-25 05:15:06,621:qiskit.aqua.algorithms.adaptive.vqe.vqe:INFO: Energy evaluation 764 returned -1.495033036023133\n",
      "2019-10-25 05:15:06,727:qiskit.aqua.algorithms.adaptive.vqe.vqe:INFO: Energy evaluation 765 returned -1.4950323945283\n",
      "2019-10-25 05:15:06,836:qiskit.aqua.algorithms.adaptive.vqe.vqe:INFO: Energy evaluation 766 returned -1.495034629230314\n",
      "2019-10-25 05:15:06,946:qiskit.aqua.algorithms.adaptive.vqe.vqe:INFO: Energy evaluation 767 returned -1.4950356666041928\n",
      "2019-10-25 05:15:07,053:qiskit.aqua.algorithms.adaptive.vqe.vqe:INFO: Energy evaluation 768 returned -1.4950356218746172\n",
      "2019-10-25 05:15:07,301:qiskit.aqua.algorithms.adaptive.vqe.vqe:INFO: Energy evaluation 769 returned -1.4950358128424386\n",
      "2019-10-25 05:15:07,411:qiskit.aqua.algorithms.adaptive.vqe.vqe:INFO: Energy evaluation 770 returned -1.4950363228072185\n",
      "2019-10-25 05:15:07,519:qiskit.aqua.algorithms.adaptive.vqe.vqe:INFO: Energy evaluation 771 returned -1.4950365121536535\n",
      "2019-10-25 05:15:07,625:qiskit.aqua.algorithms.adaptive.vqe.vqe:INFO: Energy evaluation 772 returned -1.49503593295129\n",
      "2019-10-25 05:15:07,734:qiskit.aqua.algorithms.adaptive.vqe.vqe:INFO: Energy evaluation 773 returned -1.4950379630058648\n",
      "2019-10-25 05:15:07,840:qiskit.aqua.algorithms.adaptive.vqe.vqe:INFO: Energy evaluation 774 returned -1.4950372400424707\n",
      "2019-10-25 05:15:07,947:qiskit.aqua.algorithms.adaptive.vqe.vqe:INFO: Energy evaluation 775 returned -1.4950384447666156\n",
      "2019-10-25 05:15:08,055:qiskit.aqua.algorithms.adaptive.vqe.vqe:INFO: Energy evaluation 776 returned -1.4950400774047856\n",
      "2019-10-25 05:15:08,165:qiskit.aqua.algorithms.adaptive.vqe.vqe:INFO: Energy evaluation 777 returned -1.495040889969241\n",
      "2019-10-25 05:15:08,274:qiskit.aqua.algorithms.adaptive.vqe.vqe:INFO: Energy evaluation 778 returned -1.4950422825896739\n",
      "2019-10-25 05:15:08,382:qiskit.aqua.algorithms.adaptive.vqe.vqe:INFO: Energy evaluation 779 returned -1.4950433058623642\n",
      "2019-10-25 05:15:08,490:qiskit.aqua.algorithms.adaptive.vqe.vqe:INFO: Energy evaluation 780 returned -1.495042668552158\n",
      "2019-10-25 05:15:08,598:qiskit.aqua.algorithms.adaptive.vqe.vqe:INFO: Energy evaluation 781 returned -1.4950429929129392\n",
      "2019-10-25 05:15:08,707:qiskit.aqua.algorithms.adaptive.vqe.vqe:INFO: Energy evaluation 782 returned -1.495044067188103\n",
      "2019-10-25 05:15:08,814:qiskit.aqua.algorithms.adaptive.vqe.vqe:INFO: Energy evaluation 783 returned -1.4950449899314762\n",
      "2019-10-25 05:15:08,927:qiskit.aqua.algorithms.adaptive.vqe.vqe:INFO: Energy evaluation 784 returned -1.4950461506720796\n",
      "2019-10-25 05:15:09,035:qiskit.aqua.algorithms.adaptive.vqe.vqe:INFO: Energy evaluation 785 returned -1.4950470795144215\n",
      "2019-10-25 05:15:09,142:qiskit.aqua.algorithms.adaptive.vqe.vqe:INFO: Energy evaluation 786 returned -1.4950473879642456\n",
      "2019-10-25 05:15:09,253:qiskit.aqua.algorithms.adaptive.vqe.vqe:INFO: Energy evaluation 787 returned -1.4950473287811525\n",
      "2019-10-25 05:15:09,359:qiskit.aqua.algorithms.adaptive.vqe.vqe:INFO: Energy evaluation 788 returned -1.4950468246297697\n",
      "2019-10-25 05:15:09,466:qiskit.aqua.algorithms.adaptive.vqe.vqe:INFO: Energy evaluation 789 returned -1.4950491555287435\n",
      "2019-10-25 05:15:09,579:qiskit.aqua.algorithms.adaptive.vqe.vqe:INFO: Energy evaluation 790 returned -1.4950496574945316\n",
      "2019-10-25 05:15:09,829:qiskit.aqua.algorithms.adaptive.vqe.vqe:INFO: Energy evaluation 791 returned -1.4950489887417\n",
      "2019-10-25 05:15:09,942:qiskit.aqua.algorithms.adaptive.vqe.vqe:INFO: Energy evaluation 792 returned -1.4950505769143352\n",
      "2019-10-25 05:15:10,047:qiskit.aqua.algorithms.adaptive.vqe.vqe:INFO: Energy evaluation 793 returned -1.4950507570568474\n",
      "2019-10-25 05:15:10,163:qiskit.aqua.algorithms.adaptive.vqe.vqe:INFO: Energy evaluation 794 returned -1.4950513362430415\n",
      "2019-10-25 05:15:10,269:qiskit.aqua.algorithms.adaptive.vqe.vqe:INFO: Energy evaluation 795 returned -1.4950517097485718\n",
      "2019-10-25 05:15:10,377:qiskit.aqua.algorithms.adaptive.vqe.vqe:INFO: Energy evaluation 796 returned -1.4950506659443683\n",
      "2019-10-25 05:15:10,484:qiskit.aqua.algorithms.adaptive.vqe.vqe:INFO: Energy evaluation 797 returned -1.4950525109930273\n",
      "2019-10-25 05:15:10,593:qiskit.aqua.algorithms.adaptive.vqe.vqe:INFO: Energy evaluation 798 returned -1.4950538528743738\n",
      "2019-10-25 05:15:10,717:qiskit.aqua.algorithms.adaptive.vqe.vqe:INFO: Energy evaluation 799 returned -1.4950555016652365\n",
      "2019-10-25 05:15:10,837:qiskit.aqua.algorithms.adaptive.vqe.vqe:INFO: Energy evaluation 800 returned -1.49505517840876\n",
      "2019-10-25 05:15:10,954:qiskit.aqua.algorithms.adaptive.vqe.vqe:INFO: Energy evaluation 801 returned -1.495055743813431\n",
      "2019-10-25 05:15:11,068:qiskit.aqua.algorithms.adaptive.vqe.vqe:INFO: Energy evaluation 802 returned -1.495056559417282\n"
     ]
    },
    {
     "name": "stderr",
     "output_type": "stream",
     "text": [
      "2019-10-25 05:15:11,181:qiskit.aqua.algorithms.adaptive.vqe.vqe:INFO: Energy evaluation 803 returned -1.49505719255031\n",
      "2019-10-25 05:15:11,295:qiskit.aqua.algorithms.adaptive.vqe.vqe:INFO: Energy evaluation 804 returned -1.4950589875424396\n",
      "2019-10-25 05:15:11,403:qiskit.aqua.algorithms.adaptive.vqe.vqe:INFO: Energy evaluation 805 returned -1.4950597393018281\n",
      "2019-10-25 05:15:11,510:qiskit.aqua.algorithms.adaptive.vqe.vqe:INFO: Energy evaluation 806 returned -1.4950594506115187\n",
      "2019-10-25 05:15:11,623:qiskit.aqua.algorithms.adaptive.vqe.vqe:INFO: Energy evaluation 807 returned -1.4950598600831513\n",
      "2019-10-25 05:15:11,730:qiskit.aqua.algorithms.adaptive.vqe.vqe:INFO: Energy evaluation 808 returned -1.495061315887675\n",
      "2019-10-25 05:15:11,838:qiskit.aqua.algorithms.adaptive.vqe.vqe:INFO: Energy evaluation 809 returned -1.4950626489165058\n",
      "2019-10-25 05:15:11,947:qiskit.aqua.algorithms.adaptive.vqe.vqe:INFO: Energy evaluation 810 returned -1.4950637062269418\n",
      "2019-10-25 05:15:12,059:qiskit.aqua.algorithms.adaptive.vqe.vqe:INFO: Energy evaluation 811 returned -1.4950648368612653\n",
      "2019-10-25 05:15:12,167:qiskit.aqua.algorithms.adaptive.vqe.vqe:INFO: Energy evaluation 812 returned -1.4950650400664371\n",
      "2019-10-25 05:15:12,276:qiskit.aqua.algorithms.adaptive.vqe.vqe:INFO: Energy evaluation 813 returned -1.495065422913506\n",
      "2019-10-25 05:15:12,542:qiskit.aqua.algorithms.adaptive.vqe.vqe:INFO: Energy evaluation 814 returned -1.4950664387554056\n",
      "2019-10-25 05:15:12,649:qiskit.aqua.algorithms.adaptive.vqe.vqe:INFO: Energy evaluation 815 returned -1.4950679556305198\n",
      "2019-10-25 05:15:12,758:qiskit.aqua.algorithms.adaptive.vqe.vqe:INFO: Energy evaluation 816 returned -1.4950694247200311\n",
      "2019-10-25 05:15:12,868:qiskit.aqua.algorithms.adaptive.vqe.vqe:INFO: Energy evaluation 817 returned -1.4950706462057457\n",
      "2019-10-25 05:15:12,974:qiskit.aqua.algorithms.adaptive.vqe.vqe:INFO: Energy evaluation 818 returned -1.495070793665482\n",
      "2019-10-25 05:15:13,081:qiskit.aqua.algorithms.adaptive.vqe.vqe:INFO: Energy evaluation 819 returned -1.4950705501624766\n",
      "2019-10-25 05:15:13,189:qiskit.aqua.algorithms.adaptive.vqe.vqe:INFO: Energy evaluation 820 returned -1.4950724046090693\n",
      "2019-10-25 05:15:13,296:qiskit.aqua.algorithms.adaptive.vqe.vqe:INFO: Energy evaluation 821 returned -1.4950729813491448\n",
      "2019-10-25 05:15:13,404:qiskit.aqua.algorithms.adaptive.vqe.vqe:INFO: Energy evaluation 822 returned -1.4950734703872184\n",
      "2019-10-25 05:15:13,512:qiskit.aqua.algorithms.adaptive.vqe.vqe:INFO: Energy evaluation 823 returned -1.4950742781706168\n",
      "2019-10-25 05:15:13,623:qiskit.aqua.algorithms.adaptive.vqe.vqe:INFO: Energy evaluation 824 returned -1.4950755419917185\n",
      "2019-10-25 05:15:13,747:qiskit.aqua.algorithms.adaptive.vqe.vqe:INFO: Energy evaluation 825 returned -1.4950755393779827\n",
      "2019-10-25 05:15:13,857:qiskit.aqua.algorithms.adaptive.vqe.vqe:INFO: Energy evaluation 826 returned -1.4950759802713587\n",
      "2019-10-25 05:15:13,970:qiskit.aqua.algorithms.adaptive.vqe.vqe:INFO: Energy evaluation 827 returned -1.4950762668879751\n",
      "2019-10-25 05:15:14,080:qiskit.aqua.algorithms.adaptive.vqe.vqe:INFO: Energy evaluation 828 returned -1.495076825915205\n",
      "2019-10-25 05:15:14,201:qiskit.aqua.algorithms.adaptive.vqe.vqe:INFO: Energy evaluation 829 returned -1.4950782803147362\n",
      "2019-10-25 05:15:14,318:qiskit.aqua.algorithms.adaptive.vqe.vqe:INFO: Energy evaluation 830 returned -1.495078309953279\n",
      "2019-10-25 05:15:14,432:qiskit.aqua.algorithms.adaptive.vqe.vqe:INFO: Energy evaluation 831 returned -1.495078236576479\n",
      "2019-10-25 05:15:14,548:qiskit.aqua.algorithms.adaptive.vqe.vqe:INFO: Energy evaluation 832 returned -1.4950787260715437\n",
      "2019-10-25 05:15:14,664:qiskit.aqua.algorithms.adaptive.vqe.vqe:INFO: Energy evaluation 833 returned -1.495079921306436\n",
      "2019-10-25 05:15:14,771:qiskit.aqua.algorithms.adaptive.vqe.vqe:INFO: Energy evaluation 834 returned -1.4950799758452826\n",
      "2019-10-25 05:15:14,877:qiskit.aqua.algorithms.adaptive.vqe.vqe:INFO: Energy evaluation 835 returned -1.4950806019774192\n",
      "2019-10-25 05:15:14,983:qiskit.aqua.algorithms.adaptive.vqe.vqe:INFO: Energy evaluation 836 returned -1.4950815891024463\n",
      "2019-10-25 05:15:15,247:qiskit.aqua.algorithms.adaptive.vqe.vqe:INFO: Energy evaluation 837 returned -1.4950829893817033\n",
      "2019-10-25 05:15:15,356:qiskit.aqua.algorithms.adaptive.vqe.vqe:INFO: Energy evaluation 838 returned -1.495084010870623\n",
      "2019-10-25 05:15:15,475:qiskit.aqua.algorithms.adaptive.vqe.vqe:INFO: Energy evaluation 839 returned -1.4950833720767815\n",
      "2019-10-25 05:15:15,594:qiskit.aqua.algorithms.adaptive.vqe.vqe:INFO: Energy evaluation 840 returned -1.4950845346245276\n",
      "2019-10-25 05:15:15,711:qiskit.aqua.algorithms.adaptive.vqe.vqe:INFO: Energy evaluation 841 returned -1.4950839436233136\n",
      "2019-10-25 05:15:15,827:qiskit.aqua.algorithms.adaptive.vqe.vqe:INFO: Energy evaluation 842 returned -1.495084439437166\n",
      "2019-10-25 05:15:15,943:qiskit.aqua.algorithms.adaptive.vqe.vqe:INFO: Energy evaluation 843 returned -1.4950851952771493\n",
      "2019-10-25 05:15:16,061:qiskit.aqua.algorithms.adaptive.vqe.vqe:INFO: Energy evaluation 844 returned -1.4950861666624498\n",
      "2019-10-25 05:15:16,179:qiskit.aqua.algorithms.adaptive.vqe.vqe:INFO: Energy evaluation 845 returned -1.4950861984466735\n",
      "2019-10-25 05:15:16,298:qiskit.aqua.algorithms.adaptive.vqe.vqe:INFO: Energy evaluation 846 returned -1.4950862963813534\n",
      "2019-10-25 05:15:16,417:qiskit.aqua.algorithms.adaptive.vqe.vqe:INFO: Energy evaluation 847 returned -1.4950842003033893\n",
      "2019-10-25 05:15:16,532:qiskit.aqua.algorithms.adaptive.vqe.vqe:INFO: Energy evaluation 848 returned -1.4950868420213326\n",
      "2019-10-25 05:15:16,646:qiskit.aqua.algorithms.adaptive.vqe.vqe:INFO: Energy evaluation 849 returned -1.4950884260804989\n",
      "2019-10-25 05:15:16,761:qiskit.aqua.algorithms.adaptive.vqe.vqe:INFO: Energy evaluation 850 returned -1.4950889594479804\n",
      "2019-10-25 05:15:16,873:qiskit.aqua.algorithms.adaptive.vqe.vqe:INFO: Energy evaluation 851 returned -1.4950884065619832\n",
      "2019-10-25 05:15:16,986:qiskit.aqua.algorithms.adaptive.vqe.vqe:INFO: Energy evaluation 852 returned -1.4950890627028046\n",
      "2019-10-25 05:15:17,099:qiskit.aqua.algorithms.adaptive.vqe.vqe:INFO: Energy evaluation 853 returned -1.495088171602841\n",
      "2019-10-25 05:15:17,218:qiskit.aqua.algorithms.adaptive.vqe.vqe:INFO: Energy evaluation 854 returned -1.4950892709947645\n",
      "2019-10-25 05:15:17,333:qiskit.aqua.algorithms.adaptive.vqe.vqe:INFO: Energy evaluation 855 returned -1.495090700004361\n",
      "2019-10-25 05:15:17,452:qiskit.aqua.algorithms.adaptive.vqe.vqe:INFO: Energy evaluation 856 returned -1.4950911332859678\n",
      "2019-10-25 05:15:17,568:qiskit.aqua.algorithms.adaptive.vqe.vqe:INFO: Energy evaluation 857 returned -1.495091172289134\n",
      "2019-10-25 05:15:17,684:qiskit.aqua.algorithms.adaptive.vqe.vqe:INFO: Energy evaluation 858 returned -1.4950911513852618\n",
      "2019-10-25 05:15:17,949:qiskit.aqua.algorithms.adaptive.vqe.vqe:INFO: Energy evaluation 859 returned -1.4950914945589846\n",
      "2019-10-25 05:15:18,054:qiskit.aqua.algorithms.adaptive.vqe.vqe:INFO: Energy evaluation 860 returned -1.4950922135648756\n",
      "2019-10-25 05:15:18,163:qiskit.aqua.algorithms.adaptive.vqe.vqe:INFO: Energy evaluation 861 returned -1.4950930544370313\n",
      "2019-10-25 05:15:18,272:qiskit.aqua.algorithms.adaptive.vqe.vqe:INFO: Energy evaluation 862 returned -1.4950932947608206\n",
      "2019-10-25 05:15:18,387:qiskit.aqua.algorithms.adaptive.vqe.vqe:INFO: Energy evaluation 863 returned -1.495092942960029\n",
      "2019-10-25 05:15:18,503:qiskit.aqua.algorithms.adaptive.vqe.vqe:INFO: Energy evaluation 864 returned -1.4950937956307382\n",
      "2019-10-25 05:15:18,611:qiskit.aqua.algorithms.adaptive.vqe.vqe:INFO: Energy evaluation 865 returned -1.4950938534670695\n",
      "2019-10-25 05:15:18,719:qiskit.aqua.algorithms.adaptive.vqe.vqe:INFO: Energy evaluation 866 returned -1.495092761595436\n",
      "2019-10-25 05:15:18,829:qiskit.aqua.algorithms.adaptive.vqe.vqe:INFO: Energy evaluation 867 returned -1.4950946138420038\n",
      "2019-10-25 05:15:18,940:qiskit.aqua.algorithms.adaptive.vqe.vqe:INFO: Energy evaluation 868 returned -1.4950951552092386\n",
      "2019-10-25 05:15:19,054:qiskit.aqua.algorithms.adaptive.vqe.vqe:INFO: Energy evaluation 869 returned -1.4950956284077455\n",
      "2019-10-25 05:15:19,161:qiskit.aqua.algorithms.adaptive.vqe.vqe:INFO: Energy evaluation 870 returned -1.4950960816119905\n"
     ]
    },
    {
     "name": "stderr",
     "output_type": "stream",
     "text": [
      "2019-10-25 05:15:19,269:qiskit.aqua.algorithms.adaptive.vqe.vqe:INFO: Energy evaluation 871 returned -1.4950954874231712\n",
      "2019-10-25 05:15:19,376:qiskit.aqua.algorithms.adaptive.vqe.vqe:INFO: Energy evaluation 872 returned -1.4950971428065438\n",
      "2019-10-25 05:15:19,484:qiskit.aqua.algorithms.adaptive.vqe.vqe:INFO: Energy evaluation 873 returned -1.4950974450760681\n",
      "2019-10-25 05:15:19,596:qiskit.aqua.algorithms.adaptive.vqe.vqe:INFO: Energy evaluation 874 returned -1.4950971798277553\n",
      "2019-10-25 05:15:19,703:qiskit.aqua.algorithms.adaptive.vqe.vqe:INFO: Energy evaluation 875 returned -1.4950989446117935\n",
      "2019-10-25 05:15:19,809:qiskit.aqua.algorithms.adaptive.vqe.vqe:INFO: Energy evaluation 876 returned -1.495099471068602\n",
      "2019-10-25 05:15:19,916:qiskit.aqua.algorithms.adaptive.vqe.vqe:INFO: Energy evaluation 877 returned -1.49509957325496\n",
      "2019-10-25 05:15:20,028:qiskit.aqua.algorithms.adaptive.vqe.vqe:INFO: Energy evaluation 878 returned -1.4950984021203564\n",
      "2019-10-25 05:15:20,135:qiskit.aqua.algorithms.adaptive.vqe.vqe:INFO: Energy evaluation 879 returned -1.4951008251657965\n",
      "2019-10-25 05:15:20,243:qiskit.aqua.algorithms.adaptive.vqe.vqe:INFO: Energy evaluation 880 returned -1.495100475636993\n",
      "2019-10-25 05:15:20,505:qiskit.aqua.algorithms.adaptive.vqe.vqe:INFO: Energy evaluation 881 returned -1.495100923364366\n",
      "2019-10-25 05:15:20,609:qiskit.aqua.algorithms.adaptive.vqe.vqe:INFO: Energy evaluation 882 returned -1.4951024537005075\n",
      "2019-10-25 05:15:20,714:qiskit.aqua.algorithms.adaptive.vqe.vqe:INFO: Energy evaluation 883 returned -1.4951018038292776\n",
      "2019-10-25 05:15:20,821:qiskit.aqua.algorithms.adaptive.vqe.vqe:INFO: Energy evaluation 884 returned -1.4951025857607103\n",
      "2019-10-25 05:15:20,931:qiskit.aqua.algorithms.adaptive.vqe.vqe:INFO: Energy evaluation 885 returned -1.495102704384553\n",
      "2019-10-25 05:15:21,037:qiskit.aqua.algorithms.adaptive.vqe.vqe:INFO: Energy evaluation 886 returned -1.4951031729686117\n",
      "2019-10-25 05:15:21,152:qiskit.aqua.algorithms.adaptive.vqe.vqe:INFO: Energy evaluation 887 returned -1.4951047841541851\n",
      "2019-10-25 05:15:21,265:qiskit.aqua.algorithms.adaptive.vqe.vqe:INFO: Energy evaluation 888 returned -1.495105341963616\n",
      "2019-10-25 05:15:21,372:qiskit.aqua.algorithms.adaptive.vqe.vqe:INFO: Energy evaluation 889 returned -1.49510559873012\n",
      "2019-10-25 05:15:21,481:qiskit.aqua.algorithms.adaptive.vqe.vqe:INFO: Energy evaluation 890 returned -1.495105779140619\n",
      "2019-10-25 05:15:21,590:qiskit.aqua.algorithms.adaptive.vqe.vqe:INFO: Energy evaluation 891 returned -1.4951062394709922\n",
      "2019-10-25 05:15:21,700:qiskit.aqua.algorithms.adaptive.vqe.vqe:INFO: Energy evaluation 892 returned -1.49510791955505\n",
      "2019-10-25 05:15:21,808:qiskit.aqua.algorithms.adaptive.vqe.vqe:INFO: Energy evaluation 893 returned -1.4951079927640085\n",
      "2019-10-25 05:15:21,918:qiskit.aqua.algorithms.adaptive.vqe.vqe:INFO: Energy evaluation 894 returned -1.495107067352907\n",
      "2019-10-25 05:15:22,025:qiskit.aqua.algorithms.adaptive.vqe.vqe:INFO: Energy evaluation 895 returned -1.4951093566173213\n",
      "2019-10-25 05:15:22,132:qiskit.aqua.algorithms.adaptive.vqe.vqe:INFO: Energy evaluation 896 returned -1.4951101663711885\n",
      "2019-10-25 05:15:22,241:qiskit.aqua.algorithms.adaptive.vqe.vqe:INFO: Energy evaluation 897 returned -1.495111226966755\n",
      "2019-10-25 05:15:22,348:qiskit.aqua.algorithms.adaptive.vqe.vqe:INFO: Energy evaluation 898 returned -1.4951103015218357\n",
      "2019-10-25 05:15:22,457:qiskit.aqua.algorithms.adaptive.vqe.vqe:INFO: Energy evaluation 899 returned -1.4951113279249686\n",
      "2019-10-25 05:15:22,564:qiskit.aqua.algorithms.adaptive.vqe.vqe:INFO: Energy evaluation 900 returned -1.4951110414519178\n",
      "2019-10-25 05:15:22,671:qiskit.aqua.algorithms.adaptive.vqe.vqe:INFO: Energy evaluation 901 returned -1.4951105098698283\n",
      "2019-10-25 05:15:22,788:qiskit.aqua.algorithms.adaptive.vqe.vqe:INFO: Energy evaluation 902 returned -1.4951129123960583\n",
      "2019-10-25 05:15:22,906:qiskit.aqua.algorithms.adaptive.vqe.vqe:INFO: Energy evaluation 903 returned -1.495113477106611\n",
      "2019-10-25 05:15:23,163:qiskit.aqua.algorithms.adaptive.vqe.vqe:INFO: Energy evaluation 904 returned -1.4951132444264874\n",
      "2019-10-25 05:15:23,275:qiskit.aqua.algorithms.adaptive.vqe.vqe:INFO: Energy evaluation 905 returned -1.495112673403946\n",
      "2019-10-25 05:15:23,395:qiskit.aqua.algorithms.adaptive.vqe.vqe:INFO: Energy evaluation 906 returned -1.4951140596993144\n",
      "2019-10-25 05:15:23,509:qiskit.aqua.algorithms.adaptive.vqe.vqe:INFO: Energy evaluation 907 returned -1.4951152576952758\n",
      "2019-10-25 05:15:23,623:qiskit.aqua.algorithms.adaptive.vqe.vqe:INFO: Energy evaluation 908 returned -1.495116006865354\n",
      "2019-10-25 05:15:23,736:qiskit.aqua.algorithms.adaptive.vqe.vqe:INFO: Energy evaluation 909 returned -1.4951157566741782\n",
      "2019-10-25 05:15:23,845:qiskit.aqua.algorithms.adaptive.vqe.vqe:INFO: Energy evaluation 910 returned -1.4951159792071904\n",
      "2019-10-25 05:15:23,956:qiskit.aqua.algorithms.adaptive.vqe.vqe:INFO: Energy evaluation 911 returned -1.49511537763219\n",
      "2019-10-25 05:15:24,071:qiskit.aqua.algorithms.adaptive.vqe.vqe:INFO: Energy evaluation 912 returned -1.4951151901289461\n",
      "2019-10-25 05:15:24,183:qiskit.aqua.algorithms.adaptive.vqe.vqe:INFO: Energy evaluation 913 returned -1.4951170709617552\n",
      "2019-10-25 05:15:24,297:qiskit.aqua.algorithms.adaptive.vqe.vqe:INFO: Energy evaluation 914 returned -1.4951171538348602\n",
      "2019-10-25 05:15:24,409:qiskit.aqua.algorithms.adaptive.vqe.vqe:INFO: Energy evaluation 915 returned -1.4951175952530007\n",
      "2019-10-25 05:15:24,536:qiskit.aqua.algorithms.adaptive.vqe.vqe:INFO: Energy evaluation 916 returned -1.4951174644898977\n",
      "2019-10-25 05:15:24,659:qiskit.aqua.algorithms.adaptive.vqe.vqe:INFO: Energy evaluation 917 returned -1.4951169056021512\n",
      "2019-10-25 05:15:24,779:qiskit.aqua.algorithms.adaptive.vqe.vqe:INFO: Energy evaluation 918 returned -1.495118539812947\n",
      "2019-10-25 05:15:24,894:qiskit.aqua.algorithms.adaptive.vqe.vqe:INFO: Energy evaluation 919 returned -1.4951189559928084\n",
      "2019-10-25 05:15:25,013:qiskit.aqua.algorithms.adaptive.vqe.vqe:INFO: Energy evaluation 920 returned -1.4951199395686463\n",
      "2019-10-25 05:15:25,133:qiskit.aqua.algorithms.adaptive.vqe.vqe:INFO: Energy evaluation 921 returned -1.4951203092902607\n",
      "2019-10-25 05:15:25,252:qiskit.aqua.algorithms.adaptive.vqe.vqe:INFO: Energy evaluation 922 returned -1.4951202403465045\n",
      "2019-10-25 05:15:25,363:qiskit.aqua.algorithms.adaptive.vqe.vqe:INFO: Energy evaluation 923 returned -1.4951201475147091\n",
      "2019-10-25 05:15:25,470:qiskit.aqua.algorithms.adaptive.vqe.vqe:INFO: Energy evaluation 924 returned -1.4951196725370395\n",
      "2019-10-25 05:15:25,582:qiskit.aqua.algorithms.adaptive.vqe.vqe:INFO: Energy evaluation 925 returned -1.49512198851013\n",
      "2019-10-25 05:15:25,871:qiskit.aqua.algorithms.adaptive.vqe.vqe:INFO: Energy evaluation 926 returned -1.4951225324285915\n",
      "2019-10-25 05:15:25,992:qiskit.aqua.algorithms.adaptive.vqe.vqe:INFO: Energy evaluation 927 returned -1.4951233409863809\n",
      "2019-10-25 05:15:26,111:qiskit.aqua.algorithms.adaptive.vqe.vqe:INFO: Energy evaluation 928 returned -1.4951237238592832\n",
      "2019-10-25 05:15:26,230:qiskit.aqua.algorithms.adaptive.vqe.vqe:INFO: Energy evaluation 929 returned -1.4951235790263997\n",
      "2019-10-25 05:15:26,346:qiskit.aqua.algorithms.adaptive.vqe.vqe:INFO: Energy evaluation 930 returned -1.4951227965691858\n",
      "2019-10-25 05:15:26,467:qiskit.aqua.algorithms.adaptive.vqe.vqe:INFO: Energy evaluation 931 returned -1.4951226672169797\n",
      "2019-10-25 05:15:26,587:qiskit.aqua.algorithms.adaptive.vqe.vqe:INFO: Energy evaluation 932 returned -1.4951250073710944\n",
      "2019-10-25 05:15:26,707:qiskit.aqua.algorithms.adaptive.vqe.vqe:INFO: Energy evaluation 933 returned -1.4951253633143469\n",
      "2019-10-25 05:15:26,823:qiskit.aqua.algorithms.adaptive.vqe.vqe:INFO: Energy evaluation 934 returned -1.4951255418080667\n",
      "2019-10-25 05:15:26,936:qiskit.aqua.algorithms.adaptive.vqe.vqe:INFO: Energy evaluation 935 returned -1.495125604455688\n",
      "2019-10-25 05:15:27,055:qiskit.aqua.algorithms.adaptive.vqe.vqe:INFO: Energy evaluation 936 returned -1.4951246922690542\n",
      "2019-10-25 05:15:27,170:qiskit.aqua.algorithms.adaptive.vqe.vqe:INFO: Energy evaluation 937 returned -1.495127292361205\n",
      "2019-10-25 05:15:27,283:qiskit.aqua.algorithms.adaptive.vqe.vqe:INFO: Energy evaluation 938 returned -1.4951286162255597\n"
     ]
    },
    {
     "name": "stderr",
     "output_type": "stream",
     "text": [
      "2019-10-25 05:15:27,396:qiskit.aqua.algorithms.adaptive.vqe.vqe:INFO: Energy evaluation 939 returned -1.4951289212197896\n",
      "2019-10-25 05:15:27,507:qiskit.aqua.algorithms.adaptive.vqe.vqe:INFO: Energy evaluation 940 returned -1.4951282997671047\n",
      "2019-10-25 05:15:27,621:qiskit.aqua.algorithms.adaptive.vqe.vqe:INFO: Energy evaluation 941 returned -1.4951296391546753\n",
      "2019-10-25 05:15:27,735:qiskit.aqua.algorithms.adaptive.vqe.vqe:INFO: Energy evaluation 942 returned -1.4951295130919218\n",
      "2019-10-25 05:15:27,849:qiskit.aqua.algorithms.adaptive.vqe.vqe:INFO: Energy evaluation 943 returned -1.4951313215338269\n",
      "2019-10-25 05:15:27,965:qiskit.aqua.algorithms.adaptive.vqe.vqe:INFO: Energy evaluation 944 returned -1.495132641402602\n",
      "2019-10-25 05:15:28,081:qiskit.aqua.algorithms.adaptive.vqe.vqe:INFO: Energy evaluation 945 returned -1.4951338203074922\n",
      "2019-10-25 05:15:28,196:qiskit.aqua.algorithms.adaptive.vqe.vqe:INFO: Energy evaluation 946 returned -1.495134737854973\n",
      "2019-10-25 05:15:28,306:qiskit.aqua.algorithms.adaptive.vqe.vqe:INFO: Energy evaluation 947 returned -1.495135675951538\n",
      "2019-10-25 05:15:28,559:qiskit.aqua.algorithms.adaptive.vqe.vqe:INFO: Energy evaluation 948 returned -1.495135590551065\n",
      "2019-10-25 05:15:28,665:qiskit.aqua.algorithms.adaptive.vqe.vqe:INFO: Energy evaluation 949 returned -1.4951354519422007\n",
      "2019-10-25 05:15:28,772:qiskit.aqua.algorithms.adaptive.vqe.vqe:INFO: Energy evaluation 950 returned -1.4951355990140582\n",
      "2019-10-25 05:15:28,884:qiskit.aqua.algorithms.adaptive.vqe.vqe:INFO: Energy evaluation 951 returned -1.4951354077706593\n",
      "2019-10-25 05:15:29,000:qiskit.aqua.algorithms.adaptive.vqe.vqe:INFO: Energy evaluation 952 returned -1.4951369896275868\n",
      "2019-10-25 05:15:29,118:qiskit.aqua.algorithms.adaptive.vqe.vqe:INFO: Energy evaluation 953 returned -1.4951373391794276\n",
      "2019-10-25 05:15:29,229:qiskit.aqua.algorithms.adaptive.vqe.vqe:INFO: Energy evaluation 954 returned -1.4951378342723154\n",
      "2019-10-25 05:15:29,340:qiskit.aqua.algorithms.adaptive.vqe.vqe:INFO: Energy evaluation 955 returned -1.4951364828700713\n",
      "2019-10-25 05:15:29,447:qiskit.aqua.algorithms.adaptive.vqe.vqe:INFO: Energy evaluation 956 returned -1.4951372790084976\n",
      "2019-10-25 05:15:29,563:qiskit.aqua.algorithms.adaptive.vqe.vqe:INFO: Energy evaluation 957 returned -1.4951394491324332\n",
      "2019-10-25 05:15:29,678:qiskit.aqua.algorithms.adaptive.vqe.vqe:INFO: Energy evaluation 958 returned -1.4951398615898794\n",
      "2019-10-25 05:15:29,792:qiskit.aqua.algorithms.adaptive.vqe.vqe:INFO: Energy evaluation 959 returned -1.4951404056444382\n",
      "2019-10-25 05:15:29,904:qiskit.aqua.algorithms.adaptive.vqe.vqe:INFO: Energy evaluation 960 returned -1.4951405344461004\n",
      "2019-10-25 05:15:30,012:qiskit.aqua.algorithms.adaptive.vqe.vqe:INFO: Energy evaluation 961 returned -1.495140908652575\n",
      "2019-10-25 05:15:30,119:qiskit.aqua.algorithms.adaptive.vqe.vqe:INFO: Energy evaluation 962 returned -1.4951415922279188\n",
      "2019-10-25 05:15:30,228:qiskit.aqua.algorithms.adaptive.vqe.vqe:INFO: Energy evaluation 963 returned -1.4951429787029766\n",
      "2019-10-25 05:15:30,337:qiskit.aqua.algorithms.adaptive.vqe.vqe:INFO: Energy evaluation 964 returned -1.4951420572543457\n",
      "2019-10-25 05:15:30,445:qiskit.aqua.algorithms.adaptive.vqe.vqe:INFO: Energy evaluation 965 returned -1.495142867578023\n",
      "2019-10-25 05:15:30,554:qiskit.aqua.algorithms.adaptive.vqe.vqe:INFO: Energy evaluation 966 returned -1.4951445642627987\n",
      "2019-10-25 05:15:30,663:qiskit.aqua.algorithms.adaptive.vqe.vqe:INFO: Energy evaluation 967 returned -1.4951456810853203\n",
      "2019-10-25 05:15:30,769:qiskit.aqua.algorithms.adaptive.vqe.vqe:INFO: Energy evaluation 968 returned -1.495146454600809\n",
      "2019-10-25 05:15:30,878:qiskit.aqua.algorithms.adaptive.vqe.vqe:INFO: Energy evaluation 969 returned -1.495147305096807\n",
      "2019-10-25 05:15:30,986:qiskit.aqua.algorithms.adaptive.vqe.vqe:INFO: Energy evaluation 970 returned -1.4951472441229916\n",
      "2019-10-25 05:15:31,235:qiskit.aqua.algorithms.adaptive.vqe.vqe:INFO: Energy evaluation 971 returned -1.4951471541363621\n",
      "2019-10-25 05:15:31,344:qiskit.aqua.algorithms.adaptive.vqe.vqe:INFO: Energy evaluation 972 returned -1.4951486726885332\n",
      "2019-10-25 05:15:31,451:qiskit.aqua.algorithms.adaptive.vqe.vqe:INFO: Energy evaluation 973 returned -1.4951495716818008\n",
      "2019-10-25 05:15:31,563:qiskit.aqua.algorithms.adaptive.vqe.vqe:INFO: Energy evaluation 974 returned -1.4951509291953404\n",
      "2019-10-25 05:15:31,675:qiskit.aqua.algorithms.adaptive.vqe.vqe:INFO: Energy evaluation 975 returned -1.4951510659933687\n",
      "2019-10-25 05:15:31,786:qiskit.aqua.algorithms.adaptive.vqe.vqe:INFO: Energy evaluation 976 returned -1.4951512661142594\n",
      "2019-10-25 05:15:31,897:qiskit.aqua.algorithms.adaptive.vqe.vqe:INFO: Energy evaluation 977 returned -1.4951530278462557\n",
      "2019-10-25 05:15:32,009:qiskit.aqua.algorithms.adaptive.vqe.vqe:INFO: Energy evaluation 978 returned -1.4951546196915486\n",
      "2019-10-25 05:15:32,118:qiskit.aqua.algorithms.adaptive.vqe.vqe:INFO: Energy evaluation 979 returned -1.495156012155446\n",
      "2019-10-25 05:15:32,228:qiskit.aqua.algorithms.adaptive.vqe.vqe:INFO: Energy evaluation 980 returned -1.4951572981714583\n",
      "2019-10-25 05:15:32,335:qiskit.aqua.algorithms.adaptive.vqe.vqe:INFO: Energy evaluation 981 returned -1.4951580610583042\n",
      "2019-10-25 05:15:32,445:qiskit.aqua.algorithms.adaptive.vqe.vqe:INFO: Energy evaluation 982 returned -1.4951592119227717\n",
      "2019-10-25 05:15:32,553:qiskit.aqua.algorithms.adaptive.vqe.vqe:INFO: Energy evaluation 983 returned -1.495160892652811\n",
      "2019-10-25 05:15:32,660:qiskit.aqua.algorithms.adaptive.vqe.vqe:INFO: Energy evaluation 984 returned -1.495162151515685\n",
      "2019-10-25 05:15:32,766:qiskit.aqua.algorithms.adaptive.vqe.vqe:INFO: Energy evaluation 985 returned -1.4951630756503893\n",
      "2019-10-25 05:15:32,877:qiskit.aqua.algorithms.adaptive.vqe.vqe:INFO: Energy evaluation 986 returned -1.495164500668439\n",
      "2019-10-25 05:15:32,987:qiskit.aqua.algorithms.adaptive.vqe.vqe:INFO: Energy evaluation 987 returned -1.4951652525849957\n",
      "2019-10-25 05:15:33,098:qiskit.aqua.algorithms.adaptive.vqe.vqe:INFO: Energy evaluation 988 returned -1.4951668547000334\n",
      "2019-10-25 05:15:33,211:qiskit.aqua.algorithms.adaptive.vqe.vqe:INFO: Energy evaluation 989 returned -1.4951680881729636\n",
      "2019-10-25 05:15:33,320:qiskit.aqua.algorithms.adaptive.vqe.vqe:INFO: Energy evaluation 990 returned -1.4951694847134953\n",
      "2019-10-25 05:15:33,428:qiskit.aqua.algorithms.adaptive.vqe.vqe:INFO: Energy evaluation 991 returned -1.4951706195136751\n",
      "2019-10-25 05:15:33,535:qiskit.aqua.algorithms.adaptive.vqe.vqe:INFO: Energy evaluation 992 returned -1.4951718772528355\n",
      "2019-10-25 05:15:33,790:qiskit.aqua.algorithms.adaptive.vqe.vqe:INFO: Energy evaluation 993 returned -1.4951733924549353\n",
      "2019-10-25 05:15:33,897:qiskit.aqua.algorithms.adaptive.vqe.vqe:INFO: Energy evaluation 994 returned -1.4951748274321188\n",
      "2019-10-25 05:15:34,005:qiskit.aqua.algorithms.adaptive.vqe.vqe:INFO: Energy evaluation 995 returned -1.4951762688910386\n",
      "2019-10-25 05:15:34,112:qiskit.aqua.algorithms.adaptive.vqe.vqe:INFO: Energy evaluation 996 returned -1.4951777027817756\n",
      "2019-10-25 05:15:34,225:qiskit.aqua.algorithms.adaptive.vqe.vqe:INFO: Energy evaluation 997 returned -1.495178812551282\n",
      "2019-10-25 05:15:34,383:qiskit.aqua.algorithms.adaptive.vqe.vqe:INFO: Energy evaluation 998 returned -1.4951796608481756\n",
      "2019-10-25 05:15:34,503:qiskit.aqua.algorithms.adaptive.vqe.vqe:INFO: Energy evaluation 999 returned -1.4951812275503285\n",
      "2019-10-25 05:15:34,621:qiskit.aqua.algorithms.adaptive.vqe.vqe:INFO: Energy evaluation 1000 returned -1.4951825844295117\n",
      "2019-10-25 05:15:34,622:qiskit.aqua.algorithms.adaptive.vqe.vqe:INFO: Optimization complete in 120.12980508804321 seconds.\n",
      "Found opt_params [ 1.23136836 -0.39734457 -0.50273251  0.10023807  0.65645053  1.43248174\n",
      "  1.13742736 -0.37711784] in 1000 evals\n"
     ]
    },
    {
     "name": "stdout",
     "output_type": "stream",
     "text": [
      "energy: -1.4951825844295117\n",
      "time: 120.12980508804321\n",
      "max-cut objective: -3.9951825844295117\n",
      "solution: [0. 1. 0. 1.]\n",
      "solution objective: 4.0\n"
     ]
    },
    {
     "data": {
      "image/png": "[encoded data removed]",
      "text/plain": [
       "<Figure size 432x288 with 1 Axes>"
      ]
     },
     "metadata": {
      "needs_background": "light"
     },
     "output_type": "display_data"
    }
   ],
   "source": [
    "qaoa = QAOA(qubitOp, COBYLA(), p=4)\n",
    "result = qaoa.run(quantum_instance)\n",
    "\n",
    "x = max_cut.sample_most_likely(result['eigvecs'][0])\n",
    "print('energy:', result['energy'])\n",
    "print('time:', result['eval_time'])\n",
    "print('max-cut objective:', result['energy'] + offset)\n",
    "print('solution:', max_cut.get_graph_solution(x))\n",
    "print('solution objective:', max_cut.max_cut_value(x, w))\n",
    "\n",
    "colors = ['r' if max_cut.get_graph_solution(x)[i] == 0 else 'b' for i in range(n)]\n",
    "nx.draw_networkx(G, node_color=colors, node_size=600, alpha = .8, pos=pos)"
   ]
  },
  {
   "cell_type": "markdown",
   "metadata": {
    "slideshow": {
     "slide_type": "slide"
    }
   },
   "source": [
    "# Other Neat Stuff\n",
    "\n",
    "Aqua has many core algorithms, including:\n",
    "* VQE\n",
    "* QAOA\n",
    "* QPE/iterativeQPE\n",
    "* Hamiltonian Evolution\n",
    "* Quantum-Kernel SVM\n",
    "* Variational SVM\n",
    "* Grover’s"
   ]
  },
  {
   "cell_type": "markdown",
   "metadata": {
    "slideshow": {
     "slide_type": "slide"
    }
   },
   "source": [
    "# Example: Quantum ML with Support Vector Machines\n",
    "\n",
    "Q-Kernel SVM: We use a standard classical SVM with a “quantum kernel.” The kernel is an nxn matrix (n is the number of training samples), where matrix element m, p is generated by running short variational circuits of the form ⟨variational _form(m)|variational_form(p)⟩ for every point m, p in the training set. Note that a single point m is a list of features. This kernel extends the reach of the feature space beyond what we believe is possible classically.\n",
    "\n",
    "Q-Variational SVM: To train, we input a sample as the initial state of a short variational circuit, with parameters, and read the result (mod 2) to find the circuit’s classification. We optimize the parameters of the variational circuit classically to improve the model’s classification accuracy.\n",
    "Warning: the variational svm can be very slow to converge.\n",
    "\n",
    "Task below: attempt to fit a very nonlinear function, f(x,y) = x*y\n"
   ]
  },
  {
   "cell_type": "code",
   "execution_count": 78,
   "metadata": {
    "ExecuteTime": {
     "end_time": "2019-10-24T20:20:29.899811Z",
     "start_time": "2019-10-24T20:20:29.875177Z"
    },
    "slideshow": {
     "slide_type": "fragment"
    }
   },
   "outputs": [],
   "source": [
    "from qiskit.aqua.utils import split_dataset_to_data_and_labels, map_label_to_class_name\n",
    "from qiskit.aqua.algorithms import QSVM, VQC\n",
    "from qiskit.aqua.components.feature_maps import SecondOrderExpansion\n",
    "import time\n",
    "from sklearn import svm\n",
    "\n",
    "import matplotlib as mpl\n",
    "from mpl_toolkits.mplot3d import Axes3D\n",
    "import matplotlib.pyplot as plt\n",
    "from matplotlib import cm\n",
    "from matplotlib.ticker import MaxNLocator"
   ]
  },
  {
   "cell_type": "markdown",
   "metadata": {
    "slideshow": {
     "slide_type": "slide"
    }
   },
   "source": [
    "Let's start by creating and visalizing our sample data."
   ]
  },
  {
   "cell_type": "code",
   "execution_count": 76,
   "metadata": {
    "ExecuteTime": {
     "end_time": "2019-10-24T20:18:09.066247Z",
     "start_time": "2019-10-24T20:18:09.054993Z"
    },
    "slideshow": {
     "slide_type": "fragment"
    }
   },
   "outputs": [
    {
     "name": "stdout",
     "output_type": "stream",
     "text": [
      "{'greater': [[0.6207632944768593, 0.48025899511576786], [0.992482171707675, 0.0402329334117828], [0.03250554882845935, 0.12920082421807533], [-0.9931382105652415, -0.5853082458160479], [-0.7376173228742011, -0.8582142796043388], [-0.07196649417798939, -0.6850042312837521], [-0.8020637814261868, -0.563988112037642], [-0.43311746789099836, -0.722039243425967], [-0.5423049336480694, -0.5510084058043556], [-0.6963575659903531, -0.6531667132865038], [-0.20300395593001563, -0.7600903078362906], [0.6989771203173036, 0.10872773726340945], [-0.10473768228405556, -0.8029266223830094], [0.3654353911265593, 0.052442991902163616], [0.8894845641841898, 0.7911683182595919], [0.8555118042267236, 0.7149307259432236], [0.2848566194584188, 0.2275486899296737], [-0.3192135996421239, -0.20163640954443762], [-0.3652450181077216, -0.1102427163938915], [-0.9495774356041689, -0.5221056436995304], [0.5789678782971515, 0.1732300671700746], [0.97824641024125, 0.001616668412687039], [-0.5493635950505471, -0.8318480828400121], [0.34549794189566807, 0.3407130747270255], [-0.6325391838108143, -0.7906493359218298], [-0.015875446831181694, -0.6738299625762398]], 'less': [[0.7467568278771701, -0.9767064687161986], [0.5237235273878711, -0.7876003335949071], [0.25342746121635673, -0.005142884286462035], [-0.5517500927300067, 0.01229998572265778], [-0.3791293491458705, 0.5017444318617543], [-0.915292123680149, 0.26019110111078736], [0.23433124720148713, -0.7431697231407237], [-0.771380139101882, 0.07354327254236681], [-0.3535009075138542, 0.6383122680519808], [-0.17975592385231964, 0.24255316226470636], [0.6936526047859122, -0.9879850225364659], [-0.28491273237991144, 0.7596032206114691], [-0.6132932209851569, 0.3882102126552762], [0.683671936505218, -0.24308719820781044], [0.4797991164032829, -0.7327776043087346], [-0.4540075935823349, 0.2772699647171264], [-0.712222495948325, 0.1218250436357462], [-0.7919488549528992, 0.13908908217266536], [-0.36679735464205154, 0.12038553225757753], [-0.032408151518813266, 0.31623180034208853], [0.3063624832444165, -0.5939472575929097], [-0.12028149014563527, 0.49629356312108497], [-0.541552676245078, 0.9155381651065755], [-0.10297171183522025, 0.40377946738490755]]}\n",
      "{'greater': [[-0.08430745008321594, -0.6152673274598834], [0.7420034730376084, 0.16698323463790343], [-0.6561641042144479, -0.1472120038475695], [0.7326319072716692, 0.25947913453871285], [0.7221646125130408, 0.7281696128613602], [0.1886949175031689, 0.6853994643645664], [0.7600346454985742, 0.6638083000753772]], 'less': [[0.8053068110769135, -0.5624088435602461], [0.18615772595223068, -0.6710688451886981], [-0.7733545965567836, 0.45925865644511643], [0.5904104014684182, -0.83599415977497], [-0.3068353572621898, 0.6992415785070998], [-0.6646115429068677, 0.29745029001787127], [0.2927175356453364, -0.17167263489093632], [0.15644842585497165, -0.46830375905013], [0.9105850005107272, -0.17513803068821354], [-0.8089382971054067, 0.2020644484114975], [-0.9928314216585448, 0.9925867821872605], [0.4988434667369932, -0.33504802169364356], [-0.6807660278276966, 0.5539095997626353]]}\n"
     ]
    }
   ],
   "source": [
    "train_size = 50\n",
    "test_size = 20\n",
    "\n",
    "x_trn = (np.random.random(train_size)*2)-1\n",
    "y_trn = (np.random.random(train_size)*2)-1\n",
    "greater = [[x,y] for x,y in zip(x_trn,y_trn) if x*y >=0]\n",
    "less = [[x,y] for x,y in zip(x_trn,y_trn) if x*y < 0]\n",
    "training_data = {\"greater\": greater, \"less\":less}\n",
    "print(training_data)\n",
    "\n",
    "x_tst = (np.random.random(test_size)*2)-1\n",
    "y_tst = (np.random.random(test_size)*2)-1\n",
    "greater = [[x,y] for x,y in zip(x_tst,y_tst) if x*y >=0]\n",
    "less = [[x,y] for x,y in zip(x_tst,y_tst) if x*y < 0]\n",
    "test_data = {\"greater\": greater, \"less\":less}\n",
    "print(test_data)"
   ]
  },
  {
   "cell_type": "code",
   "execution_count": 77,
   "metadata": {
    "ExecuteTime": {
     "end_time": "2019-10-24T20:18:10.892476Z",
     "start_time": "2019-10-24T20:18:10.522095Z"
    },
    "slideshow": {
     "slide_type": "slide"
    }
   },
   "outputs": [
    {
     "data": {
      "image/png": "[encoded data removed]",
      "text/plain": [
       "<Figure size 432x288 with 2 Axes>"
      ]
     },
     "metadata": {
      "needs_background": "light"
     },
     "output_type": "display_data"
    }
   ],
   "source": [
    "mpl.rcParams['legend.fontsize'] = 10\n",
    "fig = plt.figure()\n",
    "ax = fig.gca(projection='3d')\n",
    "\n",
    "ax = fig.add_subplot(111, projection='3d')\n",
    "surf = ax.plot_trisurf(x_trn, y_trn, x_trn*y_trn, cmap=cm.jet, linewidth=0) #Jet4Ever\n",
    "ax.xaxis.set_major_locator(MaxNLocator(5))\n",
    "ax.yaxis.set_major_locator(MaxNLocator(6))\n",
    "ax.zaxis.set_major_locator(MaxNLocator(5))\n",
    "\n",
    "fig.tight_layout()\n",
    "\n",
    "plt.show()"
   ]
  },
  {
   "cell_type": "markdown",
   "metadata": {
    "slideshow": {
     "slide_type": "slide"
    }
   },
   "source": [
    "Let's define a function to fit the data with the quantum kernel svm, and test it. This will take a while, maybe 20-30 minutes. It scales with O(n^2)."
   ]
  },
  {
   "cell_type": "code",
   "execution_count": 86,
   "metadata": {
    "ExecuteTime": {
     "end_time": "2019-10-24T20:26:30.974103Z",
     "start_time": "2019-10-24T20:26:26.758861Z"
    },
    "slideshow": {
     "slide_type": "fragment"
    }
   },
   "outputs": [
    {
     "name": "stderr",
     "output_type": "stream",
     "text": [
      "2019-10-25 05:26:26,764:qiskit.aqua.components.feature_maps.pauli_expansion:INFO: Pauli terms include: ['IZ', 'ZI', 'ZZ']\n"
     ]
    },
    {
     "name": "stdout",
     "output_type": "stream",
     "text": [
      "test accuracy: 70.0%\n"
     ]
    }
   ],
   "source": [
    "feature_map = SecondOrderExpansion(feature_dimension=2, depth=2, entanglement='linear')\n",
    "qsvm = QSVM(feature_map, training_data, test_data)\n",
    "result = qsvm.run(quantum_instance)\n",
    "print(\"test accuracy: {}%\".format(result['testing_accuracy']*100))"
   ]
  },
  {
   "cell_type": "markdown",
   "metadata": {
    "slideshow": {
     "slide_type": "slide"
    }
   },
   "source": [
    "# We get a bunch of other great stuff back in the result object:"
   ]
  },
  {
   "cell_type": "code",
   "execution_count": 84,
   "metadata": {
    "ExecuteTime": {
     "end_time": "2019-10-24T20:24:42.486410Z",
     "start_time": "2019-10-24T20:24:42.476444Z"
    }
   },
   "outputs": [
    {
     "data": {
      "text/plain": [
       "{'kernel_matrix_training': array([[1.        , 0.37322235, 0.46318156, ..., 0.04001994, 0.37439791,\n",
       "         0.22603333],\n",
       "        [0.37322235, 1.        , 0.25715282, ..., 0.01477777, 0.49915587,\n",
       "         0.16123368],\n",
       "        [0.46318156, 0.25715282, 1.        , ..., 0.45535174, 0.13577369,\n",
       "         0.71527164],\n",
       "        ...,\n",
       "        [0.04001994, 0.01477777, 0.45535174, ..., 1.        , 0.26193717,\n",
       "         0.87278351],\n",
       "        [0.37439791, 0.49915587, 0.13577369, ..., 0.26193717, 1.        ,\n",
       "         0.11850011],\n",
       "        [0.22603333, 0.16123368, 0.71527164, ..., 0.87278351, 0.11850011,\n",
       "         1.        ]]),\n",
       " 'svm': {'alphas': array([122.00753155, 772.82481574,  93.48277401, 478.47113017,\n",
       "          77.79485906, 404.01623188,  24.54002572, 366.01413679,\n",
       "         464.26528796, 106.37025148, 298.52175349, 312.56528485,\n",
       "          45.5193674 , 114.33522141, 265.54607811]),\n",
       "  'bias': array([0.76828346]),\n",
       "  'support_vectors': array([[ 0.99248217,  0.04023293],\n",
       "         [ 0.03250555,  0.12920082],\n",
       "         [-0.10473768, -0.80292662],\n",
       "         [ 0.36543539,  0.05244299],\n",
       "         [-0.3192136 , -0.20163641],\n",
       "         [-0.5493636 , -0.83184808],\n",
       "         [-0.01587545, -0.67382996],\n",
       "         [ 0.25342746, -0.00514288],\n",
       "         [-0.37912935,  0.50174443],\n",
       "         [ 0.23433125, -0.74316972],\n",
       "         [-0.17975592,  0.24255316],\n",
       "         [-0.28491273,  0.75960322],\n",
       "         [ 0.68367194, -0.2430872 ],\n",
       "         [-0.36679735,  0.12038553],\n",
       "         [-0.03240815,  0.3162318 ]]),\n",
       "  'yin': array([-1., -1., -1., -1., -1., -1., -1.,  1.,  1.,  1.,  1.,  1.,  1.,\n",
       "          1.,  1.])},\n",
       " 'kernel_matrix_testing': array([[3.97451822e-01, 5.71637601e-01, 5.85877119e-01, 1.34503698e-01,\n",
       "         5.03097556e-01, 6.29432762e-01, 9.66909462e-01, 4.27191603e-01,\n",
       "         7.79487088e-01, 1.58537792e-01, 7.36473474e-01, 2.19253270e-01,\n",
       "         2.11943042e-02, 4.63797263e-02, 3.38160414e-01],\n",
       "        [6.01108431e-01, 2.65055951e-01, 2.45901228e-01, 4.05814174e-02,\n",
       "         4.43642110e-01, 7.86549488e-01, 8.57444765e-01, 1.03353367e-01,\n",
       "         6.15062549e-01, 4.36669292e-01, 4.32837938e-01, 3.70143512e-01,\n",
       "         4.73058480e-02, 2.88985841e-01, 1.26514846e-01],\n",
       "        [5.61343114e-01, 5.80833252e-01, 4.36242840e-01, 1.15641616e-01,\n",
       "         4.03099911e-01, 4.56588673e-01, 2.14683045e-01, 4.77244237e-01,\n",
       "         6.43426529e-01, 3.76393871e-01, 4.72334763e-01, 1.01404878e-01,\n",
       "         5.10456942e-02, 1.99337572e-02, 4.93200629e-01],\n",
       "        [6.76075751e-01, 3.61549491e-01, 2.93127113e-01, 2.14221270e-02,\n",
       "         4.53644425e-01, 8.89866602e-01, 7.72052198e-01, 1.47558897e-01,\n",
       "         7.57629731e-01, 4.98944737e-01, 4.94267905e-01, 3.69280114e-01,\n",
       "         4.24766788e-02, 2.16301216e-01, 2.15287104e-01],\n",
       "        [2.17452289e-01, 2.98104510e-01, 4.76413849e-01, 2.27370953e-02,\n",
       "         6.05801338e-01, 8.22890808e-01, 4.12283584e-01, 1.75807679e-01,\n",
       "         5.97302310e-01, 4.41237215e-01, 4.04597076e-01, 3.85347585e-01,\n",
       "         2.08356295e-01, 1.67908259e-01, 1.19652397e-01],\n",
       "        [2.08904921e-01, 1.53039301e-01, 1.48556140e-01, 4.24888805e-02,\n",
       "         6.67152155e-01, 3.40641097e-01, 8.71414755e-02, 1.27524309e-01,\n",
       "         1.77748056e-01, 5.64937368e-01, 1.67476697e-01, 2.17579305e-01,\n",
       "         2.76969812e-01, 2.51750421e-01, 7.31831056e-02],\n",
       "        [2.54616848e-01, 3.13398369e-01, 4.54323526e-01, 2.85194242e-02,\n",
       "         5.69649357e-01, 8.31897713e-01, 3.94626808e-01, 1.84429800e-01,\n",
       "         6.12793450e-01, 4.66870258e-01, 4.09746029e-01, 3.84559535e-01,\n",
       "         1.92472786e-01, 1.71270531e-01, 1.36573358e-01],\n",
       "        [7.06556367e-02, 2.94094878e-01, 2.17237424e-02, 4.93039808e-01,\n",
       "         1.62468299e-01, 1.71299194e-04, 1.55765954e-01, 4.06910509e-01,\n",
       "         1.50701388e-01, 1.60553406e-01, 1.15625461e-01, 3.16612595e-01,\n",
       "         5.45953372e-01, 6.52035409e-02, 4.65788020e-01],\n",
       "        [5.66019530e-01, 4.10452247e-02, 4.27235931e-03, 2.86661075e-01,\n",
       "         4.78830719e-01, 5.51455419e-01, 1.87167545e-01, 1.22646446e-02,\n",
       "         1.86449307e-01, 9.80067936e-01, 5.25585744e-02, 6.34400132e-01,\n",
       "         4.60285924e-01, 4.24530494e-01, 7.24952595e-02],\n",
       "        [1.29634930e-02, 1.60454326e-01, 8.63930897e-02, 6.36469814e-03,\n",
       "         2.60167120e-01, 2.65142919e-01, 1.83484890e-01, 5.88311996e-02,\n",
       "         1.54889974e-01, 6.40188568e-02, 1.62959215e-01, 1.02115673e-01,\n",
       "         5.25354209e-02, 7.02468499e-01, 5.63462024e-02],\n",
       "        [1.27764278e-01, 1.68355784e-01, 1.78924315e-01, 4.64483975e-02,\n",
       "         5.79540801e-02, 9.48637027e-03, 9.06097261e-02, 7.25794105e-02,\n",
       "         6.46355754e-03, 1.42609475e-01, 2.64822981e-01, 1.38700551e-01,\n",
       "         2.09678616e-01, 3.60959909e-01, 5.19767395e-02],\n",
       "        [1.07833957e-01, 2.11659475e-01, 3.48631719e-03, 7.24703105e-01,\n",
       "         2.27101038e-01, 1.73270762e-01, 9.13677154e-02, 4.17475406e-01,\n",
       "         2.13365465e-02, 3.52930119e-01, 4.23929407e-02, 7.82957258e-01,\n",
       "         8.53537667e-01, 7.87247066e-02, 4.46072421e-01],\n",
       "        [8.79012120e-02, 6.05908493e-02, 1.30057033e-01, 1.09551548e-01,\n",
       "         5.05275219e-01, 6.54093626e-01, 3.73977235e-01, 2.46071697e-03,\n",
       "         2.51032788e-01, 2.75604475e-01, 1.25510571e-01, 4.37911132e-01,\n",
       "         2.26700108e-01, 7.01024071e-01, 1.03387402e-02],\n",
       "        [1.55946394e-01, 8.49434588e-01, 4.86789491e-01, 2.73910844e-01,\n",
       "         3.48637423e-01, 2.06550005e-01, 2.83313744e-01, 8.05750745e-01,\n",
       "         5.64562360e-01, 1.42023273e-01, 6.88641520e-01, 1.39915506e-02,\n",
       "         5.00805230e-02, 1.22868074e-01, 6.18854930e-01],\n",
       "        [4.56663740e-02, 3.33204868e-02, 8.11293212e-03, 2.37204511e-01,\n",
       "         5.32999309e-01, 2.34805559e-01, 6.28859518e-02, 6.84361677e-03,\n",
       "         1.75553738e-02, 2.91443182e-01, 1.33415970e-01, 2.81205855e-01,\n",
       "         2.94219720e-01, 7.09825708e-01, 5.40262531e-02],\n",
       "        [2.55097964e-01, 1.35018333e-01, 3.27864301e-01, 1.18713058e-01,\n",
       "         3.70894605e-01, 2.65003542e-01, 6.97280838e-01, 1.85315845e-01,\n",
       "         2.95599480e-01, 1.23917647e-01, 1.99159354e-01, 8.06996698e-02,\n",
       "         3.66670517e-03, 2.91696110e-01, 9.82771889e-02],\n",
       "        [1.58581477e-02, 1.04619476e-01, 1.83551034e-01, 7.50589724e-02,\n",
       "         3.48443038e-01, 3.96378121e-02, 1.59306199e-01, 1.36034800e-01,\n",
       "         7.62856243e-03, 1.07176904e-01, 2.10683391e-01, 1.09940040e-01,\n",
       "         2.94479285e-01, 1.07865407e-01, 8.47077596e-02],\n",
       "        [9.73109168e-02, 2.05910703e-01, 4.21067822e-02, 1.47467649e-02,\n",
       "         3.42054895e-01, 1.47865928e-01, 3.82594415e-01, 1.10821036e-01,\n",
       "         1.71727219e-01, 3.92676329e-02, 2.79127234e-01, 1.70036098e-03,\n",
       "         1.28476838e-02, 5.27058543e-01, 7.46584436e-02],\n",
       "        [3.25462094e-02, 6.87341295e-01, 5.63364721e-01, 3.43475726e-01,\n",
       "         4.98204291e-01, 2.30647846e-01, 3.80451319e-01, 8.10443384e-01,\n",
       "         5.94352275e-01, 4.27688088e-02, 4.95159251e-01, 1.04278913e-02,\n",
       "         3.29427636e-02, 1.25954535e-03, 6.04588023e-01],\n",
       "        [3.08602071e-01, 2.61804256e-01, 4.26297825e-01, 1.33057463e-02,\n",
       "         1.60637297e-01, 2.96073183e-01, 2.83610669e-01, 9.30564172e-02,\n",
       "         2.11000999e-01, 2.84121796e-01, 5.17862553e-01, 3.06279852e-01,\n",
       "         2.31300426e-01, 1.43533095e-01, 2.79686556e-02]]),\n",
       " 'testing_accuracy': 0.7,\n",
       " 'test_success_ratio': 0.7}"
      ]
     },
     "execution_count": 84,
     "metadata": {},
     "output_type": "execute_result"
    }
   ],
   "source": [
    "result"
   ]
  },
  {
   "cell_type": "markdown",
   "metadata": {
    "slideshow": {
     "slide_type": "slide"
    }
   },
   "source": [
    "Now let's try swapping it out for the Variational SVM. This will probably take closer to 10 minutes."
   ]
  },
  {
   "cell_type": "code",
   "execution_count": 96,
   "metadata": {
    "ExecuteTime": {
     "end_time": "2019-10-24T20:38:47.372855Z",
     "start_time": "2019-10-24T20:31:22.354015Z"
    },
    "slideshow": {
     "slide_type": "fragment"
    }
   },
   "outputs": [
    {
     "name": "stderr",
     "output_type": "stream",
     "text": [
      "2019-10-25 05:31:22,359:qiskit.aqua.algorithms.adaptive.vq_algorithm:INFO: Starting optimizer.\n",
      "bounds=[(-3.141592653589793, 3.141592653589793), (-3.141592653589793, 3.141592653589793), (-3.141592653589793, 3.141592653589793), (-3.141592653589793, 3.141592653589793), (-3.141592653589793, 3.141592653589793), (-3.141592653589793, 3.141592653589793), (-3.141592653589793, 3.141592653589793), (-3.141592653589793, 3.141592653589793)]\n",
      "initial point=[-1.58510546  0.80789829 -0.00773955  0.32623268 -0.61057368  2.2107385\n",
      "  0.31549583 -1.0674794 ]\n",
      "2019-10-25 05:38:46,336:qiskit.aqua.algorithms.adaptive.vqc.vqc:INFO: Optimization complete in 443.97705125808716 seconds.\n",
      "Found opt_params [-1.63800166  1.10237984 -0.20020115  1.58692384 -1.56104876  2.47435979\n",
      "  1.62424457 -0.03293275] in 159 evals\n",
      "2019-10-25 05:38:47,369:qiskit.aqua.algorithms.adaptive.vqc.vqc:INFO: Accuracy is 80.00%\n"
     ]
    },
    {
     "name": "stdout",
     "output_type": "stream",
     "text": [
      "test accuracy: 80.0%\n"
     ]
    }
   ],
   "source": [
    "vqc = VQC(optimizer=COBYLA(), \n",
    "          feature_map=feature_map,\n",
    "          var_form=RY(2, depth=3),\n",
    "          training_dataset=training_data, \n",
    "          test_dataset=test_data,\n",
    "          max_evals_grouped=100\n",
    "         )\n",
    "result = vqc.run(quantum_instance)\n",
    "print(\"test accuracy: {}%\".format(result['testing_accuracy']*100))"
   ]
  },
  {
   "cell_type": "markdown",
   "metadata": {
    "slideshow": {
     "slide_type": "slide"
    }
   },
   "source": [
    "And for good measure, let's score these against a popular set of classical SVM kernels:"
   ]
  },
  {
   "cell_type": "code",
   "execution_count": 97,
   "metadata": {
    "ExecuteTime": {
     "end_time": "2019-10-24T20:48:08.743199Z",
     "start_time": "2019-10-24T20:48:08.737671Z"
    },
    "slideshow": {
     "slide_type": "fragment"
    }
   },
   "outputs": [],
   "source": [
    "def classical_svm_score(samples_tr, labels_tr, samples_te, labels_te, kernel='linear'):\n",
    "    model = svm.SVC(kernel=kernel, gamma='auto')\n",
    "    model.fit(samples_tr, labels_tr)\n",
    "    return model.score(samples_te, labels_te)"
   ]
  },
  {
   "cell_type": "code",
   "execution_count": 98,
   "metadata": {
    "ExecuteTime": {
     "end_time": "2019-10-24T20:48:10.551058Z",
     "start_time": "2019-10-24T20:48:10.524841Z"
    },
    "slideshow": {
     "slide_type": "fragment"
    }
   },
   "outputs": [
    {
     "name": "stdout",
     "output_type": "stream",
     "text": [
      "{'rbf': 0.65, 'linear': 0.45, 'poly': 0.35, 'sigmoid': 0.55}\n"
     ]
    }
   ],
   "source": [
    "samples_train = list(zip(x_trn, y_trn))\n",
    "samples_test = list(zip(x_tst, y_tst))\n",
    "labels_train = [x*y>=0 for [x,y] in samples_train]\n",
    "labels_test = [x*y>0 for [x,y] in samples_test]\n",
    "\n",
    "perf = {'rbf':[], 'linear':[], 'poly':[], 'sigmoid':[]}\n",
    "for key in perf:\n",
    "    perf[key] = classical_svm_score(samples_train, \n",
    "                                        labels_train, \n",
    "                                        samples_test, \n",
    "                                        labels_test, \n",
    "                                        kernel=key)\n",
    "print(perf)"
   ]
  },
  {
   "cell_type": "markdown",
   "metadata": {
    "slideshow": {
     "slide_type": "slide"
    }
   },
   "source": [
    "# Part IV: Qiskit Chemistry"
   ]
  },
  {
   "cell_type": "markdown",
   "metadata": {
    "slideshow": {
     "slide_type": "slide"
    }
   },
   "source": [
    "# Qiskit Chemistry is a Convenient Wrapper Around Aqua and Popular Chemistry Drivers\n",
    "\n",
    "* Qiskit Chemistry is an even more practitioner-centric tool, specifically for Chemists\n",
    "* It includes two other component buckets that are not in Aqua: Chemistry drivers, and mappings (Jordan-Wigner, Bravyi-Kitaev, parity, etc.)\n",
    "* The interfaces look very similar to Aqua - instantiation with a dictionary, or a standalone UI, etc.\n",
    "* The core service of Qiskit Chemistry is to prepare all of the required calculations for the hamiltonian and other important observables before attempting to do Chemistry simulation or eigendecomposition in Aqua\n",
    "\n",
    "\n",
    "This tutorial is based on [this notebook](https://github.com/Qiskit/qiskit-iqx-tutorials/blob/master/qiskit/advanced/aqua/chemistry/programmatic_approach.ipynb) by Richard Chen, Antonio Mezzacapo, Marco Pistoia, and Stephen Wood."
   ]
  },
  {
   "cell_type": "code",
   "execution_count": null,
   "metadata": {
    "slideshow": {
     "slide_type": "fragment"
    }
   },
   "outputs": [],
   "source": [
    "#!pip install qiskit\n",
    "#!pip install pyscf"
   ]
  },
  {
   "cell_type": "code",
   "execution_count": 100,
   "metadata": {
    "ExecuteTime": {
     "end_time": "2019-10-24T21:16:52.903347Z",
     "start_time": "2019-10-24T21:16:48.480861Z"
    },
    "slideshow": {
     "slide_type": "fragment"
    }
   },
   "outputs": [],
   "source": [
    "import numpy as np\n",
    "import pylab\n",
    "\n",
    "# import common packages\n",
    "import numpy as np\n",
    "\n",
    "from qiskit import Aer\n",
    "\n",
    "# lib from Qiskit Aqua\n",
    "from qiskit.aqua import QuantumInstance\n",
    "from qiskit.aqua.algorithms import VQE, ExactEigensolver\n",
    "from qiskit.aqua.operators import Z2Symmetries\n",
    "from qiskit.aqua.components.optimizers import COBYLA\n",
    "\n",
    "# lib from Qiskit Aqua Chemistry\n",
    "from qiskit.chemistry import FermionicOperator\n",
    "from qiskit.chemistry.drivers import PySCFDriver, UnitsType\n",
    "from qiskit.chemistry.aqua_extensions.components.variational_forms import UCCSD\n",
    "from qiskit.chemistry.aqua_extensions.components.initial_states import HartreeFock"
   ]
  },
  {
   "cell_type": "markdown",
   "metadata": {
    "slideshow": {
     "slide_type": "slide"
    }
   },
   "source": [
    "# Most Important Thing to Grasp - the Execution Flow:\n",
    "\n",
    "* Qiskit Chemistry discovers components and reads config dictionaries\n",
    "* Most fancy Chemistry package features are allowed, like orbital removal, qubit tapering, core freezing, etc.\n",
    "* Calls Chemistry Drivers to calculate single and double excitation integrals\n",
    "* Uses mapping to create a hamiltonian circuit out of operators for each excitation\n",
    "* Calls VQE in Aqua to find eigenstates of the hamiltonian (e.g. ground state energy)\n",
    "  * Also passes aux_ops (auxiliary operators) for Aqua to calculate at the end: spin, particle number, dipole moment, etc.\n",
    "* Aqua creates an “evaluate_energy” function which: \n",
    "  * Takes in a scalar parameter list, creates a variational form (UCCSD, RyRz, Swap-Rz, your own, etc.) parameterized by the list\n",
    "  * Executes the variational circuit + the hamiltonian circuit (or does math in the background to simulate the result quickly without sending the full circuit to the simulator)\n",
    "  * Returns the resulting energy of the system\n",
    "* Aqua instantiates an optimizer, and passes the energy function as the cost function to minimize\n",
    "  * Use COBYLA if running on statevector simulator, SPSA if running on shot-based (qasm) because it performs well in the presence of noise\n",
    "* The optimizer minimizes the energy, and returns the optimal parameters when complete\n",
    "* Aqua re-creates the ground state with the optimal params, and calculates and returns the ground state energy and auxiliary operators"
   ]
  },
  {
   "cell_type": "markdown",
   "metadata": {
    "slideshow": {
     "slide_type": "slide"
    }
   },
   "source": [
    "# Let's start with a simple example, NaH:\n",
    "\n",
    "First, we call a classical quantum chemistry driver to get the one and two body excitation integrals."
   ]
  },
  {
   "cell_type": "code",
   "execution_count": 103,
   "metadata": {
    "ExecuteTime": {
     "end_time": "2019-10-24T21:20:09.572829Z",
     "start_time": "2019-10-24T21:20:09.285841Z"
    },
    "scrolled": true
   },
   "outputs": [
    {
     "name": "stdout",
     "output_type": "stream",
     "text": [
      "System: uname_result(system='Darwin', node='Donnys-MacBook-Pro.local', release='18.7.0', version='Darwin Kernel Version 18.7.0: Thu Jun 20 18:42:21 PDT 2019; root:xnu-4903.270.47~4/RELEASE_X86_64', machine='x86_64', processor='i386')  Threads 1\n",
      "Python 3.6.5 |Anaconda, Inc.| (default, Apr 26 2018, 08:42:37) \n",
      "[GCC 4.2.1 Compatible Clang 4.0.1 (tags/RELEASE_401/final)]\n",
      "numpy 1.15.4  scipy 1.1.0\n",
      "Date: Fri Oct 25 06:20:09 2019\n",
      "PySCF version 1.5.4\n",
      "PySCF path  /Users/donny.greenberg@ibm.com/code/Education/lib/python3.6/site-packages/pyscf\n",
      "\n",
      "[CONFIG] conf_file None\n",
      "[INPUT] verbose = 4\n",
      "[INPUT] num. atoms = 2\n",
      "[INPUT] num. electrons = 4\n",
      "[INPUT] charge = 0\n",
      "[INPUT] spin (= nelec alpha-beta = 2S) = 0\n",
      "[INPUT] symmetry False subgroup None\n",
      "[INPUT] Mole.unit = Angstrom\n",
      "[INPUT]  1 Li     0.000000000000   0.000000000000   0.000000000000 AA    0.000000000000   0.000000000000   0.000000000000 Bohr\n",
      "[INPUT]  2 H      0.000000000000   0.000000000000   1.100000000000 AA    0.000000000000   0.000000000000   2.078698737022 Bohr\n",
      "\n",
      "nuclear repulsion = 1.44321057523636\n",
      "number of shells = 4\n",
      "number of NR pGTOs = 18\n",
      "number of NR cGTOs = 6\n",
      "basis = sto3g\n",
      "ecp = {}\n",
      "CPU time:      1589.59\n",
      "\n",
      "\n",
      "******** <class 'pyscf.scf.hf.RHF'> flags ********\n",
      "method = RHF\n",
      "initial guess = minao\n",
      "damping factor = 0\n",
      "level shift factor = 0\n",
      "DIIS = <class 'pyscf.scf.diis.CDIIS'>\n",
      "DIIS start cycle = 1\n",
      "DIIS space = 8\n",
      "SCF tol = 1e-09\n",
      "SCF gradient tol = None\n",
      "max. SCF cycles = 50\n",
      "direct_scf = True\n",
      "direct_scf_tol = 1e-13\n",
      "chkfile to save SCF result = /var/folders/0x/p79hqj7d4_qg6bljclcn431c0000gn/T/tmpn_1ldiny\n",
      "max_memory 4000 MB (current use 0 MB)\n",
      "Set gradient conv threshold to 3.16228e-05\n",
      "init E= -7.64655113418172\n",
      "  HOMO = -0.307143157608984  LUMO = 0.026306034471728\n",
      "cycle= 1 E= -7.80127859652784  delta_E= -0.155  |g|= 0.0934  |ddm|= 1.22\n",
      "  HOMO = -0.308466738799425  LUMO = 0.0802277999839622\n",
      "cycle= 2 E= -7.80745090792348  delta_E= -0.00617  |g|= 0.0245  |ddm|= 0.208\n",
      "  HOMO = -0.320168553435088  LUMO = 0.0786533976567148\n",
      "cycle= 3 E= -7.80850804436296  delta_E= -0.00106  |g|= 0.00936  |ddm|= 0.0819\n",
      "  HOMO = -0.316253032961467  LUMO = 0.0787162159998605\n",
      "cycle= 4 E= -7.80874292541084  delta_E= -0.000235  |g|= 0.0004  |ddm|= 0.0588\n",
      "  HOMO = -0.316158721858775  LUMO = 0.0785518518097819\n",
      "cycle= 5 E= -7.80874316469229  delta_E= -2.39e-07  |g|= 9.56e-05  |ddm|= 0.00238\n",
      "  HOMO = -0.316151153077998  LUMO = 0.0785899270275435\n",
      "cycle= 6 E= -7.80874317649184  delta_E= -1.18e-08  |g|= 9.66e-07  |ddm|= 0.000413\n",
      "  HOMO = -0.316151173036614  LUMO = 0.0785898793644443\n",
      "cycle= 7 E= -7.80874317649335  delta_E= -1.51e-12  |g|= 2.63e-07  |ddm|= 4.32e-06\n",
      "  HOMO = -0.316151118029218  LUMO = 0.0785899790162517\n",
      "Extra cycle  E= -7.80874317649342  delta_E= -6.39e-14  |g|= 6.63e-08  |ddm|= 7.08e-07\n",
      "converged SCF energy = -7.80874317649342\n",
      "\n",
      "**** MO energy ****\n",
      "MO #1   energy= -2.35711580899714  occ= 2\n",
      "MO #2   energy= -0.316151118029218 occ= 2\n",
      "MO #3   energy= 0.0785899790162517 occ= 0\n",
      "MO #4   energy= 0.160010379007542  occ= 0\n",
      "MO #5   energy= 0.160010379007543  occ= 0\n",
      "MO #6   energy= 0.621336446674985  occ= 0\n",
      " ** Mulliken pop on meta-lowdin orthogonal AOs  **\n",
      " ** Mulliken pop  **\n",
      "pop of  0 Li 1s        1.99926\n",
      "pop of  0 Li 2s        0.41273\n",
      "pop of  0 Li 2px       0.00000\n",
      "pop of  0 Li 2py       0.00000\n",
      "pop of  0 Li 2pz       0.15703\n",
      "pop of  1 H 1s        1.43099\n",
      " ** Mulliken atomic charges  **\n",
      "charge of  0Li =      0.43099\n",
      "charge of  1H =     -0.43099\n",
      "Dipole moment(X, Y, Z, Debye):  0.00000,  0.00000, -4.80972\n",
      "\n",
      "\n",
      "--- Alpha Molecular Orbitals ---\n",
      "\n",
      "                 #1          #2          #3          #4          #5         \n",
      " 0 Li 1s       0.9879257  -0.2313839  -0.1978920  -0.0000000   0.0000000\n",
      " 0 Li 2s       0.0233228   0.4001789   0.8242681   0.0000000  -0.0000000\n",
      " 0 Li 2px     -0.0000000  -0.0000000  -0.0000000   0.9012807   0.4332356\n",
      " 0 Li 2py     -0.0000000  -0.0000000   0.0000000  -0.4332356   0.9012807\n",
      " 0 Li 2pz     -0.0140327   0.3687465  -0.5976983  -0.0000000   0.0000000\n",
      "  1 H 1s       0.0296214   0.5434862  -0.1318381  -0.0000000   0.0000000\n",
      "                 #6         \n",
      " 0 Li 1s      -0.0635220\n",
      " 0 Li 2s      -0.9015387\n",
      " 0 Li 2px     -0.0000000\n",
      " 0 Li 2py      0.0000000\n",
      " 0 Li 2pz     -1.1139499\n",
      "  1 H 1s       1.4358551\n"
     ]
    }
   ],
   "source": [
    "driver = PySCFDriver(atom='Li .0 .0 .0; H .0 .0 1.1', unit=UnitsType.ANGSTROM,\n",
    "                     charge=0, spin=0, basis='sto3g')\n",
    "molecule = driver.run()"
   ]
  },
  {
   "cell_type": "markdown",
   "metadata": {
    "slideshow": {
     "slide_type": "slide"
    }
   },
   "source": [
    "# Next, we construct the electronic structure Hamiltonian using the integrals\n",
    "\n",
    "We have to specify a qubit mapping to encode our electronic structure in our binary variables. Here we're using the \"parity\" mapping."
   ]
  },
  {
   "cell_type": "code",
   "execution_count": 109,
   "metadata": {
    "ExecuteTime": {
     "end_time": "2019-10-24T21:22:35.855822Z",
     "start_time": "2019-10-24T21:22:35.832113Z"
    }
   },
   "outputs": [
    {
     "name": "stdout",
     "output_type": "stream",
     "text": [
      "HF energy: -9.251953751729783\n",
      "# of electrons: 4\n",
      "# of spin orbitals: 12\n"
     ]
    }
   ],
   "source": [
    "# If we like, we can specify orbitals to freeze or remove here.\n",
    "freeze_list = [0]\n",
    "remove_list = [-3, -2] # negative number denotes the reverse order\n",
    "map_type = 'parity'\n",
    "\n",
    "h1 = molecule.one_body_integrals\n",
    "h2 = molecule.two_body_integrals\n",
    "nuclear_repulsion_energy = molecule.nuclear_repulsion_energy\n",
    "\n",
    "num_particles = molecule.num_alpha + molecule.num_beta\n",
    "num_spin_orbitals = molecule.num_orbitals * 2\n",
    "print(\"HF energy: {}\".format(molecule.hf_energy - molecule.nuclear_repulsion_energy))\n",
    "print(\"# of electrons: {}\".format(num_particles))\n",
    "print(\"# of spin orbitals: {}\".format(num_spin_orbitals))"
   ]
  },
  {
   "cell_type": "code",
   "execution_count": 110,
   "metadata": {
    "ExecuteTime": {
     "end_time": "2019-10-24T21:22:37.917761Z",
     "start_time": "2019-10-24T21:22:36.786963Z"
    },
    "scrolled": true
   },
   "outputs": [
    {
     "name": "stderr",
     "output_type": "stream",
     "text": [
      "|██████████████████████████████████████████████████| 18/18 [00:00:00:00]\n",
      "|██████████████████████████████████████████████████| 324/324 [00:00:00:00]\n"
     ]
    },
    {
     "name": "stdout",
     "output_type": "stream",
     "text": [
      "IIII\t(-0.21737866310949602+0j)\n",
      "IIIZ\t(-0.08439854126694982+0j)\n",
      "IIZX\t(-0.0009404146897616082+0j)\n",
      "IIIX\t(0.0009404146897616082+0j)\n",
      "IIXX\t(0.002141686287666407+0j)\n",
      "IIYY\t(-0.002141686287666407+0j)\n",
      "IIZZ\t(-0.20530828544545388+0j)\n",
      "IIXZ\t(0.021107333603250275+0j)\n",
      "IIXI\t(0.021107333603250275+0j)\n",
      "IIZI\t(0.3951922323383774+0j)\n",
      "IZII\t(0.08439854126694976+0j)\n",
      "ZXII\t(0.0009404146897616108+0j)\n",
      "IXII\t(0.0009404146897616108+0j)\n",
      "XXII\t(0.0021416862876664105+0j)\n",
      "YYII\t(-0.0021416862876664105+0j)\n",
      "ZZII\t(-0.20530828544545376+0j)\n",
      "XZII\t(-0.02110733360325028+0j)\n",
      "XIII\t(0.02110733360325028+0j)\n",
      "ZIII\t(-0.3951922323383774+0j)\n",
      "IZIZ\t(-0.13014781508798345+0j)\n",
      "IZZX\t(0.010175022571734523+0j)\n",
      "IZIX\t(-0.010175022571734523+0j)\n",
      "IZXX\t(0.03899949866977677+0j)\n",
      "IZYY\t(-0.03899949866977677+0j)\n",
      "IXIZ\t(0.010175022571734523+0j)\n",
      "ZXIZ\t(0.010175022571734523+0j)\n",
      "IXZX\t(-0.002442323717283872+0j)\n",
      "ZXZX\t(-0.002442323717283872+0j)\n",
      "IXIX\t(0.002442323717283872+0j)\n",
      "ZXIX\t(0.002442323717283872+0j)\n",
      "IXXX\t(-0.007488359225976959+0j)\n",
      "ZXXX\t(-0.007488359225976959+0j)\n",
      "IXYY\t(0.007488359225976959+0j)\n",
      "ZXYY\t(0.007488359225976959+0j)\n",
      "YYIZ\t(0.03899949866977677+0j)\n",
      "XXIZ\t(-0.03899949866977677+0j)\n",
      "YYZX\t(-0.007488359225976959+0j)\n",
      "XXZX\t(0.007488359225976959+0j)\n",
      "YYIX\t(0.007488359225976959+0j)\n",
      "XXIX\t(-0.007488359225976959+0j)\n",
      "YYXX\t(-0.030510577371459145+0j)\n",
      "XXXX\t(0.030510577371459145+0j)\n",
      "YYYY\t(0.030510577371459145+0j)\n",
      "XXYY\t(-0.030510577371459145+0j)\n",
      "ZZIZ\t(0.06050769876862812+0j)\n",
      "ZZZX\t(0.00010057510493386496+0j)\n",
      "ZZIX\t(-0.00010057510493386496+0j)\n",
      "ZZXX\t(-0.0022944232785278365+0j)\n",
      "ZZYY\t(0.0022944232785278365+0j)\n",
      "XIIZ\t(0.012388270683521605+0j)\n",
      "XZIZ\t(-0.012388270683521605+0j)\n",
      "XIZX\t(-0.0013674708011035038+0j)\n",
      "XZZX\t(0.0013674708011035038+0j)\n",
      "XIIX\t(0.0013674708011035038+0j)\n",
      "XZIX\t(-0.0013674708011035038+0j)\n",
      "XIXX\t(-0.007320629331294968+0j)\n",
      "XZXX\t(0.007320629331294968+0j)\n",
      "XIYY\t(0.007320629331294968+0j)\n",
      "XZYY\t(-0.007320629331294968+0j)\n",
      "ZIIZ\t(0.11521015257399006+0j)\n",
      "ZIZX\t(-0.009335166524418844+0j)\n",
      "ZIIX\t(0.009335166524418844+0j)\n",
      "ZIXX\t(-0.038846760021063236+0j)\n",
      "ZIYY\t(0.038846760021063236+0j)\n",
      "IZZZ\t(-0.06050769876862812+0j)\n",
      "IZXZ\t(-0.012388270683521602+0j)\n",
      "IZXI\t(-0.012388270683521602+0j)\n",
      "IXZZ\t(-0.00010057510493386499+0j)\n",
      "ZXZZ\t(-0.00010057510493386499+0j)\n",
      "IXXZ\t(0.0013674708011035036+0j)\n",
      "ZXXZ\t(0.0013674708011035036+0j)\n",
      "IXXI\t(0.0013674708011035036+0j)\n",
      "ZXXI\t(0.0013674708011035036+0j)\n",
      "YYZZ\t(0.0022944232785278365+0j)\n",
      "XXZZ\t(-0.0022944232785278365+0j)\n",
      "YYXZ\t(0.0073206293312949675+0j)\n",
      "XXXZ\t(-0.0073206293312949675+0j)\n",
      "YYXI\t(0.0073206293312949675+0j)\n",
      "XXXI\t(-0.0073206293312949675+0j)\n",
      "ZZZZ\t(0.08491841645655993+0j)\n",
      "ZZXZ\t(-0.00908975950656049+0j)\n",
      "ZZXI\t(-0.00908975950656049+0j)\n",
      "XIZZ\t(-0.00908975950656049+0j)\n",
      "XZZZ\t(0.00908975950656049+0j)\n",
      "XIXZ\t(0.006690100814065506+0j)\n",
      "XZXZ\t(-0.006690100814065506+0j)\n",
      "XIXI\t(0.006690100814065506+0j)\n",
      "XZXI\t(-0.006690100814065506+0j)\n",
      "ZIZZ\t(0.06082924013706827+0j)\n",
      "ZIXZ\t(0.010170523112025556+0j)\n",
      "ZIXI\t(0.010170523112025556+0j)\n",
      "IZZI\t(0.11521015257399006+0j)\n",
      "IXZI\t(-0.009335166524418844+0j)\n",
      "ZXZI\t(-0.009335166524418844+0j)\n",
      "YYZI\t(-0.038846760021063236+0j)\n",
      "XXZI\t(0.038846760021063236+0j)\n",
      "ZZZI\t(-0.06082924013706827+0j)\n",
      "XIZI\t(-0.010170523112025555+0j)\n",
      "XZZI\t(0.010170523112025555+0j)\n",
      "ZIZI\t(-0.11140000839963027+0j)\n",
      "\n",
      "Representation: paulis, qubits: 4, size: 100\n"
     ]
    }
   ],
   "source": [
    "# prepare full idx of freeze_list and remove_list\n",
    "# convert all negative idx to positive\n",
    "remove_list = [x % molecule.num_orbitals for x in remove_list]\n",
    "freeze_list = [x % molecule.num_orbitals for x in freeze_list]\n",
    "# update the idx in remove_list of the idx after frozen, since the idx of orbitals are changed after freezing\n",
    "remove_list = [x - len(freeze_list) for x in remove_list]\n",
    "remove_list += [x + molecule.num_orbitals - len(freeze_list)  for x in remove_list]\n",
    "freeze_list += [x + molecule.num_orbitals for x in freeze_list]\n",
    "\n",
    "# prepare fermionic hamiltonian with orbital freezing and eliminating, and then map to qubit hamiltonian\n",
    "# and if PARITY mapping is selected, reduction qubits\n",
    "energy_shift = 0.0\n",
    "qubit_reduction = True if map_type == 'parity' else False\n",
    "\n",
    "ferOp = FermionicOperator(h1=h1, h2=h2)\n",
    "if len(freeze_list) > 0:\n",
    "    ferOp, energy_shift = ferOp.fermion_mode_freezing(freeze_list)\n",
    "    num_spin_orbitals -= len(freeze_list)\n",
    "    num_particles -= len(freeze_list)\n",
    "if len(remove_list) > 0:\n",
    "    ferOp = ferOp.fermion_mode_elimination(remove_list)\n",
    "    num_spin_orbitals -= len(remove_list)\n",
    "\n",
    "qubitOp = ferOp.mapping(map_type=map_type, threshold=0.00000001)\n",
    "qubitOp = Z2Symmetries.two_qubit_reduction(qubitOp, num_particles) if qubit_reduction else qubitOp\n",
    "qubitOp.chop(10**-10)\n",
    "\n",
    "print(qubitOp.print_details())\n",
    "print(qubitOp)"
   ]
  },
  {
   "cell_type": "markdown",
   "metadata": {},
   "source": [
    "# Let's Try Exactly Diagonalizing the Hamiltonian to See the Correct GSE\n",
    "\n",
    "Note that we add back the other energy components (Nuclear, frozen) to the energy found in the Hamiltonian."
   ]
  },
  {
   "cell_type": "code",
   "execution_count": 111,
   "metadata": {
    "ExecuteTime": {
     "end_time": "2019-10-24T21:27:56.718245Z",
     "start_time": "2019-10-24T21:27:56.666618Z"
    }
   },
   "outputs": [
    {
     "name": "stdout",
     "output_type": "stream",
     "text": [
      "The computed energy is: -1.167749698480\n",
      "The total ground state energy is: -7.823599276363\n"
     ]
    }
   ],
   "source": [
    "# Using exact eigensolver to get the smallest eigenvalue\n",
    "exact_eigensolver = ExactEigensolver(qubitOp, k=1)\n",
    "ret = exact_eigensolver.run()\n",
    "print('The computed energy is: {:.12f}'.format(ret['eigvals'][0].real))\n",
    "print('The total ground state energy is: {:.12f}'.format(ret['eigvals'][0].real + energy_shift + nuclear_repulsion_energy))"
   ]
  },
  {
   "cell_type": "markdown",
   "metadata": {
    "slideshow": {
     "slide_type": "slide"
    }
   },
   "source": [
    "# Finally, we can use a Quantum algorithm to find the Ground State Wavefunction Circuit\n",
    "\n",
    "* We'll use the UCCSD variational form, originally proposed in the VQE paper. \n",
    "* We'll also use the Hartree Fock state as the initial state of our calculation. \n",
    "    * This is done by appending a rotating circuit to the beginning of the ansatz, rather than manipulating the ansatz parameters directly."
   ]
  },
  {
   "cell_type": "code",
   "execution_count": 115,
   "metadata": {
    "ExecuteTime": {
     "end_time": "2019-10-24T21:33:37.237227Z",
     "start_time": "2019-10-24T21:33:37.119198Z"
    },
    "scrolled": true
   },
   "outputs": [
    {
     "name": "stderr",
     "output_type": "stream",
     "text": [
      "|██████████████████████████████████████████████████| 2/2 [00:00:00:00]\n",
      "|██████████████████████████████████████████████████| 2/2 [00:00:00:00]\n",
      "|██████████████████████████████████████████████████| 2/2 [00:00:00:00]\n",
      "|██████████████████████████████████████████████████| 2/2 [00:00:00:00]\n",
      "|██████████████████████████████████████████████████| 2/2 [00:00:00:00]\n",
      "|██████████████████████████████████████████████████| 2/2 [00:00:00:00]\n",
      "|██████████████████████████████████████████████████| 2/2 [00:00:00:00]\n",
      "|██████████████████████████████████████████████████| 2/2 [00:00:00:00]\n",
      "2019-10-25 06:33:37,235:qiskit.aqua.algorithms.adaptive.vqe.vqe:INFO: \n",
      "==================== Setting of VQE ============================\n",
      "Algorithm: VQE\n",
      "-- quantum_instance: None\n",
      "-- var_form: <qiskit.chemistry.aqua_extensions.components.variational_forms.uccsd.UCCSD object at 0x111c298d0>\n",
      "-- optimizer: <qiskit.aqua.components.optimizers.cobyla.COBYLA object at 0x111c29898>\n",
      "-- cost_fn: <bound method VQE._energy_evaluation of <qiskit.aqua.algorithms.adaptive.vqe.vqe.VQE object at 0x11bc72278>>\n",
      "-- initial_point: [0. 0. 0. 0. 0. 0. 0. 0.]\n",
      "-- callback: None\n",
      "-- operator: Representation: paulis, qubits: 4, size: 100\n",
      "-- eval_count: 0\n",
      "-- aux_operators: []\n",
      "-- auto_conversion: True\n",
      "===============================================================\n",
      "Variational Form: UCCSD\n",
      "-- num_parameters: 8\n",
      "-- num_qubits: 4\n",
      "-- bounds: [(-3.141592653589793, 3.141592653589793), (-3.141592653589793, 3.141592653589793), (-3.141592653589793, 3.141592653589793), (-3.141592653589793, 3.141592653589793), (-3.141592653589793, 3.141592653589793), (-3.141592653589793, 3.141592653589793), (-3.141592653589793, 3.141592653589793), (-3.141592653589793, 3.141592653589793)]\n",
      "-- z2_symmetries: Z2 symmetries:\n",
      "Symmetries:\n",
      "Single-Qubit Pauli X:\n",
      "Cliffords:\n",
      "Qubit index:\n",
      "[]\n",
      "Tapering values:\n",
      "[]\n",
      "-- depth: 1\n",
      "-- num_orbitals: 6\n",
      "-- num_alpha: 1\n",
      "-- num_beta: 1\n",
      "-- num_particles: [1, 1]\n",
      "-- initial_state: <qiskit.chemistry.aqua_extensions.components.initial_states.hartree_fock.HartreeFock object at 0x111c29f60>\n",
      "-- qubit_mapping: parity\n",
      "-- two_qubit_reduction: True\n",
      "-- num_time_slices: 1\n",
      "-- shallow_circuit_concat: True\n",
      "-- single_excitations: [[0, 1], [0, 2], [3, 4], [3, 5]]\n",
      "-- double_excitations: [[0, 1, 3, 4], [0, 1, 3, 5], [0, 2, 3, 4], [0, 2, 3, 5]]\n",
      "-- hopping_ops: [<qiskit.aqua.operators.weighted_pauli_operator.WeightedPauliOperator object at 0x11cdc8828>, <qiskit.aqua.operators.weighted_pauli_operator.WeightedPauliOperator object at 0x11cb2cb38>, <qiskit.aqua.operators.weighted_pauli_operator.WeightedPauliOperator object at 0x11cdc8278>, <qiskit.aqua.operators.weighted_pauli_operator.WeightedPauliOperator object at 0x11cba23c8>, <qiskit.aqua.operators.weighted_pauli_operator.WeightedPauliOperator object at 0x111c29780>, <qiskit.aqua.operators.weighted_pauli_operator.WeightedPauliOperator object at 0x11ba40198>, <qiskit.aqua.operators.weighted_pauli_operator.WeightedPauliOperator object at 0x11cb64f28>, <qiskit.aqua.operators.weighted_pauli_operator.WeightedPauliOperator object at 0x11cb643c8>]\n",
      "-- logging_construct_circuit: True\n",
      "===============================================================\n",
      "Optimizer: COBYLA\n",
      "-- gradient_support_level: 1\n",
      "-- bounds_support_level: 1\n",
      "-- initial_point_support_level: 3\n",
      "-- options: {'rhobeg': 1.0, 'disp': False, 'maxiter': 200}\n",
      "-- max_evals_grouped: 1\n",
      "-- tol: None\n",
      "===============================================================\n",
      "\n"
     ]
    }
   ],
   "source": [
    "# setup HartreeFock state\n",
    "HF_state = HartreeFock(qubitOp.num_qubits, \n",
    "                       num_spin_orbitals, \n",
    "                       num_particles, \n",
    "                       map_type, \n",
    "                       qubit_reduction)\n",
    "\n",
    "# setup UCCSD variational form\n",
    "var_form = UCCSD(qubitOp.num_qubits, \n",
    "                 depth=1, \n",
    "                 num_orbitals=num_spin_orbitals, \n",
    "                 num_particles=num_particles, \n",
    "                 active_occupied=[0], active_unoccupied=[0, 1],\n",
    "                 initial_state=HF_state, qubit_mapping=map_type, \n",
    "                 two_qubit_reduction=qubit_reduction, num_time_slices=1)\n",
    "\n",
    "# setup VQE\n",
    "vqe = VQE(qubitOp, var_form, COBYLA(maxiter=200))"
   ]
  },
  {
   "cell_type": "code",
   "execution_count": 116,
   "metadata": {
    "ExecuteTime": {
     "end_time": "2019-10-24T21:35:17.677388Z",
     "start_time": "2019-10-24T21:34:05.684841Z"
    },
    "scrolled": true,
    "slideshow": {
     "slide_type": "slide"
    }
   },
   "outputs": [
    {
     "name": "stderr",
     "output_type": "stream",
     "text": [
      "2019-10-25 06:34:05,686:qiskit.aqua.algorithms.adaptive.vqe.vqe:INFO: When running with non-Aer statevector simulator, represent operator as a matrix could achieve the better performance. We convert the operator to matrix.\n",
      "2019-10-25 06:34:05,720:qiskit.aqua.algorithms.adaptive.vq_algorithm:INFO: Starting optimizer.\n",
      "bounds=[(-3.141592653589793, 3.141592653589793), (-3.141592653589793, 3.141592653589793), (-3.141592653589793, 3.141592653589793), (-3.141592653589793, 3.141592653589793), (-3.141592653589793, 3.141592653589793), (-3.141592653589793, 3.141592653589793), (-3.141592653589793, 3.141592653589793), (-3.141592653589793, 3.141592653589793)]\n",
      "initial point=[0. 0. 0. 0. 0. 0. 0. 0.]\n",
      "|██████████████████████████████████████████████████| 8/8 [00:00:00:00]\n",
      "2019-10-25 06:34:06,125:qiskit.aqua.algorithms.adaptive.vqe.vqe:INFO: Energy evaluation 1 returned -1.1528935986101854\n",
      "2019-10-25 06:34:06,494:qiskit.aqua.algorithms.adaptive.vqe.vqe:INFO: Energy evaluation 2 returned -1.0378461107606145\n",
      "2019-10-25 06:34:06,858:qiskit.aqua.algorithms.adaptive.vqe.vqe:INFO: Energy evaluation 3 returned -0.7289776428526398\n",
      "2019-10-25 06:34:07,223:qiskit.aqua.algorithms.adaptive.vqe.vqe:INFO: Energy evaluation 4 returned -1.0378461107606145\n",
      "2019-10-25 06:34:07,767:qiskit.aqua.algorithms.adaptive.vqe.vqe:INFO: Energy evaluation 5 returned -0.7289776428526401\n",
      "2019-10-25 06:34:08,178:qiskit.aqua.algorithms.adaptive.vqe.vqe:INFO: Energy evaluation 6 returned -0.6475357862393659\n",
      "2019-10-25 06:34:08,575:qiskit.aqua.algorithms.adaptive.vqe.vqe:INFO: Energy evaluation 7 returned -0.5979481645680714\n",
      "2019-10-25 06:34:08,985:qiskit.aqua.algorithms.adaptive.vqe.vqe:INFO: Energy evaluation 8 returned -0.5979481645680714\n",
      "2019-10-25 06:34:09,396:qiskit.aqua.algorithms.adaptive.vqe.vqe:INFO: Energy evaluation 9 returned -0.16257253535509789\n",
      "2019-10-25 06:34:09,845:qiskit.aqua.algorithms.adaptive.vqe.vqe:INFO: Energy evaluation 10 returned -0.6490023054594661\n",
      "2019-10-25 06:34:10,500:qiskit.aqua.algorithms.adaptive.vqe.vqe:INFO: Energy evaluation 11 returned -0.9880592597523182\n",
      "2019-10-25 06:34:10,957:qiskit.aqua.algorithms.adaptive.vqe.vqe:INFO: Energy evaluation 12 returned -1.1230221177530102\n",
      "2019-10-25 06:34:11,316:qiskit.aqua.algorithms.adaptive.vqe.vqe:INFO: Energy evaluation 13 returned -1.1506407398435219\n",
      "2019-10-25 06:34:11,782:qiskit.aqua.algorithms.adaptive.vqe.vqe:INFO: Energy evaluation 14 returned -1.1421559613161718\n",
      "2019-10-25 06:34:12,201:qiskit.aqua.algorithms.adaptive.vqe.vqe:INFO: Energy evaluation 15 returned -1.1445776769698952\n",
      "2019-10-25 06:34:12,844:qiskit.aqua.algorithms.adaptive.vqe.vqe:INFO: Energy evaluation 16 returned -1.1207588515039375\n",
      "2019-10-25 06:34:13,373:qiskit.aqua.algorithms.adaptive.vqe.vqe:INFO: Energy evaluation 17 returned -1.1405658758576758\n",
      "2019-10-25 06:34:13,839:qiskit.aqua.algorithms.adaptive.vqe.vqe:INFO: Energy evaluation 18 returned -1.1423052312349147\n",
      "2019-10-25 06:34:14,309:qiskit.aqua.algorithms.adaptive.vqe.vqe:INFO: Energy evaluation 19 returned -1.0336207588166253\n",
      "2019-10-25 06:34:14,985:qiskit.aqua.algorithms.adaptive.vqe.vqe:INFO: Energy evaluation 20 returned -1.1532951925163137\n",
      "2019-10-25 06:34:15,492:qiskit.aqua.algorithms.adaptive.vqe.vqe:INFO: Energy evaluation 21 returned -1.1440518412019443\n",
      "2019-10-25 06:34:15,986:qiskit.aqua.algorithms.adaptive.vqe.vqe:INFO: Energy evaluation 22 returned -1.1529587279003002\n",
      "2019-10-25 06:34:16,463:qiskit.aqua.algorithms.adaptive.vqe.vqe:INFO: Energy evaluation 23 returned -1.1519985722434987\n",
      "2019-10-25 06:34:16,951:qiskit.aqua.algorithms.adaptive.vqe.vqe:INFO: Energy evaluation 24 returned -1.1483089578889523\n",
      "2019-10-25 06:34:17,593:qiskit.aqua.algorithms.adaptive.vqe.vqe:INFO: Energy evaluation 25 returned -1.1591725452912256\n",
      "2019-10-25 06:34:18,084:qiskit.aqua.algorithms.adaptive.vqe.vqe:INFO: Energy evaluation 26 returned -1.1599081203569184\n",
      "2019-10-25 06:34:18,550:qiskit.aqua.algorithms.adaptive.vqe.vqe:INFO: Energy evaluation 27 returned -1.1598140548465552\n",
      "2019-10-25 06:34:19,051:qiskit.aqua.algorithms.adaptive.vqe.vqe:INFO: Energy evaluation 28 returned -1.1597595930639941\n",
      "2019-10-25 06:34:19,521:qiskit.aqua.algorithms.adaptive.vqe.vqe:INFO: Energy evaluation 29 returned -1.1546059240931537\n",
      "2019-10-25 06:34:20,175:qiskit.aqua.algorithms.adaptive.vqe.vqe:INFO: Energy evaluation 30 returned -1.1626570227652866\n",
      "2019-10-25 06:34:20,668:qiskit.aqua.algorithms.adaptive.vqe.vqe:INFO: Energy evaluation 31 returned -1.1642362346739221\n",
      "2019-10-25 06:34:21,167:qiskit.aqua.algorithms.adaptive.vqe.vqe:INFO: Energy evaluation 32 returned -1.1581227135461676\n",
      "2019-10-25 06:34:21,610:qiskit.aqua.algorithms.adaptive.vqe.vqe:INFO: Energy evaluation 33 returned -1.1632045449812658\n",
      "2019-10-25 06:34:22,039:qiskit.aqua.algorithms.adaptive.vqe.vqe:INFO: Energy evaluation 34 returned -1.1639200299282961\n",
      "2019-10-25 06:34:22,648:qiskit.aqua.algorithms.adaptive.vqe.vqe:INFO: Energy evaluation 35 returned -1.1616077072761817\n",
      "2019-10-25 06:34:23,084:qiskit.aqua.algorithms.adaptive.vqe.vqe:INFO: Energy evaluation 36 returned -1.1618596716153358\n",
      "2019-10-25 06:34:23,518:qiskit.aqua.algorithms.adaptive.vqe.vqe:INFO: Energy evaluation 37 returned -1.1631804386378781\n",
      "2019-10-25 06:34:23,964:qiskit.aqua.algorithms.adaptive.vqe.vqe:INFO: Energy evaluation 38 returned -1.1645057976209652\n",
      "2019-10-25 06:34:24,575:qiskit.aqua.algorithms.adaptive.vqe.vqe:INFO: Energy evaluation 39 returned -1.1634221353727732\n",
      "2019-10-25 06:34:25,022:qiskit.aqua.algorithms.adaptive.vqe.vqe:INFO: Energy evaluation 40 returned -1.1657630236752692\n",
      "2019-10-25 06:34:25,484:qiskit.aqua.algorithms.adaptive.vqe.vqe:INFO: Energy evaluation 41 returned -1.1656344809069246\n",
      "2019-10-25 06:34:25,950:qiskit.aqua.algorithms.adaptive.vqe.vqe:INFO: Energy evaluation 42 returned -1.1671024368603213\n",
      "2019-10-25 06:34:26,420:qiskit.aqua.algorithms.adaptive.vqe.vqe:INFO: Energy evaluation 43 returned -1.167247074520122\n",
      "2019-10-25 06:34:27,032:qiskit.aqua.algorithms.adaptive.vqe.vqe:INFO: Energy evaluation 44 returned -1.1669982169043518\n",
      "2019-10-25 06:34:27,508:qiskit.aqua.algorithms.adaptive.vqe.vqe:INFO: Energy evaluation 45 returned -1.167376319195724\n",
      "2019-10-25 06:34:27,954:qiskit.aqua.algorithms.adaptive.vqe.vqe:INFO: Energy evaluation 46 returned -1.1674600612325603\n",
      "2019-10-25 06:34:28,441:qiskit.aqua.algorithms.adaptive.vqe.vqe:INFO: Energy evaluation 47 returned -1.1663175117273263\n",
      "2019-10-25 06:34:28,910:qiskit.aqua.algorithms.adaptive.vqe.vqe:INFO: Energy evaluation 48 returned -1.1670541256423244\n",
      "2019-10-25 06:34:29,562:qiskit.aqua.algorithms.adaptive.vqe.vqe:INFO: Energy evaluation 49 returned -1.1670448711582617\n",
      "2019-10-25 06:34:30,085:qiskit.aqua.algorithms.adaptive.vqe.vqe:INFO: Energy evaluation 50 returned -1.1673616645173548\n",
      "2019-10-25 06:34:30,598:qiskit.aqua.algorithms.adaptive.vqe.vqe:INFO: Energy evaluation 51 returned -1.1671677869005743\n",
      "2019-10-25 06:34:31,074:qiskit.aqua.algorithms.adaptive.vqe.vqe:INFO: Energy evaluation 52 returned -1.167293963378983\n",
      "2019-10-25 06:34:31,709:qiskit.aqua.algorithms.adaptive.vqe.vqe:INFO: Energy evaluation 53 returned -1.167360547173333\n",
      "2019-10-25 06:34:32,178:qiskit.aqua.algorithms.adaptive.vqe.vqe:INFO: Energy evaluation 54 returned -1.1676501399550818\n",
      "2019-10-25 06:34:32,657:qiskit.aqua.algorithms.adaptive.vqe.vqe:INFO: Energy evaluation 55 returned -1.167585292088729\n",
      "2019-10-25 06:34:33,134:qiskit.aqua.algorithms.adaptive.vqe.vqe:INFO: Energy evaluation 56 returned -1.167654152544001\n",
      "2019-10-25 06:34:33,595:qiskit.aqua.algorithms.adaptive.vqe.vqe:INFO: Energy evaluation 57 returned -1.1676991716154723\n",
      "2019-10-25 06:34:34,267:qiskit.aqua.algorithms.adaptive.vqe.vqe:INFO: Energy evaluation 58 returned -1.167660149792253\n",
      "2019-10-25 06:34:34,762:qiskit.aqua.algorithms.adaptive.vqe.vqe:INFO: Energy evaluation 59 returned -1.1676848333392444\n",
      "2019-10-25 06:34:35,240:qiskit.aqua.algorithms.adaptive.vqe.vqe:INFO: Energy evaluation 60 returned -1.1676057910787419\n",
      "2019-10-25 06:34:35,703:qiskit.aqua.algorithms.adaptive.vqe.vqe:INFO: Energy evaluation 61 returned -1.1677121749052346\n",
      "2019-10-25 06:34:36,182:qiskit.aqua.algorithms.adaptive.vqe.vqe:INFO: Energy evaluation 62 returned -1.1677312736237686\n",
      "2019-10-25 06:34:36,846:qiskit.aqua.algorithms.adaptive.vqe.vqe:INFO: Energy evaluation 63 returned -1.1677064704833189\n"
     ]
    },
    {
     "name": "stderr",
     "output_type": "stream",
     "text": [
      "2019-10-25 06:34:37,324:qiskit.aqua.algorithms.adaptive.vqe.vqe:INFO: Energy evaluation 64 returned -1.1677230347041572\n",
      "2019-10-25 06:34:37,818:qiskit.aqua.algorithms.adaptive.vqe.vqe:INFO: Energy evaluation 65 returned -1.1677175456307878\n",
      "2019-10-25 06:34:38,287:qiskit.aqua.algorithms.adaptive.vqe.vqe:INFO: Energy evaluation 66 returned -1.1677281306540748\n",
      "2019-10-25 06:34:38,973:qiskit.aqua.algorithms.adaptive.vqe.vqe:INFO: Energy evaluation 67 returned -1.1677279447067124\n",
      "2019-10-25 06:34:39,464:qiskit.aqua.algorithms.adaptive.vqe.vqe:INFO: Energy evaluation 68 returned -1.1677333457152566\n",
      "2019-10-25 06:34:39,945:qiskit.aqua.algorithms.adaptive.vqe.vqe:INFO: Energy evaluation 69 returned -1.1677111248110934\n",
      "2019-10-25 06:34:40,415:qiskit.aqua.algorithms.adaptive.vqe.vqe:INFO: Energy evaluation 70 returned -1.1677307152976053\n",
      "2019-10-25 06:34:40,893:qiskit.aqua.algorithms.adaptive.vqe.vqe:INFO: Energy evaluation 71 returned -1.167737685085648\n",
      "2019-10-25 06:34:41,535:qiskit.aqua.algorithms.adaptive.vqe.vqe:INFO: Energy evaluation 72 returned -1.1677407592238087\n",
      "2019-10-25 06:34:41,996:qiskit.aqua.algorithms.adaptive.vqe.vqe:INFO: Energy evaluation 73 returned -1.1677435982367135\n",
      "2019-10-25 06:34:42,469:qiskit.aqua.algorithms.adaptive.vqe.vqe:INFO: Energy evaluation 74 returned -1.1677445535978215\n",
      "2019-10-25 06:34:42,949:qiskit.aqua.algorithms.adaptive.vqe.vqe:INFO: Energy evaluation 75 returned -1.1677422246805589\n",
      "2019-10-25 06:34:43,388:qiskit.aqua.algorithms.adaptive.vqe.vqe:INFO: Energy evaluation 76 returned -1.1677452557785617\n",
      "2019-10-25 06:34:44,043:qiskit.aqua.algorithms.adaptive.vqe.vqe:INFO: Energy evaluation 77 returned -1.16774271596583\n",
      "2019-10-25 06:34:44,533:qiskit.aqua.algorithms.adaptive.vqe.vqe:INFO: Energy evaluation 78 returned -1.1677431631907782\n",
      "2019-10-25 06:34:45,021:qiskit.aqua.algorithms.adaptive.vqe.vqe:INFO: Energy evaluation 79 returned -1.1677431105992655\n",
      "2019-10-25 06:34:45,476:qiskit.aqua.algorithms.adaptive.vqe.vqe:INFO: Energy evaluation 80 returned -1.1677450841871875\n",
      "2019-10-25 06:34:45,925:qiskit.aqua.algorithms.adaptive.vqe.vqe:INFO: Energy evaluation 81 returned -1.167746766695611\n",
      "2019-10-25 06:34:46,549:qiskit.aqua.algorithms.adaptive.vqe.vqe:INFO: Energy evaluation 82 returned -1.1677474371743823\n",
      "2019-10-25 06:34:47,040:qiskit.aqua.algorithms.adaptive.vqe.vqe:INFO: Energy evaluation 83 returned -1.1677476753806488\n",
      "2019-10-25 06:34:47,518:qiskit.aqua.algorithms.adaptive.vqe.vqe:INFO: Energy evaluation 84 returned -1.16774688204187\n",
      "2019-10-25 06:34:47,981:qiskit.aqua.algorithms.adaptive.vqe.vqe:INFO: Energy evaluation 85 returned -1.1677458244129424\n",
      "2019-10-25 06:34:48,628:qiskit.aqua.algorithms.adaptive.vqe.vqe:INFO: Energy evaluation 86 returned -1.1677476506821163\n",
      "2019-10-25 06:34:49,107:qiskit.aqua.algorithms.adaptive.vqe.vqe:INFO: Energy evaluation 87 returned -1.167748301294286\n",
      "2019-10-25 06:34:49,600:qiskit.aqua.algorithms.adaptive.vqe.vqe:INFO: Energy evaluation 88 returned -1.1677479257806351\n",
      "2019-10-25 06:34:50,081:qiskit.aqua.algorithms.adaptive.vqe.vqe:INFO: Energy evaluation 89 returned -1.1677477963183416\n",
      "2019-10-25 06:34:50,541:qiskit.aqua.algorithms.adaptive.vqe.vqe:INFO: Energy evaluation 90 returned -1.1677476993023592\n",
      "2019-10-25 06:34:51,180:qiskit.aqua.algorithms.adaptive.vqe.vqe:INFO: Energy evaluation 91 returned -1.1677479949840548\n",
      "2019-10-25 06:34:51,637:qiskit.aqua.algorithms.adaptive.vqe.vqe:INFO: Energy evaluation 92 returned -1.1677474888906088\n",
      "2019-10-25 06:34:52,115:qiskit.aqua.algorithms.adaptive.vqe.vqe:INFO: Energy evaluation 93 returned -1.1677484855517837\n",
      "2019-10-25 06:34:52,601:qiskit.aqua.algorithms.adaptive.vqe.vqe:INFO: Energy evaluation 94 returned -1.1677487499637056\n",
      "2019-10-25 06:34:53,093:qiskit.aqua.algorithms.adaptive.vqe.vqe:INFO: Energy evaluation 95 returned -1.1677487787551217\n",
      "2019-10-25 06:34:53,745:qiskit.aqua.algorithms.adaptive.vqe.vqe:INFO: Energy evaluation 96 returned -1.1677490601022382\n",
      "2019-10-25 06:34:54,212:qiskit.aqua.algorithms.adaptive.vqe.vqe:INFO: Energy evaluation 97 returned -1.1677490361425285\n",
      "2019-10-25 06:34:54,709:qiskit.aqua.algorithms.adaptive.vqe.vqe:INFO: Energy evaluation 98 returned -1.167749341383646\n",
      "2019-10-25 06:34:55,165:qiskit.aqua.algorithms.adaptive.vqe.vqe:INFO: Energy evaluation 99 returned -1.1677492643887235\n",
      "2019-10-25 06:34:55,643:qiskit.aqua.algorithms.adaptive.vqe.vqe:INFO: Energy evaluation 100 returned -1.1677494357110636\n",
      "2019-10-25 06:34:56,295:qiskit.aqua.algorithms.adaptive.vqe.vqe:INFO: Energy evaluation 101 returned -1.1677492714522766\n",
      "2019-10-25 06:34:56,751:qiskit.aqua.algorithms.adaptive.vqe.vqe:INFO: Energy evaluation 102 returned -1.1677492934679217\n",
      "2019-10-25 06:34:57,230:qiskit.aqua.algorithms.adaptive.vqe.vqe:INFO: Energy evaluation 103 returned -1.167749446632869\n",
      "2019-10-25 06:34:57,668:qiskit.aqua.algorithms.adaptive.vqe.vqe:INFO: Energy evaluation 104 returned -1.1677494281822305\n",
      "2019-10-25 06:34:58,270:qiskit.aqua.algorithms.adaptive.vqe.vqe:INFO: Energy evaluation 105 returned -1.1677494023857005\n",
      "2019-10-25 06:34:58,757:qiskit.aqua.algorithms.adaptive.vqe.vqe:INFO: Energy evaluation 106 returned -1.16774943370548\n",
      "2019-10-25 06:34:59,224:qiskit.aqua.algorithms.adaptive.vqe.vqe:INFO: Energy evaluation 107 returned -1.1677494169443667\n",
      "2019-10-25 06:34:59,716:qiskit.aqua.algorithms.adaptive.vqe.vqe:INFO: Energy evaluation 108 returned -1.167749482509793\n",
      "2019-10-25 06:35:00,182:qiskit.aqua.algorithms.adaptive.vqe.vqe:INFO: Energy evaluation 109 returned -1.1677494565074593\n",
      "2019-10-25 06:35:00,826:qiskit.aqua.algorithms.adaptive.vqe.vqe:INFO: Energy evaluation 110 returned -1.1677494968457682\n",
      "2019-10-25 06:35:01,287:qiskit.aqua.algorithms.adaptive.vqe.vqe:INFO: Energy evaluation 111 returned -1.1677494998256646\n",
      "2019-10-25 06:35:01,776:qiskit.aqua.algorithms.adaptive.vqe.vqe:INFO: Energy evaluation 112 returned -1.1677494441987668\n",
      "2019-10-25 06:35:02,246:qiskit.aqua.algorithms.adaptive.vqe.vqe:INFO: Energy evaluation 113 returned -1.1677495347387574\n",
      "2019-10-25 06:35:02,697:qiskit.aqua.algorithms.adaptive.vqe.vqe:INFO: Energy evaluation 114 returned -1.167749549477889\n",
      "2019-10-25 06:35:03,304:qiskit.aqua.algorithms.adaptive.vqe.vqe:INFO: Energy evaluation 115 returned -1.16774960553723\n",
      "2019-10-25 06:35:03,738:qiskit.aqua.algorithms.adaptive.vqe.vqe:INFO: Energy evaluation 116 returned -1.1677495631401351\n",
      "2019-10-25 06:35:04,176:qiskit.aqua.algorithms.adaptive.vqe.vqe:INFO: Energy evaluation 117 returned -1.1677495600004837\n",
      "2019-10-25 06:35:04,638:qiskit.aqua.algorithms.adaptive.vqe.vqe:INFO: Energy evaluation 118 returned -1.1677496209811853\n",
      "2019-10-25 06:35:05,083:qiskit.aqua.algorithms.adaptive.vqe.vqe:INFO: Energy evaluation 119 returned -1.1677496023672373\n",
      "2019-10-25 06:35:05,685:qiskit.aqua.algorithms.adaptive.vqe.vqe:INFO: Energy evaluation 120 returned -1.1677496200657569\n",
      "2019-10-25 06:35:06,126:qiskit.aqua.algorithms.adaptive.vqe.vqe:INFO: Energy evaluation 121 returned -1.1677496064660116\n",
      "2019-10-25 06:35:06,565:qiskit.aqua.algorithms.adaptive.vqe.vqe:INFO: Energy evaluation 122 returned -1.1677496371046658\n",
      "2019-10-25 06:35:07,002:qiskit.aqua.algorithms.adaptive.vqe.vqe:INFO: Energy evaluation 123 returned -1.1677496149698943\n",
      "2019-10-25 06:35:07,454:qiskit.aqua.algorithms.adaptive.vqe.vqe:INFO: Energy evaluation 124 returned -1.1677496055473449\n",
      "2019-10-25 06:35:08,091:qiskit.aqua.algorithms.adaptive.vqe.vqe:INFO: Energy evaluation 125 returned -1.167749634022552\n",
      "2019-10-25 06:35:08,530:qiskit.aqua.algorithms.adaptive.vqe.vqe:INFO: Energy evaluation 126 returned -1.1677496175028381\n",
      "2019-10-25 06:35:08,967:qiskit.aqua.algorithms.adaptive.vqe.vqe:INFO: Energy evaluation 127 returned -1.167749632553608\n",
      "2019-10-25 06:35:09,421:qiskit.aqua.algorithms.adaptive.vqe.vqe:INFO: Energy evaluation 128 returned -1.1677496311669184\n",
      "2019-10-25 06:35:10,039:qiskit.aqua.algorithms.adaptive.vqe.vqe:INFO: Energy evaluation 129 returned -1.1677496379306103\n",
      "2019-10-25 06:35:10,471:qiskit.aqua.algorithms.adaptive.vqe.vqe:INFO: Energy evaluation 130 returned -1.1677496445813977\n",
      "2019-10-25 06:35:10,906:qiskit.aqua.algorithms.adaptive.vqe.vqe:INFO: Energy evaluation 131 returned -1.1677496234240152\n",
      "2019-10-25 06:35:11,347:qiskit.aqua.algorithms.adaptive.vqe.vqe:INFO: Energy evaluation 132 returned -1.1677496435365937\n"
     ]
    },
    {
     "name": "stderr",
     "output_type": "stream",
     "text": [
      "2019-10-25 06:35:11,782:qiskit.aqua.algorithms.adaptive.vqe.vqe:INFO: Energy evaluation 133 returned -1.1677496605830229\n",
      "2019-10-25 06:35:12,390:qiskit.aqua.algorithms.adaptive.vqe.vqe:INFO: Energy evaluation 134 returned -1.1677496686166666\n",
      "2019-10-25 06:35:12,820:qiskit.aqua.algorithms.adaptive.vqe.vqe:INFO: Energy evaluation 135 returned -1.1677496503826879\n",
      "2019-10-25 06:35:13,264:qiskit.aqua.algorithms.adaptive.vqe.vqe:INFO: Energy evaluation 136 returned -1.1677496659748592\n",
      "2019-10-25 06:35:13,721:qiskit.aqua.algorithms.adaptive.vqe.vqe:INFO: Energy evaluation 137 returned -1.1677496695193539\n",
      "2019-10-25 06:35:14,173:qiskit.aqua.algorithms.adaptive.vqe.vqe:INFO: Energy evaluation 138 returned -1.1677496634593987\n",
      "2019-10-25 06:35:14,785:qiskit.aqua.algorithms.adaptive.vqe.vqe:INFO: Energy evaluation 139 returned -1.1677496793773046\n",
      "2019-10-25 06:35:15,231:qiskit.aqua.algorithms.adaptive.vqe.vqe:INFO: Energy evaluation 140 returned -1.1677496807117287\n",
      "2019-10-25 06:35:15,662:qiskit.aqua.algorithms.adaptive.vqe.vqe:INFO: Energy evaluation 141 returned -1.167749687251623\n",
      "2019-10-25 06:35:16,095:qiskit.aqua.algorithms.adaptive.vqe.vqe:INFO: Energy evaluation 142 returned -1.167749677677385\n",
      "2019-10-25 06:35:16,696:qiskit.aqua.algorithms.adaptive.vqe.vqe:INFO: Energy evaluation 143 returned -1.1677496886389214\n",
      "2019-10-25 06:35:17,134:qiskit.aqua.algorithms.adaptive.vqe.vqe:INFO: Energy evaluation 144 returned -1.1677496833873442\n",
      "2019-10-25 06:35:17,135:qiskit.aqua.algorithms.adaptive.vqe.vqe:INFO: Optimization complete in 71.41569876670837 seconds.\n",
      "Found opt_params [ 0.02434977  0.0021029   0.0246514   0.0020708  -0.02662184  0.04482796\n",
      "  0.04486171 -0.09713722] in 144 evals\n"
     ]
    },
    {
     "name": "stdout",
     "output_type": "stream",
     "text": [
      "The computed ground state energy is: -1.167749683387\n",
      "The total ground state energy is: -7.823599261271\n",
      "Parameters: [ 0.02434977  0.0021029   0.0246514   0.0020708  -0.02662184  0.04482796\n",
      "  0.04486171 -0.09713722]\n"
     ]
    }
   ],
   "source": [
    "results = vqe.run(quantum_instance)\n",
    "print('The computed ground state energy is: {:.12f}'.format(results['eigvals'][0]))\n",
    "print('The total ground state energy is: {:.12f}'.format(results['eigvals'][0] + energy_shift + nuclear_repulsion_energy))\n",
    "print(\"Parameters: {}\".format(results['opt_params']))"
   ]
  },
  {
   "cell_type": "markdown",
   "metadata": {
    "slideshow": {
     "slide_type": "slide"
    }
   },
   "source": [
    "The error relative to exact diagonalization is:"
   ]
  },
  {
   "cell_type": "code",
   "execution_count": 118,
   "metadata": {
    "ExecuteTime": {
     "end_time": "2019-10-24T21:42:16.866287Z",
     "start_time": "2019-10-24T21:42:16.855960Z"
    }
   },
   "outputs": [
    {
     "data": {
      "text/plain": [
       "-1.5092234573188534e-08"
      ]
     },
     "execution_count": 118,
     "metadata": {},
     "output_type": "execute_result"
    }
   ],
   "source": [
    "ret['eigvals'][0].real - results['eigvals'][0]"
   ]
  },
  {
   "cell_type": "markdown",
   "metadata": {},
   "source": [
    "Chemical accuracy is $10^{-3}$!"
   ]
  },
  {
   "cell_type": "markdown",
   "metadata": {
    "slideshow": {
     "slide_type": "slide"
    }
   },
   "source": [
    "Other stuff we get with the results:"
   ]
  },
  {
   "cell_type": "code",
   "execution_count": 117,
   "metadata": {
    "ExecuteTime": {
     "end_time": "2019-10-24T21:35:17.700653Z",
     "start_time": "2019-10-24T21:35:17.695116Z"
    },
    "scrolled": false
   },
   "outputs": [
    {
     "data": {
      "text/plain": [
       "{'num_optimizer_evals': 144,\n",
       " 'min_val': -1.1677496833873442,\n",
       " 'opt_params': array([ 0.02434977,  0.0021029 ,  0.0246514 ,  0.0020708 , -0.02662184,\n",
       "         0.04482796,  0.04486171, -0.09713722]),\n",
       " 'eval_time': 71.41569876670837,\n",
       " 'eval_count': 144,\n",
       " 'energy': -1.1677496833873442,\n",
       " 'eigvals': array([-1.16774968]),\n",
       " 'min_vector': array([ 4.59929699e-06-0.00210163j,  0.00000000e+00+0.j        ,\n",
       "         5.32664059e-05-0.02433986j,  2.17168597e-03-0.99234278j,\n",
       "         9.80661863e-05-0.04481093j,  0.00000000e+00+0.j        ,\n",
       "        -5.69052542e-05+0.02600262j,  5.39264907e-05-0.02464148j,\n",
       "         0.00000000e+00+0.j        ,  0.00000000e+00+0.j        ,\n",
       "         0.00000000e+00+0.j        ,  0.00000000e+00+0.j        ,\n",
       "        -2.11607977e-04+0.09669338j,  0.00000000e+00+0.j        ,\n",
       "         9.80881080e-05-0.04482095j,  4.52907482e-06-0.00206954j]),\n",
       " 'eigvecs': array([[ 4.59929699e-06-0.00210163j,  0.00000000e+00+0.j        ,\n",
       "          5.32664059e-05-0.02433986j,  2.17168597e-03-0.99234278j,\n",
       "          9.80661863e-05-0.04481093j,  0.00000000e+00+0.j        ,\n",
       "         -5.69052542e-05+0.02600262j,  5.39264907e-05-0.02464148j,\n",
       "          0.00000000e+00+0.j        ,  0.00000000e+00+0.j        ,\n",
       "          0.00000000e+00+0.j        ,  0.00000000e+00+0.j        ,\n",
       "         -2.11607977e-04+0.09669338j,  0.00000000e+00+0.j        ,\n",
       "          9.80881080e-05-0.04482095j,  4.52907482e-06-0.00206954j]])}"
      ]
     },
     "execution_count": 117,
     "metadata": {},
     "output_type": "execute_result"
    }
   ],
   "source": [
    "results"
   ]
  },
  {
   "cell_type": "markdown",
   "metadata": {
    "slideshow": {
     "slide_type": "slide"
    }
   },
   "source": [
    "# Let's take a Look at Our Optimal Circuit"
   ]
  },
  {
   "cell_type": "code",
   "execution_count": 127,
   "metadata": {
    "ExecuteTime": {
     "end_time": "2019-10-24T21:45:06.223098Z",
     "start_time": "2019-10-24T21:45:05.960029Z"
    },
    "scrolled": true
   },
   "outputs": [
    {
     "data": {
      "text/html": [
       "<pre style=\"word-wrap: normal;white-space: pre;background: #fff0;line-height: 1.1;font-family: &quot;Courier New&quot;,Courier,monospace\">        ┌─────────────┐┌─────────────────────┐                         ┌──────────────────────┐┌─────────────────────┐┌──────────────┐┌──────────────────────┐ ░ ┌─────────────────────┐                            ┌──────────────────────┐      ┌──────────┐                                       ┌──────────┐       ░                                                                                                                                          ░                                                                                                                                                      ░       ┌──────────┐                                                 ┌──────────┐      ┌─────────────────────┐                                             ┌──────────────────────┐┌─────────────────────┐                                                       ┌──────────────────────┐┌──────────┐                                  ┌──────────┐            ┌──────────┐                                                                       ┌──────────┐┌─────────────────────┐                           ┌──────────────────────┐┌─────────────────────┐                                     ┌──────────────────────┐      ┌──────────┐                                                             ┌──────────┐ ░       ┌──────────┐                                                      ┌──────────┐      ┌─────────────────────┐                                                                                     ┌──────────────────────┐┌─────────────────────┐                                                                       ┌──────────────────────┐┌──────────┐                                                       ┌──────────┐      ┌──────────┐                                                                                    ┌──────────┐     ┌─────────────────────┐                                                       ┌──────────────────────┐┌─────────────────────┐                                            ┌──────────────────────┐┌──────────┐                                                                         ┌──────────┐ ░ ┌─────────────────────┐                                                                  ┌──────────────────────┐┌─────────────────────┐                                            ┌──────────────────────┐┌─────────────────────┐                                                      ┌──────────────────────┐┌─────────────────────┐                                                        ┌──────────────────────┐┌──────────┐                                                                 ┌──────────┐      ┌──────────┐                                                       ┌──────────┐            ┌──────────┐                                                                 ┌──────────┐      ┌──────────┐                                                       ┌──────────┐ ░ ┌─────────────────────┐                                                                        ┌──────────────────────┐┌─────────────────────┐                                                                                     ┌──────────────────────┐┌─────────────────────┐                                                                       ┌──────────────────────┐┌─────────────────────┐                                                                        ┌──────────────────────┐┌──────────┐                                                                               ┌──────────┐           ┌──────────┐                                                                                                ┌──────────┐            ┌──────────┐                                                                                  ┌──────────┐      ┌──────────┐                                                                         ┌──────────┐ ░ \n",
       "q_0: |0>┤ U3(pi,0,pi) ├┤ U3(pi/2,-pi/2,pi/2) ├──■───────────────────■──┤ U3(-pi/2,-pi/2,pi/2) ├┤ U3(pi/2,-pi/2,pi/2) ├┤ U1(-0.02435) ├┤ U3(-pi/2,-pi/2,pi/2) ├─░─┤ U3(pi/2,-pi/2,pi/2) ├──■──────────────────────■──┤ U3(-pi/2,-pi/2,pi/2) ├──────┤ U2(0,pi) ├───────■──────────────────────■────────┤ U2(0,pi) ├───────░──────────────────────────────────────────────────────────────────────────────────────────────────────────────────────────────────────────░──────────────────────────────────────────────────────────────────────────────────────────────────────────────────────────────────────────────────────░───────┤ U2(0,pi) ├───────■────────────────────────────────■────────┤ U2(0,pi) ├──────┤ U3(pi/2,-pi/2,pi/2) ├──■───────────────────────────────────■──────┤ U3(-pi/2,-pi/2,pi/2) ├┤ U3(pi/2,-pi/2,pi/2) ├──■─────────────────────────────────────────────■──────┤ U3(-pi/2,-pi/2,pi/2) ├┤ U2(0,pi) ├──■──────────────────────■────────┤ U2(0,pi) ├────────────┤ U2(0,pi) ├───────■──────────────────────────────────────────────────■────────────┤ U2(0,pi) ├┤ U3(pi/2,-pi/2,pi/2) ├──■─────────────────────■──┤ U3(-pi/2,-pi/2,pi/2) ├┤ U3(pi/2,-pi/2,pi/2) ├──■───────────────────────────────■──┤ U3(-pi/2,-pi/2,pi/2) ├──────┤ U2(0,pi) ├───────■────────────────────────────────────────■────────────┤ U2(0,pi) ├─░───────┤ U2(0,pi) ├───────■─────────────────────────────────■────────────┤ U2(0,pi) ├──────┤ U3(pi/2,-pi/2,pi/2) ├──■─────────────────────────────────────────────────────────────────────■────────────┤ U3(-pi/2,-pi/2,pi/2) ├┤ U3(pi/2,-pi/2,pi/2) ├──■────────────────────────────────────────────────────────■───────────┤ U3(-pi/2,-pi/2,pi/2) ├┤ U2(0,pi) ├──■───────────────────────────────────────■────────────┤ U2(0,pi) ├──────┤ U2(0,pi) ├───────■─────────────────────────────────────────────────────────■──────────────────┤ U2(0,pi) ├─────┤ U3(pi/2,-pi/2,pi/2) ├──■───────────────────────────────────────■────────────┤ U3(-pi/2,-pi/2,pi/2) ├┤ U3(pi/2,-pi/2,pi/2) ├──■──────────────────────────────────■──────┤ U3(-pi/2,-pi/2,pi/2) ├┤ U2(0,pi) ├──■───────────────────────────────────────────────────────────────■──────┤ U2(0,pi) ├─░─┤ U3(pi/2,-pi/2,pi/2) ├──■──────────────────────────────────────────────────■────────────┤ U3(-pi/2,-pi/2,pi/2) ├┤ U3(pi/2,-pi/2,pi/2) ├──■──────────────────────────────────■──────┤ U3(-pi/2,-pi/2,pi/2) ├┤ U3(pi/2,-pi/2,pi/2) ├──■────────────────────────────────────────────■──────┤ U3(-pi/2,-pi/2,pi/2) ├┤ U3(pi/2,-pi/2,pi/2) ├──■────────────────────────────────────────■────────────┤ U3(-pi/2,-pi/2,pi/2) ├┤ U2(0,pi) ├──■─────────────────────────────────────────────────■────────────┤ U2(0,pi) ├──────┤ U2(0,pi) ├───────■──────────────────────────────────■────────────┤ U2(0,pi) ├────────────┤ U2(0,pi) ├───────■────────────────────────────────────────────■────────────┤ U2(0,pi) ├──────┤ U2(0,pi) ├──■───────────────────────────────────────■────────────┤ U2(0,pi) ├─░─┤ U3(pi/2,-pi/2,pi/2) ├──■────────────────────────────────────────────────────────■────────────┤ U3(-pi/2,-pi/2,pi/2) ├┤ U3(pi/2,-pi/2,pi/2) ├──■─────────────────────────────────────────────────────────────────────■────────────┤ U3(-pi/2,-pi/2,pi/2) ├┤ U3(pi/2,-pi/2,pi/2) ├──■────────────────────────────────────────────────────────■───────────┤ U3(-pi/2,-pi/2,pi/2) ├┤ U3(pi/2,-pi/2,pi/2) ├──■──────────────────────────────────────────────────────────────■──────┤ U3(-pi/2,-pi/2,pi/2) ├┤ U2(0,pi) ├──■─────────────────────────────────────────────────────────■──────────────────┤ U2(0,pi) ├───────────┤ U2(0,pi) ├───────■─────────────────────────────────────────────────────────────────────■──────────────────┤ U2(0,pi) ├────────────┤ U2(0,pi) ├───────■────────────────────────────────────────────────────────■─────────────────┤ U2(0,pi) ├──────┤ U2(0,pi) ├──■───────────────────────────────────────────────────────────────■──────┤ U2(0,pi) ├─░─\n",
       "        ├─────────────┤└─────────────────────┘┌─┴─┐┌─────────────┐┌─┴─┐└──────────────────────┘└─────────────────────┘└──────────────┘└──────────────────────┘ ░ └─────┬──────────┬────┘┌─┴─┐┌────────────────┐┌─┴─┐└─────┬──────────┬─────┘┌─────┴──────────┴────┐┌─┴─┐┌────────────────┐┌─┴─┐┌─────┴──────────┴─────┐ ░                                                                                                                                          ░                                                                                                                                                      ░       └──────────┘       │                                │        └──────────┘      └─────────────────────┘┌─┴─┐                               ┌─┴─┐    └──────────────────────┘└─────────────────────┘┌─┴─┐                                         ┌─┴─┐    └──────────────────────┘└──────────┘  │                      │        └──────────┘            └──────────┘     ┌─┴─┐                                              ┌─┴─┐          └──────────┘└─────────────────────┘  │                     │  └──────────────────────┘└─────────────────────┘  │                               │  └──────────────────────┘      └──────────┘     ┌─┴─┐                                    ┌─┴─┐          └──────────┘ ░       └──────────┘       │                                 │            └──────────┘      └─────────────────────┘┌─┴─┐                                                                 ┌─┴─┐          └──────────────────────┘└─────────────────────┘┌─┴─┐                                                    ┌─┴─┐         └──────────────────────┘└──────────┘  │                                       │            └──────────┘      └──────────┘     ┌─┴─┐                                                     ┌─┴─┐                └──────────┘     └─────────────────────┘  │                                       │            └──────────────────────┘└─────────────────────┘  │                                  │      └──────────────────────┘└──────────┘┌─┴─┐                                                           ┌─┴─┐    └──────────┘ ░ ├─────────────────────┤┌─┴─┐                                              ┌─┴─┐          ├──────────────────────┤└─────┬──────────┬────┘┌─┴─┐                              ┌─┴─┐    └─────┬──────────┬─────┘└─────┬──────────┬────┘┌─┴─┐                                        ┌─┴─┐    └─────┬──────────┬─────┘├─────────────────────┤┌─┴─┐                                    ┌─┴─┐          ├──────────────────────┤├──────────┤┌─┴─┐                                             ┌─┴─┐          ├──────────┤┌─────┴──────────┴────┐┌─┴─┐                              ┌─┴─┐    ┌─────┴──────────┴─────┐┌─────┴──────────┴────┐┌─┴─┐                                        ┌─┴─┐    ┌─────┴──────────┴─────┐├──────────┤┌─┴─┐                                   ┌─┴─┐          ├──────────┤ ░ ├─────────────────────┤┌─┴─┐                                                    ┌─┴─┐          ├──────────────────────┤└─────┬──────────┬────┘┌─┴─┐                                                                 ┌─┴─┐          └─────┬──────────┬─────┘└─────┬──────────┬────┘┌─┴─┐                                                    ┌─┴─┐         └─────┬──────────┬─────┘├─────────────────────┤┌─┴─┐                                                          ┌─┴─┐    ├──────────────────────┤├──────────┤┌─┴─┐                                                     ┌─┴─┐                ├──────────┤     ┌─────┴──────────┴────┐┌─┴─┐                                                                 ┌─┴─┐          ┌─────┴──────────┴─────┐┌─────┴──────────┴────┐┌─┴─┐                                                    ┌─┴─┐         ┌─────┴──────────┴─────┐├──────────┤┌─┴─┐                                                           ┌─┴─┐    ├──────────┤ ░ \n",
       "q_1: |0>┤ U3(pi,0,pi) ├───────────────────────┤ X ├┤ U1(0.02435) ├┤ X ├────────────────────────────────────────────────────────────────────────────────────────░───────┤ U2(0,pi) ├─────┤ X ├┤ U1(-0.0021029) ├┤ X ├──────┤ U2(0,pi) ├──────┤ U3(pi/2,-pi/2,pi/2) ├┤ X ├┤ U1(-0.0021029) ├┤ X ├┤ U3(-pi/2,-pi/2,pi/2) ├─░──────────────────────────────────────────────────────────────────────────────────────────────────────────────────────────────────────────░──────────────────────────────────────────────────────────────────────────────────────────────────────────────────────────────────────────────────────░──────────────────────────┼────────────────────────────────┼─────────────────────────────────────────────────┤ X ├──■──────────────────────■─────┤ X ├───────────────────────────────────────────────────┤ X ├──■────────────────────────────────■─────┤ X ├──────────────────────────────────────────┼──────────────────────┼─────────────────────────────────────────────────┤ X ├──■───────────────────────────────■───────────┤ X ├───────────────────────────────────────────────┼─────────────────────┼───────────────────────────────────────────────────┼───────────────────────────────┼─────────────────────────────────────────────────┤ X ├──■─────────────────────■───────────┤ X ├───────────────────────░──────────────────────────┼─────────────────────────────────┼─────────────────────────────────────────────────────┤ X ├──■────────────────────────────────────────■─────────────────────┤ X ├─────────────────────────────────────────────────────────┤ X ├──■─────────────────────────────────■───────────────┤ X ├───────────────────────────────────────────────┼───────────────────────────────────────┼───────────────────────────────────────────────┤ X ├──■──────────────────────────────────■───────────────┤ X ├──────────────────────────────────────────────────────────┼───────────────────────────────────────┼─────────────────────────────────────────────────────────────┼──────────────────────────────────┼──────────────────────────────────────────┤ X ├──■────────────────────────────────────────■───────────────┤ X ├─────────────────░─┤ U3(pi/2,-pi/2,pi/2) ├┤ X ├──■───────────────────────────────■───────────┤ X ├──────────┤ U3(-pi/2,-pi/2,pi/2) ├──────┤ U2(0,pi) ├─────┤ X ├──■─────────────────────■─────┤ X ├──────────┤ U2(0,pi) ├────────────┤ U2(0,pi) ├─────┤ X ├──■───────────────────────────────■─────┤ X ├──────────┤ U2(0,pi) ├──────┤ U3(pi/2,-pi/2,pi/2) ├┤ X ├──■─────────────────────■───────────┤ X ├──────────┤ U3(-pi/2,-pi/2,pi/2) ├┤ U2(0,pi) ├┤ X ├──■──────────────────────────────■───────────┤ X ├──────────┤ U2(0,pi) ├┤ U3(pi/2,-pi/2,pi/2) ├┤ X ├──■─────────────────────■─────┤ X ├────┤ U3(-pi/2,-pi/2,pi/2) ├┤ U3(pi/2,-pi/2,pi/2) ├┤ X ├──■───────────────────────────────■─────┤ X ├────┤ U3(-pi/2,-pi/2,pi/2) ├┤ U2(0,pi) ├┤ X ├──■────────────────────■───────────┤ X ├──────────┤ U2(0,pi) ├─░─┤ U3(pi/2,-pi/2,pi/2) ├┤ X ├──■─────────────────────────────────■───────────────┤ X ├──────────┤ U3(-pi/2,-pi/2,pi/2) ├──────┤ U2(0,pi) ├─────┤ X ├──■────────────────────────────────────────■─────────────────────┤ X ├────────────────┤ U2(0,pi) ├────────────┤ U2(0,pi) ├─────┤ X ├──■─────────────────────────────────■───────────────┤ X ├───────────────┤ U2(0,pi) ├──────┤ U3(pi/2,-pi/2,pi/2) ├┤ X ├──■───────────────────────────────────────■───────────────┤ X ├────┤ U3(-pi/2,-pi/2,pi/2) ├┤ U2(0,pi) ├┤ X ├──■──────────────────────────────────■───────────────┤ X ├────────────────┤ U2(0,pi) ├─────┤ U3(pi/2,-pi/2,pi/2) ├┤ X ├──■────────────────────────────────────────■─────────────────────┤ X ├──────────┤ U3(-pi/2,-pi/2,pi/2) ├┤ U3(pi/2,-pi/2,pi/2) ├┤ X ├──■─────────────────────────────────■───────────────┤ X ├─────────┤ U3(-pi/2,-pi/2,pi/2) ├┤ U2(0,pi) ├┤ X ├──■────────────────────────────────────────■───────────────┤ X ├────┤ U2(0,pi) ├─░─\n",
       "        └─────────────┘                       └───┘└─────────────┘└───┘                                                                                        ░       └──────────┘     └───┘└────────────────┘└───┘      └──────────┘      └─────────────────────┘└───┘└────────────────┘└───┘└──────────────────────┘ ░ ┌─────────────────────┐                          ┌──────────────────────┐┌─────────────────────┐┌──────────────┐┌──────────────────────┐ ░ ┌─────────────────────┐                           ┌──────────────────────┐      ┌──────────┐                                      ┌──────────┐       ░ ┌─────────────────────┐┌─┴─┐                            ┌─┴─┐┌──────────────────────┐      ┌──────────┐     └───┘┌─┴─┐┌────────────────┐┌─┴─┐┌──┴───┴───┐      ┌──────────┐                             └───┘┌─┴─┐                            ┌─┴─┐┌──┴───┴───┐┌─────────────────────┐             ┌─┴─┐┌────────────────┐┌─┴─┐┌──────────────────────┐┌─────────────────────┐└───┘┌─┴─┐                           ┌─┴─┐┌────────┴───┴─────────┐┌──────────┐                       ┌─┴─┐┌───────────────┐┌─┴─┐      ┌──────────┐            ┌──────────┐     ┌─┴─┐                           ┌─┴─┐      ┌──────────┐      ┌─────────────────────┐└───┘┌─┴─┐┌───────────────┐┌─┴─┐┌────────┴───┴─────────┐             ░ ┌─────────────────────┐┌─┴─┐                             ┌─┴─┐    ┌──────────────────────┐┌─────────────────────┐└───┘┌─┴─┐                                    ┌─┴─┐          ┌────────┴───┴─────────┐      ┌──────────┐                             └───┘┌─┴─┐                             ┌─┴─┐          ┌──┴───┴───┐           ┌──────────┐                  ┌─┴─┐                                   ┌─┴─┐          ┌──────────┐┌─────────────────────┐└───┘┌─┴─┐                              ┌─┴─┐    ┌────────┴───┴─────────┐┌─────────────────────┐                       ┌─┴─┐                                   ┌─┴─┐          ┌──────────────────────┐      ┌──────────┐     ┌─┴─┐                              ┌─┴─┐          ┌──────────┐      ┌──────────┐└───┘┌─┴─┐                                    ┌─┴─┐          ┌──┴───┴───┐             ░ ├─────────────────────┤└───┘┌─┴─┐                           ┌─┴─┐┌────────┴───┴─────────┐└─────┬──────────┬─────┘      └──────────┘     └───┘┌─┴─┐┌───────────────┐┌─┴─┐┌──┴───┴───┐      ├──────────┤            └──────────┘     └───┘┌─┴─┐                           ┌─┴─┐┌──┴───┴───┐┌─────┴──────────┴────┐ └─────────────────────┘└───┘┌─┴─┐┌───────────────┐┌─┴─┐┌────────┴───┴─────────┐├─────────────────────┬┘└──────────┘└───┘┌─┴─┐                          ┌─┴─┐┌────────┴───┴─────────┐├──────────┤└─────────────────────┘└───┘┌─┴─┐┌───────────────┐┌─┴─┐┌──┴───┴───┐└─────┬──────────┬─────┘└─────────────────────┘└───┘┌─┴─┐                           ┌─┴─┐┌──┴───┴───┐├─────────────────────┬┘└──────────┘└───┘┌─┴─┐┌──────────────┐┌─┴─┐┌────────┴───┴─────────┐└──────────┘ ░ ├─────────────────────┤└───┘┌─┴─┐                             ┌─┴─┐    ┌────────┴───┴─────────┐├─────────────────────┬┘      └──────────┘     └───┘┌─┴─┐                                    ┌─┴─┐          ┌────────┴───┴─────────┐      ├──────────┤            └──────────┘     └───┘┌─┴─┐                             ┌─┴─┐          ┌──┴───┴───┐           ├──────────┤      └─────────────────────┘└───┘┌─┴─┐                                   ┌─┴─┐          ┌──┴───┴───┐├─────────────────────┬┘└──────────┘└───┘┌─┴─┐                              ┌─┴─┐    ┌────────┴───┴─────────┐┌─────┴──────────┴────┐└─────────────────────┘└───┘┌─┴─┐                                    ┌─┴─┐          ┌────────┴───┴─────────┐└─────┬──────────┬─────┘└─────────────────────┘└───┘┌─┴─┐                             ┌─┴─┐          ┌──┴───┴───┐     └─────┬──────────┬─────┘└──────────┘└───┘┌─┴─┐                                    ┌─┴─┐          ┌──┴───┴───┐└──────────┘ ░ \n",
       "q_2: |0>───────────────────────────────────────────────────────────────────────────────────────────────────────────────────────────────────────────────────────░────────────────────────────────────────────────────────────────────────────────────────────────────────────────────────────────────────────────────────░─┤ U3(pi/2,-pi/2,pi/2) ├──■────────────────────■──┤ U3(-pi/2,-pi/2,pi/2) ├┤ U3(pi/2,-pi/2,pi/2) ├┤ U1(0.024651) ├┤ U3(-pi/2,-pi/2,pi/2) ├─░─┤ U3(pi/2,-pi/2,pi/2) ├──■─────────────────────■──┤ U3(-pi/2,-pi/2,pi/2) ├──────┤ U2(0,pi) ├───────■─────────────────────■────────┤ U2(0,pi) ├───────░─┤ U3(pi/2,-pi/2,pi/2) ├┤ X ├──■──────────────────────■──┤ X ├┤ U3(-pi/2,-pi/2,pi/2) ├──────┤ U2(0,pi) ├──────────┤ X ├┤ U1(-0.0066555) ├┤ X ├┤ U2(0,pi) ├──────┤ U2(0,pi) ├──────────────────────────────────┤ X ├──■──────────────────────■──┤ X ├┤ U2(0,pi) ├┤ U3(pi/2,-pi/2,pi/2) ├─────────────┤ X ├┤ U1(-0.0066555) ├┤ X ├┤ U3(-pi/2,-pi/2,pi/2) ├┤ U3(pi/2,-pi/2,pi/2) ├─────┤ X ├──■─────────────────────■──┤ X ├┤ U3(-pi/2,-pi/2,pi/2) ├┤ U2(0,pi) ├───────────────────────┤ X ├┤ U1(0.0066555) ├┤ X ├──────┤ U2(0,pi) ├────────────┤ U2(0,pi) ├─────┤ X ├──■─────────────────────■──┤ X ├──────┤ U2(0,pi) ├──────┤ U3(pi/2,-pi/2,pi/2) ├─────┤ X ├┤ U1(0.0066555) ├┤ X ├┤ U3(-pi/2,-pi/2,pi/2) ├─────────────░─┤ U3(pi/2,-pi/2,pi/2) ├┤ X ├──■────────────────────■─────┤ X ├────┤ U3(-pi/2,-pi/2,pi/2) ├┤ U3(pi/2,-pi/2,pi/2) ├─────┤ X ├──■─────────────────────■───────────┤ X ├──────────┤ U3(-pi/2,-pi/2,pi/2) ├──────┤ U2(0,pi) ├──────────────────────────────────┤ X ├──■────────────────────■─────┤ X ├──────────┤ U2(0,pi) ├───────────┤ U2(0,pi) ├──────────────────┤ X ├──■────────────────────■───────────┤ X ├──────────┤ U2(0,pi) ├┤ U3(pi/2,-pi/2,pi/2) ├─────┤ X ├──■─────────────────────■─────┤ X ├────┤ U3(-pi/2,-pi/2,pi/2) ├┤ U3(pi/2,-pi/2,pi/2) ├───────────────────────┤ X ├──■────────────────────■───────────┤ X ├──────────┤ U3(-pi/2,-pi/2,pi/2) ├──────┤ U2(0,pi) ├─────┤ X ├──■─────────────────────■─────┤ X ├──────────┤ U2(0,pi) ├──────┤ U2(0,pi) ├─────┤ X ├──■─────────────────────■───────────┤ X ├──────────┤ U2(0,pi) ├─────────────░─┤ U3(pi/2,-pi/2,pi/2) ├─────┤ X ├──■─────────────────────■──┤ X ├┤ U3(-pi/2,-pi/2,pi/2) ├──────┤ U2(0,pi) ├──────────────────────────────────┤ X ├┤ U1(-0.011215) ├┤ X ├┤ U2(0,pi) ├──────┤ U2(0,pi) ├──────────────────────────────────┤ X ├──■─────────────────────■──┤ X ├┤ U2(0,pi) ├┤ U3(pi/2,-pi/2,pi/2) ├─────────────────────────────┤ X ├┤ U1(-0.011215) ├┤ X ├┤ U3(-pi/2,-pi/2,pi/2) ├┤ U3(pi/2,-pi/2,pi/2) ├──────────────────┤ X ├──■────────────────────■──┤ X ├┤ U3(-pi/2,-pi/2,pi/2) ├┤ U2(0,pi) ├────────────────────────────┤ X ├┤ U1(-0.011215) ├┤ X ├┤ U2(0,pi) ├──────┤ U2(0,pi) ├──────────────────────────────────┤ X ├──■─────────────────────■──┤ X ├┤ U2(0,pi) ├┤ U3(pi/2,-pi/2,pi/2) ├──────────────────┤ X ├┤ U1(0.011215) ├┤ X ├┤ U3(-pi/2,-pi/2,pi/2) ├─────────────░─┤ U3(pi/2,-pi/2,pi/2) ├─────┤ X ├──■────────────────────■─────┤ X ├────┤ U3(-pi/2,-pi/2,pi/2) ├┤ U3(pi/2,-pi/2,pi/2) ├─────────────────────────────┤ X ├──■─────────────────────■───────────┤ X ├──────────┤ U3(-pi/2,-pi/2,pi/2) ├──────┤ U2(0,pi) ├──────────────────────────────────┤ X ├──■────────────────────■─────┤ X ├──────────┤ U2(0,pi) ├───────────┤ U2(0,pi) ├──────────────────────────────────┤ X ├──■────────────────────■───────────┤ X ├──────────┤ U2(0,pi) ├┤ U3(pi/2,-pi/2,pi/2) ├──────────────────┤ X ├──■─────────────────────■─────┤ X ├────┤ U3(-pi/2,-pi/2,pi/2) ├┤ U3(pi/2,-pi/2,pi/2) ├────────────────────────────┤ X ├──■─────────────────────■───────────┤ X ├──────────┤ U3(-pi/2,-pi/2,pi/2) ├──────┤ U2(0,pi) ├──────────────────────────────────┤ X ├──■────────────────────■─────┤ X ├──────────┤ U2(0,pi) ├───────────┤ U2(0,pi) ├───────────────────────┤ X ├──■─────────────────────■───────────┤ X ├──────────┤ U2(0,pi) ├─────────────░─\n",
       "                                                                                                                                                               ░                                                                                                                                                        ░ └─────────────────────┘┌─┴─┐┌──────────────┐┌─┴─┐└──────────────────────┘└─────────────────────┘└──────────────┘└──────────────────────┘ ░ └─────┬──────────┬────┘┌─┴─┐┌───────────────┐┌─┴─┐└─────┬──────────┬─────┘┌─────┴──────────┴────┐┌─┴─┐┌───────────────┐┌─┴─┐┌─────┴──────────┴─────┐ ░ └─────────────────────┘└───┘┌─┴─┐┌────────────────┐┌─┴─┐└───┘└──────────────────────┘      └──────────┘          └───┘└────────────────┘└───┘└──────────┘      └──────────┘                                  └───┘┌─┴─┐┌────────────────┐┌─┴─┐└───┘└──────────┘└─────────────────────┘             └───┘└────────────────┘└───┘└──────────────────────┘└─────────────────────┘     └───┘┌─┴─┐┌───────────────┐┌─┴─┐└───┘└──────────────────────┘└──────────┘                       └───┘└───────────────┘└───┘      └──────────┘            └──────────┘     └───┘┌─┴─┐┌───────────────┐┌─┴─┐└───┘      └──────────┘      └─────────────────────┘     └───┘└───────────────┘└───┘└──────────────────────┘             ░ └─────┬──────────┬────┘└───┘┌─┴─┐┌──────────────┐┌─┴─┐┌──┴───┴───┐├─────────────────────┬┘└─────────────────────┘     └───┘┌─┴─┐┌───────────────┐┌─┴─┐┌────────┴───┴─────────┐└─────┬──────────┬─────┘      └──────────┘                                  └───┘┌─┴─┐┌──────────────┐┌─┴─┐┌──┴───┴───┐┌─────┴──────────┴────┐      └──────────┘                  └───┘┌─┴─┐┌──────────────┐┌─┴─┐┌────────┴───┴─────────┐├──────────┤└─────────────────────┘     └───┘┌─┴─┐┌───────────────┐┌─┴─┐┌──┴───┴───┐├─────────────────────┬┘└─────────────────────┘                       └───┘┌─┴─┐┌──────────────┐┌─┴─┐┌────────┴───┴─────────┐└─────┬──────────┬─────┘      └──────────┘     └───┘┌─┴─┐┌───────────────┐┌─┴─┐┌──┴───┴───┐┌─────┴──────────┴────┐ └──────────┘     └───┘┌─┴─┐┌───────────────┐┌─┴─┐┌────────┴───┴─────────┐└──────────┘             ░ └─────────────────────┘     └───┘┌─┴─┐┌───────────────┐┌─┴─┐└───┘└──────────────────────┘      └──────────┘                                  └───┘└───────────────┘└───┘└──────────┘      └──────────┘                                  └───┘┌─┴─┐┌───────────────┐┌─┴─┐└───┘└──────────┘└─────────────────────┘                             └───┘└───────────────┘└───┘└──────────────────────┘└─────────────────────┘                  └───┘┌─┴─┐┌──────────────┐┌─┴─┐└───┘└──────────────────────┘└──────────┘                            └───┘└───────────────┘└───┘└──────────┘      └──────────┘                                  └───┘┌─┴─┐┌───────────────┐┌─┴─┐└───┘└──────────┘└─────────────────────┘                  └───┘└──────────────┘└───┘└──────────────────────┘             ░ └─────┬──────────┬────┘     └───┘┌─┴─┐┌──────────────┐┌─┴─┐┌──┴───┴───┐├─────────────────────┬┘└─────────────────────┘                             └───┘┌─┴─┐┌───────────────┐┌─┴─┐┌────────┴───┴─────────┐└─────┬──────────┬─────┘      └──────────┘                                  └───┘┌─┴─┐┌──────────────┐┌─┴─┐┌──┴───┴───┐┌─────┴──────────┴────┐      └──────────┘                                  └───┘┌─┴─┐┌──────────────┐┌─┴─┐┌────────┴───┴─────────┐├──────────┤└─────────────────────┘                  └───┘┌─┴─┐┌───────────────┐┌─┴─┐┌──┴───┴───┐├─────────────────────┬┘└─────────────────────┘                            └───┘┌─┴─┐┌───────────────┐┌─┴─┐┌────────┴───┴─────────┐└─────┬──────────┬─────┘      └──────────┘                                  └───┘┌─┴─┐┌──────────────┐┌─┴─┐┌──┴───┴───┐┌─────┴──────────┴────┐      └──────────┘                       └───┘┌─┴─┐┌───────────────┐┌─┴─┐┌────────┴───┴─────────┐└──────────┘             ░ \n",
       "q_3: |0>───────────────────────────────────────────────────────────────────────────────────────────────────────────────────────────────────────────────────────░────────────────────────────────────────────────────────────────────────────────────────────────────────────────────────────────────────────────────────░────────────────────────┤ X ├┤ U1(0.024651) ├┤ X ├────────────────────────────────────────────────────────────────────────────────────────░───────┤ U2(0,pi) ├─────┤ X ├┤ U1(0.0020708) ├┤ X ├──────┤ U2(0,pi) ├──────┤ U3(pi/2,-pi/2,pi/2) ├┤ X ├┤ U1(0.0020708) ├┤ X ├┤ U3(-pi/2,-pi/2,pi/2) ├─░─────────────────────────────┤ X ├┤ U1(-0.0066555) ├┤ X ├──────────────────────────────────────────────────────────────────────────────────────────────────────────────────────────────────────────────────────────┤ X ├┤ U1(-0.0066555) ├┤ X ├──────────────────────────────────────────────────────────────────────────────────────────────────────────────────────────────────────────┤ X ├┤ U1(0.0066555) ├┤ X ├───────────────────────────────────────────────────────────────────────────────────────────────────────────────────────────────────────────────┤ X ├┤ U1(0.0066555) ├┤ X ├─────────────────────────────────────────────────────────────────────────────────────────────────────────────────────────░───────┤ U2(0,pi) ├──────────┤ X ├┤ U1(0.011207) ├┤ X ├┤ U2(0,pi) ├┤ U3(pi/2,-pi/2,pi/2) ├──────────────────────────────────┤ X ├┤ U1(-0.011207) ├┤ X ├┤ U3(-pi/2,-pi/2,pi/2) ├──────┤ U2(0,pi) ├───────────────────────────────────────────────────────────────┤ X ├┤ U1(0.011207) ├┤ X ├┤ U2(0,pi) ├┤ U3(pi/2,-pi/2,pi/2) ├─────────────────────────────────────────┤ X ├┤ U1(0.011207) ├┤ X ├┤ U3(-pi/2,-pi/2,pi/2) ├┤ U2(0,pi) ├─────────────────────────────────┤ X ├┤ U1(-0.011207) ├┤ X ├┤ U2(0,pi) ├┤ U3(pi/2,-pi/2,pi/2) ├────────────────────────────────────────────────────┤ X ├┤ U1(0.011207) ├┤ X ├┤ U3(-pi/2,-pi/2,pi/2) ├──────┤ U2(0,pi) ├──────────────────────────────────┤ X ├┤ U1(-0.011207) ├┤ X ├┤ U2(0,pi) ├┤ U3(pi/2,-pi/2,pi/2) ├───────────────────────┤ X ├┤ U1(-0.011207) ├┤ X ├┤ U3(-pi/2,-pi/2,pi/2) ├─────────────────────────░──────────────────────────────────┤ X ├┤ U1(-0.011215) ├┤ X ├─────────────────────────────────────────────────────────────────────────────────────────────────────────────────────────────────────────────────────────────────────────────────┤ X ├┤ U1(-0.011215) ├┤ X ├──────────────────────────────────────────────────────────────────────────────────────────────────────────────────────────────────────────────────────────────────────┤ X ├┤ U1(0.011215) ├┤ X ├─────────────────────────────────────────────────────────────────────────────────────────────────────────────────────────────────────────────────────────────────────┤ X ├┤ U1(-0.011215) ├┤ X ├─────────────────────────────────────────────────────────────────────────────────────────────────────────────────────────░───────┤ U2(0,pi) ├───────────────┤ X ├┤ U1(0.024284) ├┤ X ├┤ U2(0,pi) ├┤ U3(pi/2,-pi/2,pi/2) ├──────────────────────────────────────────────────────────┤ X ├┤ U1(-0.024284) ├┤ X ├┤ U3(-pi/2,-pi/2,pi/2) ├──────┤ U2(0,pi) ├───────────────────────────────────────────────────────────────┤ X ├┤ U1(0.024284) ├┤ X ├┤ U2(0,pi) ├┤ U3(pi/2,-pi/2,pi/2) ├─────────────────────────────────────────────────────────┤ X ├┤ U1(0.024284) ├┤ X ├┤ U3(-pi/2,-pi/2,pi/2) ├┤ U2(0,pi) ├──────────────────────────────────────────────┤ X ├┤ U1(-0.024284) ├┤ X ├┤ U2(0,pi) ├┤ U3(pi/2,-pi/2,pi/2) ├─────────────────────────────────────────────────────────┤ X ├┤ U1(-0.024284) ├┤ X ├┤ U3(-pi/2,-pi/2,pi/2) ├──────┤ U2(0,pi) ├───────────────────────────────────────────────────────────────┤ X ├┤ U1(0.024284) ├┤ X ├┤ U2(0,pi) ├┤ U3(pi/2,-pi/2,pi/2) ├──────────────────────────────────────────────┤ X ├┤ U1(-0.024284) ├┤ X ├┤ U3(-pi/2,-pi/2,pi/2) ├─────────────────────────░─\n",
       "                                                                                                                                                               ░                                                                                                                                                        ░                        └───┘└──────────────┘└───┘                                                                                        ░       └──────────┘     └───┘└───────────────┘└───┘      └──────────┘      └─────────────────────┘└───┘└───────────────┘└───┘└──────────────────────┘ ░                             └───┘└────────────────┘└───┘                                                                                                                                                          └───┘└────────────────┘└───┘                                                                                                                                          └───┘└───────────────┘└───┘                                                                                                                                               └───┘└───────────────┘└───┘                                                                                                                         ░       └──────────┘          └───┘└──────────────┘└───┘└──────────┘└─────────────────────┘                                  └───┘└───────────────┘└───┘└──────────────────────┘      └──────────┘                                                               └───┘└──────────────┘└───┘└──────────┘└─────────────────────┘                                         └───┘└──────────────┘└───┘└──────────────────────┘└──────────┘                                 └───┘└───────────────┘└───┘└──────────┘└─────────────────────┘                                                    └───┘└──────────────┘└───┘└──────────────────────┘      └──────────┘                                  └───┘└───────────────┘└───┘└──────────┘└─────────────────────┘                       └───┘└───────────────┘└───┘└──────────────────────┘                         ░                                  └───┘└───────────────┘└───┘                                                                                                                                                                                 └───┘└───────────────┘└───┘                                                                                                                                                                      └───┘└──────────────┘└───┘                                                                                                                                                                     └───┘└───────────────┘└───┘                                                                                                                         ░       └──────────┘               └───┘└──────────────┘└───┘└──────────┘└─────────────────────┘                                                          └───┘└───────────────┘└───┘└──────────────────────┘      └──────────┘                                                               └───┘└──────────────┘└───┘└──────────┘└─────────────────────┘                                                         └───┘└──────────────┘└───┘└──────────────────────┘└──────────┘                                              └───┘└───────────────┘└───┘└──────────┘└─────────────────────┘                                                         └───┘└───────────────┘└───┘└──────────────────────┘      └──────────┘                                                               └───┘└──────────────┘└───┘└──────────┘└─────────────────────┘                                              └───┘└───────────────┘└───┘└──────────────────────┘                         ░ </pre>"
      ],
      "text/plain": [
       "<qiskit.visualization.text.TextDrawing at 0x11b5e7630>"
      ]
     },
     "execution_count": 127,
     "metadata": {},
     "output_type": "execute_result"
    }
   ],
   "source": [
    "var_form.construct_circuit(results['opt_params']).draw(fold=4000)"
   ]
  },
  {
   "cell_type": "markdown",
   "metadata": {
    "slideshow": {
     "slide_type": "fragment"
    }
   },
   "source": [
    "## Yikes! We'll need something NISQ-y."
   ]
  },
  {
   "cell_type": "markdown",
   "metadata": {
    "slideshow": {
     "slide_type": "slide"
    }
   },
   "source": [
    "# UCCSD is Not NISQ-Practical. How will a Hardware-efficient Ansatz do?"
   ]
  },
  {
   "cell_type": "code",
   "execution_count": 128,
   "metadata": {
    "ExecuteTime": {
     "end_time": "2019-10-24T21:46:59.188525Z",
     "start_time": "2019-10-24T21:46:59.179170Z"
    }
   },
   "outputs": [
    {
     "name": "stdout",
     "output_type": "stream",
     "text": [
      "Help on class RY in module qiskit.aqua.components.variational_forms.ry:\n",
      "\n",
      "class RY(qiskit.aqua.components.variational_forms.variational_form.VariationalForm)\n",
      " |  Layers of Y rotations followed by entangling gates.\n",
      " |  \n",
      " |  Method resolution order:\n",
      " |      RY\n",
      " |      qiskit.aqua.components.variational_forms.variational_form.VariationalForm\n",
      " |      qiskit.aqua.pluggable.Pluggable\n",
      " |      abc.ABC\n",
      " |      builtins.object\n",
      " |  \n",
      " |  Methods defined here:\n",
      " |  \n",
      " |  __init__(self, num_qubits, depth=3, entangler_map=None, entanglement='full', initial_state=None, entanglement_gate='cz', skip_unentangled_qubits=False, skip_final_ry=False)\n",
      " |      Constructor.\n",
      " |      \n",
      " |      Args:\n",
      " |          num_qubits (int) : number of qubits\n",
      " |          depth (int) : number of rotation layers\n",
      " |          entangler_map (list[list]): describe the connectivity of qubits, each list describes\n",
      " |                                      [source, target], or None for full entanglement.\n",
      " |                                      Note that the order is the list is the order of\n",
      " |                                      applying the two-qubit gate.\n",
      " |          entanglement (str): 'full', 'linear' or 'sca'\n",
      " |          initial_state (InitialState): an initial state object\n",
      " |          entanglement_gate (str): cz or cx\n",
      " |          skip_unentangled_qubits (bool): skip the qubits not in the entangler_map\n",
      " |          skip_final_ry (bool): skip the final layer of Y rotations\n",
      " |  \n",
      " |  construct_circuit(self, parameters, q=None)\n",
      " |      Construct the variational form, given its parameters.\n",
      " |      \n",
      " |      Args:\n",
      " |          parameters (numpy.ndarray): circuit parameters.\n",
      " |          q (QuantumRegister): Quantum Register for the circuit.\n",
      " |      \n",
      " |      Returns:\n",
      " |          QuantumCircuit: a quantum circuit with given `parameters`\n",
      " |      \n",
      " |      Raises:\n",
      " |          ValueError: the number of parameters is incorrect.\n",
      " |  \n",
      " |  ----------------------------------------------------------------------\n",
      " |  Data and other attributes defined here:\n",
      " |  \n",
      " |  CONFIGURATION = {'depends': [{'default': {'name': 'ZERO'}, 'pluggable_...\n",
      " |  \n",
      " |  __abstractmethods__ = frozenset()\n",
      " |  \n",
      " |  ----------------------------------------------------------------------\n",
      " |  Class methods inherited from qiskit.aqua.components.variational_forms.variational_form.VariationalForm:\n",
      " |  \n",
      " |  init_params(params) from abc.ABCMeta\n",
      " |  \n",
      " |  ----------------------------------------------------------------------\n",
      " |  Static methods inherited from qiskit.aqua.components.variational_forms.variational_form.VariationalForm:\n",
      " |  \n",
      " |  get_entangler_map(map_type, num_qubits, offset=0)\n",
      " |  \n",
      " |  validate_entangler_map(entangler_map, num_qubits)\n",
      " |  \n",
      " |  ----------------------------------------------------------------------\n",
      " |  Data descriptors inherited from qiskit.aqua.components.variational_forms.variational_form.VariationalForm:\n",
      " |  \n",
      " |  num_parameters\n",
      " |      Number of parameters of the variational form.\n",
      " |      \n",
      " |      Returns:\n",
      " |          An integer indicating the number of parameters.\n",
      " |  \n",
      " |  num_qubits\n",
      " |      Number of qubits of the variational form.\n",
      " |      \n",
      " |      Returns:\n",
      " |          An integer indicating the number of qubits.\n",
      " |  \n",
      " |  parameter_bounds\n",
      " |      Parameter bounds.\n",
      " |      \n",
      " |      Returns:\n",
      " |          A list of pairs indicating the bounds, as (lower,\n",
      " |          upper). None indicates an unbounded parameter in the\n",
      " |          corresponding direction. If None is returned, problem is\n",
      " |          fully unbounded.\n",
      " |  \n",
      " |  preferred_init_points\n",
      " |  \n",
      " |  setting\n",
      " |  \n",
      " |  ----------------------------------------------------------------------\n",
      " |  Methods inherited from qiskit.aqua.pluggable.Pluggable:\n",
      " |  \n",
      " |  validate(self, args_dict)\n",
      " |  \n",
      " |  ----------------------------------------------------------------------\n",
      " |  Static methods inherited from qiskit.aqua.pluggable.Pluggable:\n",
      " |  \n",
      " |  check_pluggable_valid()\n",
      " |      Checks if pluggable is ready for use. Throws an exception if not\n",
      " |  \n",
      " |  ----------------------------------------------------------------------\n",
      " |  Data descriptors inherited from qiskit.aqua.pluggable.Pluggable:\n",
      " |  \n",
      " |  configuration\n",
      " |      Return pluggable configuration.\n",
      " |  \n",
      " |  ----------------------------------------------------------------------\n",
      " |  Data and other attributes inherited from qiskit.aqua.pluggable.Pluggable:\n",
      " |  \n",
      " |  SECTION_KEY_ALGORITHM = 'algorithm'\n",
      " |  \n",
      " |  SECTION_KEY_DISCRIMINATIVE_NETWORK = 'discriminative_network'\n",
      " |  \n",
      " |  SECTION_KEY_EIGS = 'eigs'\n",
      " |  \n",
      " |  SECTION_KEY_FEATURE_MAP = 'feature_map'\n",
      " |  \n",
      " |  SECTION_KEY_GENERATIVE_NETWORK = 'generative_network'\n",
      " |  \n",
      " |  SECTION_KEY_INITIAL_STATE = 'initial_state'\n",
      " |  \n",
      " |  SECTION_KEY_IQFT = 'iqft'\n",
      " |  \n",
      " |  SECTION_KEY_MULTICLASS_EXTENSION = 'multiclass_extension'\n",
      " |  \n",
      " |  SECTION_KEY_MULTIVARIATE_DISTRIBUTION = 'multivariate_distribution'\n",
      " |  \n",
      " |  SECTION_KEY_OPTIMIZER = 'optimizer'\n",
      " |  \n",
      " |  SECTION_KEY_ORACLE = 'oracle'\n",
      " |  \n",
      " |  SECTION_KEY_QFT = 'qft'\n",
      " |  \n",
      " |  SECTION_KEY_RECIPROCAL = 'reciprocal'\n",
      " |  \n",
      " |  SECTION_KEY_UNCERTAINTY_PROBLEM = 'uncertainty_problem'\n",
      " |  \n",
      " |  SECTION_KEY_UNIVARIATE_DISTRIBUTION = 'univariate_distribution'\n",
      " |  \n",
      " |  SECTION_KEY_VAR_FORM = 'variational_form'\n",
      " |  \n",
      " |  ----------------------------------------------------------------------\n",
      " |  Data descriptors inherited from abc.ABC:\n",
      " |  \n",
      " |  __dict__\n",
      " |      dictionary for instance variables (if defined)\n",
      " |  \n",
      " |  __weakref__\n",
      " |      list of weak references to the object (if defined)\n",
      "\n"
     ]
    }
   ],
   "source": [
    "help(RY)"
   ]
  },
  {
   "cell_type": "code",
   "execution_count": 138,
   "metadata": {
    "ExecuteTime": {
     "end_time": "2019-10-24T21:54:13.718258Z",
     "start_time": "2019-10-24T21:54:13.710006Z"
    },
    "scrolled": true
   },
   "outputs": [
    {
     "name": "stderr",
     "output_type": "stream",
     "text": [
      "2019-10-25 06:54:13,715:qiskit.aqua.algorithms.adaptive.vqe.vqe:INFO: \n",
      "==================== Setting of VQE ============================\n",
      "Algorithm: VQE\n",
      "-- quantum_instance: None\n",
      "-- var_form: <qiskit.aqua.components.variational_forms.ry.RY object at 0x11ce109b0>\n",
      "-- optimizer: <qiskit.aqua.components.optimizers.cobyla.COBYLA object at 0x11ce10748>\n",
      "-- cost_fn: <bound method VQE._energy_evaluation of <qiskit.aqua.algorithms.adaptive.vqe.vqe.VQE object at 0x11cc89320>>\n",
      "-- initial_point: Random seed\n",
      "-- callback: None\n",
      "-- operator: Representation: paulis, qubits: 4, size: 100\n",
      "-- eval_count: 0\n",
      "-- aux_operators: []\n",
      "-- auto_conversion: True\n",
      "===============================================================\n",
      "Variational Form: RY\n",
      "-- num_parameters: 16\n",
      "-- num_qubits: 4\n",
      "-- bounds: [(-3.141592653589793, 3.141592653589793), (-3.141592653589793, 3.141592653589793), (-3.141592653589793, 3.141592653589793), (-3.141592653589793, 3.141592653589793), (-3.141592653589793, 3.141592653589793), (-3.141592653589793, 3.141592653589793), (-3.141592653589793, 3.141592653589793), (-3.141592653589793, 3.141592653589793), (-3.141592653589793, 3.141592653589793), (-3.141592653589793, 3.141592653589793), (-3.141592653589793, 3.141592653589793), (-3.141592653589793, 3.141592653589793), (-3.141592653589793, 3.141592653589793), (-3.141592653589793, 3.141592653589793), (-3.141592653589793, 3.141592653589793), (-3.141592653589793, 3.141592653589793)]\n",
      "-- depth: 3\n",
      "-- entanglement: full\n",
      "-- entangler_map: [[0, 1], [0, 2], [0, 3], [1, 2], [1, 3], [2, 3]]\n",
      "-- entangled_qubits: [0, 1, 2, 3]\n",
      "-- initial_state: <qiskit.chemistry.aqua_extensions.components.initial_states.hartree_fock.HartreeFock object at 0x111c29f60>\n",
      "-- entanglement_gate: cz\n",
      "-- skip_unentangled_qubits: False\n",
      "-- skip_final_ry: False\n",
      "===============================================================\n",
      "Optimizer: COBYLA\n",
      "-- gradient_support_level: 1\n",
      "-- bounds_support_level: 1\n",
      "-- initial_point_support_level: 3\n",
      "-- options: {'rhobeg': 1.0, 'disp': False, 'maxiter': 200}\n",
      "-- max_evals_grouped: 1\n",
      "-- tol: None\n",
      "===============================================================\n",
      "\n"
     ]
    }
   ],
   "source": [
    "ry_hf = RY(qubitOp.num_qubits, \n",
    "              depth=3,\n",
    "              entanglement='full',\n",
    "              initial_state=HF_state)\n",
    "\n",
    "# setup VQE\n",
    "vqe_ry = VQE(qubitOp, ry_hf, COBYLA(maxiter=200))"
   ]
  },
  {
   "cell_type": "code",
   "execution_count": 139,
   "metadata": {
    "ExecuteTime": {
     "end_time": "2019-10-24T21:54:31.823214Z",
     "start_time": "2019-10-24T21:54:15.594888Z"
    },
    "scrolled": true,
    "slideshow": {
     "slide_type": "slide"
    }
   },
   "outputs": [
    {
     "name": "stderr",
     "output_type": "stream",
     "text": [
      "2019-10-25 06:54:15,597:qiskit.aqua.algorithms.adaptive.vqe.vqe:INFO: When running with non-Aer statevector simulator, represent operator as a matrix could achieve the better performance. We convert the operator to matrix.\n",
      "2019-10-25 06:54:15,636:qiskit.aqua.algorithms.adaptive.vq_algorithm:INFO: Starting optimizer.\n",
      "bounds=[(-3.141592653589793, 3.141592653589793), (-3.141592653589793, 3.141592653589793), (-3.141592653589793, 3.141592653589793), (-3.141592653589793, 3.141592653589793), (-3.141592653589793, 3.141592653589793), (-3.141592653589793, 3.141592653589793), (-3.141592653589793, 3.141592653589793), (-3.141592653589793, 3.141592653589793), (-3.141592653589793, 3.141592653589793), (-3.141592653589793, 3.141592653589793), (-3.141592653589793, 3.141592653589793), (-3.141592653589793, 3.141592653589793), (-3.141592653589793, 3.141592653589793), (-3.141592653589793, 3.141592653589793), (-3.141592653589793, 3.141592653589793), (-3.141592653589793, 3.141592653589793)]\n",
      "initial point=[ 0.96045332  2.60287975  3.11758273 -1.76389012  0.67588405 -1.47709338\n",
      "  1.33367192  1.38959565  1.95082278  2.12541913 -2.93174189  2.77054235\n",
      " -2.45774793  1.36871613  0.49980507  0.63306903]\n",
      "2019-10-25 06:54:15,713:qiskit.aqua.algorithms.adaptive.vqe.vqe:INFO: Energy evaluation 1 returned 0.18313745599317632\n",
      "2019-10-25 06:54:15,788:qiskit.aqua.algorithms.adaptive.vqe.vqe:INFO: Energy evaluation 2 returned -0.17604081329798663\n",
      "2019-10-25 06:54:15,868:qiskit.aqua.algorithms.adaptive.vqe.vqe:INFO: Energy evaluation 3 returned -0.30049690111211225\n",
      "2019-10-25 06:54:15,940:qiskit.aqua.algorithms.adaptive.vqe.vqe:INFO: Energy evaluation 4 returned -0.32976229408248003\n",
      "2019-10-25 06:54:16,016:qiskit.aqua.algorithms.adaptive.vqe.vqe:INFO: Energy evaluation 5 returned -0.08563227934524821\n",
      "2019-10-25 06:54:16,091:qiskit.aqua.algorithms.adaptive.vqe.vqe:INFO: Energy evaluation 6 returned -0.45151218279579464\n",
      "2019-10-25 06:54:16,168:qiskit.aqua.algorithms.adaptive.vqe.vqe:INFO: Energy evaluation 7 returned -0.4488712828030299\n",
      "2019-10-25 06:54:16,241:qiskit.aqua.algorithms.adaptive.vqe.vqe:INFO: Energy evaluation 8 returned -0.40204335712974903\n",
      "2019-10-25 06:54:16,314:qiskit.aqua.algorithms.adaptive.vqe.vqe:INFO: Energy evaluation 9 returned -0.39417513971529383\n",
      "2019-10-25 06:54:16,386:qiskit.aqua.algorithms.adaptive.vqe.vqe:INFO: Energy evaluation 10 returned -0.26420996805169666\n",
      "2019-10-25 06:54:16,457:qiskit.aqua.algorithms.adaptive.vqe.vqe:INFO: Energy evaluation 11 returned -0.33416534978166296\n",
      "2019-10-25 06:54:16,531:qiskit.aqua.algorithms.adaptive.vqe.vqe:INFO: Energy evaluation 12 returned -0.4943384456204929\n",
      "2019-10-25 06:54:16,607:qiskit.aqua.algorithms.adaptive.vqe.vqe:INFO: Energy evaluation 13 returned -0.3011409225842432\n",
      "2019-10-25 06:54:16,684:qiskit.aqua.algorithms.adaptive.vqe.vqe:INFO: Energy evaluation 14 returned -0.4042107515212571\n",
      "2019-10-25 06:54:16,760:qiskit.aqua.algorithms.adaptive.vqe.vqe:INFO: Energy evaluation 15 returned -0.2253878985456851\n",
      "2019-10-25 06:54:16,838:qiskit.aqua.algorithms.adaptive.vqe.vqe:INFO: Energy evaluation 16 returned -0.30800119960761085\n",
      "2019-10-25 06:54:16,919:qiskit.aqua.algorithms.adaptive.vqe.vqe:INFO: Energy evaluation 17 returned -0.3933683628045751\n",
      "2019-10-25 06:54:16,997:qiskit.aqua.algorithms.adaptive.vqe.vqe:INFO: Energy evaluation 18 returned -0.6413715759708725\n",
      "2019-10-25 06:54:17,070:qiskit.aqua.algorithms.adaptive.vqe.vqe:INFO: Energy evaluation 19 returned -0.7574705007611476\n",
      "2019-10-25 06:54:17,142:qiskit.aqua.algorithms.adaptive.vqe.vqe:INFO: Energy evaluation 20 returned -0.5366065777726188\n",
      "2019-10-25 06:54:17,212:qiskit.aqua.algorithms.adaptive.vqe.vqe:INFO: Energy evaluation 21 returned -0.7660218389241877\n",
      "2019-10-25 06:54:17,285:qiskit.aqua.algorithms.adaptive.vqe.vqe:INFO: Energy evaluation 22 returned -0.8253293286888332\n",
      "2019-10-25 06:54:17,358:qiskit.aqua.algorithms.adaptive.vqe.vqe:INFO: Energy evaluation 23 returned -0.877156041868325\n",
      "2019-10-25 06:54:17,605:qiskit.aqua.algorithms.adaptive.vqe.vqe:INFO: Energy evaluation 24 returned -0.894118857898909\n",
      "2019-10-25 06:54:17,677:qiskit.aqua.algorithms.adaptive.vqe.vqe:INFO: Energy evaluation 25 returned -0.8158309794060871\n",
      "2019-10-25 06:54:17,750:qiskit.aqua.algorithms.adaptive.vqe.vqe:INFO: Energy evaluation 26 returned -0.9540017410283199\n",
      "2019-10-25 06:54:17,823:qiskit.aqua.algorithms.adaptive.vqe.vqe:INFO: Energy evaluation 27 returned -0.9003828527757104\n",
      "2019-10-25 06:54:17,902:qiskit.aqua.algorithms.adaptive.vqe.vqe:INFO: Energy evaluation 28 returned -0.7918785669034617\n",
      "2019-10-25 06:54:17,982:qiskit.aqua.algorithms.adaptive.vqe.vqe:INFO: Energy evaluation 29 returned -0.7592475621155902\n",
      "2019-10-25 06:54:18,069:qiskit.aqua.algorithms.adaptive.vqe.vqe:INFO: Energy evaluation 30 returned -0.8176722051627506\n",
      "2019-10-25 06:54:18,154:qiskit.aqua.algorithms.adaptive.vqe.vqe:INFO: Energy evaluation 31 returned -0.9253752759224898\n",
      "2019-10-25 06:54:18,233:qiskit.aqua.algorithms.adaptive.vqe.vqe:INFO: Energy evaluation 32 returned -0.9568941869082818\n",
      "2019-10-25 06:54:18,313:qiskit.aqua.algorithms.adaptive.vqe.vqe:INFO: Energy evaluation 33 returned -0.7831668307497202\n",
      "2019-10-25 06:54:18,389:qiskit.aqua.algorithms.adaptive.vqe.vqe:INFO: Energy evaluation 34 returned -0.9134845351212937\n",
      "2019-10-25 06:54:18,466:qiskit.aqua.algorithms.adaptive.vqe.vqe:INFO: Energy evaluation 35 returned -0.8884743626805354\n",
      "2019-10-25 06:54:18,540:qiskit.aqua.algorithms.adaptive.vqe.vqe:INFO: Energy evaluation 36 returned -0.9426508689086367\n",
      "2019-10-25 06:54:18,613:qiskit.aqua.algorithms.adaptive.vqe.vqe:INFO: Energy evaluation 37 returned -0.694082335884574\n",
      "2019-10-25 06:54:18,690:qiskit.aqua.algorithms.adaptive.vqe.vqe:INFO: Energy evaluation 38 returned -0.9303657059007947\n",
      "2019-10-25 06:54:18,762:qiskit.aqua.algorithms.adaptive.vqe.vqe:INFO: Energy evaluation 39 returned -0.7913037003372906\n",
      "2019-10-25 06:54:18,837:qiskit.aqua.algorithms.adaptive.vqe.vqe:INFO: Energy evaluation 40 returned -0.917581529457964\n",
      "2019-10-25 06:54:18,922:qiskit.aqua.algorithms.adaptive.vqe.vqe:INFO: Energy evaluation 41 returned -0.7664555803693593\n",
      "2019-10-25 06:54:19,009:qiskit.aqua.algorithms.adaptive.vqe.vqe:INFO: Energy evaluation 42 returned -0.8214731933282134\n",
      "2019-10-25 06:54:19,094:qiskit.aqua.algorithms.adaptive.vqe.vqe:INFO: Energy evaluation 43 returned -0.9657158851509994\n",
      "2019-10-25 06:54:19,168:qiskit.aqua.algorithms.adaptive.vqe.vqe:INFO: Energy evaluation 44 returned -0.9454751027769679\n",
      "2019-10-25 06:54:19,241:qiskit.aqua.algorithms.adaptive.vqe.vqe:INFO: Energy evaluation 45 returned -0.9706452395325063\n",
      "2019-10-25 06:54:19,319:qiskit.aqua.algorithms.adaptive.vqe.vqe:INFO: Energy evaluation 46 returned -0.9565625402799662\n",
      "2019-10-25 06:54:19,400:qiskit.aqua.algorithms.adaptive.vqe.vqe:INFO: Energy evaluation 47 returned -0.9279853479671814\n",
      "2019-10-25 06:54:19,481:qiskit.aqua.algorithms.adaptive.vqe.vqe:INFO: Energy evaluation 48 returned -0.8872802885445781\n",
      "2019-10-25 06:54:19,556:qiskit.aqua.algorithms.adaptive.vqe.vqe:INFO: Energy evaluation 49 returned -0.9422309381318511\n",
      "2019-10-25 06:54:19,630:qiskit.aqua.algorithms.adaptive.vqe.vqe:INFO: Energy evaluation 50 returned -0.9398883432478047\n",
      "2019-10-25 06:54:19,708:qiskit.aqua.algorithms.adaptive.vqe.vqe:INFO: Energy evaluation 51 returned -0.9408794602436702\n",
      "2019-10-25 06:54:19,784:qiskit.aqua.algorithms.adaptive.vqe.vqe:INFO: Energy evaluation 52 returned -0.9380001211496966\n",
      "2019-10-25 06:54:19,861:qiskit.aqua.algorithms.adaptive.vqe.vqe:INFO: Energy evaluation 53 returned -0.9841333845817325\n",
      "2019-10-25 06:54:19,934:qiskit.aqua.algorithms.adaptive.vqe.vqe:INFO: Energy evaluation 54 returned -0.9787805794235279\n",
      "2019-10-25 06:54:20,013:qiskit.aqua.algorithms.adaptive.vqe.vqe:INFO: Energy evaluation 55 returned -0.95980558318999\n",
      "2019-10-25 06:54:20,089:qiskit.aqua.algorithms.adaptive.vqe.vqe:INFO: Energy evaluation 56 returned -0.9410791899123555\n",
      "2019-10-25 06:54:20,171:qiskit.aqua.algorithms.adaptive.vqe.vqe:INFO: Energy evaluation 57 returned -0.9661507486063016\n",
      "2019-10-25 06:54:20,252:qiskit.aqua.algorithms.adaptive.vqe.vqe:INFO: Energy evaluation 58 returned -0.9651740872837576\n",
      "2019-10-25 06:54:20,332:qiskit.aqua.algorithms.adaptive.vqe.vqe:INFO: Energy evaluation 59 returned -0.9720627864822966\n"
     ]
    },
    {
     "name": "stderr",
     "output_type": "stream",
     "text": [
      "2019-10-25 06:54:20,412:qiskit.aqua.algorithms.adaptive.vqe.vqe:INFO: Energy evaluation 60 returned -0.9867882016124818\n",
      "2019-10-25 06:54:20,486:qiskit.aqua.algorithms.adaptive.vqe.vqe:INFO: Energy evaluation 61 returned -0.9853440306024345\n",
      "2019-10-25 06:54:20,559:qiskit.aqua.algorithms.adaptive.vqe.vqe:INFO: Energy evaluation 62 returned -0.9871622942147694\n",
      "2019-10-25 06:54:20,634:qiskit.aqua.algorithms.adaptive.vqe.vqe:INFO: Energy evaluation 63 returned -0.9888099871606346\n",
      "2019-10-25 06:54:20,709:qiskit.aqua.algorithms.adaptive.vqe.vqe:INFO: Energy evaluation 64 returned -0.9843290971542656\n",
      "2019-10-25 06:54:20,786:qiskit.aqua.algorithms.adaptive.vqe.vqe:INFO: Energy evaluation 65 returned -1.0004600523919989\n",
      "2019-10-25 06:54:21,070:qiskit.aqua.algorithms.adaptive.vqe.vqe:INFO: Energy evaluation 66 returned -1.0085686059969101\n",
      "2019-10-25 06:54:21,148:qiskit.aqua.algorithms.adaptive.vqe.vqe:INFO: Energy evaluation 67 returned -0.9939942715208294\n",
      "2019-10-25 06:54:21,221:qiskit.aqua.algorithms.adaptive.vqe.vqe:INFO: Energy evaluation 68 returned -1.0135482930425226\n",
      "2019-10-25 06:54:21,293:qiskit.aqua.algorithms.adaptive.vqe.vqe:INFO: Energy evaluation 69 returned -1.0121870214277708\n",
      "2019-10-25 06:54:21,374:qiskit.aqua.algorithms.adaptive.vqe.vqe:INFO: Energy evaluation 70 returned -1.0050710732527828\n",
      "2019-10-25 06:54:21,462:qiskit.aqua.algorithms.adaptive.vqe.vqe:INFO: Energy evaluation 71 returned -1.0016057633281605\n",
      "2019-10-25 06:54:21,548:qiskit.aqua.algorithms.adaptive.vqe.vqe:INFO: Energy evaluation 72 returned -1.007334645411242\n",
      "2019-10-25 06:54:21,626:qiskit.aqua.algorithms.adaptive.vqe.vqe:INFO: Energy evaluation 73 returned -1.0077875089679666\n",
      "2019-10-25 06:54:21,699:qiskit.aqua.algorithms.adaptive.vqe.vqe:INFO: Energy evaluation 74 returned -1.0236781637480485\n",
      "2019-10-25 06:54:21,771:qiskit.aqua.algorithms.adaptive.vqe.vqe:INFO: Energy evaluation 75 returned -1.021363667330929\n",
      "2019-10-25 06:54:21,844:qiskit.aqua.algorithms.adaptive.vqe.vqe:INFO: Energy evaluation 76 returned -1.0224998993930166\n",
      "2019-10-25 06:54:21,917:qiskit.aqua.algorithms.adaptive.vqe.vqe:INFO: Energy evaluation 77 returned -1.016621846307337\n",
      "2019-10-25 06:54:21,996:qiskit.aqua.algorithms.adaptive.vqe.vqe:INFO: Energy evaluation 78 returned -1.0149975553225092\n",
      "2019-10-25 06:54:22,083:qiskit.aqua.algorithms.adaptive.vqe.vqe:INFO: Energy evaluation 79 returned -1.0109651370339343\n",
      "2019-10-25 06:54:22,162:qiskit.aqua.algorithms.adaptive.vqe.vqe:INFO: Energy evaluation 80 returned -1.0197832473931814\n",
      "2019-10-25 06:54:22,237:qiskit.aqua.algorithms.adaptive.vqe.vqe:INFO: Energy evaluation 81 returned -1.0203290751466567\n",
      "2019-10-25 06:54:22,310:qiskit.aqua.algorithms.adaptive.vqe.vqe:INFO: Energy evaluation 82 returned -1.0278755485737583\n",
      "2019-10-25 06:54:22,383:qiskit.aqua.algorithms.adaptive.vqe.vqe:INFO: Energy evaluation 83 returned -1.0231953515169607\n",
      "2019-10-25 06:54:22,455:qiskit.aqua.algorithms.adaptive.vqe.vqe:INFO: Energy evaluation 84 returned -1.0318552047886678\n",
      "2019-10-25 06:54:22,529:qiskit.aqua.algorithms.adaptive.vqe.vqe:INFO: Energy evaluation 85 returned -1.0323954094289771\n",
      "2019-10-25 06:54:22,603:qiskit.aqua.algorithms.adaptive.vqe.vqe:INFO: Energy evaluation 86 returned -1.038305081172983\n",
      "2019-10-25 06:54:22,677:qiskit.aqua.algorithms.adaptive.vqe.vqe:INFO: Energy evaluation 87 returned -1.0387193854505723\n",
      "2019-10-25 06:54:22,752:qiskit.aqua.algorithms.adaptive.vqe.vqe:INFO: Energy evaluation 88 returned -1.0452076152510672\n",
      "2019-10-25 06:54:22,831:qiskit.aqua.algorithms.adaptive.vqe.vqe:INFO: Energy evaluation 89 returned -1.0545453692437214\n",
      "2019-10-25 06:54:22,913:qiskit.aqua.algorithms.adaptive.vqe.vqe:INFO: Energy evaluation 90 returned -1.0566430901002668\n",
      "2019-10-25 06:54:22,994:qiskit.aqua.algorithms.adaptive.vqe.vqe:INFO: Energy evaluation 91 returned -1.0570518566680482\n",
      "2019-10-25 06:54:23,067:qiskit.aqua.algorithms.adaptive.vqe.vqe:INFO: Energy evaluation 92 returned -1.0630335835848248\n",
      "2019-10-25 06:54:23,141:qiskit.aqua.algorithms.adaptive.vqe.vqe:INFO: Energy evaluation 93 returned -1.06068659936934\n",
      "2019-10-25 06:54:23,214:qiskit.aqua.algorithms.adaptive.vqe.vqe:INFO: Energy evaluation 94 returned -1.0573431831568905\n",
      "2019-10-25 06:54:23,292:qiskit.aqua.algorithms.adaptive.vqe.vqe:INFO: Energy evaluation 95 returned -1.0700998164941466\n",
      "2019-10-25 06:54:23,373:qiskit.aqua.algorithms.adaptive.vqe.vqe:INFO: Energy evaluation 96 returned -1.0693217369835957\n",
      "2019-10-25 06:54:23,485:qiskit.aqua.algorithms.adaptive.vqe.vqe:INFO: Energy evaluation 97 returned -1.0693198192788604\n",
      "2019-10-25 06:54:23,563:qiskit.aqua.algorithms.adaptive.vqe.vqe:INFO: Energy evaluation 98 returned -1.0767390204325684\n",
      "2019-10-25 06:54:23,636:qiskit.aqua.algorithms.adaptive.vqe.vqe:INFO: Energy evaluation 99 returned -1.0770799914230427\n",
      "2019-10-25 06:54:23,709:qiskit.aqua.algorithms.adaptive.vqe.vqe:INFO: Energy evaluation 100 returned -1.0800645021824844\n",
      "2019-10-25 06:54:23,780:qiskit.aqua.algorithms.adaptive.vqe.vqe:INFO: Energy evaluation 101 returned -1.0848154599746767\n",
      "2019-10-25 06:54:23,854:qiskit.aqua.algorithms.adaptive.vqe.vqe:INFO: Energy evaluation 102 returned -1.0780604042969362\n",
      "2019-10-25 06:54:23,927:qiskit.aqua.algorithms.adaptive.vqe.vqe:INFO: Energy evaluation 103 returned -1.0846355080390946\n",
      "2019-10-25 06:54:24,002:qiskit.aqua.algorithms.adaptive.vqe.vqe:INFO: Energy evaluation 104 returned -1.0844801824123311\n",
      "2019-10-25 06:54:24,078:qiskit.aqua.algorithms.adaptive.vqe.vqe:INFO: Energy evaluation 105 returned -1.0858437666281702\n",
      "2019-10-25 06:54:24,159:qiskit.aqua.algorithms.adaptive.vqe.vqe:INFO: Energy evaluation 106 returned -1.0855670671449213\n",
      "2019-10-25 06:54:24,245:qiskit.aqua.algorithms.adaptive.vqe.vqe:INFO: Energy evaluation 107 returned -1.088537338403729\n",
      "2019-10-25 06:54:24,499:qiskit.aqua.algorithms.adaptive.vqe.vqe:INFO: Energy evaluation 108 returned -1.0906855008337062\n",
      "2019-10-25 06:54:24,572:qiskit.aqua.algorithms.adaptive.vqe.vqe:INFO: Energy evaluation 109 returned -1.0915452968725061\n",
      "2019-10-25 06:54:24,643:qiskit.aqua.algorithms.adaptive.vqe.vqe:INFO: Energy evaluation 110 returned -1.101212916136634\n",
      "2019-10-25 06:54:24,716:qiskit.aqua.algorithms.adaptive.vqe.vqe:INFO: Energy evaluation 111 returned -1.1008307010609295\n",
      "2019-10-25 06:54:24,788:qiskit.aqua.algorithms.adaptive.vqe.vqe:INFO: Energy evaluation 112 returned -1.1002424124296244\n",
      "2019-10-25 06:54:24,862:qiskit.aqua.algorithms.adaptive.vqe.vqe:INFO: Energy evaluation 113 returned -1.1052945243066512\n",
      "2019-10-25 06:54:24,935:qiskit.aqua.algorithms.adaptive.vqe.vqe:INFO: Energy evaluation 114 returned -1.1021254360841721\n",
      "2019-10-25 06:54:25,006:qiskit.aqua.algorithms.adaptive.vqe.vqe:INFO: Energy evaluation 115 returned -1.1079875402523922\n",
      "2019-10-25 06:54:25,081:qiskit.aqua.algorithms.adaptive.vqe.vqe:INFO: Energy evaluation 116 returned -1.110836711566641\n",
      "2019-10-25 06:54:25,155:qiskit.aqua.algorithms.adaptive.vqe.vqe:INFO: Energy evaluation 117 returned -1.1144909133180465\n",
      "2019-10-25 06:54:25,227:qiskit.aqua.algorithms.adaptive.vqe.vqe:INFO: Energy evaluation 118 returned -1.1217434667709008\n",
      "2019-10-25 06:54:25,300:qiskit.aqua.algorithms.adaptive.vqe.vqe:INFO: Energy evaluation 119 returned -1.1185367121720733\n",
      "2019-10-25 06:54:25,374:qiskit.aqua.algorithms.adaptive.vqe.vqe:INFO: Energy evaluation 120 returned -1.1176879538786442\n",
      "2019-10-25 06:54:25,445:qiskit.aqua.algorithms.adaptive.vqe.vqe:INFO: Energy evaluation 121 returned -1.1151265038022589\n",
      "2019-10-25 06:54:25,517:qiskit.aqua.algorithms.adaptive.vqe.vqe:INFO: Energy evaluation 122 returned -1.116031053551906\n",
      "2019-10-25 06:54:25,589:qiskit.aqua.algorithms.adaptive.vqe.vqe:INFO: Energy evaluation 123 returned -1.1261522771211319\n",
      "2019-10-25 06:54:25,662:qiskit.aqua.algorithms.adaptive.vqe.vqe:INFO: Energy evaluation 124 returned -1.1260921708182638\n",
      "2019-10-25 06:54:25,735:qiskit.aqua.algorithms.adaptive.vqe.vqe:INFO: Energy evaluation 125 returned -1.1290346933117537\n",
      "2019-10-25 06:54:25,807:qiskit.aqua.algorithms.adaptive.vqe.vqe:INFO: Energy evaluation 126 returned -1.129609622405571\n",
      "2019-10-25 06:54:25,880:qiskit.aqua.algorithms.adaptive.vqe.vqe:INFO: Energy evaluation 127 returned -1.1247885162722155\n",
      "2019-10-25 06:54:25,958:qiskit.aqua.algorithms.adaptive.vqe.vqe:INFO: Energy evaluation 128 returned -1.1268825269183003\n"
     ]
    },
    {
     "name": "stderr",
     "output_type": "stream",
     "text": [
      "2019-10-25 06:54:26,030:qiskit.aqua.algorithms.adaptive.vqe.vqe:INFO: Energy evaluation 129 returned -1.1263393913993345\n",
      "2019-10-25 06:54:26,102:qiskit.aqua.algorithms.adaptive.vqe.vqe:INFO: Energy evaluation 130 returned -1.1286755583181793\n",
      "2019-10-25 06:54:26,174:qiskit.aqua.algorithms.adaptive.vqe.vqe:INFO: Energy evaluation 131 returned -1.1267181273702898\n",
      "2019-10-25 06:54:26,250:qiskit.aqua.algorithms.adaptive.vqe.vqe:INFO: Energy evaluation 132 returned -1.1304137161537466\n",
      "2019-10-25 06:54:26,326:qiskit.aqua.algorithms.adaptive.vqe.vqe:INFO: Energy evaluation 133 returned -1.126626221225643\n",
      "2019-10-25 06:54:26,400:qiskit.aqua.algorithms.adaptive.vqe.vqe:INFO: Energy evaluation 134 returned -1.1263923890612035\n",
      "2019-10-25 06:54:26,478:qiskit.aqua.algorithms.adaptive.vqe.vqe:INFO: Energy evaluation 135 returned -1.1302273676149626\n",
      "2019-10-25 06:54:26,556:qiskit.aqua.algorithms.adaptive.vqe.vqe:INFO: Energy evaluation 136 returned -1.1308553957668617\n",
      "2019-10-25 06:54:26,629:qiskit.aqua.algorithms.adaptive.vqe.vqe:INFO: Energy evaluation 137 returned -1.128709288151068\n",
      "2019-10-25 06:54:26,704:qiskit.aqua.algorithms.adaptive.vqe.vqe:INFO: Energy evaluation 138 returned -1.1285844859737144\n",
      "2019-10-25 06:54:26,777:qiskit.aqua.algorithms.adaptive.vqe.vqe:INFO: Energy evaluation 139 returned -1.1288498716781907\n",
      "2019-10-25 06:54:26,850:qiskit.aqua.algorithms.adaptive.vqe.vqe:INFO: Energy evaluation 140 returned -1.1305358731007864\n",
      "2019-10-25 06:54:26,925:qiskit.aqua.algorithms.adaptive.vqe.vqe:INFO: Energy evaluation 141 returned -1.127530257597343\n",
      "2019-10-25 06:54:26,997:qiskit.aqua.algorithms.adaptive.vqe.vqe:INFO: Energy evaluation 142 returned -1.1280240420099836\n",
      "2019-10-25 06:54:27,069:qiskit.aqua.algorithms.adaptive.vqe.vqe:INFO: Energy evaluation 143 returned -1.1312146614177883\n",
      "2019-10-25 06:54:27,142:qiskit.aqua.algorithms.adaptive.vqe.vqe:INFO: Energy evaluation 144 returned -1.1317890720548502\n",
      "2019-10-25 06:54:27,214:qiskit.aqua.algorithms.adaptive.vqe.vqe:INFO: Energy evaluation 145 returned -1.1323718033732892\n",
      "2019-10-25 06:54:27,288:qiskit.aqua.algorithms.adaptive.vqe.vqe:INFO: Energy evaluation 146 returned -1.1362955032849225\n",
      "2019-10-25 06:54:27,359:qiskit.aqua.algorithms.adaptive.vqe.vqe:INFO: Energy evaluation 147 returned -1.1355333092259974\n",
      "2019-10-25 06:54:27,431:qiskit.aqua.algorithms.adaptive.vqe.vqe:INFO: Energy evaluation 148 returned -1.135768936061959\n",
      "2019-10-25 06:54:27,677:qiskit.aqua.algorithms.adaptive.vqe.vqe:INFO: Energy evaluation 149 returned -1.1368341194562288\n",
      "2019-10-25 06:54:27,757:qiskit.aqua.algorithms.adaptive.vqe.vqe:INFO: Energy evaluation 150 returned -1.136151063678074\n",
      "2019-10-25 06:54:27,828:qiskit.aqua.algorithms.adaptive.vqe.vqe:INFO: Energy evaluation 151 returned -1.1400233820142025\n",
      "2019-10-25 06:54:27,908:qiskit.aqua.algorithms.adaptive.vqe.vqe:INFO: Energy evaluation 152 returned -1.139539416636675\n",
      "2019-10-25 06:54:27,988:qiskit.aqua.algorithms.adaptive.vqe.vqe:INFO: Energy evaluation 153 returned -1.1399077441813392\n",
      "2019-10-25 06:54:28,062:qiskit.aqua.algorithms.adaptive.vqe.vqe:INFO: Energy evaluation 154 returned -1.1404996906722709\n",
      "2019-10-25 06:54:28,144:qiskit.aqua.algorithms.adaptive.vqe.vqe:INFO: Energy evaluation 155 returned -1.1409898185242662\n",
      "2019-10-25 06:54:28,222:qiskit.aqua.algorithms.adaptive.vqe.vqe:INFO: Energy evaluation 156 returned -1.143394649578458\n",
      "2019-10-25 06:54:28,296:qiskit.aqua.algorithms.adaptive.vqe.vqe:INFO: Energy evaluation 157 returned -1.1434049820398737\n",
      "2019-10-25 06:54:28,370:qiskit.aqua.algorithms.adaptive.vqe.vqe:INFO: Energy evaluation 158 returned -1.1415664513600594\n",
      "2019-10-25 06:54:28,443:qiskit.aqua.algorithms.adaptive.vqe.vqe:INFO: Energy evaluation 159 returned -1.1432388011271881\n",
      "2019-10-25 06:54:28,517:qiskit.aqua.algorithms.adaptive.vqe.vqe:INFO: Energy evaluation 160 returned -1.1444311754363055\n",
      "2019-10-25 06:54:28,590:qiskit.aqua.algorithms.adaptive.vqe.vqe:INFO: Energy evaluation 161 returned -1.1428302785398723\n",
      "2019-10-25 06:54:28,665:qiskit.aqua.algorithms.adaptive.vqe.vqe:INFO: Energy evaluation 162 returned -1.1441165598370522\n",
      "2019-10-25 06:54:28,744:qiskit.aqua.algorithms.adaptive.vqe.vqe:INFO: Energy evaluation 163 returned -1.1476911948263848\n",
      "2019-10-25 06:54:28,826:qiskit.aqua.algorithms.adaptive.vqe.vqe:INFO: Energy evaluation 164 returned -1.1470791510746812\n",
      "2019-10-25 06:54:28,908:qiskit.aqua.algorithms.adaptive.vqe.vqe:INFO: Energy evaluation 165 returned -1.1481453487855136\n",
      "2019-10-25 06:54:28,983:qiskit.aqua.algorithms.adaptive.vqe.vqe:INFO: Energy evaluation 166 returned -1.148794269046406\n",
      "2019-10-25 06:54:29,056:qiskit.aqua.algorithms.adaptive.vqe.vqe:INFO: Energy evaluation 167 returned -1.1486552033839303\n",
      "2019-10-25 06:54:29,132:qiskit.aqua.algorithms.adaptive.vqe.vqe:INFO: Energy evaluation 168 returned -1.1489813156695199\n",
      "2019-10-25 06:54:29,208:qiskit.aqua.algorithms.adaptive.vqe.vqe:INFO: Energy evaluation 169 returned -1.1491751369907177\n",
      "2019-10-25 06:54:29,284:qiskit.aqua.algorithms.adaptive.vqe.vqe:INFO: Energy evaluation 170 returned -1.1492936346340041\n",
      "2019-10-25 06:54:29,360:qiskit.aqua.algorithms.adaptive.vqe.vqe:INFO: Energy evaluation 171 returned -1.1499135544235188\n",
      "2019-10-25 06:54:29,457:qiskit.aqua.algorithms.adaptive.vqe.vqe:INFO: Energy evaluation 172 returned -1.1517226851553957\n",
      "2019-10-25 06:54:29,540:qiskit.aqua.algorithms.adaptive.vqe.vqe:INFO: Energy evaluation 173 returned -1.1521188050377393\n",
      "2019-10-25 06:54:29,616:qiskit.aqua.algorithms.adaptive.vqe.vqe:INFO: Energy evaluation 174 returned -1.1529013109990502\n",
      "2019-10-25 06:54:29,696:qiskit.aqua.algorithms.adaptive.vqe.vqe:INFO: Energy evaluation 175 returned -1.1538933642043894\n",
      "2019-10-25 06:54:29,773:qiskit.aqua.algorithms.adaptive.vqe.vqe:INFO: Energy evaluation 176 returned -1.1532142324739212\n",
      "2019-10-25 06:54:29,848:qiskit.aqua.algorithms.adaptive.vqe.vqe:INFO: Energy evaluation 177 returned -1.1547908424037574\n",
      "2019-10-25 06:54:29,925:qiskit.aqua.algorithms.adaptive.vqe.vqe:INFO: Energy evaluation 178 returned -1.1555547039372414\n",
      "2019-10-25 06:54:30,002:qiskit.aqua.algorithms.adaptive.vqe.vqe:INFO: Energy evaluation 179 returned -1.1556802514946358\n",
      "2019-10-25 06:54:30,078:qiskit.aqua.algorithms.adaptive.vqe.vqe:INFO: Energy evaluation 180 returned -1.1558893030805255\n",
      "2019-10-25 06:54:30,155:qiskit.aqua.algorithms.adaptive.vqe.vqe:INFO: Energy evaluation 181 returned -1.154411843273266\n",
      "2019-10-25 06:54:30,229:qiskit.aqua.algorithms.adaptive.vqe.vqe:INFO: Energy evaluation 182 returned -1.1575536330354403\n",
      "2019-10-25 06:54:30,303:qiskit.aqua.algorithms.adaptive.vqe.vqe:INFO: Energy evaluation 183 returned -1.1576700750338937\n",
      "2019-10-25 06:54:30,376:qiskit.aqua.algorithms.adaptive.vqe.vqe:INFO: Energy evaluation 184 returned -1.1573824632713718\n",
      "2019-10-25 06:54:30,448:qiskit.aqua.algorithms.adaptive.vqe.vqe:INFO: Energy evaluation 185 returned -1.1556004437146936\n",
      "2019-10-25 06:54:30,520:qiskit.aqua.algorithms.adaptive.vqe.vqe:INFO: Energy evaluation 186 returned -1.1571837092781314\n",
      "2019-10-25 06:54:30,595:qiskit.aqua.algorithms.adaptive.vqe.vqe:INFO: Energy evaluation 187 returned -1.1568306429735593\n",
      "2019-10-25 06:54:30,669:qiskit.aqua.algorithms.adaptive.vqe.vqe:INFO: Energy evaluation 188 returned -1.157074068966726\n",
      "2019-10-25 06:54:30,744:qiskit.aqua.algorithms.adaptive.vqe.vqe:INFO: Energy evaluation 189 returned -1.1587201785186985\n",
      "2019-10-25 06:54:30,818:qiskit.aqua.algorithms.adaptive.vqe.vqe:INFO: Energy evaluation 190 returned -1.1581428584877382\n",
      "2019-10-25 06:54:30,891:qiskit.aqua.algorithms.adaptive.vqe.vqe:INFO: Energy evaluation 191 returned -1.1585598468397655\n",
      "2019-10-25 06:54:31,143:qiskit.aqua.algorithms.adaptive.vqe.vqe:INFO: Energy evaluation 192 returned -1.1588091180937645\n",
      "2019-10-25 06:54:31,221:qiskit.aqua.algorithms.adaptive.vqe.vqe:INFO: Energy evaluation 193 returned -1.1586791624543913\n",
      "2019-10-25 06:54:31,294:qiskit.aqua.algorithms.adaptive.vqe.vqe:INFO: Energy evaluation 194 returned -1.1589106499679356\n",
      "2019-10-25 06:54:31,367:qiskit.aqua.algorithms.adaptive.vqe.vqe:INFO: Energy evaluation 195 returned -1.1592846081040398\n",
      "2019-10-25 06:54:31,440:qiskit.aqua.algorithms.adaptive.vqe.vqe:INFO: Energy evaluation 196 returned -1.157084396899695\n"
     ]
    },
    {
     "name": "stderr",
     "output_type": "stream",
     "text": [
      "2019-10-25 06:54:31,515:qiskit.aqua.algorithms.adaptive.vqe.vqe:INFO: Energy evaluation 197 returned -1.1586659192307747\n",
      "2019-10-25 06:54:31,595:qiskit.aqua.algorithms.adaptive.vqe.vqe:INFO: Energy evaluation 198 returned -1.1573805554824734\n",
      "2019-10-25 06:54:31,669:qiskit.aqua.algorithms.adaptive.vqe.vqe:INFO: Energy evaluation 199 returned -1.158404208050733\n",
      "2019-10-25 06:54:31,743:qiskit.aqua.algorithms.adaptive.vqe.vqe:INFO: Energy evaluation 200 returned -1.158399477088476\n",
      "2019-10-25 06:54:31,744:qiskit.aqua.algorithms.adaptive.vqe.vqe:INFO: Optimization complete in 16.108237981796265 seconds.\n",
      "Found opt_params [ 1.56843139  4.66392181  4.54600301 -1.76716171  2.4786288  -2.16850585\n",
      "  0.56066875  1.16733325  1.69510203  1.61499414 -0.67862931  1.70550905\n",
      " -3.24709303  0.09989184 -2.03364328 -0.12876066] in 200 evals\n"
     ]
    },
    {
     "name": "stdout",
     "output_type": "stream",
     "text": [
      "The computed ground state energy is: -1.159284608104\n",
      "The total ground state energy is: -7.815134185987\n",
      "Parameters: [ 1.56843139  4.66392181  4.54600301 -1.76716171  2.4786288  -2.16850585\n",
      "  0.56066875  1.16733325  1.69510203  1.61499414 -0.67862931  1.70550905\n",
      " -3.24709303  0.09989184 -2.03364328 -0.12876066]\n",
      "Error relative to exact diagonalization: -0.008465090375538997\n"
     ]
    }
   ],
   "source": [
    "results_ry = vqe_ry.run(quantum_instance)\n",
    "print('The computed ground state energy is: {:.12f}'.format(results_ry['eigvals'][0]))\n",
    "print('The total ground state energy is: {:.12f}'.format(results_ry['eigvals'][0] + energy_shift + nuclear_repulsion_energy))\n",
    "print(\"Parameters: {}\".format(results_ry['opt_params']))\n",
    "print(\"Error relative to exact diagonalization: {}\".format(ret['eigvals'][0].real - results_ry['eigvals'][0]))"
   ]
  },
  {
   "cell_type": "markdown",
   "metadata": {
    "slideshow": {
     "slide_type": "slide"
    }
   },
   "source": [
    "Worse, but not too bad! We can improve this with hyperparameter (ansatz, initial_point, etc.) tuning. And the circuit is more reasonable:"
   ]
  },
  {
   "cell_type": "code",
   "execution_count": 140,
   "metadata": {
    "ExecuteTime": {
     "end_time": "2019-10-24T21:54:31.855780Z",
     "start_time": "2019-10-24T21:54:31.825172Z"
    }
   },
   "outputs": [
    {
     "data": {
      "text/html": [
       "<pre style=\"word-wrap: normal;white-space: pre;background: #fff0;line-height: 1.1;font-family: &quot;Courier New&quot;,Courier,monospace\">          ┌─────────────┐  ┌────────────────┐ ░                                                                                                                                       ░  ┌────────────────┐ ░                                                                                                                                       ░  ┌────────────────┐  ░                                                                                                                                       ░ ┌─────────────────┐  ░ \n",
       "q_0: |0>──┤ U3(pi,0,pi) ├──┤ U3(1.5684,0,0) ├─░───────────────■────────────────■────────────────■─────────────────────────────────────────────────────────────────────────────────────░──┤ U3(2.4786,0,0) ├─░───────────────■────────────────■────────────────■─────────────────────────────────────────────────────────────────────────────────────░──┤ U3(1.6951,0,0) ├──░───────────────■────────────────■────────────────■─────────────────────────────────────────────────────────────────────────────────────░─┤ U3(-3.2471,0,0) ├──░─\n",
       "          ├─────────────┤  ├────────────────┤ ░ ┌──────────┐┌─┴─┐┌──────────┐  │                │                                                                                     ░ ┌┴────────────────┤ ░ ┌──────────┐┌─┴─┐┌──────────┐  │                │                                                                                     ░  ├───────────────┬┘  ░ ┌──────────┐┌─┴─┐┌──────────┐  │                │                                                                                     ░ ├─────────────────┴┐ ░ \n",
       "q_1: |0>──┤ U3(pi,0,pi) ├──┤ U3(4.6639,0,0) ├─░─┤ U2(0,pi) ├┤ X ├┤ U2(0,pi) ├──┼────────────────┼───────────────────■────────────────────■────────────────────────────────────────────░─┤ U3(-2.1685,0,0) ├─░─┤ U2(0,pi) ├┤ X ├┤ U2(0,pi) ├──┼────────────────┼───────────────────■────────────────────■────────────────────────────────────────────░──┤ U3(1.615,0,0) ├───░─┤ U2(0,pi) ├┤ X ├┤ U2(0,pi) ├──┼────────────────┼───────────────────■────────────────────■────────────────────────────────────────────░─┤ U3(0.099892,0,0) ├─░─\n",
       "         ┌┴─────────────┴┐ └────────────────┘ ░ ├──────────┤└───┘└──────────┘┌─┴─┐┌──────────┐  │  ┌──────────┐   ┌─┴─┐    ┌──────────┐  │                                            ░ ├─────────────────┤ ░ ├──────────┤└───┘└──────────┘┌─┴─┐┌──────────┐  │  ┌──────────┐   ┌─┴─┐    ┌──────────┐  │                                            ░ ┌┴───────────────┴─┐ ░ ├──────────┤└───┘└──────────┘┌─┴─┐┌──────────┐  │  ┌──────────┐   ┌─┴─┐    ┌──────────┐  │                                            ░ ├─────────────────┬┘ ░ \n",
       "q_2: |0>─┤ U3(4.546,0,0) ├────────────────────░─┤ U2(0,pi) ├─────────────────┤ X ├┤ U2(0,pi) ├──┼──┤ U2(0,pi) ├───┤ X ├────┤ U2(0,pi) ├──┼────────────────────────────■───────────────░─┤ U3(0.56067,0,0) ├─░─┤ U2(0,pi) ├─────────────────┤ X ├┤ U2(0,pi) ├──┼──┤ U2(0,pi) ├───┤ X ├────┤ U2(0,pi) ├──┼────────────────────────────■───────────────░─┤ U3(-0.67863,0,0) ├─░─┤ U2(0,pi) ├─────────────────┤ X ├┤ U2(0,pi) ├──┼──┤ U2(0,pi) ├───┤ X ├────┤ U2(0,pi) ├──┼────────────────────────────■───────────────░─┤ U3(-2.0336,0,0) ├──░─\n",
       "        ┌┴───────────────┴┐                   ░ ├──────────┤                 └───┘└──────────┘┌─┴─┐├──────────┤┌──┴───┴───┐└──────────┘┌─┴─┐┌──────────┐┌──────────┐┌─┴─┐┌──────────┐ ░ └┬────────────────┤ ░ ├──────────┤                 └───┘└──────────┘┌─┴─┐├──────────┤┌──┴───┴───┐└──────────┘┌─┴─┐┌──────────┐┌──────────┐┌─┴─┐┌──────────┐ ░ └┬────────────────┬┘ ░ ├──────────┤                 └───┘└──────────┘┌─┴─┐├──────────┤┌──┴───┴───┐└──────────┘┌─┴─┐┌──────────┐┌──────────┐┌─┴─┐┌──────────┐ ░ ├─────────────────┴┐ ░ \n",
       "q_3: |0>┤ U3(-1.7672,0,0) ├───────────────────░─┤ U2(0,pi) ├──────────────────────────────────┤ X ├┤ U2(0,pi) ├┤ U2(0,pi) ├────────────┤ X ├┤ U2(0,pi) ├┤ U2(0,pi) ├┤ X ├┤ U2(0,pi) ├─░──┤ U3(1.1673,0,0) ├─░─┤ U2(0,pi) ├──────────────────────────────────┤ X ├┤ U2(0,pi) ├┤ U2(0,pi) ├────────────┤ X ├┤ U2(0,pi) ├┤ U2(0,pi) ├┤ X ├┤ U2(0,pi) ├─░──┤ U3(1.7055,0,0) ├──░─┤ U2(0,pi) ├──────────────────────────────────┤ X ├┤ U2(0,pi) ├┤ U2(0,pi) ├────────────┤ X ├┤ U2(0,pi) ├┤ U2(0,pi) ├┤ X ├┤ U2(0,pi) ├─░─┤ U3(-0.12876,0,0) ├─░─\n",
       "        └─────────────────┘                   ░ └──────────┘                                  └───┘└──────────┘└──────────┘            └───┘└──────────┘└──────────┘└───┘└──────────┘ ░  └────────────────┘ ░ └──────────┘                                  └───┘└──────────┘└──────────┘            └───┘└──────────┘└──────────┘└───┘└──────────┘ ░  └────────────────┘  ░ └──────────┘                                  └───┘└──────────┘└──────────┘            └───┘└──────────┘└──────────┘└───┘└──────────┘ ░ └──────────────────┘ ░ </pre>"
      ],
      "text/plain": [
       "<qiskit.visualization.text.TextDrawing at 0x11aeaf470>"
      ]
     },
     "execution_count": 140,
     "metadata": {},
     "output_type": "execute_result"
    }
   ],
   "source": [
    "ry_hf.construct_circuit(results_ry['opt_params']).draw(fold=4000)"
   ]
  },
  {
   "cell_type": "markdown",
   "metadata": {
    "slideshow": {
     "slide_type": "slide"
    }
   },
   "source": [
    "# Plotting a Full Dissociation Curve\n",
    "\n",
    "I recommend trying to plot the full dissociation profile for LiH (this will take a while - maybe over 20 minutes) based on [this notebook](https://github.com/Qiskit/qiskit-iqx-tutorials/blob/master/qiskit/advanced/aqua/chemistry/dissociation_profile_of_molecule.ipynb) 📒 by Mezzacapo et al. Notice, the reuse of the optimal parameters from a given point as the initial parameters for the following point. This gives us adiabatic-ish effects without having to run at extremely small distance steps."
   ]
  },
  {
   "cell_type": "markdown",
   "metadata": {
    "slideshow": {
     "slide_type": "fragment"
    }
   },
   "source": [
    "# Tips!\n",
    "\n",
    "* The examples above are somewhat naive, there are techniques to improve them by several orders of magnitude\n",
    "* $|\\text{Spin orbitals}| \\approx |\\text{qubits}|$ - if you increase the size of the molecule or basis, your classical execution time increases exponentially\n",
    "* You don’t need to use VQE to find eigenstates! You can use QPE, QAOA, or whatever else\n",
    "* Your initial point matters a lot. The way you move along a dissociation curve can dictate the fate of your resutlts.\n",
    "* UCCSD is nice but it will not be runnable on Quantum hardware for a long time.\n",
    "* Optimization over non-convex high-dimensional error surfaces is hard. I am sorry about that."
   ]
  }
 ],
 "metadata": {
  "celltoolbar": "Slideshow",
  "kernelspec": {
   "display_name": "Education",
   "language": "python",
   "name": "education"
  },
  "language_info": {
   "codemirror_mode": {
    "name": "ipython",
    "version": 3
   },
   "file_extension": ".py",
   "mimetype": "text/x-python",
   "name": "python",
   "nbconvert_exporter": "python",
   "pygments_lexer": "ipython3",
   "version": "3.6.5"
  },
  "toc": {
   "base_numbering": 1,
   "nav_menu": {},
   "number_sections": false,
   "sideBar": true,
   "skip_h1_title": true,
   "title_cell": "Table of Contents",
   "title_sidebar": "Contents",
   "toc_cell": false,
   "toc_position": {},
   "toc_section_display": true,
   "toc_window_display": false
  }
 },
 "nbformat": 4,
 "nbformat_minor": 2
}
