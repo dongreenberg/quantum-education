{
 "cells": [
  {
   "cell_type": "markdown",
   "metadata": {
    "slideshow": {
     "slide_type": "slide"
    }
   },
   "source": [
    "![Qiskit](https://github.com/Qiskit/qiskit-tutorials/raw/115c78962dda85bac29d679063b7d0d0ab1d1ab4/images/qiskit-heading.gif)"
   ]
  },
  {
   "cell_type": "markdown",
   "metadata": {
    "slideshow": {
     "slide_type": "-"
    }
   },
   "source": [
    "# Qiskit Bootcamp Parts III & IV: Aqua, Optimization, Machine Learning, and Chemistry\n",
    "\n",
    "donny@ibm.com"
   ]
  },
  {
   "cell_type": "markdown",
   "metadata": {
    "slideshow": {
     "slide_type": "slide"
    }
   },
   "source": [
    "# Gameplan\n",
    "\n",
    "* Overview and basics\n",
    "  * What is Aqua?\n",
    "  * Structural Elements\n",
    "  * Control flow\n",
    "  * Interfaces\n",
    "* Detailed component overview\n",
    "* Tips and Tricks\n",
    "* Learning more"
   ]
  },
  {
   "cell_type": "markdown",
   "metadata": {
    "slideshow": {
     "slide_type": "slide"
    }
   },
   "source": [
    "But first, install Aqua (installing via `pip install qiskit` should include Aqua after the last release):"
   ]
  },
  {
   "cell_type": "code",
   "execution_count": 2,
   "metadata": {
    "ExecuteTime": {
     "end_time": "2019-06-20T04:22:45.513250Z",
     "start_time": "2019-06-20T04:22:45.510603Z"
    },
    "slideshow": {
     "slide_type": "fragment"
    }
   },
   "outputs": [],
   "source": [
    "#!pip install qiskit-aqua"
   ]
  },
  {
   "cell_type": "code",
   "execution_count": 5,
   "metadata": {
    "ExecuteTime": {
     "end_time": "2019-06-20T04:23:04.925156Z",
     "start_time": "2019-06-20T04:23:04.922222Z"
    }
   },
   "outputs": [],
   "source": [
    "import warnings\n",
    "warnings.filterwarnings(action='ignore')"
   ]
  },
  {
   "cell_type": "markdown",
   "metadata": {
    "slideshow": {
     "slide_type": "slide"
    }
   },
   "source": [
    "# Part III: Constructing and Executing Quantum Algorithms with Aqua"
   ]
  },
  {
   "cell_type": "markdown",
   "metadata": {
    "slideshow": {
     "slide_type": "slide"
    }
   },
   "source": [
    "# What is Aqua?\n",
    "\n",
    "Aqua is:\n",
    "* An easy to use library for running many different quantum algorithms\n",
    "* A collection of reusable components which can be mixed and matched in different algorithms\n",
    "\n",
    "Aqua is very practically driven\n",
    "* We have real chemists and clients who are trying to get things done\n",
    "* It is exactly what you’d expect to spring out of rapid practical need… it is very function-driven and evolves rapidly\n",
    "* The guts are not so inviting in some places because it is engineered and optimized to the nines\n",
    "* If you need to do something, there is a good chance someone already put it in Aqua or should\n",
    "  * **Please submit feature requests!**\n",
    "\n",
    "Aqua is built to be highly extensible and have a diversity of available interfaces:\n",
    "* Declarative: Creating a QuantumAlgorithm object in python with a config dict and calling run()\n",
    "* Objective: Constructing QuantumAlgorithm and component objects manually\n",
    "* Aqua GUI\n",
    "* Command line interface\n"
   ]
  },
  {
   "cell_type": "markdown",
   "metadata": {
    "slideshow": {
     "slide_type": "slide"
    }
   },
   "source": [
    "# Plug and play components, not a circuit library\n",
    "\n",
    "Keep in mind:\n",
    "\n",
    "Aqua organizes reusable components into buckets, elements of which can be substituted for one another:\n",
    "* Algorithms\n",
    "* Variational forms\n",
    "* Optimizers\n",
    "* Other smaller buckets (translators, QFTs, oracles, feature maps)\n",
    "\n",
    "It is not so much an “I give you parameters, you give me back a circuit” library, because in nearly all cases, running an algorithm is much more than executing a single circuit (e.g. VQE, q-kernel SVM, etc.)\n",
    "\n",
    "It’s not even so much about “give me x component,” it’s more “execute this algorithm, with this set of components,” allowing you to mix and match or add your own components\n",
    "\n",
    "There are many tests, which give good examples of execution modes and components, as well as tutorials in the qiskit-tutorials repo\n",
    "\n",
    "Get an IDE (Pycharm is good!) and step through the code!\n"
   ]
  },
  {
   "cell_type": "markdown",
   "metadata": {
    "slideshow": {
     "slide_type": "slide"
    }
   },
   "source": [
    "# Structural Elements\n",
    "\n",
    "It is easy to see Aqua as being composed of roughly four high-level elements:\n",
    "* Algorithms - the control flow and logic in generally well contained inside the algorithm class file. \n",
    "* Interfaces - Aqua is meant to be highly accessible, so it has a lot of infrascructure to allow the graphical or JSON interfaces to be almost equally accessible as coding against the library directly (no small feat!)\n",
    "   * JSON definitions and declarative interfaces are dispersed throughout\n",
    "   * The UI and CLI are in the top level Aqua directory\n",
    "* Components - These are objects which are shared by several algorithms, as mentioned above.\n",
    "* Utilities - Aqua has many useful modules and helper classes that an algorithm and application developer might want. Examples include the [operator class](https://github.com/Qiskit/aqua/blob/master/qiskit_aqua/operator.py), [random matrix generator](https://github.com/Qiskit/aqua/blob/master/qiskit_aqua/utils/random_matrix_generator.py), [cnx](https://github.com/Qiskit/aqua/blob/master/qiskit_aqua/utils/cnx.py), [run_circutis.py](https://github.com/Qiskit/aqua/blob/master/qiskit_aqua/utils/run_circuits.py), and much more."
   ]
  },
  {
   "cell_type": "markdown",
   "metadata": {
    "slideshow": {
     "slide_type": "slide"
    }
   },
   "source": [
    "# The Maxcut problem\n",
    "\n",
    "Today, we're going to focus on a combinatorial optimization problem called **Maxcut**, which is solved by dividing the nodes of a weighted graph into two groups such that the egdes between the two groups carry the most possible weight. There's an [excellent notebook](https://github.com/Qiskit/qiskit-tutorial/blob/master/qiskit/aqua/optimization/maxcut_and_tsp.ipynb) 📒 by Mezzacapo et al that goes into the problem in more detail, which I highly recommend. For our purposes, reviewing solution paths is a more important use of our time, and we will not be spending much time on the translation between the graph problem and the qubit operator."
   ]
  },
  {
   "cell_type": "markdown",
   "metadata": {
    "slideshow": {
     "slide_type": "fragment"
    }
   },
   "source": [
    "Our solution path starts like this - we represent each node on the graph by a qubit, and the 0 or 1 state of the qubit represents which of the two groups each node occupies in a possible solution. Binary strings are possible solutions, describing how to divide the nodes into |0> group and |1> group. We can take the weights of the graph and turn them into a cost matrix on the vector space of these strings, such that this cost matrix represents an Ising hamiltonian whose minimum eignestate is our optimal solution."
   ]
  },
  {
   "cell_type": "markdown",
   "metadata": {
    "slideshow": {
     "slide_type": "slide"
    }
   },
   "source": [
    "Let's begin with a weight matrix w, representing the weights between edges of the graph. To make it easier to follow along with the above mentioned notebook, we'll use the same cost matrix."
   ]
  },
  {
   "cell_type": "code",
   "execution_count": 7,
   "metadata": {
    "ExecuteTime": {
     "end_time": "2019-06-20T04:23:22.202485Z",
     "start_time": "2019-06-20T04:23:22.185104Z"
    },
    "slideshow": {
     "slide_type": "fragment"
    }
   },
   "outputs": [],
   "source": [
    "import numpy as np\n",
    "from qiskit.tools.visualization import plot_histogram\n",
    "from qiskit.aqua import Operator, run_algorithm\n",
    "from qiskit.aqua.translators.ising import max_cut\n",
    "from qiskit.aqua.input import EnergyInput\n",
    "\n",
    "# setup aqua logging\n",
    "import logging\n",
    "from qiskit.aqua._logging import set_logging_config, build_logging_config"
   ]
  },
  {
   "cell_type": "code",
   "execution_count": 8,
   "metadata": {
    "ExecuteTime": {
     "end_time": "2019-06-20T04:23:32.498174Z",
     "start_time": "2019-06-20T04:23:32.492279Z"
    },
    "slideshow": {
     "slide_type": "fragment"
    }
   },
   "outputs": [],
   "source": [
    "w = np.array([[0., 1., 1., 1.,],\n",
    " [1., 0., 1., 0.,],\n",
    " [1., 1., 0., 1.,],\n",
    " [1., 0., 1., 0.,]])\n",
    "\n",
    "qubitOp, offset = max_cut.get_max_cut_qubitops(w)\n",
    "algo_input = EnergyInput(qubitOp)"
   ]
  },
  {
   "cell_type": "code",
   "execution_count": 9,
   "metadata": {
    "ExecuteTime": {
     "end_time": "2019-06-20T04:23:35.179638Z",
     "start_time": "2019-06-20T04:23:35.176110Z"
    },
    "slideshow": {
     "slide_type": "fragment"
    }
   },
   "outputs": [
    {
     "name": "stdout",
     "output_type": "stream",
     "text": [
      "[[0.5, Pauli(z=[True, True, False, False], x=[False, False, False, False])], [0.5, Pauli(z=[True, False, True, False], x=[False, False, False, False])], [0.5, Pauli(z=[False, True, True, False], x=[False, False, False, False])], [0.5, Pauli(z=[True, False, False, True], x=[False, False, False, False])], [0.5, Pauli(z=[False, False, True, True], x=[False, False, False, False])]]\n"
     ]
    }
   ],
   "source": [
    "print(qubitOp.paulis)"
   ]
  },
  {
   "cell_type": "code",
   "execution_count": 10,
   "metadata": {
    "ExecuteTime": {
     "end_time": "2019-06-20T04:23:36.384517Z",
     "start_time": "2019-06-20T04:23:36.367414Z"
    }
   },
   "outputs": [
    {
     "name": "stdout",
     "output_type": "stream",
     "text": [
      "[ 2.5 -0.5  0.5 -0.5 -0.5 -1.5 -0.5  0.5  0.5 -0.5 -1.5 -0.5 -0.5  0.5\n",
      " -0.5  2.5]\n"
     ]
    }
   ],
   "source": [
    "qubitOp.to_matrix()\n",
    "print(qubitOp.matrix)\n",
    "# Note, these are the diagonal elements"
   ]
  },
  {
   "cell_type": "markdown",
   "metadata": {},
   "source": [
    "For simplicity, we'll be using the declarative interface to Aqua today, which is accessed via a configuration dictionary."
   ]
  },
  {
   "cell_type": "code",
   "execution_count": 15,
   "metadata": {
    "ExecuteTime": {
     "end_time": "2019-06-20T04:28:23.731515Z",
     "start_time": "2019-06-20T04:28:17.396483Z"
    },
    "slideshow": {
     "slide_type": "slide"
    }
   },
   "outputs": [
    {
     "name": "stdout",
     "output_type": "stream",
     "text": [
      "energy: -1.4995485513056617\n",
      "time: 6.2674689292907715\n",
      "maxcut objective: -3.9995485513056614\n",
      "solution: [0. 1. 0. 1.]\n",
      "solution objective: 4.0\n"
     ]
    },
    {
     "data": {
      "text/plain": [
       "array([0., 1., 0., 1.])"
      ]
     },
     "execution_count": 15,
     "metadata": {},
     "output_type": "execute_result"
    }
   ],
   "source": [
    "aqua_dict = {\n",
    "    'problem': {'name': 'ising', 'random_seed': 10598},\n",
    "    'algorithm': {'name': 'VQE','operator_mode': 'matrix'},\n",
    "    'optimizer': {'name': 'SPSA','max_trials': 300},\n",
    "    'variational_form': {'name': 'RY','depth': 5,'entanglement': 'linear'},\n",
    "    'backend': {'name': 'statevector_simulator'}\n",
    "}\n",
    "\n",
    "result = run_algorithm(aqua_dict, algo_input)\n",
    "\n",
    "x = max_cut.sample_most_likely(result['eigvecs'][0])\n",
    "print('energy:', result['energy'])\n",
    "print('time:', result['eval_time'])\n",
    "print('maxcut objective:', result['energy'] + offset)\n",
    "print('solution:', max_cut.get_graph_solution(x))\n",
    "print('solution objective:', max_cut.max_cut_value(x, w))\n",
    "\n",
    "sol = max_cut.get_graph_solution(x)\n",
    "sol"
   ]
  },
  {
   "cell_type": "markdown",
   "metadata": {
    "slideshow": {
     "slide_type": "slide"
    }
   },
   "source": [
    "Now, let's try a new optimizer. This is a big part of the power of Aqua. The Aqua team spends time making the components broadly compatable, so experimentation is cheap and easy."
   ]
  },
  {
   "cell_type": "code",
   "execution_count": 11,
   "metadata": {
    "slideshow": {
     "slide_type": "fragment"
    }
   },
   "outputs": [
    {
     "name": "stdout",
     "output_type": "stream",
     "text": [
      "energy: -1.49999997646803\n",
      "time: 2.791951894760132\n",
      "maxcut objective: -3.99999997646803\n",
      "solution: [1. 0. 1. 0.]\n",
      "solution objective: 4.0\n"
     ]
    },
    {
     "data": {
      "text/plain": [
       "array([1., 0., 1., 0.])"
      ]
     },
     "execution_count": 11,
     "metadata": {},
     "output_type": "execute_result"
    }
   ],
   "source": [
    "aqua_dict = {\n",
    "    'problem': {'name': 'ising', 'random_seed': 10598},\n",
    "    'algorithm': {'name': 'VQE','operator_mode': 'matrix'},\n",
    "    'optimizer': {'name': 'SLSQP'},\n",
    "    'variational_form': {'name': 'RY','depth': 5,'entanglement': 'linear'},\n",
    "    'backend': {'name': 'statevector_simulator'}\n",
    "}\n",
    "\n",
    "result = run_algorithm(aqua_dict, algo_input)\n",
    "\n",
    "x = max_cut.sample_most_likely(result['eigvecs'][0])\n",
    "print('energy:', result['energy'])\n",
    "print('time:', result['eval_time'])\n",
    "print('maxcut objective:', result['energy'] + offset)\n",
    "print('solution:', max_cut.get_graph_solution(x))\n",
    "print('solution objective:', max_cut.max_cut_value(x, w))\n",
    "\n",
    "sol = max_cut.get_graph_solution(x)\n",
    "sol"
   ]
  },
  {
   "cell_type": "markdown",
   "metadata": {
    "slideshow": {
     "slide_type": "fragment"
    }
   },
   "source": [
    "Empirical notes on optimizers:\n",
    "* COBYLA is a generally good global optimizer, especially in situations when you do not have a good starting point\n",
    "* SLSQP is very good when you have a good starting point, and the error surface can be approximated in small cavities by quadratic functions\n",
    "* SPSA is generally resilient to noise, so almost always the first choise for running on the hardware or noisy simulations"
   ]
  },
  {
   "cell_type": "markdown",
   "metadata": {
    "slideshow": {
     "slide_type": "slide"
    }
   },
   "source": [
    "Now let's try a new variational form:"
   ]
  },
  {
   "cell_type": "code",
   "execution_count": 12,
   "metadata": {
    "slideshow": {
     "slide_type": "fragment"
    }
   },
   "outputs": [
    {
     "name": "stdout",
     "output_type": "stream",
     "text": [
      "energy: -1.4999952980825784\n",
      "time: 22.096724033355713\n",
      "maxcut objective: -3.9999952980825784\n",
      "solution: [1. 0. 1. 0.]\n",
      "solution objective: 4.0\n"
     ]
    },
    {
     "data": {
      "text/plain": [
       "array([1., 0., 1., 0.])"
      ]
     },
     "execution_count": 12,
     "metadata": {},
     "output_type": "execute_result"
    }
   ],
   "source": [
    "aqua_dict = {\n",
    "    'problem': {'name': 'ising', 'random_seed': 10598},\n",
    "    'algorithm': {'name': 'VQE','operator_mode': 'matrix'},\n",
    "    'optimizer': {'name': 'SLSQP'},\n",
    "    'variational_form': {'name': 'RYRZ','depth': 5,'entanglement': 'linear'},\n",
    "    'backend': {'name': 'statevector_simulator'}\n",
    "}\n",
    "\n",
    "result = run_algorithm(aqua_dict, algo_input)\n",
    "\n",
    "x = max_cut.sample_most_likely(result['eigvecs'][0])\n",
    "print('energy:', result['energy'])\n",
    "print('time:', result['eval_time'])\n",
    "print('maxcut objective:', result['energy'] + offset)\n",
    "print('solution:', max_cut.get_graph_solution(x))\n",
    "print('solution objective:', max_cut.max_cut_value(x, w))\n",
    "\n",
    "sol = max_cut.get_graph_solution(x)\n",
    "sol"
   ]
  },
  {
   "cell_type": "markdown",
   "metadata": {
    "slideshow": {
     "slide_type": "slide"
    }
   },
   "source": [
    "That seemed to work worse. We can also increase variational form depth:"
   ]
  },
  {
   "cell_type": "code",
   "execution_count": 13,
   "metadata": {
    "slideshow": {
     "slide_type": "fragment"
    }
   },
   "outputs": [
    {
     "name": "stdout",
     "output_type": "stream",
     "text": [
      "energy: -1.4999999013985974\n",
      "time: 5.321591138839722\n",
      "maxcut objective: -3.9999999013985974\n",
      "solution: [1. 0. 1. 0.]\n",
      "solution objective: 4.0\n"
     ]
    },
    {
     "data": {
      "text/plain": [
       "array([1., 0., 1., 0.])"
      ]
     },
     "execution_count": 13,
     "metadata": {},
     "output_type": "execute_result"
    }
   ],
   "source": [
    "aqua_dict = {\n",
    "    'problem': {'name': 'ising', 'random_seed': 10598},\n",
    "    'algorithm': {'name': 'VQE','operator_mode': 'matrix'},\n",
    "    'optimizer': {'name': 'SLSQP'},\n",
    "    'variational_form': {'name': 'RY','depth': 8,'entanglement': 'linear'},\n",
    "    'backend': {'name': 'statevector_simulator'}\n",
    "}\n",
    "\n",
    "result = run_algorithm(aqua_dict, algo_input)\n",
    "\n",
    "x = max_cut.sample_most_likely(result['eigvecs'][0])\n",
    "print('energy:', result['energy'])\n",
    "print('time:', result['eval_time'])\n",
    "print('maxcut objective:', result['energy'] + offset)\n",
    "print('solution:', max_cut.get_graph_solution(x))\n",
    "print('solution objective:', max_cut.max_cut_value(x, w))\n",
    "\n",
    "sol = max_cut.get_graph_solution(x)\n",
    "sol"
   ]
  },
  {
   "cell_type": "markdown",
   "metadata": {
    "slideshow": {
     "slide_type": "slide"
    }
   },
   "source": [
    "In many cases we can even swap out the **algorithm**:"
   ]
  },
  {
   "cell_type": "code",
   "execution_count": 12,
   "metadata": {
    "ExecuteTime": {
     "end_time": "2019-06-20T04:27:02.678453Z",
     "start_time": "2019-06-20T04:25:52.141502Z"
    },
    "slideshow": {
     "slide_type": "fragment"
    }
   },
   "outputs": [
    {
     "name": "stdout",
     "output_type": "stream",
     "text": [
      "energy: -0.7244926451189756\n",
      "time: 70.15813612937927\n",
      "maxcut objective: -3.2244926451189757\n",
      "solution: [0. 1. 0. 1.]\n",
      "solution objective: 4.0\n"
     ]
    },
    {
     "ename": "NameError",
     "evalue": "name 'maxcut' is not defined",
     "output_type": "error",
     "traceback": [
      "\u001b[0;31m---------------------------------------------------------------------------\u001b[0m",
      "\u001b[0;31mNameError\u001b[0m                                 Traceback (most recent call last)",
      "\u001b[0;32m<ipython-input-12-09dda228c247>\u001b[0m in \u001b[0;36m<module>\u001b[0;34m\u001b[0m\n\u001b[1;32m     15\u001b[0m \u001b[0mprint\u001b[0m\u001b[0;34m(\u001b[0m\u001b[0;34m'solution objective:'\u001b[0m\u001b[0;34m,\u001b[0m \u001b[0mmax_cut\u001b[0m\u001b[0;34m.\u001b[0m\u001b[0mmax_cut_value\u001b[0m\u001b[0;34m(\u001b[0m\u001b[0mx\u001b[0m\u001b[0;34m,\u001b[0m \u001b[0mw\u001b[0m\u001b[0;34m)\u001b[0m\u001b[0;34m)\u001b[0m\u001b[0;34m\u001b[0m\u001b[0m\n\u001b[1;32m     16\u001b[0m \u001b[0;34m\u001b[0m\u001b[0m\n\u001b[0;32m---> 17\u001b[0;31m \u001b[0msol\u001b[0m \u001b[0;34m=\u001b[0m \u001b[0mmaxcut\u001b[0m\u001b[0;34m.\u001b[0m\u001b[0mget_graph_solution\u001b[0m\u001b[0;34m(\u001b[0m\u001b[0mx\u001b[0m\u001b[0;34m)\u001b[0m\u001b[0;34m\u001b[0m\u001b[0m\n\u001b[0m\u001b[1;32m     18\u001b[0m \u001b[0msol\u001b[0m\u001b[0;34m\u001b[0m\u001b[0m\n",
      "\u001b[0;31mNameError\u001b[0m: name 'maxcut' is not defined"
     ]
    }
   ],
   "source": [
    "aqua_dict = {\n",
    "    'problem': {'name': 'ising', 'random_seed': 10598},\n",
    "    'algorithm': {'name': 'QAOA.Variational','operator_mode': 'matrix', 'p':2},\n",
    "    'optimizer': {'name': 'COBYLA'},\n",
    "    'backend': {'name': 'statevector_simulator'}\n",
    "}\n",
    "\n",
    "result = run_algorithm(aqua_dict, algo_input)\n",
    "\n",
    "x = max_cut.sample_most_likely(result['eigvecs'][0])\n",
    "print('energy:', result['energy'])\n",
    "print('time:', result['eval_time'])\n",
    "print('maxcut objective:', result['energy'] + offset)\n",
    "print('solution:', max_cut.get_graph_solution(x))\n",
    "print('solution objective:', max_cut.max_cut_value(x, w))\n",
    "\n",
    "sol = maxcut.get_graph_solution(x)\n",
    "sol"
   ]
  },
  {
   "cell_type": "markdown",
   "metadata": {
    "slideshow": {
     "slide_type": "slide"
    }
   },
   "source": [
    "# Interfaces: Dictionary vs. Declaration\n",
    "\n",
    "The form above relies on a dictionary to construct the Aqua components, and is convenient for many use cases. The dictionary allows you to experiment with low-risk changes to the algorithm in a cheap and straightforward way. \n",
    "\n",
    "In addition, objects can be constructed explicitly via imports and constructors. This allows you to reuse or modify components more daringly, and most algorithms developers eventully take this route for many parts of their work."
   ]
  },
  {
   "cell_type": "markdown",
   "metadata": {
    "slideshow": {
     "slide_type": "slide"
    }
   },
   "source": [
    "# Quick Demo: Aqua UI\n",
    "\n",
    "_Note: The following shell command can only be run locally_"
   ]
  },
  {
   "cell_type": "code",
   "execution_count": 16,
   "metadata": {},
   "outputs": [
    {
     "name": "stdout",
     "output_type": "stream",
     "text": [
      "Traceback (most recent call last):\n",
      "  File \"/Users/donny.greenberg@ibm.com/Code/bin/qiskit_aqua_ui\", line 11, in <module>\n",
      "    load_entry_point('qiskit-aqua', 'gui_scripts', 'qiskit_aqua_ui')()\n",
      "  File \"/Users/donny.greenberg@ibm.com/Code/lib/python3.6/site-packages/pkg_resources/__init__.py\", line 487, in load_entry_point\n",
      "    return get_distribution(dist).load_entry_point(group, name)\n",
      "  File \"/Users/donny.greenberg@ibm.com/Code/lib/python3.6/site-packages/pkg_resources/__init__.py\", line 2727, in load_entry_point\n",
      "    raise ImportError(\"Entry point %r not found\" % ((group, name),))\n",
      "ImportError: Entry point ('gui_scripts', 'qiskit_aqua_ui') not found\n"
     ]
    }
   ],
   "source": [
    "!qiskit_aqua_ui"
   ]
  },
  {
   "cell_type": "markdown",
   "metadata": {
    "slideshow": {
     "slide_type": "slide"
    }
   },
   "source": [
    "# Other Neat Stuff\n",
    "\n",
    "Aqua has many core algorithms, including:\n",
    "* VQE\n",
    "* QAOA\n",
    "* QPE/iterativeQPE\n",
    "* Hamiltonian Evolution\n",
    "* Quantum-Kernel SVM\n",
    "* Variational SVM\n",
    "* Grover’s"
   ]
  },
  {
   "cell_type": "markdown",
   "metadata": {
    "slideshow": {
     "slide_type": "slide"
    }
   },
   "source": [
    "# Example: Quantum ML with Support Vector Machines\n",
    "\n",
    "Q-Kernel SVM: We use a standard classical SVM with a “quantum kernel.” The kernel is an nxn matrix (n is the number of training samples), where matrix element m, p is generated by running short variational circuits of the form ⟨variational _form(m)|variational_form(p)⟩ for every point m, p in the training set. Note that a single point m is a list of features. This kernel extends the reach of the feature space beyond what we believe is possible classically.\n",
    "\n",
    "Q-Variational SVM: To train, we input a sample as the initial state of a short variational circuit, with parameters, and read the result (mod 2) to find the circuit’s classification. We optimize the parameters of the variational circuit classically to improve the model’s classification accuracy.\n",
    "Warning: the variational svm can be very slow to converge.\n",
    "\n",
    "Task below: attempt to fit a very nonlinear function, f(x,y) = x*y\n"
   ]
  },
  {
   "cell_type": "code",
   "execution_count": 16,
   "metadata": {
    "ExecuteTime": {
     "end_time": "2019-06-20T04:28:32.658515Z",
     "start_time": "2019-06-20T04:28:32.654395Z"
    },
    "slideshow": {
     "slide_type": "fragment"
    }
   },
   "outputs": [],
   "source": [
    "from qiskit.aqua.utils import split_dataset_to_data_and_labels, map_label_to_class_name\n",
    "from qiskit.aqua.input import ClassificationInput\n",
    "import time\n",
    "from sklearn import svm\n",
    "\n",
    "import matplotlib as mpl\n",
    "from mpl_toolkits.mplot3d import Axes3D\n",
    "import matplotlib.pyplot as plt\n",
    "from matplotlib import cm\n",
    "from matplotlib.ticker import MaxNLocator"
   ]
  },
  {
   "cell_type": "markdown",
   "metadata": {
    "slideshow": {
     "slide_type": "slide"
    }
   },
   "source": [
    "Let's start by creating and visalizing our sample data."
   ]
  },
  {
   "cell_type": "code",
   "execution_count": 17,
   "metadata": {
    "ExecuteTime": {
     "end_time": "2019-06-20T04:28:35.154292Z",
     "start_time": "2019-06-20T04:28:35.145796Z"
    },
    "slideshow": {
     "slide_type": "fragment"
    }
   },
   "outputs": [
    {
     "name": "stdout",
     "output_type": "stream",
     "text": [
      "{'greater': [[-0.9067473551844623, -0.5678951793912612], [0.29451499832949213, 0.26763775315161586], [-0.18264359955292142, -0.34942072011010383], [0.22703711996153997, 0.2332521343532299], [-0.84672533774413, -0.9641937355673229], [0.954122058876167, 0.19612573544677714], [-0.22395662949168327, -0.6225137008695321], [-0.7755273144987502, -0.10679489350635185], [0.8347064638077295, 0.7176659134579462], [-0.42643115952189237, -0.005308575783189218], [0.8620023973309809, 0.5293887043617629], [-0.481046655362769, -0.89502432848601], [0.7938864648973329, 0.7725853868881696], [-0.676532852756303, -0.02158681935877582], [-0.5029823540071923, -0.399598446424686], [-0.9481415093805554, -0.5654863101622991], [-0.19631785295565263, -0.17912149675178113], [0.34046288728047536, 0.7376950925947321], [0.07020929849974555, 0.7365533037115781], [0.6109074699278769, 0.9468616181988334], [0.5013645587428261, 0.7656988377689904], [-0.8076925840892759, -0.4607764508765988], [0.6599661995898531, 0.9670444892166954], [-0.288708828295994, -0.3742558297337122]], 'less': [[0.9383012880896922, -0.8867655540267256], [0.11676872936899962, -0.18760775265375407], [0.6220510364178862, -0.09924413602930615], [0.8281694664429415, -0.6133297744464918], [0.597024886121829, -0.3529611163520736], [0.07973455191404821, -0.48525815330792454], [0.0011126122303277697, -0.551322794225066], [-0.6622194867614328, 0.4372535860021214], [0.01995669966083491, -0.10172046478669383], [-0.37881909810492864, 0.5454757937311854], [0.6101445206562701, -0.6727830131151697], [-0.08173658554123953, 0.437542952266627], [0.07477434004659678, -0.6138146718140296], [-0.6657468372297668, 0.6789667865243891], [-0.3564635708456114, 0.4480610259869193], [0.1908110696006844, -0.9442447712709623], [0.17226354209112626, -0.9560999213056114], [-0.09404026659529774, 0.9687485414721508], [0.9452170843138277, -0.9890152239260808], [0.47387172880907547, -0.5256871873483191], [0.5211790091358137, -0.016216025767519016], [-0.969816792995057, 0.5354558412246497], [-0.8406569310270862, 0.8198654336570694], [0.6101406467252963, -0.6033897037267921], [-0.9786833202656442, 0.15864027543828718], [-0.6859886587013089, 0.8227679303146236]]}\n",
      "{'greater': [[0.8944714561387159, 0.9577445672251468], [0.5105598685529669, 0.3532871228737422], [0.6885437577107734, 0.4658946677385116], [-0.09445010984886504, -0.1726429870233459], [0.2433403452750087, 0.13146953100132008], [0.8197208881391276, 0.02926001334906969], [-0.8836563204804804, -0.15349890115434173], [-0.010884748421878143, -0.30899136098644964], [0.7086836921514603, 0.673001701448176]], 'less': [[0.05440497066061223, -0.6146392019106177], [-0.7594030662976761, 0.2631944406061273], [0.34602104269232226, -0.9754476140818715], [0.9159754501594772, -0.3978178413683151], [-0.5969623961338535, 0.8347628330639034], [0.2779764760555543, -0.48453068437739044], [-0.9800009114119084, 0.8425165608731426], [-0.18907698472756906, 0.49721765238404414], [0.718209393042631, -0.7938285777086569], [0.7278875720735059, -0.8150011737484664], [-0.5053761919786641, 0.7098129115690479]]}\n"
     ]
    }
   ],
   "source": [
    "train_size = 50\n",
    "test_size = 20\n",
    "\n",
    "x_trn = (np.random.random(train_size)*2)-1\n",
    "y_trn = (np.random.random(train_size)*2)-1\n",
    "greater = [[x,y] for x,y in zip(x_trn,y_trn) if x*y >=0]\n",
    "less = [[x,y] for x,y in zip(x_trn,y_trn) if x*y < 0]\n",
    "training_data = {\"greater\": greater, \"less\":less}\n",
    "print(training_data)\n",
    "\n",
    "x_tst = (np.random.random(test_size)*2)-1\n",
    "y_tst = (np.random.random(test_size)*2)-1\n",
    "greater = [[x,y] for x,y in zip(x_tst,y_tst) if x*y >=0]\n",
    "less = [[x,y] for x,y in zip(x_tst,y_tst) if x*y < 0]\n",
    "test_data = {\"greater\": greater, \"less\":less}\n",
    "print(test_data)"
   ]
  },
  {
   "cell_type": "code",
   "execution_count": 18,
   "metadata": {
    "ExecuteTime": {
     "end_time": "2019-06-20T04:28:37.442172Z",
     "start_time": "2019-06-20T04:28:37.202229Z"
    },
    "slideshow": {
     "slide_type": "slide"
    }
   },
   "outputs": [
    {
     "name": "stderr",
     "output_type": "stream",
     "text": [
      "No handles with labels found to put in legend.\n"
     ]
    },
    {
     "data": {
      "image/png": "[encoded data removed]",
      "text/plain": [
       "<Figure size 432x288 with 2 Axes>"
      ]
     },
     "metadata": {
      "needs_background": "light"
     },
     "output_type": "display_data"
    }
   ],
   "source": [
    "mpl.rcParams['legend.fontsize'] = 10\n",
    "fig = plt.figure()\n",
    "ax = fig.gca(projection='3d')\n",
    "\n",
    "ax = fig.add_subplot(111, projection='3d')\n",
    "surf = ax.plot_trisurf(x_trn, y_trn, x_trn*y_trn, cmap=cm.jet, linewidth=0) #Jet4Ever\n",
    "ax.xaxis.set_major_locator(MaxNLocator(5))\n",
    "ax.yaxis.set_major_locator(MaxNLocator(6))\n",
    "ax.zaxis.set_major_locator(MaxNLocator(5))\n",
    "\n",
    "fig.tight_layout()\n",
    "\n",
    "ax.legend()\n",
    "plt.show()"
   ]
  },
  {
   "cell_type": "markdown",
   "metadata": {
    "slideshow": {
     "slide_type": "slide"
    }
   },
   "source": [
    "Let's define a function to fit the data with the quantum kernel svm, and test it. This will take a while, maybe 20-30 minutes. It scales with O(n^2)."
   ]
  },
  {
   "cell_type": "code",
   "execution_count": 35,
   "metadata": {
    "ExecuteTime": {
     "end_time": "2019-06-20T12:40:23.665388Z",
     "start_time": "2019-06-20T12:40:23.645472Z"
    },
    "slideshow": {
     "slide_type": "fragment"
    }
   },
   "outputs": [],
   "source": [
    "def aqua_qksvm_score(tr_input, te_input, shots=100):\n",
    "    aqua_params = {\n",
    "        'problem': {'name': 'classification'},\n",
    "        'backend': {'name': 'qasm_simulator', 'shots': shots},\n",
    "        'algorithm': {'name': 'QSVM'}\n",
    "    }\n",
    "    algo_input = ClassificationInput(training_dataset=tr_input, test_dataset=te_input)\n",
    "    t0 = time.process_time()\n",
    "    result = run_algorithm(aqua_params, algo_input)\n",
    "    t1 = time.process_time()\n",
    "    return result, (t1 - t0)/60"
   ]
  },
  {
   "cell_type": "code",
   "execution_count": 36,
   "metadata": {
    "ExecuteTime": {
     "end_time": "2019-06-20T12:40:55.033252Z",
     "start_time": "2019-06-20T12:40:25.077177Z"
    },
    "slideshow": {
     "slide_type": "fragment"
    }
   },
   "outputs": [
    {
     "name": "stderr",
     "output_type": "stream",
     "text": [
      "|██████████████████████████████████████████████████| 1000/1000 [00:00:00:00]\n",
      "|██████████████████████████████████████████████████| 1000/1000 [00:00:00:00]\n",
      "|██████████████████████████████████████████████████| 225/225 [00:00:00:00]\n",
      "|██████████████████████████████████████████████████| 225/225 [00:00:00:00]\n",
      "|██████████████████████████████████████████████████| 960/960 [00:00:00:00]\n",
      "|██████████████████████████████████████████████████| 960/960 [00:00:00:00]\n"
     ]
    },
    {
     "name": "stdout",
     "output_type": "stream",
     "text": [
      "60.0%\n",
      "Process time: 0.5067383666666672 mins\n"
     ]
    }
   ],
   "source": [
    "result, proc_time = aqua_qksvm_score(training_data, test_data, shots=100)\n",
    "print(\"{}%\".format(result['test_success_ratio']*100))\n",
    "print(\"Process time: {} mins\".format(proc_time))"
   ]
  },
  {
   "cell_type": "markdown",
   "metadata": {
    "slideshow": {
     "slide_type": "slide"
    }
   },
   "source": [
    "Now let's try swapping it out for the Variational SVM. This will probably take closer to 10 minutes."
   ]
  },
  {
   "cell_type": "code",
   "execution_count": 37,
   "metadata": {
    "ExecuteTime": {
     "end_time": "2019-06-20T12:41:01.922884Z",
     "start_time": "2019-06-20T12:41:01.917533Z"
    },
    "slideshow": {
     "slide_type": "fragment"
    }
   },
   "outputs": [],
   "source": [
    "def aqua_variational_svm_score(tr_input, te_input, shots=10):\n",
    "    aqua_params = {\n",
    "        'problem': {'name': 'classification'},\n",
    "        'backend': {'name': 'qasm_simulator', 'shots': shots},\n",
    "        'algorithm': {'name': 'VQC'},\n",
    "        'optimizer': {'name': 'SPSA'},\n",
    "        'variational_form': {'name': 'RYRZ', 'depth': 2}\n",
    "    }\n",
    "    algo_input = ClassificationInput(training_dataset=tr_input, test_dataset=te_input)\n",
    "    t0 = time.process_time()\n",
    "    result = run_algorithm(aqua_params, algo_input)\n",
    "    t1 = time.process_time()\n",
    "    return result, (t1 - t0)/60"
   ]
  },
  {
   "cell_type": "code",
   "execution_count": 38,
   "metadata": {
    "ExecuteTime": {
     "end_time": "2019-06-20T12:50:18.782776Z",
     "start_time": "2019-06-20T12:41:05.705109Z"
    },
    "slideshow": {
     "slide_type": "fragment"
    }
   },
   "outputs": [
    {
     "name": "stdout",
     "output_type": "stream",
     "text": [
      "55.00000000000001%\n",
      "Process time: 9.214979483333334 mins\n"
     ]
    }
   ],
   "source": [
    "result, proc_time = aqua_variational_svm_score(training_data, test_data, shots=100)\n",
    "print(\"{}%\".format(result['test_success_ratio']*100))\n",
    "print(\"Process time: {} mins\".format(proc_time))"
   ]
  },
  {
   "cell_type": "markdown",
   "metadata": {
    "slideshow": {
     "slide_type": "slide"
    }
   },
   "source": [
    "And for good measure, let's score these against a popular set of classical SVM kernels:"
   ]
  },
  {
   "cell_type": "code",
   "execution_count": 28,
   "metadata": {
    "ExecuteTime": {
     "end_time": "2019-06-20T04:35:31.661289Z",
     "start_time": "2019-06-20T04:35:31.657542Z"
    },
    "slideshow": {
     "slide_type": "fragment"
    }
   },
   "outputs": [],
   "source": [
    "def classical_svm_score(samples_tr, labels_tr, samples_te, labels_te, kernel='linear'):\n",
    "    model = svm.SVC(kernel=kernel, gamma='auto')\n",
    "    model.fit(samples_tr, labels_tr)\n",
    "    return model.score(samples_te, labels_te)"
   ]
  },
  {
   "cell_type": "code",
   "execution_count": 29,
   "metadata": {
    "ExecuteTime": {
     "end_time": "2019-06-20T04:35:36.867546Z",
     "start_time": "2019-06-20T04:35:36.851974Z"
    },
    "slideshow": {
     "slide_type": "fragment"
    }
   },
   "outputs": [
    {
     "name": "stdout",
     "output_type": "stream",
     "text": [
      "{'rbf': 0.8, 'linear': 0.65, 'poly': 0.55, 'sigmoid': 0.6}\n"
     ]
    }
   ],
   "source": [
    "samples_train = list(zip(x_trn, y_trn))\n",
    "samples_test = list(zip(x_tst, y_tst))\n",
    "labels_train = [x*y>=0 for [x,y] in samples_train]\n",
    "labels_test = [x*y>0 for [x,y] in samples_test]\n",
    "\n",
    "perf = {'rbf':[], 'linear':[], 'poly':[], 'sigmoid':[]}\n",
    "for key in perf:\n",
    "    perf[key] = classical_svm_score(samples_train, \n",
    "                                        labels_train, \n",
    "                                        samples_test, \n",
    "                                        labels_test, \n",
    "                                        kernel=key)\n",
    "print(perf)"
   ]
  },
  {
   "cell_type": "markdown",
   "metadata": {
    "slideshow": {
     "slide_type": "slide"
    }
   },
   "source": [
    "# Tips and tricks (Basically the same as Terra...)\n",
    "\n",
    "* Put many circuits into a single execution!\n",
    "  * Simulators will (generally) execute these in parallel\n",
    "  * Quantum Hardware does a lot of calibration for each new job, so if you send 100 jobs it will generally take 100x as long as one job with 100 circuits, even if the circuits are completely different!\n",
    "* The “qasm_simulator” (cpp) backend fails gracefully over to the “qasm_simulator_py,” which is ~5x slower!\n",
    "  * (ctrl-f for 'failing gracefully')\n",
    "* Consider commenting out Qobj validation if you need more speed in an iterative algo, but don’t tell anyone who told you so!\n",
    "* Use an IDE!! A lot of people at IBM use Pycharm. Being able to step through the code is critical!\n",
    "* Look at the debug log messages. There is a ton of important info in there.\n",
    "  * Even better, save them to a file."
   ]
  },
  {
   "cell_type": "code",
   "execution_count": 30,
   "metadata": {
    "ExecuteTime": {
     "end_time": "2019-06-20T04:35:39.040292Z",
     "start_time": "2019-06-20T04:35:39.037279Z"
    },
    "slideshow": {
     "slide_type": "fragment"
    }
   },
   "outputs": [],
   "source": [
    "import logging\n",
    "logging.getLogger('qiskit').setLevel(logging.DEBUG)"
   ]
  },
  {
   "cell_type": "markdown",
   "metadata": {
    "slideshow": {
     "slide_type": "fragment"
    }
   },
   "source": [
    "Redirecting logs to a file:\n",
    "\n",
    "```\n",
    "# Redirecting debug logs to a file (can't be done in colab):\n",
    "    loggerc = logging.getLogger('qiskit_chemistry')\n",
    "    loggerc.setLevel(logging.DEBUG)\n",
    "    loggera = logging.getLogger('qiskit_aqua')\n",
    "    loggera.setLevel(logging.DEBUG)\n",
    "    loggerq = logging.getLogger('qiskit')\n",
    "    loggerq.setLevel(logging.DEBUG)\n",
    "    formatter = logging.Formatter(fmt='%(asctime)s %(levelname)-8s %(message)s', datefmt='%Y-%m-%d %H:%M:%S')\n",
    "    hdlr = logging.FileHandler(outdir + log_file_name, mode='w')\n",
    "    hdlr.setFormatter(formatter)\n",
    "    loggerc.addHandler(hdlr)\n",
    "    loggera.addHandler(hdlr)\n",
    "    loggerq.addHandler(hdlr)\n",
    "    print('\\nlog file: {}'.format(outdir + log_file_name))\n",
    "# <build, execute, etc.>\n",
    "# close up handlers\n",
    "    loggerc.removeHandler(hdlr)\n",
    "    loggera.removeHandler(hdlr)\n",
    "    loggerq.removeHandler(hdlr)\n",
    "    hdlr.close()\n",
    "```"
   ]
  },
  {
   "cell_type": "markdown",
   "metadata": {
    "slideshow": {
     "slide_type": "slide"
    }
   },
   "source": [
    "# Part IV: Qiskit Chemistry"
   ]
  },
  {
   "cell_type": "markdown",
   "metadata": {
    "slideshow": {
     "slide_type": "slide"
    }
   },
   "source": [
    "# Qiskit Chemistry is a Convenient Wrapper Around Aqua and Popular Chemistry Drivers\n",
    "\n",
    "* Qiskit Chemistry is an even more practitioner-centric tool, specifically for Chemists\n",
    "* It includes two other component buckets that are not in Aqua: Chemistry drivers, and mappings (Jordan-Wigner, Bravyi-Kitaev, parity, etc.)\n",
    "* The interfaces look very similar to Aqua - instantiation with a dictionary, or a standalone UI, etc.\n",
    "* The core service of Qiskit Chemistry is to prepare all of the required calculations for the hamiltonian and other important observables before attempting to do Chemistry simulation or eigendecomposition in Aqua\n"
   ]
  },
  {
   "cell_type": "code",
   "execution_count": null,
   "metadata": {
    "slideshow": {
     "slide_type": "fragment"
    }
   },
   "outputs": [],
   "source": [
    "#!pip install qiskit-chemistry\n",
    "#!pip install pyscf"
   ]
  },
  {
   "cell_type": "code",
   "execution_count": 31,
   "metadata": {
    "ExecuteTime": {
     "end_time": "2019-06-20T04:35:50.148487Z",
     "start_time": "2019-06-20T04:35:50.143282Z"
    },
    "slideshow": {
     "slide_type": "fragment"
    }
   },
   "outputs": [],
   "source": [
    "import numpy as np\n",
    "import pylab\n",
    "from qiskit.chemistry import QiskitChemistry"
   ]
  },
  {
   "cell_type": "markdown",
   "metadata": {
    "slideshow": {
     "slide_type": "slide"
    }
   },
   "source": [
    "# Most Important Thing to Grasp - the Execution Flow:\n",
    "\n",
    "* Qiskit Chemistry discovers components and reads config dictionaries\n",
    "* Most fancy Chemistry package features are allowed, like orbital removal, qubit tapering, core freezing, etc.\n",
    "* Calls Chemistry Drivers to calculate single and double excitation integrals\n",
    "* Uses mapping to create a hamiltonian circuit out of operators for each excitation\n",
    "* Calls VQE in Aqua to find eigenstates of the hamiltonian (e.g. ground state energy)\n",
    "  * Also passes aux_ops (auxiliary operators) for Aqua to calculate at the end: spin, particle number, dipole moment, etc.\n",
    "* Aqua creates an “evaluate_energy” function which: \n",
    "  * Takes in a scalar parameter list, creates a variational form (UCCSD, RyRz, Swap-Rz, your own, etc.) parameterized by the list\n",
    "  * Executes the variational circuit + the hamiltonian circuit (or does math in the background to simulate the result quickly without sending the full circuit to the simulator)\n",
    "  * Returns the resulting energy of the system\n",
    "* Aqua instantiates an optimizer, and passes the energy function as the cost function to minimize\n",
    "  * Use COBYLA if running on statevector simulator, SPSA if running on shot-based (qasm) because it performs well in the presence of noise\n",
    "* The optimizer minimizes the energy, and returns the optimal parameters when complete\n",
    "* Aqua re-creates the ground state with the optimal params, and calculates and returns the ground state energy and auxiliary operators"
   ]
  },
  {
   "cell_type": "markdown",
   "metadata": {
    "slideshow": {
     "slide_type": "slide"
    }
   },
   "source": [
    "Let's start with a simple example, NaH:"
   ]
  },
  {
   "cell_type": "code",
   "execution_count": 34,
   "metadata": {
    "ExecuteTime": {
     "end_time": "2019-06-20T04:38:58.224394Z",
     "start_time": "2019-06-20T04:38:47.843369Z"
    },
    "scrolled": true,
    "slideshow": {
     "slide_type": "fragment"
    }
   },
   "outputs": [
    {
     "name": "stdout",
     "output_type": "stream",
     "text": [
      "System: uname_result(system='Darwin', node='Donnys-MacBook-Pro.local', release='18.6.0', version='Darwin Kernel Version 18.6.0: Thu Apr 25 23:16:27 PDT 2019; root:xnu-4903.261.4~2/RELEASE_X86_64', machine='x86_64', processor='i386')  Threads 1\n",
      "Python 3.6.5 |Anaconda, Inc.| (default, Apr 26 2018, 08:42:37) \n",
      "[GCC 4.2.1 Compatible Clang 4.0.1 (tags/RELEASE_401/final)]\n",
      "numpy 1.15.4  scipy 1.1.0\n",
      "Date: Wed Jun 19 23:38:47 2019\n",
      "PySCF version 1.5.3\n",
      "PySCF path  /Users/donny.greenberg@ibm.com/code/lib/python3.6/site-packages/pyscf\n",
      "\n",
      "[CONFIG] conf_file None\n",
      "[INPUT] verbose = 4\n",
      "[INPUT] num. atoms = 2\n",
      "[INPUT] num. electrons = 12\n",
      "[INPUT] charge = 0\n",
      "[INPUT] spin (= nelec alpha-beta = 2S) = 0\n",
      "[INPUT] symmetry False subgroup None\n",
      "[INPUT] Mole.unit = Angstrom\n",
      "[INPUT]  1 H      0.000000000000   0.000000000000   0.000000000000 AA    0.000000000000   0.000000000000   0.000000000000 Bohr\n",
      "[INPUT]  2 Na     0.000000000000   0.000000000000   1.100000000000 AA    0.000000000000   0.000000000000   2.078698737022 Bohr\n",
      "\n",
      "nuclear repulsion = 5.2917721092\n",
      "number of shells = 6\n",
      "number of NR pGTOs = 30\n",
      "number of NR cGTOs = 10\n",
      "basis = sto3g\n",
      "ecp = {}\n",
      "CPU time:       438.10\n",
      "\n",
      "\n",
      "******** <class 'pyscf.scf.hf.RHF'> flags ********\n",
      "method = RHF\n",
      "initial guess = minao\n",
      "damping factor = 0\n",
      "level shift factor = 0\n",
      "DIIS = <class 'pyscf.scf.diis.CDIIS'>\n",
      "DIIS start cycle = 1\n",
      "DIIS space = 8\n",
      "SCF tol = 1e-09\n",
      "SCF gradient tol = None\n",
      "max. SCF cycles = 50\n",
      "direct_scf = True\n",
      "direct_scf_tol = 1e-13\n",
      "chkfile to save SCF result = /var/folders/0x/p79hqj7d4_qg6bljclcn431c0000gn/T/tmp9rfkvqyq\n",
      "max_memory 4000 MB (current use 0 MB)\n",
      "Set gradient conv threshold to 3.16228e-05\n",
      "init E= -160.180219623346\n",
      "  HOMO = -0.235577690852782  LUMO = 0.348399190228071\n",
      "cycle= 1 E= -160.13388086291  delta_E= 0.0463  |g|= 0.141  |ddm|= 1.44\n",
      "  HOMO = -0.0784423769077752  LUMO = 0.546871268515121\n",
      "cycle= 2 E= -160.143229740241  delta_E= -0.00935  |g|= 0.026  |ddm|= 0.379\n",
      "  HOMO = -0.103656264266196  LUMO = 0.550762583103014\n",
      "cycle= 3 E= -160.143600503775  delta_E= -0.000371  |g|= 0.00337  |ddm|= 0.0847\n",
      "  HOMO = -0.105149348493166  LUMO = 0.551489353988118\n",
      "cycle= 4 E= -160.143607198608  delta_E= -6.69e-06  |g|= 0.000777  |ddm|= 0.00918\n",
      "  HOMO = -0.10514671724928  LUMO = 0.551320338055328\n",
      "cycle= 5 E= -160.143607431541  delta_E= -2.33e-07  |g|= 0.00014  |ddm|= 0.00136\n",
      "  HOMO = -0.105179861733766  LUMO = 0.551338576518548\n",
      "cycle= 6 E= -160.143607441772  delta_E= -1.02e-08  |g|= 6.86e-06  |ddm|= 0.000375\n",
      "  HOMO = -0.10517153893448  LUMO = 0.551334572862357\n",
      "cycle= 7 E= -160.143607441792  delta_E= -1.99e-11  |g|= 6.17e-07  |ddm|= 1.92e-05\n",
      "  HOMO = -0.105171875690121  LUMO = 0.551334793858871\n",
      "Extra cycle  E= -160.143607441792  delta_E= -1.99e-13  |g|= 1.27e-07  |ddm|= 9.08e-07\n",
      "converged SCF energy = -160.143607441792\n"
     ]
    },
    {
     "name": "stderr",
     "output_type": "stream",
     "text": [
      "|██████████████████████████████████████████████████| 26/26 [00:00:00:00]\n",
      "|██████████████████████████████████████████████████| 788/788 [00:00:00:00]\n",
      "|██████████████████████████████████████████████████| 10/10 [00:00:00:00]\n",
      "|██████████████████████████████████████████████████| 10/10 [00:00:00:00]\n",
      "|██████████████████████████████████████████████████| 140/140 [00:00:00:00]\n",
      "|██████████████████████████████████████████████████| 10/10 [00:00:00:00]\n",
      "|██████████████████████████████████████████████████| 24/24 [00:00:00:00]\n",
      "|██████████████████████████████████████████████████| 24/24 [00:00:00:00]\n",
      "|██████████████████████████████████████████████████| 22/22 [00:00:00:00]\n",
      "|--------------------------------------------------| 0/0 []"
     ]
    },
    {
     "ename": "KeyboardInterrupt",
     "evalue": "",
     "output_type": "error",
     "traceback": [
      "\u001b[0;31m---------------------------------------------------------------------------\u001b[0m",
      "\u001b[0;31mKeyboardInterrupt\u001b[0m                         Traceback (most recent call last)",
      "\u001b[0;32m<ipython-input-34-1e2d3f53dff8>\u001b[0m in \u001b[0;36m<module>\u001b[0;34m\u001b[0m\n\u001b[1;32m     12\u001b[0m \u001b[0;34m\u001b[0m\u001b[0m\n\u001b[1;32m     13\u001b[0m \u001b[0msolver\u001b[0m \u001b[0;34m=\u001b[0m \u001b[0mQiskitChemistry\u001b[0m\u001b[0;34m(\u001b[0m\u001b[0;34m)\u001b[0m\u001b[0;34m\u001b[0m\u001b[0m\n\u001b[0;32m---> 14\u001b[0;31m \u001b[0mresult\u001b[0m \u001b[0;34m=\u001b[0m \u001b[0msolver\u001b[0m\u001b[0;34m.\u001b[0m\u001b[0mrun\u001b[0m\u001b[0;34m(\u001b[0m\u001b[0mqiskit_chemistry_dict\u001b[0m\u001b[0;34m)\u001b[0m\u001b[0;34m\u001b[0m\u001b[0m\n\u001b[0m",
      "\u001b[0;32m~/code/qiskit-chemistry/qiskit/chemistry/qiskit_chemistry.py\u001b[0m in \u001b[0;36mrun\u001b[0;34m(self, params, output, backend)\u001b[0m\n\u001b[1;32m    131\u001b[0m             \u001b[0;32mraise\u001b[0m \u001b[0mQiskitChemistryError\u001b[0m\u001b[0;34m(\u001b[0m\u001b[0;34m\"QiskitAqua object not created.\"\u001b[0m\u001b[0;34m)\u001b[0m\u001b[0;34m\u001b[0m\u001b[0m\n\u001b[1;32m    132\u001b[0m \u001b[0;34m\u001b[0m\u001b[0m\n\u001b[0;32m--> 133\u001b[0;31m         \u001b[0mdata\u001b[0m \u001b[0;34m=\u001b[0m \u001b[0mself\u001b[0m\u001b[0;34m.\u001b[0m\u001b[0mqiskit_aqua\u001b[0m\u001b[0;34m.\u001b[0m\u001b[0mrun\u001b[0m\u001b[0;34m(\u001b[0m\u001b[0;34m)\u001b[0m\u001b[0;34m\u001b[0m\u001b[0m\n\u001b[0m\u001b[1;32m    134\u001b[0m         \u001b[0;32mif\u001b[0m \u001b[0;32mnot\u001b[0m \u001b[0misinstance\u001b[0m\u001b[0;34m(\u001b[0m\u001b[0mdata\u001b[0m\u001b[0;34m,\u001b[0m \u001b[0mdict\u001b[0m\u001b[0;34m)\u001b[0m\u001b[0;34m:\u001b[0m\u001b[0;34m\u001b[0m\u001b[0m\n\u001b[1;32m    135\u001b[0m             \u001b[0;32mraise\u001b[0m \u001b[0mQiskitChemistryError\u001b[0m\u001b[0;34m(\u001b[0m\u001b[0;34m\"Algorithm run result should be a dictionary\"\u001b[0m\u001b[0;34m)\u001b[0m\u001b[0;34m\u001b[0m\u001b[0m\n",
      "\u001b[0;32m~/code/aqua/qiskit/aqua/qiskit_aqua.py\u001b[0m in \u001b[0;36mrun\u001b[0;34m(self, json_output)\u001b[0m\n\u001b[1;32m    315\u001b[0m             \u001b[0;32mraise\u001b[0m \u001b[0mAquaError\u001b[0m\u001b[0;34m(\u001b[0m\u001b[0;34m'Missing Quantum Algorithm.'\u001b[0m\u001b[0;34m)\u001b[0m\u001b[0;34m\u001b[0m\u001b[0m\n\u001b[1;32m    316\u001b[0m \u001b[0;34m\u001b[0m\u001b[0m\n\u001b[0;32m--> 317\u001b[0;31m         \u001b[0mself\u001b[0m\u001b[0;34m.\u001b[0m\u001b[0m_result\u001b[0m \u001b[0;34m=\u001b[0m \u001b[0mself\u001b[0m\u001b[0;34m.\u001b[0m\u001b[0mquantum_algorithm\u001b[0m\u001b[0;34m.\u001b[0m\u001b[0mrun\u001b[0m\u001b[0;34m(\u001b[0m\u001b[0mself\u001b[0m\u001b[0;34m.\u001b[0m\u001b[0mquantum_instance\u001b[0m\u001b[0;34m)\u001b[0m\u001b[0;34m\u001b[0m\u001b[0m\n\u001b[0m\u001b[1;32m    318\u001b[0m         \u001b[0;32mreturn\u001b[0m \u001b[0mself\u001b[0m\u001b[0;34m.\u001b[0m\u001b[0mjson_result\u001b[0m \u001b[0;32mif\u001b[0m \u001b[0mjson_output\u001b[0m \u001b[0;32melse\u001b[0m \u001b[0mself\u001b[0m\u001b[0;34m.\u001b[0m\u001b[0mresult\u001b[0m\u001b[0;34m\u001b[0m\u001b[0m\n\u001b[1;32m    319\u001b[0m \u001b[0;34m\u001b[0m\u001b[0m\n",
      "\u001b[0;32m~/code/aqua/qiskit/aqua/algorithms/quantum_algorithm.py\u001b[0m in \u001b[0;36mrun\u001b[0;34m(self, quantum_instance, **kwargs)\u001b[0m\n\u001b[1;32m     62\u001b[0m                 \u001b[0mquantum_instance\u001b[0m\u001b[0;34m.\u001b[0m\u001b[0mset_config\u001b[0m\u001b[0;34m(\u001b[0m\u001b[0;34m**\u001b[0m\u001b[0mkwargs\u001b[0m\u001b[0;34m)\u001b[0m\u001b[0;34m\u001b[0m\u001b[0m\n\u001b[1;32m     63\u001b[0m             \u001b[0mself\u001b[0m\u001b[0;34m.\u001b[0m\u001b[0m_quantum_instance\u001b[0m \u001b[0;34m=\u001b[0m \u001b[0mquantum_instance\u001b[0m\u001b[0;34m\u001b[0m\u001b[0m\n\u001b[0;32m---> 64\u001b[0;31m         \u001b[0;32mreturn\u001b[0m \u001b[0mself\u001b[0m\u001b[0;34m.\u001b[0m\u001b[0m_run\u001b[0m\u001b[0;34m(\u001b[0m\u001b[0;34m)\u001b[0m\u001b[0;34m\u001b[0m\u001b[0m\n\u001b[0m\u001b[1;32m     65\u001b[0m \u001b[0;34m\u001b[0m\u001b[0m\n\u001b[1;32m     66\u001b[0m     \u001b[0;34m@\u001b[0m\u001b[0mabstractmethod\u001b[0m\u001b[0;34m\u001b[0m\u001b[0m\n",
      "\u001b[0;32m~/code/aqua/qiskit/aqua/algorithms/adaptive/vqe/vqe.py\u001b[0m in \u001b[0;36m_run\u001b[0;34m(self)\u001b[0m\n\u001b[1;32m    278\u001b[0m                                       \u001b[0mvar_form\u001b[0m\u001b[0;34m=\u001b[0m\u001b[0mself\u001b[0m\u001b[0;34m.\u001b[0m\u001b[0mvar_form\u001b[0m\u001b[0;34m,\u001b[0m\u001b[0;34m\u001b[0m\u001b[0m\n\u001b[1;32m    279\u001b[0m                                       \u001b[0mcost_fn\u001b[0m\u001b[0;34m=\u001b[0m\u001b[0mself\u001b[0m\u001b[0;34m.\u001b[0m\u001b[0m_energy_evaluation\u001b[0m\u001b[0;34m,\u001b[0m\u001b[0;34m\u001b[0m\u001b[0m\n\u001b[0;32m--> 280\u001b[0;31m                                       optimizer=self.optimizer)\n\u001b[0m\u001b[1;32m    281\u001b[0m \u001b[0;34m\u001b[0m\u001b[0m\n\u001b[1;32m    282\u001b[0m         \u001b[0;32mif\u001b[0m \u001b[0mself\u001b[0m\u001b[0;34m.\u001b[0m\u001b[0m_ret\u001b[0m\u001b[0;34m[\u001b[0m\u001b[0;34m'num_optimizer_evals'\u001b[0m\u001b[0;34m]\u001b[0m \u001b[0;32mis\u001b[0m \u001b[0;32mnot\u001b[0m \u001b[0;32mNone\u001b[0m \u001b[0;32mand\u001b[0m \u001b[0mself\u001b[0m\u001b[0;34m.\u001b[0m\u001b[0m_eval_count\u001b[0m \u001b[0;34m>=\u001b[0m \u001b[0mself\u001b[0m\u001b[0;34m.\u001b[0m\u001b[0m_ret\u001b[0m\u001b[0;34m[\u001b[0m\u001b[0;34m'num_optimizer_evals'\u001b[0m\u001b[0;34m]\u001b[0m\u001b[0;34m:\u001b[0m\u001b[0;34m\u001b[0m\u001b[0m\n",
      "\u001b[0;32m~/code/aqua/qiskit/aqua/algorithms/adaptive/vq_algorithm.py\u001b[0m in \u001b[0;36mfind_minimum\u001b[0;34m(self, initial_point, var_form, cost_fn, optimizer, gradient_fn)\u001b[0m\n\u001b[1;32m    116\u001b[0m                                                                       \u001b[0mvariable_bounds\u001b[0m\u001b[0;34m=\u001b[0m\u001b[0mbounds\u001b[0m\u001b[0;34m,\u001b[0m\u001b[0;34m\u001b[0m\u001b[0m\n\u001b[1;32m    117\u001b[0m                                                                       \u001b[0minitial_point\u001b[0m\u001b[0;34m=\u001b[0m\u001b[0minitial_point\u001b[0m\u001b[0;34m,\u001b[0m\u001b[0;34m\u001b[0m\u001b[0m\n\u001b[0;32m--> 118\u001b[0;31m                                                                       gradient_function=gradient_fn)\n\u001b[0m\u001b[1;32m    119\u001b[0m         \u001b[0meval_time\u001b[0m \u001b[0;34m=\u001b[0m \u001b[0mtime\u001b[0m\u001b[0;34m.\u001b[0m\u001b[0mtime\u001b[0m\u001b[0;34m(\u001b[0m\u001b[0;34m)\u001b[0m \u001b[0;34m-\u001b[0m \u001b[0mstart\u001b[0m\u001b[0;34m\u001b[0m\u001b[0m\n\u001b[1;32m    120\u001b[0m         \u001b[0mret\u001b[0m \u001b[0;34m=\u001b[0m \u001b[0;34m{\u001b[0m\u001b[0;34m}\u001b[0m\u001b[0;34m\u001b[0m\u001b[0m\n",
      "\u001b[0;32m~/code/aqua/qiskit/aqua/components/optimizers/cobyla.py\u001b[0m in \u001b[0;36moptimize\u001b[0;34m(self, num_vars, objective_function, gradient_function, variable_bounds, initial_point)\u001b[0m\n\u001b[1;32m     89\u001b[0m         \u001b[0msuper\u001b[0m\u001b[0;34m(\u001b[0m\u001b[0;34m)\u001b[0m\u001b[0;34m.\u001b[0m\u001b[0moptimize\u001b[0m\u001b[0;34m(\u001b[0m\u001b[0mnum_vars\u001b[0m\u001b[0;34m,\u001b[0m \u001b[0mobjective_function\u001b[0m\u001b[0;34m,\u001b[0m \u001b[0mgradient_function\u001b[0m\u001b[0;34m,\u001b[0m \u001b[0mvariable_bounds\u001b[0m\u001b[0;34m,\u001b[0m \u001b[0minitial_point\u001b[0m\u001b[0;34m)\u001b[0m\u001b[0;34m\u001b[0m\u001b[0m\n\u001b[1;32m     90\u001b[0m \u001b[0;34m\u001b[0m\u001b[0m\n\u001b[0;32m---> 91\u001b[0;31m         \u001b[0mres\u001b[0m \u001b[0;34m=\u001b[0m \u001b[0mminimize\u001b[0m\u001b[0;34m(\u001b[0m\u001b[0mobjective_function\u001b[0m\u001b[0;34m,\u001b[0m \u001b[0minitial_point\u001b[0m\u001b[0;34m,\u001b[0m \u001b[0mtol\u001b[0m\u001b[0;34m=\u001b[0m\u001b[0mself\u001b[0m\u001b[0;34m.\u001b[0m\u001b[0m_tol\u001b[0m\u001b[0;34m,\u001b[0m \u001b[0mmethod\u001b[0m\u001b[0;34m=\u001b[0m\u001b[0;34m\"COBYLA\"\u001b[0m\u001b[0;34m,\u001b[0m \u001b[0moptions\u001b[0m\u001b[0;34m=\u001b[0m\u001b[0mself\u001b[0m\u001b[0;34m.\u001b[0m\u001b[0m_options\u001b[0m\u001b[0;34m)\u001b[0m\u001b[0;34m\u001b[0m\u001b[0m\n\u001b[0m\u001b[1;32m     92\u001b[0m         \u001b[0;32mreturn\u001b[0m \u001b[0mres\u001b[0m\u001b[0;34m.\u001b[0m\u001b[0mx\u001b[0m\u001b[0;34m,\u001b[0m \u001b[0mres\u001b[0m\u001b[0;34m.\u001b[0m\u001b[0mfun\u001b[0m\u001b[0;34m,\u001b[0m \u001b[0mres\u001b[0m\u001b[0;34m.\u001b[0m\u001b[0mnfev\u001b[0m\u001b[0;34m\u001b[0m\u001b[0m\n",
      "\u001b[0;32m~/code/lib/python3.6/site-packages/scipy/optimize/_minimize.py\u001b[0m in \u001b[0;36mminimize\u001b[0;34m(fun, x0, args, method, jac, hess, hessp, bounds, constraints, tol, callback, options)\u001b[0m\n\u001b[1;32m    606\u001b[0m                              **options)\n\u001b[1;32m    607\u001b[0m     \u001b[0;32melif\u001b[0m \u001b[0mmeth\u001b[0m \u001b[0;34m==\u001b[0m \u001b[0;34m'cobyla'\u001b[0m\u001b[0;34m:\u001b[0m\u001b[0;34m\u001b[0m\u001b[0m\n\u001b[0;32m--> 608\u001b[0;31m         \u001b[0;32mreturn\u001b[0m \u001b[0m_minimize_cobyla\u001b[0m\u001b[0;34m(\u001b[0m\u001b[0mfun\u001b[0m\u001b[0;34m,\u001b[0m \u001b[0mx0\u001b[0m\u001b[0;34m,\u001b[0m \u001b[0margs\u001b[0m\u001b[0;34m,\u001b[0m \u001b[0mconstraints\u001b[0m\u001b[0;34m,\u001b[0m \u001b[0;34m**\u001b[0m\u001b[0moptions\u001b[0m\u001b[0;34m)\u001b[0m\u001b[0;34m\u001b[0m\u001b[0m\n\u001b[0m\u001b[1;32m    609\u001b[0m     \u001b[0;32melif\u001b[0m \u001b[0mmeth\u001b[0m \u001b[0;34m==\u001b[0m \u001b[0;34m'slsqp'\u001b[0m\u001b[0;34m:\u001b[0m\u001b[0;34m\u001b[0m\u001b[0m\n\u001b[1;32m    610\u001b[0m         return _minimize_slsqp(fun, x0, args, jac, bounds,\n",
      "\u001b[0;32m~/code/lib/python3.6/site-packages/scipy/optimize/cobyla.py\u001b[0m in \u001b[0;36m_minimize_cobyla\u001b[0;34m(fun, x0, args, constraints, rhobeg, tol, maxiter, disp, catol, **unknown_options)\u001b[0m\n\u001b[1;32m    250\u001b[0m     xopt, info = _cobyla.minimize(calcfc, m=m, x=np.copy(x0), rhobeg=rhobeg,\n\u001b[1;32m    251\u001b[0m                                   \u001b[0mrhoend\u001b[0m\u001b[0;34m=\u001b[0m\u001b[0mrhoend\u001b[0m\u001b[0;34m,\u001b[0m \u001b[0miprint\u001b[0m\u001b[0;34m=\u001b[0m\u001b[0miprint\u001b[0m\u001b[0;34m,\u001b[0m \u001b[0mmaxfun\u001b[0m\u001b[0;34m=\u001b[0m\u001b[0mmaxfun\u001b[0m\u001b[0;34m,\u001b[0m\u001b[0;34m\u001b[0m\u001b[0m\n\u001b[0;32m--> 252\u001b[0;31m                                   dinfo=info)\n\u001b[0m\u001b[1;32m    253\u001b[0m \u001b[0;34m\u001b[0m\u001b[0m\n\u001b[1;32m    254\u001b[0m     \u001b[0;32mif\u001b[0m \u001b[0minfo\u001b[0m\u001b[0;34m[\u001b[0m\u001b[0;36m3\u001b[0m\u001b[0;34m]\u001b[0m \u001b[0;34m>\u001b[0m \u001b[0mcatol\u001b[0m\u001b[0;34m:\u001b[0m\u001b[0;34m\u001b[0m\u001b[0m\n",
      "\u001b[0;32m~/code/lib/python3.6/site-packages/scipy/optimize/cobyla.py\u001b[0m in \u001b[0;36mcalcfc\u001b[0;34m(x, con)\u001b[0m\n\u001b[1;32m    240\u001b[0m \u001b[0;34m\u001b[0m\u001b[0m\n\u001b[1;32m    241\u001b[0m     \u001b[0;32mdef\u001b[0m \u001b[0mcalcfc\u001b[0m\u001b[0;34m(\u001b[0m\u001b[0mx\u001b[0m\u001b[0;34m,\u001b[0m \u001b[0mcon\u001b[0m\u001b[0;34m)\u001b[0m\u001b[0;34m:\u001b[0m\u001b[0;34m\u001b[0m\u001b[0m\n\u001b[0;32m--> 242\u001b[0;31m         \u001b[0mf\u001b[0m \u001b[0;34m=\u001b[0m \u001b[0mfun\u001b[0m\u001b[0;34m(\u001b[0m\u001b[0mx\u001b[0m\u001b[0;34m,\u001b[0m \u001b[0;34m*\u001b[0m\u001b[0margs\u001b[0m\u001b[0;34m)\u001b[0m\u001b[0;34m\u001b[0m\u001b[0m\n\u001b[0m\u001b[1;32m    243\u001b[0m         \u001b[0mi\u001b[0m \u001b[0;34m=\u001b[0m \u001b[0;36m0\u001b[0m\u001b[0;34m\u001b[0m\u001b[0m\n\u001b[1;32m    244\u001b[0m         \u001b[0;32mfor\u001b[0m \u001b[0msize\u001b[0m\u001b[0;34m,\u001b[0m \u001b[0mc\u001b[0m \u001b[0;32min\u001b[0m \u001b[0mizip\u001b[0m\u001b[0;34m(\u001b[0m\u001b[0mcons_lengths\u001b[0m\u001b[0;34m,\u001b[0m \u001b[0mconstraints\u001b[0m\u001b[0;34m)\u001b[0m\u001b[0;34m:\u001b[0m\u001b[0;34m\u001b[0m\u001b[0m\n",
      "\u001b[0;32m~/code/aqua/qiskit/aqua/algorithms/adaptive/vqe/vqe.py\u001b[0m in \u001b[0;36m_energy_evaluation\u001b[0;34m(self, parameters)\u001b[0m\n\u001b[1;32m    312\u001b[0m         \u001b[0;32mfor\u001b[0m \u001b[0midx\u001b[0m \u001b[0;32min\u001b[0m \u001b[0mrange\u001b[0m\u001b[0;34m(\u001b[0m\u001b[0mlen\u001b[0m\u001b[0;34m(\u001b[0m\u001b[0mparameter_sets\u001b[0m\u001b[0;34m)\u001b[0m\u001b[0;34m)\u001b[0m\u001b[0;34m:\u001b[0m\u001b[0;34m\u001b[0m\u001b[0m\n\u001b[1;32m    313\u001b[0m             \u001b[0mparameter\u001b[0m \u001b[0;34m=\u001b[0m \u001b[0mparameter_sets\u001b[0m\u001b[0;34m[\u001b[0m\u001b[0midx\u001b[0m\u001b[0;34m]\u001b[0m\u001b[0;34m\u001b[0m\u001b[0m\n\u001b[0;32m--> 314\u001b[0;31m             \u001b[0mcircuit\u001b[0m \u001b[0;34m=\u001b[0m \u001b[0mself\u001b[0m\u001b[0;34m.\u001b[0m\u001b[0mconstruct_circuit\u001b[0m\u001b[0;34m(\u001b[0m\u001b[0mparameter\u001b[0m\u001b[0;34m,\u001b[0m \u001b[0mself\u001b[0m\u001b[0;34m.\u001b[0m\u001b[0m_quantum_instance\u001b[0m\u001b[0;34m.\u001b[0m\u001b[0mbackend\u001b[0m\u001b[0;34m,\u001b[0m \u001b[0mself\u001b[0m\u001b[0;34m.\u001b[0m\u001b[0m_use_simulator_operator_mode\u001b[0m\u001b[0;34m)\u001b[0m\u001b[0;34m\u001b[0m\u001b[0m\n\u001b[0m\u001b[1;32m    315\u001b[0m             \u001b[0mcircuits\u001b[0m\u001b[0;34m.\u001b[0m\u001b[0mappend\u001b[0m\u001b[0;34m(\u001b[0m\u001b[0mcircuit\u001b[0m\u001b[0;34m)\u001b[0m\u001b[0;34m\u001b[0m\u001b[0m\n\u001b[1;32m    316\u001b[0m \u001b[0;34m\u001b[0m\u001b[0m\n",
      "\u001b[0;32m~/code/aqua/qiskit/aqua/algorithms/adaptive/vqe/vqe.py\u001b[0m in \u001b[0;36mconstruct_circuit\u001b[0;34m(self, parameter, backend, use_simulator_operator_mode)\u001b[0m\n\u001b[1;32m    196\u001b[0m             \u001b[0;34m[\u001b[0m\u001b[0mQuantumCircuit\u001b[0m\u001b[0;34m]\u001b[0m\u001b[0;34m:\u001b[0m \u001b[0mthe\u001b[0m \u001b[0mgenerated\u001b[0m \u001b[0mcircuits\u001b[0m \u001b[0;32mwith\u001b[0m \u001b[0mHamiltonian\u001b[0m\u001b[0;34m.\u001b[0m\u001b[0;34m\u001b[0m\u001b[0m\n\u001b[1;32m    197\u001b[0m         \"\"\"\n\u001b[0;32m--> 198\u001b[0;31m         \u001b[0minput_circuit\u001b[0m \u001b[0;34m=\u001b[0m \u001b[0mself\u001b[0m\u001b[0;34m.\u001b[0m\u001b[0m_var_form\u001b[0m\u001b[0;34m.\u001b[0m\u001b[0mconstruct_circuit\u001b[0m\u001b[0;34m(\u001b[0m\u001b[0mparameter\u001b[0m\u001b[0;34m)\u001b[0m\u001b[0;34m\u001b[0m\u001b[0m\n\u001b[0m\u001b[1;32m    199\u001b[0m         \u001b[0;32mif\u001b[0m \u001b[0mbackend\u001b[0m \u001b[0;32mis\u001b[0m \u001b[0;32mNone\u001b[0m\u001b[0;34m:\u001b[0m\u001b[0;34m\u001b[0m\u001b[0m\n\u001b[1;32m    200\u001b[0m             \u001b[0mwarning_msg\u001b[0m \u001b[0;34m=\u001b[0m \u001b[0;34m\"Circuits used in VQE depends on the backend type, \"\u001b[0m\u001b[0;34m\u001b[0m\u001b[0m\n",
      "\u001b[0;32m~/code/aqua/qiskit/aqua/components/variational_forms/ryrz.py\u001b[0m in \u001b[0;36mconstruct_circuit\u001b[0;34m(self, parameters, q)\u001b[0m\n\u001b[1;32m    148\u001b[0m             \u001b[0mcircuit\u001b[0m\u001b[0;34m.\u001b[0m\u001b[0mbarrier\u001b[0m\u001b[0;34m(\u001b[0m\u001b[0mq\u001b[0m\u001b[0;34m)\u001b[0m\u001b[0;34m\u001b[0m\u001b[0m\n\u001b[1;32m    149\u001b[0m             \u001b[0;32mfor\u001b[0m \u001b[0mqubit\u001b[0m \u001b[0;32min\u001b[0m \u001b[0mself\u001b[0m\u001b[0;34m.\u001b[0m\u001b[0m_entangled_qubits\u001b[0m\u001b[0;34m:\u001b[0m\u001b[0;34m\u001b[0m\u001b[0m\n\u001b[0;32m--> 150\u001b[0;31m                 \u001b[0mcircuit\u001b[0m\u001b[0;34m.\u001b[0m\u001b[0mu3\u001b[0m\u001b[0;34m(\u001b[0m\u001b[0mparameters\u001b[0m\u001b[0;34m[\u001b[0m\u001b[0mparam_idx\u001b[0m\u001b[0;34m]\u001b[0m\u001b[0;34m,\u001b[0m \u001b[0;36m0.0\u001b[0m\u001b[0;34m,\u001b[0m \u001b[0;36m0.0\u001b[0m\u001b[0;34m,\u001b[0m \u001b[0mq\u001b[0m\u001b[0;34m[\u001b[0m\u001b[0mqubit\u001b[0m\u001b[0;34m]\u001b[0m\u001b[0;34m)\u001b[0m  \u001b[0;31m# ry\u001b[0m\u001b[0;34m\u001b[0m\u001b[0m\n\u001b[0m\u001b[1;32m    151\u001b[0m                 \u001b[0mcircuit\u001b[0m\u001b[0;34m.\u001b[0m\u001b[0mu1\u001b[0m\u001b[0;34m(\u001b[0m\u001b[0mparameters\u001b[0m\u001b[0;34m[\u001b[0m\u001b[0mparam_idx\u001b[0m \u001b[0;34m+\u001b[0m \u001b[0;36m1\u001b[0m\u001b[0;34m]\u001b[0m\u001b[0;34m,\u001b[0m \u001b[0mq\u001b[0m\u001b[0;34m[\u001b[0m\u001b[0mqubit\u001b[0m\u001b[0;34m]\u001b[0m\u001b[0;34m)\u001b[0m  \u001b[0;31m# rz\u001b[0m\u001b[0;34m\u001b[0m\u001b[0m\n\u001b[1;32m    152\u001b[0m                 \u001b[0mparam_idx\u001b[0m \u001b[0;34m+=\u001b[0m \u001b[0;36m2\u001b[0m\u001b[0;34m\u001b[0m\u001b[0m\n",
      "\u001b[0;32m~/code/qiskit-terra/qiskit/extensions/standard/u3.py\u001b[0m in \u001b[0;36mu3\u001b[0;34m(self, theta, phi, lam, q)\u001b[0m\n\u001b[1;32m     66\u001b[0m \u001b[0;32mdef\u001b[0m \u001b[0mu3\u001b[0m\u001b[0;34m(\u001b[0m\u001b[0mself\u001b[0m\u001b[0;34m,\u001b[0m \u001b[0mtheta\u001b[0m\u001b[0;34m,\u001b[0m \u001b[0mphi\u001b[0m\u001b[0;34m,\u001b[0m \u001b[0mlam\u001b[0m\u001b[0;34m,\u001b[0m \u001b[0mq\u001b[0m\u001b[0;34m)\u001b[0m\u001b[0;34m:\u001b[0m\u001b[0;34m\u001b[0m\u001b[0m\n\u001b[1;32m     67\u001b[0m     \u001b[0;34m\"\"\"Apply u3 to q.\"\"\"\u001b[0m\u001b[0;34m\u001b[0m\u001b[0m\n\u001b[0;32m---> 68\u001b[0;31m     \u001b[0;32mreturn\u001b[0m \u001b[0mself\u001b[0m\u001b[0;34m.\u001b[0m\u001b[0mappend\u001b[0m\u001b[0;34m(\u001b[0m\u001b[0mU3Gate\u001b[0m\u001b[0;34m(\u001b[0m\u001b[0mtheta\u001b[0m\u001b[0;34m,\u001b[0m \u001b[0mphi\u001b[0m\u001b[0;34m,\u001b[0m \u001b[0mlam\u001b[0m\u001b[0;34m)\u001b[0m\u001b[0;34m,\u001b[0m \u001b[0;34m[\u001b[0m\u001b[0mq\u001b[0m\u001b[0;34m]\u001b[0m\u001b[0;34m,\u001b[0m \u001b[0;34m[\u001b[0m\u001b[0;34m]\u001b[0m\u001b[0;34m)\u001b[0m\u001b[0;34m\u001b[0m\u001b[0m\n\u001b[0m\u001b[1;32m     69\u001b[0m \u001b[0;34m\u001b[0m\u001b[0m\n\u001b[1;32m     70\u001b[0m \u001b[0;34m\u001b[0m\u001b[0m\n",
      "\u001b[0;32m~/code/qiskit-terra/qiskit/extensions/standard/u3.py\u001b[0m in \u001b[0;36m__init__\u001b[0;34m(self, theta, phi, lam, label)\u001b[0m\n\u001b[1;32m     30\u001b[0m     \u001b[0;32mdef\u001b[0m \u001b[0m__init__\u001b[0m\u001b[0;34m(\u001b[0m\u001b[0mself\u001b[0m\u001b[0;34m,\u001b[0m \u001b[0mtheta\u001b[0m\u001b[0;34m,\u001b[0m \u001b[0mphi\u001b[0m\u001b[0;34m,\u001b[0m \u001b[0mlam\u001b[0m\u001b[0;34m,\u001b[0m \u001b[0mlabel\u001b[0m\u001b[0;34m=\u001b[0m\u001b[0;32mNone\u001b[0m\u001b[0;34m)\u001b[0m\u001b[0;34m:\u001b[0m\u001b[0;34m\u001b[0m\u001b[0m\n\u001b[1;32m     31\u001b[0m         \u001b[0;34m\"\"\"Create new two-pulse single qubit gate.\"\"\"\u001b[0m\u001b[0;34m\u001b[0m\u001b[0m\n\u001b[0;32m---> 32\u001b[0;31m         \u001b[0msuper\u001b[0m\u001b[0;34m(\u001b[0m\u001b[0;34m)\u001b[0m\u001b[0;34m.\u001b[0m\u001b[0m__init__\u001b[0m\u001b[0;34m(\u001b[0m\u001b[0;34m\"u3\"\u001b[0m\u001b[0;34m,\u001b[0m \u001b[0;36m1\u001b[0m\u001b[0;34m,\u001b[0m \u001b[0;34m[\u001b[0m\u001b[0mtheta\u001b[0m\u001b[0;34m,\u001b[0m \u001b[0mphi\u001b[0m\u001b[0;34m,\u001b[0m \u001b[0mlam\u001b[0m\u001b[0;34m]\u001b[0m\u001b[0;34m,\u001b[0m \u001b[0mlabel\u001b[0m\u001b[0;34m=\u001b[0m\u001b[0mlabel\u001b[0m\u001b[0;34m)\u001b[0m\u001b[0;34m\u001b[0m\u001b[0m\n\u001b[0m\u001b[1;32m     33\u001b[0m \u001b[0;34m\u001b[0m\u001b[0m\n\u001b[1;32m     34\u001b[0m     \u001b[0;32mdef\u001b[0m \u001b[0m_define\u001b[0m\u001b[0;34m(\u001b[0m\u001b[0mself\u001b[0m\u001b[0;34m)\u001b[0m\u001b[0;34m:\u001b[0m\u001b[0;34m\u001b[0m\u001b[0m\n",
      "\u001b[0;32m~/code/qiskit-terra/qiskit/circuit/gate.py\u001b[0m in \u001b[0;36m__init__\u001b[0;34m(self, name, num_qubits, params, label)\u001b[0m\n\u001b[1;32m     34\u001b[0m         \"\"\"\n\u001b[1;32m     35\u001b[0m         \u001b[0mself\u001b[0m\u001b[0;34m.\u001b[0m\u001b[0m_label\u001b[0m \u001b[0;34m=\u001b[0m \u001b[0mlabel\u001b[0m\u001b[0;34m\u001b[0m\u001b[0m\n\u001b[0;32m---> 36\u001b[0;31m         \u001b[0msuper\u001b[0m\u001b[0;34m(\u001b[0m\u001b[0;34m)\u001b[0m\u001b[0;34m.\u001b[0m\u001b[0m__init__\u001b[0m\u001b[0;34m(\u001b[0m\u001b[0mname\u001b[0m\u001b[0;34m,\u001b[0m \u001b[0mnum_qubits\u001b[0m\u001b[0;34m,\u001b[0m \u001b[0;36m0\u001b[0m\u001b[0;34m,\u001b[0m \u001b[0mparams\u001b[0m\u001b[0;34m)\u001b[0m\u001b[0;34m\u001b[0m\u001b[0m\n\u001b[0m\u001b[1;32m     37\u001b[0m \u001b[0;34m\u001b[0m\u001b[0m\n\u001b[1;32m     38\u001b[0m     \u001b[0;32mdef\u001b[0m \u001b[0mto_matrix\u001b[0m\u001b[0;34m(\u001b[0m\u001b[0mself\u001b[0m\u001b[0;34m)\u001b[0m\u001b[0;34m:\u001b[0m\u001b[0;34m\u001b[0m\u001b[0m\n",
      "\u001b[0;32m~/code/qiskit-terra/qiskit/circuit/instruction.py\u001b[0m in \u001b[0;36m__init__\u001b[0;34m(self, name, num_qubits, num_clbits, params)\u001b[0m\n\u001b[1;32m     77\u001b[0m         \u001b[0;31m# empty definition means opaque or fundamental instruction\u001b[0m\u001b[0;34m\u001b[0m\u001b[0;34m\u001b[0m\u001b[0m\n\u001b[1;32m     78\u001b[0m         \u001b[0mself\u001b[0m\u001b[0;34m.\u001b[0m\u001b[0m_definition\u001b[0m \u001b[0;34m=\u001b[0m \u001b[0;32mNone\u001b[0m\u001b[0;34m\u001b[0m\u001b[0m\n\u001b[0;32m---> 79\u001b[0;31m         \u001b[0mself\u001b[0m\u001b[0;34m.\u001b[0m\u001b[0mparams\u001b[0m \u001b[0;34m=\u001b[0m \u001b[0mparams\u001b[0m\u001b[0;34m\u001b[0m\u001b[0m\n\u001b[0m\u001b[1;32m     80\u001b[0m \u001b[0;34m\u001b[0m\u001b[0m\n\u001b[1;32m     81\u001b[0m     \u001b[0;32mdef\u001b[0m \u001b[0m__eq__\u001b[0m\u001b[0;34m(\u001b[0m\u001b[0mself\u001b[0m\u001b[0;34m,\u001b[0m \u001b[0mother\u001b[0m\u001b[0;34m)\u001b[0m\u001b[0;34m:\u001b[0m\u001b[0;34m\u001b[0m\u001b[0m\n",
      "\u001b[0;32m~/code/qiskit-terra/qiskit/circuit/instruction.py\u001b[0m in \u001b[0;36mparams\u001b[0;34m(self, parameters)\u001b[0m\n\u001b[1;32m    132\u001b[0m             \u001b[0;31m# example: u3(0.1, 0.2, 0.3)\u001b[0m\u001b[0;34m\u001b[0m\u001b[0;34m\u001b[0m\u001b[0m\n\u001b[1;32m    133\u001b[0m             \u001b[0;32melif\u001b[0m \u001b[0misinstance\u001b[0m\u001b[0;34m(\u001b[0m\u001b[0msingle_param\u001b[0m\u001b[0;34m,\u001b[0m \u001b[0;34m(\u001b[0m\u001b[0mint\u001b[0m\u001b[0;34m,\u001b[0m \u001b[0mfloat\u001b[0m\u001b[0;34m)\u001b[0m\u001b[0;34m)\u001b[0m\u001b[0;34m:\u001b[0m\u001b[0;34m\u001b[0m\u001b[0m\n\u001b[0;32m--> 134\u001b[0;31m                 \u001b[0mself\u001b[0m\u001b[0;34m.\u001b[0m\u001b[0m_params\u001b[0m\u001b[0;34m.\u001b[0m\u001b[0mappend\u001b[0m\u001b[0;34m(\u001b[0m\u001b[0msympy\u001b[0m\u001b[0;34m.\u001b[0m\u001b[0mNumber\u001b[0m\u001b[0;34m(\u001b[0m\u001b[0msingle_param\u001b[0m\u001b[0;34m)\u001b[0m\u001b[0;34m)\u001b[0m\u001b[0;34m\u001b[0m\u001b[0m\n\u001b[0m\u001b[1;32m    135\u001b[0m             \u001b[0;31m# example: Initialize([complex(0,1), complex(0,0)])\u001b[0m\u001b[0;34m\u001b[0m\u001b[0;34m\u001b[0m\u001b[0m\n\u001b[1;32m    136\u001b[0m             \u001b[0;32melif\u001b[0m \u001b[0misinstance\u001b[0m\u001b[0;34m(\u001b[0m\u001b[0msingle_param\u001b[0m\u001b[0;34m,\u001b[0m \u001b[0mcomplex\u001b[0m\u001b[0;34m)\u001b[0m\u001b[0;34m:\u001b[0m\u001b[0;34m\u001b[0m\u001b[0m\n",
      "\u001b[0;32m~/code/lib/python3.6/site-packages/sympy/core/numbers.py\u001b[0m in \u001b[0;36m__new__\u001b[0;34m(cls, *obj)\u001b[0m\n\u001b[1;32m    527\u001b[0m             \u001b[0;32mreturn\u001b[0m \u001b[0mRational\u001b[0m\u001b[0;34m(\u001b[0m\u001b[0;34m*\u001b[0m\u001b[0mobj\u001b[0m\u001b[0;34m)\u001b[0m\u001b[0;34m\u001b[0m\u001b[0m\n\u001b[1;32m    528\u001b[0m         \u001b[0;32mif\u001b[0m \u001b[0misinstance\u001b[0m\u001b[0;34m(\u001b[0m\u001b[0mobj\u001b[0m\u001b[0;34m,\u001b[0m \u001b[0;34m(\u001b[0m\u001b[0mfloat\u001b[0m\u001b[0;34m,\u001b[0m \u001b[0mmpmath\u001b[0m\u001b[0;34m.\u001b[0m\u001b[0mmpf\u001b[0m\u001b[0;34m,\u001b[0m \u001b[0mdecimal\u001b[0m\u001b[0;34m.\u001b[0m\u001b[0mDecimal\u001b[0m\u001b[0;34m)\u001b[0m\u001b[0;34m)\u001b[0m\u001b[0;34m:\u001b[0m\u001b[0;34m\u001b[0m\u001b[0m\n\u001b[0;32m--> 529\u001b[0;31m             \u001b[0;32mreturn\u001b[0m \u001b[0mFloat\u001b[0m\u001b[0;34m(\u001b[0m\u001b[0mobj\u001b[0m\u001b[0;34m)\u001b[0m\u001b[0;34m\u001b[0m\u001b[0m\n\u001b[0m\u001b[1;32m    530\u001b[0m         \u001b[0;32mif\u001b[0m \u001b[0misinstance\u001b[0m\u001b[0;34m(\u001b[0m\u001b[0mobj\u001b[0m\u001b[0;34m,\u001b[0m \u001b[0mstring_types\u001b[0m\u001b[0;34m)\u001b[0m\u001b[0;34m:\u001b[0m\u001b[0;34m\u001b[0m\u001b[0m\n\u001b[1;32m    531\u001b[0m             \u001b[0mval\u001b[0m \u001b[0;34m=\u001b[0m \u001b[0msympify\u001b[0m\u001b[0;34m(\u001b[0m\u001b[0mobj\u001b[0m\u001b[0;34m)\u001b[0m\u001b[0;34m\u001b[0m\u001b[0m\n",
      "\u001b[0;32m~/code/lib/python3.6/site-packages/sympy/core/numbers.py\u001b[0m in \u001b[0;36m__new__\u001b[0;34m(***failed resolving arguments***)\u001b[0m\n\u001b[1;32m    978\u001b[0m                     \u001b[0mnum\u001b[0m\u001b[0;34m,\u001b[0m \u001b[0mdps\u001b[0m \u001b[0;34m=\u001b[0m \u001b[0m_decimal_to_Rational_prec\u001b[0m\u001b[0;34m(\u001b[0m\u001b[0mNum\u001b[0m\u001b[0;34m)\u001b[0m\u001b[0;34m\u001b[0m\u001b[0m\n\u001b[1;32m    979\u001b[0m                     \u001b[0;32mif\u001b[0m \u001b[0mnum\u001b[0m\u001b[0;34m.\u001b[0m\u001b[0mis_Integer\u001b[0m \u001b[0;32mand\u001b[0m \u001b[0misint\u001b[0m\u001b[0;34m:\u001b[0m\u001b[0;34m\u001b[0m\u001b[0m\n\u001b[0;32m--> 980\u001b[0;31m                         \u001b[0mdps\u001b[0m \u001b[0;34m=\u001b[0m \u001b[0mmax\u001b[0m\u001b[0;34m(\u001b[0m\u001b[0mdps\u001b[0m\u001b[0;34m,\u001b[0m \u001b[0mlen\u001b[0m\u001b[0;34m(\u001b[0m\u001b[0mstr\u001b[0m\u001b[0;34m(\u001b[0m\u001b[0mnum\u001b[0m\u001b[0;34m)\u001b[0m\u001b[0;34m.\u001b[0m\u001b[0mlstrip\u001b[0m\u001b[0;34m(\u001b[0m\u001b[0;34m'-'\u001b[0m\u001b[0;34m)\u001b[0m\u001b[0;34m)\u001b[0m\u001b[0;34m)\u001b[0m\u001b[0;34m\u001b[0m\u001b[0m\n\u001b[0m\u001b[1;32m    981\u001b[0m                     \u001b[0mdps\u001b[0m \u001b[0;34m=\u001b[0m \u001b[0mmax\u001b[0m\u001b[0;34m(\u001b[0m\u001b[0;36m15\u001b[0m\u001b[0;34m,\u001b[0m \u001b[0mdps\u001b[0m\u001b[0;34m)\u001b[0m\u001b[0;34m\u001b[0m\u001b[0m\n\u001b[1;32m    982\u001b[0m                     \u001b[0mprecision\u001b[0m \u001b[0;34m=\u001b[0m \u001b[0mmlib\u001b[0m\u001b[0;34m.\u001b[0m\u001b[0mlibmpf\u001b[0m\u001b[0;34m.\u001b[0m\u001b[0mdps_to_prec\u001b[0m\u001b[0;34m(\u001b[0m\u001b[0mdps\u001b[0m\u001b[0;34m)\u001b[0m\u001b[0;34m\u001b[0m\u001b[0m\n",
      "\u001b[0;31mKeyboardInterrupt\u001b[0m: "
     ]
    }
   ],
   "source": [
    "qiskit_chemistry_dict = {\n",
    "    'driver': {'name': 'PYSCF'},\n",
    "    'PYSCF': {'atom': 'H .0 .0 .0; Na .0 .0 1.1', 'basis': 'sto3g'},\n",
    "    'operator': {'name': 'hamiltonian', 'qubit_mapping': 'parity',\n",
    "                 'two_qubit_reduction': True, 'freeze_core': True, 'orbital_reduction': [-3, -2]},\n",
    "    'algorithm': {'name': 'VQE'},\n",
    "    'optimizer': {'name': 'COBYLA', 'maxiter': 10000 },\n",
    "    'variational_form': {'name': 'RYRZ'},\n",
    "    'initial_state': {'name': 'HartreeFock'},\n",
    "    'backend': {'name': 'statevector_simulator'}\n",
    "}\n",
    "\n",
    "solver = QiskitChemistry()\n",
    "result = solver.run(qiskit_chemistry_dict)"
   ]
  },
  {
   "cell_type": "code",
   "execution_count": 22,
   "metadata": {
    "slideshow": {
     "slide_type": "fragment"
    }
   },
   "outputs": [
    {
     "name": "stdout",
     "output_type": "stream",
     "text": [
      "=== GROUND STATE ENERGY ===\n",
      " \n",
      "* Electronic ground state energy (Hartree): -165.447505593877\n",
      "  - computed part:      -0.865174133601\n",
      "  - frozen energy part: -164.582331460276\n",
      "  - particle hole part: 0.0\n",
      "~ Nuclear repulsion energy (Hartree): 5.2917721092\n",
      "> Total ground state energy (Hartree): -160.155733484677\n",
      "  Measured:: Num particles: 2.000, S: 0.000, M: -0.00000\n",
      " \n",
      "=== DIPOLE MOMENT ===\n",
      " \n",
      "* Electronic dipole moment (a.u.): [0.0  0.0  21.48240175]\n",
      "  - computed part:      [0.0  0.0  0.7359935]\n",
      "  - frozen energy part: [0.0  0.0  20.74640824]\n",
      "  - particle hole part: [0.0  0.0  0.0]\n",
      "~ Nuclear dipole moment (a.u.): [0.0  0.0  22.86568611]\n",
      "> Dipole moment (a.u.): [0.0  0.0  1.38328436]  Total: 1.38328436\n",
      "               (debye): [0.0  0.0  3.51595782]  Total: 3.51595782\n"
     ]
    }
   ],
   "source": [
    "for line in result['printable']:\n",
    "    print(line)"
   ]
  },
  {
   "cell_type": "markdown",
   "metadata": {
    "slideshow": {
     "slide_type": "slide"
    }
   },
   "source": [
    "Now, let's plot the full dissociation profile for LiH (this will take a while - maybe over 20 minutes). Notice, on line 43, that we reuse the optimal parameters from a given point as the initial parameters when we begin the following point. This gives us adiabatic-ish effects without having to run at extremely small distance steps.\n",
    "\n",
    "Based on [this notebook](https://github.com/Qiskit/qiskit-tutorial/blob/master/qiskit/aqua/chemistry/dissociation_profile_of_molecule.ipynb) 📒 by Mezzacapo et al."
   ]
  },
  {
   "cell_type": "code",
   "execution_count": null,
   "metadata": {},
   "outputs": [],
   "source": [
    "import numpy as np\n",
    "import pylab\n",
    "from qiskit.chemistry import QiskitChemistry\n",
    "\n",
    "# Input dictionary to configure Qiskit Chemistry for the chemistry problem.\n",
    "qiskit_chemistry_dict = {\n",
    "    'driver': {'name': 'PYSCF'},\n",
    "    'PYSCF': {'atom': '', 'basis': 'sto3g'},\n",
    "    'operator': {'name': 'hamiltonian', 'qubit_mapping': 'parity',\n",
    "                 'two_qubit_reduction': True, 'freeze_core': True, 'orbital_reduction': [-3, -2]},\n",
    "    'algorithm': {'name': ''},\n",
    "    'optimizer': {'name': 'COBYLA', 'maxiter': 10000 },\n",
    "    'variational_form': {'name': 'RYRZ'},\n",
    "    'initial_state': {'name': 'HartreeFock'},\n",
    "    'backend': {'name': 'statevector_simulator'}\n",
    "}\n",
    "molecule = 'H .0 .0 -{0}; Li .0 .0 {0}'\n",
    "algorithms = [{'name': 'VQE'},\n",
    "              {'name': 'ExactEigensolver'}]\n",
    "\n",
    "pts = np.around(np.arange(.8, 2.2, .1), decimals = 2)\n",
    "energies = np.empty([len(algorithms), len(pts)])\n",
    "hf_energies = np.empty(len(pts))\n",
    "distances = np.empty(len(pts))\n",
    "eval_counts = np.zeros([len(algorithms), len(pts)], dtype=np.intp)\n",
    "\n",
    "print('Processing step __', end='')\n",
    "for i, d in enumerate(pts):\n",
    "    print('\\b\\b{:2d}'.format(i), end='', flush=True)\n",
    "    qiskit_chemistry_dict['PYSCF']['atom'] = molecule.format(d/2) \n",
    "    for j in range(len(algorithms)):\n",
    "        qiskit_chemistry_dict['algorithm'] = algorithms[j] \n",
    "        solver = QiskitChemistry()\n",
    "        result = solver.run(qiskit_chemistry_dict)\n",
    "        energies[j][i] = result['energy']\n",
    "        hf_energies[i] = result['hf_energy']\n",
    "        if algorithms[j]['name'] == 'VQE':\n",
    "            eval_counts[j][i] = result['algorithm_retvals']['eval_count']\n",
    "            if j == 1:\n",
    "                algorithms[j]['initial_point'] = result['algorithm_retvals']['opt_params']\n",
    "    distances[i] = d\n",
    "print(' --- complete')"
   ]
  },
  {
   "cell_type": "code",
   "execution_count": 23,
   "metadata": {
    "slideshow": {
     "slide_type": "slide"
    }
   },
   "outputs": [
    {
     "name": "stdout",
     "output_type": "stream",
     "text": [
      "Processing step 13 --- complete\n",
      "Distances:  [0.8 0.9 1.  1.1 1.2 1.3 1.4 1.5 1.6 1.7 1.8 1.9 2.  2.1]\n",
      "Energies: [[-7.63040117 -7.72079684 -7.76898319 -7.82352056 -7.83561579 -7.86654234\n",
      "  -7.87685108 -7.86636898 -7.88071149 -7.87729704 -7.87320771 -7.86558452\n",
      "  -7.86004946 -7.85243824]\n",
      " [-7.63097825 -7.72081241 -7.7822424  -7.82359928 -7.85069838 -7.86756329\n",
      "  -7.87700149 -7.88101572 -7.88107204 -7.87826817 -7.87344029 -7.86723396\n",
      "  -7.86015321 -7.85259583]]\n",
      "Hartree-Fock energies: [-7.61577016 -7.70575334 -7.76736214 -7.80874318 -7.83561583 -7.85195386\n",
      " -7.86053866 -7.86335762 -7.86186477 -7.85714496 -7.8500187  -7.84111204\n",
      " -7.83090558 -7.81977026]\n",
      "VQE num evaluations: [[10000  8708 10000 10000  2646 10000 10000 10000 10000 10000 10000 10000\n",
      "  10000 10000]\n",
      " [    0     0     0     0     0     0     0     0     0     0     0     0\n",
      "      0     0]]\n"
     ]
    }
   ],
   "source": [
    "print('Distances: ', distances)\n",
    "print('Energies:', energies)\n",
    "print('Hartree-Fock energies:', hf_energies)\n",
    "print('VQE num evaluations:', eval_counts)"
   ]
  },
  {
   "cell_type": "markdown",
   "metadata": {
    "slideshow": {
     "slide_type": "fragment"
    }
   },
   "source": [
    "# Tips!\n",
    "\n",
    "* The examples above are somewhat naive, there are techniques to improve them by several orders of magnitude\n",
    "* $|\\text{Spin orbitals}| \\approx |\\text{qubits}|$ - if you increase the size of the molecule or basis, your classical execution time increases exponentially\n",
    "* You don’t need to use VQE to find eigenstates! You can use QPE, QAOA, or whatever else\n",
    "* Your initial point matters a lot. The way you move along a dissociation curve can dictate the fate of your resutlts.\n",
    "* UCCSD is nice but it will not be runnable on Quantum hardware for a long time.\n",
    "* Optimization over non-convex high-dimensional error surfaces is hard. I am sorry about that."
   ]
  },
  {
   "cell_type": "code",
   "execution_count": null,
   "metadata": {},
   "outputs": [],
   "source": []
  }
 ],
 "metadata": {
  "celltoolbar": "Slideshow",
  "kernelspec": {
   "display_name": "code",
   "language": "python",
   "name": "code"
  },
  "language_info": {
   "codemirror_mode": {
    "name": "ipython",
    "version": 3
   },
   "file_extension": ".py",
   "mimetype": "text/x-python",
   "name": "python",
   "nbconvert_exporter": "python",
   "pygments_lexer": "ipython3",
   "version": "3.6.5"
  },
  "toc": {
   "base_numbering": 1,
   "nav_menu": {},
   "number_sections": false,
   "sideBar": true,
   "skip_h1_title": true,
   "title_cell": "Table of Contents",
   "title_sidebar": "Contents",
   "toc_cell": false,
   "toc_position": {},
   "toc_section_display": true,
   "toc_window_display": false
  }
 },
 "nbformat": 4,
 "nbformat_minor": 2
}
