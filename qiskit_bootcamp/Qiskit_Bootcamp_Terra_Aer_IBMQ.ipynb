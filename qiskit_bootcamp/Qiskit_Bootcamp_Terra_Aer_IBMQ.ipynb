{
 "cells": [
  {
   "cell_type": "markdown",
   "metadata": {
    "slideshow": {
     "slide_type": "skip"
    }
   },
   "source": [
    "# [Qiskit Bootcamp Part 0: Introduction to Qiskit and IBM Q](https://docs.google.com/presentation/d/1Y--23RhBtemLSxkFG40uhmMKpX-QJw6xL9WpA1ZUq2s/edit#slide=id.p)"
   ]
  },
  {
   "cell_type": "markdown",
   "metadata": {
    "slideshow": {
     "slide_type": "slide"
    }
   },
   "source": [
    "![Qiskit](https://github.com/Qiskit/qiskit-tutorials/raw/115c78962dda85bac29d679063b7d0d0ab1d1ab4/images/qiskit-heading.gif)"
   ]
  },
  {
   "cell_type": "markdown",
   "metadata": {
    "slideshow": {
     "slide_type": "-"
    }
   },
   "source": [
    "# Qiskit Bootcamp Parts I & II: Building and Executing Quantum Circuits with Terra, Aer, & IBM Q\n",
    "\n",
    "donny@ibm.com <br>_25-Oct-19_"
   ]
  },
  {
   "cell_type": "code",
   "execution_count": 90,
   "metadata": {
    "ExecuteTime": {
     "end_time": "2019-10-24T18:49:40.681316Z",
     "start_time": "2019-10-24T18:49:40.678880Z"
    },
    "slideshow": {
     "slide_type": "skip"
    }
   },
   "outputs": [],
   "source": [
    "# **Note:** This notebook can be presented as a deck by uncommenting and running:\n",
    "#!jupyter nbconvert ./Qiskit_Bootcamp_Terra.ipynb --to slides --post serve\n",
    "\n",
    "# Or by installing RISE: https://damianavila.github.io/RISE/."
   ]
  },
  {
   "cell_type": "markdown",
   "metadata": {
    "slideshow": {
     "slide_type": "slide"
    }
   },
   "source": [
    "# Gameplan\n",
    "\n",
    "* Part I: Constructing and Compiling Circuits in Terra\n",
    "    * Circuit Construction Basics\n",
    "    * Structural Elements\n",
    "    * Compilation Flow, Transpilation\n",
    "* Part II: Executing Circuits on Aer, BasicAer, and IBMQ\n",
    "  * Aer basics\n",
    "    * Ideal simulation\n",
    "    * Noiseless sampling simulation\n",
    "  * IBM Q Basics\n",
    "    * Browsing device info\n",
    "    * Building and executing noise model from device properties\n",
    "    * Executing on quantum hardware\n",
    "* Tips and tricks\n",
    "* Learning More, Resources"
   ]
  },
  {
   "cell_type": "markdown",
   "metadata": {
    "slideshow": {
     "slide_type": "slide"
    }
   },
   "source": [
    "But first, install Terra, Aer, and IBM Q (and Aqua, Chemistry, and Ignis):"
   ]
  },
  {
   "cell_type": "code",
   "execution_count": 91,
   "metadata": {
    "ExecuteTime": {
     "end_time": "2019-10-24T18:49:40.689160Z",
     "start_time": "2019-10-24T18:49:40.686159Z"
    },
    "slideshow": {
     "slide_type": "fragment"
    }
   },
   "outputs": [],
   "source": [
    "#!pip install qiskit"
   ]
  },
  {
   "cell_type": "markdown",
   "metadata": {
    "slideshow": {
     "slide_type": "fragment"
    }
   },
   "source": [
    "Confirm that Qiskit is installed:"
   ]
  },
  {
   "cell_type": "code",
   "execution_count": 92,
   "metadata": {
    "ExecuteTime": {
     "end_time": "2019-10-24T18:49:40.696173Z",
     "start_time": "2019-10-24T18:49:40.691830Z"
    },
    "slideshow": {
     "slide_type": "fragment"
    }
   },
   "outputs": [
    {
     "data": {
      "text/plain": [
       "{'qiskit-terra': '0.10.0',\n",
       " 'qiskit-aer': '0.3.2',\n",
       " 'qiskit-ignis': '0.2.0',\n",
       " 'qiskit-ibmq-provider': '0.3.3',\n",
       " 'qiskit-aqua': '0.6.1',\n",
       " 'qiskit': '0.13.0'}"
      ]
     },
     "execution_count": 92,
     "metadata": {},
     "output_type": "execute_result"
    }
   ],
   "source": [
    "import qiskit\n",
    "qiskit.__qiskit_version__"
   ]
  },
  {
   "cell_type": "markdown",
   "metadata": {
    "slideshow": {
     "slide_type": "slide"
    }
   },
   "source": [
    "# Part I: Constructing and Compiling Circuits in Terra"
   ]
  },
  {
   "cell_type": "markdown",
   "metadata": {
    "slideshow": {
     "slide_type": "slide"
    }
   },
   "source": [
    "# What is Terra?\n",
    "\n",
    "Terra’s core service is the construction and compilation of Quantum executables (circuits and pulse schedules) for arbitrary backends\n",
    "   * Terra includes interfaces for the construction of OpenQASM-compliant circuits and OpenPulse-compliant pulse schedules - see the [paper here](https://arxiv.org/abs/1809.03452)\n",
    "   * Terra can take a single circuit or pulse object and compile it to run on any OpenQASM or OpenPulse compliant Quantum hardware or simulator\n",
    "   * Terra also optimizes circuits, and allows for plug-and-play transpilation options\n",
    "   * Now supported: Ion Trap gates\n",
    "Terra also includes:\n",
    "    * Modules for quantum information computation, e.g. operators, channels, states, etc."
   ]
  },
  {
   "cell_type": "markdown",
   "metadata": {
    "slideshow": {
     "slide_type": "slide"
    }
   },
   "source": [
    "In the future, Terra will include:\n",
    "\n",
    "  * More convenience operations for constructing sophisticated circuits\n",
    "  * An OpenPulse simulator\n",
    "\n",
    "Keep in mind:\n",
    "\n",
    "  * Terra is not a language per se, but more of a large piece of infrastructure. Some code may seem unnecessary for the one thing you’re doing, but in many cases it’s necessary for Qiskit to be robust.\n",
    "  * Qiskit is very much a work in progress. It is changing rapidly to converge toward the needs of its users. \n",
    "\n",
    "🎉**You are now in the inner circle of people who have a strong voice about the direction of Qiskit.** 🎉"
   ]
  },
  {
   "cell_type": "code",
   "execution_count": 93,
   "metadata": {
    "ExecuteTime": {
     "end_time": "2019-10-24T18:49:40.701397Z",
     "start_time": "2019-10-24T18:49:40.698656Z"
    },
    "slideshow": {
     "slide_type": "slide"
    }
   },
   "outputs": [],
   "source": [
    "# Housekeeping: uncomment this to suppress deprecation warnings\n",
    "import warnings\n",
    "warnings.filterwarnings('ignore')"
   ]
  },
  {
   "cell_type": "markdown",
   "metadata": {
    "slideshow": {
     "slide_type": "slide"
    }
   },
   "source": [
    "# Structural Elements\n",
    "\n",
    "Let's start building circuits to get acquainted with Terra's structural elements."
   ]
  },
  {
   "cell_type": "code",
   "execution_count": 94,
   "metadata": {
    "ExecuteTime": {
     "end_time": "2019-10-24T18:49:40.706851Z",
     "start_time": "2019-10-24T18:49:40.703874Z"
    },
    "slideshow": {
     "slide_type": "fragment"
    }
   },
   "outputs": [],
   "source": [
    "from qiskit import QuantumRegister, ClassicalRegister, QuantumCircuit\n",
    "import numpy as np"
   ]
  },
  {
   "cell_type": "code",
   "execution_count": 95,
   "metadata": {
    "ExecuteTime": {
     "end_time": "2019-10-24T18:49:40.711771Z",
     "start_time": "2019-10-24T18:49:40.708672Z"
    },
    "slideshow": {
     "slide_type": "fragment"
    }
   },
   "outputs": [],
   "source": [
    "# Create a Quantum Register with 3 qubits\n",
    "qr = QuantumRegister(3)\n",
    "\n",
    "# Create a Classical Register with 3 bits\n",
    "# Only necessary if you want to do measurement!\n",
    "cr = ClassicalRegister(3)\n",
    "\n",
    "# Create a Quantum Circuit acting on 3 quantum bits and 3 classical bits\n",
    "bell = QuantumCircuit(qr, cr)"
   ]
  },
  {
   "cell_type": "markdown",
   "metadata": {
    "slideshow": {
     "slide_type": "slide"
    }
   },
   "source": [
    "# QuantumCircuits are the primary unit of computation in Terra\n",
    "* QuantumCircuits are backend agnostic\n",
    "* They contain 3 basic subcomponents:\n",
    "  * `name` - for referencing the circuit later (e.g. in the results object)\n",
    "  * `data` - a 1d list of tuples containing `Instructions` in the circuit and the registers they act upon\n",
    "  * `regs` - the `QuantumRegisters` and `ClassicalRegisters` in the instructions of the circuit\n",
    "    * Behind the scenes these are mostly labels, they do not have any fancy instance methods\n",
    "* Circuits are also parameterizable, meaning that they can be passed placeholders so parameters can be bound to the circuit later\n"
   ]
  },
  {
   "cell_type": "markdown",
   "metadata": {
    "slideshow": {
     "slide_type": "slide"
    }
   },
   "source": [
    "# I highly recommend scrolling through the `QuantumCircuit` module to gain a feel for what it can do:"
   ]
  },
  {
   "cell_type": "code",
   "execution_count": 96,
   "metadata": {
    "ExecuteTime": {
     "end_time": "2019-10-24T18:49:40.727275Z",
     "start_time": "2019-10-24T18:49:40.714514Z"
    }
   },
   "outputs": [
    {
     "name": "stdout",
     "output_type": "stream",
     "text": [
      "Help on class QuantumCircuit in module qiskit.circuit.quantumcircuit:\n",
      "\n",
      "class QuantumCircuit(builtins.object)\n",
      " |  Quantum circuit.\n",
      " |  \n",
      " |  Methods defined here:\n",
      " |  \n",
      " |  AND = logical_and(self, qr_variables, qb_target, qr_ancillae, flags=None, mct_mode='basic')\n",
      " |      Build a collective conjunction (AND) circuit in place using mct.\n",
      " |      \n",
      " |      Args:\n",
      " |          self (QuantumCircuit): The QuantumCircuit object to build the conjunction on.\n",
      " |          variable_register (QuantumRegister): The QuantumRegister holding the variable qubits.\n",
      " |          flags (list of int): A list of +1/-1/0 to mark negations or omissions of qubits.\n",
      " |          target_qubit (Qubit): The target qubit to hold the conjunction result.\n",
      " |          ancillary_register (QuantumRegister): The ancillary QuantumRegister for building the mct.\n",
      " |          mct_mode (str): The mct building mode.\n",
      " |  \n",
      " |  OR = logical_or(self, qr_variables, qb_target, qr_ancillae, flags=None, mct_mode='basic')\n",
      " |      Build a collective disjunction (OR) circuit in place using mct.\n",
      " |      \n",
      " |      Args:\n",
      " |          self (QuantumCircuit): The QuantumCircuit object to build the disjunction on.\n",
      " |          qr_variables (QuantumRegister): The QuantumRegister holding the variable qubits.\n",
      " |          flags (list of int): A list of +1/-1/0 to mark negations or omissions of qubits.\n",
      " |          qb_target (Qubit): The target qubit to hold the disjunction result.\n",
      " |          qr_ancillae (QuantumRegister): The ancillary QuantumRegister for building the mct.\n",
      " |          mct_mode (str): The mct building mode.\n",
      " |  \n",
      " |  __add__(self, rhs)\n",
      " |      Overload + to implement self.combine.\n",
      " |  \n",
      " |  __eq__(self, other)\n",
      " |      Return self==value.\n",
      " |  \n",
      " |  __getitem__(self, item)\n",
      " |      Return indexed operation.\n",
      " |  \n",
      " |  __iadd__(self, rhs)\n",
      " |      Overload += to implement self.extend.\n",
      " |  \n",
      " |  __init__(self, *regs, name=None)\n",
      " |      Create a new circuit.\n",
      " |      \n",
      " |      A circuit is a list of instructions bound to some registers.\n",
      " |      \n",
      " |      Args:\n",
      " |          regs: list(:class:`Register`) or list(``int``) The registers to be\n",
      " |              included in the circuit.\n",
      " |      \n",
      " |               * If a list of :class:`Register` objects, represents the :class:`QuantumRegister`\n",
      " |                 and/or :class:`ClassicalRegister` objects to include in the circuit.\n",
      " |      \n",
      " |                 For example:\n",
      " |      \n",
      " |                  * ``QuantumCircuit(QuantumRegister(4))``\n",
      " |                  * ``QuantumCircuit(QuantumRegister(4), ClassicalRegister(3))``\n",
      " |                  * ``QuantumCircuit(QuantumRegister(4, 'qr0'), QuantumRegister(2, 'qr1'))``\n",
      " |      \n",
      " |               * If a list of ``int``, the amount of qubits and/or classical\n",
      " |                 bits to include in the circuit. It can either be a single\n",
      " |                 int for just the number of quantum bits, or 2 ints for the number of\n",
      " |                 quantum bits and classical bits respectively.\n",
      " |      \n",
      " |                 For example:\n",
      " |      \n",
      " |                  * ``QuantumCircuit(4) # A QuantumCircuit with 4 qubits``\n",
      " |                  * ``QuantumCircuit(4, 3) # A QuantumCircuit with 4 qubits and 3 classical bits``\n",
      " |      \n",
      " |          name (str): the name of the quantum circuit. If not set, an\n",
      " |              automatically generated string will be assigned.\n",
      " |      \n",
      " |      Raises:\n",
      " |          QiskitError: if the circuit name, if given, is not valid.\n",
      " |  \n",
      " |  __len__(self)\n",
      " |      Return number of operations in circuit.\n",
      " |  \n",
      " |  __str__(self)\n",
      " |      Return str(self).\n",
      " |  \n",
      " |  add_register(self, *regs)\n",
      " |      Add registers.\n",
      " |  \n",
      " |  append(self, instruction, qargs=None, cargs=None)\n",
      " |      Append one or more instructions to the end of the circuit, modifying\n",
      " |      the circuit in place. Expands qargs and cargs.\n",
      " |      \n",
      " |      Args:\n",
      " |          instruction (Instruction or Operation): Instruction instance to append\n",
      " |          qargs (list(argument)): qubits to attach instruction to\n",
      " |          cargs (list(argument)): clbits to attach instruction to\n",
      " |      \n",
      " |      Returns:\n",
      " |          Instruction: a handle to the instruction that was just added\n",
      " |  \n",
      " |  barrier(self, *qargs)\n",
      " |      Apply barrier to circuit.\n",
      " |      If qargs is None, applies to all the qbits.\n",
      " |      Args is a list of QuantumRegister or single qubits.\n",
      " |      For QuantumRegister, applies barrier to all the qubits in that register.\n",
      " |  \n",
      " |  bind_parameters(self, value_dict)\n",
      " |      Assign parameters to values yielding a new circuit.\n",
      " |      \n",
      " |      Args:\n",
      " |          value_dict (dict): {parameter: value, ...}\n",
      " |      \n",
      " |      Raises:\n",
      " |          QiskitError: If value_dict contains parameters not present in the circuit\n",
      " |      \n",
      " |      Returns:\n",
      " |          QuantumCircuit: copy of self with assignment substitution.\n",
      " |  \n",
      " |  cbit_argument_conversion(self, clbit_representation)\n",
      " |      Converts several classical bit representations (such as indexes, range, etc)\n",
      " |      into a list of classical bits.\n",
      " |      \n",
      " |      Args:\n",
      " |          clbit_representation (Object): representation to expand\n",
      " |      \n",
      " |      Returns:\n",
      " |          List(tuple): Where each tuple is a classical bit.\n",
      " |  \n",
      " |  ccx(self, ctl1, ctl2, tgt)\n",
      " |      Apply Toffoli to from ctl1 and ctl2 to tgt.\n",
      " |  \n",
      " |  ch(self, ctl, tgt)\n",
      " |      Apply CH from ctl to tgt.\n",
      " |  \n",
      " |  combine(self, rhs)\n",
      " |      Append rhs to self if self contains compatible registers.\n",
      " |      \n",
      " |      Two circuits are compatible if they contain the same registers\n",
      " |      or if they contain different registers with unique names. The\n",
      " |      returned circuit will contain all unique registers between both\n",
      " |      circuits.\n",
      " |      \n",
      " |      Return self + rhs as a new object.\n",
      " |      \n",
      " |      Args:\n",
      " |          rhs (QuantumCircuit): The quantum circuit to append to the right hand side.\n",
      " |      \n",
      " |      Returns:\n",
      " |          QuantumCircuit: Returns a new QuantumCircuit object\n",
      " |      \n",
      " |      Raises:\n",
      " |          QiskitError: if the rhs circuit is not compatible\n",
      " |  \n",
      " |  copy(self, name=None)\n",
      " |      Copy the circuit.\n",
      " |      \n",
      " |      Args:\n",
      " |        name (str): name to be given to the copied circuit, if None then the name stays the same\n",
      " |      \n",
      " |      Returns:\n",
      " |        QuantumCircuit: a deepcopy of the current circuit, with the specified name\n",
      " |  \n",
      " |  count_ops(self)\n",
      " |      Count each operation kind in the circuit.\n",
      " |      \n",
      " |      Returns:\n",
      " |          OrderedDict: a breakdown of how many operations of each kind, sorted by amount.\n",
      " |  \n",
      " |  cry(self, theta, q_control, q_target)\n",
      " |      Apply Controlled-RY (cry) Gate.\n",
      " |      \n",
      " |      Args:\n",
      " |          self (QuantumCircuit): The circuit to apply the cry gate on.\n",
      " |          theta (float): The rotation angle.\n",
      " |          q_control (Qubit): The control qubit.\n",
      " |          q_target (Qubit): The target qubit.\n",
      " |  \n",
      " |  crz(self, theta, ctl, tgt)\n",
      " |      Apply crz from ctl to tgt with angle theta.\n",
      " |  \n",
      " |  cswap(self, ctl, tgt1, tgt2)\n",
      " |      Apply Fredkin to circuit.\n",
      " |  \n",
      " |  cu1(self, theta, ctl, tgt)\n",
      " |      Apply cu1 from ctl to tgt with angle theta.\n",
      " |  \n",
      " |  cu3(self, theta, phi, lam, ctl, tgt)\n",
      " |      Apply cu3 from ctl to tgt with angle theta, phi, lam.\n",
      " |  \n",
      " |  cx(self, ctl, tgt)\n",
      " |      Apply CX from ctl to tgt.\n",
      " |  \n",
      " |  cx_base(self, ctl, tgt)\n",
      " |      Apply CX ctl, tgt.\n",
      " |  \n",
      " |  cy(self, ctl, tgt)\n",
      " |      Apply CY to circuit.\n",
      " |  \n",
      " |  cz(self, ctl, tgt)\n",
      " |      Apply CZ to circuit.\n",
      " |  \n",
      " |  decompose(self)\n",
      " |      Call a decomposition pass on this circuit,\n",
      " |      to decompose one level (shallow decompose).\n",
      " |      \n",
      " |      Returns:\n",
      " |          QuantumCircuit: a circuit one level decomposed\n",
      " |  \n",
      " |  depth(self)\n",
      " |      Return circuit depth (i.e. length of critical path).\n",
      " |      This does not include compiler or simulator directives\n",
      " |      such as 'barrier' or 'snapshot'.\n",
      " |      \n",
      " |      Returns:\n",
      " |          int: Depth of circuit.\n",
      " |      \n",
      " |      Notes:\n",
      " |          The circuit depth and the DAG depth need not bt the\n",
      " |          same.\n",
      " |  \n",
      " |  diag_gate(self, diag, qubit)\n",
      " |      Attach a diagonal gate to a circuit.\n",
      " |      \n",
      " |      The decomposition is based on Theorem 7 given in \"Synthesis of Quantum Logic Circuits\" by\n",
      " |      Shende et al. (https://arxiv.org/pdf/quant-ph/0406176.pdf).\n",
      " |      \n",
      " |      Args:\n",
      " |          diag (list): list of the 2^k diagonal entries (for a diagonal gate on k qubits).\n",
      " |              Must contain at least two entries\n",
      " |          qubit (QuantumRegister|list): list of k qubits the diagonal is\n",
      " |              acting on (the order of the qubits specifies the computational basis in which the\n",
      " |              diagonal gate is provided: the first element in diag acts on the state where all\n",
      " |              the qubits in q are in the state 0, the second entry acts on the state where all\n",
      " |              the qubits q[1],...,q[k-1] are in the state zero and q[0] is in the state 1,\n",
      " |              and so on\n",
      " |      \n",
      " |      Returns:\n",
      " |          QuantumCircuit: the diagonal gate which was attached to the circuit.\n",
      " |      \n",
      " |      Raises:\n",
      " |          QiskitError: if the list of the diagonal entries or the qubit list is in bad format;\n",
      " |              if the number of diagonal entries is not 2^k, where k denotes the number of qubits\n",
      " |  \n",
      " |  draw(self, scale=0.7, filename=None, style=None, output=None, interactive=False, line_length=None, plot_barriers=True, reverse_bits=False, justify=None, vertical_compression='medium', idle_wires=True, with_layout=True, fold=None, ax=None)\n",
      " |      Draw the quantum circuit\n",
      " |      \n",
      " |      **text**: ASCII art TextDrawing that can be printed in the console.\n",
      " |      \n",
      " |      **latex**: high-quality images compiled via latex.\n",
      " |      \n",
      " |      **latex_source**: raw uncompiled latex output.\n",
      " |      \n",
      " |      **matplotlib**: images with color rendered purely in Python.\n",
      " |      \n",
      " |      Args:\n",
      " |          scale (float): scale of image to draw (shrink if < 1)\n",
      " |          filename (str): file path to save image to\n",
      " |          style (dict or str): dictionary of style or file name of style\n",
      " |              file. This option is only used by the ``mpl`` output type. If a\n",
      " |              str is passed in that is the path to a json file which contains\n",
      " |              that will be open, parsed, and then used just as the input\n",
      " |              dict. See: :ref:`Style Dict Doc <style-dict-circ-doc>` for more\n",
      " |              information on the contents.\n",
      " |          output (str): Select the output method to use for drawing the\n",
      " |              circuit. Valid choices are ``text``, ``latex``,\n",
      " |              ``latex_source``, or ``mpl``. By default the `'text`' drawer is\n",
      " |              used unless a user config file has an alternative backend set\n",
      " |              as the default. If the output kwarg is set, that backend\n",
      " |              will always be used over the default in a user config file.\n",
      " |          interactive (bool): when set true show the circuit in a new window\n",
      " |              (for `mpl` this depends on the matplotlib backend being used\n",
      " |              supporting this). Note when used with either the `text` or the\n",
      " |              `latex_source` output type this has no effect and will be\n",
      " |              silently ignored.\n",
      " |          line_length (int): Deprecated, see `fold` which supersedes this\n",
      " |              option. Sets the length of the lines generated by `text` output\n",
      " |              type. This useful when the drawing does not fit in the console.\n",
      " |              If None (default), it will try to guess the console width using\n",
      " |              ``shutil.get_terminal_size()``. However, if you're running in\n",
      " |              jupyter the default line length is set to 80 characters. If you\n",
      " |              don't want pagination at all, set ``line_length=-1``.\n",
      " |          reverse_bits (bool): When set to True reverse the bit order inside\n",
      " |              registers for the output visualization.\n",
      " |          plot_barriers (bool): Enable/disable drawing barriers in the output\n",
      " |              circuit. Defaults to True.\n",
      " |          justify (string): Options are ``left``, ``right`` or\n",
      " |              ``none``, if anything else is supplied it defaults to left\n",
      " |              justified. It refers to where gates should be placed in the\n",
      " |              output circuit if there is an option. ``none`` results in\n",
      " |              each gate being placed in its own column.\n",
      " |          vertical_compression (string): ``high``, ``medium`` or ``low``. It\n",
      " |              merges the lines generated by the ``text`` output so the\n",
      " |              drawing will take less vertical room.  Default is ``medium``.\n",
      " |              Only used by the ``text`` output, will be silently ignored\n",
      " |              otherwise.\n",
      " |          idle_wires (bool): Include idle wires (wires with no circuit\n",
      " |              elements) in output visualization. Default is True.\n",
      " |          with_layout (bool): Include layout information, with labels on the\n",
      " |              physical layout. Default is True.\n",
      " |          fold (int): Sets pagination. It can be disabled using -1.\n",
      " |              In `text`, sets the length of the lines. This useful when the\n",
      " |              drawing does not fit in the console. If None (default), it will\n",
      " |              try to guess the console width using ``shutil.\n",
      " |              get_terminal_size()``. However, if running in jupyter, the\n",
      " |              default line length is set to 80 characters. In ``mpl`` is the\n",
      " |              number of (visual) layers before folding. Default is 25.\n",
      " |          ax (matplotlib.axes.Axes): An optional Axes object to be used for\n",
      " |              the visualization output. If none is specified a new matplotlib\n",
      " |              Figure will be created and used. Additionally, if specified\n",
      " |              there will be no returned Figure since it is redundant. This is\n",
      " |              only used when the ``output`` kwarg is set to use the ``mpl``\n",
      " |              backend. It will be silently ignored with all other outputs.\n",
      " |      \n",
      " |      Returns:\n",
      " |          :class:`PIL.Image` or :class:`matplotlib.figure` or :class:`str` or\n",
      " |          :class:`TextDrawing`:\n",
      " |      \n",
      " |          * `PIL.Image` (output='latex')\n",
      " |              an in-memory representation of the image of the circuit\n",
      " |              diagram.\n",
      " |          * `matplotlib.figure.Figure` (output='mpl')\n",
      " |              a matplotlib figure object for the circuit diagram.\n",
      " |          * `str` (output='latex_source')\n",
      " |              The LaTeX source code for visualizing the circuit diagram.\n",
      " |          * `TextDrawing` (output='text')\n",
      " |              A drawing that can be printed as ascii art\n",
      " |      \n",
      " |      Raises:\n",
      " |          VisualizationError: when an invalid output method is selected\n",
      " |          ImportError: when the output methods requires non-installed\n",
      " |              libraries.\n",
      " |      \n",
      " |      .. _style-dict-circ-doc:\n",
      " |      \n",
      " |      **Style Dict Details**\n",
      " |      \n",
      " |      The style dict kwarg contains numerous options that define the style of\n",
      " |      the output circuit visualization. The style dict is only used by the\n",
      " |      ``mpl`` output. The options available in the style dict are defined\n",
      " |      below:\n",
      " |      \n",
      " |      Args:\n",
      " |          textcolor (str): The color code to use for text. Defaults to\n",
      " |              `'#000000'`\n",
      " |          subtextcolor (str): The color code to use for subtext. Defaults to\n",
      " |              `'#000000'`\n",
      " |          linecolor (str): The color code to use for lines. Defaults to\n",
      " |              `'#000000'`\n",
      " |          creglinecolor (str): The color code to use for classical register\n",
      " |              lines. Defaults to `'#778899'`\n",
      " |          gatetextcolor (str): The color code to use for gate text. Defaults\n",
      " |              to `'#000000'`\n",
      " |          gatefacecolor (str): The color code to use for gates. Defaults to\n",
      " |              `'#ffffff'`\n",
      " |          barrierfacecolor (str): The color code to use for barriers.\n",
      " |              Defaults to `'#bdbdbd'`\n",
      " |          backgroundcolor (str): The color code to use for the background.\n",
      " |              Defaults to `'#ffffff'`\n",
      " |          fontsize (int): The font size to use for text. Defaults to 13\n",
      " |          subfontsize (int): The font size to use for subtext. Defaults to 8\n",
      " |          displaytext (dict): A dictionary of the text to use for each\n",
      " |              element type in the output visualization. The default values\n",
      " |              are::\n",
      " |      \n",
      " |                  {\n",
      " |                      'id': 'id',\n",
      " |                      'u0': 'U_0',\n",
      " |                      'u1': 'U_1',\n",
      " |                      'u2': 'U_2',\n",
      " |                      'u3': 'U_3',\n",
      " |                      'x': 'X',\n",
      " |                      'y': 'Y',\n",
      " |                      'z': 'Z',\n",
      " |                      'h': 'H',\n",
      " |                      's': 'S',\n",
      " |                      'sdg': 'S^\\dagger',\n",
      " |                      't': 'T',\n",
      " |                      'tdg': 'T^\\dagger',\n",
      " |                      'rx': 'R_x',\n",
      " |                      'ry': 'R_y',\n",
      " |                      'rz': 'R_z',\n",
      " |                      'reset': '\\left|0\\right\\rangle'\n",
      " |                  }\n",
      " |      \n",
      " |              You must specify all the necessary values if using this. There\n",
      " |              is no provision for passing an incomplete dict in.\n",
      " |          displaycolor (dict): The color codes to use for each circuit\n",
      " |              element. The default values are::\n",
      " |      \n",
      " |                  {\n",
      " |                      'id': '#F0E442',\n",
      " |                      'u0': '#E7AB3B',\n",
      " |                      'u1': '#E7AB3B',\n",
      " |                      'u2': '#E7AB3B',\n",
      " |                      'u3': '#E7AB3B',\n",
      " |                      'x': '#58C698',\n",
      " |                      'y': '#58C698',\n",
      " |                      'z': '#58C698',\n",
      " |                      'h': '#70B7EB',\n",
      " |                      's': '#E0722D',\n",
      " |                      'sdg': '#E0722D',\n",
      " |                      't': '#E0722D',\n",
      " |                      'tdg': '#E0722D',\n",
      " |                      'rx': '#ffffff',\n",
      " |                      'ry': '#ffffff',\n",
      " |                      'rz': '#ffffff',\n",
      " |                      'reset': '#D188B4',\n",
      " |                      'target': '#70B7EB',\n",
      " |                      'meas': '#D188B4'\n",
      " |                  }\n",
      " |      \n",
      " |             Also, just like  `displaytext` there is no provision for an\n",
      " |             incomplete dict passed in.\n",
      " |      \n",
      " |          latexdrawerstyle (bool): When set to True enable latex mode which\n",
      " |              will draw gates like the `latex` output modes.\n",
      " |          usepiformat (bool): When set to True use radians for output\n",
      " |          fold (int): The number of circuit elements to fold the circuit at.\n",
      " |              Defaults to 20\n",
      " |          cregbundle (bool): If set True bundle classical registers\n",
      " |          showindex (bool): If set True draw an index.\n",
      " |          compress (bool): If set True draw a compressed circuit\n",
      " |          figwidth (int): The maximum width (in inches) for the output figure.\n",
      " |          dpi (int): The DPI to use for the output image. Defaults to 150\n",
      " |          margin (list): A list of margin values to adjust spacing around\n",
      " |              output image. Takes a list of 4 ints:\n",
      " |              [x left, x right, y bottom, y top].\n",
      " |          creglinestyle (str): The style of line to use for classical\n",
      " |              registers. Choices are `'solid'`, `'doublet'`, or any valid\n",
      " |              matplotlib `linestyle` kwarg value. Defaults to `doublet`\n",
      " |  \n",
      " |  extend(self, rhs)\n",
      " |      Append QuantumCircuit to the right hand side if it contains compatible registers.\n",
      " |      \n",
      " |      Two circuits are compatible if they contain the same registers\n",
      " |      or if they contain different registers with unique names. The\n",
      " |      returned circuit will contain all unique registers between both\n",
      " |      circuits.\n",
      " |      \n",
      " |      Modify and return self.\n",
      " |      \n",
      " |      Args:\n",
      " |          rhs (QuantumCircuit): The quantum circuit to append to the right hand side.\n",
      " |      \n",
      " |      Returns:\n",
      " |          QuantumCircuit: Returns this QuantumCircuit object (which has been modified)\n",
      " |      \n",
      " |      Raises:\n",
      " |          QiskitError: if the rhs circuit is not compatible\n",
      " |  \n",
      " |  h(self, q)\n",
      " |      Apply H to q.\n",
      " |  \n",
      " |  has_register(self, register)\n",
      " |      Test if this circuit has the register r.\n",
      " |      \n",
      " |      Args:\n",
      " |          register (Register): a quantum or classical register.\n",
      " |      \n",
      " |      Returns:\n",
      " |          bool: True if the register is contained in this circuit.\n",
      " |  \n",
      " |  iden(self, q)\n",
      " |      Apply Identity to q.\n",
      " |      \n",
      " |      Identity gate corresponds to a single-qubit gate wait cycle,\n",
      " |      and should not be optimized or unrolled (it is an opaque gate).\n",
      " |  \n",
      " |  initialize(self, params, qubits)\n",
      " |      Apply initialize to circuit.\n",
      " |  \n",
      " |  inverse(self)\n",
      " |      Invert this circuit.\n",
      " |      \n",
      " |      This is done by recursively inverting all gates.\n",
      " |      \n",
      " |      Returns:\n",
      " |          QuantumCircuit: the inverted circuit\n",
      " |      \n",
      " |      Raises:\n",
      " |          QiskitError: if the circuit cannot be inverted.\n",
      " |  \n",
      " |  iso(self, isometry, q_input, q_ancillas_for_output, q_ancillas_zero=None, q_ancillas_dirty=None)\n",
      " |      Attach an arbitrary isometry from m to n qubits to a circuit. In particular,\n",
      " |      this allows to attach arbitrary unitaries on n qubits (m=n) or to prepare any state\n",
      " |      on n qubits (m=0).\n",
      " |      The decomposition used here was introduced by Iten et al. in https://arxiv.org/abs/1501.06911.\n",
      " |      \n",
      " |      Args:\n",
      " |          isometry (ndarray): an isometry from m to n qubits, i.e., a (complex) ndarray of\n",
      " |              dimension 2^n×2^m with orthonormal columns (given in the computational basis\n",
      " |              specified by the order of the ancillas and the input qubits, where the ancillas\n",
      " |              are considered to be more significant than the input qubits.).\n",
      " |          q_input (QuantumRegister|list[Qubit]): list of m qubits where the input\n",
      " |              to the isometry is fed in (empty list for state preparation).\n",
      " |          q_ancillas_for_output (QuantumRegister|list[Qubit]): list of n-m ancilla\n",
      " |              qubits that are used for the output of the isometry and which are assumed to start\n",
      " |              in the zero state. The qubits are listed with increasing significance.\n",
      " |          q_ancillas_zero (QuantumRegister|list[Qubit]): list of ancilla qubits\n",
      " |              which are assumed to start in the zero state. Default is q_ancillas_zero = None.\n",
      " |          q_ancillas_dirty (QuantumRegister|list[Qubit]): list of ancilla qubits\n",
      " |              which can start in an arbitrary state. Default is q_ancillas_dirty = None.\n",
      " |      \n",
      " |      Returns:\n",
      " |          QuantumCircuit: the isometry is attached to the quantum circuit.\n",
      " |      \n",
      " |      Raises:\n",
      " |          QiskitError: if the array is not an isometry of the correct size corresponding to\n",
      " |              the provided number of qubits.\n",
      " |  \n",
      " |  mcmt(self, q_controls, q_ancillae, single_control_gate_fun, q_targets, mode='basic')\n",
      " |      Apply a Multi-Control, Multi-Target using a generic gate.\n",
      " |      It can also be used to implement a generic Multi-Control gate, as the target could also be of length 1.\n",
      " |      \n",
      " |      Args:\n",
      " |          self (QuantumCircuit): The QuantumCircuit object to apply the mcmt gate on.\n",
      " |          q_controls (QuantumRegister | list of Qubit): The list of control qubits\n",
      " |          q_ancillae (QuantumRegister | list of Qubit): The list of ancillary qubits\n",
      " |          single_control_gate_fun (Gate): The single control gate function (e.g QuantumCircuit.cz or QuantumCircuit.ch)\n",
      " |          q_targets (QuantumRegister | list of Qubit): A list of qubits or a QuantumRegister\n",
      " |              to which the gate function should be applied.\n",
      " |          mode (str): The implementation mode to use (at the moment, only the basic mode is supported)\n",
      " |  \n",
      " |  mcrx(self, theta, q_controls, q_target, use_basis_gates=False)\n",
      " |      Apply Multiple-Controlled X rotation gate\n",
      " |      \n",
      " |      Args:\n",
      " |          self (QuantumCircuit): The QuantumCircuit object to apply the mcrx gate on.\n",
      " |          theta (float): angle theta\n",
      " |          control_qubits (list of Qubit): The list of control qubits\n",
      " |          target_qubit (Qubit): The target qubit\n",
      " |  \n",
      " |  mcry(self, theta, q_controls, q_target, q_ancillae, mode='basic', use_basis_gates=False)\n",
      " |      Apply Multiple-Controlled Y rotation gate\n",
      " |      \n",
      " |      Args:\n",
      " |          self (QuantumCircuit): The QuantumCircuit object to apply the mcry gate on.\n",
      " |          theta (float): angle theta\n",
      " |          control_qubits (list of Qubit): The list of control qubits\n",
      " |          target_qubit (Qubit): The target qubit\n",
      " |          q_ancillae (QuantumRegister | tuple(QuantumRegister, int)): The list of ancillary qubits.\n",
      " |          mode (string): The implementation mode to use\n",
      " |  \n",
      " |  mcrz(self, lam, q_controls, q_target, use_basis_gates=False)\n",
      " |      Apply Multiple-Controlled Z rotation gate\n",
      " |      \n",
      " |      Args:\n",
      " |          self (QuantumCircuit): The QuantumCircuit object to apply the mcrz gate on.\n",
      " |          phi (float): angle phi\n",
      " |          control_qubits (list of Qubit): The list of control qubits\n",
      " |          target_qubit (Qubit): The target qubit\n",
      " |  \n",
      " |  mct(self, q_controls, q_target, q_ancilla, mode='basic')\n",
      " |      Apply Multiple-Control Toffoli operation\n",
      " |      \n",
      " |      Args:\n",
      " |          self (QuantumCircuit): The QuantumCircuit object to apply the mct gate on.\n",
      " |          q_controls (QuantumRegister | list of Qubit): The list of control qubits\n",
      " |          q_target (Qubit): The target qubit\n",
      " |          q_ancilla (QuantumRegister | list of Qubit): The list of ancillary qubits\n",
      " |          mode (str): The implementation mode to use\n",
      " |  \n",
      " |  mcu1(self, lam, control_qubits, target_qubit)\n",
      " |      Apply Multiple-Controlled U1 gate\n",
      " |      \n",
      " |      Args:\n",
      " |          self (QuantumCircuit): The QuantumCircuit object to apply the mcu1 gate on.\n",
      " |          lam (float): angle lambda\n",
      " |          control_qubits (list of Qubit): The list of control qubits\n",
      " |          target_qubit (Qubit): The target qubit\n",
      " |  \n",
      " |  measure(self, qubit, cbit)\n",
      " |      Measure quantum bit into classical bit (tuples).\n",
      " |      \n",
      " |      Args:\n",
      " |          qubit (QuantumRegister|list|tuple): quantum register\n",
      " |          cbit (ClassicalRegister|list|tuple): classical register\n",
      " |      \n",
      " |      Returns:\n",
      " |          qiskit.Instruction: the attached measure instruction.\n",
      " |      \n",
      " |      Raises:\n",
      " |          QiskitError: if qubit is not in this circuit or bad format;\n",
      " |              if cbit is not in this circuit or not creg.\n",
      " |  \n",
      " |  measure_active(self)\n",
      " |      Adds measurement to all non-idle qubits. Creates a new ClassicalRegister with\n",
      " |      a size equal to the number of non-idle qubits being measured.\n",
      " |  \n",
      " |  measure_all(self)\n",
      " |      Adds measurement to all qubits. Creates a new ClassicalRegister with a\n",
      " |      size equal to the number of qubits being measured.\n",
      " |  \n",
      " |  mirror(self)\n",
      " |      Mirror the circuit by reversing the instructions.\n",
      " |      \n",
      " |      This is done by recursively mirroring all instructions.\n",
      " |      It does not invert any gate.\n",
      " |      \n",
      " |      Returns:\n",
      " |          QuantumCircuit: the mirrored circuit\n",
      " |  \n",
      " |  ms(self, theta, qubits)\n",
      " |      Apply MS to q1 and q2.\n",
      " |  \n",
      " |  num_connected_components(self, unitary_only=False)\n",
      " |      How many non-entangled subcircuits can the circuit be factored to.\n",
      " |      \n",
      " |      Args:\n",
      " |          unitary_only (bool): Compute only unitary part of graph.\n",
      " |      \n",
      " |      Returns:\n",
      " |          int: Number of connected components in circuit.\n",
      " |  \n",
      " |  num_tensor_factors(self)\n",
      " |      Computes the number of tensor factors in the unitary\n",
      " |      (quantum) part of the circuit only.\n",
      " |      \n",
      " |      Notes:\n",
      " |          This is here for backwards compatibility, and will be\n",
      " |          removed in a future release of qiskit. You should call\n",
      " |          `num_unitary_factors` instead.\n",
      " |  \n",
      " |  num_unitary_factors(self)\n",
      " |      Computes the number of tensor factors in the unitary\n",
      " |      (quantum) part of the circuit only.\n",
      " |  \n",
      " |  qasm(self)\n",
      " |      Return OpenQASM string.\n",
      " |  \n",
      " |  qbit_argument_conversion(self, qubit_representation)\n",
      " |      Converts several qubit representations (such as indexes, range, etc)\n",
      " |      into a list of qubits.\n",
      " |      \n",
      " |      Args:\n",
      " |          qubit_representation (Object): representation to expand\n",
      " |      \n",
      " |      Returns:\n",
      " |          List(tuple): Where each tuple is a qubit.\n",
      " |  \n",
      " |  rcccx(self, q_control_1, q_control_2, q_control_3, q_target)\n",
      " |      Apply 3-Control Relative-Phase Toffoli gate from q_control_1, q_control_2, and q_control_3 to q_target.\n",
      " |      \n",
      " |      The implementation is based on https://arxiv.org/pdf/1508.03273.pdf Figure 4\n",
      " |      \n",
      " |      Args:\n",
      " |          self (QuantumCircuit): The QuantumCircuit object to apply the rcccx gate on.\n",
      " |          q_control_1 (Qubit): The 1st control qubit.\n",
      " |          q_control_2 (Qubit): The 2nd control qubit.\n",
      " |          q_control_3 (Qubit): The 3rd control qubit.\n",
      " |          q_target (Qubit): The target qubit.\n",
      " |  \n",
      " |  rccx(self, q_control_1, q_control_2, q_target)\n",
      " |      Apply 2-Control Relative-Phase Toffoli gate from q_control_1 and q_control_2 to q_target.\n",
      " |      \n",
      " |      The implementation is based on https://arxiv.org/pdf/1508.03273.pdf Figure 3\n",
      " |      \n",
      " |      Args:\n",
      " |          self (QuantumCircuit): The QuantumCircuit object to apply the rccx gate on.\n",
      " |          q_control_1 (Qubit): The 1st control qubit.\n",
      " |          q_control_2 (Qubit): The 2nd control qubit.\n",
      " |          q_target (Qubit): The target qubit.\n",
      " |  \n",
      " |  remove_final_measurements(self)\n",
      " |      Removes final measurement on all qubits if they are present.\n",
      " |      Deletes the ClassicalRegister that was used to store the values from these measurements\n",
      " |      if it is idle.\n",
      " |  \n",
      " |  reset(self, qubit)\n",
      " |      Reset q.\n",
      " |  \n",
      " |  rx(self, theta, q)\n",
      " |      Apply Rx to q.\n",
      " |  \n",
      " |  rxx(self, theta, qubit1, qubit2)\n",
      " |      Apply RXX to circuit.\n",
      " |  \n",
      " |  ry(self, theta, q)\n",
      " |      Apply Ry to q.\n",
      " |  \n",
      " |  rz(self, phi, q)\n",
      " |      Apply Rz to q.\n",
      " |  \n",
      " |  rzz(self, theta, qubit1, qubit2)\n",
      " |      Apply RZZ to circuit.\n",
      " |  \n",
      " |  s(self, q)\n",
      " |      Apply S to q.\n",
      " |  \n",
      " |  sdg(self, q)\n",
      " |      Apply Sdg to q.\n",
      " |  \n",
      " |  size(self)\n",
      " |      Returns total number of gate operations in circuit.\n",
      " |      \n",
      " |      Returns:\n",
      " |          int: Total number of gate operations.\n",
      " |  \n",
      " |  squ(self, u, qubit, mode='ZYZ', up_to_diagonal=False)\n",
      " |      Decompose an arbitrary 2*2 unitary into three rotation gates :math:`U=R_zR_yR_z`.\n",
      " |      \n",
      " |      Note that the decomposition is up to a global phase shift.\n",
      " |      \n",
      " |      (This is a well known decomposition, which can be found for example in Nielsen and Chuang's book\n",
      " |      \"Quantum computation and quantum information\".)\n",
      " |      \n",
      " |      Args:\n",
      " |          u (ndarray): 2*2 unitary (given as a (complex) ndarray)\n",
      " |          qubit (QuantumRegister|Qubit): the qubit, on which the gate is acting on\n",
      " |          mode (string): determines the used decomposition by providing the rotation axes.\n",
      " |              The allowed modes are: \"ZYZ\" (default)\n",
      " |          up_to_diagonal (bool):  if set to True, the single-qubit unitary is decomposed up to\n",
      " |              a diagonal matrix, i.e. a unitary u' is implemented such that there exists a 2*2\n",
      " |              diagonal gate d with u = d.dot(u')\n",
      " |      Returns:\n",
      " |          QuantumCircuit: the single-qubit unitary (up to a diagonal gate if\n",
      " |          up_to_diagonal = True) is attached to the circuit.\n",
      " |      \n",
      " |      Raises:\n",
      " |          QiskitError: if the format is wrong; if the array u is not unitary\n",
      " |  \n",
      " |  swap(self, qubit1, qubit2)\n",
      " |      Apply SWAP from qubit1 to qubit2.\n",
      " |  \n",
      " |  t(self, q)\n",
      " |      Apply T to q.\n",
      " |  \n",
      " |  tdg(self, q)\n",
      " |      Apply Tdg to q.\n",
      " |  \n",
      " |  to_instruction(self, parameter_map=None)\n",
      " |      Create an Instruction out of this circuit.\n",
      " |      \n",
      " |      Args:\n",
      " |          parameter_map(dict): For parameterized circuits, a mapping from\n",
      " |             parameters in the circuit to parameters to be used in the\n",
      " |             instruction. If None, existing circuit parameters will also\n",
      " |             parameterize the instruction.\n",
      " |      \n",
      " |      Returns:\n",
      " |          Instruction: a composite instruction encapsulating this circuit\n",
      " |          (can be decomposed back)\n",
      " |  \n",
      " |  u0(self, m, q)\n",
      " |      Apply u0 with length m to q.\n",
      " |  \n",
      " |  u1(self, theta, q)\n",
      " |      Apply u1 with angle theta to q.\n",
      " |  \n",
      " |  u2(self, phi, lam, q)\n",
      " |      Apply u2 to q.\n",
      " |  \n",
      " |  u3(self, theta, phi, lam, q)\n",
      " |      Apply u3 to q.\n",
      " |  \n",
      " |  u_base(self, theta, phi, lam, q)\n",
      " |      Apply U to q.\n",
      " |  \n",
      " |  ucg(self, gate_list, q_controls, q_target, up_to_diagonal=False)\n",
      " |      Attach a uniformly controlled gates (also called multiplexed gates) to a circuit.\n",
      " |      \n",
      " |      The decomposition was introduced by Bergholm et al. in\n",
      " |      https://arxiv.org/pdf/quant-ph/0410066.pdf.\n",
      " |      \n",
      " |      Args:\n",
      " |          gate_list (list[ndarray]): list of two qubit unitaries [U_0,...,U_{2^k-1}],\n",
      " |              where each single-qubit unitary U_i is a given as a 2*2 array\n",
      " |          q_controls (QuantumRegister|list[(QuantumRegister,int)]): list of k control qubits.\n",
      " |              The qubits are ordered according to their significance in the computational basis.\n",
      " |              For example if q_controls=[q[1],q[2]] (with q = QuantumRegister(2)),\n",
      " |              the unitary U_0 is performed if q[1] and q[2] are in the state zero, U_1 is\n",
      " |              performed if q[2] is in the state zero and q[1] is in the state one, and so on\n",
      " |          q_target (QuantumRegister|(QuantumRegister,int)):  target qubit, where we act on with\n",
      " |              the single-qubit gates.\n",
      " |          up_to_diagonal (bool): If set to True, the uniformly controlled gate is decomposed up\n",
      " |              to a diagonal gate, i.e. a unitary u' is implemented such that there exists a\n",
      " |              diagonal gate d with u = d.dot(u'), where the unitary u describes the uniformly\n",
      " |              controlled gate\n",
      " |      \n",
      " |      Returns:\n",
      " |          QuantumCircuit: the uniformly controlled gate is attached to the circuit.\n",
      " |      \n",
      " |      Raises:\n",
      " |          QiskitError: if the list number of control qubits does not correspond to the provided\n",
      " |              number of single-qubit unitaries; if an input is of the wrong type\n",
      " |  \n",
      " |  ucx(self, angle_list, q_controls, q_target)\n",
      " |      Attach a uniformly controlled (also called multiplexed) Rx rotation gate to a circuit.\n",
      " |      \n",
      " |      The decomposition is base on https://arxiv.org/pdf/quant-ph/0406176.pdf by Shende et al.\n",
      " |      \n",
      " |      Args:\n",
      " |          angle_list (list): list of (real) rotation angles [a_0,...,a_{2^k-1}]\n",
      " |          q_controls (QuantumRegister|list): list of k control qubits\n",
      " |              (or empty list if no controls). The control qubits are ordered according to their\n",
      " |              significance in increasing order: For example if q_controls=[q[1],q[2]]\n",
      " |              (with q = QuantumRegister(2)), the rotation Rx(a_0)is performed if q[1] and q[2]\n",
      " |              are in the state zero, the rotation  Rx(a_1) is performed if q[1] is in the state\n",
      " |               one and q[2] is in the state zero, and so on\n",
      " |          q_target (QuantumRegister|Qubit): target qubit, where we act on with\n",
      " |              the single-qubit rotation gates\n",
      " |      \n",
      " |      Returns:\n",
      " |          QuantumCircuit: the uniformly controlled rotation gate is attached to the circuit.\n",
      " |      \n",
      " |      Raises:\n",
      " |          QiskitError: if the list number of control qubits does not correspond to the provided\n",
      " |              number of single-qubit unitaries; if an input is of the wrong type\n",
      " |  \n",
      " |  ucy(self, angle_list, q_controls, q_target)\n",
      " |      Attach a uniformly controlled (also called multiplexed) Ry rotation gate to a circuit.\n",
      " |      \n",
      " |      The decomposition is base on https://arxiv.org/pdf/quant-ph/0406176.pdf by Shende et al.\n",
      " |      \n",
      " |      Args:\n",
      " |          angle_list (list[numbers): list of (real) rotation angles [a_0,...,a_{2^k-1}]\n",
      " |          q_controls (QuantumRegister|list[Qubit]): list of k control qubits\n",
      " |              (or empty list if no controls). The control qubits are ordered according to their\n",
      " |              significance in increasing order: For example if q_controls=[q[1],q[2]]\n",
      " |              (with q = QuantumRegister(2)), the rotation Ry(a_0)is performed if q[1] and q[2]\n",
      " |              are in the state zero, the rotation  Ry(a_1) is performed if q[1] is in the state\n",
      " |               one and q[2] is in the state zero, and so on\n",
      " |          q_target (QuantumRegister|Qubit): target qubit, where we act on with\n",
      " |              the single-qubit rotation gates\n",
      " |      \n",
      " |      Returns:\n",
      " |          QuantumCircuit: the uniformly controlled rotation gate is attached to the circuit.\n",
      " |      \n",
      " |      Raises:\n",
      " |          QiskitError: if the list number of control qubits does not correspond to the provided\n",
      " |              number of single-qubit unitaries; if an input is of the wrong type\n",
      " |  \n",
      " |  ucz(self, angle_list, q_controls, q_target)\n",
      " |      Attach a uniformly controlled (also called multiplexed gates) Rz rotation gate to a circuit.\n",
      " |      \n",
      " |      The decomposition is base on https://arxiv.org/pdf/quant-ph/0406176.pdf by Shende et al.\n",
      " |      \n",
      " |      Args:\n",
      " |          angle_list (list[numbers): list of (real) rotation angles [a_0,...,a_{2^k-1}]\n",
      " |          q_controls (QuantumRegister|list[Qubit]): list of k control qubits\n",
      " |              (or empty list if no controls). The control qubits are ordered according to their\n",
      " |              significance in increasing order: For example if q_controls=[q[1],q[2]]\n",
      " |              (with q = QuantumRegister(2)), the rotation Rz(a_0)is performed if q[1] and q[2]\n",
      " |              are in the state zero, the rotation  Rz(a_1) is performed if q[1] is in\n",
      " |              the state one and q[2] is in the state zero, and so on\n",
      " |          q_target (QuantumRegister|Qubit): target qubit, where we act on with\n",
      " |              the single-qubit rotation gates\n",
      " |      \n",
      " |      Returns:\n",
      " |          QuantumCircuit: the uniformly controlled rotation gate is attached to the circuit.\n",
      " |      \n",
      " |      Raises:\n",
      " |          QiskitError: if the list number of control qubits does not correspond to\n",
      " |              the provided number of single-qubit unitaries; if an input is of\n",
      " |              the wrong type\n",
      " |  \n",
      " |  unitary(self, obj, qubits, label=None)\n",
      " |      Apply u2 to q.\n",
      " |  \n",
      " |  width(self)\n",
      " |      Return number of qubits plus clbits in circuit.\n",
      " |      \n",
      " |      Returns:\n",
      " |          int: Width of circuit.\n",
      " |  \n",
      " |  x(self, q)\n",
      " |      Apply X to q.\n",
      " |  \n",
      " |  y(self, q)\n",
      " |      Apply Y to q.\n",
      " |  \n",
      " |  z(self, q)\n",
      " |      Apply Z to q.\n",
      " |  \n",
      " |  ----------------------------------------------------------------------\n",
      " |  Class methods defined here:\n",
      " |  \n",
      " |  cls_instances() from builtins.type\n",
      " |      Return the current number of instances of this class,\n",
      " |      useful for auto naming.\n",
      " |  \n",
      " |  cls_prefix() from builtins.type\n",
      " |      Return the prefix to use for auto naming.\n",
      " |  \n",
      " |  ----------------------------------------------------------------------\n",
      " |  Static methods defined here:\n",
      " |  \n",
      " |  cast(value, _type)\n",
      " |      Best effort to cast value to type. Otherwise, returns the value.\n",
      " |  \n",
      " |  from_qasm_file(path)\n",
      " |      Take in a QASM file and generate a QuantumCircuit object.\n",
      " |      \n",
      " |      Args:\n",
      " |        path (str): Path to the file for a QASM program\n",
      " |      Return:\n",
      " |        QuantumCircuit: The QuantumCircuit object for the input QASM\n",
      " |  \n",
      " |  from_qasm_str(qasm_str)\n",
      " |      Take in a QASM string and generate a QuantumCircuit object.\n",
      " |      \n",
      " |      Args:\n",
      " |        qasm_str (str): A QASM program string\n",
      " |      Return:\n",
      " |        QuantumCircuit: The QuantumCircuit object for the input QASM\n",
      " |  \n",
      " |  ----------------------------------------------------------------------\n",
      " |  Data descriptors defined here:\n",
      " |  \n",
      " |  __dict__\n",
      " |      dictionary for instance variables (if defined)\n",
      " |  \n",
      " |  __weakref__\n",
      " |      list of weak references to the object (if defined)\n",
      " |  \n",
      " |  clbits\n",
      " |      Returns a list of classical bits in the order that the registers had been added.\n",
      " |  \n",
      " |  data\n",
      " |      Return the circuit data (instructions and context).\n",
      " |      \n",
      " |      Returns:\n",
      " |          QuantumCircuitData: a list-like object containing the tuples for the circuit's data.\n",
      " |      \n",
      " |          Each tuple is in the format ``(instruction, qargs, cargs)``.\n",
      " |          Where instruction is an Instruction (or subclass) object,\n",
      " |          qargs is a list of Qubit objects, and cargs is a list of Clbit\n",
      " |          objects.\n",
      " |  \n",
      " |  n_qubits\n",
      " |      Return number of qubits.\n",
      " |  \n",
      " |  parameters\n",
      " |      convenience function to get the parameters defined in the parameter table\n",
      " |  \n",
      " |  qubits\n",
      " |      Returns a list of quantum bits in the order that the registers had been added.\n",
      " |  \n",
      " |  ----------------------------------------------------------------------\n",
      " |  Data and other attributes defined here:\n",
      " |  \n",
      " |  __hash__ = None\n",
      " |  \n",
      " |  extension_lib = 'include \"qelib1.inc\";'\n",
      " |  \n",
      " |  header = 'OPENQASM 2.0;'\n",
      " |  \n",
      " |  instances = 37\n",
      " |  \n",
      " |  prefix = 'circuit'\n",
      "\n"
     ]
    }
   ],
   "source": [
    "help(QuantumCircuit)"
   ]
  },
  {
   "cell_type": "markdown",
   "metadata": {
    "slideshow": {
     "slide_type": "slide"
    }
   },
   "source": [
    "# Gates! There are many. And they're called `Instructions`.\n",
    "\n",
    "Qiskit supports many gates. They are located in the `qiskit/extensions/standard directory`, but are loaded in sneakily so you don’t need to import them one by one.\n",
    "\n",
    "The basis gateset of the IBM Q devices is {u1, u2, u3, CX}, so you might find that a lot of code uses u3 for all single-qubit operations, rather than rx, ry, or rz.\n",
    "\n",
    "Gates are technically objects, but in practice you're likely to use them in the form of static functions on the circuit object. Don't go looking for these functions in the QuantumCircuit class, they're dynamically added by each gate module import 🙈. More info on gates [here](https://github.com/Qiskit/qiskit-tutorial/blob/master/qiskit/terra/summary_of_quantum_operations.ipynb) 📒."
   ]
  },
  {
   "cell_type": "markdown",
   "metadata": {
    "slideshow": {
     "slide_type": "slide"
    }
   },
   "source": [
    "After we add some gates, we can print our circuit's Qasm:"
   ]
  },
  {
   "cell_type": "code",
   "execution_count": 97,
   "metadata": {
    "ExecuteTime": {
     "end_time": "2019-10-24T18:49:40.733040Z",
     "start_time": "2019-10-24T18:49:40.729478Z"
    },
    "slideshow": {
     "slide_type": "fragment"
    }
   },
   "outputs": [
    {
     "name": "stdout",
     "output_type": "stream",
     "text": [
      "OPENQASM 2.0;\n",
      "include \"qelib1.inc\";\n",
      "qreg q36[3];\n",
      "creg c9[3];\n",
      "h q36[0];\n",
      "cx q36[0],q36[1];\n",
      "\n"
     ]
    }
   ],
   "source": [
    "# Hadamard gate on qubit 0\n",
    "bell.h(qr[0])\n",
    "\n",
    "# CNOT (Controlled-NOT) gate from qubit 0 to qubit 1\n",
    "bell.cx(qr[0], qr[1])\n",
    "\n",
    "print(bell.qasm())"
   ]
  },
  {
   "cell_type": "markdown",
   "metadata": {},
   "source": [
    "Here we've added an H gate to qubit 0 in register `qr`, and a CX gate from qubit 0 to qubit 1 in register `qr`. Composing circuits by adding gates one by one like this can be tedious, and fancier 🎩, more powerful 💪 methods will be arriving soon."
   ]
  },
  {
   "cell_type": "markdown",
   "metadata": {
    "slideshow": {
     "slide_type": "slide"
    }
   },
   "source": [
    "# Seeing what's inside a QuantumCircuit\n",
    "\n",
    "The contents of the circuit sits inside `circuit.data`, but I wouldn't recommend doing much in there. It's considered \"behind the scenes\" and likely to change often.\n",
    "\n",
    "The standard way to visualize a circuit is to `draw` it (`print(circuit)` also works):"
   ]
  },
  {
   "cell_type": "code",
   "execution_count": 98,
   "metadata": {
    "ExecuteTime": {
     "end_time": "2019-10-24T18:49:40.740570Z",
     "start_time": "2019-10-24T18:49:40.734878Z"
    },
    "slideshow": {
     "slide_type": "fragment"
    }
   },
   "outputs": [
    {
     "data": {
      "text/html": [
       "<pre style=\"word-wrap: normal;white-space: pre;background: #fff0;line-height: 1.1;font-family: &quot;Courier New&quot;,Courier,monospace\">          ┌───┐     \n",
       "q36_0: |0>┤ H ├──■──\n",
       "          └───┘┌─┴─┐\n",
       "q36_1: |0>─────┤ X ├\n",
       "               └───┘\n",
       "q36_2: |0>──────────\n",
       "                    \n",
       "  c9_0: 0 ══════════\n",
       "                    \n",
       "  c9_1: 0 ══════════\n",
       "                    \n",
       "  c9_2: 0 ══════════\n",
       "                    </pre>"
      ],
      "text/plain": [
       "<qiskit.visualization.text.TextDrawing at 0x11f7e4240>"
      ]
     },
     "execution_count": 98,
     "metadata": {},
     "output_type": "execute_result"
    }
   ],
   "source": [
    "bell.draw()"
   ]
  },
  {
   "cell_type": "markdown",
   "metadata": {
    "slideshow": {
     "slide_type": "fragment"
    }
   },
   "source": [
    "## Guess what? There's more info about visualizing circuits [here](https://github.com/Qiskit/qiskit-iqx-tutorials/blob/master/qiskit/fundamentals/2_plotting_data_in_qiskit.ipynb) 📒"
   ]
  },
  {
   "cell_type": "markdown",
   "metadata": {
    "slideshow": {
     "slide_type": "slide"
    }
   },
   "source": [
    "# What's the deal with Registers?\n",
    "\n",
    "Registers are in a sort of in-between state for the moment. They are useful for grouping qubits, such as making some group \"anc\" and calling `qc.h(anc)` on all anc qubits, or knowing which qubits line up where if you're composing circuits together:"
   ]
  },
  {
   "cell_type": "code",
   "execution_count": 99,
   "metadata": {
    "ExecuteTime": {
     "end_time": "2019-10-24T18:49:40.751023Z",
     "start_time": "2019-10-24T18:49:40.743159Z"
    }
   },
   "outputs": [
    {
     "name": "stdout",
     "output_type": "stream",
     "text": [
      "          ┌───┐     ┌───┐     ┌───┐     ┌───┐     \n",
      "q36_0: |0>┤ H ├──■──┤ H ├──■──┤ H ├──■──┤ H ├──■──\n",
      "          └───┘┌─┴─┐└───┘┌─┴─┐└───┘┌─┴─┐└───┘┌─┴─┐\n",
      "q36_1: |0>─────┤ X ├─────┤ X ├─────┤ X ├─────┤ X ├\n",
      "               └───┘     └───┘     └───┘     └───┘\n",
      "q36_2: |0>────────────────────────────────────────\n",
      "                                                  \n",
      "  c9_0: 0 ════════════════════════════════════════\n",
      "                                                  \n",
      "  c9_1: 0 ════════════════════════════════════════\n",
      "                                                  \n",
      "  c9_2: 0 ════════════════════════════════════════\n",
      "                                                  \n"
     ]
    }
   ],
   "source": [
    "print(bell + bell + bell + bell)"
   ]
  },
  {
   "cell_type": "markdown",
   "metadata": {},
   "source": [
    "But they are also a bit tedious, having to be declared and kept track of all the time. Recently, a new way to glue circuits was introduced, which allows one to export the circuit to a register-less template called an `instruction`."
   ]
  },
  {
   "cell_type": "markdown",
   "metadata": {
    "slideshow": {
     "slide_type": "slide"
    }
   },
   "source": [
    "Now, we already have enough to run the circuit if we like. Let's import a backend, in this case a simulator, and run the circuit."
   ]
  },
  {
   "cell_type": "code",
   "execution_count": 100,
   "metadata": {
    "ExecuteTime": {
     "end_time": "2019-10-24T18:49:40.766876Z",
     "start_time": "2019-10-24T18:49:40.753174Z"
    },
    "slideshow": {
     "slide_type": "fragment"
    }
   },
   "outputs": [
    {
     "name": "stderr",
     "output_type": "stream",
     "text": [
      "No measurements in circuit \"circuit36\": count data will return all zeros.\n"
     ]
    },
    {
     "data": {
      "text/plain": [
       "{'000': 1024}"
      ]
     },
     "execution_count": 100,
     "metadata": {},
     "output_type": "execute_result"
    }
   ],
   "source": [
    "from qiskit import Aer, execute\n",
    "qasm_backend = Aer.get_backend('qasm_simulator')\n",
    "\n",
    "job = execute(bell, qasm_backend)\n",
    "\n",
    "result = job.result()\n",
    "result.get_counts(bell)"
   ]
  },
  {
   "cell_type": "markdown",
   "metadata": {
    "slideshow": {
     "slide_type": "slide"
    }
   },
   "source": [
    "Whoops! We forgot to measure. Let's do that."
   ]
  },
  {
   "cell_type": "code",
   "execution_count": 101,
   "metadata": {
    "ExecuteTime": {
     "end_time": "2019-10-24T18:49:40.786135Z",
     "start_time": "2019-10-24T18:49:40.768336Z"
    }
   },
   "outputs": [
    {
     "data": {
      "text/plain": [
       "{'011': 519, '000': 505}"
      ]
     },
     "execution_count": 101,
     "metadata": {},
     "output_type": "execute_result"
    }
   ],
   "source": [
    "bell.measure(qr, cr)\n",
    "\n",
    "job = execute(bell, qasm_backend)\n",
    "\n",
    "result = job.result()\n",
    "result.get_counts(bell)"
   ]
  },
  {
   "cell_type": "code",
   "execution_count": 102,
   "metadata": {
    "ExecuteTime": {
     "end_time": "2019-10-24T18:49:40.793233Z",
     "start_time": "2019-10-24T18:49:40.787728Z"
    }
   },
   "outputs": [
    {
     "data": {
      "text/html": [
       "<pre style=\"word-wrap: normal;white-space: pre;background: #fff0;line-height: 1.1;font-family: &quot;Courier New&quot;,Courier,monospace\">          ┌───┐     ┌─┐   \n",
       "q36_0: |0>┤ H ├──■──┤M├───\n",
       "          └───┘┌─┴─┐└╥┘┌─┐\n",
       "q36_1: |0>─────┤ X ├─╫─┤M├\n",
       "           ┌─┐ └───┘ ║ └╥┘\n",
       "q36_2: |0>─┤M├───────╫──╫─\n",
       "           └╥┘       ║  ║ \n",
       "  c9_0: 0 ══╬════════╩══╬═\n",
       "            ║           ║ \n",
       "  c9_1: 0 ══╬═══════════╩═\n",
       "            ║             \n",
       "  c9_2: 0 ══╩═════════════\n",
       "                          </pre>"
      ],
      "text/plain": [
       "<qiskit.visualization.text.TextDrawing at 0x11f7e0828>"
      ]
     },
     "execution_count": 102,
     "metadata": {},
     "output_type": "execute_result"
    }
   ],
   "source": [
    "bell.draw()"
   ]
  },
  {
   "cell_type": "markdown",
   "metadata": {
    "slideshow": {
     "slide_type": "-"
    }
   },
   "source": [
    "**Note** that Terra treats the rightmost qubit as qubit 0 (!), which is consistent with binary endianness, but slightly counterintuitive."
   ]
  },
  {
   "cell_type": "code",
   "execution_count": 103,
   "metadata": {
    "ExecuteTime": {
     "end_time": "2019-10-24T18:49:40.797680Z",
     "start_time": "2019-10-24T18:49:40.794795Z"
    },
    "slideshow": {
     "slide_type": "skip"
    }
   },
   "outputs": [
    {
     "name": "stdout",
     "output_type": "stream",
     "text": [
      "Help on function transpile in module qiskit.compiler.transpile:\n",
      "\n",
      "transpile(circuits, backend=None, basis_gates=None, coupling_map=None, backend_properties=None, initial_layout=None, seed_transpiler=None, optimization_level=None, pass_manager=None, callback=None, output_name=None)\n",
      "    Transpile one or more circuits, according to some desired transpilation targets.\n",
      "    \n",
      "    All arguments may be given as either singleton or list. In case of list,\n",
      "    the length must be equal to the number of circuits being transpiled.\n",
      "    \n",
      "    Transpilation is done in parallel using multiprocessing.\n",
      "    \n",
      "    Args:\n",
      "        circuits (QuantumCircuit or list[QuantumCircuit]):\n",
      "            Circuit(s) to transpile\n",
      "    \n",
      "        backend (BaseBackend):\n",
      "            If set, transpiler options are automatically grabbed from\n",
      "            backend.configuration() and backend.properties().\n",
      "            If any other option is explicitly set (e.g. coupling_map), it\n",
      "            will override the backend's.\n",
      "    \n",
      "            Note: the backend arg is purely for convenience. The resulting\n",
      "            circuit may be run on any backend as long as it is compatible.\n",
      "    \n",
      "        basis_gates (list[str]):\n",
      "            List of basis gate names to unroll to.\n",
      "            e.g::\n",
      "    \n",
      "                ['u1', 'u2', 'u3', 'cx']\n",
      "    \n",
      "            If None, do not unroll.\n",
      "    \n",
      "        coupling_map (CouplingMap or list):\n",
      "            Coupling map (perhaps custom) to target in mapping.\n",
      "            Multiple formats are supported:\n",
      "    \n",
      "            1. CouplingMap instance\n",
      "            2. list\n",
      "                Must be given as an adjacency matrix, where each entry\n",
      "                specifies all two-qubit interactions supported by backend\n",
      "                e.g::\n",
      "    \n",
      "                    [[0, 1], [0, 3], [1, 2], [1, 5], [2, 5], [4, 1], [5, 3]]\n",
      "    \n",
      "        backend_properties (BackendProperties):\n",
      "            properties returned by a backend, including information on gate\n",
      "            errors, readout errors, qubit coherence times, etc. For a backend\n",
      "            that provides this information, it can be obtained with:\n",
      "            ``backend.properties()``\n",
      "    \n",
      "        initial_layout (Layout or dict or list):\n",
      "            Initial position of virtual qubits on physical qubits.\n",
      "            If this layout makes the circuit compatible with the coupling_map\n",
      "            constraints, it will be used.\n",
      "            The final layout is not guaranteed to be the same, as the transpiler\n",
      "            may permute qubits through swaps or other means.\n",
      "    \n",
      "            Multiple formats are supported:\n",
      "    \n",
      "            1. Layout instance\n",
      "            2. dict\n",
      "                * virtual to physical::\n",
      "    \n",
      "                    {qr[0]: 0,\n",
      "                     qr[1]: 3,\n",
      "                     qr[2]: 5}\n",
      "    \n",
      "                * physical to virtual::\n",
      "    \n",
      "                    {0: qr[0],\n",
      "                     3: qr[1],\n",
      "                     5: qr[2]}\n",
      "    \n",
      "            3. list\n",
      "                * virtual to physical::\n",
      "    \n",
      "                    [0, 3, 5]  # virtual qubits are ordered (in addition to named)\n",
      "    \n",
      "                * physical to virtual::\n",
      "    \n",
      "                    [qr[0], None, None, qr[1], None, qr[2]]\n",
      "    \n",
      "        seed_transpiler (int):\n",
      "            sets random seed for the stochastic parts of the transpiler\n",
      "    \n",
      "        optimization_level (int):\n",
      "            How much optimization to perform on the circuits.\n",
      "            Higher levels generate more optimized circuits,\n",
      "            at the expense of longer transpilation time.\n",
      "    \n",
      "                * 0: no optimization\n",
      "                * 1: light optimization\n",
      "                * 2: heavy optimization\n",
      "                * 3: even heavier optimization\n",
      "    \n",
      "            If None, level 1 will be chosen as default.\n",
      "    \n",
      "        pass_manager (PassManager):\n",
      "            The pass manager to use for a custom pipeline of transpiler passes.\n",
      "            If this arg is present, all other args will be ignored and the\n",
      "            pass manager will be used directly (Qiskit will not attempt to\n",
      "            auto-select a pass manager based on transpile options).\n",
      "    \n",
      "        callback (func):\n",
      "            A callback function that will be called after each\n",
      "            pass execution. The function will be called with 5 keyword\n",
      "            arguments:\n",
      "                pass_ (Pass): the pass being run\n",
      "                dag (DAGCircuit): the dag output of the pass\n",
      "                time (float): the time to execute the pass\n",
      "                property_set (PropertySet): the property set\n",
      "                count (int): the index for the pass execution\n",
      "    \n",
      "            The exact arguments pass expose the internals of the pass manager\n",
      "            and are subject to change as the pass manager internals change. If\n",
      "            you intend to reuse a callback function over multiple releases be\n",
      "            sure to check that the arguments being passed are the same.\n",
      "    \n",
      "            To use the callback feature you define a function that will\n",
      "            take in kwargs dict and access the variables. For example::\n",
      "    \n",
      "                def callback_func(**kwargs):\n",
      "                    pass_ = kwargs['pass_']\n",
      "                    dag = kwargs['dag']\n",
      "                    time = kwargs['time']\n",
      "                    property_set = kwargs['property_set']\n",
      "                    count = kwargs['count']\n",
      "                    ...\n",
      "    \n",
      "                transpile(circ, callback=callback_func)\n",
      "    \n",
      "        output_name (str or list[str]) :\n",
      "            A list with strings to identify the output circuits. The length of\n",
      "            `list[str]` should be exactly the length of `circuits` parameter.\n",
      "    \n",
      "    Returns:\n",
      "        QuantumCircuit or list[QuantumCircuit]: transpiled circuit(s).\n",
      "    \n",
      "    Raises:\n",
      "        TranspilerError: in case of bad inputs to transpiler or errors in passes\n",
      "\n"
     ]
    }
   ],
   "source": [
    "help(transpile)"
   ]
  },
  {
   "cell_type": "markdown",
   "metadata": {
    "slideshow": {
     "slide_type": "slide"
    }
   },
   "source": [
    "# DAGs, Passes, Qobjs, Jobs\n",
    "\n",
    "We've actually skipped a few steps that happen under the hood within `execute`. Let's look at them in more detail. \n",
    "\n",
    "```\n",
    "transpile(circuits, backend=None, basis_gates=None, coupling_map=None, backend_properties=None, \n",
    "            initial_layout=None, seed_transpiler=None, optimization_level=None, pass_manager=None, \n",
    "            callback=None, output_name=None)\n",
    "```\n",
    "\n",
    "`execute` calls `transpile` on the circuits and a `PassManager` of transpiler passes, which converts the circuit into a Directed Acyclic Graph, or `DAG`, of gates, executes the passes on the `DAG`, and the converts the `DAG` back into a circuit. There are over 30 different passes in Terra and counting, including:\n",
    "* cx_cancellation, optimize_1q_gates\n",
    "* **Many** different mapping passes for rearranging qubits to fit on a particular backend\n",
    "* Unroller - Unroll to an abitrary (sufficient) basis!\n",
    "   \n",
    "```\n",
    "qobj = assemble_circuits(new_circuits, qobj_header=qobj_header, run_config=run_config) \n",
    "```\n",
    "\n",
    "`execute` then calls `assemble_circuits` to produce a `Qobj`, an object which is executable by OpenQASM-compliant backends. Standard execution settings, such as the number of shots or memory, are packaged in the `Qobj`.\n",
    "\n",
    "```\n",
    "return backend.run(qobj, **kwargs)\n",
    "```\n",
    "\n",
    "Finally, `execute` passes the `Qobj` to the user-specified `backend` object for execution, and returns a `Job`, not the result proper (as some executions can take a long time).\n"
   ]
  },
  {
   "cell_type": "markdown",
   "metadata": {
    "slideshow": {
     "slide_type": "slide"
    }
   },
   "source": [
    "# Notes on Transpilation\n",
    "\n",
    " * You can disable all transpilation (**at your own risk**) by passing an empty pass manager to the execute call\n",
    "   ```\n",
    "   execute(circuits, backend, pass_manager=PassMananger()):\n",
    "   ```\n",
    " * However, backends each accept only a particular set of gates and follow a strict topology for 2-qubit connectivity. For example, the IBM Q backends only accept ['u1', 'u2', 'u3', 'id', 'cx'] gates, and submitting an `RZ` gate will throw an error. If you submit a circuit with 2-qubit gates which are not present on the chip, the backend will yell at you.\n",
    "  * Note that backends will dutifully execute the instructions exactly as specified in the Qobj. As of now there is no further rearranging or unrolling once a `Qobj` is submitted.\n",
    "  * If you are doing fancy things that require less aggressive transpilation, you should probably build a `PassManager` with a restricted set of passes rather than try to hand-compile.\n",
    "\n",
    " * You can call `transpile` yourself and print your circuit if you want to see what the transpiler did!"
   ]
  },
  {
   "cell_type": "markdown",
   "metadata": {
    "slideshow": {
     "slide_type": "slide"
    }
   },
   "source": [
    "# Optimization levels\n",
    "\n",
    "The transpiler includes buckets of circuit optimization options, specified via:\n",
    "\n",
    "```\n",
    "optimization_level (int):\n",
    "            How much optimization to perform on the circuits.\n",
    "            Higher levels generate more optimized circuits,\n",
    "            at the expense of longer transpilation time.\n",
    "    \n",
    "                * 0: no optimization\n",
    "                * 1: light optimization\n",
    "                * 2: heavy optimization\n",
    "                * 3: even heavier optimization\n",
    "    \n",
    "            If None, level 1 will be chosen as default.\n",
    "```\n",
    "\n",
    "Let's see how they differ."
   ]
  },
  {
   "cell_type": "code",
   "execution_count": 104,
   "metadata": {
    "ExecuteTime": {
     "end_time": "2019-10-24T18:49:40.801377Z",
     "start_time": "2019-10-24T18:49:40.799194Z"
    },
    "slideshow": {
     "slide_type": "fragment"
    }
   },
   "outputs": [],
   "source": [
    "from qiskit.compiler import transpile"
   ]
  },
  {
   "cell_type": "markdown",
   "metadata": {
    "slideshow": {
     "slide_type": "slide"
    }
   },
   "source": [
    "# Optimization Level 0: no explicit optimization other than mapping to backend."
   ]
  },
  {
   "cell_type": "code",
   "execution_count": 108,
   "metadata": {
    "ExecuteTime": {
     "end_time": "2019-10-24T18:50:59.608463Z",
     "start_time": "2019-10-24T18:50:59.577514Z"
    },
    "slideshow": {
     "slide_type": "fragment"
    }
   },
   "outputs": [
    {
     "data": {
      "text/html": [
       "<pre style=\"word-wrap: normal;white-space: pre;background: #fff0;line-height: 1.1;font-family: &quot;Courier New&quot;,Courier,monospace\">            ┌──────────┐                                        ░ ┌─┐      \n",
       "(q360) q0|0>┤ U2(0,pi) ├────────────────────────────────────■───░─┤M├──────\n",
       "            └──────────┘┌──────────┐     ┌──────────┐       │   ░ └╥┘   ┌─┐\n",
       "(q361) q1|0>─────■──────┤ U2(0,pi) ├──■──┤ U2(0,pi) ├──■────┼───░──╫────┤M├\n",
       "               ┌─┴─┐    ├──────────┤┌─┴─┐├──────────┤┌─┴─┐┌─┴─┐ ░  ║ ┌─┐└╥┘\n",
       "(q362) q2|0>───┤ X ├────┤ U2(0,pi) ├┤ X ├┤ U2(0,pi) ├┤ X ├┤ X ├─░──╫─┤M├─╫─\n",
       "               └───┘    └──────────┘└───┘└──────────┘└───┘└───┘ ░  ║ └╥┘ ║ \n",
       "    c9_0: 0 ═══════════════════════════════════════════════════════╩══╬══╬═\n",
       "                                                                      ║  ║ \n",
       "    c9_1: 0 ══════════════════════════════════════════════════════════╩══╬═\n",
       "                                                                         ║ \n",
       "    c9_2: 0 ═════════════════════════════════════════════════════════════╩═\n",
       "                                                                           </pre>"
      ],
      "text/plain": [
       "<qiskit.visualization.text.TextDrawing at 0x11f7f2c88>"
      ]
     },
     "execution_count": 108,
     "metadata": {},
     "output_type": "execute_result"
    }
   ],
   "source": [
    "# Note that this step is stochastic!\n",
    "chewed_circuit0 = transpile(bell, backend=qasm_backend, \n",
    "                           basis_gates=['u1','u2','u3','cx','id'], \n",
    "                           coupling_map=[[0, 2], [1, 2]],\n",
    "                          optimization_level=0)\n",
    "chewed_circuit0.draw(line_length=200)"
   ]
  },
  {
   "cell_type": "markdown",
   "metadata": {
    "slideshow": {
     "slide_type": "slide"
    }
   },
   "source": [
    "# Optimization Level 1: light optimization by simple adjacent gate collapsing."
   ]
  },
  {
   "cell_type": "code",
   "execution_count": 111,
   "metadata": {
    "ExecuteTime": {
     "end_time": "2019-10-24T18:50:59.608463Z",
     "start_time": "2019-10-24T18:50:59.577514Z"
    },
    "slideshow": {
     "slide_type": "fragment"
    }
   },
   "outputs": [
    {
     "data": {
      "text/html": [
       "<pre style=\"word-wrap: normal;white-space: pre;background: #fff0;line-height: 1.1;font-family: &quot;Courier New&quot;,Courier,monospace\">            ┌──────────┐                                        ░ ┌─┐      \n",
       "(q360) q0|0>┤ U2(0,pi) ├────────────────────────────────────■───░─┤M├──────\n",
       "            └──────────┘┌──────────┐     ┌──────────┐       │   ░ └╥┘   ┌─┐\n",
       "(q361) q1|0>─────■──────┤ U2(0,pi) ├──■──┤ U2(0,pi) ├──■────┼───░──╫────┤M├\n",
       "               ┌─┴─┐    ├──────────┤┌─┴─┐├──────────┤┌─┴─┐┌─┴─┐ ░  ║ ┌─┐└╥┘\n",
       "(q362) q2|0>───┤ X ├────┤ U2(0,pi) ├┤ X ├┤ U2(0,pi) ├┤ X ├┤ X ├─░──╫─┤M├─╫─\n",
       "               └───┘    └──────────┘└───┘└──────────┘└───┘└───┘ ░  ║ └╥┘ ║ \n",
       "    c9_0: 0 ═══════════════════════════════════════════════════════╩══╬══╬═\n",
       "                                                                      ║  ║ \n",
       "    c9_1: 0 ══════════════════════════════════════════════════════════╩══╬═\n",
       "                                                                         ║ \n",
       "    c9_2: 0 ═════════════════════════════════════════════════════════════╩═\n",
       "                                                                           </pre>"
      ],
      "text/plain": [
       "<qiskit.visualization.text.TextDrawing at 0x11f80f160>"
      ]
     },
     "execution_count": 111,
     "metadata": {},
     "output_type": "execute_result"
    }
   ],
   "source": [
    "# Not showing effect here because we're not specifying many redundant gates\n",
    "chewed_circuit1 = transpile(bell, backend=qasm_backend, \n",
    "                           basis_gates=['u1','u2','u3','cx','id'], \n",
    "                           coupling_map=[[0, 2], [1, 2]],\n",
    "                          optimization_level=1)\n",
    "chewed_circuit1.draw(line_length=200)"
   ]
  },
  {
   "cell_type": "markdown",
   "metadata": {
    "slideshow": {
     "slide_type": "slide"
    }
   },
   "source": [
    "# Optimization Level 2: medium optimization by noise adaptive qubit mapping and gate cancellation using commutativity rules"
   ]
  },
  {
   "cell_type": "code",
   "execution_count": 113,
   "metadata": {
    "ExecuteTime": {
     "end_time": "2019-10-24T18:50:59.608463Z",
     "start_time": "2019-10-24T18:50:59.577514Z"
    },
    "slideshow": {
     "slide_type": "fragment"
    }
   },
   "outputs": [
    {
     "data": {
      "text/html": [
       "<pre style=\"word-wrap: normal;white-space: pre;background: #fff0;line-height: 1.1;font-family: &quot;Courier New&quot;,Courier,monospace\">                        ┌─┐           \n",
       "(q362) q0|0>────────────┤M├───────────\n",
       "            ┌──────────┐└╥┘     ┌─┐   \n",
       "(q360) q1|0>┤ U2(0,pi) ├─╫───■──┤M├───\n",
       "            └──────────┘ ║ ┌─┴─┐└╥┘┌─┐\n",
       "(q361) q2|0>─────────────╫─┤ X ├─╫─┤M├\n",
       "                         ║ └───┘ ║ └╥┘\n",
       "    c9_0: 0 ═════════════╬═══════╩══╬═\n",
       "                         ║          ║ \n",
       "    c9_1: 0 ═════════════╬══════════╩═\n",
       "                         ║            \n",
       "    c9_2: 0 ═════════════╩════════════\n",
       "                                      </pre>"
      ],
      "text/plain": [
       "<qiskit.visualization.text.TextDrawing at 0x12267f438>"
      ]
     },
     "execution_count": 113,
     "metadata": {},
     "output_type": "execute_result"
    }
   ],
   "source": [
    "chewed_circuit2 = transpile(bell, backend=qasm_backend, \n",
    "                           basis_gates=['u1','u2','u3','cx','id'], \n",
    "                           coupling_map=[[0, 2], [1, 2]],\n",
    "                          optimization_level=2)\n",
    "chewed_circuit2.draw(line_length=200)"
   ]
  },
  {
   "cell_type": "markdown",
   "metadata": {
    "slideshow": {
     "slide_type": "slide"
    }
   },
   "source": [
    "# Optimization Level 3: noise adaptive mapping in addition to heavy optimization based on unitary synthesis"
   ]
  },
  {
   "cell_type": "code",
   "execution_count": 114,
   "metadata": {
    "ExecuteTime": {
     "end_time": "2019-10-24T18:50:59.608463Z",
     "start_time": "2019-10-24T18:50:59.577514Z"
    },
    "slideshow": {
     "slide_type": "fragment"
    }
   },
   "outputs": [
    {
     "data": {
      "text/html": [
       "<pre style=\"word-wrap: normal;white-space: pre;background: #fff0;line-height: 1.1;font-family: &quot;Courier New&quot;,Courier,monospace\">                        ┌─┐           \n",
       "(q362) q0|0>────────────┤M├───────────\n",
       "            ┌──────────┐└╥┘     ┌─┐   \n",
       "(q360) q1|0>┤ U2(0,pi) ├─╫───■──┤M├───\n",
       "            └──────────┘ ║ ┌─┴─┐└╥┘┌─┐\n",
       "(q361) q2|0>─────────────╫─┤ X ├─╫─┤M├\n",
       "                         ║ └───┘ ║ └╥┘\n",
       "    c9_0: 0 ═════════════╬═══════╩══╬═\n",
       "                         ║          ║ \n",
       "    c9_1: 0 ═════════════╬══════════╩═\n",
       "                         ║            \n",
       "    c9_2: 0 ═════════════╩════════════\n",
       "                                      </pre>"
      ],
      "text/plain": [
       "<qiskit.visualization.text.TextDrawing at 0x1226881d0>"
      ]
     },
     "execution_count": 114,
     "metadata": {},
     "output_type": "execute_result"
    }
   ],
   "source": [
    "# Not showing effect here because we're not specifying a device\n",
    "chewed_circuit3 = transpile(bell, backend=qasm_backend, \n",
    "                           basis_gates=['u1','u2','u3','cx','id'], \n",
    "                           coupling_map=[[0, 2], [1, 2]],\n",
    "                          optimization_level=3)\n",
    "chewed_circuit3.draw(line_length=200)"
   ]
  },
  {
   "cell_type": "markdown",
   "metadata": {
    "slideshow": {
     "slide_type": "slide"
    }
   },
   "source": [
    "# Execution Settings, All Together Now - a Good Picture of Terra’s robustness"
   ]
  },
  {
   "cell_type": "code",
   "execution_count": 68,
   "metadata": {
    "ExecuteTime": {
     "end_time": "2019-10-24T18:34:02.211051Z",
     "start_time": "2019-10-24T18:34:02.186448Z"
    }
   },
   "outputs": [
    {
     "name": "stdout",
     "output_type": "stream",
     "text": [
      "Help on function execute in module qiskit.execute:\n",
      "\n",
      "execute(experiments, backend, basis_gates=None, coupling_map=None, backend_properties=None, initial_layout=None, seed_transpiler=None, optimization_level=None, pass_manager=None, qobj_id=None, qobj_header=None, shots=1024, memory=False, max_credits=10, seed_simulator=None, default_qubit_los=None, default_meas_los=None, schedule_los=None, meas_level=2, meas_return='avg', memory_slots=None, memory_slot_size=100, rep_time=None, parameter_binds=None, **run_config)\n",
      "    Execute a list of circuits or pulse schedules on a backend.\n",
      "    \n",
      "    The execution is asynchronous, and a handle to a job instance is returned.\n",
      "    \n",
      "    Args:\n",
      "        experiments (QuantumCircuit or list[QuantumCircuit] or Schedule or list[Schedule]):\n",
      "            Circuit(s) or pulse schedule(s) to execute\n",
      "    \n",
      "        backend (BaseBackend):\n",
      "            Backend to execute circuits on.\n",
      "            Transpiler options are automatically grabbed from\n",
      "            backend.configuration() and backend.properties().\n",
      "            If any other option is explicitly set (e.g. coupling_map), it\n",
      "            will override the backend's.\n",
      "    \n",
      "        basis_gates (list[str]):\n",
      "            List of basis gate names to unroll to.\n",
      "            e.g:\n",
      "                ['u1', 'u2', 'u3', 'cx']\n",
      "            If None, do not unroll.\n",
      "    \n",
      "        coupling_map (CouplingMap or list):\n",
      "            Coupling map (perhaps custom) to target in mapping.\n",
      "            Multiple formats are supported:\n",
      "            a. CouplingMap instance\n",
      "    \n",
      "            b. list\n",
      "                Must be given as an adjacency matrix, where each entry\n",
      "                specifies all two-qubit interactions supported by backend\n",
      "                e.g:\n",
      "                    [[0, 1], [0, 3], [1, 2], [1, 5], [2, 5], [4, 1], [5, 3]]\n",
      "    \n",
      "        backend_properties (BackendProperties):\n",
      "            Properties returned by a backend, including information on gate\n",
      "            errors, readout errors, qubit coherence times, etc. For a backend\n",
      "            that provides this information, it can be obtained with:\n",
      "            ``backend.properties()``\n",
      "    \n",
      "        initial_layout (Layout or dict or list):\n",
      "            Initial position of virtual qubits on physical qubits.\n",
      "            If this layout makes the circuit compatible with the coupling_map\n",
      "            constraints, it will be used.\n",
      "            The final layout is not guaranteed to be the same, as the transpiler\n",
      "            may permute qubits through swaps or other means.\n",
      "    \n",
      "            Multiple formats are supported:\n",
      "            a. Layout instance\n",
      "    \n",
      "            b. dict\n",
      "                virtual to physical:\n",
      "                    {qr[0]: 0,\n",
      "                     qr[1]: 3,\n",
      "                     qr[2]: 5}\n",
      "    \n",
      "                physical to virtual:\n",
      "                    {0: qr[0],\n",
      "                     3: qr[1],\n",
      "                     5: qr[2]}\n",
      "    \n",
      "            c. list\n",
      "                virtual to physical:\n",
      "                    [0, 3, 5]  # virtual qubits are ordered (in addition to named)\n",
      "    \n",
      "                physical to virtual:\n",
      "                    [qr[0], None, None, qr[1], None, qr[2]]\n",
      "    \n",
      "        seed_transpiler (int):\n",
      "            Sets random seed for the stochastic parts of the transpiler\n",
      "    \n",
      "        optimization_level (int):\n",
      "            How much optimization to perform on the circuits.\n",
      "            Higher levels generate more optimized circuits,\n",
      "            at the expense of longer transpilation time.\n",
      "                0: no optimization\n",
      "                1: light optimization\n",
      "                2: heavy optimization\n",
      "                3: even heavier optimization\n",
      "            If None, level 1 will be chosen as default.\n",
      "    \n",
      "        pass_manager (PassManager):\n",
      "            The pass manager to use during transpilation. If this arg is present,\n",
      "            auto-selection of pass manager based on the transpile options will be\n",
      "            turned off and this pass manager will be used directly.\n",
      "    \n",
      "        qobj_id (str):\n",
      "            String identifier to annotate the Qobj\n",
      "    \n",
      "        qobj_header (QobjHeader or dict):\n",
      "            User input that will be inserted in Qobj header, and will also be\n",
      "            copied to the corresponding Result header. Headers do not affect the run.\n",
      "    \n",
      "        shots (int):\n",
      "            Number of repetitions of each circuit, for sampling. Default: 1024\n",
      "    \n",
      "        memory (bool):\n",
      "            If True, per-shot measurement bitstrings are returned as well\n",
      "            (provided the backend supports it). For OpenPulse jobs, only\n",
      "            measurement level 2 supports this option. Default: False\n",
      "    \n",
      "        max_credits (int):\n",
      "            Maximum credits to spend on job. Default: 10\n",
      "    \n",
      "        seed_simulator (int):\n",
      "            Random seed to control sampling, for when backend is a simulator\n",
      "    \n",
      "        default_qubit_los (list):\n",
      "            List of default qubit lo frequencies\n",
      "    \n",
      "        default_meas_los (list):\n",
      "            List of default meas lo frequencies\n",
      "    \n",
      "        schedule_los (None or list[Union[Dict[PulseChannel, float], LoConfig]] or\n",
      "                      Union[Dict[PulseChannel, float], LoConfig]):\n",
      "            Experiment LO configurations\n",
      "    \n",
      "        meas_level (int):\n",
      "            Set the appropriate level of the measurement output for pulse experiments.\n",
      "    \n",
      "        meas_return (str):\n",
      "            Level of measurement data for the backend to return\n",
      "            For `meas_level` 0 and 1:\n",
      "                \"single\" returns information from every shot.\n",
      "                \"avg\" returns average measurement output (averaged over number of shots).\n",
      "    \n",
      "        memory_slots (int):\n",
      "            Number of classical memory slots used in this job.\n",
      "    \n",
      "        memory_slot_size (int):\n",
      "            Size of each memory slot if the output is Level 0.\n",
      "    \n",
      "        rep_time (int): repetition time of the experiment in μs.\n",
      "            The delay between experiments will be rep_time.\n",
      "            Must be from the list provided by the device.\n",
      "    \n",
      "        parameter_binds (list[dict{Parameter: Value}]):\n",
      "            List of Parameter bindings over which the set of experiments will be\n",
      "            executed. Each list element (bind) should be of the form\n",
      "            {Parameter1: value1, Parameter2: value2, ...}. All binds will be\n",
      "            executed across all experiments, e.g. if parameter_binds is a\n",
      "            length-n list, and there are m experiments, a total of m x n\n",
      "            experiments will be run (one for each experiment/bind pair).\n",
      "    \n",
      "        run_config (dict):\n",
      "            Extra arguments used to configure the run (e.g. for Aer configurable backends)\n",
      "            Refer to the backend documentation for details on these arguments\n",
      "            Note: for now, these keyword arguments will both be copied to the\n",
      "            Qobj config, and passed to backend.run()\n",
      "    \n",
      "    Returns:\n",
      "        BaseJob: returns job instance derived from BaseJob\n",
      "    \n",
      "    Raises:\n",
      "        QiskitError: if the execution cannot be interpreted as either circuits or schedules\n",
      "\n"
     ]
    }
   ],
   "source": [
    "help(execute)"
   ]
  },
  {
   "cell_type": "markdown",
   "metadata": {
    "slideshow": {
     "slide_type": "slide"
    }
   },
   "source": [
    "# Computational Flow\n",
    "\n",
    "Let's review our running count of Terra's core objects:\n",
    "* QuantumCircuit\n",
    "* QuantumRegister, ClassicalRegister\n",
    "* Instruction\n",
    "* Backend\n",
    "* DAG\n",
    "* Qobj\n",
    "* Job, result\n",
    "\n",
    "And the computational flow of Terra is:\n",
    "* Instructions are added to QuantumCircuits\n",
    "* QuantumCircuits are converted into DAGs, transpiled, and converted back into circuits\n",
    "* Circuits are assembled into Qobjs\n",
    "* Qobjs are sent to backends\n",
    "* Backends return results"
   ]
  },
  {
   "cell_type": "markdown",
   "metadata": {
    "slideshow": {
     "slide_type": "slide"
    }
   },
   "source": [
    "So far we've run a very vanilla Bell state. Let's do some more interesting things."
   ]
  },
  {
   "cell_type": "code",
   "execution_count": 115,
   "metadata": {
    "ExecuteTime": {
     "end_time": "2019-10-24T18:53:29.433185Z",
     "start_time": "2019-10-24T18:53:29.419928Z"
    },
    "slideshow": {
     "slide_type": "fragment"
    }
   },
   "outputs": [
    {
     "data": {
      "text/html": [
       "<pre style=\"word-wrap: normal;white-space: pre;background: #fff0;line-height: 1.1;font-family: &quot;Courier New&quot;,Courier,monospace\">          ┌──────────┐      ░      ┌───┐ ░ ┌─┐   \n",
       "q36_0: |0>┤ Ry(pi/2) ├──────░───■──┤ H ├─░─┤M├───\n",
       "          └──┬───┬───┘      ░ ┌─┴─┐└───┘ ░ └╥┘┌─┐\n",
       "q36_1: |0>───┤ H ├──────■───░─┤ X ├──────░──╫─┤M├\n",
       "             └───┘    ┌─┴─┐ ░ └───┘      ░  ║ └╥┘\n",
       "q36_2: |0>────────────┤ X ├─░────────────░──╫──╫─\n",
       "                      └───┘ ░            ░  ║  ║ \n",
       "  c9_0: 0 ══════════════════════════════════╩══╬═\n",
       "                                               ║ \n",
       "  c9_1: 0 ═════════════════════════════════════╩═\n",
       "                                                 \n",
       "  c9_2: 0 ═══════════════════════════════════════\n",
       "                                                 </pre>"
      ],
      "text/plain": [
       "<qiskit.visualization.text.TextDrawing at 0x122698cc0>"
      ]
     },
     "execution_count": 115,
     "metadata": {},
     "output_type": "execute_result"
    }
   ],
   "source": [
    "tele = QuantumCircuit(qr, cr)\n",
    "tele.ry(np.pi/2, qr[0])\n",
    "tele.h(qr[1])\n",
    "tele.cx(qr[1], qr[2])\n",
    "tele.barrier()\n",
    "\n",
    "tele.cx(qr[0], qr[1])\n",
    "tele.h(qr[0])\n",
    "tele.barrier()\n",
    "\n",
    "tele.measure(qr[0], cr[0])\n",
    "tele.measure(qr[1], cr[1])\n",
    "\n",
    "tele.draw()"
   ]
  },
  {
   "cell_type": "markdown",
   "metadata": {
    "slideshow": {
     "slide_type": "slide"
    }
   },
   "source": [
    "Qiskit allows conditional gates in simulation, but not on the real quantum hardware (yet)."
   ]
  },
  {
   "cell_type": "code",
   "execution_count": 24,
   "metadata": {
    "ExecuteTime": {
     "end_time": "2019-10-24T17:55:10.760335Z",
     "start_time": "2019-10-24T17:55:10.747207Z"
    },
    "slideshow": {
     "slide_type": "fragment"
    }
   },
   "outputs": [
    {
     "data": {
      "text/html": [
       "<pre style=\"word-wrap: normal;white-space: pre;background: #fff0;line-height: 1.1;font-family: &quot;Courier New&quot;,Courier,monospace\">         ┌──────────┐      ░      ┌───┐ ░ ┌─┐                           \n",
       "q5_0: |0>┤ Ry(pi/2) ├──────░───■──┤ H ├─░─┤M├───────────────────────────\n",
       "         └──┬───┬───┘      ░ ┌─┴─┐└───┘ ░ └╥┘┌─┐                        \n",
       "q5_1: |0>───┤ H ├──────■───░─┤ X ├──────░──╫─┤M├────────────────────────\n",
       "            └───┘    ┌─┴─┐ ░ └───┘      ░  ║ └╥┘ ┌───┐  ┌───┐  ┌───┐ ┌─┐\n",
       "q5_2: |0>────────────┤ X ├─░────────────░──╫──╫──┤ Z ├──┤ X ├──┤ Y ├─┤M├\n",
       "                     └───┘ ░            ░  ║  ║  └─┬─┘  └─┬─┘  └─┬─┘ └╥┘\n",
       "                                           ║    ┌──┴──┐┌──┴──┐┌──┴──┐ ║ \n",
       " c5_0: 0 ══════════════════════════════════╩════╡     ╞╡     ╞╡     ╞═╬═\n",
       "                                              ║ │     ││     ││     │ ║ \n",
       " c5_1: 0 ═════════════════════════════════════╩═╡ = 1 ╞╡ = 2 ╞╡ = 3 ╞═╬═\n",
       "                                                │     ││     ││     │ ║ \n",
       " c5_2: 0 ═══════════════════════════════════════╡     ╞╡     ╞╡     ╞═╩═\n",
       "                                                └─────┘└─────┘└─────┘   </pre>"
      ],
      "text/plain": [
       "<qiskit.visualization.text.TextDrawing at 0x10b68c0b8>"
      ]
     },
     "execution_count": 24,
     "metadata": {},
     "output_type": "execute_result"
    }
   ],
   "source": [
    "tele.z(qr[2]).c_if(cr, 1)\n",
    "tele.x(qr[2]).c_if(cr, 2)\n",
    "tele.y(qr[2]).c_if(cr, 3) # Note that ZX =iY\n",
    "tele.measure(qr[2], cr[2])\n",
    "tele.draw()"
   ]
  },
  {
   "cell_type": "markdown",
   "metadata": {
    "slideshow": {
     "slide_type": "slide"
    }
   },
   "source": [
    "You might recognize this as Qauntum Teleportation. You can find a more in depth guide to teleportation in Anna Phan's notebook on the topic, [here](https://github.com/Qiskit/qiskit-tutorial/blob/master/community/terra/qis_intro/teleportation_superdensecoding.ipynb) 📒.\n",
    "\n",
    "Let's see what pops out."
   ]
  },
  {
   "cell_type": "code",
   "execution_count": 25,
   "metadata": {
    "ExecuteTime": {
     "end_time": "2019-10-24T17:55:14.946707Z",
     "start_time": "2019-10-24T17:55:14.911584Z"
    },
    "slideshow": {
     "slide_type": "fragment"
    }
   },
   "outputs": [
    {
     "data": {
      "text/plain": [
       "{'110': 147,\n",
       " '101': 108,\n",
       " '001': 134,\n",
       " '111': 114,\n",
       " '010': 136,\n",
       " '011': 127,\n",
       " '100': 122,\n",
       " '000': 136}"
      ]
     },
     "execution_count": 25,
     "metadata": {},
     "output_type": "execute_result"
    }
   ],
   "source": [
    "job = execute(tele, qasm_backend)\n",
    "\n",
    "result = job.result()\n",
    "result.get_counts(tele)"
   ]
  },
  {
   "cell_type": "markdown",
   "metadata": {
    "slideshow": {
     "slide_type": "slide"
    }
   },
   "source": [
    "Maybe this isn't accurate enough to tell what we encoded on qubit 1. Let's increase the number of shots."
   ]
  },
  {
   "cell_type": "code",
   "execution_count": 26,
   "metadata": {
    "ExecuteTime": {
     "end_time": "2019-10-24T17:55:19.581486Z",
     "start_time": "2019-10-24T17:55:19.522090Z"
    },
    "slideshow": {
     "slide_type": "fragment"
    }
   },
   "outputs": [
    {
     "data": {
      "text/plain": [
       "{'110': 1296,\n",
       " '101': 1259,\n",
       " '001': 1267,\n",
       " '111': 1249,\n",
       " '010': 1192,\n",
       " '011': 1277,\n",
       " '100': 1248,\n",
       " '000': 1212}"
      ]
     },
     "execution_count": 26,
     "metadata": {},
     "output_type": "execute_result"
    }
   ],
   "source": [
    "job = execute(tele, qasm_backend, shots = 10000)\n",
    "\n",
    "result = job.result()\n",
    "result.get_counts(tele)"
   ]
  },
  {
   "cell_type": "markdown",
   "metadata": {
    "slideshow": {
     "slide_type": "slide"
    }
   },
   "source": [
    "Now let's visualize those results as a histogram"
   ]
  },
  {
   "cell_type": "code",
   "execution_count": 27,
   "metadata": {
    "ExecuteTime": {
     "end_time": "2019-10-24T17:55:21.523415Z",
     "start_time": "2019-10-24T17:55:21.515763Z"
    },
    "slideshow": {
     "slide_type": "fragment"
    }
   },
   "outputs": [],
   "source": [
    "from qiskit.tools.visualization import plot_histogram"
   ]
  },
  {
   "cell_type": "code",
   "execution_count": 28,
   "metadata": {
    "ExecuteTime": {
     "end_time": "2019-10-24T17:55:22.387974Z",
     "start_time": "2019-10-24T17:55:22.179276Z"
    },
    "slideshow": {
     "slide_type": "fragment"
    }
   },
   "outputs": [
    {
     "data": {
      "image/png": "[encoded data removed]",
      "text/plain": [
       "<Figure size 504x360 with 1 Axes>"
      ]
     },
     "execution_count": 28,
     "metadata": {},
     "output_type": "execute_result"
    }
   ],
   "source": [
    "plot_histogram(result.get_counts(tele))"
   ]
  },
  {
   "cell_type": "markdown",
   "metadata": {
    "slideshow": {
     "slide_type": "slide"
    }
   },
   "source": [
    "And now, calculating the percentage of shots with $|0\\rangle$ measured on qubit 2 (but qubit 0 in our results)."
   ]
  },
  {
   "cell_type": "code",
   "execution_count": 29,
   "metadata": {
    "ExecuteTime": {
     "end_time": "2019-10-24T17:55:27.546860Z",
     "start_time": "2019-10-24T17:55:27.541705Z"
    },
    "slideshow": {
     "slide_type": "fragment"
    }
   },
   "outputs": [
    {
     "data": {
      "text/plain": [
       "0.4948"
      ]
     },
     "execution_count": 29,
     "metadata": {},
     "output_type": "execute_result"
    }
   ],
   "source": [
    "counts = result.get_counts(tele)\n",
    "qubit3_p0 = sum([v for k, v in counts.items() if k[0]=='0'])/10000\n",
    "qubit3_p0"
   ]
  },
  {
   "cell_type": "markdown",
   "metadata": {
    "slideshow": {
     "slide_type": "slide"
    }
   },
   "source": [
    "Our probability of finding 0 is 50%, which is correct, because $ry(\\pi / 2)$ should put qubit 0 in the $|+\\rangle$ state. \n",
    "\n",
    "But how do we know that we're not in the $|-\\rangle$ state, or any other state along the equator of the Bloch sphere? Let's use a Hadamard to see whether our phase is correct. We'll need to delete the final measurement and add the Hadamard to do this."
   ]
  },
  {
   "cell_type": "code",
   "execution_count": 30,
   "metadata": {
    "ExecuteTime": {
     "end_time": "2019-10-24T17:55:32.004832Z",
     "start_time": "2019-10-24T17:55:31.992315Z"
    },
    "slideshow": {
     "slide_type": "fragment"
    }
   },
   "outputs": [
    {
     "data": {
      "text/html": [
       "<pre style=\"word-wrap: normal;white-space: pre;background: #fff0;line-height: 1.1;font-family: &quot;Courier New&quot;,Courier,monospace\">         ┌──────────┐      ░      ┌───┐ ░ ┌─┐                                \n",
       "q5_0: |0>┤ Ry(pi/2) ├──────░───■──┤ H ├─░─┤M├────────────────────────────────\n",
       "         └──┬───┬───┘      ░ ┌─┴─┐└───┘ ░ └╥┘┌─┐                             \n",
       "q5_1: |0>───┤ H ├──────■───░─┤ X ├──────░──╫─┤M├─────────────────────────────\n",
       "            └───┘    ┌─┴─┐ ░ └───┘      ░  ║ └╥┘ ┌───┐  ┌───┐  ┌───┐ ┌───┐┌─┐\n",
       "q5_2: |0>────────────┤ X ├─░────────────░──╫──╫──┤ Z ├──┤ X ├──┤ Y ├─┤ H ├┤M├\n",
       "                     └───┘ ░            ░  ║  ║  └─┬─┘  └─┬─┘  └─┬─┘ └───┘└╥┘\n",
       "                                           ║    ┌──┴──┐┌──┴──┐┌──┴──┐      ║ \n",
       " c5_0: 0 ══════════════════════════════════╩════╡     ╞╡     ╞╡     ╞══════╬═\n",
       "                                              ║ │     ││     ││     │      ║ \n",
       " c5_1: 0 ═════════════════════════════════════╩═╡ = 1 ╞╡ = 2 ╞╡ = 3 ╞══════╬═\n",
       "                                                │     ││     ││     │      ║ \n",
       " c5_2: 0 ═══════════════════════════════════════╡     ╞╡     ╞╡     ╞══════╩═\n",
       "                                                └─────┘└─────┘└─────┘        </pre>"
      ],
      "text/plain": [
       "<qiskit.visualization.text.TextDrawing at 0x120130dd8>"
      ]
     },
     "execution_count": 30,
     "metadata": {},
     "output_type": "execute_result"
    }
   ],
   "source": [
    "del(tele.data[-1])\n",
    "tele.h(qr[2])\n",
    "tele.measure(qr[2], cr[2])\n",
    "tele.draw(line_length=200)"
   ]
  },
  {
   "cell_type": "code",
   "execution_count": 31,
   "metadata": {
    "ExecuteTime": {
     "end_time": "2019-10-24T17:55:40.199279Z",
     "start_time": "2019-10-24T17:55:39.863654Z"
    },
    "slideshow": {
     "slide_type": "fragment"
    }
   },
   "outputs": [
    {
     "data": {
      "text/plain": [
       "1.0"
      ]
     },
     "execution_count": 31,
     "metadata": {},
     "output_type": "execute_result"
    }
   ],
   "source": [
    "shots = 100000\n",
    "job = execute(tele, qasm_backend, shots=shots)\n",
    "\n",
    "result = job.result()\n",
    "result.get_counts(tele)\n",
    "counts = result.get_counts(tele)\n",
    "qubit3_p0 = sum([v for k, v in counts.items() if k[0]=='0'])/100000\n",
    "qubit3_p0"
   ]
  },
  {
   "cell_type": "markdown",
   "metadata": {
    "slideshow": {
     "slide_type": "fragment"
    }
   },
   "source": [
    "Looks like our final state is indeed $|+\\rangle$, because our P($|\\langle\\phi|H|0\\rangle|^2$) = 100%. "
   ]
  },
  {
   "cell_type": "markdown",
   "metadata": {
    "slideshow": {
     "slide_type": "slide"
    }
   },
   "source": [
    "# Part II: Providers and Backends - Aer, IBM Q, and 3P Providers"
   ]
  },
  {
   "cell_type": "markdown",
   "metadata": {
    "slideshow": {
     "slide_type": "slide"
    }
   },
   "source": [
    "## Our Running Example: Phase Estimation\n",
    "\n",
    "All this talk of checking phases is making me want to check my phases robustly. Let's see if we can work out a small phase estimation function, and sanity check it on simulators before trying it on the quantum hardware. We'll start with a QFT circuit which I've copied out of `qiskit_terra/examples/python/`. I'm also going to use the Pauli X as my controlled unitary, which simplifies things a lot. Then I'll start defining a function to give me my circuit."
   ]
  },
  {
   "cell_type": "code",
   "execution_count": 127,
   "metadata": {
    "ExecuteTime": {
     "end_time": "2019-10-24T18:56:34.963853Z",
     "start_time": "2019-10-24T18:56:34.959830Z"
    },
    "slideshow": {
     "slide_type": "fragment"
    }
   },
   "outputs": [],
   "source": [
    "def qft(circ, q, n):\n",
    "    \"\"\"n-qubit QFT on q in circ.\"\"\"\n",
    "    for j in range(n):\n",
    "        for k in range(j):\n",
    "            circ.cu1(np.pi / float(2**(j - k)), q[j], q[k])\n",
    "        circ.h(q[j])"
   ]
  },
  {
   "cell_type": "code",
   "execution_count": 128,
   "metadata": {
    "ExecuteTime": {
     "end_time": "2019-10-24T18:56:35.088737Z",
     "start_time": "2019-10-24T18:56:35.084339Z"
    },
    "slideshow": {
     "slide_type": "fragment"
    }
   },
   "outputs": [],
   "source": [
    "#Takes in a circuit with an operator on qubit n and appends the qpe circuit\n",
    "def x_qpe(circ, q, n):\n",
    "    for i in range(n-1):\n",
    "        circ.h(q[i])\n",
    "    for j in range(0, n-1, 2): # Only place a CX^n on every other qubit, because CX^n = I for n even\n",
    "        circ.cx(q[j], q[n-1])\n",
    "    circ.barrier()\n",
    "    qft(circ, q, n-1)"
   ]
  },
  {
   "cell_type": "markdown",
   "metadata": {
    "slideshow": {
     "slide_type": "slide"
    }
   },
   "source": [
    "Now let's build and print a circuit using these functions. Play around with the ancilla number, the operator, the initial state, etc. below, see what happens:"
   ]
  },
  {
   "cell_type": "code",
   "execution_count": 129,
   "metadata": {
    "ExecuteTime": {
     "end_time": "2019-10-24T18:56:36.087678Z",
     "start_time": "2019-10-24T18:56:36.076517Z"
    },
    "slideshow": {
     "slide_type": "-"
    }
   },
   "outputs": [],
   "source": [
    "# n-1 is the number of ancilla\n",
    "n = 4\n",
    "qr = QuantumRegister(n)\n",
    "cr = ClassicalRegister(n)\n",
    "x_qpe_qc = QuantumCircuit(qr, cr)\n",
    "x_qpe_qc.rx(np.pi/2, qr[n-1])\n",
    "x_qpe_qc.barrier()\n",
    "x_qpe(x_qpe_qc, qr, n)"
   ]
  },
  {
   "cell_type": "code",
   "execution_count": 130,
   "metadata": {
    "ExecuteTime": {
     "end_time": "2019-10-24T18:56:36.771508Z",
     "start_time": "2019-10-24T18:56:36.759369Z"
    },
    "slideshow": {
     "slide_type": "fragment"
    }
   },
   "outputs": [
    {
     "data": {
      "text/html": [
       "<pre style=\"word-wrap: normal;white-space: pre;background: #fff0;line-height: 1.1;font-family: &quot;Courier New&quot;,Courier,monospace\">                        ░ ┌───┐           ░ ┌───┐                               \n",
       "q118_0: |0>─────────────░─┤ H ├──■────────░─┤ H ├─■───────────■─────────────────\n",
       "                        ░ ├───┤  │        ░ └───┘ │pi/2 ┌───┐ │                 \n",
       "q118_1: |0>─────────────░─┤ H ├──┼────────░───────■─────┤ H ├─┼──────■──────────\n",
       "                        ░ ├───┤  │        ░             └───┘ │pi/4  │pi/2 ┌───┐\n",
       "q118_2: |0>─────────────░─┤ H ├──┼────■───░───────────────────■──────■─────┤ H ├\n",
       "           ┌──────────┐ ░ └───┘┌─┴─┐┌─┴─┐ ░                                └───┘\n",
       "q118_3: |0>┤ Rx(pi/2) ├─░──────┤ X ├┤ X ├─░─────────────────────────────────────\n",
       "           └──────────┘ ░      └───┘└───┘ ░                                     \n",
       "  c10_0: 0 ═════════════════════════════════════════════════════════════════════\n",
       "                                                                                \n",
       "  c10_1: 0 ═════════════════════════════════════════════════════════════════════\n",
       "                                                                                \n",
       "  c10_2: 0 ═════════════════════════════════════════════════════════════════════\n",
       "                                                                                \n",
       "  c10_3: 0 ═════════════════════════════════════════════════════════════════════\n",
       "                                                                                </pre>"
      ],
      "text/plain": [
       "<qiskit.visualization.text.TextDrawing at 0x10ac94160>"
      ]
     },
     "execution_count": 130,
     "metadata": {},
     "output_type": "execute_result"
    }
   ],
   "source": [
    "x_qpe_qc.draw(line_length=200)"
   ]
  },
  {
   "cell_type": "markdown",
   "metadata": {},
   "source": [
    "Now that we have our basic algorithm, let's start trying to test and validate it in some quantum execution environments, or **backends**."
   ]
  },
  {
   "cell_type": "markdown",
   "metadata": {
    "slideshow": {
     "slide_type": "slide"
    }
   },
   "source": [
    "# Interlude: Providers and Backends\n",
    "\n",
    "Qiskit offers connectors into three core execution `providers`, each providing several `backends`:\n",
    "\n",
    "* Aer: Qiskit's suite of simulators\n",
    "* BasicAer: Simple and lightweight numpy-based simulators built into Terra for convenience\n",
    "* IBMQ: IBM's Quantum devices, and an HPC simulator\n",
    "\n",
    "In addition, there are several other non-core or 3P providers:\n",
    "* [QCGPU](https://qcgpu.github.io/)\n",
    "* [JKU](https://github.com/Qiskit/qiskit-jku-provider)\n",
    "* [ProjectQ Provider](https://github.com/Qiskit/qiskit-projectq-provider)\n",
    "\n",
    "As we saw above, you ask a provider library for a backend object like this:\n",
    "```\n",
    "Aer.get_backend('statevector_simulator')\n",
    "IBMQ.get_backend('ibmqx4')\n",
    "```"
   ]
  },
  {
   "cell_type": "code",
   "execution_count": 131,
   "metadata": {
    "ExecuteTime": {
     "end_time": "2019-10-24T18:56:39.911276Z",
     "start_time": "2019-10-24T18:56:39.908649Z"
    },
    "slideshow": {
     "slide_type": "fragment"
    }
   },
   "outputs": [],
   "source": [
    "from qiskit import IBMQ, Aer, BasicAer"
   ]
  },
  {
   "cell_type": "markdown",
   "metadata": {
    "slideshow": {
     "slide_type": "slide"
    }
   },
   "source": [
    "# Aer and BasicAer Simuators\n",
    "\n",
    "* **qasm_simulator** - cpp simulator, old faithful - a shot-based simulator\n",
    "  * Input: a Qobj and execution config\n",
    "  * Output: a results object containing a dictionary with basis states and shots per state\n",
    "    * {‘00’: 425, ‘01’: 267, ‘11’: 90}\n",
    "  * You can specify a random seed so the probabilistic measurement and noise stays the same\n",
    "  * Noise - In Aer (not BasicAer), includes sophisticated noise models, which you can find more info about [here](https://github.com/Qiskit/qiskit-terra/blob/0.7.0/src/qasm-simulator-cpp/README.md) 📒\n",
    "    * Unfortunately, the noise modelling in Aer does not yet have public documentation.\n",
    "    * **🚨Note that non-noisy simulation runs a single monte carlo to produce the final wavefunction and samples from it randomly to produce counts. For noisy simulation we _do not_ simulate density matrices, so noisy simulation runs one monte carlo per shot and is O(shots) slower than noiseless!**\n",
    "  * `pip install qiskit` comes with binaries for many platforms so you don’t need to compile cpp\n",
    "  * If you’re running on another platform, check out the [Aer contributing file on github](https://github.com/Qiskit/qiskit-aer/blob/master/.github/CONTRIBUTING.md#install-from-source) for make instructions. Like any C++ compilation, it might take some finagling\n",
    "* **statevector_simulator** - This is the qasm_simulator with a statevector snapshot at the end\n",
    "  * Returns a result object containing a dictionary of computational basis states with **complex amplitudes** for each, not counts\n",
    "* **unitary_simulator** - Returns a matrix of your circuit!\n",
    "* **ibmq_qasm_simulator** - a public simulator on an HPC machine run by IBM (Note, this is under the `IBMQ Provider`)"
   ]
  },
  {
   "cell_type": "code",
   "execution_count": 132,
   "metadata": {
    "ExecuteTime": {
     "end_time": "2019-10-24T18:56:40.984361Z",
     "start_time": "2019-10-24T18:56:40.980891Z"
    },
    "slideshow": {
     "slide_type": "fragment"
    }
   },
   "outputs": [
    {
     "name": "stdout",
     "output_type": "stream",
     "text": [
      "qasm_simulator\n"
     ]
    }
   ],
   "source": [
    "backend = Aer.get_backend(\"qasm_simulator\")\n",
    "print(backend)"
   ]
  },
  {
   "cell_type": "markdown",
   "metadata": {
    "slideshow": {
     "slide_type": "slide"
    }
   },
   "source": [
    "## The Quantum Algorithm Testing Flow\n",
    "\n",
    "Most of our researchers follow a sort of backend-execution-difficulty continuum as we're testing new algorithms and applications.\n",
    "1. We start by testing on the statevector_simulator to verify that the algorithm works in the most idealized possible environment, and with high transparency if something is wrong\n",
    "1. Then we test on the qasm_simulator with no noise, to validate that the algoirthm works in the presence of sampling noise, but not simulated physical noise. This helps us distinguish between possible sources of error. If we also tested with simulated physical noise at this stage, we'd be unable to tell whether any issues were rooted in sampling noise or physical noise.\n",
    "1. Next we test in simulation with basic noise models, in most cases to obtain a very rough read of whether to spend time running on quantum hardware (because this is quite slow).\n",
    "1. Finally we test our algorithm on Quantum hardware."
   ]
  },
  {
   "cell_type": "markdown",
   "metadata": {
    "slideshow": {
     "slide_type": "slide"
    }
   },
   "source": [
    "## Putting Our Phase Estimation Circuit Through the Gauntlet:"
   ]
  },
  {
   "cell_type": "markdown",
   "metadata": {
    "slideshow": {
     "slide_type": "-"
    }
   },
   "source": [
    "First, we'll run on the statevector simulator to verify that the core of our algorithm works in the ideal case, where complete state is preserved and no noise is present, including shot noise."
   ]
  },
  {
   "cell_type": "code",
   "execution_count": 133,
   "metadata": {
    "ExecuteTime": {
     "end_time": "2019-10-24T18:56:43.461496Z",
     "start_time": "2019-10-24T18:56:43.458070Z"
    },
    "slideshow": {
     "slide_type": "fragment"
    }
   },
   "outputs": [
    {
     "name": "stdout",
     "output_type": "stream",
     "text": [
      "statevector_simulator\n"
     ]
    }
   ],
   "source": [
    "sv_backend = BasicAer.get_backend('statevector_simulator')\n",
    "print(sv_backend)"
   ]
  },
  {
   "cell_type": "code",
   "execution_count": 134,
   "metadata": {
    "ExecuteTime": {
     "end_time": "2019-10-24T18:56:44.214040Z",
     "start_time": "2019-10-24T18:56:44.160511Z"
    },
    "slideshow": {
     "slide_type": "fragment"
    }
   },
   "outputs": [
    {
     "data": {
      "text/plain": [
       "0.5"
      ]
     },
     "execution_count": 134,
     "metadata": {},
     "output_type": "execute_result"
    }
   ],
   "source": [
    "job = execute(x_qpe_qc, sv_backend)\n",
    "\n",
    "result = job.result()\n",
    "amps = result.get_statevector(x_qpe_qc)\n",
    "probs = np.absolute(amps)**2\n",
    "probs_anc = probs[0:2**(n-1)] + probs[2**(n-1):]\n",
    "angles = probs_anc * range(0, 2**(n-1)) / (2**(n-1))\n",
    "res = 2*sum(angles)\n",
    "np.around(res, decimals=5)"
   ]
  },
  {
   "cell_type": "markdown",
   "metadata": {},
   "source": [
    "This is saying that our algorithm estimates the phase difference between $ry(\\pi/2)|0\\rangle$ and $X ry(\\pi/2)|0\\rangle$ to be $.5*2\\pi$, or just $\\pi$. We know this to be correct by thinking about the Bloch sphere."
   ]
  },
  {
   "cell_type": "markdown",
   "metadata": {
    "slideshow": {
     "slide_type": "slide"
    }
   },
   "source": [
    "Let's also run our single unitary on the statevector simulator to check that we have the right phase difference."
   ]
  },
  {
   "cell_type": "code",
   "execution_count": 135,
   "metadata": {
    "ExecuteTime": {
     "end_time": "2019-10-24T18:56:47.753895Z",
     "start_time": "2019-10-24T18:56:47.730213Z"
    },
    "slideshow": {
     "slide_type": "fragment"
    }
   },
   "outputs": [
    {
     "data": {
      "text/plain": [
       "0.5"
      ]
     },
     "execution_count": 135,
     "metadata": {},
     "output_type": "execute_result"
    }
   ],
   "source": [
    "x_qr = QuantumRegister(1)\n",
    "x_cr = ClassicalRegister(1)\n",
    "x_circuit = QuantumCircuit(x_qr, x_cr)\n",
    "x_circuit.rx(np.pi/2, x_qr[0])\n",
    "job = execute(x_circuit, sv_backend)\n",
    "\n",
    "result = job.result()\n",
    "angles = np.angle(result.get_statevector(x_circuit))/(2*np.pi)\n",
    "p0 = angles[1] - angles[0]\n",
    "\n",
    "x_circuit.x(x_qr[0])\n",
    "job = execute(x_circuit, sv_backend)\n",
    "\n",
    "result = job.result()\n",
    "angles = np.angle(result.get_statevector(x_circuit))/(2*np.pi)\n",
    "p1 = angles[1] - angles[0]\n",
    "\n",
    "difference = p1-p0\n",
    "\n",
    "res = difference if difference > 0 else difference+1\n",
    "res"
   ]
  },
  {
   "cell_type": "markdown",
   "metadata": {
    "slideshow": {
     "slide_type": "fragment"
    }
   },
   "source": [
    "👍"
   ]
  },
  {
   "cell_type": "markdown",
   "metadata": {
    "slideshow": {
     "slide_type": "slide"
    }
   },
   "source": [
    "Now let's introduce shot noise by running on the qasm_simulator:"
   ]
  },
  {
   "cell_type": "code",
   "execution_count": 136,
   "metadata": {
    "ExecuteTime": {
     "end_time": "2019-10-24T18:56:49.598702Z",
     "start_time": "2019-10-24T18:56:49.596003Z"
    },
    "slideshow": {
     "slide_type": "fragment"
    }
   },
   "outputs": [],
   "source": [
    "qasm_backend = Aer.get_backend('qasm_simulator')"
   ]
  },
  {
   "cell_type": "markdown",
   "metadata": {
    "slideshow": {
     "slide_type": "fragment"
    }
   },
   "source": [
    "Don't forget to measure! Recall that we don't measure our $|u\\rangle$ qubit."
   ]
  },
  {
   "cell_type": "code",
   "execution_count": 137,
   "metadata": {
    "ExecuteTime": {
     "end_time": "2019-10-24T18:56:58.282847Z",
     "start_time": "2019-10-24T18:56:58.279292Z"
    },
    "slideshow": {
     "slide_type": "fragment"
    }
   },
   "outputs": [],
   "source": [
    "x_qpe_qc.barrier()\n",
    "for i in range(n-1):\n",
    "    x_qpe_qc.measure(qr[i], cr[i])"
   ]
  },
  {
   "cell_type": "code",
   "execution_count": 138,
   "metadata": {
    "ExecuteTime": {
     "end_time": "2019-10-24T18:57:00.215395Z",
     "start_time": "2019-10-24T18:57:00.161526Z"
    },
    "slideshow": {
     "slide_type": "fragment"
    }
   },
   "outputs": [
    {
     "data": {
      "text/plain": [
       "0.49785"
      ]
     },
     "execution_count": 138,
     "metadata": {},
     "output_type": "execute_result"
    }
   ],
   "source": [
    "shots = 10000\n",
    "job = execute(x_qpe_qc, qasm_backend, shots = shots)\n",
    "\n",
    "result = job.result()\n",
    "counts = result.get_counts(x_qpe_qc)\n",
    "angles = np.array([v*int(k, 2) for k, v in counts.items()]) / shots / 2**(n-1)\n",
    "res = 2*sum(angles)\n",
    "np.around(res, decimals=5)"
   ]
  },
  {
   "cell_type": "code",
   "execution_count": 139,
   "metadata": {
    "ExecuteTime": {
     "end_time": "2019-10-24T18:57:00.934652Z",
     "start_time": "2019-10-24T18:57:00.774700Z"
    },
    "slideshow": {
     "slide_type": "slide"
    }
   },
   "outputs": [
    {
     "data": {
      "image/png": "[encoded data removed]",
      "text/plain": [
       "<Figure size 504x360 with 1 Axes>"
      ]
     },
     "execution_count": 139,
     "metadata": {},
     "output_type": "execute_result"
    }
   ],
   "source": [
    "plot_histogram(counts)"
   ]
  },
  {
   "cell_type": "markdown",
   "metadata": {
    "slideshow": {
     "slide_type": "-"
    }
   },
   "source": [
    "Not bad - but this only includes shot noise. Let's introduce some physical noise into the simulation based on the callibration data from a real device."
   ]
  },
  {
   "cell_type": "markdown",
   "metadata": {
    "slideshow": {
     "slide_type": "slide"
    }
   },
   "source": [
    "## The IBMQ Provider: Pulling Device Information and Executing on Quantum Hardware\n",
    "\n",
    "The IBMQ Provider has a few core functionalities:\n",
    "* Providing the IBMQ quantum hardware and cloud simulator backend objects, which include hooks into the APIs necessary to interact with these execution environments\n",
    "* Providing system information for user consumption and for use in transpilation (e.g. coupling map, basis set)\n",
    "* Providing quantum hardware properties based on callibration data\n",
    "\n",
    "To use the Q provider, you'll need to get an IBM Q API token from [IQX](https://quantum-computing.ibm.com).\n",
    "\n",
    "Below we'll obtain for a hardware backend object, pull some data, build a noise model based on the hardware data, execute a noisy simulation with our model, and finally execute on the real device."
   ]
  },
  {
   "cell_type": "markdown",
   "metadata": {
    "slideshow": {
     "slide_type": "slide"
    }
   },
   "source": [
    "### First, load up your Q accounts and pull the list of backends to which you have access (more info [here](https://github.com/Qiskit/qiskit-tutorials/blob/master/qiskit/basics/the_ibmq_provider.ipynb) 📒):"
   ]
  },
  {
   "cell_type": "code",
   "execution_count": 140,
   "metadata": {
    "ExecuteTime": {
     "end_time": "2019-10-24T18:57:13.620524Z",
     "start_time": "2019-10-24T18:57:05.734544Z"
    }
   },
   "outputs": [
    {
     "name": "stdout",
     "output_type": "stream",
     "text": [
      "Available backends:\n"
     ]
    },
    {
     "data": {
      "text/plain": [
       "[<IBMQSimulator('ibmq_qasm_simulator') from IBMQ(hub='ibm-q', group='open', project='main')>,\n",
       " <IBMQBackend('ibmqx2') from IBMQ(hub='ibm-q', group='open', project='main')>,\n",
       " <IBMQBackend('ibmq_16_melbourne') from IBMQ(hub='ibm-q', group='open', project='main')>,\n",
       " <IBMQBackend('ibmq_vigo') from IBMQ(hub='ibm-q', group='open', project='main')>,\n",
       " <IBMQBackend('ibmq_ourense') from IBMQ(hub='ibm-q', group='open', project='main')>,\n",
       " <IBMQBackend('ibmq_poughkeepsie') from IBMQ(hub='ibm-q-dev', group='support', project='default')>,\n",
       " <IBMQBackend('ibmq_boeblingen') from IBMQ(hub='ibm-q-dev', group='support', project='default')>,\n",
       " <IBMQBackend('ibmq_singapore') from IBMQ(hub='ibm-q-dev', group='support', project='default')>,\n",
       " <IBMQBackend('ibmq_almaden') from IBMQ(hub='ibm-q-dev', group='support', project='default')>,\n",
       " <IBMQBackend('ibmq_johannesburg') from IBMQ(hub='ibm-q-dev', group='support', project='default')>,\n",
       " <IBMQBackend('ibmq_rochester') from IBMQ(hub='ibm-q-dev', group='support', project='default')>,\n",
       " <IBMQSimulator('ibmq_qasm_simulator') from IBMQ(hub='ibm-q-dev', group='support', project='default')>]"
      ]
     },
     "execution_count": 140,
     "metadata": {},
     "output_type": "execute_result"
    }
   ],
   "source": [
    "# IBMQ.enable_account('<key>')\n",
    "# uncomment this ^^^ and insert your API key. Add a 'url' argument for Q Network users\n",
    "\n",
    "# Or you can use:\n",
    "IBMQ.load_accounts()\n",
    "\n",
    "print(\"Available backends:\")\n",
    "IBMQ.backends()"
   ]
  },
  {
   "cell_type": "markdown",
   "metadata": {},
   "source": [
    "Next, let's grab a backend:"
   ]
  },
  {
   "cell_type": "code",
   "execution_count": 58,
   "metadata": {
    "ExecuteTime": {
     "end_time": "2019-10-24T18:04:59.999881Z",
     "start_time": "2019-10-24T18:04:59.997222Z"
    }
   },
   "outputs": [],
   "source": [
    "q_backend = IBMQ.get_backend('ibmq_16_melbourne')\n",
    "# NOTE: I used a private device for the executions below"
   ]
  },
  {
   "cell_type": "markdown",
   "metadata": {
    "slideshow": {
     "slide_type": "slide"
    }
   },
   "source": [
    "# Visualizing Devices, and Pulling Device Info\n",
    "\n",
    "We can pull a relatively large quantity of data about a particular backend from the IBMQ API, but it's very difficult to read. Luckily, Terra has some neat built-in Jupyter magics for browsing this device information, such as qubit error, job queues for public devices, coupling maps, and more. More info [here](https://github.com/Qiskit/qiskit-tutorials/blob/master/qiskit/jupyter/jupyter_backend_tools.ipynb) 📒.\n",
    "\n",
    "Let's start by pulling the raw data just to see what it looks like, and because we'll need it to build our noise model later:"
   ]
  },
  {
   "cell_type": "code",
   "execution_count": 47,
   "metadata": {
    "ExecuteTime": {
     "end_time": "2019-10-24T17:59:09.897058Z",
     "start_time": "2019-10-24T17:59:09.894314Z"
    }
   },
   "outputs": [
    {
     "name": "stdout",
     "output_type": "stream",
     "text": [
      "QasmBackendConfiguration(allow_object_storage=True, allow_q_circuit=False, allow_q_object=True, backend_name='ibmq_16_melbourne', backend_version='1.0.0', basis_gates=['u1', 'u2', 'u3', 'cx', 'id'], conditional=False, coupling_map=[[1, 0], [1, 2], [2, 3], [4, 3], [4, 10], [5, 4], [5, 6], [5, 9], [6, 8], [7, 8], [9, 8], [9, 10], [11, 3], [11, 10], [11, 12], [12, 2], [13, 1], [13, 12]], credits_required=True, description='14 qubit device', gates=[GateConfig(coupling_map=[[0], [1], [2], [3], [4], [5], [6], [7], [8], [9], [10], [11], [12], [13]], name='id', parameters=[], qasm_def='gate id q { U(0,0,0) q; }'), GateConfig(coupling_map=[[0], [1], [2], [3], [4], [5], [6], [7], [8], [9], [10], [11], [12], [13]], name='u1', parameters=['lambda'], qasm_def='gate u1(lambda) q { U(0,0,lambda) q; }'), GateConfig(coupling_map=[[0], [1], [2], [3], [4], [5], [6], [7], [8], [9], [10], [11], [12], [13]], name='u2', parameters=['phi', 'lambda'], qasm_def='gate u2(phi,lambda) q { U(pi/2,phi,lambda) q; }'), GateConfig(coupling_map=[[0], [1], [2], [3], [4], [5], [6], [7], [8], [9], [10], [11], [12], [13]], name='u3', parameters=['theta', 'phi', 'lambda'], qasm_def='u3(theta,phi,lambda) q { U(theta,phi,lambda) q; }'), GateConfig(coupling_map=[[1, 0], [1, 2], [2, 3], [4, 3], [4, 10], [5, 4], [5, 6], [5, 9], [6, 8], [7, 8], [9, 8], [9, 10], [11, 3], [11, 10], [11, 12], [12, 2], [13, 1], [13, 12]], name='cx', parameters=[], qasm_def='gate cx q1,q2 { CX q1,q2; }')], local=False, max_experiments=150, max_shots=8192, memory=False, n_qubits=14, n_registers=1, online_date=datetime.datetime(2018, 11, 6, 5, 0, tzinfo=datetime.timezone.utc), open_pulse=False, sample_name='albatross', simulator=False, url='None')\n"
     ]
    }
   ],
   "source": [
    "configuration = q_backend.configuration()\n",
    "print(configuration)"
   ]
  },
  {
   "cell_type": "code",
   "execution_count": 48,
   "metadata": {
    "ExecuteTime": {
     "end_time": "2019-10-24T17:59:13.152769Z",
     "start_time": "2019-10-24T17:59:12.322594Z"
    },
    "slideshow": {
     "slide_type": "slide"
    }
   },
   "outputs": [
    {
     "name": "stdout",
     "output_type": "stream",
     "text": [
      "BackendProperties(backend_name='ibmq_16_melbourne', backend_version='1.0.0', gates=[Gate(gate='u1', parameters=[Nduv(date=datetime.datetime(2019, 10, 24, 6, 25, 54, tzinfo=datetime.timezone.utc), name='gate_error', unit='', value=0.0)], qubits=[0]), Gate(gate='u2', parameters=[Nduv(date=datetime.datetime(2019, 10, 24, 6, 25, 54, tzinfo=datetime.timezone.utc), name='gate_error', unit='', value=0.002421325388898554)], qubits=[0]), Gate(gate='u3', parameters=[Nduv(date=datetime.datetime(2019, 10, 24, 6, 25, 54, tzinfo=datetime.timezone.utc), name='gate_error', unit='', value=0.004842650777797108)], qubits=[0]), Gate(gate='u1', parameters=[Nduv(date=datetime.datetime(2019, 10, 24, 6, 25, 54, tzinfo=datetime.timezone.utc), name='gate_error', unit='', value=0.0)], qubits=[1]), Gate(gate='u2', parameters=[Nduv(date=datetime.datetime(2019, 10, 24, 6, 25, 54, tzinfo=datetime.timezone.utc), name='gate_error', unit='', value=0.008880707657831444)], qubits=[1]), Gate(gate='u3', parameters=[Nduv(date=datetime.datetime(2019, 10, 24, 6, 25, 54, tzinfo=datetime.timezone.utc), name='gate_error', unit='', value=0.017761415315662887)], qubits=[1]), Gate(gate='u1', parameters=[Nduv(date=datetime.datetime(2019, 10, 24, 6, 25, 54, tzinfo=datetime.timezone.utc), name='gate_error', unit='', value=0.0)], qubits=[2]), Gate(gate='u2', parameters=[Nduv(date=datetime.datetime(2019, 10, 24, 6, 25, 54, tzinfo=datetime.timezone.utc), name='gate_error', unit='', value=0.003756321815007291)], qubits=[2]), Gate(gate='u3', parameters=[Nduv(date=datetime.datetime(2019, 10, 24, 6, 25, 54, tzinfo=datetime.timezone.utc), name='gate_error', unit='', value=0.007512643630014582)], qubits=[2]), Gate(gate='u1', parameters=[Nduv(date=datetime.datetime(2019, 10, 24, 6, 25, 54, tzinfo=datetime.timezone.utc), name='gate_error', unit='', value=0.0)], qubits=[3]), Gate(gate='u2', parameters=[Nduv(date=datetime.datetime(2019, 10, 24, 6, 25, 54, tzinfo=datetime.timezone.utc), name='gate_error', unit='', value=0.004659772098875525)], qubits=[3]), Gate(gate='u3', parameters=[Nduv(date=datetime.datetime(2019, 10, 24, 6, 25, 54, tzinfo=datetime.timezone.utc), name='gate_error', unit='', value=0.00931954419775105)], qubits=[3]), Gate(gate='u1', parameters=[Nduv(date=datetime.datetime(2019, 10, 24, 6, 25, 54, tzinfo=datetime.timezone.utc), name='gate_error', unit='', value=0.0)], qubits=[4]), Gate(gate='u2', parameters=[Nduv(date=datetime.datetime(2019, 10, 24, 6, 25, 54, tzinfo=datetime.timezone.utc), name='gate_error', unit='', value=0.009391463952095058)], qubits=[4]), Gate(gate='u3', parameters=[Nduv(date=datetime.datetime(2019, 10, 24, 6, 25, 54, tzinfo=datetime.timezone.utc), name='gate_error', unit='', value=0.018782927904190116)], qubits=[4]), Gate(gate='u1', parameters=[Nduv(date=datetime.datetime(2019, 10, 24, 6, 25, 54, tzinfo=datetime.timezone.utc), name='gate_error', unit='', value=0.0)], qubits=[5]), Gate(gate='u2', parameters=[Nduv(date=datetime.datetime(2019, 10, 24, 6, 25, 54, tzinfo=datetime.timezone.utc), name='gate_error', unit='', value=0.0022623235630968574)], qubits=[5]), Gate(gate='u3', parameters=[Nduv(date=datetime.datetime(2019, 10, 24, 6, 25, 54, tzinfo=datetime.timezone.utc), name='gate_error', unit='', value=0.004524647126193715)], qubits=[5]), Gate(gate='u1', parameters=[Nduv(date=datetime.datetime(2019, 10, 24, 6, 25, 54, tzinfo=datetime.timezone.utc), name='gate_error', unit='', value=0.0)], qubits=[6]), Gate(gate='u2', parameters=[Nduv(date=datetime.datetime(2019, 10, 24, 6, 25, 54, tzinfo=datetime.timezone.utc), name='gate_error', unit='', value=0.0014176096284884698)], qubits=[6]), Gate(gate='u3', parameters=[Nduv(date=datetime.datetime(2019, 10, 24, 6, 25, 54, tzinfo=datetime.timezone.utc), name='gate_error', unit='', value=0.0028352192569769397)], qubits=[6]), Gate(gate='u1', parameters=[Nduv(date=datetime.datetime(2019, 10, 24, 6, 25, 54, tzinfo=datetime.timezone.utc), name='gate_error', unit='', value=0.0)], qubits=[7]), Gate(gate='u2', parameters=[Nduv(date=datetime.datetime(2019, 10, 24, 6, 25, 54, tzinfo=datetime.timezone.utc), name='gate_error', unit='', value=0.0016087287435733733)], qubits=[7]), Gate(gate='u3', parameters=[Nduv(date=datetime.datetime(2019, 10, 24, 6, 25, 54, tzinfo=datetime.timezone.utc), name='gate_error', unit='', value=0.0032174574871467465)], qubits=[7]), Gate(gate='u1', parameters=[Nduv(date=datetime.datetime(2019, 10, 24, 6, 25, 54, tzinfo=datetime.timezone.utc), name='gate_error', unit='', value=0.0)], qubits=[8]), Gate(gate='u2', parameters=[Nduv(date=datetime.datetime(2019, 10, 24, 6, 25, 54, tzinfo=datetime.timezone.utc), name='gate_error', unit='', value=0.0017991600649084338)], qubits=[8]), Gate(gate='u3', parameters=[Nduv(date=datetime.datetime(2019, 10, 24, 6, 25, 54, tzinfo=datetime.timezone.utc), name='gate_error', unit='', value=0.0035983201298168677)], qubits=[8]), Gate(gate='u1', parameters=[Nduv(date=datetime.datetime(2019, 10, 24, 6, 25, 54, tzinfo=datetime.timezone.utc), name='gate_error', unit='', value=0.0)], qubits=[9]), Gate(gate='u2', parameters=[Nduv(date=datetime.datetime(2019, 10, 24, 6, 25, 54, tzinfo=datetime.timezone.utc), name='gate_error', unit='', value=0.0032955255620537027)], qubits=[9]), Gate(gate='u3', parameters=[Nduv(date=datetime.datetime(2019, 10, 24, 6, 25, 54, tzinfo=datetime.timezone.utc), name='gate_error', unit='', value=0.0065910511241074055)], qubits=[9]), Gate(gate='u1', parameters=[Nduv(date=datetime.datetime(2019, 10, 24, 6, 25, 54, tzinfo=datetime.timezone.utc), name='gate_error', unit='', value=0.0)], qubits=[10]), Gate(gate='u2', parameters=[Nduv(date=datetime.datetime(2019, 10, 24, 6, 25, 54, tzinfo=datetime.timezone.utc), name='gate_error', unit='', value=0.0023434297748512467)], qubits=[10]), Gate(gate='u3', parameters=[Nduv(date=datetime.datetime(2019, 10, 24, 6, 25, 54, tzinfo=datetime.timezone.utc), name='gate_error', unit='', value=0.004686859549702493)], qubits=[10]), Gate(gate='u1', parameters=[Nduv(date=datetime.datetime(2019, 10, 24, 6, 25, 54, tzinfo=datetime.timezone.utc), name='gate_error', unit='', value=0.0)], qubits=[11]), Gate(gate='u2', parameters=[Nduv(date=datetime.datetime(2019, 10, 24, 6, 25, 54, tzinfo=datetime.timezone.utc), name='gate_error', unit='', value=0.001596237620930696)], qubits=[11]), Gate(gate='u3', parameters=[Nduv(date=datetime.datetime(2019, 10, 24, 6, 25, 54, tzinfo=datetime.timezone.utc), name='gate_error', unit='', value=0.003192475241861392)], qubits=[11]), Gate(gate='u1', parameters=[Nduv(date=datetime.datetime(2019, 10, 24, 6, 25, 54, tzinfo=datetime.timezone.utc), name='gate_error', unit='', value=0.0)], qubits=[12]), Gate(gate='u2', parameters=[Nduv(date=datetime.datetime(2019, 10, 24, 6, 25, 54, tzinfo=datetime.timezone.utc), name='gate_error', unit='', value=0.0030452175140669446)], qubits=[12]), Gate(gate='u3', parameters=[Nduv(date=datetime.datetime(2019, 10, 24, 6, 25, 54, tzinfo=datetime.timezone.utc), name='gate_error', unit='', value=0.006090435028133889)], qubits=[12]), Gate(gate='u1', parameters=[Nduv(date=datetime.datetime(2019, 10, 24, 6, 25, 54, tzinfo=datetime.timezone.utc), name='gate_error', unit='', value=0.0)], qubits=[13]), Gate(gate='u2', parameters=[Nduv(date=datetime.datetime(2019, 10, 24, 6, 25, 54, tzinfo=datetime.timezone.utc), name='gate_error', unit='', value=0.009016181722674821)], qubits=[13]), Gate(gate='u3', parameters=[Nduv(date=datetime.datetime(2019, 10, 24, 6, 25, 54, tzinfo=datetime.timezone.utc), name='gate_error', unit='', value=0.018032363445349642)], qubits=[13]), Gate(gate='cx', name='CX1_0', parameters=[Nduv(date=datetime.datetime(2019, 10, 24, 7, 14, 10, tzinfo=datetime.timezone.utc), name='gate_error', unit='', value=0.043989634846960834)], qubits=[1, 0]), Gate(gate='cx', name='CX1_2', parameters=[Nduv(date=datetime.datetime(2019, 10, 24, 8, 14, 5, tzinfo=datetime.timezone.utc), name='gate_error', unit='', value=0.04188678834886142)], qubits=[1, 2]), Gate(gate='cx', name='CX2_3', parameters=[Nduv(date=datetime.datetime(2019, 10, 24, 7, 17, 22, tzinfo=datetime.timezone.utc), name='gate_error', unit='', value=0.061900994177702534)], qubits=[2, 3]), Gate(gate='cx', name='CX4_3', parameters=[Nduv(date=datetime.datetime(2019, 10, 21, 7, 23, 26, tzinfo=datetime.timezone.utc), name='gate_error', unit='', value=0.05490195330365702)], qubits=[4, 3]), Gate(gate='cx', name='CX4_10', parameters=[Nduv(date=datetime.datetime(2019, 10, 24, 7, 23, 52, tzinfo=datetime.timezone.utc), name='gate_error', unit='', value=0.06836445113240999)], qubits=[4, 10]), Gate(gate='cx', name='CX5_4', parameters=[Nduv(date=datetime.datetime(2019, 10, 23, 7, 32, 9, tzinfo=datetime.timezone.utc), name='gate_error', unit='', value=0.09596096431063661)], qubits=[5, 4]), Gate(gate='cx', name='CX5_6', parameters=[Nduv(date=datetime.datetime(2019, 10, 24, 7, 30, 32, tzinfo=datetime.timezone.utc), name='gate_error', unit='', value=0.06055420930355143)], qubits=[5, 6]), Gate(gate='cx', name='CX5_9', parameters=[Nduv(date=datetime.datetime(2019, 10, 24, 7, 34, 22, tzinfo=datetime.timezone.utc), name='gate_error', unit='', value=0.05145902837740382)], qubits=[5, 9]), Gate(gate='cx', name='CX6_8', parameters=[Nduv(date=datetime.datetime(2019, 10, 24, 7, 37, 48, tzinfo=datetime.timezone.utc), name='gate_error', unit='', value=0.04158841281860215)], qubits=[6, 8]), Gate(gate='cx', name='CX7_8', parameters=[Nduv(date=datetime.datetime(2019, 10, 24, 7, 41, 14, tzinfo=datetime.timezone.utc), name='gate_error', unit='', value=0.03321787047404767)], qubits=[7, 8]), Gate(gate='cx', name='CX9_8', parameters=[Nduv(date=datetime.datetime(2019, 10, 24, 7, 44, 24, tzinfo=datetime.timezone.utc), name='gate_error', unit='', value=0.04730930525997368)], qubits=[9, 8]), Gate(gate='cx', name='CX9_10', parameters=[Nduv(date=datetime.datetime(2019, 10, 24, 7, 48, 36, tzinfo=datetime.timezone.utc), name='gate_error', unit='', value=0.04397627838876339)], qubits=[9, 10]), Gate(gate='cx', name='CX11_3', parameters=[Nduv(date=datetime.datetime(2019, 10, 24, 7, 58, 21, tzinfo=datetime.timezone.utc), name='gate_error', unit='', value=0.0572321920834738)], qubits=[11, 3]), Gate(gate='cx', name='CX11_10', parameters=[Nduv(date=datetime.datetime(2019, 10, 24, 7, 51, 58, tzinfo=datetime.timezone.utc), name='gate_error', unit='', value=0.03900687569490707)], qubits=[11, 10]), Gate(gate='cx', name='CX11_12', parameters=[Nduv(date=datetime.datetime(2019, 10, 24, 7, 55, 11, tzinfo=datetime.timezone.utc), name='gate_error', unit='', value=0.04002589179889407)], qubits=[11, 12]), Gate(gate='cx', name='CX12_2', parameters=[Nduv(date=datetime.datetime(2019, 10, 24, 8, 1, 38, tzinfo=datetime.timezone.utc), name='gate_error', unit='', value=0.07467102482915972)], qubits=[12, 2]), Gate(gate='cx', name='CX13_1', parameters=[Nduv(date=datetime.datetime(2019, 10, 24, 8, 6, 11, tzinfo=datetime.timezone.utc), name='gate_error', unit='', value=0.11523588025361714)], qubits=[13, 1]), Gate(gate='cx', name='CX13_12', parameters=[Nduv(date=datetime.datetime(2019, 10, 24, 8, 10, 9, tzinfo=datetime.timezone.utc), name='gate_error', unit='', value=0.04779798208603178)], qubits=[13, 12])], general=[], last_update_date=datetime.datetime(2019, 10, 24, 8, 14, 5, tzinfo=datetime.timezone.utc), qubits=[[Nduv(date=datetime.datetime(2019, 10, 24, 6, 20, 49, tzinfo=datetime.timezone.utc), name='T1', unit='µs', value=71.89211543468836), Nduv(date=datetime.datetime(2019, 10, 24, 6, 22, 3, tzinfo=datetime.timezone.utc), name='T2', unit='µs', value=24.54224025179035), Nduv(date=datetime.datetime(2019, 10, 24, 8, 14, 5, tzinfo=datetime.timezone.utc), name='frequency', unit='GHz', value=5.100155484718327), Nduv(date=datetime.datetime(2019, 10, 24, 6, 20, 24, tzinfo=datetime.timezone.utc), name='readout_error', unit='', value=0.028000000000000025)], [Nduv(date=datetime.datetime(2019, 10, 24, 6, 20, 49, tzinfo=datetime.timezone.utc), name='T1', unit='µs', value=65.08502444782798), Nduv(date=datetime.datetime(2019, 10, 24, 6, 23, 2, tzinfo=datetime.timezone.utc), name='T2', unit='µs', value=107.81916035419768), Nduv(date=datetime.datetime(2019, 10, 24, 8, 14, 5, tzinfo=datetime.timezone.utc), name='frequency', unit='GHz', value=5.238518797188165), Nduv(date=datetime.datetime(2019, 10, 24, 6, 20, 24, tzinfo=datetime.timezone.utc), name='readout_error', unit='', value=0.04810000000000003)], [Nduv(date=datetime.datetime(2019, 10, 24, 6, 20, 49, tzinfo=datetime.timezone.utc), name='T1', unit='µs', value=74.30439407370247), Nduv(date=datetime.datetime(2019, 10, 24, 6, 24, 2, tzinfo=datetime.timezone.utc), name='T2', unit='µs', value=129.2491131487374), Nduv(date=datetime.datetime(2019, 10, 24, 8, 14, 5, tzinfo=datetime.timezone.utc), name='frequency', unit='GHz', value=5.032578873388521), Nduv(date=datetime.datetime(2019, 10, 24, 6, 20, 24, tzinfo=datetime.timezone.utc), name='readout_error', unit='', value=0.048899999999999944)], [Nduv(date=datetime.datetime(2019, 10, 24, 6, 20, 49, tzinfo=datetime.timezone.utc), name='T1', unit='µs', value=35.583768744917826), Nduv(date=datetime.datetime(2019, 10, 24, 6, 25, 1, tzinfo=datetime.timezone.utc), name='T2', unit='µs', value=25.300008169325796), Nduv(date=datetime.datetime(2019, 10, 24, 8, 14, 5, tzinfo=datetime.timezone.utc), name='frequency', unit='GHz', value=4.896241642527388), Nduv(date=datetime.datetime(2019, 10, 24, 6, 20, 24, tzinfo=datetime.timezone.utc), name='readout_error', unit='', value=0.07780000000000009)], [Nduv(date=datetime.datetime(2019, 10, 24, 6, 20, 49, tzinfo=datetime.timezone.utc), name='T1', unit='µs', value=50.49307959058766), Nduv(date=datetime.datetime(2019, 10, 24, 6, 22, 3, tzinfo=datetime.timezone.utc), name='T2', unit='µs', value=23.85508683067645), Nduv(date=datetime.datetime(2019, 10, 24, 8, 14, 5, tzinfo=datetime.timezone.utc), name='frequency', unit='GHz', value=5.029847946774447), Nduv(date=datetime.datetime(2019, 10, 24, 6, 20, 24, tzinfo=datetime.timezone.utc), name='readout_error', unit='', value=0.04139999999999999)], [Nduv(date=datetime.datetime(2019, 10, 24, 6, 20, 49, tzinfo=datetime.timezone.utc), name='T1', unit='µs', value=27.68472829976816), Nduv(date=datetime.datetime(2019, 10, 24, 6, 23, 2, tzinfo=datetime.timezone.utc), name='T2', unit='µs', value=51.92528095082223), Nduv(date=datetime.datetime(2019, 10, 24, 8, 14, 5, tzinfo=datetime.timezone.utc), name='frequency', unit='GHz', value=5.0671618215698535), Nduv(date=datetime.datetime(2019, 10, 24, 6, 20, 24, tzinfo=datetime.timezone.utc), name='readout_error', unit='', value=0.06559999999999999)], [Nduv(date=datetime.datetime(2019, 10, 24, 6, 20, 49, tzinfo=datetime.timezone.utc), name='T1', unit='µs', value=76.4537033588737), Nduv(date=datetime.datetime(2019, 10, 24, 6, 24, 2, tzinfo=datetime.timezone.utc), name='T2', unit='µs', value=83.60524726808725), Nduv(date=datetime.datetime(2019, 10, 24, 8, 14, 5, tzinfo=datetime.timezone.utc), name='frequency', unit='GHz', value=4.92382756183228), Nduv(date=datetime.datetime(2019, 10, 24, 6, 20, 24, tzinfo=datetime.timezone.utc), name='readout_error', unit='', value=0.04150000000000009)], [Nduv(date=datetime.datetime(2019, 10, 24, 6, 20, 49, tzinfo=datetime.timezone.utc), name='T1', unit='µs', value=38.897017132640514), Nduv(date=datetime.datetime(2019, 10, 24, 6, 25, 1, tzinfo=datetime.timezone.utc), name='T2', unit='µs', value=64.09191215227808), Nduv(date=datetime.datetime(2019, 10, 24, 8, 14, 5, tzinfo=datetime.timezone.utc), name='frequency', unit='GHz', value=4.974565155306263), Nduv(date=datetime.datetime(2019, 10, 24, 6, 20, 24, tzinfo=datetime.timezone.utc), name='readout_error', unit='', value=0.11880000000000002)], [Nduv(date=datetime.datetime(2019, 10, 24, 6, 20, 49, tzinfo=datetime.timezone.utc), name='T1', unit='µs', value=63.33910265741253), Nduv(date=datetime.datetime(2019, 10, 24, 6, 22, 3, tzinfo=datetime.timezone.utc), name='T2', unit='µs', value=87.2503183617196), Nduv(date=datetime.datetime(2019, 10, 24, 8, 14, 5, tzinfo=datetime.timezone.utc), name='frequency', unit='GHz', value=4.7395530712644485), Nduv(date=datetime.datetime(2019, 10, 24, 6, 20, 24, tzinfo=datetime.timezone.utc), name='readout_error', unit='', value=0.04489999999999994)], [Nduv(date=datetime.datetime(2019, 10, 24, 6, 20, 49, tzinfo=datetime.timezone.utc), name='T1', unit='µs', value=50.945954740223485), Nduv(date=datetime.datetime(2019, 10, 24, 6, 24, 2, tzinfo=datetime.timezone.utc), name='T2', unit='µs', value=80.55454004278212), Nduv(date=datetime.datetime(2019, 10, 24, 8, 14, 5, tzinfo=datetime.timezone.utc), name='frequency', unit='GHz', value=4.963381505623833), Nduv(date=datetime.datetime(2019, 10, 24, 6, 20, 24, tzinfo=datetime.timezone.utc), name='readout_error', unit='', value=0.04420000000000002)], [Nduv(date=datetime.datetime(2019, 10, 24, 6, 20, 49, tzinfo=datetime.timezone.utc), name='T1', unit='µs', value=48.21371287662247), Nduv(date=datetime.datetime(2019, 10, 24, 6, 23, 2, tzinfo=datetime.timezone.utc), name='T2', unit='µs', value=53.29401676345082), Nduv(date=datetime.datetime(2019, 10, 24, 8, 14, 5, tzinfo=datetime.timezone.utc), name='frequency', unit='GHz', value=4.9450615772870545), Nduv(date=datetime.datetime(2019, 10, 24, 6, 20, 24, tzinfo=datetime.timezone.utc), name='readout_error', unit='', value=0.04400000000000004)], [Nduv(date=datetime.datetime(2019, 10, 24, 6, 20, 49, tzinfo=datetime.timezone.utc), name='T1', unit='µs', value=58.56520253707342), Nduv(date=datetime.datetime(2019, 10, 24, 6, 24, 2, tzinfo=datetime.timezone.utc), name='T2', unit='µs', value=98.01553640936774), Nduv(date=datetime.datetime(2019, 10, 24, 8, 14, 5, tzinfo=datetime.timezone.utc), name='frequency', unit='GHz', value=5.005006039393179), Nduv(date=datetime.datetime(2019, 10, 24, 6, 20, 24, tzinfo=datetime.timezone.utc), name='readout_error', unit='', value=0.025500000000000078)], [Nduv(date=datetime.datetime(2019, 10, 24, 6, 20, 49, tzinfo=datetime.timezone.utc), name='T1', unit='µs', value=76.86149122445985), Nduv(date=datetime.datetime(2019, 10, 24, 6, 23, 2, tzinfo=datetime.timezone.utc), name='T2', unit='µs', value=119.35949760817674), Nduv(date=datetime.datetime(2019, 10, 24, 8, 14, 5, tzinfo=datetime.timezone.utc), name='frequency', unit='GHz', value=4.760086469657569), Nduv(date=datetime.datetime(2019, 10, 24, 6, 20, 24, tzinfo=datetime.timezone.utc), name='readout_error', unit='', value=0.03969999999999996)], [Nduv(date=datetime.datetime(2019, 10, 24, 6, 20, 49, tzinfo=datetime.timezone.utc), name='T1', unit='µs', value=14.447726642246199), Nduv(date=datetime.datetime(2019, 10, 24, 6, 22, 3, tzinfo=datetime.timezone.utc), name='T2', unit='µs', value=20.14083823309233), Nduv(date=datetime.datetime(2019, 10, 24, 8, 14, 5, tzinfo=datetime.timezone.utc), name='frequency', unit='GHz', value=4.968513570867175), Nduv(date=datetime.datetime(2019, 10, 24, 6, 20, 24, tzinfo=datetime.timezone.utc), name='readout_error', unit='', value=0.10640000000000005)]])\n"
     ]
    }
   ],
   "source": [
    "properties = q_backend.properties()\n",
    "print(properties)"
   ]
  },
  {
   "cell_type": "markdown",
   "metadata": {
    "slideshow": {
     "slide_type": "slide"
    }
   },
   "source": [
    "# A Prettier Device Overview\n",
    "\n",
    "Terra's Jupyter tools can display this in human-readable format. Note that explanations of much of the data below can be found in the [Qiskit Backend Specifications for OpenQASM and OpenPulse Experiments](https://arxiv.org/abs/1809.03452) paper."
   ]
  },
  {
   "cell_type": "code",
   "execution_count": 49,
   "metadata": {
    "ExecuteTime": {
     "end_time": "2019-10-24T17:59:19.392429Z",
     "start_time": "2019-10-24T17:59:19.278485Z"
    },
    "slideshow": {
     "slide_type": "-"
    }
   },
   "outputs": [],
   "source": [
    "from qiskit.tools.jupyter import *"
   ]
  },
  {
   "cell_type": "code",
   "execution_count": 50,
   "metadata": {
    "ExecuteTime": {
     "end_time": "2019-10-24T17:59:34.731325Z",
     "start_time": "2019-10-24T17:59:20.803147Z"
    },
    "slideshow": {
     "slide_type": "slide"
    }
   },
   "outputs": [
    {
     "data": {
      "application/vnd.jupyter.widget-view+json": {
       "model_id": "3cbc0cb9286c4d7a9c2db2f6c602dcac",
       "version_major": 2,
       "version_minor": 0
      },
      "text/plain": [
       "VBox(children=(HTML(value=\"<h2 style ='color:#ffffff; background-color:#000000;padding-top: 1%; padding-bottom…"
      ]
     },
     "metadata": {},
     "output_type": "display_data"
    }
   ],
   "source": [
    "%qiskit_backend_overview"
   ]
  },
  {
   "cell_type": "markdown",
   "metadata": {
    "slideshow": {
     "slide_type": "slide"
    }
   },
   "source": [
    "# A More Detailed Device View"
   ]
  },
  {
   "cell_type": "code",
   "execution_count": null,
   "metadata": {},
   "outputs": [],
   "source": [
    "q_backend"
   ]
  },
  {
   "cell_type": "markdown",
   "metadata": {
    "slideshow": {
     "slide_type": "slide"
    }
   },
   "source": [
    "# Modelling Noise in Aer Based on a Device's Properties\n",
    "\n",
    "Now that we have these properties, we want to create a noise model for the qasm_simulator which closely resembles this device. A new feature in Aer allows you to do just that. Much of the content below is drawn from [this notebook](https://github.com/Qiskit/qiskit-tutorials/blob/master/qiskit/aer/device_noise_simulation.ipynb) 📒."
   ]
  },
  {
   "cell_type": "code",
   "execution_count": 52,
   "metadata": {
    "ExecuteTime": {
     "end_time": "2019-10-24T18:03:44.049030Z",
     "start_time": "2019-10-24T18:03:44.046343Z"
    },
    "slideshow": {
     "slide_type": "-"
    }
   },
   "outputs": [],
   "source": [
    "from qiskit.providers.aer import noise"
   ]
  },
  {
   "cell_type": "code",
   "execution_count": 53,
   "metadata": {
    "ExecuteTime": {
     "end_time": "2019-10-24T18:03:46.782859Z",
     "start_time": "2019-10-24T18:03:46.736706Z"
    },
    "slideshow": {
     "slide_type": "-"
    }
   },
   "outputs": [
    {
     "name": "stdout",
     "output_type": "stream",
     "text": [
      "NoiseModel:\n",
      "  Basis gates: ['cx', 'id', 'u2', 'u3']\n",
      "  Instructions with noise: ['u3', 'cx', 'measure', 'u2']\n",
      "  Qubits with noise: [0, 1, 2, 3, 4, 5, 6, 7, 8, 9, 10, 11, 12, 13]\n",
      "  Specific qubit errors: [('u2', [0]), ('u2', [1]), ('u2', [2]), ('u2', [3]), ('u2', [4]), ('u2', [5]), ('u2', [6]), ('u2', [7]), ('u2', [8]), ('u2', [9]), ('u2', [10]), ('u2', [11]), ('u2', [12]), ('u2', [13]), ('u3', [0]), ('u3', [1]), ('u3', [2]), ('u3', [3]), ('u3', [4]), ('u3', [5]), ('u3', [6]), ('u3', [7]), ('u3', [8]), ('u3', [9]), ('u3', [10]), ('u3', [11]), ('u3', [12]), ('u3', [13]), ('cx', [1, 0]), ('cx', [1, 2]), ('cx', [2, 3]), ('cx', [4, 3]), ('cx', [4, 10]), ('cx', [5, 4]), ('cx', [5, 6]), ('cx', [5, 9]), ('cx', [6, 8]), ('cx', [7, 8]), ('cx', [9, 8]), ('cx', [9, 10]), ('cx', [11, 3]), ('cx', [11, 10]), ('cx', [11, 12]), ('cx', [12, 2]), ('cx', [13, 1]), ('cx', [13, 12]), ('measure', [0]), ('measure', [1]), ('measure', [2]), ('measure', [3]), ('measure', [4]), ('measure', [5]), ('measure', [6]), ('measure', [7]), ('measure', [8]), ('measure', [9]), ('measure', [10]), ('measure', [11]), ('measure', [12]), ('measure', [13])]\n"
     ]
    }
   ],
   "source": [
    "# List of gate times for ibmq_14_melbourne device\n",
    "# Note that the None parameter for u1, u2, u3 is because gate\n",
    "# times are the same for all qubits\n",
    "gate_times = [\n",
    "    ('u1', None, 0), ('u2', None, 50), ('u3', None, 100),\n",
    "    ('cx', [1, 0], 478), # I can add gate times for specific couplings, or all couplings\n",
    "    ('cx', [], 400)\n",
    "]\n",
    "\n",
    "# Construct the noise model from backend properties\n",
    "# and custom gate times\n",
    "noise_model = noise.device.basic_device_noise_model(properties, gate_times=gate_times)\n",
    "print(noise_model)"
   ]
  },
  {
   "cell_type": "markdown",
   "metadata": {
    "slideshow": {
     "slide_type": "slide"
    }
   },
   "source": [
    "# Executing Our QPE Circuit with Our Noise Model\n",
    "\n",
    "Now, let's use this model to simulate our QPE circuit. Note, this can take a few minutes to run."
   ]
  },
  {
   "cell_type": "code",
   "execution_count": 141,
   "metadata": {
    "ExecuteTime": {
     "end_time": "2019-10-24T18:57:22.952186Z",
     "start_time": "2019-10-24T18:57:22.535946Z"
    },
    "slideshow": {
     "slide_type": "-"
    }
   },
   "outputs": [
    {
     "data": {
      "image/png": "[encoded data removed]",
      "text/plain": [
       "<Figure size 504x360 with 1 Axes>"
      ]
     },
     "execution_count": 141,
     "metadata": {},
     "output_type": "execute_result"
    }
   ],
   "source": [
    "shots = 100\n",
    "basis_gates = noise_model.basis_gates\n",
    "\n",
    "# Select the QasmSimulator from the Aer provider\n",
    "simulator = Aer.get_backend('qasm_simulator')\n",
    "coupling_map = configuration.coupling_map\n",
    "\n",
    "# Execute noisy simulation and get counts\n",
    "result_noise = execute(x_qpe_qc, simulator, \n",
    "                       shots=shots,\n",
    "                       noise_model=noise_model,\n",
    "                       coupling_map=coupling_map,\n",
    "                       basis_gates=basis_gates).result()\n",
    "counts_noise = result_noise.get_counts(x_qpe_qc)\n",
    "plot_histogram(counts_noise, title=\"Counts for QPE circuit with depolarizing noise model\")"
   ]
  },
  {
   "cell_type": "code",
   "execution_count": 142,
   "metadata": {
    "ExecuteTime": {
     "end_time": "2019-10-24T18:57:24.232098Z",
     "start_time": "2019-10-24T18:57:24.226427Z"
    },
    "slideshow": {
     "slide_type": "slide"
    }
   },
   "outputs": [
    {
     "data": {
      "text/plain": [
       "0.6275"
      ]
     },
     "execution_count": 142,
     "metadata": {},
     "output_type": "execute_result"
    }
   ],
   "source": [
    "# And now our phase estimate:\n",
    "angles = np.array([v*int(k, 2) for k, v in counts_noise.items()]) / shots / 2**(n-1)\n",
    "res = 2*sum(angles)\n",
    "np.around(res, decimals=5)"
   ]
  },
  {
   "cell_type": "markdown",
   "metadata": {},
   "source": [
    "This is not great (we'll investigate why in a moment), but let's try running on the **Qauntum hardware anyway 🌈**."
   ]
  },
  {
   "cell_type": "markdown",
   "metadata": {
    "slideshow": {
     "slide_type": "slide"
    }
   },
   "source": [
    "# Executing on Quantum Hardware\n",
    "\n",
    "### Back again to our circuit:"
   ]
  },
  {
   "cell_type": "code",
   "execution_count": 143,
   "metadata": {
    "ExecuteTime": {
     "end_time": "2019-10-24T18:57:29.897109Z",
     "start_time": "2019-10-24T18:57:29.884652Z"
    },
    "slideshow": {
     "slide_type": "-"
    }
   },
   "outputs": [
    {
     "data": {
      "text/html": [
       "<pre style=\"word-wrap: normal;white-space: pre;background: #fff0;line-height: 1.1;font-family: &quot;Courier New&quot;,Courier,monospace\">                        ░ ┌───┐           ░ ┌───┐                                ░ ┌─┐      \n",
       "q118_0: |0>─────────────░─┤ H ├──■────────░─┤ H ├─■───────────■──────────────────░─┤M├──────\n",
       "                        ░ ├───┤  │        ░ └───┘ │pi/2 ┌───┐ │                  ░ └╥┘┌─┐   \n",
       "q118_1: |0>─────────────░─┤ H ├──┼────────░───────■─────┤ H ├─┼──────■───────────░──╫─┤M├───\n",
       "                        ░ ├───┤  │        ░             └───┘ │pi/4  │pi/2 ┌───┐ ░  ║ └╥┘┌─┐\n",
       "q118_2: |0>─────────────░─┤ H ├──┼────■───░───────────────────■──────■─────┤ H ├─░──╫──╫─┤M├\n",
       "           ┌──────────┐ ░ └───┘┌─┴─┐┌─┴─┐ ░                                └───┘ ░  ║  ║ └╥┘\n",
       "q118_3: |0>┤ Rx(pi/2) ├─░──────┤ X ├┤ X ├─░──────────────────────────────────────░──╫──╫──╫─\n",
       "           └──────────┘ ░      └───┘└───┘ ░                                      ░  ║  ║  ║ \n",
       "  c10_0: 0 ═════════════════════════════════════════════════════════════════════════╩══╬══╬═\n",
       "                                                                                       ║  ║ \n",
       "  c10_1: 0 ════════════════════════════════════════════════════════════════════════════╩══╬═\n",
       "                                                                                          ║ \n",
       "  c10_2: 0 ═══════════════════════════════════════════════════════════════════════════════╩═\n",
       "                                                                                            \n",
       "  c10_3: 0 ═════════════════════════════════════════════════════════════════════════════════\n",
       "                                                                                            </pre>"
      ],
      "text/plain": [
       "<qiskit.visualization.text.TextDrawing at 0x122687e10>"
      ]
     },
     "execution_count": 143,
     "metadata": {},
     "output_type": "execute_result"
    }
   ],
   "source": [
    "x_qpe_qc.draw(line_length=200)"
   ]
  },
  {
   "cell_type": "markdown",
   "metadata": {
    "slideshow": {
     "slide_type": "slide"
    }
   },
   "source": [
    "Let's briefly peek at what the transpiler does to the circuit to allow it to execute on our selected device:"
   ]
  },
  {
   "cell_type": "code",
   "execution_count": 144,
   "metadata": {
    "ExecuteTime": {
     "end_time": "2019-10-24T18:57:39.572903Z",
     "start_time": "2019-10-24T18:57:39.373378Z"
    },
    "scrolled": true
   },
   "outputs": [
    {
     "data": {
      "text/html": [
       "<pre style=\"word-wrap: normal;white-space: pre;background: #fff0;line-height: 1.1;font-family: &quot;Courier New&quot;,Courier,monospace\">                                     ░ ┌──────────┐     ┌───┐                ░ ┌──────────┐                       ┌──────────┐                                                  ┌───┐┌───────────┐┌───┐┌──────────┐ ░    ┌─┐   \n",
       "     (q1180) q0|0>───────────────────░─┤ U2(0,pi) ├──■──┤ X ├──■─────────────░─┤ U1(pi/4) ├──■─────────────────■──┤ U2(0,pi) ├──────────────────────────────────────────────────┤ X ├┤ U1(-pi/4) ├┤ X ├┤ U1(pi/4) ├─░────┤M├───\n",
       "                                     ░ ├──────────┤┌─┴─┐└─┬─┘┌─┴─┐           ░ ├──────────┤┌─┴─┐┌───────────┐┌─┴─┐├──────────┤┌───┐┌───────────┐┌───┐┌──────────┐     ┌───┐     └─┬─┘└───────────┘└─┬─┘├──────────┤ ░    └╥┘┌─┐\n",
       "     (q1181) q1|0>───────────────────░─┤ U2(0,pi) ├┤ X ├──■──┤ X ├──■────────░─┤ U2(0,pi) ├┤ X ├┤ U1(-pi/4) ├┤ X ├┤ U1(pi/4) ├┤ X ├┤ U1(-pi/8) ├┤ X ├┤ U1(pi/8) ├──■──┤ X ├──■────■─────────────────■──┤ U2(0,pi) ├─░─────╫─┤M├\n",
       "                                     ░ ├──────────┤└───┘┌───┐└───┘┌─┴─┐┌───┐ ░ └──────────┘└───┘└───┬───┬───┘└───┘└──────────┘└─┬─┘└───────────┘└─┬─┘├──────────┤┌─┴─┐└─┬─┘┌─┴─┐                       └──────────┘ ░ ┌─┐ ║ └╥┘\n",
       "     (q1182) q2|0>───────────────────░─┤ U2(0,pi) ├──■──┤ X ├──■──┤ X ├┤ X ├─░───────────────■──────┤ X ├──────■────────────────■─────────────────■──┤ U1(pi/4) ├┤ X ├──■──┤ X ├────────────────────────────────────░─┤M├─╫──╫─\n",
       "                  ┌────────────────┐ ░ └──────────┘┌─┴─┐└─┬─┘┌─┴─┐└───┘└─┬─┘ ░ ┌──────────┐┌─┴─┐    └─┬─┘    ┌─┴─┐                                   └──────────┘└───┘     └───┘                                    ░ └╥┘ ║  ║ \n",
       "     (q1183) q3|0>┤ U2(-pi/2,pi/2) ├─░─────────────┤ X ├──■──┤ X ├───────■───░─┤ U1(pi/8) ├┤ X ├──────■──────┤ X ├──────────────────────────────────────────────────────────────────────────────────────────────────░──╫──╫──╫─\n",
       "                  └────────────────┘ ░             └───┘     └───┘           ░ └──────────┘└───┘             └───┘                                                                                                  ░  ║  ║  ║ \n",
       "  (ancilla0) q4|0>─────────────────────────────────────────────────────────────────────────────────────────────────────────────────────────────────────────────────────────────────────────────────────────────────────╫──╫──╫─\n",
       "                                                                                                                                                                                                                       ║  ║  ║ \n",
       "  (ancilla1) q5|0>─────────────────────────────────────────────────────────────────────────────────────────────────────────────────────────────────────────────────────────────────────────────────────────────────────╫──╫──╫─\n",
       "                                                                                                                                                                                                                       ║  ║  ║ \n",
       "  (ancilla2) q6|0>─────────────────────────────────────────────────────────────────────────────────────────────────────────────────────────────────────────────────────────────────────────────────────────────────────╫──╫──╫─\n",
       "                                                                                                                                                                                                                       ║  ║  ║ \n",
       "  (ancilla3) q7|0>─────────────────────────────────────────────────────────────────────────────────────────────────────────────────────────────────────────────────────────────────────────────────────────────────────╫──╫──╫─\n",
       "                                                                                                                                                                                                                       ║  ║  ║ \n",
       "  (ancilla4) q8|0>─────────────────────────────────────────────────────────────────────────────────────────────────────────────────────────────────────────────────────────────────────────────────────────────────────╫──╫──╫─\n",
       "                                                                                                                                                                                                                       ║  ║  ║ \n",
       "  (ancilla5) q9|0>─────────────────────────────────────────────────────────────────────────────────────────────────────────────────────────────────────────────────────────────────────────────────────────────────────╫──╫──╫─\n",
       "                                                                                                                                                                                                                       ║  ║  ║ \n",
       " (ancilla6) q10|0>─────────────────────────────────────────────────────────────────────────────────────────────────────────────────────────────────────────────────────────────────────────────────────────────────────╫──╫──╫─\n",
       "                                                                                                                                                                                                                       ║  ║  ║ \n",
       " (ancilla7) q11|0>─────────────────────────────────────────────────────────────────────────────────────────────────────────────────────────────────────────────────────────────────────────────────────────────────────╫──╫──╫─\n",
       "                                                                                                                                                                                                                       ║  ║  ║ \n",
       " (ancilla8) q12|0>─────────────────────────────────────────────────────────────────────────────────────────────────────────────────────────────────────────────────────────────────────────────────────────────────────╫──╫──╫─\n",
       "                                                                                                                                                                                                                       ║  ║  ║ \n",
       " (ancilla9) q13|0>─────────────────────────────────────────────────────────────────────────────────────────────────────────────────────────────────────────────────────────────────────────────────────────────────────╫──╫──╫─\n",
       "                                                                                                                                                                                                                       ║  ║  ║ \n",
       "(ancilla10) q14|0>─────────────────────────────────────────────────────────────────────────────────────────────────────────────────────────────────────────────────────────────────────────────────────────────────────╫──╫──╫─\n",
       "                                                                                                                                                                                                                       ║  ║  ║ \n",
       "(ancilla11) q15|0>─────────────────────────────────────────────────────────────────────────────────────────────────────────────────────────────────────────────────────────────────────────────────────────────────────╫──╫──╫─\n",
       "                                                                                                                                                                                                                       ║  ║  ║ \n",
       "(ancilla12) q16|0>─────────────────────────────────────────────────────────────────────────────────────────────────────────────────────────────────────────────────────────────────────────────────────────────────────╫──╫──╫─\n",
       "                                                                                                                                                                                                                       ║  ║  ║ \n",
       "(ancilla13) q17|0>─────────────────────────────────────────────────────────────────────────────────────────────────────────────────────────────────────────────────────────────────────────────────────────────────────╫──╫──╫─\n",
       "                                                                                                                                                                                                                       ║  ║  ║ \n",
       "(ancilla14) q18|0>─────────────────────────────────────────────────────────────────────────────────────────────────────────────────────────────────────────────────────────────────────────────────────────────────────╫──╫──╫─\n",
       "                                                                                                                                                                                                                       ║  ║  ║ \n",
       "(ancilla15) q19|0>─────────────────────────────────────────────────────────────────────────────────────────────────────────────────────────────────────────────────────────────────────────────────────────────────────╫──╫──╫─\n",
       "                                                                                                                                                                                                                       ║  ║  ║ \n",
       "         c10_0: 0 ═════════════════════════════════════════════════════════════════════════════════════════════════════════════════════════════════════════════════════════════════════════════════════════════════════╩══╬══╬═\n",
       "                                                                                                                                                                                                                          ║  ║ \n",
       "         c10_1: 0 ════════════════════════════════════════════════════════════════════════════════════════════════════════════════════════════════════════════════════════════════════════════════════════════════════════╩══╬═\n",
       "                                                                                                                                                                                                                             ║ \n",
       "         c10_2: 0 ═══════════════════════════════════════════════════════════════════════════════════════════════════════════════════════════════════════════════════════════════════════════════════════════════════════════╩═\n",
       "                                                                                                                                                                                                                               \n",
       "         c10_3: 0 ═════════════════════════════════════════════════════════════════════════════════════════════════════════════════════════════════════════════════════════════════════════════════════════════════════════════\n",
       "                                                                                                                                                                                                                               </pre>"
      ],
      "text/plain": [
       "<qiskit.visualization.text.TextDrawing at 0x122d44278>"
      ]
     },
     "execution_count": 144,
     "metadata": {},
     "output_type": "execute_result"
    }
   ],
   "source": [
    "chewed_x_qpe = transpile(x_qpe_qc, q_backend)\n",
    "chewed_x_qpe.draw(line_length=1000)"
   ]
  },
  {
   "cell_type": "markdown",
   "metadata": {
    "slideshow": {
     "slide_type": "slide"
    }
   },
   "source": [
    "That's a lot of swaps! Let's try a higher optimization level."
   ]
  },
  {
   "cell_type": "code",
   "execution_count": 145,
   "metadata": {
    "ExecuteTime": {
     "end_time": "2019-10-24T18:58:20.809668Z",
     "start_time": "2019-10-24T18:58:20.457303Z"
    },
    "scrolled": true
   },
   "outputs": [
    {
     "data": {
      "text/html": [
       "<pre style=\"word-wrap: normal;white-space: pre;background: #fff0;line-height: 1.1;font-family: &quot;Courier New&quot;,Courier,monospace\">                                                                                                                                                                                                                                                                                           \n",
       "  (ancilla0) q0|0>─────────────────────────────────────────────────────────────────────────────────────────────────────────────────────────────────────────────────────────────────────────────────────────────────────────────────────────────────────────────────────────────────────────\n",
       "                                                                                                                                                                                                                                                                                           \n",
       "  (ancilla1) q1|0>─────────────────────────────────────────────────────────────────────────────────────────────────────────────────────────────────────────────────────────────────────────────────────────────────────────────────────────────────────────────────────────────────────────\n",
       "                                                                                                                                                                                                                                                                                           \n",
       "  (ancilla2) q2|0>─────────────────────────────────────────────────────────────────────────────────────────────────────────────────────────────────────────────────────────────────────────────────────────────────────────────────────────────────────────────────────────────────────────\n",
       "                                                                                                                                                                                                                                                                                           \n",
       "  (ancilla3) q3|0>─────────────────────────────────────────────────────────────────────────────────────────────────────────────────────────────────────────────────────────────────────────────────────────────────────────────────────────────────────────────────────────────────────────\n",
       "                                                                                                                                                                                                                                                                                           \n",
       "  (ancilla4) q4|0>─────────────────────────────────────────────────────────────────────────────────────────────────────────────────────────────────────────────────────────────────────────────────────────────────────────────────────────────────────────────────────────────────────────\n",
       "                                                                                                                                                                                                                                                                                           \n",
       "  (ancilla5) q5|0>─────────────────────────────────────────────────────────────────────────────────────────────────────────────────────────────────────────────────────────────────────────────────────────────────────────────────────────────────────────────────────────────────────────\n",
       "                                                                                                                                                                                                                                                                                           \n",
       "  (ancilla6) q6|0>─────────────────────────────────────────────────────────────────────────────────────────────────────────────────────────────────────────────────────────────────────────────────────────────────────────────────────────────────────────────────────────────────────────\n",
       "                                                                                                                                                                                                                                                                                           \n",
       "  (ancilla7) q7|0>─────────────────────────────────────────────────────────────────────────────────────────────────────────────────────────────────────────────────────────────────────────────────────────────────────────────────────────────────────────────────────────────────────────\n",
       "                                                                                                                                                                                                                                                                                           \n",
       "  (ancilla8) q8|0>─────────────────────────────────────────────────────────────────────────────────────────────────────────────────────────────────────────────────────────────────────────────────────────────────────────────────────────────────────────────────────────────────────────\n",
       "                                                                                                                                                                                                                                                                                           \n",
       "  (ancilla9) q9|0>─────────────────────────────────────────────────────────────────────────────────────────────────────────────────────────────────────────────────────────────────────────────────────────────────────────────────────────────────────────────────────────────────────────\n",
       "                                                                                                                                                                                                                                                                                           \n",
       "(ancilla10) q10|0>─────────────────────────────────────────────────────────────────────────────────────────────────────────────────────────────────────────────────────────────────────────────────────────────────────────────────────────────────────────────────────────────────────────\n",
       "                  ┌────────────────┐ ░ ┌───────────────────────┐     ┌───────────────────┐     ┌──────────────────┐      ░  ┌──────────┐     ┌───┐                                                                                                                              ░          \n",
       "    (q1183) q11|0>┤ U2(-pi/2,pi/2) ├─░─┤ U3(pi/1,-7pi/8,5pi/8) ├──■──┤ U3(pi/2,pi,-pi/2) ├──■──┤ U3(pi/2,3pi/2,0) ├──────░──┤ U2(0,pi) ├──■──┤ X ├──■───────────────────────────────────────────────────────────────────────────────────────────────────────────────────────────░──────────\n",
       "                  └────────────────┘ ░ └───────────────────────┘  │  └───────────────────┘  │  └──────────────────┘      ░  └──────────┘  │  └─┬─┘  │                                                                                                                           ░          \n",
       "(ancilla11) q12|0>────────────────────────────────────────────────┼─────────────────────────┼─────────────────────────────────────────────┼────┼────┼──────────────────────────────────────────────────────────────────────────────────────────────────────────────────────────────────────\n",
       "                                                                  │                         │                                             │    │    │                                                                                                                                      \n",
       "(ancilla12) q13|0>────────────────────────────────────────────────┼─────────────────────────┼─────────────────────────────────────────────┼────┼────┼──────────────────────────────────────────────────────────────────────────────────────────────────────────────────────────────────────\n",
       "                                                                  │                         │                                             │    │    │                                                                                                                                      \n",
       "(ancilla13) q14|0>────────────────────────────────────────────────┼─────────────────────────┼─────────────────────────────────────────────┼────┼────┼──────────────────────────────────────────────────────────────────────────────────────────────────────────────────────────────────────\n",
       "                                     ░        ┌──────────┐        │                         │                            ░ ┌───────────┐  │    │    │                                                                                                              ┌──────────┐ ░       ┌─┐\n",
       "    (q1182) q15|0>───────────────────░────────┤ U2(0,pi) ├────────┼─────────────────────────┼────────────────────────■───░─┤ U1(3pi/8) ├──┼────┼────┼───────────────────────────────────────■─────────────────■───────────────────────────────■─────────────────■──┤ U2(0,pi) ├─░───────┤M├\n",
       "                                     ░     ┌──┴──────────┴─┐    ┌─┴─┐    ┌────────────┐   ┌─┴─┐    ┌──────────┐    ┌─┴─┐ ░ └───────────┘┌─┴─┐  │  ┌─┴─┐┌───┐┌───────────┐┌───┐┌──────────┐┌─┴─┐┌───────────┐┌─┴─┐┌──────────┐     ┌───┐     ┌─┴─┐┌───────────┐┌─┴─┐├──────────┤ ░    ┌─┐└╥┘\n",
       "    (q1180) q16|0>───────────────────░─────┤ U3(0,-pi/2,0) ├────┤ X ├────┤ U2(pi/2,0) ├───┤ X ├────┤ U2(pi,0) ├────┤ X ├─░──────────────┤ X ├──■──┤ X ├┤ X ├┤ U1(-pi/4) ├┤ X ├┤ U1(pi/4) ├┤ X ├┤ U1(-pi/8) ├┤ X ├┤ U1(pi/8) ├──■──┤ X ├──■──┤ X ├┤ U1(-pi/4) ├┤ X ├┤ U1(pi/4) ├─░────┤M├─╫─\n",
       "                                     ░     └──┬──────────┬─┘    └───┘    └────────────┘   └───┘    └──────────┘    └───┘ ░  ┌──────────┐└───┘     └───┘└─┬─┘└───────────┘└─┬─┘├──────────┤└───┘└───────────┘└───┘└──────────┘┌─┴─┐└─┬─┘┌─┴─┐└───┘└───────────┘└───┘└──────────┘ ░ ┌─┐└╥┘ ║ \n",
       "    (q1181) q17|0>───────────────────░────────┤ U2(0,pi) ├───────────────────────────────────────────────────────────────░──┤ U1(pi/4) ├─────────────────■─────────────────■──┤ U2(0,pi) ├───────────────────────────────────┤ X ├──■──┤ X ├────────────────────────────────────░─┤M├─╫──╫─\n",
       "                                     ░        └──────────┘                                                               ░  └──────────┘                                      └──────────┘                                   └───┘     └───┘                                    ░ └╥┘ ║  ║ \n",
       "(ancilla14) q18|0>─────────────────────────────────────────────────────────────────────────────────────────────────────────────────────────────────────────────────────────────────────────────────────────────────────────────────────────────────────────────────────────────────╫──╫──╫─\n",
       "                                                                                                                                                                                                                                                                                   ║  ║  ║ \n",
       "(ancilla15) q19|0>─────────────────────────────────────────────────────────────────────────────────────────────────────────────────────────────────────────────────────────────────────────────────────────────────────────────────────────────────────────────────────────────────╫──╫──╫─\n",
       "                                                                                                                                                                                                                                                                                   ║  ║  ║ \n",
       "         c10_0: 0 ═════════════════════════════════════════════════════════════════════════════════════════════════════════════════════════════════════════════════════════════════════════════════════════════════════════════════════════════════════════════════════════════════╩══╬══╬═\n",
       "                                                                                                                                                                                                                                                                                      ║  ║ \n",
       "         c10_1: 0 ════════════════════════════════════════════════════════════════════════════════════════════════════════════════════════════════════════════════════════════════════════════════════════════════════════════════════════════════════════════════════════════════════╩══╬═\n",
       "                                                                                                                                                                                                                                                                                         ║ \n",
       "         c10_2: 0 ═══════════════════════════════════════════════════════════════════════════════════════════════════════════════════════════════════════════════════════════════════════════════════════════════════════════════════════════════════════════════════════════════════════╩═\n",
       "                                                                                                                                                                                                                                                                                           \n",
       "         c10_3: 0 ═════════════════════════════════════════════════════════════════════════════════════════════════════════════════════════════════════════════════════════════════════════════════════════════════════════════════════════════════════════════════════════════════════════\n",
       "                                                                                                                                                                                                                                                                                           </pre>"
      ],
      "text/plain": [
       "<qiskit.visualization.text.TextDrawing at 0x1230f5da0>"
      ]
     },
     "execution_count": 145,
     "metadata": {},
     "output_type": "execute_result"
    }
   ],
   "source": [
    "chewed_x_qpe = transpile(x_qpe_qc, q_backend, optimization_level=3)\n",
    "chewed_x_qpe.draw(line_length=1000)"
   ]
  },
  {
   "cell_type": "markdown",
   "metadata": {
    "slideshow": {
     "slide_type": "slide"
    }
   },
   "source": [
    "# Now, Executing Our Circuit (Optimization=1):"
   ]
  },
  {
   "cell_type": "code",
   "execution_count": 59,
   "metadata": {
    "ExecuteTime": {
     "end_time": "2019-10-24T18:05:22.874759Z",
     "start_time": "2019-10-24T18:05:20.077245Z"
    },
    "slideshow": {
     "slide_type": "-"
    }
   },
   "outputs": [],
   "source": [
    "shots = 8192        # Number of shots to run the program (experiment); maximum is 8192 shots.\n",
    "job_exp = execute(x_qpe_qc, q_backend, shots = shots)"
   ]
  },
  {
   "cell_type": "code",
   "execution_count": null,
   "metadata": {
    "slideshow": {
     "slide_type": "fragment"
    }
   },
   "outputs": [],
   "source": [
    "# There's a nice utility for monitoring execution:\n",
    "%qiskit_job_watcher"
   ]
  },
  {
   "cell_type": "code",
   "execution_count": 62,
   "metadata": {
    "ExecuteTime": {
     "end_time": "2019-10-24T18:06:44.635897Z",
     "start_time": "2019-10-24T18:06:43.810720Z"
    },
    "slideshow": {
     "slide_type": "fragment"
    }
   },
   "outputs": [
    {
     "data": {
      "application/vnd.jupyter.widget-view+json": {
       "model_id": "72d7164558df49368f4e7fcc40ada4d2",
       "version_major": 2,
       "version_minor": 0
      },
      "text/plain": [
       "Accordion(children=(VBox(layout=Layout(max_width='710px', min_width='710px')),), layout=Layout(max_height='500…"
      ]
     },
     "metadata": {},
     "output_type": "display_data"
    },
    {
     "data": {
      "application/javascript": [
       "$('div.job_widget')\n",
       "        .detach()\n",
       "        .appendTo($('#header'))\n",
       "        .css({\n",
       "            'z-index': 999,\n",
       "             'position': 'fixed',\n",
       "            'box-shadow': '5px 5px 5px -3px black',\n",
       "            'opacity': 0.95,\n",
       "            'float': 'left,'\n",
       "        })\n",
       "        "
      ],
      "text/plain": [
       "<IPython.core.display.Javascript object>"
      ]
     },
     "metadata": {},
     "output_type": "display_data"
    },
    {
     "data": {
      "text/plain": [
       "<JobStatus.RUNNING: 'job is actively running'>"
      ]
     },
     "execution_count": 62,
     "metadata": {},
     "output_type": "execute_result"
    }
   ],
   "source": [
    "# Or we can manually heck the job status\n",
    "job_exp.status()"
   ]
  },
  {
   "cell_type": "markdown",
   "metadata": {},
   "source": [
    "# 🚨Note🚨: 'job is actively running' includes waiting in the queue!"
   ]
  },
  {
   "cell_type": "markdown",
   "metadata": {
    "slideshow": {
     "slide_type": "slide"
    }
   },
   "source": [
    "Note that I increase the timeout and wait time below considerably - this is completely necessary. The defaults are way too short."
   ]
  },
  {
   "cell_type": "code",
   "execution_count": 63,
   "metadata": {
    "ExecuteTime": {
     "end_time": "2019-10-24T18:10:38.164400Z",
     "start_time": "2019-10-24T18:10:37.154444Z"
    },
    "slideshow": {
     "slide_type": "fragment"
    }
   },
   "outputs": [
    {
     "data": {
      "image/png": "[encoded data removed]",
      "text/plain": [
       "<Figure size 504x360 with 1 Axes>"
      ]
     },
     "execution_count": 63,
     "metadata": {},
     "output_type": "execute_result"
    }
   ],
   "source": [
    "# We recommend increasing the timeout to 30 minutes to avoid timeout errors when the queue is long.\n",
    "result_real = job_exp.result(timeout=3600, wait=5)\n",
    "counts = result_real.get_counts(x_qpe_qc)\n",
    "plot_histogram(counts)"
   ]
  },
  {
   "cell_type": "code",
   "execution_count": 64,
   "metadata": {
    "ExecuteTime": {
     "end_time": "2019-10-24T18:10:39.390867Z",
     "start_time": "2019-10-24T18:10:39.384888Z"
    },
    "slideshow": {
     "slide_type": "fragment"
    }
   },
   "outputs": [
    {
     "data": {
      "text/plain": [
       "0.73526"
      ]
     },
     "execution_count": 64,
     "metadata": {},
     "output_type": "execute_result"
    }
   ],
   "source": [
    "angles = np.array([v*int(k, 2) for k, v in counts.items()]) / shots / 2**(n-1)\n",
    "res = 2*sum(angles)\n",
    "np.around(res, decimals=5)"
   ]
  },
  {
   "cell_type": "markdown",
   "metadata": {
    "slideshow": {
     "slide_type": "-"
    }
   },
   "source": [
    "Not ideal, but not terrible!"
   ]
  },
  {
   "cell_type": "markdown",
   "metadata": {
    "slideshow": {
     "slide_type": "slide"
    }
   },
   "source": [
    "# Rerunning with a higher optimization level:"
   ]
  },
  {
   "cell_type": "code",
   "execution_count": 146,
   "metadata": {
    "ExecuteTime": {
     "end_time": "2019-10-24T19:01:58.604602Z",
     "start_time": "2019-10-24T19:01:55.832464Z"
    }
   },
   "outputs": [],
   "source": [
    "shots = 8192        # Number of shots to run the program (experiment); maximum is 8192 shots.\n",
    "job_exp_opt_3 = execute(x_qpe_qc, q_backend, shots = shots, optimization_level=3)"
   ]
  },
  {
   "cell_type": "code",
   "execution_count": 148,
   "metadata": {
    "ExecuteTime": {
     "end_time": "2019-10-24T19:03:22.915295Z",
     "start_time": "2019-10-24T19:03:22.045975Z"
    },
    "slideshow": {
     "slide_type": "fragment"
    }
   },
   "outputs": [
    {
     "data": {
      "text/plain": [
       "0.59531"
      ]
     },
     "execution_count": 148,
     "metadata": {},
     "output_type": "execute_result"
    }
   ],
   "source": [
    "counts_opt_3 = job_exp_opt_3.result(timeout=3600, wait=5).get_counts(x_qpe_qc)\n",
    "angles_opt_3 = np.array([v*int(k, 2) for k, v in counts_opt_3.items()]) / shots / 2**(n-1)\n",
    "np.around(2*sum(angles_opt_3), decimals=5)"
   ]
  },
  {
   "cell_type": "markdown",
   "metadata": {},
   "source": [
    "Maybe just luck, but pretty neat!"
   ]
  },
  {
   "cell_type": "markdown",
   "metadata": {
    "slideshow": {
     "slide_type": "slide"
    }
   },
   "source": [
    "FYI, you can also retrieve an old job by its job_id."
   ]
  },
  {
   "cell_type": "code",
   "execution_count": 65,
   "metadata": {
    "ExecuteTime": {
     "end_time": "2019-10-24T18:11:02.405158Z",
     "start_time": "2019-10-24T18:11:00.667343Z"
    },
    "slideshow": {
     "slide_type": "-"
    }
   },
   "outputs": [
    {
     "name": "stdout",
     "output_type": "stream",
     "text": [
      "JOB ID: 5db1e7e28fecb200125e6145\n"
     ]
    },
    {
     "data": {
      "text/plain": [
       "{'0110': 1292,\n",
       " '0101': 300,\n",
       " '0001': 477,\n",
       " '0111': 619,\n",
       " '0010': 761,\n",
       " '0011': 1999,\n",
       " '0100': 628,\n",
       " '0000': 2116}"
      ]
     },
     "execution_count": 65,
     "metadata": {},
     "output_type": "execute_result"
    }
   ],
   "source": [
    "jobID = job_exp.job_id()\n",
    "\n",
    "print('JOB ID: {}'.format(jobID))\n",
    "\n",
    "job_get=q_backend.retrieve_job(jobID)\n",
    "job_get.result().get_counts(x_qpe_qc)"
   ]
  },
  {
   "cell_type": "markdown",
   "metadata": {
    "slideshow": {
     "slide_type": "slide"
    }
   },
   "source": [
    "# Tips and tricks\n",
    "\n",
    "* Put many circuits into a single execution!\n",
    "  * Simulators will (generally) execute these in parallel\n",
    "  * Quantum Hardware does a lot of calibration for each new job, so if you send 100 jobs it will generally take ~100x as long as one job with 100 circuits, even if the circuits are completely different!\n",
    "* Increase your timeout when waiting for results! Default is 30 seconds, better to set to 1800 (30 mins)\n",
    "  * See notebook above (ctrl-f for 'timeout')\n",
    "* Consider commenting out Qobj validation if you need more speed in an iterative algo, but don’t tell anyone who told you so!\n",
    "* Use an IDE!! A lot of people at IBM use Pycharm. Being able to step through the code is critical!"
   ]
  },
  {
   "cell_type": "markdown",
   "metadata": {
    "slideshow": {
     "slide_type": "slide"
    }
   },
   "source": [
    "* Look at the debug log messages. There is a ton of important info in there.\n",
    "  * Even better, save them to a file."
   ]
  },
  {
   "cell_type": "code",
   "execution_count": 74,
   "metadata": {
    "slideshow": {
     "slide_type": "fragment"
    }
   },
   "outputs": [],
   "source": [
    "import logging\n",
    "logging.getLogger('qiskit').setLevel(logging.DEBUG)"
   ]
  },
  {
   "cell_type": "markdown",
   "metadata": {
    "slideshow": {
     "slide_type": "fragment"
    }
   },
   "source": [
    "Redirecting logs to a file:\n",
    "\n",
    "```\n",
    "# Redirecting debug logs to a file (can't be done in colab):\n",
    "    loggera = logging.getLogger('qiskit_aqua')\n",
    "    loggera.setLevel(logging.DEBUG)\n",
    "    loggerq = logging.getLogger('qiskit')\n",
    "    loggerq.setLevel(logging.DEBUG)\n",
    "    formatter = logging.Formatter(fmt='%(asctime)s %(levelname)-8s %(message)s', datefmt='%Y-%m-%d %H:%M:%S')\n",
    "    hdlr = logging.FileHandler(outdir + log_file_name, mode='w')\n",
    "    hdlr.setFormatter(formatter)\n",
    "    loggera.addHandler(hdlr)\n",
    "    loggerq.addHandler(hdlr)\n",
    "    print('\\nlog file: {}'.format(outdir + log_file_name))\n",
    "# <build, execute, etc.>\n",
    "# close up handlers\n",
    "    loggera.removeHandler(hdlr)\n",
    "    loggerq.removeHandler(hdlr)\n",
    "    hdlr.close()\n",
    "```"
   ]
  },
  {
   "cell_type": "markdown",
   "metadata": {
    "slideshow": {
     "slide_type": "slide"
    }
   },
   "source": [
    "Handling errors from the hardware and APIs is hard! Don't reinvent the wheel. The Aqua team have built a sophisticated system for robust and fault-resilient execution. I highly recommend you use it, or copy its methods: [run_circuits.py](https://github.com/Qiskit/qiskit-aqua/blob/master/qiskit/aqua/utils/run_circuits.py)"
   ]
  },
  {
   "cell_type": "markdown",
   "metadata": {
    "slideshow": {
     "slide_type": "slide"
    }
   },
   "source": [
    "# Learning more\n",
    "\n",
    "The [qiskit-iqx-tutorials](https://github.com/Qiskit/qiskit-iqx-tutorials/) 📒 and [qiskit-community-tutorials](https://github.com/Qiskit/qiskit-community-tutorials) repos on Github have dozens of thoughtful and sophisticated tutorials. I highly recommend going through both to ramp up. I learn new things every time I look through them, and reference them regularly.\n",
    "\n",
    "The order in which I investigate if I'm confused about something:\n",
    "* Look at the tutorials for an example\n",
    "* Look at the code directly to understand the behavior\n",
    "* Look at the tests for an example\n",
    "* Debug in my IDE, relying heavily on inspecting objects during execution\n",
    "* Look at the documentation"
   ]
  },
  {
   "cell_type": "markdown",
   "metadata": {
    "slideshow": {
     "slide_type": "slide"
    }
   },
   "source": [
    "# There is also a [Qiskit Textbook](https://community.qiskit.org/textbook/)! \n",
    "\n",
    "# And a [youtube series](https://www.youtube.com/playlist?list=PLOFEBzvs-Vvp2xg9-POLJhQwtVktlYGbY)!\n",
    "\n",
    "Both by the extremely talented Abe Asfaw.\n"
   ]
  },
  {
   "cell_type": "markdown",
   "metadata": {
    "slideshow": {
     "slide_type": "slide"
    }
   },
   "source": [
    "# Learning More - A Longer Course\n",
    "\n",
    "[This doc](https://docs.google.com/document/d/1WoUQky2NXdbrdGkxaUA28VE7W3fryTQG6ezn8Fw-l4E/edit) details a longer course to fluency in Quantum Programming."
   ]
  }
 ],
 "metadata": {
  "celltoolbar": "Slideshow",
  "kernelspec": {
   "display_name": "Education",
   "language": "python",
   "name": "education"
  },
  "language_info": {
   "codemirror_mode": {
    "name": "ipython",
    "version": 3
   },
   "file_extension": ".py",
   "mimetype": "text/x-python",
   "name": "python",
   "nbconvert_exporter": "python",
   "pygments_lexer": "ipython3",
   "version": "3.6.5"
  },
  "toc": {
   "base_numbering": 1,
   "nav_menu": {},
   "number_sections": false,
   "sideBar": true,
   "skip_h1_title": true,
   "title_cell": "Table of Contents",
   "title_sidebar": "Contents",
   "toc_cell": false,
   "toc_position": {
    "height": "calc(100% - 180px)",
    "left": "10px",
    "top": "150px",
    "width": "306.188px"
   },
   "toc_section_display": false,
   "toc_window_display": false
  }
 },
 "nbformat": 4,
 "nbformat_minor": 2
}
